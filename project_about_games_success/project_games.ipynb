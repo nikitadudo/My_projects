{
 "cells": [
  {
   "cell_type": "markdown",
   "metadata": {},
   "source": [
    "## Выявление закономерностей определяющих успешность игры"
   ]
  },
  {
   "cell_type": "markdown",
   "metadata": {},
   "source": [
    "Описание проекта: Интернет-магазину «Стримчик», который продаёт по всему миру компьютерные игры, нужно выявить определяющие успешность игры закономерности. Это позволит сделать ставку на потенциально популярный продукт и спланировать рекламные кампании.\n"
   ]
  },
  {
   "cell_type": "markdown",
   "metadata": {},
   "source": [
    "Источник данных: Исторические данные о продажах игр, оценках пользователей и экспертов, жанрах и платформах из открытых источников"
   ]
  },
  {
   "cell_type": "markdown",
   "metadata": {},
   "source": [
    "## Изучение данных из файла"
   ]
  },
  {
   "cell_type": "markdown",
   "metadata": {},
   "source": [
    "Подключим все нужные библиотеки"
   ]
  },
  {
   "cell_type": "code",
   "execution_count": 1,
   "metadata": {},
   "outputs": [],
   "source": [
    "import pandas as pd\n",
    "import matplotlib\n",
    "import matplotlib.pyplot as plt\n",
    "import numpy as np\n",
    "from scipy import stats as st"
   ]
  },
  {
   "cell_type": "markdown",
   "metadata": {},
   "source": [
    "Создадим датафрейм и посмотрим информацию о нем. Выведем несколько строк"
   ]
  },
  {
   "cell_type": "code",
   "execution_count": 2,
   "metadata": {},
   "outputs": [],
   "source": [
    "games = pd.read_csv('/datasets/games.csv')"
   ]
  },
  {
   "cell_type": "code",
   "execution_count": 3,
   "metadata": {},
   "outputs": [
    {
     "data": {
      "text/html": [
       "<div>\n",
       "<style scoped>\n",
       "    .dataframe tbody tr th:only-of-type {\n",
       "        vertical-align: middle;\n",
       "    }\n",
       "\n",
       "    .dataframe tbody tr th {\n",
       "        vertical-align: top;\n",
       "    }\n",
       "\n",
       "    .dataframe thead th {\n",
       "        text-align: right;\n",
       "    }\n",
       "</style>\n",
       "<table border=\"1\" class=\"dataframe\">\n",
       "  <thead>\n",
       "    <tr style=\"text-align: right;\">\n",
       "      <th></th>\n",
       "      <th>Name</th>\n",
       "      <th>Platform</th>\n",
       "      <th>Year_of_Release</th>\n",
       "      <th>Genre</th>\n",
       "      <th>NA_sales</th>\n",
       "      <th>EU_sales</th>\n",
       "      <th>JP_sales</th>\n",
       "      <th>Other_sales</th>\n",
       "      <th>Critic_Score</th>\n",
       "      <th>User_Score</th>\n",
       "      <th>Rating</th>\n",
       "    </tr>\n",
       "  </thead>\n",
       "  <tbody>\n",
       "    <tr>\n",
       "      <td>0</td>\n",
       "      <td>Wii Sports</td>\n",
       "      <td>Wii</td>\n",
       "      <td>2006.0</td>\n",
       "      <td>Sports</td>\n",
       "      <td>41.36</td>\n",
       "      <td>28.96</td>\n",
       "      <td>3.77</td>\n",
       "      <td>8.45</td>\n",
       "      <td>76.0</td>\n",
       "      <td>8</td>\n",
       "      <td>E</td>\n",
       "    </tr>\n",
       "    <tr>\n",
       "      <td>1</td>\n",
       "      <td>Super Mario Bros.</td>\n",
       "      <td>NES</td>\n",
       "      <td>1985.0</td>\n",
       "      <td>Platform</td>\n",
       "      <td>29.08</td>\n",
       "      <td>3.58</td>\n",
       "      <td>6.81</td>\n",
       "      <td>0.77</td>\n",
       "      <td>NaN</td>\n",
       "      <td>NaN</td>\n",
       "      <td>NaN</td>\n",
       "    </tr>\n",
       "    <tr>\n",
       "      <td>2</td>\n",
       "      <td>Mario Kart Wii</td>\n",
       "      <td>Wii</td>\n",
       "      <td>2008.0</td>\n",
       "      <td>Racing</td>\n",
       "      <td>15.68</td>\n",
       "      <td>12.76</td>\n",
       "      <td>3.79</td>\n",
       "      <td>3.29</td>\n",
       "      <td>82.0</td>\n",
       "      <td>8.3</td>\n",
       "      <td>E</td>\n",
       "    </tr>\n",
       "    <tr>\n",
       "      <td>3</td>\n",
       "      <td>Wii Sports Resort</td>\n",
       "      <td>Wii</td>\n",
       "      <td>2009.0</td>\n",
       "      <td>Sports</td>\n",
       "      <td>15.61</td>\n",
       "      <td>10.93</td>\n",
       "      <td>3.28</td>\n",
       "      <td>2.95</td>\n",
       "      <td>80.0</td>\n",
       "      <td>8</td>\n",
       "      <td>E</td>\n",
       "    </tr>\n",
       "    <tr>\n",
       "      <td>4</td>\n",
       "      <td>Pokemon Red/Pokemon Blue</td>\n",
       "      <td>GB</td>\n",
       "      <td>1996.0</td>\n",
       "      <td>Role-Playing</td>\n",
       "      <td>11.27</td>\n",
       "      <td>8.89</td>\n",
       "      <td>10.22</td>\n",
       "      <td>1.00</td>\n",
       "      <td>NaN</td>\n",
       "      <td>NaN</td>\n",
       "      <td>NaN</td>\n",
       "    </tr>\n",
       "    <tr>\n",
       "      <td>5</td>\n",
       "      <td>Tetris</td>\n",
       "      <td>GB</td>\n",
       "      <td>1989.0</td>\n",
       "      <td>Puzzle</td>\n",
       "      <td>23.20</td>\n",
       "      <td>2.26</td>\n",
       "      <td>4.22</td>\n",
       "      <td>0.58</td>\n",
       "      <td>NaN</td>\n",
       "      <td>NaN</td>\n",
       "      <td>NaN</td>\n",
       "    </tr>\n",
       "    <tr>\n",
       "      <td>6</td>\n",
       "      <td>New Super Mario Bros.</td>\n",
       "      <td>DS</td>\n",
       "      <td>2006.0</td>\n",
       "      <td>Platform</td>\n",
       "      <td>11.28</td>\n",
       "      <td>9.14</td>\n",
       "      <td>6.50</td>\n",
       "      <td>2.88</td>\n",
       "      <td>89.0</td>\n",
       "      <td>8.5</td>\n",
       "      <td>E</td>\n",
       "    </tr>\n",
       "    <tr>\n",
       "      <td>7</td>\n",
       "      <td>Wii Play</td>\n",
       "      <td>Wii</td>\n",
       "      <td>2006.0</td>\n",
       "      <td>Misc</td>\n",
       "      <td>13.96</td>\n",
       "      <td>9.18</td>\n",
       "      <td>2.93</td>\n",
       "      <td>2.84</td>\n",
       "      <td>58.0</td>\n",
       "      <td>6.6</td>\n",
       "      <td>E</td>\n",
       "    </tr>\n",
       "    <tr>\n",
       "      <td>8</td>\n",
       "      <td>New Super Mario Bros. Wii</td>\n",
       "      <td>Wii</td>\n",
       "      <td>2009.0</td>\n",
       "      <td>Platform</td>\n",
       "      <td>14.44</td>\n",
       "      <td>6.94</td>\n",
       "      <td>4.70</td>\n",
       "      <td>2.24</td>\n",
       "      <td>87.0</td>\n",
       "      <td>8.4</td>\n",
       "      <td>E</td>\n",
       "    </tr>\n",
       "    <tr>\n",
       "      <td>9</td>\n",
       "      <td>Duck Hunt</td>\n",
       "      <td>NES</td>\n",
       "      <td>1984.0</td>\n",
       "      <td>Shooter</td>\n",
       "      <td>26.93</td>\n",
       "      <td>0.63</td>\n",
       "      <td>0.28</td>\n",
       "      <td>0.47</td>\n",
       "      <td>NaN</td>\n",
       "      <td>NaN</td>\n",
       "      <td>NaN</td>\n",
       "    </tr>\n",
       "  </tbody>\n",
       "</table>\n",
       "</div>"
      ],
      "text/plain": [
       "                        Name Platform  Year_of_Release         Genre  \\\n",
       "0                 Wii Sports      Wii           2006.0        Sports   \n",
       "1          Super Mario Bros.      NES           1985.0      Platform   \n",
       "2             Mario Kart Wii      Wii           2008.0        Racing   \n",
       "3          Wii Sports Resort      Wii           2009.0        Sports   \n",
       "4   Pokemon Red/Pokemon Blue       GB           1996.0  Role-Playing   \n",
       "5                     Tetris       GB           1989.0        Puzzle   \n",
       "6      New Super Mario Bros.       DS           2006.0      Platform   \n",
       "7                   Wii Play      Wii           2006.0          Misc   \n",
       "8  New Super Mario Bros. Wii      Wii           2009.0      Platform   \n",
       "9                  Duck Hunt      NES           1984.0       Shooter   \n",
       "\n",
       "   NA_sales  EU_sales  JP_sales  Other_sales  Critic_Score User_Score Rating  \n",
       "0     41.36     28.96      3.77         8.45          76.0          8      E  \n",
       "1     29.08      3.58      6.81         0.77           NaN        NaN    NaN  \n",
       "2     15.68     12.76      3.79         3.29          82.0        8.3      E  \n",
       "3     15.61     10.93      3.28         2.95          80.0          8      E  \n",
       "4     11.27      8.89     10.22         1.00           NaN        NaN    NaN  \n",
       "5     23.20      2.26      4.22         0.58           NaN        NaN    NaN  \n",
       "6     11.28      9.14      6.50         2.88          89.0        8.5      E  \n",
       "7     13.96      9.18      2.93         2.84          58.0        6.6      E  \n",
       "8     14.44      6.94      4.70         2.24          87.0        8.4      E  \n",
       "9     26.93      0.63      0.28         0.47           NaN        NaN    NaN  "
      ]
     },
     "metadata": {},
     "output_type": "display_data"
    },
    {
     "name": "stdout",
     "output_type": "stream",
     "text": [
      "<class 'pandas.core.frame.DataFrame'>\n",
      "RangeIndex: 16715 entries, 0 to 16714\n",
      "Data columns (total 11 columns):\n",
      "Name               16713 non-null object\n",
      "Platform           16715 non-null object\n",
      "Year_of_Release    16446 non-null float64\n",
      "Genre              16713 non-null object\n",
      "NA_sales           16715 non-null float64\n",
      "EU_sales           16715 non-null float64\n",
      "JP_sales           16715 non-null float64\n",
      "Other_sales        16715 non-null float64\n",
      "Critic_Score       8137 non-null float64\n",
      "User_Score         10014 non-null object\n",
      "Rating             9949 non-null object\n",
      "dtypes: float64(6), object(5)\n",
      "memory usage: 1.4+ MB\n"
     ]
    }
   ],
   "source": [
    "display(games.head(10))\n",
    "games.info()"
   ]
  },
  {
   "cell_type": "markdown",
   "metadata": {},
   "source": [
    "Заменим названия столбцов на корректные"
   ]
  },
  {
   "cell_type": "code",
   "execution_count": 4,
   "metadata": {},
   "outputs": [],
   "source": [
    "games.columns = ['name', 'platform', 'year_of_release', 'genre',\\\n",
    "                 'na_sales', 'eu_sales', 'jp_sales', 'other_sales', 'critic_score', 'user_score', 'rating']"
   ]
  },
  {
   "cell_type": "markdown",
   "metadata": {},
   "source": [
    "Заменим Год выпуска на корректный. Во всех остальных случаях нужна дробная часть"
   ]
  },
  {
   "cell_type": "code",
   "execution_count": 5,
   "metadata": {},
   "outputs": [],
   "source": [
    "games['year_of_release'] = pd.to_datetime(games['year_of_release'], format='%Y')\n",
    "games['year_of_release'] = games['year_of_release'].dt.year"
   ]
  },
  {
   "cell_type": "markdown",
   "metadata": {},
   "source": [
    "Столбец рейтинг пользователей почему-то строкой. Узнаем почему"
   ]
  },
  {
   "cell_type": "code",
   "execution_count": 6,
   "metadata": {},
   "outputs": [
    {
     "data": {
      "text/plain": [
       "tbd    2424\n",
       "7.8     324\n",
       "8       290\n",
       "8.2     282\n",
       "8.3     254\n",
       "       ... \n",
       "1.9       2\n",
       "0.6       2\n",
       "9.6       2\n",
       "0         1\n",
       "9.7       1\n",
       "Name: user_score, Length: 96, dtype: int64"
      ]
     },
     "execution_count": 6,
     "metadata": {},
     "output_type": "execute_result"
    }
   ],
   "source": [
    "games['user_score'].value_counts()"
   ]
  },
  {
   "cell_type": "markdown",
   "metadata": {},
   "source": [
    "tbd означает, что рейтинг не определен. Сделаем его nan и поменяем тип данных."
   ]
  },
  {
   "cell_type": "code",
   "execution_count": 7,
   "metadata": {},
   "outputs": [],
   "source": [
    "games['user_score'] = games['user_score'].replace(\"tbd\", float(\"nan\")).astype('Float64')"
   ]
  },
  {
   "cell_type": "markdown",
   "metadata": {},
   "source": [
    "Теперь обработаем пропуски в данных. Посмотрим каких пропусков маленький процент и удалим их"
   ]
  },
  {
   "cell_type": "code",
   "execution_count": 8,
   "metadata": {},
   "outputs": [
    {
     "data": {
      "text/plain": [
       "name                0.011965\n",
       "platform            0.000000\n",
       "year_of_release     1.609333\n",
       "genre               0.011965\n",
       "na_sales            0.000000\n",
       "eu_sales            0.000000\n",
       "jp_sales            0.000000\n",
       "other_sales         0.000000\n",
       "critic_score       51.319174\n",
       "user_score         54.591684\n",
       "rating             40.478612\n",
       "dtype: float64"
      ]
     },
     "execution_count": 8,
     "metadata": {},
     "output_type": "execute_result"
    }
   ],
   "source": [
    "games.isna().sum() / len(games) * 100"
   ]
  },
  {
   "cell_type": "code",
   "execution_count": 9,
   "metadata": {},
   "outputs": [],
   "source": [
    "games.dropna(subset=['name'], inplace=True)"
   ]
  },
  {
   "cell_type": "code",
   "execution_count": 10,
   "metadata": {},
   "outputs": [],
   "source": [
    "games.dropna(subset=['year_of_release'], inplace=True)"
   ]
  },
  {
   "cell_type": "markdown",
   "metadata": {},
   "source": [
    "В остальных случаях пропусков много. Есть вариант заменить рейтинг по продажам."
   ]
  },
  {
   "cell_type": "markdown",
   "metadata": {},
   "source": [
    "Посчитаем суммарные продажи и занесем в отдельный столбец"
   ]
  },
  {
   "cell_type": "code",
   "execution_count": 11,
   "metadata": {},
   "outputs": [],
   "source": [
    "games['sales'] = games['na_sales'] + games['eu_sales'] + games['jp_sales'] + games['other_sales']"
   ]
  },
  {
   "cell_type": "markdown",
   "metadata": {},
   "source": [
    "Попробуем привязать оценку критиков к продажам и проверим есть ли зависимость"
   ]
  },
  {
   "cell_type": "code",
   "execution_count": 12,
   "metadata": {},
   "outputs": [
    {
     "name": "stdout",
     "output_type": "stream",
     "text": [
      "0.24534884547411376\n"
     ]
    }
   ],
   "source": [
    "print(games['sales'].corr(games['critic_score'].astype('Float64')))"
   ]
  },
  {
   "cell_type": "markdown",
   "metadata": {},
   "source": [
    "Корреляция очень слабая. Этот вариант не подойдет."
   ]
  },
  {
   "cell_type": "markdown",
   "metadata": {},
   "source": [
    "Остальных пропусков много, оставим так как есть"
   ]
  },
  {
   "cell_type": "markdown",
   "metadata": {},
   "source": [
    "Теперь поставим рейтинг исходя из жанра игры. Сначала создадим словарь с самым популярным рейтингом каждой игры, а затем через функию добавим эти значение вместо пропусков"
   ]
  },
  {
   "cell_type": "code",
   "execution_count": 15,
   "metadata": {},
   "outputs": [],
   "source": [
    "def genre_rating(data, genre, rating):\n",
    "    top_rating = {}\n",
    "    for genre_unique in data[genre].unique():\n",
    "        top_rating[genre_unique] = data.loc[data[genre] == genre_unique, rating].value_counts().index[0]\n",
    "    return top_rating"
   ]
  },
  {
   "cell_type": "code",
   "execution_count": 16,
   "metadata": {},
   "outputs": [
    {
     "data": {
      "text/plain": [
       "genre         rating\n",
       "Action        AO           1\n",
       "              E          410\n",
       "              E10+       468\n",
       "              EC           1\n",
       "              M          596\n",
       "              T          670\n",
       "Adventure     E          159\n",
       "              E10+        67\n",
       "              EC           2\n",
       "              M           98\n",
       "              T          114\n",
       "Fighting      E            8\n",
       "              E10+        19\n",
       "              M           48\n",
       "              T          357\n",
       "Misc          E          449\n",
       "              E10+       166\n",
       "              EC           5\n",
       "              K-A          1\n",
       "              M           13\n",
       "              T          228\n",
       "Platform      E          354\n",
       "              E10+       141\n",
       "              M            3\n",
       "              T           63\n",
       "Puzzle        E          284\n",
       "              E10+        42\n",
       "              T           10\n",
       "Racing        E          576\n",
       "              E10+        95\n",
       "              M           18\n",
       "              T          167\n",
       "Role-Playing  E           83\n",
       "              E10+       111\n",
       "              M          161\n",
       "              T          415\n",
       "Shooter       E           47\n",
       "              E10+        56\n",
       "              M          553\n",
       "              T          340\n",
       "Simulation    E          321\n",
       "              E10+        47\n",
       "              M            5\n",
       "              T          186\n",
       "Sports        E         1162\n",
       "              E10+       105\n",
       "              M           16\n",
       "              T          195\n",
       "Strategy      E           68\n",
       "              E10+        76\n",
       "              K-A          2\n",
       "              M           25\n",
       "              RP           1\n",
       "              T          160\n",
       "Name: rating, dtype: int64"
      ]
     },
     "execution_count": 16,
     "metadata": {},
     "output_type": "execute_result"
    }
   ],
   "source": [
    "# Код ревьюера, для примера\n",
    "games.groupby(['genre', 'rating'])['rating'].count()"
   ]
  },
  {
   "cell_type": "code",
   "execution_count": 17,
   "metadata": {},
   "outputs": [],
   "source": [
    "top_rating = genre_rating(games, 'genre', 'rating')"
   ]
  },
  {
   "cell_type": "code",
   "execution_count": 18,
   "metadata": {},
   "outputs": [
    {
     "data": {
      "text/plain": [
       "{'Sports': 'E',\n",
       " 'Platform': 'E',\n",
       " 'Racing': 'E',\n",
       " 'Role-Playing': 'T',\n",
       " 'Puzzle': 'E',\n",
       " 'Misc': 'E',\n",
       " 'Shooter': 'M',\n",
       " 'Simulation': 'E',\n",
       " 'Action': 'T',\n",
       " 'Fighting': 'T',\n",
       " 'Adventure': 'E',\n",
       " 'Strategy': 'T'}"
      ]
     },
     "metadata": {},
     "output_type": "display_data"
    }
   ],
   "source": [
    "display(top_rating)"
   ]
  },
  {
   "cell_type": "code",
   "execution_count": 19,
   "metadata": {},
   "outputs": [],
   "source": [
    "def no_nan_rating(data, dict):\n",
    "    for genre_unique in dict:\n",
    "        data.loc[(data['rating'].isna()) & (data['genre'] == genre_unique), 'rating'] = dict[genre_unique]\n",
    "    return data.head()"
   ]
  },
  {
   "cell_type": "code",
   "execution_count": 21,
   "metadata": {},
   "outputs": [],
   "source": [
    "games['rating'] = games['rating'].fillna('unknown')"
   ]
  },
  {
   "cell_type": "markdown",
   "metadata": {},
   "source": [
    "Рейтинг ESRB создавался для рынка Канады и США. Возможно пропуски означают, что игры создавались не для их рынка, а значит и рейтинг им не нужен. Заменил пропуски на unknown, чтобы видеть их на графиках"
   ]
  },
  {
   "cell_type": "markdown",
   "metadata": {},
   "source": [
    "Сейчас проверим есть ли у нас некорректные названия"
   ]
  },
  {
   "cell_type": "code",
   "execution_count": 22,
   "metadata": {},
   "outputs": [
    {
     "data": {
      "text/plain": [
       "array(['Wii', 'NES', 'GB', 'DS', 'X360', 'PS3', 'PS2', 'SNES', 'GBA',\n",
       "       'PS4', '3DS', 'N64', 'PS', 'XB', 'PC', '2600', 'PSP', 'XOne',\n",
       "       'WiiU', 'GC', 'GEN', 'DC', 'PSV', 'SAT', 'SCD', 'WS', 'NG', 'TG16',\n",
       "       '3DO', 'GG', 'PCFX'], dtype=object)"
      ]
     },
     "execution_count": 22,
     "metadata": {},
     "output_type": "execute_result"
    }
   ],
   "source": [
    "games['platform'].unique()"
   ]
  },
  {
   "cell_type": "code",
   "execution_count": 23,
   "metadata": {},
   "outputs": [
    {
     "data": {
      "text/plain": [
       "array(['Sports', 'Platform', 'Racing', 'Role-Playing', 'Puzzle', 'Misc',\n",
       "       'Shooter', 'Simulation', 'Action', 'Fighting', 'Adventure',\n",
       "       'Strategy'], dtype=object)"
      ]
     },
     "execution_count": 23,
     "metadata": {},
     "output_type": "execute_result"
    }
   ],
   "source": [
    "games['genre'].unique()"
   ]
  },
  {
   "cell_type": "markdown",
   "metadata": {},
   "source": [
    "Теперь проверим на дубликаты"
   ]
  },
  {
   "cell_type": "code",
   "execution_count": 24,
   "metadata": {},
   "outputs": [
    {
     "data": {
      "text/plain": [
       "0"
      ]
     },
     "execution_count": 24,
     "metadata": {},
     "output_type": "execute_result"
    }
   ],
   "source": [
    "games.duplicated().sum()"
   ]
  },
  {
   "cell_type": "markdown",
   "metadata": {},
   "source": [
    "## Исследовательский анализ"
   ]
  },
  {
   "cell_type": "markdown",
   "metadata": {},
   "source": [
    "Посмотрим сколько игр выпускалось в разные годы. Посторим график"
   ]
  },
  {
   "cell_type": "code",
   "execution_count": 25,
   "metadata": {},
   "outputs": [
    {
     "data": {
      "text/plain": [
       "Text(0.5, 1.0, 'Количество игр по годам')"
      ]
     },
     "execution_count": 25,
     "metadata": {},
     "output_type": "execute_result"
    },
    {
     "data": {
      "image/png": "[encoded data removed]",
      "text/plain": [
       "<Figure size 1080x504 with 1 Axes>"
      ]
     },
     "metadata": {
      "needs_background": "light"
     },
     "output_type": "display_data"
    }
   ],
   "source": [
    "fig, ax = plt.subplots()\n",
    "games.groupby('year_of_release')['year_of_release'].count().plot(figsize=(15, 7))\n",
    "\n",
    "ax.set_xlabel('Год')\n",
    "ax.set_ylabel('Количество игр')\n",
    "ax.set_title('Количество игр по годам')"
   ]
  },
  {
   "cell_type": "markdown",
   "metadata": {},
   "source": [
    "В 1995 году произошел скачок выпуска игр и их стало выпускаться намного больше, предположим это связано с быстрым развитием компьютерных тенологий."
   ]
  },
  {
   "cell_type": "markdown",
   "metadata": {},
   "source": [
    "Выберем 4 самых популярных платформы и посмотрим как долго они были популярны, построив гистограммы"
   ]
  },
  {
   "cell_type": "code",
   "execution_count": 26,
   "metadata": {},
   "outputs": [
    {
     "data": {
      "text/html": [
       "<div>\n",
       "<style scoped>\n",
       "    .dataframe tbody tr th:only-of-type {\n",
       "        vertical-align: middle;\n",
       "    }\n",
       "\n",
       "    .dataframe tbody tr th {\n",
       "        vertical-align: top;\n",
       "    }\n",
       "\n",
       "    .dataframe thead th {\n",
       "        text-align: right;\n",
       "    }\n",
       "</style>\n",
       "<table border=\"1\" class=\"dataframe\">\n",
       "  <thead>\n",
       "    <tr style=\"text-align: right;\">\n",
       "      <th></th>\n",
       "      <th>platform</th>\n",
       "      <th>sales</th>\n",
       "    </tr>\n",
       "  </thead>\n",
       "  <tbody>\n",
       "    <tr>\n",
       "      <td>0</td>\n",
       "      <td>PS2</td>\n",
       "      <td>1233.56</td>\n",
       "    </tr>\n",
       "    <tr>\n",
       "      <td>1</td>\n",
       "      <td>X360</td>\n",
       "      <td>961.24</td>\n",
       "    </tr>\n",
       "    <tr>\n",
       "      <td>2</td>\n",
       "      <td>PS3</td>\n",
       "      <td>931.34</td>\n",
       "    </tr>\n",
       "    <tr>\n",
       "      <td>3</td>\n",
       "      <td>Wii</td>\n",
       "      <td>891.18</td>\n",
       "    </tr>\n",
       "  </tbody>\n",
       "</table>\n",
       "</div>"
      ],
      "text/plain": [
       "  platform    sales\n",
       "0      PS2  1233.56\n",
       "1     X360   961.24\n",
       "2      PS3   931.34\n",
       "3      Wii   891.18"
      ]
     },
     "execution_count": 26,
     "metadata": {},
     "output_type": "execute_result"
    }
   ],
   "source": [
    "games.pivot_table(index='platform', values='sales', aggfunc='sum')\\\n",
    ".sort_values(by='sales', ascending=False).reset_index().head(4)"
   ]
  },
  {
   "cell_type": "code",
   "execution_count": 27,
   "metadata": {},
   "outputs": [
    {
     "data": {
      "text/plain": [
       "Text(0, 0.5, 'Продажи')"
      ]
     },
     "execution_count": 27,
     "metadata": {},
     "output_type": "execute_result"
    },
    {
     "data": {
      "image/png": "[encoded data removed]",
      "text/plain": [
       "<Figure size 1080x1080 with 4 Axes>"
      ]
     },
     "metadata": {
      "needs_background": "light"
     },
     "output_type": "display_data"
    }
   ],
   "source": [
    "fig1 = plt.figure(figsize=(15, 15))\n",
    "fig1.suptitle('Распределения продаж платформ по годам', fontsize=15)\n",
    "\n",
    "plt.subplot(2, 2, 1).set_title('PS2')\n",
    "games.query('platform == \"PS2\"').groupby('year_of_release')['sales'].sum().plot(kind='bar')\n",
    "plt.xlabel('Год')\n",
    "plt.ylabel('Продажи')\n",
    "\n",
    "plt.subplot(2, 2, 2).set_title('X360')\n",
    "games.query('platform == \"X360\"').groupby('year_of_release')['sales'].sum().plot(kind='bar')\n",
    "plt.xlabel('Год')\n",
    "plt.ylabel('Продажи')\n",
    "\n",
    "plt.subplot(2, 2, 3).set_title('PS3')\n",
    "games.query('platform == \"PS3\"').groupby('year_of_release')['sales'].sum().plot(kind='bar')\n",
    "plt.xlabel('Год')\n",
    "plt.ylabel('Продажи')\n",
    "\n",
    "plt.subplot(2, 2, 4).set_title('Wii')\n",
    "games.query('platform == \"Wii\"').groupby('year_of_release')['sales'].sum().plot(kind='bar')\n",
    "plt.xlabel('Год')\n",
    "plt.ylabel('Продажи')"
   ]
  },
  {
   "cell_type": "markdown",
   "metadata": {},
   "source": [
    "На PS2 со страрта продаж игры продавались максимально и только спустя 5 лет пошел спад, после выхода PS3. Продажи игр на XBox360 росли плавно и к 2010 году достигли своего пика, после пошли на спад. Платформа была актуальна 9 лет. На PS3 продажа игр росла плавно, скорее всего из-за того, что многие еще пользовались PS2. Пик продаж в 2011. Платформа была актуальна так же 7 лет. Продажи игра на Wii росла очень плавна и достгла пика в 2009, затем пошел спад. Тут платформа продержалась 5 лет.\n",
    "    Выбранные платформы были актуальны от 8-10 лет. А их продажи могут упасть с максимума до минимума за 3 года. В среднем на пике продажи держаться 5 лет"
   ]
  },
  {
   "cell_type": "markdown",
   "metadata": {},
   "source": [
    "Если платформы на пике держаться в течении 5 лет, то возьмем данные за последние 4 года, чтобы прогнозировать. 5 лет большой срок, а за 2016 судя по графикам мы получили не полный отчет. Возьмем только с 2013 по 2016, так как остальные года нас не интересуют. Создадим новый датафрейм и возьмем 9 самых продаваемых платформ за это время."
   ]
  },
  {
   "cell_type": "code",
   "execution_count": 29,
   "metadata": {},
   "outputs": [],
   "source": [
    "actual = games.query('year_of_release > 2012')"
   ]
  },
  {
   "cell_type": "code",
   "execution_count": 30,
   "metadata": {},
   "outputs": [
    {
     "data": {
      "text/plain": [
       "PS4     392\n",
       "PSV     358\n",
       "PS3     345\n",
       "3DS     303\n",
       "XOne    247\n",
       "PC      189\n",
       "X360    186\n",
       "WiiU    115\n",
       "PSP      67\n",
       "Wii      23\n",
       "DS        8\n",
       "Name: platform, dtype: int64"
      ]
     },
     "execution_count": 30,
     "metadata": {},
     "output_type": "execute_result"
    }
   ],
   "source": [
    "actual['platform'].value_counts()"
   ]
  },
  {
   "cell_type": "code",
   "execution_count": 31,
   "metadata": {},
   "outputs": [],
   "source": [
    "top_platform = actual.pivot_table(index='platform', values='sales', aggfunc='sum')\\\n",
    ".sort_values(by='sales', ascending=False).reset_index().head(9)"
   ]
  },
  {
   "cell_type": "markdown",
   "metadata": {},
   "source": [
    "С помощью функции посторим диаграммы распределения продаж по годам и посмотрим продажи каких игр идут на подъем, а какие на спад"
   ]
  },
  {
   "cell_type": "code",
   "execution_count": 32,
   "metadata": {},
   "outputs": [],
   "source": [
    "def hist_platform(data, dict):\n",
    "    fig2 = plt.figure(figsize=(15, 15))\n",
    "    fig2.suptitle('Распределние продаж по годам')\n",
    "    i = 0\n",
    "    for dict_unique in dict['platform'].unique():\n",
    "        i += 1\n",
    "        plt.subplot(3, 3, i).set_title(dict_unique)\n",
    "        data.loc[data['platform'] == dict_unique].groupby('year_of_release')['sales'].sum().plot(kind='bar')\n",
    "        plt.xlabel('Год')\n",
    "        plt.ylabel('Продажи')\n",
    "        plt.subplots_adjust(hspace=0.4)\n",
    "    return"
   ]
  },
  {
   "cell_type": "code",
   "execution_count": 33,
   "metadata": {
    "scrolled": false
   },
   "outputs": [
    {
     "data": {
      "image/png": "[encoded data removed]",
      "text/plain": [
       "<Figure size 1080x1080 with 9 Axes>"
      ]
     },
     "metadata": {
      "needs_background": "light"
     },
     "output_type": "display_data"
    }
   ],
   "source": [
    "hist_platform(actual, top_platform)"
   ]
  },
  {
   "cell_type": "markdown",
   "metadata": {},
   "source": [
    "PS3, X360, 3DS, Wii, WiiU, PC, PSV - продажи идут на спад. Продажи игр на PC плавно идут на подъем, но не так сильно как все остальные. Продажи игр на PS4 и XOne растут каждый год, эти платформы должны быть прибыльными и далее, так как они выходят только с 2013 года."
   ]
  },
  {
   "cell_type": "markdown",
   "metadata": {},
   "source": [
    "Теперь построим диаграмму размаха для каждой актуальной платформы"
   ]
  },
  {
   "cell_type": "code",
   "execution_count": 34,
   "metadata": {
    "scrolled": false
   },
   "outputs": [
    {
     "data": {
      "image/png": "[encoded data removed]",
      "text/plain": [
       "<Figure size 1080x1584 with 11 Axes>"
      ]
     },
     "metadata": {
      "needs_background": "light"
     },
     "output_type": "display_data"
    }
   ],
   "source": [
    "y = len(actual['platform'].unique())\n",
    "i = 0\n",
    "plt.figure(figsize=(15, 2*y)).suptitle('Диаграммы размаха по продажам каждой платформы', fontsize=15)\n",
    "for platform_unique in actual['platform'].unique():\n",
    "    i += 1\n",
    "    plt.subplot(y, 1, i).set_title(platform_unique)\n",
    "    actual.loc[actual['platform'] == platform_unique].boxplot('sales', vert=False)\n",
    "    plt.xlim([0,3])\n",
    "    plt.subplots_adjust(hspace=0.5)"
   ]
  },
  {
   "cell_type": "markdown",
   "metadata": {},
   "source": [
    "Самые высокие медианы у X360, PS4, XOne. Высокие 75-й процентиль у X360, PS4, XOne, Wii, Wiiu. Это означает, что у этих платформ много игр с высокими продажами. нужно ориентироваться на них"
   ]
  },
  {
   "cell_type": "markdown",
   "metadata": {},
   "source": [
    "По диаграммам размаха видим, что на каждой платформе много выбросов, эти выбросы это очень популярные игры, у которых продажи намного выше чем у всех остальных."
   ]
  },
  {
   "cell_type": "markdown",
   "metadata": {},
   "source": [
    "Теперь построим диаграмму рассеивания  отзывов и продаж для самой популярной актуальной платформы."
   ]
  },
  {
   "cell_type": "code",
   "execution_count": 35,
   "metadata": {},
   "outputs": [
    {
     "data": {
      "text/plain": [
       "'PS4'"
      ]
     },
     "execution_count": 35,
     "metadata": {},
     "output_type": "execute_result"
    }
   ],
   "source": [
    "actual.pivot_table(index='platform', values='sales', aggfunc='sum').sort_values(by='sales', ascending=False).index[0]"
   ]
  },
  {
   "cell_type": "code",
   "execution_count": 36,
   "metadata": {},
   "outputs": [
    {
     "data": {
      "text/plain": [
       "Text(0.5, 1.0, 'Диаграмма рассеивание \"оценки критиков-продажи\" PS4')"
      ]
     },
     "execution_count": 36,
     "metadata": {},
     "output_type": "execute_result"
    },
    {
     "data": {
      "image/png": "[encoded data removed]",
      "text/plain": [
       "<Figure size 1080x360 with 1 Axes>"
      ]
     },
     "metadata": {
      "needs_background": "light"
     },
     "output_type": "display_data"
    }
   ],
   "source": [
    "actual.query('platform ==\"PS4\"').plot(x='sales', y='critic_score',\\\n",
    "                                      kind='scatter', alpha=0.5, figsize=(15,5)).set_title('critic score - sales')\n",
    "plt.title('Диаграмма рассеивание \"оценки критиков-продажи\" PS4')"
   ]
  },
  {
   "cell_type": "code",
   "execution_count": 37,
   "metadata": {},
   "outputs": [
    {
     "data": {
      "text/plain": [
       "Text(0.5, 1.0, 'Диаграмма рассеивание \"оценки пользователей-продажи\" PS4')"
      ]
     },
     "execution_count": 37,
     "metadata": {},
     "output_type": "execute_result"
    },
    {
     "data": {
      "image/png": "[encoded data removed]",
      "text/plain": [
       "<Figure size 1080x360 with 1 Axes>"
      ]
     },
     "metadata": {
      "needs_background": "light"
     },
     "output_type": "display_data"
    }
   ],
   "source": [
    "actual.query('platform ==\"PS4\"').plot(x='sales', y='user_score', kind='scatter',\\\n",
    "                                      alpha=0.5, figsize=(15,5)).set_title('user score - sales')\n",
    "plt.title('Диаграмма рассеивание \"оценки пользователей-продажи\" PS4')"
   ]
  },
  {
   "cell_type": "markdown",
   "metadata": {},
   "source": [
    "Ни одна игра с низкой оценкой критиков не была успешной, но часто они ставят высокую оценку провалившимся в продажах играм. Оценка пользователей разная. Они тоже часто ставят высокую оценку играм, которые провалились в продажах. И заметно чаще ошибаются, поставив низкую оценку успешым играм"
   ]
  },
  {
   "cell_type": "markdown",
   "metadata": {},
   "source": [
    "Теперь посмотрим есть ли зависимость между продажами и отзывами"
   ]
  },
  {
   "cell_type": "code",
   "execution_count": 38,
   "metadata": {},
   "outputs": [
    {
     "data": {
      "text/plain": [
       "0.0023944027357566925"
      ]
     },
     "execution_count": 38,
     "metadata": {},
     "output_type": "execute_result"
    }
   ],
   "source": [
    "actual.query('platform ==\"PS3\"')['user_score'].corr(actual.query('platform ==\"PS3\"')['sales'])"
   ]
  },
  {
   "cell_type": "code",
   "execution_count": 39,
   "metadata": {},
   "outputs": [
    {
     "data": {
      "text/plain": [
       "0.3342853393371919"
      ]
     },
     "execution_count": 39,
     "metadata": {},
     "output_type": "execute_result"
    }
   ],
   "source": [
    "actual.query('platform ==\"PS3\"')['critic_score'].astype('Float64').corr(actual.query('platform ==\"PS3\"')['sales'])"
   ]
  },
  {
   "cell_type": "markdown",
   "metadata": {},
   "source": [
    "Видим, что зависимости между оценкаи пользователей и продажами нет, у критиков зависимость тоже слабая, но все таки выше чем у пользователей. Критики правильнее оценивают игры."
   ]
  },
  {
   "cell_type": "markdown",
   "metadata": {},
   "source": [
    "Теперь посмотрим эти же результаты для всех платформ"
   ]
  },
  {
   "cell_type": "code",
   "execution_count": 40,
   "metadata": {},
   "outputs": [
    {
     "data": {
      "text/plain": [
       "Text(0.5, 1.0, 'Диаграмма рассеивание \"оценки критиков-продажи\"')"
      ]
     },
     "execution_count": 40,
     "metadata": {},
     "output_type": "execute_result"
    },
    {
     "data": {
      "image/png": "[encoded data removed]",
      "text/plain": [
       "<Figure size 1080x360 with 1 Axes>"
      ]
     },
     "metadata": {
      "needs_background": "light"
     },
     "output_type": "display_data"
    }
   ],
   "source": [
    "actual.plot(x='sales', y='critic_score', kind='scatter', alpha=0.5, figsize=(15,5)).set_title('critic score - sales')\n",
    "plt.title('Диаграмма рассеивание \"оценки критиков-продажи\"')"
   ]
  },
  {
   "cell_type": "code",
   "execution_count": 41,
   "metadata": {},
   "outputs": [
    {
     "data": {
      "text/plain": [
       "Text(0.5, 1.0, 'Диаграмма рассеивание \"оценки пользователей-продажи\"')"
      ]
     },
     "execution_count": 41,
     "metadata": {},
     "output_type": "execute_result"
    },
    {
     "data": {
      "image/png": "[encoded data removed]",
      "text/plain": [
       "<Figure size 1080x360 with 1 Axes>"
      ]
     },
     "metadata": {
      "needs_background": "light"
     },
     "output_type": "display_data"
    }
   ],
   "source": [
    "actual.plot(x='sales', y='user_score', kind='scatter', alpha=0.5, figsize=(15,5)).set_title('user score - sales')\n",
    "plt.title('Диаграмма рассеивание \"оценки пользователей-продажи\"')"
   ]
  },
  {
   "cell_type": "code",
   "execution_count": 42,
   "metadata": {},
   "outputs": [
    {
     "data": {
      "text/plain": [
       "-0.0026078133545982727"
      ]
     },
     "execution_count": 42,
     "metadata": {},
     "output_type": "execute_result"
    }
   ],
   "source": [
    "actual['user_score'].corr(actual['sales'])"
   ]
  },
  {
   "cell_type": "code",
   "execution_count": 43,
   "metadata": {},
   "outputs": [
    {
     "data": {
      "text/plain": [
       "0.3136995151027369"
      ]
     },
     "execution_count": 43,
     "metadata": {},
     "output_type": "execute_result"
    }
   ],
   "source": [
    "actual['critic_score'].astype('Float64').corr(actual['sales'])"
   ]
  },
  {
   "cell_type": "markdown",
   "metadata": {},
   "source": [
    "Видим, что для всех актуальных платформ ситуация не поменялась. Только связь между оценками пользователей и продажами еще меньше. Для закупок магазина стоит больше ориентироваться на отзывы критиков, отзывы пользователей брать в расчет не нужно."
   ]
  },
  {
   "cell_type": "markdown",
   "metadata": {},
   "source": [
    "Теперь посмотрим на общее распределение игр по жанрам"
   ]
  },
  {
   "cell_type": "code",
   "execution_count": 44,
   "metadata": {},
   "outputs": [
    {
     "data": {
      "text/plain": [
       "Text(0.5, 1.0, 'Распределение игр по жанрам')"
      ]
     },
     "execution_count": 44,
     "metadata": {},
     "output_type": "execute_result"
    },
    {
     "data": {
      "image/png": "[encoded data removed]",
      "text/plain": [
       "<Figure size 576x576 with 1 Axes>"
      ]
     },
     "metadata": {},
     "output_type": "display_data"
    }
   ],
   "source": [
    "games.pivot_table(index='genre', values='sales', aggfunc='count').plot(kind='pie', subplots=True, figsize=(8, 8), autopct='%1.1f%%', legend=None)\n",
    "plt.title('Распределение игр по жанрам')"
   ]
  },
  {
   "cell_type": "markdown",
   "metadata": {},
   "source": [
    "Видим, что пятая часть всех выпущеных игр это Action. Теперь посмотрим какие жанры самые прибыльные."
   ]
  },
  {
   "cell_type": "code",
   "execution_count": 45,
   "metadata": {},
   "outputs": [],
   "source": [
    "genre_sales = games.pivot_table(index='genre', values='sales', aggfunc=('sum', 'count',)).sort_values(by='count', ascending=False)"
   ]
  },
  {
   "cell_type": "code",
   "execution_count": 46,
   "metadata": {
    "scrolled": false
   },
   "outputs": [
    {
     "data": {
      "image/png": "[encoded data removed]",
      "text/plain": [
       "<Figure size 1080x1728 with 12 Axes>"
      ]
     },
     "metadata": {
      "needs_background": "light"
     },
     "output_type": "display_data"
    }
   ],
   "source": [
    "y = len(actual['genre'].unique())\n",
    "i = 0\n",
    "plt.figure(figsize=(15, 2*y)).suptitle('Диаграммы размаха по продажам каждого жанра', fontsize=15)\n",
    "for genre_unique in actual['genre'].unique():\n",
    "    i += 1\n",
    "    plt.subplot(y, 1, i).set_title(genre_unique)\n",
    "    actual.loc[actual['genre'] == genre_unique].boxplot('sales', vert=False)\n",
    "    plt.xlim([0,2])\n",
    "    plt.subplots_adjust(hspace=0.5)"
   ]
  },
  {
   "cell_type": "markdown",
   "metadata": {},
   "source": [
    "Самые прибыльные игры выпускаются в жанре Shooter, Sports, Platform. У них большое количество игр с высокими продажами."
   ]
  },
  {
   "cell_type": "markdown",
   "metadata": {},
   "source": [
    "## Составим портрет пользователя каждого региона"
   ]
  },
  {
   "cell_type": "markdown",
   "metadata": {},
   "source": [
    "Составим для каждого региона топ 5 платформ"
   ]
  },
  {
   "cell_type": "code",
   "execution_count": 47,
   "metadata": {},
   "outputs": [],
   "source": [
    "platform_region = actual.pivot_table(index='platform', values=('na_sales', 'jp_sales', 'eu_sales'), aggfunc='sum')"
   ]
  },
  {
   "cell_type": "code",
   "execution_count": 48,
   "metadata": {},
   "outputs": [
    {
     "data": {
      "text/plain": [
       "Text(0, 0.5, 'Продажи')"
      ]
     },
     "execution_count": 48,
     "metadata": {},
     "output_type": "execute_result"
    },
    {
     "data": {
      "image/png": "[encoded data removed]",
      "text/plain": [
       "<Figure size 1080x360 with 3 Axes>"
      ]
     },
     "metadata": {
      "needs_background": "light"
     },
     "output_type": "display_data"
    }
   ],
   "source": [
    "fig2 = plt.figure(figsize=(15, 5))\n",
    "fig2.suptitle('Платформы в регионах', fontsize=15)\n",
    "\n",
    "plt.subplot(1, 3, 1).set_title('США')\n",
    "platform_region['na_sales'].sort_values(ascending=False).head(5).plot(kind='bar')\n",
    "plt.ylabel('Продажи')\n",
    "\n",
    "plt.subplot(1, 3, 2).set_title('Япония')\n",
    "platform_region['jp_sales'].sort_values(ascending=False).head(5).plot(kind='bar')\n",
    "plt.ylabel('Продажи')\n",
    "\n",
    "plt.subplot(1, 3, 3).set_title('Европа')\n",
    "platform_region['eu_sales'].sort_values(ascending=False).head(5).plot(kind='bar')\n",
    "plt.ylabel('Продажи')"
   ]
  },
  {
   "cell_type": "markdown",
   "metadata": {},
   "source": [
    "Видим, что в америке PS4 самая популярная платформа, XOne Xbox так же очень популярны. В Японии в топе только японские платформы, осталльные практически не используют. В европе больше отдают предпочтение PS, Xone Xbox тоже в топе."
   ]
  },
  {
   "cell_type": "markdown",
   "metadata": {},
   "source": [
    "Теперь посмотрим самые популярные жанры для этих регионов"
   ]
  },
  {
   "cell_type": "code",
   "execution_count": 49,
   "metadata": {},
   "outputs": [],
   "source": [
    "region_genre = actual.pivot_table(index='genre', values=('na_sales', 'jp_sales', 'eu_sales'), aggfunc='sum')"
   ]
  },
  {
   "cell_type": "code",
   "execution_count": 50,
   "metadata": {},
   "outputs": [
    {
     "data": {
      "text/plain": [
       "Text(0, 0.5, 'Жанры')"
      ]
     },
     "execution_count": 50,
     "metadata": {},
     "output_type": "execute_result"
    },
    {
     "data": {
      "image/png": "[encoded data removed]",
      "text/plain": [
       "<Figure size 1080x360 with 3 Axes>"
      ]
     },
     "metadata": {
      "needs_background": "light"
     },
     "output_type": "display_data"
    }
   ],
   "source": [
    "fig3 = plt.figure(figsize=(15, 5))\n",
    "fig3.suptitle('Жанры в регионах', fontsize=15)\n",
    "\n",
    "plt.subplot(1, 3, 1).set_title('США')\n",
    "region_genre['na_sales'].sort_values(ascending=False).head(5).plot(kind='bar')\n",
    "plt.ylabel('Жанры')\n",
    "\n",
    "plt.subplot(1, 3, 2).set_title('Япония')\n",
    "region_genre['jp_sales'].sort_values(ascending=False).head(5).plot(kind='bar')\n",
    "plt.ylabel('Жанры')\n",
    "\n",
    "plt.subplot(1, 3, 3).set_title('Европа')\n",
    "region_genre['eu_sales'].sort_values(ascending=False).head(5).plot(kind='bar')\n",
    "plt.ylabel('Жанры')"
   ]
  },
  {
   "cell_type": "markdown",
   "metadata": {},
   "source": [
    "В Европе и Америка жанры  популярны практически одинаково. Самые популярные жанры это Action, Shooter, Sport. В японии другие интересы, Основной жанр это Role-Playing, но Action так же здесь популярен. Разница между жанрами в Японии и в США и Европе скорее всего из-за разных культур, все таки Европейцы и Американца имеют схожие интересы."
   ]
  },
  {
   "cell_type": "markdown",
   "metadata": {},
   "source": [
    "Теперь посмотрим как рейтинг влияет на продажи в отдельных регионах"
   ]
  },
  {
   "cell_type": "code",
   "execution_count": 51,
   "metadata": {},
   "outputs": [
    {
     "data": {
      "text/plain": [
       "Text(0.5, 1.0, 'Продажи по рейтингу в разных регионах')"
      ]
     },
     "execution_count": 51,
     "metadata": {},
     "output_type": "execute_result"
    },
    {
     "data": {
      "image/png": "[encoded data removed]",
      "text/plain": [
       "<Figure size 1080x720 with 1 Axes>"
      ]
     },
     "metadata": {
      "needs_background": "light"
     },
     "output_type": "display_data"
    }
   ],
   "source": [
    "actual.pivot_table(index='rating', values=('na_sales', 'jp_sales', 'eu_sales'), aggfunc='sum').plot(kind='bar', figsize=(15, 10))\n",
    "plt.title('Продажи по рейтингу в разных регионах')"
   ]
  },
  {
   "cell_type": "markdown",
   "metadata": {},
   "source": [
    "По графику видим, как и в предыдущих выводах, что у Американцев и Европейцев схожие интересы и самые популярные игры в рейтинге M. А в Японии самые популярные игры без рейтинга и T. Можно сделать вывод, что игры создавались для своего рынка и им не нужен рейтинг для продаж в северной америке."
   ]
  },
  {
   "cell_type": "markdown",
   "metadata": {},
   "source": [
    "Вывод:\n",
    "Для Американского рынка хоть на первых местах идут игры на PS3 и X360, лучше выпускать игры на PS4 и XOne, так как мы выяснили, что скоро те платформы устареют, а эти набирают популярность. Самые прибыльные это Action, Shooter и Sport. И самые популярные рейтинги E и M. Для европейского рынка, схожие препочтения, только по платформам тут еще не популярен XOne, но я преполагаю, что со временем он тоже будет пользоваться здесь спросом, так как интересы американцев и европейцев совпадают. Для Японского рынка лучше всего делать игры на платформе 3DS, все отсальные платформы устареют в ближайшее время, а PS4 здесь еще не популярна. XOne и Xbox вообще не популярны. Жанры для этого региона это RPG и Action. А рейтинг игр T и и игры без рейтинга."
   ]
  },
  {
   "cell_type": "markdown",
   "metadata": {},
   "source": [
    "## Проверка гипотез"
   ]
  },
  {
   "cell_type": "markdown",
   "metadata": {},
   "source": [
    "Нам нужно проверить средние пользовательские рейтинги XOne и PC, одинаковы они или нет"
   ]
  },
  {
   "cell_type": "markdown",
   "metadata": {},
   "source": [
    "Для начала просто посмотрим на средние"
   ]
  },
  {
   "cell_type": "code",
   "execution_count": 52,
   "metadata": {},
   "outputs": [
    {
     "data": {
      "text/plain": [
       "6.521428571428572"
      ]
     },
     "execution_count": 52,
     "metadata": {},
     "output_type": "execute_result"
    }
   ],
   "source": [
    "actual.query('platform == \"XOne\"')['user_score'].mean()"
   ]
  },
  {
   "cell_type": "code",
   "execution_count": 53,
   "metadata": {},
   "outputs": [
    {
     "data": {
      "text/plain": [
       "6.269677419354839"
      ]
     },
     "execution_count": 53,
     "metadata": {},
     "output_type": "execute_result"
    }
   ],
   "source": [
    "actual.query('platform == \"PC\"')['user_score'].mean()"
   ]
  },
  {
   "cell_type": "markdown",
   "metadata": {},
   "source": [
    "Средние различаются, но не сильно. Теперь проверим действительно ли они разные. Нулевая гипотеза - оценки пользователей PC и XOne равны. Альтернавтивная - отличаются"
   ]
  },
  {
   "cell_type": "code",
   "execution_count": 54,
   "metadata": {},
   "outputs": [
    {
     "name": "stdout",
     "output_type": "stream",
     "text": [
      "p-value: 0.14012658403611647\n",
      "Не отвергаем нулевую гипотезу\n"
     ]
    }
   ],
   "source": [
    "alpha = 0.05\n",
    "results = st.ttest_ind(actual.query('platform == \"XOne\"')['user_score'].dropna(), actual.query('platform == \"PC\"')['user_score'].dropna())\n",
    "print('p-value:', results.pvalue)\n",
    "if results.pvalue < alpha:\n",
    "    print('Отвергаем нулевую гипотезу')\n",
    "else:\n",
    "    print('Не отвергаем нулевую гипотезу')"
   ]
  },
  {
   "cell_type": "markdown",
   "metadata": {},
   "source": [
    "Мы не отвергаем нулевую гипотезу. По средним данные приблизительно равны и статистически отвергнуть это не можем."
   ]
  },
  {
   "cell_type": "markdown",
   "metadata": {},
   "source": [
    "Теперь сравним пользовательские рейтинги жанров Action и Sports."
   ]
  },
  {
   "cell_type": "code",
   "execution_count": 55,
   "metadata": {},
   "outputs": [
    {
     "data": {
      "text/plain": [
       "6.837532133676093"
      ]
     },
     "execution_count": 55,
     "metadata": {},
     "output_type": "execute_result"
    }
   ],
   "source": [
    "actual.query('genre == \"Action\"')['user_score'].mean()"
   ]
  },
  {
   "cell_type": "code",
   "execution_count": 56,
   "metadata": {},
   "outputs": [
    {
     "data": {
      "text/plain": [
       "5.238124999999999"
      ]
     },
     "execution_count": 56,
     "metadata": {},
     "output_type": "execute_result"
    }
   ],
   "source": [
    "actual.query('genre == \"Sports\"')['user_score'].mean()"
   ]
  },
  {
   "cell_type": "markdown",
   "metadata": {},
   "source": [
    "Средние разные. Проверим с помощью нулевой гипотезы разные ли они. Нулевая гипотеза - пользовательские рейтинги этих жанров - равны. Альтернативная - разные"
   ]
  },
  {
   "cell_type": "code",
   "execution_count": 57,
   "metadata": {},
   "outputs": [
    {
     "name": "stdout",
     "output_type": "stream",
     "text": [
      "1.0517832389140023e-27\n",
      "Отвергаем нулевую гипотезу\n"
     ]
    }
   ],
   "source": [
    "alpha = 0.05\n",
    "results = st.ttest_ind(actual.query('genre == \"Action\"')['user_score'].dropna(), actual.query('genre == \"Sports\"')['user_score'].dropna())\n",
    "print(results.pvalue)\n",
    "if results.pvalue < alpha:\n",
    "    print('Отвергаем нулевую гипотезу')\n",
    "else:\n",
    "    print('Не отвергаем нулевую гипотезу')"
   ]
  },
  {
   "cell_type": "markdown",
   "metadata": {},
   "source": [
    "Отвергаем нулевую гипотезу, значит и статистически они действительно разные"
   ]
  },
  {
   "cell_type": "markdown",
   "metadata": {},
   "source": [
    "## Вывод"
   ]
  },
  {
   "cell_type": "markdown",
   "metadata": {},
   "source": [
    "    В 1995 году произошел скачок выпуска игр и их стало выпускаться намного больше, предположим это связано с быстрым развитием компьютерных тенологий. Выяснили, что платформы актуальны в течении 5 лет, возьмем данные только с 2013 по 2016, так как остальные года нас не интересуют. А за этот период PS3, X360, 3DS, Wii, WiiU - продажи идут на спад. Продажи игр на PSV росли до 2016 года, и в 2016 начали падать, здесь лучше не рисковать, так как платформе больше 6 лет. Продажи игр на PC плавно идут на подъем, но не так сильно как все остальные. Продажи игр на PS4 и XOne растут каждый год, эти платформы должны быть прибыльными и далее, так как они выходят только с 2013 года.\n",
    "    По оценкам ситуация следующая. Ни одна игра с низкой оценкой критиков не была успешной, но часто они ставят высокую оценку провалившимся в продажах играм. Оценка пользователей разная. Они тоже часто ставят высокую оценку играм, которые провалились в продажах. И заметно чаще ошибаются, поставив низкую оценку успешым играм. ПОсмотрев на корреляию можно сказать, что зависимости между оценкаи пользователей и продажами нет, у критиков зависимость тоже слабая, но все таки выше чем у пользователей. Критики правильнее оценивают игры.\n",
    "    Теперь про жанры. Пятая часть всех выпущеных игр это Action. Так же популярны Sports, Misc. Самые прибыльные игры выходят в жанрах Shooter, Sports и Platform.\n",
    "    Вывод по регионам. Для Американского рынка хоть на первых местах идут игры на PS3 и X360, лучше выпускать игры на PS4 и XOne, так как мы выяснили, что скоро те платформы устареют, а эти набирают популярность. Самые интересные жанры это Action, Shooter и Sport. И самые популярные рейтинги E и M. Для европейского рынка, схожие препочтения, только по платформам тут еще не популярен XOne, но я предполагаю, что со временем он тоже будет пользоваться здесь спросом, так как интересы американцев и европейцев совпадают. Для Японского рынка лучше всего делать игры на платформе 3DS, все отсальные платформы устареют в ближайшее время, а PS4 здесь еще не популярна. XOne и Xbox вообще не популярны. Жанры для этого региона это RPG и Action. А рейтинг игр T и игры без рейтинга.\n",
    "    Проверив нулевую гипотезы, можно сказать, что оценки пользователей PC и XOne равны, а пользовательские рейтинги жанров Action и Sports отличаются"
   ]
  }
 ],
 "metadata": {
  "ExecuteTimeLog": [
   {
    "duration": 260,
    "start_time": "2021-08-26T18:48:37.716Z"
   },
   {
    "duration": 560,
    "start_time": "2021-08-26T18:48:41.831Z"
   },
   {
    "duration": 48,
    "start_time": "2021-08-26T18:49:47.873Z"
   },
   {
    "duration": 208,
    "start_time": "2021-08-26T18:50:40.816Z"
   },
   {
    "duration": 14,
    "start_time": "2021-08-26T18:50:53.389Z"
   },
   {
    "duration": 27,
    "start_time": "2021-08-26T18:50:59.977Z"
   },
   {
    "duration": 21,
    "start_time": "2021-08-26T18:51:21.705Z"
   },
   {
    "duration": 4,
    "start_time": "2021-08-26T18:54:00.569Z"
   },
   {
    "duration": 12,
    "start_time": "2021-08-26T18:54:15.338Z"
   },
   {
    "duration": 6,
    "start_time": "2021-08-26T18:56:58.350Z"
   },
   {
    "duration": 58,
    "start_time": "2021-08-26T18:58:26.417Z"
   },
   {
    "duration": 8,
    "start_time": "2021-08-26T18:58:33.857Z"
   },
   {
    "duration": 10,
    "start_time": "2021-08-26T18:58:46.536Z"
   },
   {
    "duration": 7,
    "start_time": "2021-08-26T19:02:34.746Z"
   },
   {
    "duration": 5,
    "start_time": "2021-08-26T19:03:46.220Z"
   },
   {
    "duration": 2246,
    "start_time": "2021-08-26T19:04:34.090Z"
   },
   {
    "duration": 2201,
    "start_time": "2021-08-26T19:04:46.581Z"
   },
   {
    "duration": 4,
    "start_time": "2021-08-26T19:05:04.835Z"
   },
   {
    "duration": 2291,
    "start_time": "2021-08-26T19:05:05.963Z"
   },
   {
    "duration": 2810,
    "start_time": "2021-08-26T19:05:18.202Z"
   },
   {
    "duration": 2,
    "start_time": "2021-08-26T19:05:37.219Z"
   },
   {
    "duration": 36,
    "start_time": "2021-08-26T19:05:38.190Z"
   },
   {
    "duration": 21,
    "start_time": "2021-08-26T19:05:38.891Z"
   },
   {
    "duration": 3,
    "start_time": "2021-08-26T19:05:45.987Z"
   },
   {
    "duration": 10,
    "start_time": "2021-08-26T19:05:55.157Z"
   },
   {
    "duration": 6,
    "start_time": "2021-08-26T19:05:57.160Z"
   },
   {
    "duration": 2246,
    "start_time": "2021-08-26T19:05:58.190Z"
   },
   {
    "duration": 2219,
    "start_time": "2021-08-26T19:06:11.662Z"
   },
   {
    "duration": 2442,
    "start_time": "2021-08-26T19:06:36.636Z"
   },
   {
    "duration": 188,
    "start_time": "2021-08-26T19:06:46.286Z"
   },
   {
    "duration": 2634,
    "start_time": "2021-08-26T19:06:59.730Z"
   },
   {
    "duration": 3,
    "start_time": "2021-08-26T19:07:08.434Z"
   },
   {
    "duration": 35,
    "start_time": "2021-08-26T19:07:08.456Z"
   },
   {
    "duration": 19,
    "start_time": "2021-08-26T19:07:08.493Z"
   },
   {
    "duration": 2,
    "start_time": "2021-08-26T19:07:08.514Z"
   },
   {
    "duration": 7,
    "start_time": "2021-08-26T19:07:10.293Z"
   },
   {
    "duration": 6,
    "start_time": "2021-08-26T19:07:12.019Z"
   },
   {
    "duration": 11,
    "start_time": "2021-08-26T19:07:14.392Z"
   },
   {
    "duration": 6,
    "start_time": "2021-08-26T19:07:34.541Z"
   },
   {
    "duration": 14,
    "start_time": "2021-08-26T19:07:36.104Z"
   },
   {
    "duration": 176,
    "start_time": "2021-08-26T19:08:21.108Z"
   },
   {
    "duration": 4,
    "start_time": "2021-08-26T19:08:33.938Z"
   },
   {
    "duration": 10,
    "start_time": "2021-08-26T19:08:35.163Z"
   },
   {
    "duration": 194,
    "start_time": "2021-08-26T19:12:42.014Z"
   },
   {
    "duration": 9,
    "start_time": "2021-08-26T19:12:54.189Z"
   },
   {
    "duration": 10,
    "start_time": "2021-08-26T19:12:55.840Z"
   },
   {
    "duration": 7,
    "start_time": "2021-08-26T19:13:15.889Z"
   },
   {
    "duration": 11,
    "start_time": "2021-08-26T19:13:25.515Z"
   },
   {
    "duration": 187,
    "start_time": "2021-08-26T19:16:19.867Z"
   },
   {
    "duration": 7,
    "start_time": "2021-08-26T19:17:21.333Z"
   },
   {
    "duration": 6,
    "start_time": "2021-08-26T19:17:56.166Z"
   },
   {
    "duration": 19,
    "start_time": "2021-08-26T19:18:08.297Z"
   },
   {
    "duration": 8,
    "start_time": "2021-08-26T19:19:15.465Z"
   },
   {
    "duration": 8,
    "start_time": "2021-08-26T19:19:17.558Z"
   },
   {
    "duration": 8,
    "start_time": "2021-08-26T19:19:18.695Z"
   },
   {
    "duration": 7,
    "start_time": "2021-08-26T19:19:20.696Z"
   },
   {
    "duration": 5,
    "start_time": "2021-08-26T19:22:50.267Z"
   },
   {
    "duration": 7,
    "start_time": "2021-08-26T19:23:08.414Z"
   },
   {
    "duration": 8,
    "start_time": "2021-08-26T19:23:56.153Z"
   },
   {
    "duration": 7,
    "start_time": "2021-08-26T19:25:46.370Z"
   },
   {
    "duration": 4264,
    "start_time": "2021-08-26T19:27:38.743Z"
   },
   {
    "duration": 7,
    "start_time": "2021-08-26T19:28:04.039Z"
   },
   {
    "duration": 186,
    "start_time": "2021-08-26T19:29:58.918Z"
   },
   {
    "duration": 194,
    "start_time": "2021-08-26T19:32:30.933Z"
   },
   {
    "duration": 541,
    "start_time": "2021-08-26T19:32:38.961Z"
   },
   {
    "duration": 443,
    "start_time": "2021-08-26T19:37:24.286Z"
   },
   {
    "duration": 14,
    "start_time": "2021-08-26T19:38:11.751Z"
   },
   {
    "duration": 281,
    "start_time": "2021-08-26T19:47:43.688Z"
   },
   {
    "duration": 5,
    "start_time": "2021-08-26T19:47:53.382Z"
   },
   {
    "duration": 371,
    "start_time": "2021-08-26T19:49:05.008Z"
   },
   {
    "duration": 8,
    "start_time": "2021-08-26T19:53:33.053Z"
   },
   {
    "duration": 7,
    "start_time": "2021-08-26T19:53:39.121Z"
   },
   {
    "duration": 462,
    "start_time": "2021-08-26T19:53:45.402Z"
   },
   {
    "duration": 957,
    "start_time": "2021-08-26T19:54:23.279Z"
   },
   {
    "duration": 441,
    "start_time": "2021-08-26T19:54:55.413Z"
   },
   {
    "duration": 441,
    "start_time": "2021-08-26T19:55:01.453Z"
   },
   {
    "duration": 7,
    "start_time": "2021-08-26T19:56:26.677Z"
   },
   {
    "duration": 9,
    "start_time": "2021-08-26T19:56:33.099Z"
   },
   {
    "duration": 8,
    "start_time": "2021-08-26T19:56:41.471Z"
   },
   {
    "duration": 10,
    "start_time": "2021-08-26T19:56:43.182Z"
   },
   {
    "duration": 6,
    "start_time": "2021-08-26T19:57:24.827Z"
   },
   {
    "duration": 10,
    "start_time": "2021-08-26T19:57:26.253Z"
   },
   {
    "duration": 5,
    "start_time": "2021-08-26T19:58:06.910Z"
   },
   {
    "duration": 17,
    "start_time": "2021-08-26T19:58:11.570Z"
   },
   {
    "duration": 4,
    "start_time": "2021-08-26T19:58:12.890Z"
   },
   {
    "duration": 391,
    "start_time": "2021-08-26T19:58:14.018Z"
   },
   {
    "duration": 22,
    "start_time": "2021-08-26T19:58:45.654Z"
   },
   {
    "duration": 14,
    "start_time": "2021-08-26T19:58:59.913Z"
   },
   {
    "duration": 3,
    "start_time": "2021-08-26T20:00:07.503Z"
   },
   {
    "duration": 51,
    "start_time": "2021-08-26T20:00:07.508Z"
   },
   {
    "duration": 18,
    "start_time": "2021-08-26T20:00:07.561Z"
   },
   {
    "duration": 3,
    "start_time": "2021-08-26T20:00:07.581Z"
   },
   {
    "duration": 12,
    "start_time": "2021-08-26T20:00:07.585Z"
   },
   {
    "duration": 6,
    "start_time": "2021-08-26T20:00:07.598Z"
   },
   {
    "duration": 5,
    "start_time": "2021-08-26T20:00:07.606Z"
   },
   {
    "duration": 6,
    "start_time": "2021-08-26T20:00:07.613Z"
   },
   {
    "duration": 12,
    "start_time": "2021-08-26T20:00:07.621Z"
   },
   {
    "duration": 10,
    "start_time": "2021-08-26T20:00:12.751Z"
   },
   {
    "duration": 3,
    "start_time": "2021-08-26T20:00:15.162Z"
   },
   {
    "duration": 407,
    "start_time": "2021-08-26T20:00:16.386Z"
   },
   {
    "duration": 5,
    "start_time": "2021-08-26T20:03:13.977Z"
   },
   {
    "duration": 16,
    "start_time": "2021-08-26T20:03:35.319Z"
   },
   {
    "duration": 4,
    "start_time": "2021-08-26T20:05:13.082Z"
   },
   {
    "duration": 7,
    "start_time": "2021-08-26T20:05:34.056Z"
   },
   {
    "duration": 5,
    "start_time": "2021-08-26T20:06:14.978Z"
   },
   {
    "duration": 5,
    "start_time": "2021-08-26T20:06:26.703Z"
   },
   {
    "duration": 2,
    "start_time": "2021-08-26T20:06:51.675Z"
   },
   {
    "duration": 37,
    "start_time": "2021-08-26T20:06:51.689Z"
   },
   {
    "duration": 23,
    "start_time": "2021-08-26T20:06:51.728Z"
   },
   {
    "duration": 4,
    "start_time": "2021-08-26T20:06:51.753Z"
   },
   {
    "duration": 12,
    "start_time": "2021-08-26T20:06:51.759Z"
   },
   {
    "duration": 11,
    "start_time": "2021-08-26T20:06:51.784Z"
   },
   {
    "duration": 12,
    "start_time": "2021-08-26T20:06:51.798Z"
   },
   {
    "duration": 9,
    "start_time": "2021-08-26T20:06:51.812Z"
   },
   {
    "duration": 6,
    "start_time": "2021-08-26T20:06:51.824Z"
   },
   {
    "duration": 5,
    "start_time": "2021-08-26T20:06:54.899Z"
   },
   {
    "duration": 207,
    "start_time": "2021-08-26T20:07:03.689Z"
   },
   {
    "duration": 11,
    "start_time": "2021-08-26T20:07:08.864Z"
   },
   {
    "duration": 189,
    "start_time": "2021-08-26T20:08:38.314Z"
   },
   {
    "duration": 17,
    "start_time": "2021-08-26T20:08:53.564Z"
   },
   {
    "duration": 2,
    "start_time": "2021-08-26T20:14:17.061Z"
   },
   {
    "duration": 39,
    "start_time": "2021-08-26T20:14:17.065Z"
   },
   {
    "duration": 20,
    "start_time": "2021-08-26T20:14:17.106Z"
   },
   {
    "duration": 3,
    "start_time": "2021-08-26T20:14:17.128Z"
   },
   {
    "duration": 10,
    "start_time": "2021-08-26T20:14:17.132Z"
   },
   {
    "duration": 7,
    "start_time": "2021-08-26T20:14:17.144Z"
   },
   {
    "duration": 37,
    "start_time": "2021-08-26T20:14:17.152Z"
   },
   {
    "duration": 6,
    "start_time": "2021-08-26T20:14:17.192Z"
   },
   {
    "duration": 4,
    "start_time": "2021-08-26T20:14:17.199Z"
   },
   {
    "duration": 5,
    "start_time": "2021-08-26T20:14:17.205Z"
   },
   {
    "duration": 5,
    "start_time": "2021-08-26T20:14:17.212Z"
   },
   {
    "duration": 23,
    "start_time": "2021-08-26T20:14:20.157Z"
   },
   {
    "duration": 626,
    "start_time": "2021-08-26T20:14:51.201Z"
   },
   {
    "duration": 516,
    "start_time": "2021-08-26T20:15:57.292Z"
   },
   {
    "duration": 15,
    "start_time": "2021-08-26T20:16:49.187Z"
   },
   {
    "duration": 536,
    "start_time": "2021-08-26T20:17:32.764Z"
   },
   {
    "duration": 178,
    "start_time": "2021-08-26T20:18:10.295Z"
   },
   {
    "duration": 59,
    "start_time": "2021-08-26T20:19:11.695Z"
   },
   {
    "duration": 4,
    "start_time": "2021-08-26T20:19:16.257Z"
   },
   {
    "duration": 514,
    "start_time": "2021-08-26T20:19:24.940Z"
   },
   {
    "duration": 3,
    "start_time": "2021-08-26T20:20:01.866Z"
   },
   {
    "duration": 62,
    "start_time": "2021-08-26T20:20:01.871Z"
   },
   {
    "duration": 21,
    "start_time": "2021-08-26T20:20:01.936Z"
   },
   {
    "duration": 33,
    "start_time": "2021-08-26T20:20:01.958Z"
   },
   {
    "duration": 18,
    "start_time": "2021-08-26T20:20:01.993Z"
   },
   {
    "duration": 11,
    "start_time": "2021-08-26T20:20:02.013Z"
   },
   {
    "duration": 23,
    "start_time": "2021-08-26T20:20:02.026Z"
   },
   {
    "duration": 18,
    "start_time": "2021-08-26T20:20:02.051Z"
   },
   {
    "duration": 48,
    "start_time": "2021-08-26T20:20:02.071Z"
   },
   {
    "duration": 5,
    "start_time": "2021-08-26T20:20:03.841Z"
   },
   {
    "duration": 4,
    "start_time": "2021-08-26T20:20:50.624Z"
   },
   {
    "duration": 4,
    "start_time": "2021-08-26T20:20:55.981Z"
   },
   {
    "duration": 5,
    "start_time": "2021-08-26T20:21:03.310Z"
   },
   {
    "duration": 2,
    "start_time": "2021-08-26T20:21:30.347Z"
   },
   {
    "duration": 38,
    "start_time": "2021-08-26T20:21:30.352Z"
   },
   {
    "duration": 21,
    "start_time": "2021-08-26T20:21:30.392Z"
   },
   {
    "duration": 3,
    "start_time": "2021-08-26T20:21:30.415Z"
   },
   {
    "duration": 16,
    "start_time": "2021-08-26T20:21:30.420Z"
   },
   {
    "duration": 9,
    "start_time": "2021-08-26T20:21:30.437Z"
   },
   {
    "duration": 12,
    "start_time": "2021-08-26T20:21:30.448Z"
   },
   {
    "duration": 29,
    "start_time": "2021-08-26T20:21:30.462Z"
   },
   {
    "duration": 11,
    "start_time": "2021-08-26T20:21:30.492Z"
   },
   {
    "duration": 6,
    "start_time": "2021-08-26T20:21:34.635Z"
   },
   {
    "duration": 8,
    "start_time": "2021-08-26T20:25:20.206Z"
   },
   {
    "duration": 7,
    "start_time": "2021-08-26T20:25:41.966Z"
   },
   {
    "duration": 178,
    "start_time": "2021-08-26T20:26:29.596Z"
   },
   {
    "duration": 13,
    "start_time": "2021-08-26T20:26:34.772Z"
   },
   {
    "duration": 177,
    "start_time": "2021-08-26T20:27:25.373Z"
   },
   {
    "duration": 7,
    "start_time": "2021-08-26T20:29:35.184Z"
   },
   {
    "duration": 6,
    "start_time": "2021-08-26T20:29:53.842Z"
   },
   {
    "duration": 178,
    "start_time": "2021-08-26T20:30:01.195Z"
   },
   {
    "duration": 6,
    "start_time": "2021-08-26T20:31:49.584Z"
   },
   {
    "duration": 4,
    "start_time": "2021-08-26T20:40:19.597Z"
   },
   {
    "duration": 5,
    "start_time": "2021-08-26T20:40:34.888Z"
   },
   {
    "duration": 377,
    "start_time": "2021-08-26T20:41:11.175Z"
   },
   {
    "duration": 3,
    "start_time": "2021-08-26T20:42:35.539Z"
   },
   {
    "duration": 354,
    "start_time": "2021-08-26T20:42:36.643Z"
   },
   {
    "duration": 3,
    "start_time": "2021-08-26T20:43:21.823Z"
   },
   {
    "duration": 353,
    "start_time": "2021-08-26T20:43:24.498Z"
   },
   {
    "duration": 2,
    "start_time": "2021-08-26T20:44:38.335Z"
   },
   {
    "duration": 4538,
    "start_time": "2021-08-26T20:46:02.807Z"
   },
   {
    "duration": 4287,
    "start_time": "2021-08-26T20:46:49.212Z"
   },
   {
    "duration": 6,
    "start_time": "2021-08-26T20:47:01.500Z"
   },
   {
    "duration": 60,
    "start_time": "2021-08-26T20:47:22.296Z"
   },
   {
    "duration": 5,
    "start_time": "2021-08-26T20:47:29.755Z"
   },
   {
    "duration": 6,
    "start_time": "2021-08-26T20:47:31.602Z"
   },
   {
    "duration": 7,
    "start_time": "2021-08-26T20:47:44.572Z"
   },
   {
    "duration": 4,
    "start_time": "2021-08-26T20:49:32.406Z"
   },
   {
    "duration": 346,
    "start_time": "2021-08-26T20:49:56.133Z"
   },
   {
    "duration": 7,
    "start_time": "2021-08-26T20:50:51.303Z"
   },
   {
    "duration": 3,
    "start_time": "2021-08-26T20:51:26.812Z"
   },
   {
    "duration": 171,
    "start_time": "2021-08-26T20:51:49.360Z"
   },
   {
    "duration": 27,
    "start_time": "2021-08-26T20:51:56.739Z"
   },
   {
    "duration": 3,
    "start_time": "2021-08-26T20:52:18.496Z"
   },
   {
    "duration": 37,
    "start_time": "2021-08-26T20:52:18.503Z"
   },
   {
    "duration": 20,
    "start_time": "2021-08-26T20:52:18.541Z"
   },
   {
    "duration": 3,
    "start_time": "2021-08-26T20:52:18.562Z"
   },
   {
    "duration": 10,
    "start_time": "2021-08-26T20:52:18.567Z"
   },
   {
    "duration": 14,
    "start_time": "2021-08-26T20:52:18.578Z"
   },
   {
    "duration": 9,
    "start_time": "2021-08-26T20:52:18.594Z"
   },
   {
    "duration": 5,
    "start_time": "2021-08-26T20:52:18.605Z"
   },
   {
    "duration": 4,
    "start_time": "2021-08-26T20:52:18.611Z"
   },
   {
    "duration": 6,
    "start_time": "2021-08-26T20:52:18.617Z"
   },
   {
    "duration": 7,
    "start_time": "2021-08-26T20:52:18.624Z"
   },
   {
    "duration": 3,
    "start_time": "2021-08-26T20:52:22.423Z"
   },
   {
    "duration": 27,
    "start_time": "2021-08-26T20:52:23.598Z"
   },
   {
    "duration": 2,
    "start_time": "2021-08-26T20:53:05.781Z"
   },
   {
    "duration": 45,
    "start_time": "2021-08-26T20:53:05.786Z"
   },
   {
    "duration": 20,
    "start_time": "2021-08-26T20:53:05.833Z"
   },
   {
    "duration": 3,
    "start_time": "2021-08-26T20:53:05.855Z"
   },
   {
    "duration": 35,
    "start_time": "2021-08-26T20:53:05.860Z"
   },
   {
    "duration": 8,
    "start_time": "2021-08-26T20:53:05.898Z"
   },
   {
    "duration": 9,
    "start_time": "2021-08-26T20:53:05.908Z"
   },
   {
    "duration": 6,
    "start_time": "2021-08-26T20:53:05.919Z"
   },
   {
    "duration": 4,
    "start_time": "2021-08-26T20:53:05.927Z"
   },
   {
    "duration": 6,
    "start_time": "2021-08-26T20:53:05.932Z"
   },
   {
    "duration": 3,
    "start_time": "2021-08-26T20:53:05.940Z"
   },
   {
    "duration": 28,
    "start_time": "2021-08-26T20:53:08.844Z"
   },
   {
    "duration": 3,
    "start_time": "2021-08-26T20:53:56.018Z"
   },
   {
    "duration": 3,
    "start_time": "2021-08-26T20:54:14.450Z"
   },
   {
    "duration": 3,
    "start_time": "2021-08-26T20:54:20.298Z"
   },
   {
    "duration": 26,
    "start_time": "2021-08-26T20:54:21.432Z"
   },
   {
    "duration": 4,
    "start_time": "2021-08-26T20:54:23.761Z"
   },
   {
    "duration": 4,
    "start_time": "2021-08-26T20:55:05.461Z"
   },
   {
    "duration": 5,
    "start_time": "2021-08-26T20:55:11.494Z"
   },
   {
    "duration": 4,
    "start_time": "2021-08-26T20:55:49.573Z"
   },
   {
    "duration": 26,
    "start_time": "2021-08-26T20:55:50.508Z"
   },
   {
    "duration": 2,
    "start_time": "2021-08-26T20:56:18.202Z"
   },
   {
    "duration": 38,
    "start_time": "2021-08-26T20:56:18.206Z"
   },
   {
    "duration": 19,
    "start_time": "2021-08-26T20:56:18.246Z"
   },
   {
    "duration": 3,
    "start_time": "2021-08-26T20:56:18.267Z"
   },
   {
    "duration": 13,
    "start_time": "2021-08-26T20:56:18.272Z"
   },
   {
    "duration": 10,
    "start_time": "2021-08-26T20:56:18.287Z"
   },
   {
    "duration": 9,
    "start_time": "2021-08-26T20:56:18.301Z"
   },
   {
    "duration": 7,
    "start_time": "2021-08-26T20:56:18.312Z"
   },
   {
    "duration": 5,
    "start_time": "2021-08-26T20:56:18.321Z"
   },
   {
    "duration": 5,
    "start_time": "2021-08-26T20:56:18.328Z"
   },
   {
    "duration": 3,
    "start_time": "2021-08-26T20:56:21.649Z"
   },
   {
    "duration": 33,
    "start_time": "2021-08-26T20:56:22.783Z"
   },
   {
    "duration": 3,
    "start_time": "2021-08-26T20:56:35.976Z"
   },
   {
    "duration": 26,
    "start_time": "2021-08-26T20:56:37.138Z"
   },
   {
    "duration": 74,
    "start_time": "2021-08-26T21:03:37.297Z"
   },
   {
    "duration": 4,
    "start_time": "2021-08-26T21:03:57.533Z"
   },
   {
    "duration": 32794,
    "start_time": "2021-08-26T21:04:20.436Z"
   },
   {
    "duration": 4,
    "start_time": "2021-08-26T21:06:46.026Z"
   },
   {
    "duration": 50219,
    "start_time": "2021-08-26T21:06:48.202Z"
   },
   {
    "duration": 6,
    "start_time": "2021-08-26T21:09:59.455Z"
   },
   {
    "duration": 5,
    "start_time": "2021-08-26T21:10:00.967Z"
   },
   {
    "duration": 18,
    "start_time": "2021-08-26T21:10:03.610Z"
   },
   {
    "duration": 631,
    "start_time": "2021-08-27T12:32:46.487Z"
   },
   {
    "duration": 44,
    "start_time": "2021-08-27T12:32:47.119Z"
   },
   {
    "duration": 37,
    "start_time": "2021-08-27T12:32:47.165Z"
   },
   {
    "duration": 4,
    "start_time": "2021-08-27T12:32:47.204Z"
   },
   {
    "duration": 16,
    "start_time": "2021-08-27T12:32:47.210Z"
   },
   {
    "duration": 9,
    "start_time": "2021-08-27T12:32:47.229Z"
   },
   {
    "duration": 15,
    "start_time": "2021-08-27T12:32:47.240Z"
   },
   {
    "duration": 39,
    "start_time": "2021-08-27T12:32:47.259Z"
   },
   {
    "duration": 7,
    "start_time": "2021-08-27T12:32:47.300Z"
   },
   {
    "duration": 9,
    "start_time": "2021-08-27T12:32:47.309Z"
   },
   {
    "duration": 5,
    "start_time": "2021-08-27T12:32:47.320Z"
   },
   {
    "duration": 541,
    "start_time": "2021-08-27T12:32:47.327Z"
   },
   {
    "duration": -1169,
    "start_time": "2021-08-27T12:32:49.039Z"
   },
   {
    "duration": -1175,
    "start_time": "2021-08-27T12:32:49.045Z"
   },
   {
    "duration": -1189,
    "start_time": "2021-08-27T12:32:49.060Z"
   },
   {
    "duration": -1213,
    "start_time": "2021-08-27T12:32:49.085Z"
   },
   {
    "duration": 4,
    "start_time": "2021-08-27T12:33:20.996Z"
   },
   {
    "duration": 526,
    "start_time": "2021-08-27T12:33:21.976Z"
   },
   {
    "duration": 4,
    "start_time": "2021-08-27T12:33:51.501Z"
   },
   {
    "duration": 33,
    "start_time": "2021-08-27T12:33:52.408Z"
   },
   {
    "duration": 5,
    "start_time": "2021-08-27T12:33:54.952Z"
   },
   {
    "duration": 262,
    "start_time": "2021-08-27T12:33:56.292Z"
   },
   {
    "duration": 4,
    "start_time": "2021-08-27T12:34:20.979Z"
   },
   {
    "duration": 258,
    "start_time": "2021-08-27T12:34:21.922Z"
   },
   {
    "duration": 260,
    "start_time": "2021-08-27T12:35:48.169Z"
   },
   {
    "duration": 41,
    "start_time": "2021-08-27T12:36:09.402Z"
   },
   {
    "duration": 5,
    "start_time": "2021-08-27T12:36:10.883Z"
   },
   {
    "duration": 5,
    "start_time": "2021-08-27T12:36:13.678Z"
   },
   {
    "duration": 64279,
    "start_time": "2021-08-27T12:36:15.894Z"
   },
   {
    "duration": 7,
    "start_time": "2021-08-27T12:37:25.932Z"
   },
   {
    "duration": 7,
    "start_time": "2021-08-27T12:37:28.258Z"
   },
   {
    "duration": 28,
    "start_time": "2021-08-27T12:37:30.097Z"
   },
   {
    "duration": 7,
    "start_time": "2021-08-27T12:48:38.150Z"
   },
   {
    "duration": 3,
    "start_time": "2021-08-27T12:48:43.596Z"
   },
   {
    "duration": 38,
    "start_time": "2021-08-27T12:48:44.444Z"
   },
   {
    "duration": 24,
    "start_time": "2021-08-27T12:48:44.484Z"
   },
   {
    "duration": 3,
    "start_time": "2021-08-27T12:48:44.511Z"
   },
   {
    "duration": 19,
    "start_time": "2021-08-27T12:48:44.516Z"
   },
   {
    "duration": 11,
    "start_time": "2021-08-27T12:48:44.538Z"
   },
   {
    "duration": 16,
    "start_time": "2021-08-27T12:48:44.551Z"
   },
   {
    "duration": 30,
    "start_time": "2021-08-27T12:48:44.569Z"
   },
   {
    "duration": 10,
    "start_time": "2021-08-27T12:48:44.601Z"
   },
   {
    "duration": 6,
    "start_time": "2021-08-27T12:48:44.613Z"
   },
   {
    "duration": 8,
    "start_time": "2021-08-27T12:48:44.621Z"
   },
   {
    "duration": 40,
    "start_time": "2021-08-27T12:48:44.631Z"
   },
   {
    "duration": 22,
    "start_time": "2021-08-27T12:48:44.673Z"
   },
   {
    "duration": 9,
    "start_time": "2021-08-27T12:48:44.697Z"
   },
   {
    "duration": 63341,
    "start_time": "2021-08-27T12:48:44.708Z"
   },
   {
    "duration": 5,
    "start_time": "2021-08-27T12:49:48.051Z"
   },
   {
    "duration": 22,
    "start_time": "2021-08-27T12:49:48.058Z"
   },
   {
    "duration": 47,
    "start_time": "2021-08-27T12:49:48.081Z"
   },
   {
    "duration": 3,
    "start_time": "2021-08-27T12:53:40.092Z"
   },
   {
    "duration": 38,
    "start_time": "2021-08-27T12:53:41.946Z"
   },
   {
    "duration": 24,
    "start_time": "2021-08-27T12:53:42.639Z"
   },
   {
    "duration": 4,
    "start_time": "2021-08-27T12:53:46.617Z"
   },
   {
    "duration": 10,
    "start_time": "2021-08-27T12:53:47.445Z"
   },
   {
    "duration": 8,
    "start_time": "2021-08-27T12:53:48.485Z"
   },
   {
    "duration": 9,
    "start_time": "2021-08-27T12:53:50.139Z"
   },
   {
    "duration": 7,
    "start_time": "2021-08-27T12:53:50.635Z"
   },
   {
    "duration": 5,
    "start_time": "2021-08-27T12:53:51.795Z"
   },
   {
    "duration": 6,
    "start_time": "2021-08-27T12:53:52.519Z"
   },
   {
    "duration": 4,
    "start_time": "2021-08-27T12:53:53.937Z"
   },
   {
    "duration": 47,
    "start_time": "2021-08-27T12:53:54.706Z"
   },
   {
    "duration": 6,
    "start_time": "2021-08-27T12:53:57.359Z"
   },
   {
    "duration": 5,
    "start_time": "2021-08-27T12:53:58.795Z"
   },
   {
    "duration": 67029,
    "start_time": "2021-08-27T12:53:59.873Z"
   },
   {
    "duration": 5,
    "start_time": "2021-08-27T12:55:12.172Z"
   },
   {
    "duration": 6,
    "start_time": "2021-08-27T12:55:13.013Z"
   },
   {
    "duration": 20,
    "start_time": "2021-08-27T12:55:14.243Z"
   },
   {
    "duration": 3,
    "start_time": "2021-08-27T12:55:17.691Z"
   },
   {
    "duration": 1074,
    "start_time": "2021-08-27T13:01:01.566Z"
   },
   {
    "duration": 47,
    "start_time": "2021-08-27T13:01:02.643Z"
   },
   {
    "duration": 35,
    "start_time": "2021-08-27T13:01:02.693Z"
   },
   {
    "duration": 8,
    "start_time": "2021-08-27T13:01:02.731Z"
   },
   {
    "duration": 21,
    "start_time": "2021-08-27T13:01:02.741Z"
   },
   {
    "duration": 31,
    "start_time": "2021-08-27T13:01:02.764Z"
   },
   {
    "duration": 64,
    "start_time": "2021-08-27T13:01:02.798Z"
   },
   {
    "duration": 20,
    "start_time": "2021-08-27T13:01:02.866Z"
   },
   {
    "duration": 21,
    "start_time": "2021-08-27T13:01:02.888Z"
   },
   {
    "duration": 15,
    "start_time": "2021-08-27T13:01:02.911Z"
   },
   {
    "duration": 18,
    "start_time": "2021-08-27T13:01:02.929Z"
   },
   {
    "duration": 61,
    "start_time": "2021-08-27T13:01:02.950Z"
   },
   {
    "duration": 6,
    "start_time": "2021-08-27T13:01:03.014Z"
   },
   {
    "duration": 6,
    "start_time": "2021-08-27T13:01:03.022Z"
   },
   {
    "duration": 68754,
    "start_time": "2021-08-27T13:01:03.030Z"
   },
   {
    "duration": 10,
    "start_time": "2021-08-27T13:02:11.786Z"
   },
   {
    "duration": 5,
    "start_time": "2021-08-27T13:02:11.798Z"
   },
   {
    "duration": 21,
    "start_time": "2021-08-27T13:02:11.805Z"
   },
   {
    "duration": 192,
    "start_time": "2021-08-27T13:02:11.828Z"
   },
   {
    "duration": 466,
    "start_time": "2021-08-27T13:02:26.987Z"
   },
   {
    "duration": 758,
    "start_time": "2021-08-27T13:05:06.914Z"
   },
   {
    "duration": 44,
    "start_time": "2021-08-27T13:05:07.674Z"
   },
   {
    "duration": 29,
    "start_time": "2021-08-27T13:05:07.721Z"
   },
   {
    "duration": 3,
    "start_time": "2021-08-27T13:05:07.753Z"
   },
   {
    "duration": 41,
    "start_time": "2021-08-27T13:05:07.758Z"
   },
   {
    "duration": 10,
    "start_time": "2021-08-27T13:05:07.802Z"
   },
   {
    "duration": 13,
    "start_time": "2021-08-27T13:05:07.814Z"
   },
   {
    "duration": 8,
    "start_time": "2021-08-27T13:05:07.829Z"
   },
   {
    "duration": 6,
    "start_time": "2021-08-27T13:05:07.841Z"
   },
   {
    "duration": 47,
    "start_time": "2021-08-27T13:05:07.849Z"
   },
   {
    "duration": 5,
    "start_time": "2021-08-27T13:05:07.899Z"
   },
   {
    "duration": 36,
    "start_time": "2021-08-27T13:05:07.907Z"
   },
   {
    "duration": 5,
    "start_time": "2021-08-27T13:05:07.946Z"
   },
   {
    "duration": 19,
    "start_time": "2021-08-27T13:05:07.953Z"
   },
   {
    "duration": 64643,
    "start_time": "2021-08-27T13:05:07.974Z"
   },
   {
    "duration": 6,
    "start_time": "2021-08-27T13:06:12.619Z"
   },
   {
    "duration": 9,
    "start_time": "2021-08-27T13:06:12.627Z"
   },
   {
    "duration": 21,
    "start_time": "2021-08-27T13:06:12.639Z"
   },
   {
    "duration": 355,
    "start_time": "2021-08-27T13:06:12.663Z"
   },
   {
    "duration": 133,
    "start_time": "2021-08-27T13:06:43.765Z"
   },
   {
    "duration": 228,
    "start_time": "2021-08-27T13:07:03.726Z"
   },
   {
    "duration": 171,
    "start_time": "2021-08-27T13:07:48.329Z"
   },
   {
    "duration": 175,
    "start_time": "2021-08-27T13:08:14.634Z"
   },
   {
    "duration": 171000,
    "start_time": "2021-08-27T13:09:12.520Z"
   },
   {
    "duration": 12,
    "start_time": "2021-08-27T13:12:03.522Z"
   },
   {
    "duration": 748,
    "start_time": "2021-08-27T13:12:14.647Z"
   },
   {
    "duration": 42,
    "start_time": "2021-08-27T13:12:15.397Z"
   },
   {
    "duration": 29,
    "start_time": "2021-08-27T13:12:15.444Z"
   },
   {
    "duration": 4,
    "start_time": "2021-08-27T13:12:15.491Z"
   },
   {
    "duration": 26,
    "start_time": "2021-08-27T13:12:15.497Z"
   },
   {
    "duration": 23,
    "start_time": "2021-08-27T13:12:15.525Z"
   },
   {
    "duration": 24,
    "start_time": "2021-08-27T13:12:15.551Z"
   },
   {
    "duration": 20,
    "start_time": "2021-08-27T13:12:15.578Z"
   },
   {
    "duration": 19,
    "start_time": "2021-08-27T13:12:15.600Z"
   },
   {
    "duration": 17,
    "start_time": "2021-08-27T13:12:15.621Z"
   },
   {
    "duration": 34,
    "start_time": "2021-08-27T13:12:15.640Z"
   },
   {
    "duration": 43,
    "start_time": "2021-08-27T13:12:15.676Z"
   },
   {
    "duration": 5,
    "start_time": "2021-08-27T13:12:15.721Z"
   },
   {
    "duration": 16,
    "start_time": "2021-08-27T13:12:15.729Z"
   },
   {
    "duration": 61786,
    "start_time": "2021-08-27T13:12:15.746Z"
   },
   {
    "duration": 6,
    "start_time": "2021-08-27T13:13:17.535Z"
   },
   {
    "duration": 9,
    "start_time": "2021-08-27T13:13:17.543Z"
   },
   {
    "duration": 47,
    "start_time": "2021-08-27T13:13:17.554Z"
   },
   {
    "duration": 205,
    "start_time": "2021-08-27T13:13:17.603Z"
   },
   {
    "duration": 12,
    "start_time": "2021-08-27T13:13:17.810Z"
   },
   {
    "duration": 16,
    "start_time": "2021-08-27T13:13:49.779Z"
   },
   {
    "duration": 17,
    "start_time": "2021-08-27T13:14:17.500Z"
   },
   {
    "duration": 16,
    "start_time": "2021-08-27T13:14:27.886Z"
   },
   {
    "duration": 12,
    "start_time": "2021-08-27T13:14:44.956Z"
   },
   {
    "duration": 16,
    "start_time": "2021-08-27T13:15:25.464Z"
   },
   {
    "duration": 78,
    "start_time": "2021-08-27T13:16:06.115Z"
   },
   {
    "duration": 20,
    "start_time": "2021-08-27T13:17:01.071Z"
   },
   {
    "duration": 18,
    "start_time": "2021-08-27T13:17:46.309Z"
   },
   {
    "duration": 125,
    "start_time": "2021-08-27T13:27:16.123Z"
   },
   {
    "duration": 122,
    "start_time": "2021-08-27T13:27:57.845Z"
   },
   {
    "duration": 17,
    "start_time": "2021-08-27T13:28:47.929Z"
   },
   {
    "duration": 99,
    "start_time": "2021-08-27T13:32:37.799Z"
   },
   {
    "duration": 145,
    "start_time": "2021-08-27T13:32:50.155Z"
   },
   {
    "duration": 484,
    "start_time": "2021-08-27T13:33:41.819Z"
   },
   {
    "duration": 492,
    "start_time": "2021-08-27T13:33:51.111Z"
   },
   {
    "duration": 779,
    "start_time": "2021-08-27T13:34:00.006Z"
   },
   {
    "duration": 373,
    "start_time": "2021-08-27T13:54:22.271Z"
   },
   {
    "duration": 7,
    "start_time": "2021-08-27T13:54:33.432Z"
   },
   {
    "duration": 18,
    "start_time": "2021-08-27T13:54:58.455Z"
   },
   {
    "duration": 13,
    "start_time": "2021-08-27T13:55:18.003Z"
   },
   {
    "duration": 11,
    "start_time": "2021-08-27T13:57:11.574Z"
   },
   {
    "duration": 15,
    "start_time": "2021-08-27T13:57:58.291Z"
   },
   {
    "duration": 14,
    "start_time": "2021-08-27T13:58:09.404Z"
   },
   {
    "duration": 15,
    "start_time": "2021-08-27T13:58:22.105Z"
   },
   {
    "duration": 9,
    "start_time": "2021-08-27T13:58:33.465Z"
   },
   {
    "duration": 7,
    "start_time": "2021-08-27T14:07:24.083Z"
   },
   {
    "duration": 16,
    "start_time": "2021-08-27T14:17:38.699Z"
   },
   {
    "duration": 14,
    "start_time": "2021-08-27T14:17:52.445Z"
   },
   {
    "duration": 19,
    "start_time": "2021-08-27T14:20:17.583Z"
   },
   {
    "duration": 16,
    "start_time": "2021-08-27T14:22:56.683Z"
   },
   {
    "duration": 21,
    "start_time": "2021-08-27T14:24:25.916Z"
   },
   {
    "duration": 4,
    "start_time": "2021-08-27T14:28:19.996Z"
   },
   {
    "duration": 654,
    "start_time": "2021-08-27T14:28:51.748Z"
   },
   {
    "duration": 3,
    "start_time": "2021-08-27T14:29:35.171Z"
   },
   {
    "duration": 1151,
    "start_time": "2021-08-27T14:29:36.529Z"
   },
   {
    "duration": 5,
    "start_time": "2021-08-27T14:29:55.933Z"
   },
   {
    "duration": 1178,
    "start_time": "2021-08-27T14:29:58.009Z"
   },
   {
    "duration": 3,
    "start_time": "2021-08-27T14:30:10.171Z"
   },
   {
    "duration": 1023,
    "start_time": "2021-08-27T14:30:11.317Z"
   },
   {
    "duration": 3,
    "start_time": "2021-08-27T14:31:22.835Z"
   },
   {
    "duration": 1389,
    "start_time": "2021-08-27T14:31:24.123Z"
   },
   {
    "duration": 6,
    "start_time": "2021-08-27T14:31:52.156Z"
   },
   {
    "duration": 1793,
    "start_time": "2021-08-27T14:31:53.463Z"
   },
   {
    "duration": 7,
    "start_time": "2021-08-27T14:32:41.196Z"
   },
   {
    "duration": 1160,
    "start_time": "2021-08-27T14:32:42.623Z"
   },
   {
    "duration": 259,
    "start_time": "2021-08-27T14:33:50.845Z"
   },
   {
    "duration": 254,
    "start_time": "2021-08-27T14:34:06.224Z"
   },
   {
    "duration": 5,
    "start_time": "2021-08-27T14:34:22.586Z"
   },
   {
    "duration": 1283,
    "start_time": "2021-08-27T14:34:23.823Z"
   },
   {
    "duration": 4,
    "start_time": "2021-08-27T14:36:12.123Z"
   },
   {
    "duration": 12480,
    "start_time": "2021-08-27T14:36:14.570Z"
   },
   {
    "duration": 4,
    "start_time": "2021-08-27T14:36:32.198Z"
   },
   {
    "duration": 4,
    "start_time": "2021-08-27T14:36:41.788Z"
   },
   {
    "duration": 645,
    "start_time": "2021-08-27T14:36:43.049Z"
   },
   {
    "duration": 13,
    "start_time": "2021-08-27T14:37:14.764Z"
   },
   {
    "duration": 13,
    "start_time": "2021-08-27T14:37:24.979Z"
   },
   {
    "duration": 5,
    "start_time": "2021-08-27T14:37:29.876Z"
   },
   {
    "duration": 956,
    "start_time": "2021-08-27T14:37:31.221Z"
   },
   {
    "duration": 406,
    "start_time": "2021-08-27T14:40:00.932Z"
   },
   {
    "duration": 738,
    "start_time": "2021-08-27T14:40:19.667Z"
   },
   {
    "duration": 5,
    "start_time": "2021-08-27T14:44:54.825Z"
   },
   {
    "duration": 6920,
    "start_time": "2021-08-27T14:44:57.874Z"
   },
   {
    "duration": 4,
    "start_time": "2021-08-27T14:47:18.293Z"
   },
   {
    "duration": 1375,
    "start_time": "2021-08-27T14:47:20.314Z"
   },
   {
    "duration": 4,
    "start_time": "2021-08-27T14:47:46.330Z"
   },
   {
    "duration": 918,
    "start_time": "2021-08-27T14:47:48.300Z"
   },
   {
    "duration": 4,
    "start_time": "2021-08-27T14:48:09.696Z"
   },
   {
    "duration": 1187,
    "start_time": "2021-08-27T14:48:10.692Z"
   },
   {
    "duration": 9,
    "start_time": "2021-08-27T14:49:40.698Z"
   },
   {
    "duration": 9,
    "start_time": "2021-08-27T14:50:07.710Z"
   },
   {
    "duration": 8,
    "start_time": "2021-08-27T14:50:22.128Z"
   },
   {
    "duration": 273,
    "start_time": "2021-08-27T14:50:29.524Z"
   },
   {
    "duration": 8,
    "start_time": "2021-08-27T14:50:49.765Z"
   },
   {
    "duration": 6,
    "start_time": "2021-08-27T14:50:57.215Z"
   },
   {
    "duration": 4,
    "start_time": "2021-08-27T14:51:18.765Z"
   },
   {
    "duration": 958,
    "start_time": "2021-08-27T14:51:20.444Z"
   },
   {
    "duration": 7,
    "start_time": "2021-08-27T14:57:08.058Z"
   },
   {
    "duration": 408,
    "start_time": "2021-08-31T13:50:48.249Z"
   },
   {
    "duration": 542,
    "start_time": "2021-08-31T13:50:53.796Z"
   },
   {
    "duration": 2862,
    "start_time": "2021-08-31T13:50:59.492Z"
   },
   {
    "duration": 48,
    "start_time": "2021-08-31T13:51:02.357Z"
   },
   {
    "duration": 37,
    "start_time": "2021-08-31T13:51:02.407Z"
   },
   {
    "duration": 4,
    "start_time": "2021-08-31T13:51:02.463Z"
   },
   {
    "duration": 23,
    "start_time": "2021-08-31T13:51:02.470Z"
   },
   {
    "duration": 14,
    "start_time": "2021-08-31T13:51:02.497Z"
   },
   {
    "duration": 20,
    "start_time": "2021-08-31T13:51:02.515Z"
   },
   {
    "duration": 30,
    "start_time": "2021-08-31T13:51:02.539Z"
   },
   {
    "duration": 7,
    "start_time": "2021-08-31T13:51:02.572Z"
   },
   {
    "duration": 7,
    "start_time": "2021-08-31T13:51:02.581Z"
   },
   {
    "duration": 18,
    "start_time": "2021-08-31T13:51:02.591Z"
   },
   {
    "duration": 69,
    "start_time": "2021-08-31T13:51:02.612Z"
   },
   {
    "duration": 5,
    "start_time": "2021-08-31T13:51:02.684Z"
   },
   {
    "duration": 5,
    "start_time": "2021-08-31T13:51:02.691Z"
   },
   {
    "duration": 121841,
    "start_time": "2021-08-31T13:51:02.698Z"
   },
   {
    "duration": 21,
    "start_time": "2021-08-31T13:53:04.542Z"
   },
   {
    "duration": 9,
    "start_time": "2021-08-31T13:53:04.566Z"
   },
   {
    "duration": 34,
    "start_time": "2021-08-31T13:53:04.578Z"
   },
   {
    "duration": 404,
    "start_time": "2021-08-31T13:53:04.614Z"
   },
   {
    "duration": 22,
    "start_time": "2021-08-31T13:53:05.020Z"
   },
   {
    "duration": 1237,
    "start_time": "2021-08-31T13:53:05.044Z"
   },
   {
    "duration": 8,
    "start_time": "2021-08-31T13:53:06.283Z"
   },
   {
    "duration": 13,
    "start_time": "2021-08-31T13:53:06.295Z"
   },
   {
    "duration": 22,
    "start_time": "2021-08-31T13:53:06.310Z"
   },
   {
    "duration": 28,
    "start_time": "2021-08-31T13:53:06.334Z"
   },
   {
    "duration": 2238,
    "start_time": "2021-08-31T13:53:36.532Z"
   },
   {
    "duration": 20,
    "start_time": "2021-08-31T13:53:48.837Z"
   },
   {
    "duration": 354,
    "start_time": "2021-08-31T13:57:02.095Z"
   },
   {
    "duration": 1486,
    "start_time": "2021-08-31T13:57:39.141Z"
   },
   {
    "duration": 280,
    "start_time": "2021-08-31T13:57:48.488Z"
   },
   {
    "duration": 194,
    "start_time": "2021-08-31T13:57:58.408Z"
   },
   {
    "duration": 285,
    "start_time": "2021-08-31T13:58:11.557Z"
   },
   {
    "duration": 295,
    "start_time": "2021-08-31T13:58:25.575Z"
   },
   {
    "duration": 288,
    "start_time": "2021-08-31T13:58:54.878Z"
   },
   {
    "duration": 281,
    "start_time": "2021-08-31T13:59:07.193Z"
   },
   {
    "duration": 219,
    "start_time": "2021-08-31T13:59:17.252Z"
   },
   {
    "duration": 1024,
    "start_time": "2021-08-31T13:59:29.801Z"
   },
   {
    "duration": 218,
    "start_time": "2021-08-31T13:59:42.736Z"
   },
   {
    "duration": 197,
    "start_time": "2021-08-31T14:00:02.009Z"
   },
   {
    "duration": 214,
    "start_time": "2021-08-31T14:00:32.408Z"
   },
   {
    "duration": 305,
    "start_time": "2021-08-31T14:00:38.207Z"
   },
   {
    "duration": 238,
    "start_time": "2021-08-31T14:01:01.341Z"
   },
   {
    "duration": 417,
    "start_time": "2021-08-31T14:01:21.902Z"
   },
   {
    "duration": 307,
    "start_time": "2021-08-31T14:01:31.658Z"
   },
   {
    "duration": 344,
    "start_time": "2021-08-31T14:02:15.105Z"
   },
   {
    "duration": 291,
    "start_time": "2021-08-31T14:02:33.194Z"
   },
   {
    "duration": 312,
    "start_time": "2021-08-31T14:02:39.060Z"
   },
   {
    "duration": 287,
    "start_time": "2021-08-31T14:03:47.200Z"
   },
   {
    "duration": 757,
    "start_time": "2021-08-31T14:04:56.253Z"
   },
   {
    "duration": 620,
    "start_time": "2021-08-31T14:05:51.517Z"
   },
   {
    "duration": 497,
    "start_time": "2021-08-31T14:07:43.765Z"
   },
   {
    "duration": 24,
    "start_time": "2021-08-31T14:08:16.444Z"
   },
   {
    "duration": 6,
    "start_time": "2021-08-31T14:08:37.131Z"
   },
   {
    "duration": 411,
    "start_time": "2021-08-31T14:10:55.827Z"
   },
   {
    "duration": 1831,
    "start_time": "2021-08-31T14:11:11.448Z"
   },
   {
    "duration": 1964,
    "start_time": "2021-08-31T14:11:29.745Z"
   },
   {
    "duration": 1843,
    "start_time": "2021-08-31T14:12:09.734Z"
   },
   {
    "duration": 3362,
    "start_time": "2021-08-31T14:12:46.189Z"
   },
   {
    "duration": 1895,
    "start_time": "2021-08-31T14:13:04.319Z"
   },
   {
    "duration": 2565,
    "start_time": "2021-08-31T14:13:13.947Z"
   },
   {
    "duration": 2715,
    "start_time": "2021-08-31T14:13:27.319Z"
   },
   {
    "duration": 2439,
    "start_time": "2021-08-31T14:13:55.644Z"
   },
   {
    "duration": 24,
    "start_time": "2021-08-31T14:15:05.749Z"
   },
   {
    "duration": 2833,
    "start_time": "2021-08-31T14:15:56.570Z"
   },
   {
    "duration": 2093,
    "start_time": "2021-08-31T14:16:11.573Z"
   },
   {
    "duration": 2895,
    "start_time": "2021-08-31T14:16:18.699Z"
   },
   {
    "duration": 24,
    "start_time": "2021-08-31T14:21:50.354Z"
   },
   {
    "duration": 235,
    "start_time": "2021-08-31T14:28:27.526Z"
   },
   {
    "duration": 7,
    "start_time": "2021-08-31T14:28:36.697Z"
   },
   {
    "duration": 9,
    "start_time": "2021-08-31T14:28:44.909Z"
   },
   {
    "duration": 256,
    "start_time": "2021-08-31T14:29:19.708Z"
   },
   {
    "duration": 244,
    "start_time": "2021-08-31T14:29:38.848Z"
   },
   {
    "duration": 269,
    "start_time": "2021-08-31T14:29:53.270Z"
   },
   {
    "duration": 276,
    "start_time": "2021-08-31T14:29:59.712Z"
   },
   {
    "duration": 9,
    "start_time": "2021-08-31T14:30:12.233Z"
   },
   {
    "duration": 14,
    "start_time": "2021-08-31T14:30:32.181Z"
   },
   {
    "duration": 85,
    "start_time": "2021-08-31T14:30:39.093Z"
   },
   {
    "duration": 16,
    "start_time": "2021-08-31T14:30:43.366Z"
   },
   {
    "duration": 13,
    "start_time": "2021-08-31T14:30:52.095Z"
   },
   {
    "duration": 17,
    "start_time": "2021-08-31T14:31:00.764Z"
   },
   {
    "duration": 11,
    "start_time": "2021-08-31T14:31:16.640Z"
   },
   {
    "duration": 15,
    "start_time": "2021-08-31T14:32:02.364Z"
   },
   {
    "duration": 307,
    "start_time": "2021-08-31T14:32:21.821Z"
   },
   {
    "duration": 14,
    "start_time": "2021-08-31T14:32:29.756Z"
   },
   {
    "duration": 13,
    "start_time": "2021-08-31T14:32:54.444Z"
   },
   {
    "duration": 250,
    "start_time": "2021-08-31T14:33:04.525Z"
   },
   {
    "duration": 16,
    "start_time": "2021-08-31T14:33:23.295Z"
   },
   {
    "duration": 18,
    "start_time": "2021-08-31T14:34:14.957Z"
   },
   {
    "duration": 17,
    "start_time": "2021-08-31T14:34:25.755Z"
   },
   {
    "duration": 17,
    "start_time": "2021-08-31T14:34:30.509Z"
   },
   {
    "duration": 23,
    "start_time": "2021-08-31T14:34:37.820Z"
   },
   {
    "duration": 24,
    "start_time": "2021-08-31T14:34:49.161Z"
   },
   {
    "duration": 23,
    "start_time": "2021-08-31T14:34:54.341Z"
   },
   {
    "duration": 17,
    "start_time": "2021-08-31T14:35:04.597Z"
   },
   {
    "duration": 404,
    "start_time": "2021-08-31T14:37:12.038Z"
   },
   {
    "duration": 782,
    "start_time": "2021-08-31T14:38:48.451Z"
   },
   {
    "duration": 359,
    "start_time": "2021-08-31T14:38:57.907Z"
   },
   {
    "duration": 81,
    "start_time": "2021-08-31T14:39:36.022Z"
   },
   {
    "duration": 558,
    "start_time": "2021-08-31T14:39:40.755Z"
   },
   {
    "duration": 554,
    "start_time": "2021-08-31T14:39:54.060Z"
   },
   {
    "duration": 405,
    "start_time": "2021-08-31T14:40:17.112Z"
   },
   {
    "duration": 436,
    "start_time": "2021-08-31T14:40:24.974Z"
   },
   {
    "duration": 650,
    "start_time": "2021-08-31T14:41:31.860Z"
   },
   {
    "duration": 679,
    "start_time": "2021-08-31T14:41:40.587Z"
   },
   {
    "duration": 622,
    "start_time": "2021-08-31T14:41:46.129Z"
   },
   {
    "duration": 302,
    "start_time": "2021-08-31T14:42:22.747Z"
   },
   {
    "duration": 7402,
    "start_time": "2021-08-31T14:47:32.283Z"
   },
   {
    "duration": 9,
    "start_time": "2021-08-31T14:47:41.462Z"
   },
   {
    "duration": 7,
    "start_time": "2021-08-31T14:47:58.189Z"
   },
   {
    "duration": 10,
    "start_time": "2021-08-31T14:48:03.904Z"
   },
   {
    "duration": 7,
    "start_time": "2021-08-31T14:48:10.869Z"
   },
   {
    "duration": 10,
    "start_time": "2021-08-31T14:48:11.737Z"
   },
   {
    "duration": 9,
    "start_time": "2021-08-31T14:48:24.548Z"
   },
   {
    "duration": 9,
    "start_time": "2021-08-31T14:48:26.149Z"
   },
   {
    "duration": 6,
    "start_time": "2021-08-31T14:55:39.508Z"
   },
   {
    "duration": 10,
    "start_time": "2021-08-31T14:55:47.488Z"
   },
   {
    "duration": 7,
    "start_time": "2021-08-31T14:56:52.350Z"
   },
   {
    "duration": 14,
    "start_time": "2021-08-31T14:57:01.103Z"
   },
   {
    "duration": 475,
    "start_time": "2021-08-31T14:57:10.427Z"
   },
   {
    "duration": 774,
    "start_time": "2021-08-31T15:11:01.070Z"
   },
   {
    "duration": 11,
    "start_time": "2021-08-31T15:11:21.650Z"
   },
   {
    "duration": 11,
    "start_time": "2021-08-31T15:11:31.429Z"
   },
   {
    "duration": 737,
    "start_time": "2021-08-31T15:11:38.101Z"
   },
   {
    "duration": 726,
    "start_time": "2021-08-31T15:13:38.733Z"
   },
   {
    "duration": 14,
    "start_time": "2021-08-31T15:13:49.859Z"
   },
   {
    "duration": 801,
    "start_time": "2021-08-31T15:13:59.680Z"
   },
   {
    "duration": 15,
    "start_time": "2021-08-31T15:14:09.482Z"
   },
   {
    "duration": 5772,
    "start_time": "2021-08-31T15:14:42.859Z"
   },
   {
    "duration": 14,
    "start_time": "2021-08-31T15:14:55.901Z"
   },
   {
    "duration": 26,
    "start_time": "2021-08-31T15:16:57.420Z"
   },
   {
    "duration": 88,
    "start_time": "2021-08-31T15:17:17.561Z"
   },
   {
    "duration": 93,
    "start_time": "2021-08-31T15:17:43.595Z"
   },
   {
    "duration": 477,
    "start_time": "2021-08-31T15:17:55.395Z"
   },
   {
    "duration": 530,
    "start_time": "2021-08-31T15:18:41.018Z"
   },
   {
    "duration": 492,
    "start_time": "2021-08-31T15:18:49.470Z"
   },
   {
    "duration": 7,
    "start_time": "2021-08-31T15:19:28.602Z"
   },
   {
    "duration": 1390,
    "start_time": "2021-08-31T15:19:48.965Z"
   },
   {
    "duration": 7,
    "start_time": "2021-08-31T15:20:04.510Z"
   },
   {
    "duration": 468,
    "start_time": "2021-08-31T15:21:01.398Z"
   },
   {
    "duration": 517,
    "start_time": "2021-08-31T15:21:12.477Z"
   },
   {
    "duration": 460,
    "start_time": "2021-08-31T15:21:15.396Z"
   },
   {
    "duration": 251,
    "start_time": "2021-08-31T15:23:39.795Z"
   },
   {
    "duration": 366,
    "start_time": "2021-08-31T15:24:32.670Z"
   },
   {
    "duration": 214,
    "start_time": "2021-08-31T15:24:52.148Z"
   },
   {
    "duration": 231,
    "start_time": "2021-08-31T15:24:57.621Z"
   },
   {
    "duration": 32,
    "start_time": "2021-08-31T15:25:10.891Z"
   },
   {
    "duration": 310,
    "start_time": "2021-08-31T15:25:54.812Z"
   },
   {
    "duration": 534,
    "start_time": "2021-08-31T15:26:21.044Z"
   },
   {
    "duration": 415,
    "start_time": "2021-08-31T15:26:30.379Z"
   },
   {
    "duration": 405,
    "start_time": "2021-08-31T15:27:14.483Z"
   },
   {
    "duration": 264,
    "start_time": "2021-08-31T15:28:28.746Z"
   },
   {
    "duration": 315,
    "start_time": "2021-08-31T15:28:44.438Z"
   },
   {
    "duration": 364,
    "start_time": "2021-08-31T15:29:18.263Z"
   },
   {
    "duration": 365,
    "start_time": "2021-08-31T15:29:50.257Z"
   },
   {
    "duration": 348,
    "start_time": "2021-08-31T15:29:54.521Z"
   },
   {
    "duration": 350,
    "start_time": "2021-08-31T15:30:31.668Z"
   },
   {
    "duration": 712,
    "start_time": "2021-08-31T15:31:21.382Z"
   },
   {
    "duration": 746,
    "start_time": "2021-08-31T15:31:29.293Z"
   },
   {
    "duration": 544,
    "start_time": "2021-08-31T15:31:39.066Z"
   },
   {
    "duration": 325,
    "start_time": "2021-08-31T15:32:54.187Z"
   },
   {
    "duration": 582,
    "start_time": "2021-08-31T15:33:01.632Z"
   },
   {
    "duration": 330,
    "start_time": "2021-08-31T15:33:08.163Z"
   },
   {
    "duration": 558,
    "start_time": "2021-08-31T15:34:10.837Z"
   },
   {
    "duration": 383,
    "start_time": "2021-08-31T15:34:32.597Z"
   },
   {
    "duration": 89,
    "start_time": "2021-08-31T15:34:40.138Z"
   },
   {
    "duration": 344,
    "start_time": "2021-08-31T15:34:48.421Z"
   },
   {
    "duration": 428,
    "start_time": "2021-08-31T15:36:16.359Z"
   },
   {
    "duration": 394,
    "start_time": "2021-08-31T15:36:37.172Z"
   },
   {
    "duration": 362,
    "start_time": "2021-08-31T15:36:46.310Z"
   },
   {
    "duration": 20,
    "start_time": "2021-08-31T15:41:39.524Z"
   },
   {
    "duration": 406,
    "start_time": "2021-08-31T15:41:57.259Z"
   },
   {
    "duration": 22,
    "start_time": "2021-08-31T15:42:46.727Z"
   },
   {
    "duration": 15,
    "start_time": "2021-08-31T15:43:00.532Z"
   },
   {
    "duration": 14,
    "start_time": "2021-08-31T15:43:23.141Z"
   },
   {
    "duration": 16,
    "start_time": "2021-08-31T15:43:31.431Z"
   },
   {
    "duration": 16,
    "start_time": "2021-08-31T15:44:35.597Z"
   },
   {
    "duration": 272,
    "start_time": "2021-08-31T15:44:59.133Z"
   },
   {
    "duration": 371,
    "start_time": "2021-08-31T15:45:08.936Z"
   },
   {
    "duration": 27,
    "start_time": "2021-08-31T15:45:22.851Z"
   },
   {
    "duration": 40,
    "start_time": "2021-08-31T15:45:36.636Z"
   },
   {
    "duration": 24,
    "start_time": "2021-08-31T15:46:03.678Z"
   },
   {
    "duration": 119,
    "start_time": "2021-08-31T15:46:24.833Z"
   },
   {
    "duration": 72,
    "start_time": "2021-08-31T15:46:34.640Z"
   },
   {
    "duration": 29,
    "start_time": "2021-08-31T15:47:13.082Z"
   },
   {
    "duration": 371,
    "start_time": "2021-08-31T15:47:30.513Z"
   },
   {
    "duration": 30,
    "start_time": "2021-08-31T15:47:37.827Z"
   },
   {
    "duration": 23,
    "start_time": "2021-08-31T15:48:01.897Z"
   },
   {
    "duration": 358,
    "start_time": "2021-08-31T15:48:30.862Z"
   },
   {
    "duration": 26,
    "start_time": "2021-08-31T15:49:28.168Z"
   },
   {
    "duration": 357,
    "start_time": "2021-08-31T15:49:29.374Z"
   },
   {
    "duration": 307,
    "start_time": "2021-08-31T15:50:50.796Z"
   },
   {
    "duration": 24,
    "start_time": "2021-08-31T15:51:28.958Z"
   },
   {
    "duration": 538,
    "start_time": "2021-08-31T15:51:29.957Z"
   },
   {
    "duration": 435,
    "start_time": "2021-08-31T15:51:51.928Z"
   },
   {
    "duration": 433,
    "start_time": "2021-08-31T15:53:02.081Z"
   },
   {
    "duration": 444,
    "start_time": "2021-08-31T15:53:21.207Z"
   },
   {
    "duration": 439,
    "start_time": "2021-08-31T15:53:34.463Z"
   },
   {
    "duration": 249,
    "start_time": "2021-08-31T15:55:58.697Z"
   },
   {
    "duration": 578,
    "start_time": "2021-08-31T15:56:18.547Z"
   },
   {
    "duration": 273,
    "start_time": "2021-08-31T15:56:22.679Z"
   },
   {
    "duration": 23,
    "start_time": "2021-08-31T15:57:05.431Z"
   },
   {
    "duration": 456,
    "start_time": "2021-08-31T15:57:06.362Z"
   },
   {
    "duration": 24,
    "start_time": "2021-08-31T15:59:21.356Z"
   },
   {
    "duration": 30,
    "start_time": "2021-08-31T15:59:47.384Z"
   },
   {
    "duration": 28,
    "start_time": "2021-08-31T16:00:17.458Z"
   },
   {
    "duration": 34,
    "start_time": "2021-08-31T16:00:36.753Z"
   },
   {
    "duration": 536,
    "start_time": "2021-08-31T16:00:37.956Z"
   },
   {
    "duration": 15,
    "start_time": "2021-08-31T16:01:10.688Z"
   },
   {
    "duration": 613,
    "start_time": "2021-08-31T16:02:14.897Z"
   },
   {
    "duration": 25,
    "start_time": "2021-08-31T16:03:01.314Z"
   },
   {
    "duration": 26,
    "start_time": "2021-08-31T16:03:03.021Z"
   },
   {
    "duration": 11,
    "start_time": "2021-08-31T16:03:03.770Z"
   },
   {
    "duration": 496,
    "start_time": "2021-08-31T16:03:05.370Z"
   },
   {
    "duration": 21,
    "start_time": "2021-08-31T16:03:10.369Z"
   },
   {
    "duration": 551,
    "start_time": "2021-08-31T16:03:41.388Z"
   },
   {
    "duration": 74,
    "start_time": "2021-08-31T16:10:04.152Z"
   },
   {
    "duration": 470,
    "start_time": "2021-08-31T16:10:29.083Z"
   },
   {
    "duration": 7,
    "start_time": "2021-08-31T16:10:32.983Z"
   },
   {
    "duration": 465,
    "start_time": "2021-08-31T16:10:46.509Z"
   },
   {
    "duration": 828,
    "start_time": "2021-08-31T18:00:40.899Z"
   },
   {
    "duration": 49,
    "start_time": "2021-08-31T18:00:41.730Z"
   },
   {
    "duration": 35,
    "start_time": "2021-08-31T18:00:41.782Z"
   },
   {
    "duration": 4,
    "start_time": "2021-08-31T18:00:41.819Z"
   },
   {
    "duration": 39,
    "start_time": "2021-08-31T18:00:41.825Z"
   },
   {
    "duration": 13,
    "start_time": "2021-08-31T18:00:41.866Z"
   },
   {
    "duration": 21,
    "start_time": "2021-08-31T18:00:41.881Z"
   },
   {
    "duration": 10,
    "start_time": "2021-08-31T18:00:41.906Z"
   },
   {
    "duration": 10,
    "start_time": "2021-08-31T18:00:41.919Z"
   },
   {
    "duration": 8,
    "start_time": "2021-08-31T18:00:41.957Z"
   },
   {
    "duration": 5,
    "start_time": "2021-08-31T18:00:41.968Z"
   },
   {
    "duration": 44,
    "start_time": "2021-08-31T18:00:41.976Z"
   },
   {
    "duration": 5,
    "start_time": "2021-08-31T18:00:42.022Z"
   },
   {
    "duration": 4,
    "start_time": "2021-08-31T18:00:42.056Z"
   },
   {
    "duration": 82403,
    "start_time": "2021-08-31T18:00:42.062Z"
   },
   {
    "duration": 7,
    "start_time": "2021-08-31T18:02:04.467Z"
   },
   {
    "duration": 13,
    "start_time": "2021-08-31T18:02:04.476Z"
   },
   {
    "duration": 28,
    "start_time": "2021-08-31T18:02:04.491Z"
   },
   {
    "duration": 425,
    "start_time": "2021-08-31T18:02:04.521Z"
   },
   {
    "duration": 22,
    "start_time": "2021-08-31T18:02:04.956Z"
   },
   {
    "duration": 1257,
    "start_time": "2021-08-31T18:02:04.981Z"
   },
   {
    "duration": 18,
    "start_time": "2021-08-31T18:02:06.240Z"
   },
   {
    "duration": 12,
    "start_time": "2021-08-31T18:02:06.263Z"
   },
   {
    "duration": 18,
    "start_time": "2021-08-31T18:02:06.278Z"
   },
   {
    "duration": 6,
    "start_time": "2021-08-31T18:02:06.298Z"
   },
   {
    "duration": 2463,
    "start_time": "2021-08-31T18:02:06.306Z"
   },
   {
    "duration": 2749,
    "start_time": "2021-08-31T18:02:08.772Z"
   },
   {
    "duration": 37,
    "start_time": "2021-08-31T18:02:11.524Z"
   },
   {
    "duration": 26,
    "start_time": "2021-08-31T18:02:11.563Z"
   },
   {
    "duration": 560,
    "start_time": "2021-08-31T18:03:22.627Z"
   },
   {
    "duration": 8,
    "start_time": "2021-08-31T18:03:27.836Z"
   },
   {
    "duration": 462,
    "start_time": "2021-08-31T18:03:42.457Z"
   },
   {
    "duration": 15,
    "start_time": "2021-08-31T18:03:46.390Z"
   },
   {
    "duration": 17,
    "start_time": "2021-08-31T18:03:47.456Z"
   },
   {
    "duration": 501,
    "start_time": "2021-08-31T18:03:49.773Z"
   },
   {
    "duration": 559,
    "start_time": "2021-08-31T18:03:55.387Z"
   },
   {
    "duration": 6,
    "start_time": "2021-08-31T18:03:58.110Z"
   },
   {
    "duration": 8,
    "start_time": "2021-08-31T18:03:59.186Z"
   },
   {
    "duration": 285,
    "start_time": "2021-08-31T18:04:01.898Z"
   },
   {
    "duration": 22,
    "start_time": "2021-08-31T18:04:05.091Z"
   },
   {
    "duration": 493,
    "start_time": "2021-08-31T18:04:06.741Z"
   },
   {
    "duration": 23,
    "start_time": "2021-08-31T18:07:58.283Z"
   },
   {
    "duration": 411,
    "start_time": "2021-08-31T18:08:27.447Z"
   },
   {
    "duration": 555,
    "start_time": "2021-08-31T18:08:54.873Z"
   },
   {
    "duration": 23,
    "start_time": "2021-08-31T18:11:16.561Z"
   },
   {
    "duration": 19,
    "start_time": "2021-08-31T18:12:07.328Z"
   },
   {
    "duration": 480,
    "start_time": "2021-08-31T18:12:35.365Z"
   },
   {
    "duration": 22,
    "start_time": "2021-08-31T18:12:43.866Z"
   },
   {
    "duration": 22,
    "start_time": "2021-08-31T18:12:55.228Z"
   },
   {
    "duration": 28,
    "start_time": "2021-08-31T18:13:45.762Z"
   },
   {
    "duration": 33,
    "start_time": "2021-08-31T18:14:01.347Z"
   },
   {
    "duration": 405,
    "start_time": "2021-08-31T18:19:33.287Z"
   },
   {
    "duration": 183,
    "start_time": "2021-08-31T18:19:49.073Z"
   },
   {
    "duration": 19,
    "start_time": "2021-08-31T18:20:10.913Z"
   },
   {
    "duration": 20,
    "start_time": "2021-08-31T18:21:51.131Z"
   },
   {
    "duration": 19,
    "start_time": "2021-08-31T18:21:53.411Z"
   },
   {
    "duration": 27,
    "start_time": "2021-08-31T18:21:55.546Z"
   },
   {
    "duration": 262,
    "start_time": "2021-08-31T18:23:00.406Z"
   },
   {
    "duration": 522,
    "start_time": "2021-08-31T18:24:20.725Z"
   },
   {
    "duration": 605,
    "start_time": "2021-08-31T18:24:40.397Z"
   },
   {
    "duration": 650,
    "start_time": "2021-08-31T18:25:28.320Z"
   },
   {
    "duration": 571,
    "start_time": "2021-08-31T18:26:06.249Z"
   },
   {
    "duration": 803,
    "start_time": "2021-08-31T18:26:52.739Z"
   },
   {
    "duration": 857,
    "start_time": "2021-08-31T18:27:05.585Z"
   },
   {
    "duration": 1115,
    "start_time": "2021-08-31T18:27:35.756Z"
   },
   {
    "duration": 1157,
    "start_time": "2021-08-31T18:28:01.700Z"
   },
   {
    "duration": 1129,
    "start_time": "2021-08-31T18:30:21.145Z"
   },
   {
    "duration": 1073,
    "start_time": "2021-08-31T18:30:40.921Z"
   },
   {
    "duration": 1132,
    "start_time": "2021-08-31T18:31:19.127Z"
   },
   {
    "duration": 1188,
    "start_time": "2021-08-31T18:32:07.830Z"
   },
   {
    "duration": 976,
    "start_time": "2021-08-31T18:32:28.671Z"
   },
   {
    "duration": 1005,
    "start_time": "2021-08-31T18:34:12.840Z"
   },
   {
    "duration": 763,
    "start_time": "2021-08-31T18:34:42.641Z"
   },
   {
    "duration": 1168,
    "start_time": "2021-08-31T18:35:05.254Z"
   },
   {
    "duration": 1133,
    "start_time": "2021-08-31T18:35:18.093Z"
   },
   {
    "duration": 1557,
    "start_time": "2021-08-31T18:37:39.243Z"
   },
   {
    "duration": 486,
    "start_time": "2021-08-31T18:37:50.227Z"
   },
   {
    "duration": 498,
    "start_time": "2021-08-31T18:38:32.943Z"
   },
   {
    "duration": 884,
    "start_time": "2021-08-31T18:38:45.546Z"
   },
   {
    "duration": 575,
    "start_time": "2021-08-31T18:38:53.668Z"
   },
   {
    "duration": 988,
    "start_time": "2021-08-31T18:39:17.675Z"
   },
   {
    "duration": 387,
    "start_time": "2021-08-31T18:41:49.785Z"
   },
   {
    "duration": 714,
    "start_time": "2021-08-31T18:42:06.125Z"
   },
   {
    "duration": 918,
    "start_time": "2021-08-31T18:42:18.993Z"
   },
   {
    "duration": 751,
    "start_time": "2021-08-31T18:42:25.724Z"
   },
   {
    "duration": 700,
    "start_time": "2021-08-31T18:42:35.184Z"
   },
   {
    "duration": 1047,
    "start_time": "2021-08-31T18:43:24.185Z"
   },
   {
    "duration": 1120,
    "start_time": "2021-08-31T18:43:34.660Z"
   },
   {
    "duration": 918,
    "start_time": "2021-08-31T18:46:30.909Z"
   },
   {
    "duration": 910,
    "start_time": "2021-08-31T18:46:45.200Z"
   },
   {
    "duration": 20,
    "start_time": "2021-08-31T18:47:12.332Z"
   },
   {
    "duration": 263,
    "start_time": "2021-08-31T18:47:33.162Z"
   },
   {
    "duration": 21,
    "start_time": "2021-08-31T18:48:08.415Z"
   },
   {
    "duration": 21,
    "start_time": "2021-08-31T18:58:57.720Z"
   },
   {
    "duration": 20,
    "start_time": "2021-08-31T18:59:33.133Z"
   },
   {
    "duration": 21,
    "start_time": "2021-08-31T19:00:00.139Z"
   },
   {
    "duration": 487,
    "start_time": "2021-08-31T19:00:51.837Z"
   },
   {
    "duration": 548,
    "start_time": "2021-08-31T19:01:06.627Z"
   },
   {
    "duration": 25,
    "start_time": "2021-08-31T19:19:41.361Z"
   },
   {
    "duration": 254,
    "start_time": "2021-08-31T19:19:58.187Z"
   },
   {
    "duration": 472,
    "start_time": "2021-08-31T19:20:21.251Z"
   },
   {
    "duration": 1024,
    "start_time": "2021-08-31T19:20:44.373Z"
   },
   {
    "duration": 455,
    "start_time": "2021-08-31T19:21:04.607Z"
   },
   {
    "duration": 359,
    "start_time": "2021-08-31T19:21:22.542Z"
   },
   {
    "duration": 386,
    "start_time": "2021-08-31T19:21:31.537Z"
   },
   {
    "duration": 456,
    "start_time": "2021-08-31T19:22:36.465Z"
   },
   {
    "duration": 16,
    "start_time": "2021-08-31T19:22:53.205Z"
   },
   {
    "duration": 444,
    "start_time": "2021-08-31T19:23:01.469Z"
   },
   {
    "duration": 557,
    "start_time": "2021-08-31T19:23:22.365Z"
   },
   {
    "duration": 353,
    "start_time": "2021-08-31T19:24:08.039Z"
   },
   {
    "duration": 796,
    "start_time": "2021-08-31T19:25:13.416Z"
   },
   {
    "duration": 534,
    "start_time": "2021-08-31T19:25:22.394Z"
   },
   {
    "duration": 513,
    "start_time": "2021-08-31T19:25:45.705Z"
   },
   {
    "duration": 198,
    "start_time": "2021-08-31T19:25:54.195Z"
   },
   {
    "duration": 441,
    "start_time": "2021-08-31T19:26:15.816Z"
   },
   {
    "duration": 445,
    "start_time": "2021-08-31T19:26:24.629Z"
   },
   {
    "duration": 9,
    "start_time": "2021-08-31T19:26:48.281Z"
   },
   {
    "duration": 12,
    "start_time": "2021-08-31T19:26:56.478Z"
   },
   {
    "duration": 409,
    "start_time": "2021-08-31T19:27:08.166Z"
   },
   {
    "duration": 636,
    "start_time": "2021-08-31T19:29:08.812Z"
   },
   {
    "duration": 705,
    "start_time": "2021-08-31T19:29:34.033Z"
   },
   {
    "duration": 683,
    "start_time": "2021-08-31T19:29:42.479Z"
   },
   {
    "duration": 674,
    "start_time": "2021-08-31T19:29:49.945Z"
   },
   {
    "duration": 683,
    "start_time": "2021-08-31T19:30:01.792Z"
   },
   {
    "duration": 690,
    "start_time": "2021-08-31T19:30:53.778Z"
   },
   {
    "duration": 732,
    "start_time": "2021-08-31T19:31:30.052Z"
   },
   {
    "duration": 1200,
    "start_time": "2021-08-31T19:31:48.030Z"
   },
   {
    "duration": 713,
    "start_time": "2021-08-31T19:32:07.167Z"
   },
   {
    "duration": 16,
    "start_time": "2021-08-31T19:33:16.890Z"
   },
   {
    "duration": 11,
    "start_time": "2021-08-31T19:33:26.310Z"
   },
   {
    "duration": 15,
    "start_time": "2021-08-31T19:33:51.340Z"
   },
   {
    "duration": 12,
    "start_time": "2021-08-31T19:33:53.649Z"
   },
   {
    "duration": 1022,
    "start_time": "2021-08-31T19:34:50.038Z"
   },
   {
    "duration": 385,
    "start_time": "2021-08-31T19:38:02.531Z"
   },
   {
    "duration": 365,
    "start_time": "2021-08-31T19:38:19.227Z"
   },
   {
    "duration": 398,
    "start_time": "2021-08-31T19:39:29.261Z"
   },
   {
    "duration": 16,
    "start_time": "2021-08-31T19:39:50.533Z"
   },
   {
    "duration": 13,
    "start_time": "2021-08-31T19:39:52.199Z"
   },
   {
    "duration": 409,
    "start_time": "2021-08-31T19:39:54.346Z"
   },
   {
    "duration": 360,
    "start_time": "2021-08-31T19:40:30.568Z"
   },
   {
    "duration": 14,
    "start_time": "2021-08-31T19:40:56.225Z"
   },
   {
    "duration": 16,
    "start_time": "2021-08-31T19:40:57.353Z"
   },
   {
    "duration": 12,
    "start_time": "2021-08-31T19:40:58.000Z"
   },
   {
    "duration": 373,
    "start_time": "2021-08-31T19:41:00.458Z"
   },
   {
    "duration": 341,
    "start_time": "2021-08-31T19:41:17.715Z"
   },
   {
    "duration": 352,
    "start_time": "2021-08-31T19:41:49.375Z"
   },
   {
    "duration": 361,
    "start_time": "2021-08-31T19:42:06.965Z"
   },
   {
    "duration": 17,
    "start_time": "2021-08-31T19:42:39.562Z"
   },
   {
    "duration": 13,
    "start_time": "2021-08-31T19:42:42.318Z"
   },
   {
    "duration": 14,
    "start_time": "2021-08-31T19:43:08.331Z"
   },
   {
    "duration": 16,
    "start_time": "2021-08-31T19:43:25.692Z"
   },
   {
    "duration": 15,
    "start_time": "2021-08-31T19:43:39.138Z"
   },
   {
    "duration": 17,
    "start_time": "2021-08-31T19:44:02.777Z"
   },
   {
    "duration": 12,
    "start_time": "2021-08-31T19:44:04.492Z"
   },
   {
    "duration": 16,
    "start_time": "2021-08-31T19:44:05.777Z"
   },
   {
    "duration": 423,
    "start_time": "2021-08-31T19:45:00.309Z"
   },
   {
    "duration": 436,
    "start_time": "2021-08-31T19:45:27.111Z"
   },
   {
    "duration": 7,
    "start_time": "2021-08-31T19:46:02.524Z"
   },
   {
    "duration": 14,
    "start_time": "2021-08-31T19:46:29.238Z"
   },
   {
    "duration": 23,
    "start_time": "2021-08-31T19:46:31.188Z"
   },
   {
    "duration": 8,
    "start_time": "2021-08-31T19:46:33.782Z"
   },
   {
    "duration": 10,
    "start_time": "2021-08-31T19:46:43.234Z"
   },
   {
    "duration": 9,
    "start_time": "2021-08-31T19:46:54.425Z"
   },
   {
    "duration": 327,
    "start_time": "2021-08-31T19:47:20.564Z"
   },
   {
    "duration": 408,
    "start_time": "2021-08-31T19:47:34.345Z"
   },
   {
    "duration": 796,
    "start_time": "2021-08-31T19:48:03.649Z"
   },
   {
    "duration": 715,
    "start_time": "2021-08-31T19:48:10.687Z"
   },
   {
    "duration": 668,
    "start_time": "2021-08-31T19:49:07.103Z"
   },
   {
    "duration": 121,
    "start_time": "2021-08-31T19:50:32.964Z"
   },
   {
    "duration": 23,
    "start_time": "2021-08-31T19:50:38.563Z"
   },
   {
    "duration": 671,
    "start_time": "2021-08-31T19:51:06.711Z"
   },
   {
    "duration": 110,
    "start_time": "2021-08-31T19:51:50.743Z"
   },
   {
    "duration": 650,
    "start_time": "2021-08-31T19:52:01.513Z"
   },
   {
    "duration": 17,
    "start_time": "2021-08-31T19:52:08.926Z"
   },
   {
    "duration": 754,
    "start_time": "2021-08-31T19:52:10.626Z"
   },
   {
    "duration": 551,
    "start_time": "2021-08-31T19:53:00.056Z"
   },
   {
    "duration": 762,
    "start_time": "2021-08-31T20:00:05.245Z"
   },
   {
    "duration": 887,
    "start_time": "2021-08-31T20:01:54.721Z"
   },
   {
    "duration": 490,
    "start_time": "2021-08-31T20:02:27.466Z"
   },
   {
    "duration": 396,
    "start_time": "2021-08-31T20:02:35.519Z"
   },
   {
    "duration": 426,
    "start_time": "2021-08-31T20:02:46.751Z"
   },
   {
    "duration": 691,
    "start_time": "2021-08-31T20:07:05.871Z"
   },
   {
    "duration": 3689,
    "start_time": "2021-08-31T20:09:06.683Z"
   },
   {
    "duration": 347,
    "start_time": "2021-08-31T20:09:51.580Z"
   },
   {
    "duration": 465,
    "start_time": "2021-08-31T20:10:49.658Z"
   },
   {
    "duration": 901,
    "start_time": "2021-08-31T20:13:02.090Z"
   },
   {
    "duration": 623,
    "start_time": "2021-08-31T20:13:23.446Z"
   },
   {
    "duration": 811,
    "start_time": "2021-08-31T20:13:29.984Z"
   },
   {
    "duration": 320,
    "start_time": "2021-08-31T20:20:33.275Z"
   },
   {
    "duration": 34,
    "start_time": "2021-08-31T20:20:52.221Z"
   },
   {
    "duration": 24,
    "start_time": "2021-08-31T20:21:05.802Z"
   },
   {
    "duration": 30,
    "start_time": "2021-08-31T20:21:20.150Z"
   },
   {
    "duration": 25,
    "start_time": "2021-08-31T20:21:27.305Z"
   },
   {
    "duration": 24,
    "start_time": "2021-08-31T20:21:41.996Z"
   },
   {
    "duration": 32,
    "start_time": "2021-08-31T20:21:46.963Z"
   },
   {
    "duration": 20,
    "start_time": "2021-08-31T20:21:56.107Z"
   },
   {
    "duration": 28,
    "start_time": "2021-08-31T20:21:58.553Z"
   },
   {
    "duration": 22,
    "start_time": "2021-08-31T20:22:04.322Z"
   },
   {
    "duration": 25,
    "start_time": "2021-08-31T20:22:10.866Z"
   },
   {
    "duration": 24,
    "start_time": "2021-08-31T20:22:19.676Z"
   },
   {
    "duration": 23,
    "start_time": "2021-08-31T20:22:28.236Z"
   },
   {
    "duration": 34,
    "start_time": "2021-08-31T20:22:32.207Z"
   },
   {
    "duration": 31,
    "start_time": "2021-08-31T20:22:42.643Z"
   },
   {
    "duration": 409,
    "start_time": "2021-09-01T21:10:03.446Z"
   },
   {
    "duration": 903,
    "start_time": "2021-09-01T21:10:14.954Z"
   },
   {
    "duration": 47,
    "start_time": "2021-09-01T21:10:15.859Z"
   },
   {
    "duration": 34,
    "start_time": "2021-09-01T21:10:15.908Z"
   },
   {
    "duration": 12,
    "start_time": "2021-09-01T21:10:15.944Z"
   },
   {
    "duration": 22,
    "start_time": "2021-09-01T21:10:15.958Z"
   },
   {
    "duration": 12,
    "start_time": "2021-09-01T21:10:15.982Z"
   },
   {
    "duration": 19,
    "start_time": "2021-09-01T21:10:15.996Z"
   },
   {
    "duration": 39,
    "start_time": "2021-09-01T21:10:16.020Z"
   },
   {
    "duration": 11,
    "start_time": "2021-09-01T21:10:16.063Z"
   },
   {
    "duration": 7,
    "start_time": "2021-09-01T21:10:16.076Z"
   },
   {
    "duration": 9,
    "start_time": "2021-09-01T21:10:16.085Z"
   },
   {
    "duration": 67,
    "start_time": "2021-09-01T21:10:16.096Z"
   },
   {
    "duration": 5,
    "start_time": "2021-09-01T21:10:16.166Z"
   },
   {
    "duration": 6,
    "start_time": "2021-09-01T21:10:16.173Z"
   },
   {
    "duration": 87798,
    "start_time": "2021-09-01T21:10:16.181Z"
   },
   {
    "duration": 6,
    "start_time": "2021-09-01T21:11:43.982Z"
   },
   {
    "duration": 22,
    "start_time": "2021-09-01T21:11:43.991Z"
   },
   {
    "duration": 46,
    "start_time": "2021-09-01T21:11:44.016Z"
   },
   {
    "duration": 404,
    "start_time": "2021-09-01T21:11:44.065Z"
   },
   {
    "duration": 21,
    "start_time": "2021-09-01T21:11:44.472Z"
   },
   {
    "duration": 1351,
    "start_time": "2021-09-01T21:11:44.495Z"
   },
   {
    "duration": 11,
    "start_time": "2021-09-01T21:11:45.848Z"
   },
   {
    "duration": 8,
    "start_time": "2021-09-01T21:11:45.865Z"
   },
   {
    "duration": 15,
    "start_time": "2021-09-01T21:11:45.876Z"
   },
   {
    "duration": 5,
    "start_time": "2021-09-01T21:11:45.893Z"
   },
   {
    "duration": 2555,
    "start_time": "2021-09-01T21:11:45.901Z"
   },
   {
    "duration": 2926,
    "start_time": "2021-09-01T21:11:48.458Z"
   },
   {
    "duration": 33,
    "start_time": "2021-09-01T21:11:51.386Z"
   },
   {
    "duration": 40,
    "start_time": "2021-09-01T21:11:51.421Z"
   },
   {
    "duration": 563,
    "start_time": "2021-09-01T21:11:51.464Z"
   },
   {
    "duration": 8,
    "start_time": "2021-09-01T21:11:52.029Z"
   },
   {
    "duration": 573,
    "start_time": "2021-09-01T21:11:52.040Z"
   },
   {
    "duration": 17,
    "start_time": "2021-09-01T21:11:52.616Z"
   },
   {
    "duration": 33,
    "start_time": "2021-09-01T21:11:52.635Z"
   },
   {
    "duration": 538,
    "start_time": "2021-09-01T21:11:52.670Z"
   },
   {
    "duration": 561,
    "start_time": "2021-09-01T21:11:53.210Z"
   },
   {
    "duration": 7,
    "start_time": "2021-09-01T21:11:53.774Z"
   },
   {
    "duration": 8,
    "start_time": "2021-09-01T21:11:53.784Z"
   },
   {
    "duration": 331,
    "start_time": "2021-09-01T21:11:53.794Z"
   },
   {
    "duration": 35,
    "start_time": "2021-09-01T21:11:54.128Z"
   },
   {
    "duration": 542,
    "start_time": "2021-09-01T21:11:54.165Z"
   },
   {
    "duration": 15,
    "start_time": "2021-09-01T21:11:54.710Z"
   },
   {
    "duration": 674,
    "start_time": "2021-09-01T21:11:54.727Z"
   },
   {
    "duration": 15,
    "start_time": "2021-09-01T21:11:55.405Z"
   },
   {
    "duration": 835,
    "start_time": "2021-09-01T21:11:55.423Z"
   },
   {
    "duration": 609,
    "start_time": "2021-09-01T21:11:56.262Z"
   },
   {
    "duration": 409,
    "start_time": "2021-09-01T21:12:57.620Z"
   },
   {
    "duration": 8,
    "start_time": "2021-09-01T21:14:20.709Z"
   },
   {
    "duration": 4,
    "start_time": "2021-09-01T21:14:42.837Z"
   },
   {
    "duration": 69,
    "start_time": "2021-09-01T21:14:42.843Z"
   },
   {
    "duration": 30,
    "start_time": "2021-09-01T21:14:42.915Z"
   },
   {
    "duration": 18,
    "start_time": "2021-09-01T21:14:42.948Z"
   },
   {
    "duration": 24,
    "start_time": "2021-09-01T21:14:42.969Z"
   },
   {
    "duration": 12,
    "start_time": "2021-09-01T21:14:42.996Z"
   },
   {
    "duration": 22,
    "start_time": "2021-09-01T21:14:43.010Z"
   },
   {
    "duration": 15,
    "start_time": "2021-09-01T21:14:43.034Z"
   },
   {
    "duration": 82,
    "start_time": "2021-09-01T21:14:43.053Z"
   },
   {
    "duration": 17,
    "start_time": "2021-09-01T21:14:43.139Z"
   },
   {
    "duration": 11,
    "start_time": "2021-09-01T21:14:43.158Z"
   },
   {
    "duration": 14,
    "start_time": "2021-09-01T21:14:43.171Z"
   },
   {
    "duration": 51,
    "start_time": "2021-09-01T21:14:43.187Z"
   },
   {
    "duration": 5,
    "start_time": "2021-09-01T21:14:43.240Z"
   },
   {
    "duration": 15,
    "start_time": "2021-09-01T21:14:43.255Z"
   },
   {
    "duration": 91174,
    "start_time": "2021-09-01T21:14:43.273Z"
   },
   {
    "duration": 8,
    "start_time": "2021-09-01T21:16:14.456Z"
   },
   {
    "duration": 11,
    "start_time": "2021-09-01T21:16:14.467Z"
   },
   {
    "duration": 28,
    "start_time": "2021-09-01T21:16:14.480Z"
   },
   {
    "duration": 426,
    "start_time": "2021-09-01T21:16:14.511Z"
   },
   {
    "duration": 31,
    "start_time": "2021-09-01T21:16:14.940Z"
   },
   {
    "duration": 1242,
    "start_time": "2021-09-01T21:16:14.973Z"
   },
   {
    "duration": 8,
    "start_time": "2021-09-01T21:16:16.217Z"
   },
   {
    "duration": 33,
    "start_time": "2021-09-01T21:16:16.228Z"
   },
   {
    "duration": 22,
    "start_time": "2021-09-01T21:16:16.264Z"
   },
   {
    "duration": 13,
    "start_time": "2021-09-01T21:16:16.288Z"
   },
   {
    "duration": 2488,
    "start_time": "2021-09-01T21:16:16.306Z"
   },
   {
    "duration": 3279,
    "start_time": "2021-09-01T21:16:18.798Z"
   },
   {
    "duration": 31,
    "start_time": "2021-09-01T21:16:22.080Z"
   },
   {
    "duration": 44,
    "start_time": "2021-09-01T21:16:22.114Z"
   },
   {
    "duration": 472,
    "start_time": "2021-09-01T21:16:22.161Z"
   },
   {
    "duration": 7,
    "start_time": "2021-09-01T21:16:22.636Z"
   },
   {
    "duration": 508,
    "start_time": "2021-09-01T21:16:22.656Z"
   },
   {
    "duration": 16,
    "start_time": "2021-09-01T21:16:23.166Z"
   },
   {
    "duration": 17,
    "start_time": "2021-09-01T21:16:23.185Z"
   },
   {
    "duration": 563,
    "start_time": "2021-09-01T21:16:23.204Z"
   },
   {
    "duration": 533,
    "start_time": "2021-09-01T21:16:23.770Z"
   },
   {
    "duration": 6,
    "start_time": "2021-09-01T21:16:24.306Z"
   },
   {
    "duration": 17,
    "start_time": "2021-09-01T21:16:24.315Z"
   },
   {
    "duration": 337,
    "start_time": "2021-09-01T21:16:24.334Z"
   },
   {
    "duration": 23,
    "start_time": "2021-09-01T21:16:24.674Z"
   },
   {
    "duration": 521,
    "start_time": "2021-09-01T21:16:24.699Z"
   },
   {
    "duration": 14,
    "start_time": "2021-09-01T21:16:25.222Z"
   },
   {
    "duration": 829,
    "start_time": "2021-09-01T21:16:25.239Z"
   },
   {
    "duration": 15,
    "start_time": "2021-09-01T21:16:26.070Z"
   },
   {
    "duration": 740,
    "start_time": "2021-09-01T21:16:26.087Z"
   },
   {
    "duration": 586,
    "start_time": "2021-09-01T21:16:26.829Z"
   },
   {
    "duration": 14,
    "start_time": "2021-09-01T21:17:00.468Z"
   },
   {
    "duration": 12,
    "start_time": "2021-09-01T21:17:17.113Z"
   },
   {
    "duration": 4,
    "start_time": "2021-09-01T21:22:16.528Z"
   },
   {
    "duration": 12,
    "start_time": "2021-09-01T21:22:21.513Z"
   },
   {
    "duration": 13,
    "start_time": "2021-09-01T21:22:23.501Z"
   },
   {
    "duration": 468,
    "start_time": "2021-09-01T21:24:06.328Z"
   },
   {
    "duration": 432,
    "start_time": "2021-09-01T21:24:34.134Z"
   },
   {
    "duration": 15,
    "start_time": "2021-09-01T21:24:40.112Z"
   },
   {
    "duration": 12,
    "start_time": "2021-09-01T21:25:03.183Z"
   },
   {
    "duration": 11,
    "start_time": "2021-09-01T21:27:35.411Z"
   },
   {
    "duration": 11,
    "start_time": "2021-09-01T21:28:10.608Z"
   },
   {
    "duration": 9,
    "start_time": "2021-09-01T21:29:40.519Z"
   },
   {
    "duration": 10,
    "start_time": "2021-09-01T21:32:20.562Z"
   },
   {
    "duration": 396,
    "start_time": "2021-09-01T21:32:37.084Z"
   },
   {
    "duration": 10,
    "start_time": "2021-09-01T21:32:45.393Z"
   },
   {
    "duration": 11,
    "start_time": "2021-09-01T21:33:07.412Z"
   },
   {
    "duration": 5,
    "start_time": "2021-09-01T21:33:25.941Z"
   },
   {
    "duration": 6,
    "start_time": "2021-09-01T21:33:27.481Z"
   },
   {
    "duration": 10,
    "start_time": "2021-09-01T21:33:28.812Z"
   },
   {
    "duration": 4,
    "start_time": "2021-09-01T21:33:47.653Z"
   },
   {
    "duration": 54,
    "start_time": "2021-09-01T21:33:47.660Z"
   },
   {
    "duration": 30,
    "start_time": "2021-09-01T21:33:47.717Z"
   },
   {
    "duration": 8,
    "start_time": "2021-09-01T21:33:47.750Z"
   },
   {
    "duration": 14,
    "start_time": "2021-09-01T21:33:47.760Z"
   },
   {
    "duration": 7,
    "start_time": "2021-09-01T21:33:47.776Z"
   },
   {
    "duration": 13,
    "start_time": "2021-09-01T21:33:47.786Z"
   },
   {
    "duration": 9,
    "start_time": "2021-09-01T21:33:47.801Z"
   },
   {
    "duration": 12,
    "start_time": "2021-09-01T21:33:47.855Z"
   },
   {
    "duration": 9,
    "start_time": "2021-09-01T21:33:47.870Z"
   },
   {
    "duration": 7,
    "start_time": "2021-09-01T21:33:47.881Z"
   },
   {
    "duration": 8,
    "start_time": "2021-09-01T21:33:47.890Z"
   },
   {
    "duration": 20,
    "start_time": "2021-09-01T21:33:47.900Z"
   },
   {
    "duration": 39,
    "start_time": "2021-09-01T21:33:47.923Z"
   },
   {
    "duration": 11,
    "start_time": "2021-09-01T21:33:47.964Z"
   },
   {
    "duration": 4,
    "start_time": "2021-09-01T21:33:47.978Z"
   },
   {
    "duration": 76,
    "start_time": "2021-09-01T21:33:47.984Z"
   },
   {
    "duration": 5,
    "start_time": "2021-09-01T21:33:48.062Z"
   },
   {
    "duration": 6,
    "start_time": "2021-09-01T21:33:48.071Z"
   },
   {
    "duration": 82172,
    "start_time": "2021-09-01T21:33:48.079Z"
   },
   {
    "duration": 7,
    "start_time": "2021-09-01T21:35:10.253Z"
   },
   {
    "duration": 14,
    "start_time": "2021-09-01T21:35:10.262Z"
   },
   {
    "duration": 49,
    "start_time": "2021-09-01T21:35:10.279Z"
   },
   {
    "duration": 509,
    "start_time": "2021-09-01T21:35:10.358Z"
   },
   {
    "duration": 31,
    "start_time": "2021-09-01T21:35:10.871Z"
   },
   {
    "duration": 1413,
    "start_time": "2021-09-01T21:35:10.905Z"
   },
   {
    "duration": 8,
    "start_time": "2021-09-01T21:35:12.321Z"
   },
   {
    "duration": 29,
    "start_time": "2021-09-01T21:35:12.332Z"
   },
   {
    "duration": 23,
    "start_time": "2021-09-01T21:35:12.363Z"
   },
   {
    "duration": 13,
    "start_time": "2021-09-01T21:35:12.388Z"
   },
   {
    "duration": 2302,
    "start_time": "2021-09-01T21:35:12.403Z"
   },
   {
    "duration": 2920,
    "start_time": "2021-09-01T21:35:14.707Z"
   },
   {
    "duration": 32,
    "start_time": "2021-09-01T21:35:17.629Z"
   },
   {
    "duration": 20,
    "start_time": "2021-09-01T21:35:17.664Z"
   },
   {
    "duration": 630,
    "start_time": "2021-09-01T21:35:17.687Z"
   },
   {
    "duration": 485,
    "start_time": "2021-09-01T21:35:18.319Z"
   },
   {
    "duration": 13,
    "start_time": "2021-09-01T21:35:18.807Z"
   },
   {
    "duration": 18,
    "start_time": "2021-09-01T21:35:18.822Z"
   },
   {
    "duration": 514,
    "start_time": "2021-09-01T21:35:18.842Z"
   },
   {
    "duration": 510,
    "start_time": "2021-09-01T21:35:19.358Z"
   },
   {
    "duration": 6,
    "start_time": "2021-09-01T21:35:19.871Z"
   },
   {
    "duration": 20,
    "start_time": "2021-09-01T21:35:19.879Z"
   },
   {
    "duration": 292,
    "start_time": "2021-09-01T21:35:19.901Z"
   },
   {
    "duration": 24,
    "start_time": "2021-09-01T21:35:20.196Z"
   },
   {
    "duration": 478,
    "start_time": "2021-09-01T21:35:20.223Z"
   },
   {
    "duration": 15,
    "start_time": "2021-09-01T21:35:20.704Z"
   },
   {
    "duration": 681,
    "start_time": "2021-09-01T21:35:20.722Z"
   },
   {
    "duration": 17,
    "start_time": "2021-09-01T21:35:21.406Z"
   },
   {
    "duration": 718,
    "start_time": "2021-09-01T21:35:21.426Z"
   },
   {
    "duration": 530,
    "start_time": "2021-09-01T21:35:59.503Z"
   },
   {
    "duration": 11,
    "start_time": "2021-09-01T21:36:06.050Z"
   },
   {
    "duration": 10,
    "start_time": "2021-09-01T21:36:07.562Z"
   },
   {
    "duration": 15,
    "start_time": "2021-09-01T21:36:12.491Z"
   },
   {
    "duration": 13,
    "start_time": "2021-09-01T21:42:24.672Z"
   },
   {
    "duration": 330,
    "start_time": "2021-09-01T21:47:17.565Z"
   },
   {
    "duration": 355,
    "start_time": "2021-09-01T21:47:30.521Z"
   },
   {
    "duration": 4,
    "start_time": "2021-09-01T21:48:07.978Z"
   },
   {
    "duration": 64,
    "start_time": "2021-09-01T21:48:07.984Z"
   },
   {
    "duration": 30,
    "start_time": "2021-09-01T21:48:08.051Z"
   },
   {
    "duration": 4,
    "start_time": "2021-09-01T21:48:08.083Z"
   },
   {
    "duration": 18,
    "start_time": "2021-09-01T21:48:08.089Z"
   },
   {
    "duration": 7,
    "start_time": "2021-09-01T21:48:08.110Z"
   },
   {
    "duration": 37,
    "start_time": "2021-09-01T21:48:08.120Z"
   },
   {
    "duration": 9,
    "start_time": "2021-09-01T21:48:08.160Z"
   },
   {
    "duration": 18,
    "start_time": "2021-09-01T21:48:08.171Z"
   },
   {
    "duration": 11,
    "start_time": "2021-09-01T21:48:08.191Z"
   },
   {
    "duration": 7,
    "start_time": "2021-09-01T21:48:08.205Z"
   },
   {
    "duration": 7,
    "start_time": "2021-09-01T21:48:10.243Z"
   },
   {
    "duration": 75,
    "start_time": "2021-09-01T21:48:11.500Z"
   },
   {
    "duration": 10,
    "start_time": "2021-09-01T21:48:54.181Z"
   },
   {
    "duration": 78,
    "start_time": "2021-09-01T21:49:16.628Z"
   },
   {
    "duration": 78,
    "start_time": "2021-09-01T21:50:48.299Z"
   },
   {
    "duration": 10,
    "start_time": "2021-09-01T21:50:50.277Z"
   },
   {
    "duration": 11,
    "start_time": "2021-09-01T21:51:09.630Z"
   },
   {
    "duration": 4,
    "start_time": "2021-09-01T21:51:33.270Z"
   },
   {
    "duration": 39,
    "start_time": "2021-09-01T21:51:35.894Z"
   },
   {
    "duration": 5,
    "start_time": "2021-09-01T21:51:37.105Z"
   },
   {
    "duration": 4,
    "start_time": "2021-09-01T21:51:39.513Z"
   },
   {
    "duration": 4,
    "start_time": "2021-09-01T21:51:54.533Z"
   },
   {
    "duration": 51,
    "start_time": "2021-09-01T21:51:54.540Z"
   },
   {
    "duration": 30,
    "start_time": "2021-09-01T21:51:54.594Z"
   },
   {
    "duration": 4,
    "start_time": "2021-09-01T21:51:54.627Z"
   },
   {
    "duration": 29,
    "start_time": "2021-09-01T21:51:54.633Z"
   },
   {
    "duration": 21,
    "start_time": "2021-09-01T21:51:54.664Z"
   },
   {
    "duration": 21,
    "start_time": "2021-09-01T21:51:54.687Z"
   },
   {
    "duration": 14,
    "start_time": "2021-09-01T21:51:54.710Z"
   },
   {
    "duration": 35,
    "start_time": "2021-09-01T21:51:54.727Z"
   },
   {
    "duration": 9,
    "start_time": "2021-09-01T21:51:54.765Z"
   },
   {
    "duration": 14,
    "start_time": "2021-09-01T21:51:54.776Z"
   },
   {
    "duration": 10,
    "start_time": "2021-09-01T21:51:54.793Z"
   },
   {
    "duration": 111,
    "start_time": "2021-09-01T21:51:54.805Z"
   },
   {
    "duration": 88,
    "start_time": "2021-09-01T21:51:54.918Z"
   },
   {
    "duration": 5,
    "start_time": "2021-09-01T21:51:55.009Z"
   },
   {
    "duration": 57,
    "start_time": "2021-09-01T21:51:55.016Z"
   },
   {
    "duration": 6,
    "start_time": "2021-09-01T21:51:55.075Z"
   },
   {
    "duration": 15,
    "start_time": "2021-09-01T21:51:55.083Z"
   },
   {
    "duration": 90140,
    "start_time": "2021-09-01T21:51:55.101Z"
   },
   {
    "duration": 15,
    "start_time": "2021-09-01T21:53:25.243Z"
   },
   {
    "duration": 24,
    "start_time": "2021-09-01T21:53:25.260Z"
   },
   {
    "duration": 38,
    "start_time": "2021-09-01T21:53:25.287Z"
   },
   {
    "duration": 406,
    "start_time": "2021-09-01T21:53:25.327Z"
   },
   {
    "duration": 38,
    "start_time": "2021-09-01T21:53:25.736Z"
   },
   {
    "duration": 1434,
    "start_time": "2021-09-01T21:53:25.777Z"
   },
   {
    "duration": 8,
    "start_time": "2021-09-01T21:53:27.214Z"
   },
   {
    "duration": 31,
    "start_time": "2021-09-01T21:53:27.227Z"
   },
   {
    "duration": 19,
    "start_time": "2021-09-01T21:53:27.261Z"
   },
   {
    "duration": 6,
    "start_time": "2021-09-01T21:53:27.283Z"
   },
   {
    "duration": 2635,
    "start_time": "2021-09-01T21:53:27.291Z"
   },
   {
    "duration": 2888,
    "start_time": "2021-09-01T21:53:29.929Z"
   },
   {
    "duration": 24,
    "start_time": "2021-09-01T21:53:32.819Z"
   },
   {
    "duration": 21,
    "start_time": "2021-09-01T21:53:32.857Z"
   },
   {
    "duration": 467,
    "start_time": "2021-09-01T21:53:32.881Z"
   },
   {
    "duration": 510,
    "start_time": "2021-09-01T21:53:33.350Z"
   },
   {
    "duration": 14,
    "start_time": "2021-09-01T21:53:33.863Z"
   },
   {
    "duration": 15,
    "start_time": "2021-09-01T21:53:33.880Z"
   },
   {
    "duration": 567,
    "start_time": "2021-09-01T21:53:33.898Z"
   },
   {
    "duration": 523,
    "start_time": "2021-09-01T21:53:34.468Z"
   },
   {
    "duration": 6,
    "start_time": "2021-09-01T21:53:34.993Z"
   },
   {
    "duration": 22,
    "start_time": "2021-09-01T21:53:35.001Z"
   },
   {
    "duration": 291,
    "start_time": "2021-09-01T21:53:35.025Z"
   },
   {
    "duration": 41,
    "start_time": "2021-09-01T21:53:35.319Z"
   },
   {
    "duration": 760,
    "start_time": "2021-09-01T21:53:35.362Z"
   },
   {
    "duration": 17,
    "start_time": "2021-09-01T21:53:36.124Z"
   },
   {
    "duration": 783,
    "start_time": "2021-09-01T21:53:36.157Z"
   },
   {
    "duration": 23,
    "start_time": "2021-09-01T21:53:36.943Z"
   },
   {
    "duration": 809,
    "start_time": "2021-09-01T21:53:36.969Z"
   },
   {
    "duration": 601,
    "start_time": "2021-09-01T21:53:37.780Z"
   },
   {
    "duration": 9,
    "start_time": "2021-09-01T21:53:38.384Z"
   },
   {
    "duration": 12,
    "start_time": "2021-09-01T21:53:38.396Z"
   },
   {
    "duration": 15,
    "start_time": "2021-09-01T21:53:38.411Z"
   },
   {
    "duration": 11,
    "start_time": "2021-09-01T21:54:31.690Z"
   },
   {
    "duration": 10,
    "start_time": "2021-09-01T21:54:47.818Z"
   },
   {
    "duration": 14,
    "start_time": "2021-09-01T21:58:34.131Z"
   },
   {
    "duration": 4,
    "start_time": "2021-09-01T22:17:27.012Z"
   },
   {
    "duration": 57,
    "start_time": "2021-09-01T22:17:27.019Z"
   },
   {
    "duration": 31,
    "start_time": "2021-09-01T22:17:27.079Z"
   },
   {
    "duration": 43,
    "start_time": "2021-09-01T22:17:27.113Z"
   },
   {
    "duration": 21,
    "start_time": "2021-09-01T22:17:27.160Z"
   },
   {
    "duration": 26,
    "start_time": "2021-09-01T22:17:27.183Z"
   },
   {
    "duration": 20,
    "start_time": "2021-09-01T22:17:27.211Z"
   },
   {
    "duration": 16,
    "start_time": "2021-09-01T22:17:27.233Z"
   },
   {
    "duration": 10,
    "start_time": "2021-09-01T22:17:27.255Z"
   },
   {
    "duration": 7,
    "start_time": "2021-09-01T22:17:27.268Z"
   },
   {
    "duration": 11,
    "start_time": "2021-09-01T22:17:27.277Z"
   },
   {
    "duration": 110,
    "start_time": "2021-09-01T22:17:27.290Z"
   },
   {
    "duration": 93,
    "start_time": "2021-09-01T22:17:27.403Z"
   },
   {
    "duration": 5,
    "start_time": "2021-09-01T22:17:27.498Z"
   },
   {
    "duration": 59,
    "start_time": "2021-09-01T22:17:27.505Z"
   },
   {
    "duration": 5,
    "start_time": "2021-09-01T22:17:27.567Z"
   },
   {
    "duration": 12,
    "start_time": "2021-09-01T22:17:27.574Z"
   },
   {
    "duration": 82252,
    "start_time": "2021-09-01T22:17:27.588Z"
   },
   {
    "duration": 16,
    "start_time": "2021-09-01T22:18:49.843Z"
   },
   {
    "duration": 14,
    "start_time": "2021-09-01T22:18:49.861Z"
   },
   {
    "duration": 26,
    "start_time": "2021-09-01T22:18:49.877Z"
   },
   {
    "duration": 382,
    "start_time": "2021-09-01T22:18:49.905Z"
   },
   {
    "duration": 21,
    "start_time": "2021-09-01T22:18:50.289Z"
   },
   {
    "duration": 1199,
    "start_time": "2021-09-01T22:18:50.316Z"
   },
   {
    "duration": 8,
    "start_time": "2021-09-01T22:18:51.518Z"
   },
   {
    "duration": 29,
    "start_time": "2021-09-01T22:18:51.528Z"
   },
   {
    "duration": 29,
    "start_time": "2021-09-01T22:18:51.559Z"
   },
   {
    "duration": 9,
    "start_time": "2021-09-01T22:18:51.591Z"
   },
   {
    "duration": 2421,
    "start_time": "2021-09-01T22:18:51.602Z"
   },
   {
    "duration": 2901,
    "start_time": "2021-09-01T22:18:54.025Z"
   },
   {
    "duration": 36,
    "start_time": "2021-09-01T22:18:56.928Z"
   },
   {
    "duration": 29,
    "start_time": "2021-09-01T22:18:56.967Z"
   },
   {
    "duration": 460,
    "start_time": "2021-09-01T22:18:56.998Z"
   },
   {
    "duration": 451,
    "start_time": "2021-09-01T22:18:57.461Z"
   },
   {
    "duration": 13,
    "start_time": "2021-09-01T22:18:57.914Z"
   },
   {
    "duration": 33,
    "start_time": "2021-09-01T22:18:57.930Z"
   },
   {
    "duration": 493,
    "start_time": "2021-09-01T22:18:57.965Z"
   },
   {
    "duration": 498,
    "start_time": "2021-09-01T22:18:58.461Z"
   },
   {
    "duration": 6,
    "start_time": "2021-09-01T22:18:58.962Z"
   },
   {
    "duration": 25,
    "start_time": "2021-09-01T22:18:58.970Z"
   },
   {
    "duration": 279,
    "start_time": "2021-09-01T22:18:58.998Z"
   },
   {
    "duration": 22,
    "start_time": "2021-09-01T22:18:59.279Z"
   },
   {
    "duration": 470,
    "start_time": "2021-09-01T22:18:59.304Z"
   },
   {
    "duration": 17,
    "start_time": "2021-09-01T22:18:59.776Z"
   },
   {
    "duration": 680,
    "start_time": "2021-09-01T22:18:59.796Z"
   },
   {
    "duration": 18,
    "start_time": "2021-09-01T22:19:00.479Z"
   },
   {
    "duration": 725,
    "start_time": "2021-09-01T22:19:00.500Z"
   },
   {
    "duration": 555,
    "start_time": "2021-09-01T22:19:01.228Z"
   },
   {
    "duration": 9,
    "start_time": "2021-09-01T22:19:01.785Z"
   },
   {
    "duration": 50,
    "start_time": "2021-09-01T22:19:01.796Z"
   },
   {
    "duration": 47,
    "start_time": "2021-09-01T22:19:01.848Z"
   },
   {
    "duration": 43,
    "start_time": "2021-09-01T22:19:01.897Z"
   },
   {
    "duration": 39,
    "start_time": "2021-09-01T22:19:01.942Z"
   },
   {
    "duration": 32,
    "start_time": "2021-09-01T22:19:01.984Z"
   },
   {
    "duration": 1315,
    "start_time": "2021-09-02T04:53:53.717Z"
   },
   {
    "duration": 45,
    "start_time": "2021-09-02T04:53:55.035Z"
   },
   {
    "duration": 34,
    "start_time": "2021-09-02T04:53:55.083Z"
   },
   {
    "duration": 4,
    "start_time": "2021-09-02T04:53:55.119Z"
   },
   {
    "duration": 14,
    "start_time": "2021-09-02T04:53:55.126Z"
   },
   {
    "duration": 41,
    "start_time": "2021-09-02T04:53:55.142Z"
   },
   {
    "duration": 8,
    "start_time": "2021-09-02T04:53:55.186Z"
   },
   {
    "duration": 10,
    "start_time": "2021-09-02T04:53:55.198Z"
   },
   {
    "duration": 8,
    "start_time": "2021-09-02T04:53:55.211Z"
   },
   {
    "duration": 7,
    "start_time": "2021-09-02T04:53:55.221Z"
   },
   {
    "duration": 11,
    "start_time": "2021-09-02T04:53:55.230Z"
   },
   {
    "duration": 73,
    "start_time": "2021-09-02T04:53:55.284Z"
   },
   {
    "duration": 86,
    "start_time": "2021-09-02T04:53:55.359Z"
   },
   {
    "duration": 5,
    "start_time": "2021-09-02T04:53:55.447Z"
   },
   {
    "duration": 55,
    "start_time": "2021-09-02T04:53:55.454Z"
   },
   {
    "duration": 6,
    "start_time": "2021-09-02T04:53:55.511Z"
   },
   {
    "duration": 9,
    "start_time": "2021-09-02T04:53:55.519Z"
   },
   {
    "duration": 78189,
    "start_time": "2021-09-02T04:53:55.531Z"
   },
   {
    "duration": 8,
    "start_time": "2021-09-02T04:55:13.723Z"
   },
   {
    "duration": 10,
    "start_time": "2021-09-02T04:55:13.734Z"
   },
   {
    "duration": 52,
    "start_time": "2021-09-02T04:55:13.747Z"
   },
   {
    "duration": 381,
    "start_time": "2021-09-02T04:55:13.802Z"
   },
   {
    "duration": 23,
    "start_time": "2021-09-02T04:55:14.190Z"
   },
   {
    "duration": 1123,
    "start_time": "2021-09-02T04:55:14.217Z"
   },
   {
    "duration": 7,
    "start_time": "2021-09-02T04:55:15.343Z"
   },
   {
    "duration": 10,
    "start_time": "2021-09-02T04:55:15.352Z"
   },
   {
    "duration": 15,
    "start_time": "2021-09-02T04:55:15.383Z"
   },
   {
    "duration": 6,
    "start_time": "2021-09-02T04:55:15.400Z"
   },
   {
    "duration": 2206,
    "start_time": "2021-09-02T04:55:15.408Z"
   },
   {
    "duration": 2758,
    "start_time": "2021-09-02T04:55:17.616Z"
   },
   {
    "duration": 25,
    "start_time": "2021-09-02T04:55:20.377Z"
   },
   {
    "duration": 22,
    "start_time": "2021-09-02T04:55:20.404Z"
   },
   {
    "duration": 505,
    "start_time": "2021-09-02T04:55:20.429Z"
   },
   {
    "duration": 478,
    "start_time": "2021-09-02T04:55:20.937Z"
   },
   {
    "duration": 13,
    "start_time": "2021-09-02T04:55:21.418Z"
   },
   {
    "duration": 12,
    "start_time": "2021-09-02T04:55:21.434Z"
   },
   {
    "duration": 513,
    "start_time": "2021-09-02T04:55:21.448Z"
   },
   {
    "duration": 522,
    "start_time": "2021-09-02T04:55:21.963Z"
   },
   {
    "duration": 6,
    "start_time": "2021-09-02T04:55:22.487Z"
   },
   {
    "duration": 8,
    "start_time": "2021-09-02T04:55:22.495Z"
   },
   {
    "duration": 339,
    "start_time": "2021-09-02T04:55:22.505Z"
   },
   {
    "duration": 39,
    "start_time": "2021-09-02T04:55:22.846Z"
   },
   {
    "duration": 463,
    "start_time": "2021-09-02T04:55:22.888Z"
   },
   {
    "duration": 14,
    "start_time": "2021-09-02T04:55:23.354Z"
   },
   {
    "duration": 722,
    "start_time": "2021-09-02T04:55:23.383Z"
   },
   {
    "duration": 14,
    "start_time": "2021-09-02T04:55:24.108Z"
   },
   {
    "duration": 680,
    "start_time": "2021-09-02T04:55:24.124Z"
   },
   {
    "duration": 516,
    "start_time": "2021-09-02T04:55:24.807Z"
   },
   {
    "duration": 10,
    "start_time": "2021-09-02T04:55:25.326Z"
   },
   {
    "duration": 13,
    "start_time": "2021-09-02T04:55:25.338Z"
   },
   {
    "duration": 39,
    "start_time": "2021-09-02T04:55:25.354Z"
   },
   {
    "duration": 10,
    "start_time": "2021-09-02T04:55:25.396Z"
   },
   {
    "duration": 9,
    "start_time": "2021-09-02T04:55:25.408Z"
   },
   {
    "duration": 12,
    "start_time": "2021-09-02T04:55:25.420Z"
   },
   {
    "duration": 1449,
    "start_time": "2021-09-02T18:22:12.180Z"
   },
   {
    "duration": 51,
    "start_time": "2021-09-02T18:22:13.631Z"
   },
   {
    "duration": 37,
    "start_time": "2021-09-02T18:22:13.686Z"
   },
   {
    "duration": 5,
    "start_time": "2021-09-02T18:22:13.725Z"
   },
   {
    "duration": 38,
    "start_time": "2021-09-02T18:22:13.732Z"
   },
   {
    "duration": 10,
    "start_time": "2021-09-02T18:22:13.773Z"
   },
   {
    "duration": 16,
    "start_time": "2021-09-02T18:22:13.786Z"
   },
   {
    "duration": 19,
    "start_time": "2021-09-02T18:22:13.805Z"
   },
   {
    "duration": 9,
    "start_time": "2021-09-02T18:22:13.829Z"
   },
   {
    "duration": 29,
    "start_time": "2021-09-02T18:22:13.842Z"
   },
   {
    "duration": 8,
    "start_time": "2021-09-02T18:22:13.874Z"
   },
   {
    "duration": 107,
    "start_time": "2021-09-02T18:22:13.884Z"
   },
   {
    "duration": 91,
    "start_time": "2021-09-02T18:22:13.994Z"
   },
   {
    "duration": 4,
    "start_time": "2021-09-02T18:22:14.088Z"
   },
   {
    "duration": 46,
    "start_time": "2021-09-02T18:22:14.094Z"
   },
   {
    "duration": 5,
    "start_time": "2021-09-02T18:22:14.143Z"
   },
   {
    "duration": 18,
    "start_time": "2021-09-02T18:22:14.151Z"
   },
   {
    "duration": 86388,
    "start_time": "2021-09-02T18:22:14.172Z"
   },
   {
    "duration": 6,
    "start_time": "2021-09-02T18:23:40.567Z"
   },
   {
    "duration": 9,
    "start_time": "2021-09-02T18:23:40.575Z"
   },
   {
    "duration": 22,
    "start_time": "2021-09-02T18:23:40.586Z"
   },
   {
    "duration": 459,
    "start_time": "2021-09-02T18:23:40.611Z"
   },
   {
    "duration": 25,
    "start_time": "2021-09-02T18:23:41.073Z"
   },
   {
    "duration": 1275,
    "start_time": "2021-09-02T18:23:41.100Z"
   },
   {
    "duration": 8,
    "start_time": "2021-09-02T18:23:42.377Z"
   },
   {
    "duration": 10,
    "start_time": "2021-09-02T18:23:42.388Z"
   },
   {
    "duration": 20,
    "start_time": "2021-09-02T18:23:42.404Z"
   },
   {
    "duration": 39,
    "start_time": "2021-09-02T18:23:42.428Z"
   },
   {
    "duration": 2478,
    "start_time": "2021-09-02T18:23:42.469Z"
   },
   {
    "duration": 3252,
    "start_time": "2021-09-02T18:23:44.950Z"
   },
   {
    "duration": 26,
    "start_time": "2021-09-02T18:23:48.204Z"
   },
   {
    "duration": 39,
    "start_time": "2021-09-02T18:23:48.233Z"
   },
   {
    "duration": 495,
    "start_time": "2021-09-02T18:23:48.275Z"
   },
   {
    "duration": 466,
    "start_time": "2021-09-02T18:23:48.772Z"
   },
   {
    "duration": 27,
    "start_time": "2021-09-02T18:23:49.241Z"
   },
   {
    "duration": 13,
    "start_time": "2021-09-02T18:23:49.271Z"
   },
   {
    "duration": 512,
    "start_time": "2021-09-02T18:23:49.286Z"
   },
   {
    "duration": 535,
    "start_time": "2021-09-02T18:23:49.801Z"
   },
   {
    "duration": 9,
    "start_time": "2021-09-02T18:23:50.339Z"
   },
   {
    "duration": 29,
    "start_time": "2021-09-02T18:23:50.351Z"
   },
   {
    "duration": 317,
    "start_time": "2021-09-02T18:23:50.383Z"
   },
   {
    "duration": 27,
    "start_time": "2021-09-02T18:23:50.704Z"
   },
   {
    "duration": 569,
    "start_time": "2021-09-02T18:23:50.734Z"
   },
   {
    "duration": 17,
    "start_time": "2021-09-02T18:23:51.305Z"
   },
   {
    "duration": 820,
    "start_time": "2021-09-02T18:23:51.325Z"
   },
   {
    "duration": 25,
    "start_time": "2021-09-02T18:23:52.148Z"
   },
   {
    "duration": 830,
    "start_time": "2021-09-02T18:23:52.176Z"
   },
   {
    "duration": 577,
    "start_time": "2021-09-02T18:23:53.009Z"
   },
   {
    "duration": 15,
    "start_time": "2021-09-02T18:23:53.589Z"
   },
   {
    "duration": 2338,
    "start_time": "2021-09-02T18:23:53.606Z"
   },
   {
    "duration": 32,
    "start_time": "2021-09-02T18:23:55.947Z"
   },
   {
    "duration": 11,
    "start_time": "2021-09-02T18:23:55.982Z"
   },
   {
    "duration": 14,
    "start_time": "2021-09-02T18:23:55.996Z"
   },
   {
    "duration": 18,
    "start_time": "2021-09-02T18:23:56.013Z"
   },
   {
    "duration": 525,
    "start_time": "2021-09-02T18:25:16.652Z"
   },
   {
    "duration": 356,
    "start_time": "2021-09-02T18:25:35.426Z"
   },
   {
    "duration": 1153,
    "start_time": "2021-09-02T21:03:39.520Z"
   },
   {
    "duration": 40,
    "start_time": "2021-09-02T21:03:42.053Z"
   },
   {
    "duration": 34,
    "start_time": "2021-09-02T21:03:43.894Z"
   },
   {
    "duration": 4,
    "start_time": "2021-09-02T21:03:46.869Z"
   },
   {
    "duration": 6,
    "start_time": "2021-09-02T21:03:47.853Z"
   },
   {
    "duration": 10,
    "start_time": "2021-09-02T21:03:54.790Z"
   },
   {
    "duration": 449,
    "start_time": "2021-09-02T21:05:58.613Z"
   },
   {
    "duration": 8,
    "start_time": "2021-09-02T21:06:03.632Z"
   },
   {
    "duration": 9,
    "start_time": "2021-09-02T21:06:04.779Z"
   },
   {
    "duration": 6,
    "start_time": "2021-09-02T21:06:07.281Z"
   },
   {
    "duration": 342,
    "start_time": "2021-09-02T21:06:09.610Z"
   },
   {
    "duration": 7,
    "start_time": "2021-09-02T21:06:20.981Z"
   },
   {
    "duration": 6,
    "start_time": "2021-09-02T21:06:47.196Z"
   },
   {
    "duration": 6,
    "start_time": "2021-09-02T21:06:55.518Z"
   },
   {
    "duration": 5,
    "start_time": "2021-09-02T21:06:59.681Z"
   },
   {
    "duration": 6,
    "start_time": "2021-09-02T21:07:02.320Z"
   },
   {
    "duration": 11,
    "start_time": "2021-09-02T21:07:52.552Z"
   },
   {
    "duration": 18,
    "start_time": "2021-09-02T21:08:13.156Z"
   },
   {
    "duration": 14,
    "start_time": "2021-09-02T21:08:48.296Z"
   },
   {
    "duration": 13,
    "start_time": "2021-09-02T21:09:03.579Z"
   },
   {
    "duration": 13,
    "start_time": "2021-09-02T21:09:12.082Z"
   },
   {
    "duration": 12,
    "start_time": "2021-09-02T21:09:20.332Z"
   },
   {
    "duration": 4,
    "start_time": "2021-09-02T21:09:39.349Z"
   },
   {
    "duration": 10,
    "start_time": "2021-09-02T21:09:48.097Z"
   },
   {
    "duration": 9,
    "start_time": "2021-09-02T21:09:55.686Z"
   },
   {
    "duration": 8,
    "start_time": "2021-09-02T21:10:50.561Z"
   },
   {
    "duration": 10,
    "start_time": "2021-09-02T21:10:51.748Z"
   },
   {
    "duration": 7,
    "start_time": "2021-09-02T21:11:21.343Z"
   },
   {
    "duration": 5,
    "start_time": "2021-09-02T21:11:22.685Z"
   },
   {
    "duration": 2,
    "start_time": "2021-09-02T21:12:49.903Z"
   },
   {
    "duration": 3,
    "start_time": "2021-09-02T21:12:51.545Z"
   },
   {
    "duration": 8,
    "start_time": "2021-09-02T21:16:53.293Z"
   },
   {
    "duration": 4,
    "start_time": "2021-09-02T21:25:25.397Z"
   },
   {
    "duration": 28,
    "start_time": "2021-09-02T21:25:27.303Z"
   },
   {
    "duration": 5,
    "start_time": "2021-09-02T21:25:28.334Z"
   },
   {
    "duration": 3,
    "start_time": "2021-09-02T21:25:30.853Z"
   },
   {
    "duration": 18,
    "start_time": "2021-09-02T21:25:33.411Z"
   },
   {
    "duration": 15,
    "start_time": "2021-09-02T21:25:47.681Z"
   },
   {
    "duration": 3,
    "start_time": "2021-09-02T21:27:33.366Z"
   },
   {
    "duration": 265,
    "start_time": "2021-09-02T21:30:12.028Z"
   },
   {
    "duration": 3,
    "start_time": "2021-09-02T21:30:19.525Z"
   },
   {
    "duration": 20,
    "start_time": "2021-09-02T21:36:03.266Z"
   },
   {
    "duration": 830,
    "start_time": "2021-09-02T21:36:29.909Z"
   },
   {
    "duration": 3976,
    "start_time": "2021-09-02T21:36:44.754Z"
   },
   {
    "duration": 5294,
    "start_time": "2021-09-02T21:43:26.643Z"
   },
   {
    "duration": 720,
    "start_time": "2021-09-02T21:43:49.230Z"
   },
   {
    "duration": 455,
    "start_time": "2021-09-02T21:43:58.339Z"
   },
   {
    "duration": 297,
    "start_time": "2021-09-02T21:47:52.744Z"
   },
   {
    "duration": 100,
    "start_time": "2021-09-02T21:50:01.508Z"
   },
   {
    "duration": 742,
    "start_time": "2021-09-02T21:50:07.093Z"
   },
   {
    "duration": 19,
    "start_time": "2021-09-02T21:50:39.677Z"
   },
   {
    "duration": 3,
    "start_time": "2021-09-02T21:51:03.117Z"
   },
   {
    "duration": 38,
    "start_time": "2021-09-02T21:51:03.127Z"
   },
   {
    "duration": 22,
    "start_time": "2021-09-02T21:51:03.166Z"
   },
   {
    "duration": 3,
    "start_time": "2021-09-02T21:51:03.190Z"
   },
   {
    "duration": 9,
    "start_time": "2021-09-02T21:51:03.224Z"
   },
   {
    "duration": 10,
    "start_time": "2021-09-02T21:51:03.235Z"
   },
   {
    "duration": 16,
    "start_time": "2021-09-02T21:51:03.247Z"
   },
   {
    "duration": 10,
    "start_time": "2021-09-02T21:51:03.303Z"
   },
   {
    "duration": 8,
    "start_time": "2021-09-02T21:51:03.315Z"
   },
   {
    "duration": 15,
    "start_time": "2021-09-02T21:51:03.325Z"
   },
   {
    "duration": 5,
    "start_time": "2021-09-02T21:51:03.385Z"
   },
   {
    "duration": 19,
    "start_time": "2021-09-02T21:51:03.392Z"
   },
   {
    "duration": 2,
    "start_time": "2021-09-02T21:51:03.535Z"
   },
   {
    "duration": 3,
    "start_time": "2021-09-02T21:51:03.606Z"
   },
   {
    "duration": 5,
    "start_time": "2021-09-02T21:51:03.617Z"
   },
   {
    "duration": 38,
    "start_time": "2021-09-02T21:51:03.624Z"
   },
   {
    "duration": 4,
    "start_time": "2021-09-02T21:51:03.664Z"
   },
   {
    "duration": 11,
    "start_time": "2021-09-02T21:51:07.352Z"
   },
   {
    "duration": 8,
    "start_time": "2021-09-02T21:51:28.927Z"
   },
   {
    "duration": 712,
    "start_time": "2021-09-02T21:51:31.052Z"
   },
   {
    "duration": 10,
    "start_time": "2021-09-02T21:51:38.072Z"
   },
   {
    "duration": 4,
    "start_time": "2021-09-02T21:53:13.220Z"
   },
   {
    "duration": 1474,
    "start_time": "2021-09-02T21:53:14.289Z"
   },
   {
    "duration": 4,
    "start_time": "2021-09-02T21:54:11.085Z"
   },
   {
    "duration": 4,
    "start_time": "2021-09-02T21:54:23.949Z"
   },
   {
    "duration": 553,
    "start_time": "2021-09-02T21:54:26.328Z"
   },
   {
    "duration": 3,
    "start_time": "2021-09-02T21:58:31.747Z"
   },
   {
    "duration": 972,
    "start_time": "2021-09-02T21:58:33.068Z"
   },
   {
    "duration": 4,
    "start_time": "2021-09-02T22:05:30.808Z"
   },
   {
    "duration": 19,
    "start_time": "2021-09-02T22:05:57.133Z"
   },
   {
    "duration": 11,
    "start_time": "2021-09-02T22:06:06.501Z"
   },
   {
    "duration": 3,
    "start_time": "2021-09-02T22:06:27.054Z"
   },
   {
    "duration": 42,
    "start_time": "2021-09-02T22:06:27.060Z"
   },
   {
    "duration": 27,
    "start_time": "2021-09-02T22:06:27.104Z"
   },
   {
    "duration": 3,
    "start_time": "2021-09-02T22:06:27.133Z"
   },
   {
    "duration": 15,
    "start_time": "2021-09-02T22:06:27.140Z"
   },
   {
    "duration": 7,
    "start_time": "2021-09-02T22:06:27.157Z"
   },
   {
    "duration": 7,
    "start_time": "2021-09-02T22:06:27.166Z"
   },
   {
    "duration": 11,
    "start_time": "2021-09-02T22:06:27.175Z"
   },
   {
    "duration": 8,
    "start_time": "2021-09-02T22:06:27.188Z"
   },
   {
    "duration": 7,
    "start_time": "2021-09-02T22:06:27.198Z"
   },
   {
    "duration": 37,
    "start_time": "2021-09-02T22:06:27.207Z"
   },
   {
    "duration": 5,
    "start_time": "2021-09-02T22:06:27.246Z"
   },
   {
    "duration": 5,
    "start_time": "2021-09-02T22:06:27.253Z"
   },
   {
    "duration": 8,
    "start_time": "2021-09-02T22:06:27.259Z"
   },
   {
    "duration": 7,
    "start_time": "2021-09-02T22:06:27.269Z"
   },
   {
    "duration": 31,
    "start_time": "2021-09-02T22:06:27.278Z"
   },
   {
    "duration": 4,
    "start_time": "2021-09-02T22:06:27.310Z"
   },
   {
    "duration": 4,
    "start_time": "2021-09-02T22:06:31.699Z"
   },
   {
    "duration": 19,
    "start_time": "2021-09-02T22:06:41.418Z"
   },
   {
    "duration": 4,
    "start_time": "2021-09-02T22:07:10.481Z"
   },
   {
    "duration": 16,
    "start_time": "2021-09-02T22:07:11.848Z"
   },
   {
    "duration": 10,
    "start_time": "2021-09-02T22:07:17.938Z"
   },
   {
    "duration": 380,
    "start_time": "2021-09-02T22:09:18.419Z"
   },
   {
    "duration": 5,
    "start_time": "2021-09-02T22:09:29.690Z"
   },
   {
    "duration": 3,
    "start_time": "2021-09-02T22:09:55.000Z"
   },
   {
    "duration": 44,
    "start_time": "2021-09-02T22:09:55.005Z"
   },
   {
    "duration": 21,
    "start_time": "2021-09-02T22:09:55.051Z"
   },
   {
    "duration": 2,
    "start_time": "2021-09-02T22:09:55.074Z"
   },
   {
    "duration": 12,
    "start_time": "2021-09-02T22:09:55.078Z"
   },
   {
    "duration": 8,
    "start_time": "2021-09-02T22:09:55.091Z"
   },
   {
    "duration": 41,
    "start_time": "2021-09-02T22:09:55.100Z"
   },
   {
    "duration": 10,
    "start_time": "2021-09-02T22:09:55.143Z"
   },
   {
    "duration": 7,
    "start_time": "2021-09-02T22:09:55.155Z"
   },
   {
    "duration": 6,
    "start_time": "2021-09-02T22:09:55.164Z"
   },
   {
    "duration": 5,
    "start_time": "2021-09-02T22:09:55.172Z"
   },
   {
    "duration": 6,
    "start_time": "2021-09-02T22:09:55.179Z"
   },
   {
    "duration": 3,
    "start_time": "2021-09-02T22:09:55.187Z"
   },
   {
    "duration": 6,
    "start_time": "2021-09-02T22:09:55.192Z"
   },
   {
    "duration": 7,
    "start_time": "2021-09-02T22:09:55.199Z"
   },
   {
    "duration": 28,
    "start_time": "2021-09-02T22:09:55.241Z"
   },
   {
    "duration": 4,
    "start_time": "2021-09-02T22:09:55.271Z"
   },
   {
    "duration": 11,
    "start_time": "2021-09-02T22:09:59.326Z"
   },
   {
    "duration": 5,
    "start_time": "2021-09-02T22:10:10.808Z"
   },
   {
    "duration": 107,
    "start_time": "2021-09-02T22:12:07.725Z"
   },
   {
    "duration": 3,
    "start_time": "2021-09-02T22:12:18.471Z"
   },
   {
    "duration": 687,
    "start_time": "2021-09-02T22:12:19.899Z"
   },
   {
    "duration": 4,
    "start_time": "2021-09-02T22:12:47.485Z"
   },
   {
    "duration": 587,
    "start_time": "2021-09-02T22:12:48.820Z"
   },
   {
    "duration": 10,
    "start_time": "2021-09-02T22:13:03.380Z"
   },
   {
    "duration": 14,
    "start_time": "2021-09-02T22:13:38.494Z"
   },
   {
    "duration": 3,
    "start_time": "2021-09-02T22:13:52.965Z"
   },
   {
    "duration": 43,
    "start_time": "2021-09-02T22:13:52.970Z"
   },
   {
    "duration": 21,
    "start_time": "2021-09-02T22:13:53.015Z"
   },
   {
    "duration": 2,
    "start_time": "2021-09-02T22:13:53.038Z"
   },
   {
    "duration": 11,
    "start_time": "2021-09-02T22:13:53.042Z"
   },
   {
    "duration": 8,
    "start_time": "2021-09-02T22:13:53.055Z"
   },
   {
    "duration": 11,
    "start_time": "2021-09-02T22:13:53.064Z"
   },
   {
    "duration": 9,
    "start_time": "2021-09-02T22:13:53.078Z"
   },
   {
    "duration": 7,
    "start_time": "2021-09-02T22:13:53.089Z"
   },
   {
    "duration": 6,
    "start_time": "2021-09-02T22:13:53.098Z"
   },
   {
    "duration": 35,
    "start_time": "2021-09-02T22:13:53.106Z"
   },
   {
    "duration": 4,
    "start_time": "2021-09-02T22:13:53.143Z"
   },
   {
    "duration": 9,
    "start_time": "2021-09-02T22:13:53.149Z"
   },
   {
    "duration": 6,
    "start_time": "2021-09-02T22:13:53.160Z"
   },
   {
    "duration": 4,
    "start_time": "2021-09-02T22:13:53.168Z"
   },
   {
    "duration": 32,
    "start_time": "2021-09-02T22:13:53.174Z"
   },
   {
    "duration": 4,
    "start_time": "2021-09-02T22:13:53.207Z"
   },
   {
    "duration": 39,
    "start_time": "2021-09-02T22:13:53.213Z"
   },
   {
    "duration": 14,
    "start_time": "2021-09-02T22:13:56.527Z"
   },
   {
    "duration": 5,
    "start_time": "2021-09-02T22:13:59.164Z"
   },
   {
    "duration": 14,
    "start_time": "2021-09-02T22:14:00.760Z"
   },
   {
    "duration": 3,
    "start_time": "2021-09-02T22:15:27.597Z"
   },
   {
    "duration": 49,
    "start_time": "2021-09-02T22:15:27.603Z"
   },
   {
    "duration": 20,
    "start_time": "2021-09-02T22:15:27.654Z"
   },
   {
    "duration": 2,
    "start_time": "2021-09-02T22:15:27.677Z"
   },
   {
    "duration": 23,
    "start_time": "2021-09-02T22:15:27.681Z"
   },
   {
    "duration": 18,
    "start_time": "2021-09-02T22:15:27.706Z"
   },
   {
    "duration": 16,
    "start_time": "2021-09-02T22:15:27.726Z"
   },
   {
    "duration": 21,
    "start_time": "2021-09-02T22:15:27.744Z"
   },
   {
    "duration": 8,
    "start_time": "2021-09-02T22:15:27.768Z"
   },
   {
    "duration": 12,
    "start_time": "2021-09-02T22:15:27.777Z"
   },
   {
    "duration": 10,
    "start_time": "2021-09-02T22:15:27.791Z"
   },
   {
    "duration": 14,
    "start_time": "2021-09-02T22:15:27.803Z"
   },
   {
    "duration": 11,
    "start_time": "2021-09-02T22:15:27.819Z"
   },
   {
    "duration": 8,
    "start_time": "2021-09-02T22:15:27.832Z"
   },
   {
    "duration": 11,
    "start_time": "2021-09-02T22:15:27.841Z"
   },
   {
    "duration": 33,
    "start_time": "2021-09-02T22:15:27.854Z"
   },
   {
    "duration": 4,
    "start_time": "2021-09-02T22:15:27.888Z"
   },
   {
    "duration": 10,
    "start_time": "2021-09-02T22:15:33.817Z"
   },
   {
    "duration": 5,
    "start_time": "2021-09-02T22:15:37.744Z"
   },
   {
    "duration": 3,
    "start_time": "2021-09-02T22:15:45.564Z"
   },
   {
    "duration": 493,
    "start_time": "2021-09-02T22:15:47.323Z"
   },
   {
    "duration": 14,
    "start_time": "2021-09-02T22:15:50.809Z"
   },
   {
    "duration": 10,
    "start_time": "2021-09-02T22:16:01.192Z"
   },
   {
    "duration": 480,
    "start_time": "2021-09-02T22:16:48.825Z"
   },
   {
    "duration": 14,
    "start_time": "2021-09-02T22:16:51.623Z"
   },
   {
    "duration": 3,
    "start_time": "2021-09-02T22:24:09.833Z"
   },
   {
    "duration": 39,
    "start_time": "2021-09-02T22:24:09.918Z"
   },
   {
    "duration": 21,
    "start_time": "2021-09-02T22:24:09.959Z"
   },
   {
    "duration": 4,
    "start_time": "2021-09-02T22:24:09.982Z"
   },
   {
    "duration": 15,
    "start_time": "2021-09-02T22:24:09.987Z"
   },
   {
    "duration": 14,
    "start_time": "2021-09-02T22:24:10.003Z"
   },
   {
    "duration": 28,
    "start_time": "2021-09-02T22:24:10.018Z"
   },
   {
    "duration": 16,
    "start_time": "2021-09-02T22:24:10.048Z"
   },
   {
    "duration": 18,
    "start_time": "2021-09-02T22:24:10.066Z"
   },
   {
    "duration": 15,
    "start_time": "2021-09-02T22:24:10.087Z"
   },
   {
    "duration": 20,
    "start_time": "2021-09-02T22:24:10.103Z"
   },
   {
    "duration": 9,
    "start_time": "2021-09-02T22:24:10.125Z"
   },
   {
    "duration": 11,
    "start_time": "2021-09-02T22:24:10.136Z"
   },
   {
    "duration": 8,
    "start_time": "2021-09-02T22:24:10.148Z"
   },
   {
    "duration": 19,
    "start_time": "2021-09-02T22:24:10.158Z"
   },
   {
    "duration": 53,
    "start_time": "2021-09-02T22:24:10.178Z"
   },
   {
    "duration": 4,
    "start_time": "2021-09-02T22:24:13.356Z"
   },
   {
    "duration": 4,
    "start_time": "2021-09-02T22:24:15.293Z"
   },
   {
    "duration": 58566,
    "start_time": "2021-09-02T22:24:18.199Z"
   },
   {
    "duration": 263,
    "start_time": "2021-09-02T22:27:24.201Z"
   },
   {
    "duration": 4,
    "start_time": "2021-09-02T22:27:29.280Z"
   },
   {
    "duration": 34,
    "start_time": "2021-09-02T22:27:30.278Z"
   },
   {
    "duration": 3,
    "start_time": "2021-09-02T22:27:35.826Z"
   },
   {
    "duration": 49,
    "start_time": "2021-09-02T22:27:35.832Z"
   },
   {
    "duration": 22,
    "start_time": "2021-09-02T22:27:35.883Z"
   },
   {
    "duration": 3,
    "start_time": "2021-09-02T22:27:35.907Z"
   },
   {
    "duration": 11,
    "start_time": "2021-09-02T22:27:35.912Z"
   },
   {
    "duration": 8,
    "start_time": "2021-09-02T22:27:35.940Z"
   },
   {
    "duration": 10,
    "start_time": "2021-09-02T22:27:35.950Z"
   },
   {
    "duration": 14,
    "start_time": "2021-09-02T22:27:35.961Z"
   },
   {
    "duration": 7,
    "start_time": "2021-09-02T22:27:35.978Z"
   },
   {
    "duration": 7,
    "start_time": "2021-09-02T22:27:35.987Z"
   },
   {
    "duration": 5,
    "start_time": "2021-09-02T22:27:35.995Z"
   },
   {
    "duration": 8,
    "start_time": "2021-09-02T22:27:36.001Z"
   },
   {
    "duration": 32,
    "start_time": "2021-09-02T22:27:36.010Z"
   },
   {
    "duration": 5,
    "start_time": "2021-09-02T22:27:36.044Z"
   },
   {
    "duration": 5,
    "start_time": "2021-09-02T22:27:36.051Z"
   },
   {
    "duration": 32,
    "start_time": "2021-09-02T22:27:36.058Z"
   },
   {
    "duration": 4,
    "start_time": "2021-09-02T22:27:39.788Z"
   },
   {
    "duration": 3,
    "start_time": "2021-09-02T22:27:41.070Z"
   },
   {
    "duration": 34,
    "start_time": "2021-09-02T22:27:42.189Z"
   },
   {
    "duration": 11,
    "start_time": "2021-09-02T22:27:59.234Z"
   },
   {
    "duration": 18,
    "start_time": "2021-09-02T22:28:16.778Z"
   },
   {
    "duration": 4,
    "start_time": "2021-09-02T22:28:42.520Z"
   },
   {
    "duration": 58270,
    "start_time": "2021-09-02T22:28:44.071Z"
   },
   {
    "duration": 19,
    "start_time": "2021-09-02T22:30:10.713Z"
   },
   {
    "duration": 10,
    "start_time": "2021-09-02T22:30:20.692Z"
   },
   {
    "duration": 8,
    "start_time": "2021-09-02T22:31:37.531Z"
   },
   {
    "duration": 6,
    "start_time": "2021-09-02T22:36:12.826Z"
   },
   {
    "duration": 5,
    "start_time": "2021-09-02T22:36:14.126Z"
   },
   {
    "duration": 15,
    "start_time": "2021-09-02T22:36:16.567Z"
   },
   {
    "duration": 236,
    "start_time": "2021-09-02T22:36:29.588Z"
   },
   {
    "duration": 429,
    "start_time": "2021-09-02T22:36:57.859Z"
   },
   {
    "duration": 425,
    "start_time": "2021-09-02T22:37:42.894Z"
   },
   {
    "duration": 94456,
    "start_time": "2021-09-02T22:37:50.849Z"
   },
   {
    "duration": 308,
    "start_time": "2021-09-02T22:40:21.498Z"
   },
   {
    "duration": 290,
    "start_time": "2021-09-02T22:40:35.536Z"
   },
   {
    "duration": 4,
    "start_time": "2021-09-02T22:41:12.688Z"
   },
   {
    "duration": 7,
    "start_time": "2021-09-02T22:41:30.148Z"
   },
   {
    "duration": 7,
    "start_time": "2021-09-02T22:41:44.642Z"
   },
   {
    "duration": 7,
    "start_time": "2021-09-02T22:41:50.011Z"
   },
   {
    "duration": 335,
    "start_time": "2021-09-02T22:42:04.499Z"
   },
   {
    "duration": 416,
    "start_time": "2021-09-02T22:42:23.912Z"
   },
   {
    "duration": 412,
    "start_time": "2021-09-02T22:42:39.450Z"
   },
   {
    "duration": 542,
    "start_time": "2021-09-02T22:43:18.152Z"
   },
   {
    "duration": 720,
    "start_time": "2021-09-02T22:44:09.576Z"
   },
   {
    "duration": 433,
    "start_time": "2021-09-02T22:44:27.749Z"
   },
   {
    "duration": 276,
    "start_time": "2021-09-02T22:45:21.412Z"
   },
   {
    "duration": 433,
    "start_time": "2021-09-02T22:45:27.707Z"
   },
   {
    "duration": 428,
    "start_time": "2021-09-02T22:45:51.442Z"
   },
   {
    "duration": 434,
    "start_time": "2021-09-02T22:46:21.626Z"
   },
   {
    "duration": 428,
    "start_time": "2021-09-02T22:46:36.320Z"
   },
   {
    "duration": 420,
    "start_time": "2021-09-02T22:46:59.047Z"
   },
   {
    "duration": 423,
    "start_time": "2021-09-02T22:47:13.903Z"
   },
   {
    "duration": 427,
    "start_time": "2021-09-02T22:47:58.314Z"
   },
   {
    "duration": 440,
    "start_time": "2021-09-02T22:48:08.761Z"
   },
   {
    "duration": 91,
    "start_time": "2021-09-02T22:48:21.714Z"
   },
   {
    "duration": 438,
    "start_time": "2021-09-02T22:48:26.042Z"
   },
   {
    "duration": 423,
    "start_time": "2021-09-02T22:48:52.063Z"
   },
   {
    "duration": 286,
    "start_time": "2021-09-02T22:50:55.807Z"
   },
   {
    "duration": 1024,
    "start_time": "2021-09-02T22:51:35.200Z"
   },
   {
    "duration": 300,
    "start_time": "2021-09-02T22:52:01.260Z"
   },
   {
    "duration": 7,
    "start_time": "2021-09-02T22:52:12.054Z"
   },
   {
    "duration": 277,
    "start_time": "2021-09-02T22:52:34.674Z"
   },
   {
    "duration": 290,
    "start_time": "2021-09-02T22:52:48.427Z"
   },
   {
    "duration": 20970,
    "start_time": "2021-09-02T22:53:15.071Z"
   },
   {
    "duration": 93,
    "start_time": "2021-09-02T22:53:44.529Z"
   },
   {
    "duration": 414,
    "start_time": "2021-09-02T22:53:52.109Z"
   },
   {
    "duration": 360,
    "start_time": "2021-09-02T22:54:33.457Z"
   },
   {
    "duration": 276,
    "start_time": "2021-09-02T22:54:38.944Z"
   },
   {
    "duration": 23,
    "start_time": "2021-09-02T22:55:04.121Z"
   },
   {
    "duration": 6,
    "start_time": "2021-09-02T22:55:22.378Z"
   },
   {
    "duration": 427,
    "start_time": "2021-09-02T22:55:40.437Z"
   },
   {
    "duration": 291,
    "start_time": "2021-09-02T22:55:51.436Z"
   },
   {
    "duration": 280,
    "start_time": "2021-09-02T22:56:03.938Z"
   },
   {
    "duration": 314,
    "start_time": "2021-09-02T22:56:36.619Z"
   },
   {
    "duration": 607,
    "start_time": "2021-09-02T22:56:44.645Z"
   },
   {
    "duration": 283,
    "start_time": "2021-09-02T22:56:55.696Z"
   },
   {
    "duration": 279,
    "start_time": "2021-09-02T22:57:09.464Z"
   },
   {
    "duration": 200,
    "start_time": "2021-09-02T22:57:58.710Z"
   },
   {
    "duration": 16,
    "start_time": "2021-09-02T22:58:08.488Z"
   },
   {
    "duration": 22736,
    "start_time": "2021-09-02T22:58:49.651Z"
   },
   {
    "duration": 10,
    "start_time": "2021-09-02T22:59:34.289Z"
   },
   {
    "duration": 8,
    "start_time": "2021-09-02T22:59:47.493Z"
   },
   {
    "duration": 10,
    "start_time": "2021-09-02T23:00:38.898Z"
   },
   {
    "duration": 276,
    "start_time": "2021-09-02T23:01:30.905Z"
   },
   {
    "duration": 9,
    "start_time": "2021-09-02T23:02:05.642Z"
   },
   {
    "duration": 9,
    "start_time": "2021-09-02T23:02:13.461Z"
   },
   {
    "duration": 187,
    "start_time": "2021-09-02T23:02:27.655Z"
   },
   {
    "duration": 824,
    "start_time": "2021-09-02T23:03:11.253Z"
   },
   {
    "duration": 842,
    "start_time": "2021-09-02T23:03:44.431Z"
   },
   {
    "duration": 879,
    "start_time": "2021-09-02T23:03:52.200Z"
   },
   {
    "duration": 926,
    "start_time": "2021-09-02T23:05:53.828Z"
   },
   {
    "duration": 6,
    "start_time": "2021-09-02T23:20:27.853Z"
   },
   {
    "duration": 7,
    "start_time": "2021-09-02T23:20:29.204Z"
   },
   {
    "duration": 13,
    "start_time": "2021-09-02T23:20:43.876Z"
   },
   {
    "duration": 87,
    "start_time": "2021-09-02T23:21:01.089Z"
   },
   {
    "duration": 12,
    "start_time": "2021-09-02T23:21:15.572Z"
   },
   {
    "duration": 4,
    "start_time": "2021-09-02T23:21:25.427Z"
   },
   {
    "duration": 1446,
    "start_time": "2021-09-02T23:21:29.183Z"
   },
   {
    "duration": 285,
    "start_time": "2021-09-02T23:24:39.848Z"
   },
   {
    "duration": 285,
    "start_time": "2021-09-02T23:24:49.066Z"
   },
   {
    "duration": 187,
    "start_time": "2021-09-02T23:24:58.038Z"
   },
   {
    "duration": 6,
    "start_time": "2021-09-02T23:25:17.750Z"
   },
   {
    "duration": 265,
    "start_time": "2021-09-02T23:27:07.857Z"
   },
   {
    "duration": 10,
    "start_time": "2021-09-02T23:27:30.223Z"
   },
   {
    "duration": 7,
    "start_time": "2021-09-02T23:28:30.829Z"
   },
   {
    "duration": 14,
    "start_time": "2021-09-02T23:28:36.657Z"
   },
   {
    "duration": 297,
    "start_time": "2021-09-02T23:29:18.260Z"
   },
   {
    "duration": 13,
    "start_time": "2021-09-02T23:29:29.812Z"
   },
   {
    "duration": 8,
    "start_time": "2021-09-02T23:29:37.916Z"
   },
   {
    "duration": 9,
    "start_time": "2021-09-02T23:32:51.424Z"
   },
   {
    "duration": 149,
    "start_time": "2021-09-02T23:33:03.173Z"
   },
   {
    "duration": 4,
    "start_time": "2021-09-02T23:33:44.170Z"
   },
   {
    "duration": 1151,
    "start_time": "2021-09-02T23:33:50.543Z"
   },
   {
    "duration": 5,
    "start_time": "2021-09-02T23:34:11.847Z"
   },
   {
    "duration": 1104,
    "start_time": "2021-09-02T23:34:12.758Z"
   },
   {
    "duration": 98,
    "start_time": "2021-09-02T23:41:31.268Z"
   },
   {
    "duration": 146,
    "start_time": "2021-09-02T23:41:35.804Z"
   },
   {
    "duration": 435,
    "start_time": "2021-09-02T23:42:01.487Z"
   },
   {
    "duration": 429,
    "start_time": "2021-09-02T23:42:20.953Z"
   },
   {
    "duration": 147,
    "start_time": "2021-09-02T23:50:01.681Z"
   },
   {
    "duration": 153,
    "start_time": "2021-09-02T23:52:15.838Z"
   },
   {
    "duration": 147,
    "start_time": "2021-09-02T23:52:24.343Z"
   },
   {
    "duration": 148,
    "start_time": "2021-09-02T23:52:34.475Z"
   },
   {
    "duration": 135,
    "start_time": "2021-09-02T23:53:17.280Z"
   },
   {
    "duration": 1554,
    "start_time": "2021-09-02T23:53:32.624Z"
   },
   {
    "duration": 1550,
    "start_time": "2021-09-02T23:53:53.509Z"
   },
   {
    "duration": 4,
    "start_time": "2021-09-02T23:54:43.696Z"
   },
   {
    "duration": 550,
    "start_time": "2021-09-02T23:54:46.639Z"
   },
   {
    "duration": 5,
    "start_time": "2021-09-02T23:55:00.120Z"
   },
   {
    "duration": 3389,
    "start_time": "2021-09-02T23:55:01.195Z"
   },
   {
    "duration": 5,
    "start_time": "2021-09-02T23:55:33.648Z"
   },
   {
    "duration": 1127,
    "start_time": "2021-09-02T23:55:35.578Z"
   },
   {
    "duration": 1947,
    "start_time": "2021-09-02T23:57:19.139Z"
   },
   {
    "duration": 1475,
    "start_time": "2021-09-02T23:57:45.104Z"
   },
   {
    "duration": 1713,
    "start_time": "2021-09-03T00:05:22.951Z"
   },
   {
    "duration": 11,
    "start_time": "2021-09-03T00:05:37.725Z"
   },
   {
    "duration": 13,
    "start_time": "2021-09-03T00:05:54.552Z"
   },
   {
    "duration": 349,
    "start_time": "2021-09-03T00:06:11.374Z"
   },
   {
    "duration": 343,
    "start_time": "2021-09-03T00:06:22.227Z"
   },
   {
    "duration": 10,
    "start_time": "2021-09-03T00:06:53.619Z"
   },
   {
    "duration": 10,
    "start_time": "2021-09-03T00:06:56.518Z"
   },
   {
    "duration": 353,
    "start_time": "2021-09-03T00:07:04.592Z"
   },
   {
    "duration": 338,
    "start_time": "2021-09-03T00:07:16.985Z"
   },
   {
    "duration": 380,
    "start_time": "2021-09-03T00:07:26.919Z"
   },
   {
    "duration": 9,
    "start_time": "2021-09-03T00:07:36.112Z"
   },
   {
    "duration": 10,
    "start_time": "2021-09-03T00:07:37.420Z"
   },
   {
    "duration": 361,
    "start_time": "2021-09-03T00:07:56.329Z"
   },
   {
    "duration": 368,
    "start_time": "2021-09-03T00:07:59.833Z"
   },
   {
    "duration": 6,
    "start_time": "2021-09-03T00:08:03.190Z"
   },
   {
    "duration": 6,
    "start_time": "2021-09-03T00:08:05.011Z"
   },
   {
    "duration": 180,
    "start_time": "2021-09-03T00:09:31.443Z"
   },
   {
    "duration": 10,
    "start_time": "2021-09-03T00:09:45.687Z"
   },
   {
    "duration": 2095,
    "start_time": "2021-09-03T00:13:06.010Z"
   },
   {
    "duration": 2028,
    "start_time": "2021-09-03T00:13:25.569Z"
   },
   {
    "duration": 2064,
    "start_time": "2021-09-03T00:15:17.425Z"
   },
   {
    "duration": 1525,
    "start_time": "2021-09-03T00:15:28.504Z"
   },
   {
    "duration": 1513,
    "start_time": "2021-09-03T00:16:27.483Z"
   },
   {
    "duration": 1593,
    "start_time": "2021-09-03T00:16:43.168Z"
   },
   {
    "duration": 10,
    "start_time": "2021-09-03T00:20:33.656Z"
   },
   {
    "duration": 429,
    "start_time": "2021-09-03T00:20:34.549Z"
   },
   {
    "duration": 10,
    "start_time": "2021-09-03T00:20:39.796Z"
   },
   {
    "duration": 427,
    "start_time": "2021-09-03T00:20:42.483Z"
   },
   {
    "duration": 331,
    "start_time": "2021-09-03T00:20:52.538Z"
   },
   {
    "duration": 8,
    "start_time": "2021-09-03T00:21:58.077Z"
   },
   {
    "duration": 4,
    "start_time": "2021-09-03T00:23:56.492Z"
   },
   {
    "duration": 38,
    "start_time": "2021-09-03T00:23:56.498Z"
   },
   {
    "duration": 22,
    "start_time": "2021-09-03T00:23:56.538Z"
   },
   {
    "duration": 3,
    "start_time": "2021-09-03T00:23:56.561Z"
   },
   {
    "duration": 11,
    "start_time": "2021-09-03T00:23:56.566Z"
   },
   {
    "duration": 8,
    "start_time": "2021-09-03T00:23:56.579Z"
   },
   {
    "duration": 7,
    "start_time": "2021-09-03T00:23:56.589Z"
   },
   {
    "duration": 44,
    "start_time": "2021-09-03T00:23:56.597Z"
   },
   {
    "duration": 9,
    "start_time": "2021-09-03T00:23:56.643Z"
   },
   {
    "duration": 8,
    "start_time": "2021-09-03T00:23:56.654Z"
   },
   {
    "duration": 5,
    "start_time": "2021-09-03T00:23:56.664Z"
   },
   {
    "duration": 7,
    "start_time": "2021-09-03T00:23:56.671Z"
   },
   {
    "duration": 3,
    "start_time": "2021-09-03T00:23:56.680Z"
   },
   {
    "duration": 6,
    "start_time": "2021-09-03T00:23:56.686Z"
   },
   {
    "duration": 7,
    "start_time": "2021-09-03T00:23:56.694Z"
   },
   {
    "duration": 65,
    "start_time": "2021-09-03T00:23:56.703Z"
   },
   {
    "duration": 5,
    "start_time": "2021-09-03T00:23:56.770Z"
   },
   {
    "duration": 5,
    "start_time": "2021-09-03T00:23:56.776Z"
   },
   {
    "duration": 6,
    "start_time": "2021-09-03T00:23:56.783Z"
   },
   {
    "duration": 13,
    "start_time": "2021-09-03T00:23:56.791Z"
   },
   {
    "duration": 5,
    "start_time": "2021-09-03T00:23:56.805Z"
   },
   {
    "duration": 5,
    "start_time": "2021-09-03T00:23:56.841Z"
   },
   {
    "duration": 17,
    "start_time": "2021-09-03T00:23:56.847Z"
   },
   {
    "duration": 295,
    "start_time": "2021-09-03T00:23:56.865Z"
   },
   {
    "duration": 15,
    "start_time": "2021-09-03T00:23:57.162Z"
   },
   {
    "duration": 956,
    "start_time": "2021-09-03T00:23:57.179Z"
   },
   {
    "duration": 220,
    "start_time": "2021-09-03T00:23:58.140Z"
   },
   {
    "duration": 6,
    "start_time": "2021-09-03T00:23:58.362Z"
   },
   {
    "duration": 18,
    "start_time": "2021-09-03T00:23:58.369Z"
   },
   {
    "duration": 22,
    "start_time": "2021-09-03T00:23:58.389Z"
   },
   {
    "duration": 9,
    "start_time": "2021-09-03T00:23:58.413Z"
   },
   {
    "duration": 1173,
    "start_time": "2021-09-03T00:23:58.423Z"
   },
   {
    "duration": 1757,
    "start_time": "2021-09-03T00:23:59.598Z"
   },
   {
    "duration": 11,
    "start_time": "2021-09-03T00:24:01.357Z"
   },
   {
    "duration": 26,
    "start_time": "2021-09-03T00:24:01.370Z"
   },
   {
    "duration": 428,
    "start_time": "2021-09-03T00:24:01.398Z"
   },
   {
    "duration": 389,
    "start_time": "2021-09-03T00:24:01.828Z"
   },
   {
    "duration": 10,
    "start_time": "2021-09-03T00:24:02.219Z"
   },
   {
    "duration": 30,
    "start_time": "2021-09-03T00:24:02.232Z"
   },
   {
    "duration": 373,
    "start_time": "2021-09-03T00:24:02.264Z"
   },
   {
    "duration": 376,
    "start_time": "2021-09-03T00:24:02.638Z"
   },
   {
    "duration": 5,
    "start_time": "2021-09-03T00:24:03.016Z"
   },
   {
    "duration": 20,
    "start_time": "2021-09-03T00:24:03.023Z"
   },
   {
    "duration": 192,
    "start_time": "2021-09-03T00:24:03.045Z"
   },
   {
    "duration": 16,
    "start_time": "2021-09-03T00:24:03.240Z"
   },
   {
    "duration": 1613,
    "start_time": "2021-09-03T00:24:03.258Z"
   },
   {
    "duration": 11,
    "start_time": "2021-09-03T00:24:04.873Z"
   },
   {
    "duration": 454,
    "start_time": "2021-09-03T00:24:04.886Z"
   },
   {
    "duration": 11,
    "start_time": "2021-09-03T00:24:05.342Z"
   },
   {
    "duration": 432,
    "start_time": "2021-09-03T00:24:05.355Z"
   },
   {
    "duration": 336,
    "start_time": "2021-09-03T00:24:05.789Z"
   },
   {
    "duration": 16,
    "start_time": "2021-09-03T00:24:06.127Z"
   },
   {
    "duration": 11,
    "start_time": "2021-09-03T00:24:06.145Z"
   },
   {
    "duration": 8,
    "start_time": "2021-09-03T00:24:06.158Z"
   },
   {
    "duration": 10,
    "start_time": "2021-09-03T00:24:06.167Z"
   },
   {
    "duration": 8,
    "start_time": "2021-09-03T00:24:06.179Z"
   },
   {
    "duration": 8,
    "start_time": "2021-09-03T00:24:06.189Z"
   },
   {
    "duration": 46,
    "start_time": "2021-09-03T00:24:06.199Z"
   },
   {
    "duration": 330,
    "start_time": "2021-09-03T00:25:14.184Z"
   },
   {
    "duration": 8,
    "start_time": "2021-09-03T00:25:20.394Z"
   },
   {
    "duration": 3,
    "start_time": "2021-09-03T00:27:21.999Z"
   },
   {
    "duration": 45,
    "start_time": "2021-09-03T00:27:22.005Z"
   },
   {
    "duration": 21,
    "start_time": "2021-09-03T00:27:22.053Z"
   },
   {
    "duration": 3,
    "start_time": "2021-09-03T00:27:22.076Z"
   },
   {
    "duration": 15,
    "start_time": "2021-09-03T00:27:22.081Z"
   },
   {
    "duration": 7,
    "start_time": "2021-09-03T00:27:22.098Z"
   },
   {
    "duration": 34,
    "start_time": "2021-09-03T00:27:22.107Z"
   },
   {
    "duration": 10,
    "start_time": "2021-09-03T00:27:22.143Z"
   },
   {
    "duration": 7,
    "start_time": "2021-09-03T00:27:22.155Z"
   },
   {
    "duration": 8,
    "start_time": "2021-09-03T00:27:22.164Z"
   },
   {
    "duration": 6,
    "start_time": "2021-09-03T00:27:22.174Z"
   },
   {
    "duration": 10,
    "start_time": "2021-09-03T00:27:22.182Z"
   },
   {
    "duration": 3,
    "start_time": "2021-09-03T00:27:22.194Z"
   },
   {
    "duration": 5,
    "start_time": "2021-09-03T00:27:22.199Z"
   },
   {
    "duration": 38,
    "start_time": "2021-09-03T00:27:22.206Z"
   },
   {
    "duration": 34,
    "start_time": "2021-09-03T00:27:22.245Z"
   },
   {
    "duration": 4,
    "start_time": "2021-09-03T00:27:22.281Z"
   },
   {
    "duration": 8,
    "start_time": "2021-09-03T00:27:22.287Z"
   },
   {
    "duration": 58334,
    "start_time": "2021-09-03T00:27:22.299Z"
   },
   {
    "duration": 12,
    "start_time": "2021-09-03T00:28:20.640Z"
   },
   {
    "duration": 6,
    "start_time": "2021-09-03T00:28:20.655Z"
   },
   {
    "duration": 6,
    "start_time": "2021-09-03T00:28:20.664Z"
   },
   {
    "duration": 18,
    "start_time": "2021-09-03T00:28:20.672Z"
   },
   {
    "duration": 314,
    "start_time": "2021-09-03T00:28:20.692Z"
   },
   {
    "duration": 16,
    "start_time": "2021-09-03T00:28:21.008Z"
   },
   {
    "duration": 1045,
    "start_time": "2021-09-03T00:28:21.025Z"
   },
   {
    "duration": 229,
    "start_time": "2021-09-03T00:28:22.072Z"
   },
   {
    "duration": 7,
    "start_time": "2021-09-03T00:28:22.303Z"
   },
   {
    "duration": 8,
    "start_time": "2021-09-03T00:28:22.312Z"
   },
   {
    "duration": 30,
    "start_time": "2021-09-03T00:28:22.322Z"
   },
   {
    "duration": 11,
    "start_time": "2021-09-03T00:28:22.354Z"
   },
   {
    "duration": 1131,
    "start_time": "2021-09-03T00:28:22.367Z"
   },
   {
    "duration": 1755,
    "start_time": "2021-09-03T00:28:23.500Z"
   },
   {
    "duration": 12,
    "start_time": "2021-09-03T00:28:25.257Z"
   },
   {
    "duration": 26,
    "start_time": "2021-09-03T00:28:25.271Z"
   },
   {
    "duration": 370,
    "start_time": "2021-09-03T00:28:25.299Z"
   },
   {
    "duration": 347,
    "start_time": "2021-09-03T00:28:25.672Z"
   },
   {
    "duration": 19,
    "start_time": "2021-09-03T00:28:26.022Z"
   },
   {
    "duration": 14,
    "start_time": "2021-09-03T00:28:26.043Z"
   },
   {
    "duration": 346,
    "start_time": "2021-09-03T00:28:26.060Z"
   },
   {
    "duration": 373,
    "start_time": "2021-09-03T00:28:26.409Z"
   },
   {
    "duration": 7,
    "start_time": "2021-09-03T00:28:26.784Z"
   },
   {
    "duration": 17,
    "start_time": "2021-09-03T00:28:26.793Z"
   },
   {
    "duration": 202,
    "start_time": "2021-09-03T00:28:26.812Z"
   },
   {
    "duration": 27,
    "start_time": "2021-09-03T00:28:27.016Z"
   },
   {
    "duration": 1576,
    "start_time": "2021-09-03T00:28:27.045Z"
   },
   {
    "duration": 26,
    "start_time": "2021-09-03T00:28:28.623Z"
   },
   {
    "duration": 444,
    "start_time": "2021-09-03T00:28:28.651Z"
   },
   {
    "duration": 11,
    "start_time": "2021-09-03T00:28:29.100Z"
   },
   {
    "duration": 442,
    "start_time": "2021-09-03T00:28:29.113Z"
   },
   {
    "duration": 336,
    "start_time": "2021-09-03T00:28:43.540Z"
   },
   {
    "duration": 7,
    "start_time": "2021-09-03T00:28:55.143Z"
   },
   {
    "duration": 7,
    "start_time": "2021-09-03T00:31:34.393Z"
   },
   {
    "duration": 7,
    "start_time": "2021-09-03T00:31:39.007Z"
   },
   {
    "duration": 11,
    "start_time": "2021-09-03T00:32:45.176Z"
   },
   {
    "duration": 12,
    "start_time": "2021-09-03T00:35:25.479Z"
   },
   {
    "duration": 13,
    "start_time": "2021-09-03T00:35:37.119Z"
   },
   {
    "duration": 11,
    "start_time": "2021-09-03T00:36:18.041Z"
   },
   {
    "duration": 8,
    "start_time": "2021-09-03T00:36:33.161Z"
   },
   {
    "duration": 8,
    "start_time": "2021-09-03T00:36:35.055Z"
   },
   {
    "duration": 7,
    "start_time": "2021-09-03T00:36:36.579Z"
   },
   {
    "duration": 7,
    "start_time": "2021-09-03T00:36:37.897Z"
   },
   {
    "duration": 11,
    "start_time": "2021-09-03T00:39:01.491Z"
   },
   {
    "duration": 12,
    "start_time": "2021-09-03T00:39:20.961Z"
   },
   {
    "duration": 12,
    "start_time": "2021-09-03T00:40:20.094Z"
   },
   {
    "duration": 648,
    "start_time": "2021-09-03T00:50:20.237Z"
   },
   {
    "duration": 564,
    "start_time": "2021-09-03T00:50:39.025Z"
   },
   {
    "duration": 583,
    "start_time": "2021-09-03T00:50:44.850Z"
   },
   {
    "duration": 2608,
    "start_time": "2021-09-03T00:50:51.254Z"
   },
   {
    "duration": 173,
    "start_time": "2021-09-03T00:51:45.584Z"
   },
   {
    "duration": 203,
    "start_time": "2021-09-03T00:51:57.523Z"
   },
   {
    "duration": 438,
    "start_time": "2021-09-03T00:52:17.597Z"
   },
   {
    "duration": 422,
    "start_time": "2021-09-03T00:53:10.895Z"
   },
   {
    "duration": 209,
    "start_time": "2021-09-03T00:53:34.862Z"
   },
   {
    "duration": 486,
    "start_time": "2021-09-03T00:53:42.736Z"
   },
   {
    "duration": 220,
    "start_time": "2021-09-03T00:54:08.283Z"
   },
   {
    "duration": 216,
    "start_time": "2021-09-03T00:54:20.757Z"
   },
   {
    "duration": 492,
    "start_time": "2021-09-03T00:55:37.920Z"
   },
   {
    "duration": 214,
    "start_time": "2021-09-03T00:55:56.570Z"
   },
   {
    "duration": 955,
    "start_time": "2021-09-03T00:56:27.541Z"
   },
   {
    "duration": 934,
    "start_time": "2021-09-03T00:56:43.736Z"
   },
   {
    "duration": 954,
    "start_time": "2021-09-03T00:56:55.216Z"
   },
   {
    "duration": 965,
    "start_time": "2021-09-03T00:57:13.583Z"
   },
   {
    "duration": 951,
    "start_time": "2021-09-03T00:57:46.184Z"
   },
   {
    "duration": 1849,
    "start_time": "2021-09-03T01:02:30.349Z"
   },
   {
    "duration": 1753,
    "start_time": "2021-09-03T01:04:11.112Z"
   },
   {
    "duration": 1406,
    "start_time": "2021-09-03T01:04:29.544Z"
   },
   {
    "duration": 1395,
    "start_time": "2021-09-03T01:05:00.404Z"
   },
   {
    "duration": 1730,
    "start_time": "2021-09-03T01:05:15.050Z"
   },
   {
    "duration": 5,
    "start_time": "2021-09-03T01:06:33.052Z"
   },
   {
    "duration": 1140,
    "start_time": "2021-09-03T01:06:34.302Z"
   },
   {
    "duration": 4,
    "start_time": "2021-09-03T01:06:51.340Z"
   },
   {
    "duration": 1335,
    "start_time": "2021-09-03T01:06:55.156Z"
   },
   {
    "duration": 5,
    "start_time": "2021-09-03T01:07:15.765Z"
   },
   {
    "duration": 1144,
    "start_time": "2021-09-03T01:07:18.830Z"
   },
   {
    "duration": 5,
    "start_time": "2021-09-03T01:08:43.116Z"
   },
   {
    "duration": 860,
    "start_time": "2021-09-03T01:08:44.233Z"
   },
   {
    "duration": 5,
    "start_time": "2021-09-03T01:09:00.924Z"
   },
   {
    "duration": 1093,
    "start_time": "2021-09-03T01:09:01.885Z"
   },
   {
    "duration": 1096,
    "start_time": "2021-09-03T01:09:11.538Z"
   },
   {
    "duration": 4,
    "start_time": "2021-09-03T01:09:19.586Z"
   },
   {
    "duration": 853,
    "start_time": "2021-09-03T01:09:20.666Z"
   },
   {
    "duration": 4,
    "start_time": "2021-09-03T01:09:29.577Z"
   },
   {
    "duration": 1129,
    "start_time": "2021-09-03T01:09:30.767Z"
   },
   {
    "duration": 4,
    "start_time": "2021-09-03T01:09:39.110Z"
   },
   {
    "duration": 1145,
    "start_time": "2021-09-03T01:09:40.403Z"
   },
   {
    "duration": 6,
    "start_time": "2021-09-03T01:09:49.261Z"
   },
   {
    "duration": 1193,
    "start_time": "2021-09-03T01:09:50.797Z"
   },
   {
    "duration": 5,
    "start_time": "2021-09-03T01:10:04.202Z"
   },
   {
    "duration": 1217,
    "start_time": "2021-09-03T01:10:05.173Z"
   },
   {
    "duration": 4,
    "start_time": "2021-09-03T01:10:13.582Z"
   },
   {
    "duration": 5,
    "start_time": "2021-09-03T01:10:15.538Z"
   },
   {
    "duration": 1416,
    "start_time": "2021-09-03T01:10:16.487Z"
   },
   {
    "duration": 5,
    "start_time": "2021-09-03T01:10:30.913Z"
   },
   {
    "duration": 1211,
    "start_time": "2021-09-03T01:10:32.083Z"
   },
   {
    "duration": 2097,
    "start_time": "2021-09-03T01:11:37.024Z"
   },
   {
    "duration": 1649,
    "start_time": "2021-09-03T01:11:48.287Z"
   },
   {
    "duration": 1712,
    "start_time": "2021-09-03T01:11:56.435Z"
   },
   {
    "duration": 1739,
    "start_time": "2021-09-03T01:12:06.181Z"
   },
   {
    "duration": 5,
    "start_time": "2021-09-03T01:13:16.257Z"
   },
   {
    "duration": 1113,
    "start_time": "2021-09-03T01:13:17.450Z"
   },
   {
    "duration": 5,
    "start_time": "2021-09-03T01:13:26.320Z"
   },
   {
    "duration": 3048,
    "start_time": "2021-09-03T01:13:27.900Z"
   },
   {
    "duration": 5,
    "start_time": "2021-09-03T01:13:58.574Z"
   },
   {
    "duration": 1288,
    "start_time": "2021-09-03T01:13:59.488Z"
   },
   {
    "duration": 5,
    "start_time": "2021-09-03T01:14:12.726Z"
   },
   {
    "duration": 1266,
    "start_time": "2021-09-03T01:14:14.661Z"
   },
   {
    "duration": 5,
    "start_time": "2021-09-03T01:14:24.688Z"
   },
   {
    "duration": 1227,
    "start_time": "2021-09-03T01:14:25.913Z"
   },
   {
    "duration": 5,
    "start_time": "2021-09-03T01:14:49.293Z"
   },
   {
    "duration": 829,
    "start_time": "2021-09-03T01:14:50.315Z"
   },
   {
    "duration": 4,
    "start_time": "2021-09-03T01:15:05.476Z"
   },
   {
    "duration": 677,
    "start_time": "2021-09-03T01:15:06.794Z"
   },
   {
    "duration": 5,
    "start_time": "2021-09-03T01:15:15.619Z"
   },
   {
    "duration": 1157,
    "start_time": "2021-09-03T01:15:18.415Z"
   },
   {
    "duration": 5,
    "start_time": "2021-09-03T01:15:26.819Z"
   },
   {
    "duration": 1207,
    "start_time": "2021-09-03T01:15:28.391Z"
   },
   {
    "duration": 5,
    "start_time": "2021-09-03T01:15:40.753Z"
   },
   {
    "duration": 1143,
    "start_time": "2021-09-03T01:15:41.866Z"
   },
   {
    "duration": 1400,
    "start_time": "2021-09-03T01:15:57.941Z"
   },
   {
    "duration": 1468,
    "start_time": "2021-09-03T01:16:08.611Z"
   },
   {
    "duration": 1417,
    "start_time": "2021-09-03T01:16:15.105Z"
   },
   {
    "duration": 10,
    "start_time": "2021-09-03T01:16:55.367Z"
   },
   {
    "duration": 387,
    "start_time": "2021-09-03T01:18:55.218Z"
   },
   {
    "duration": 333,
    "start_time": "2021-09-03T01:19:43.980Z"
   },
   {
    "duration": 375,
    "start_time": "2021-09-03T01:20:09.522Z"
   },
   {
    "duration": 326,
    "start_time": "2021-09-03T01:20:14.075Z"
   },
   {
    "duration": 379,
    "start_time": "2021-09-03T01:20:28.623Z"
   },
   {
    "duration": 329,
    "start_time": "2021-09-03T01:20:30.785Z"
   },
   {
    "duration": 103,
    "start_time": "2021-09-03T01:21:02.469Z"
   },
   {
    "duration": 97,
    "start_time": "2021-09-03T01:21:09.138Z"
   },
   {
    "duration": 357,
    "start_time": "2021-09-03T01:21:19.746Z"
   },
   {
    "duration": 344,
    "start_time": "2021-09-03T01:21:28.770Z"
   },
   {
    "duration": 1563,
    "start_time": "2021-09-03T01:23:51.270Z"
   },
   {
    "duration": 1697,
    "start_time": "2021-09-03T01:24:38.961Z"
   },
   {
    "duration": 428,
    "start_time": "2021-09-03T01:25:42.097Z"
   },
   {
    "duration": 427,
    "start_time": "2021-09-03T01:25:52.269Z"
   },
   {
    "duration": 433,
    "start_time": "2021-09-03T01:28:15.926Z"
   },
   {
    "duration": 327,
    "start_time": "2021-09-03T01:29:24.654Z"
   },
   {
    "duration": 3,
    "start_time": "2021-09-03T01:33:34.873Z"
   },
   {
    "duration": 48,
    "start_time": "2021-09-03T01:33:34.881Z"
   },
   {
    "duration": 21,
    "start_time": "2021-09-03T01:33:34.931Z"
   },
   {
    "duration": 2,
    "start_time": "2021-09-03T01:33:34.955Z"
   },
   {
    "duration": 20,
    "start_time": "2021-09-03T01:33:34.959Z"
   },
   {
    "duration": 7,
    "start_time": "2021-09-03T01:33:34.981Z"
   },
   {
    "duration": 12,
    "start_time": "2021-09-03T01:33:34.989Z"
   },
   {
    "duration": 39,
    "start_time": "2021-09-03T01:33:35.002Z"
   },
   {
    "duration": 8,
    "start_time": "2021-09-03T01:33:35.044Z"
   },
   {
    "duration": 8,
    "start_time": "2021-09-03T01:33:35.054Z"
   },
   {
    "duration": 6,
    "start_time": "2021-09-03T01:33:35.064Z"
   },
   {
    "duration": 10,
    "start_time": "2021-09-03T01:33:35.072Z"
   },
   {
    "duration": 5,
    "start_time": "2021-09-03T01:33:35.083Z"
   },
   {
    "duration": 8,
    "start_time": "2021-09-03T01:33:35.089Z"
   },
   {
    "duration": 5,
    "start_time": "2021-09-03T01:33:35.099Z"
   },
   {
    "duration": 29,
    "start_time": "2021-09-03T01:33:35.142Z"
   },
   {
    "duration": 3,
    "start_time": "2021-09-03T01:33:35.173Z"
   },
   {
    "duration": 9,
    "start_time": "2021-09-03T01:33:35.178Z"
   },
   {
    "duration": 14008,
    "start_time": "2021-09-03T01:33:35.190Z"
   },
   {
    "duration": -1580,
    "start_time": "2021-09-03T01:33:50.781Z"
   },
   {
    "duration": -1592,
    "start_time": "2021-09-03T01:33:50.794Z"
   },
   {
    "duration": -1599,
    "start_time": "2021-09-03T01:33:50.802Z"
   },
   {
    "duration": -1606,
    "start_time": "2021-09-03T01:33:50.810Z"
   },
   {
    "duration": -1612,
    "start_time": "2021-09-03T01:33:50.817Z"
   },
   {
    "duration": -1619,
    "start_time": "2021-09-03T01:33:50.826Z"
   },
   {
    "duration": -1629,
    "start_time": "2021-09-03T01:33:50.837Z"
   },
   {
    "duration": -1637,
    "start_time": "2021-09-03T01:33:50.846Z"
   },
   {
    "duration": -1655,
    "start_time": "2021-09-03T01:33:50.865Z"
   },
   {
    "duration": -1668,
    "start_time": "2021-09-03T01:33:50.879Z"
   },
   {
    "duration": -1675,
    "start_time": "2021-09-03T01:33:50.887Z"
   },
   {
    "duration": -1683,
    "start_time": "2021-09-03T01:33:50.896Z"
   },
   {
    "duration": -1690,
    "start_time": "2021-09-03T01:33:50.904Z"
   },
   {
    "duration": -1700,
    "start_time": "2021-09-03T01:33:50.915Z"
   },
   {
    "duration": -1710,
    "start_time": "2021-09-03T01:33:50.926Z"
   },
   {
    "duration": -1717,
    "start_time": "2021-09-03T01:33:50.934Z"
   },
   {
    "duration": -1728,
    "start_time": "2021-09-03T01:33:50.946Z"
   },
   {
    "duration": -1740,
    "start_time": "2021-09-03T01:33:50.959Z"
   },
   {
    "duration": -1769,
    "start_time": "2021-09-03T01:33:50.988Z"
   },
   {
    "duration": -1781,
    "start_time": "2021-09-03T01:33:51.001Z"
   },
   {
    "duration": -1793,
    "start_time": "2021-09-03T01:33:51.014Z"
   },
   {
    "duration": -1806,
    "start_time": "2021-09-03T01:33:51.028Z"
   },
   {
    "duration": -1816,
    "start_time": "2021-09-03T01:33:51.038Z"
   },
   {
    "duration": -1834,
    "start_time": "2021-09-03T01:33:51.057Z"
   },
   {
    "duration": -1846,
    "start_time": "2021-09-03T01:33:51.070Z"
   },
   {
    "duration": -1859,
    "start_time": "2021-09-03T01:33:51.084Z"
   },
   {
    "duration": -1892,
    "start_time": "2021-09-03T01:33:51.118Z"
   },
   {
    "duration": -1991,
    "start_time": "2021-09-03T01:33:51.217Z"
   },
   {
    "duration": -2020,
    "start_time": "2021-09-03T01:33:51.247Z"
   },
   {
    "duration": -2038,
    "start_time": "2021-09-03T01:33:51.266Z"
   },
   {
    "duration": -2060,
    "start_time": "2021-09-03T01:33:51.289Z"
   },
   {
    "duration": -2098,
    "start_time": "2021-09-03T01:33:51.328Z"
   },
   {
    "duration": -2110,
    "start_time": "2021-09-03T01:33:51.340Z"
   },
   {
    "duration": -2126,
    "start_time": "2021-09-03T01:33:51.357Z"
   },
   {
    "duration": -2135,
    "start_time": "2021-09-03T01:33:51.367Z"
   },
   {
    "duration": -2146,
    "start_time": "2021-09-03T01:33:51.379Z"
   },
   {
    "duration": -2169,
    "start_time": "2021-09-03T01:33:51.403Z"
   },
   {
    "duration": 3,
    "start_time": "2021-09-03T01:33:55.245Z"
   },
   {
    "duration": 1062,
    "start_time": "2021-09-03T01:34:48.361Z"
   },
   {
    "duration": 41,
    "start_time": "2021-09-03T01:34:49.425Z"
   },
   {
    "duration": 25,
    "start_time": "2021-09-03T01:34:49.468Z"
   },
   {
    "duration": 2,
    "start_time": "2021-09-03T01:34:49.496Z"
   },
   {
    "duration": 22,
    "start_time": "2021-09-03T01:34:49.500Z"
   },
   {
    "duration": 23,
    "start_time": "2021-09-03T01:34:49.524Z"
   },
   {
    "duration": 15,
    "start_time": "2021-09-03T01:34:49.549Z"
   },
   {
    "duration": 30,
    "start_time": "2021-09-03T01:34:49.567Z"
   },
   {
    "duration": 8,
    "start_time": "2021-09-03T01:34:49.599Z"
   },
   {
    "duration": 7,
    "start_time": "2021-09-03T01:34:49.609Z"
   },
   {
    "duration": 24,
    "start_time": "2021-09-03T01:34:49.617Z"
   },
   {
    "duration": 9,
    "start_time": "2021-09-03T01:34:49.643Z"
   },
   {
    "duration": 10,
    "start_time": "2021-09-03T01:34:49.654Z"
   },
   {
    "duration": 18,
    "start_time": "2021-09-03T01:34:49.666Z"
   },
   {
    "duration": 15,
    "start_time": "2021-09-03T01:34:49.686Z"
   },
   {
    "duration": 46,
    "start_time": "2021-09-03T01:34:49.703Z"
   },
   {
    "duration": 4,
    "start_time": "2021-09-03T01:34:49.751Z"
   },
   {
    "duration": 13,
    "start_time": "2021-09-03T01:34:49.757Z"
   },
   {
    "duration": 1087,
    "start_time": "2021-09-03T15:44:11.408Z"
   },
   {
    "duration": 40,
    "start_time": "2021-09-03T15:44:12.497Z"
   },
   {
    "duration": 27,
    "start_time": "2021-09-03T15:44:12.539Z"
   },
   {
    "duration": 8,
    "start_time": "2021-09-03T15:44:12.568Z"
   },
   {
    "duration": 10,
    "start_time": "2021-09-03T15:44:12.579Z"
   },
   {
    "duration": 7,
    "start_time": "2021-09-03T15:44:12.591Z"
   },
   {
    "duration": 13,
    "start_time": "2021-09-03T15:44:12.600Z"
   },
   {
    "duration": 18,
    "start_time": "2021-09-03T15:44:12.616Z"
   },
   {
    "duration": 7,
    "start_time": "2021-09-03T15:44:12.636Z"
   },
   {
    "duration": 35,
    "start_time": "2021-09-03T15:44:12.645Z"
   },
   {
    "duration": 6,
    "start_time": "2021-09-03T15:44:12.682Z"
   },
   {
    "duration": 6,
    "start_time": "2021-09-03T15:44:12.690Z"
   },
   {
    "duration": 7,
    "start_time": "2021-09-03T15:44:12.698Z"
   },
   {
    "duration": 3,
    "start_time": "2021-09-03T15:44:12.707Z"
   },
   {
    "duration": 4,
    "start_time": "2021-09-03T15:44:12.712Z"
   },
   {
    "duration": 28,
    "start_time": "2021-09-03T15:44:12.718Z"
   },
   {
    "duration": 3,
    "start_time": "2021-09-03T15:44:12.748Z"
   },
   {
    "duration": 3,
    "start_time": "2021-09-03T15:44:12.777Z"
   },
   {
    "duration": 62100,
    "start_time": "2021-09-03T15:44:12.782Z"
   },
   {
    "duration": 9,
    "start_time": "2021-09-03T15:45:14.884Z"
   },
   {
    "duration": 20,
    "start_time": "2021-09-03T15:45:14.895Z"
   },
   {
    "duration": 21,
    "start_time": "2021-09-03T15:45:14.917Z"
   },
   {
    "duration": 20,
    "start_time": "2021-09-03T15:45:14.941Z"
   },
   {
    "duration": 274,
    "start_time": "2021-09-03T15:45:14.964Z"
   },
   {
    "duration": 15,
    "start_time": "2021-09-03T15:45:15.240Z"
   },
   {
    "duration": 931,
    "start_time": "2021-09-03T15:45:15.257Z"
   },
   {
    "duration": 228,
    "start_time": "2021-09-03T15:45:16.190Z"
   },
   {
    "duration": 6,
    "start_time": "2021-09-03T15:45:16.419Z"
   },
   {
    "duration": 10,
    "start_time": "2021-09-03T15:45:16.426Z"
   },
   {
    "duration": 19,
    "start_time": "2021-09-03T15:45:16.438Z"
   },
   {
    "duration": 19,
    "start_time": "2021-09-03T15:45:16.459Z"
   },
   {
    "duration": 1684,
    "start_time": "2021-09-03T15:45:16.480Z"
   },
   {
    "duration": 2223,
    "start_time": "2021-09-03T15:45:18.167Z"
   },
   {
    "duration": 15,
    "start_time": "2021-09-03T15:45:20.392Z"
   },
   {
    "duration": 350,
    "start_time": "2021-09-03T15:45:20.408Z"
   },
   {
    "duration": 368,
    "start_time": "2021-09-03T15:45:20.760Z"
   },
   {
    "duration": 9,
    "start_time": "2021-09-03T15:45:21.130Z"
   },
   {
    "duration": 32,
    "start_time": "2021-09-03T15:45:21.141Z"
   },
   {
    "duration": 462,
    "start_time": "2021-09-03T15:45:21.174Z"
   },
   {
    "duration": 481,
    "start_time": "2021-09-03T15:45:21.638Z"
   },
   {
    "duration": 6,
    "start_time": "2021-09-03T15:45:22.121Z"
   },
   {
    "duration": 7,
    "start_time": "2021-09-03T15:45:22.129Z"
   },
   {
    "duration": 281,
    "start_time": "2021-09-03T15:45:22.138Z"
   },
   {
    "duration": 22,
    "start_time": "2021-09-03T15:45:22.421Z"
   },
   {
    "duration": 2503,
    "start_time": "2021-09-03T15:45:22.445Z"
   },
   {
    "duration": 26,
    "start_time": "2021-09-03T15:45:24.950Z"
   },
   {
    "duration": 428,
    "start_time": "2021-09-03T15:45:24.978Z"
   },
   {
    "duration": 10,
    "start_time": "2021-09-03T15:45:25.413Z"
   },
   {
    "duration": 424,
    "start_time": "2021-09-03T15:45:25.425Z"
   },
   {
    "duration": 328,
    "start_time": "2021-09-03T15:45:25.851Z"
   },
   {
    "duration": 7,
    "start_time": "2021-09-03T15:45:26.181Z"
   },
   {
    "duration": 14,
    "start_time": "2021-09-03T15:45:26.189Z"
   },
   {
    "duration": 12,
    "start_time": "2021-09-03T15:45:26.205Z"
   },
   {
    "duration": 14,
    "start_time": "2021-09-03T15:45:26.219Z"
   },
   {
    "duration": 8,
    "start_time": "2021-09-03T15:45:26.235Z"
   },
   {
    "duration": 44,
    "start_time": "2021-09-03T15:45:26.244Z"
   },
   {
    "duration": 421,
    "start_time": "2021-09-03T16:26:34.285Z"
   },
   {
    "duration": 435,
    "start_time": "2021-09-03T16:26:46.572Z"
   },
   {
    "duration": 279,
    "start_time": "2021-09-03T16:27:06.234Z"
   },
   {
    "duration": 385,
    "start_time": "2021-09-03T16:27:24.633Z"
   },
   {
    "duration": 9,
    "start_time": "2021-09-03T16:32:40.863Z"
   },
   {
    "duration": 10,
    "start_time": "2021-09-03T16:32:59.962Z"
   },
   {
    "duration": 1411,
    "start_time": "2021-09-03T17:10:34.663Z"
   },
   {
    "duration": 50,
    "start_time": "2021-09-03T17:10:36.076Z"
   },
   {
    "duration": 37,
    "start_time": "2021-09-03T17:10:36.130Z"
   },
   {
    "duration": 4,
    "start_time": "2021-09-03T17:10:36.169Z"
   },
   {
    "duration": 40,
    "start_time": "2021-09-03T17:10:36.176Z"
   },
   {
    "duration": 11,
    "start_time": "2021-09-03T17:10:36.219Z"
   },
   {
    "duration": 10,
    "start_time": "2021-09-03T17:10:36.233Z"
   },
   {
    "duration": 15,
    "start_time": "2021-09-03T17:10:36.247Z"
   },
   {
    "duration": 11,
    "start_time": "2021-09-03T17:10:36.265Z"
   },
   {
    "duration": 10,
    "start_time": "2021-09-03T17:10:36.316Z"
   },
   {
    "duration": 6,
    "start_time": "2021-09-03T17:10:36.329Z"
   },
   {
    "duration": 11,
    "start_time": "2021-09-03T17:10:36.338Z"
   },
   {
    "duration": 8,
    "start_time": "2021-09-03T17:10:36.351Z"
   },
   {
    "duration": 15,
    "start_time": "2021-09-03T17:10:36.362Z"
   },
   {
    "duration": 5,
    "start_time": "2021-09-03T17:10:38.639Z"
   },
   {
    "duration": 512,
    "start_time": "2021-09-03T17:11:00.566Z"
   },
   {
    "duration": 132,
    "start_time": "2021-09-03T17:11:15.768Z"
   },
   {
    "duration": 16,
    "start_time": "2021-09-03T17:11:22.276Z"
   },
   {
    "duration": 14,
    "start_time": "2021-09-03T17:11:31.332Z"
   },
   {
    "duration": 15,
    "start_time": "2021-09-03T17:11:42.393Z"
   },
   {
    "duration": 14,
    "start_time": "2021-09-03T17:12:05.824Z"
   },
   {
    "duration": 19,
    "start_time": "2021-09-03T17:15:21.992Z"
   },
   {
    "duration": 67,
    "start_time": "2021-09-03T17:15:25.482Z"
   },
   {
    "duration": 7,
    "start_time": "2021-09-03T17:15:26.910Z"
   },
   {
    "duration": 5,
    "start_time": "2021-09-03T17:15:31.526Z"
   },
   {
    "duration": 4,
    "start_time": "2021-09-03T17:16:16.344Z"
   },
   {
    "duration": 87,
    "start_time": "2021-09-03T17:16:17.640Z"
   },
   {
    "duration": 4,
    "start_time": "2021-09-03T17:16:25.556Z"
   },
   {
    "duration": 51,
    "start_time": "2021-09-03T17:16:25.563Z"
   },
   {
    "duration": 32,
    "start_time": "2021-09-03T17:16:25.616Z"
   },
   {
    "duration": 4,
    "start_time": "2021-09-03T17:16:25.650Z"
   },
   {
    "duration": 17,
    "start_time": "2021-09-03T17:16:25.657Z"
   },
   {
    "duration": 45,
    "start_time": "2021-09-03T17:16:25.676Z"
   },
   {
    "duration": 12,
    "start_time": "2021-09-03T17:16:25.723Z"
   },
   {
    "duration": 17,
    "start_time": "2021-09-03T17:16:25.738Z"
   },
   {
    "duration": 14,
    "start_time": "2021-09-03T17:16:25.757Z"
   },
   {
    "duration": 9,
    "start_time": "2021-09-03T17:16:25.774Z"
   },
   {
    "duration": 6,
    "start_time": "2021-09-03T17:16:25.816Z"
   },
   {
    "duration": 19,
    "start_time": "2021-09-03T17:16:25.825Z"
   },
   {
    "duration": 8,
    "start_time": "2021-09-03T17:16:25.847Z"
   },
   {
    "duration": 22,
    "start_time": "2021-09-03T17:16:25.857Z"
   },
   {
    "duration": 18,
    "start_time": "2021-09-03T17:16:25.882Z"
   },
   {
    "duration": 30,
    "start_time": "2021-09-03T17:16:25.902Z"
   },
   {
    "duration": 45,
    "start_time": "2021-09-03T17:16:25.935Z"
   },
   {
    "duration": 6,
    "start_time": "2021-09-03T17:16:25.983Z"
   },
   {
    "duration": 5,
    "start_time": "2021-09-03T17:16:30.156Z"
   },
   {
    "duration": 89,
    "start_time": "2021-09-03T17:16:31.391Z"
   },
   {
    "duration": 4,
    "start_time": "2021-09-03T17:24:54.363Z"
   },
   {
    "duration": 52,
    "start_time": "2021-09-03T17:24:54.373Z"
   },
   {
    "duration": 41,
    "start_time": "2021-09-03T17:24:54.428Z"
   },
   {
    "duration": 4,
    "start_time": "2021-09-03T17:24:54.472Z"
   },
   {
    "duration": 48,
    "start_time": "2021-09-03T17:24:54.479Z"
   },
   {
    "duration": 17,
    "start_time": "2021-09-03T17:24:54.531Z"
   },
   {
    "duration": 11,
    "start_time": "2021-09-03T17:24:54.551Z"
   },
   {
    "duration": 62,
    "start_time": "2021-09-03T17:24:54.565Z"
   },
   {
    "duration": 14,
    "start_time": "2021-09-03T17:24:54.632Z"
   },
   {
    "duration": 10,
    "start_time": "2021-09-03T17:24:54.650Z"
   },
   {
    "duration": 11,
    "start_time": "2021-09-03T17:24:54.663Z"
   },
   {
    "duration": 9,
    "start_time": "2021-09-03T17:24:54.677Z"
   },
   {
    "duration": 3,
    "start_time": "2021-09-03T17:24:54.718Z"
   },
   {
    "duration": 5,
    "start_time": "2021-09-03T17:24:54.725Z"
   },
   {
    "duration": 9,
    "start_time": "2021-09-03T17:24:54.733Z"
   },
   {
    "duration": 24,
    "start_time": "2021-09-03T17:24:54.745Z"
   },
   {
    "duration": 81,
    "start_time": "2021-09-03T17:24:54.772Z"
   },
   {
    "duration": 8,
    "start_time": "2021-09-03T17:24:54.855Z"
   },
   {
    "duration": 5,
    "start_time": "2021-09-03T17:24:54.866Z"
   },
   {
    "duration": 4,
    "start_time": "2021-09-03T17:25:00.489Z"
   },
   {
    "duration": 8,
    "start_time": "2021-09-03T17:25:28.127Z"
   },
   {
    "duration": 21,
    "start_time": "2021-09-03T17:25:30.148Z"
   },
   {
    "duration": 10,
    "start_time": "2021-09-03T17:25:49.531Z"
   },
   {
    "duration": 4,
    "start_time": "2021-09-03T17:26:21.642Z"
   },
   {
    "duration": 51,
    "start_time": "2021-09-03T17:26:21.649Z"
   },
   {
    "duration": 31,
    "start_time": "2021-09-03T17:26:21.703Z"
   },
   {
    "duration": 4,
    "start_time": "2021-09-03T17:26:21.737Z"
   },
   {
    "duration": 15,
    "start_time": "2021-09-03T17:26:21.744Z"
   },
   {
    "duration": 10,
    "start_time": "2021-09-03T17:26:21.762Z"
   },
   {
    "duration": 8,
    "start_time": "2021-09-03T17:26:21.818Z"
   },
   {
    "duration": 18,
    "start_time": "2021-09-03T17:26:21.829Z"
   },
   {
    "duration": 11,
    "start_time": "2021-09-03T17:26:21.850Z"
   },
   {
    "duration": 10,
    "start_time": "2021-09-03T17:26:21.864Z"
   },
   {
    "duration": 42,
    "start_time": "2021-09-03T17:26:21.877Z"
   },
   {
    "duration": 6,
    "start_time": "2021-09-03T17:26:21.922Z"
   },
   {
    "duration": 6,
    "start_time": "2021-09-03T17:26:21.931Z"
   },
   {
    "duration": 6,
    "start_time": "2021-09-03T17:26:21.939Z"
   },
   {
    "duration": 11,
    "start_time": "2021-09-03T17:26:21.947Z"
   },
   {
    "duration": 20,
    "start_time": "2021-09-03T17:26:21.960Z"
   },
   {
    "duration": 40,
    "start_time": "2021-09-03T17:26:22.018Z"
   },
   {
    "duration": 6,
    "start_time": "2021-09-03T17:26:22.061Z"
   },
   {
    "duration": 6,
    "start_time": "2021-09-03T17:26:22.069Z"
   },
   {
    "duration": 3,
    "start_time": "2021-09-03T17:26:22.117Z"
   },
   {
    "duration": 11,
    "start_time": "2021-09-03T17:26:22.123Z"
   },
   {
    "duration": 8,
    "start_time": "2021-09-03T17:26:22.140Z"
   },
   {
    "duration": 14,
    "start_time": "2021-09-03T17:26:22.152Z"
   },
   {
    "duration": 56,
    "start_time": "2021-09-03T17:26:22.168Z"
   },
   {
    "duration": 577,
    "start_time": "2021-09-03T17:26:22.226Z"
   },
   {
    "duration": 29,
    "start_time": "2021-09-03T17:26:22.806Z"
   },
   {
    "duration": 1522,
    "start_time": "2021-09-03T17:26:22.838Z"
   },
   {
    "duration": 368,
    "start_time": "2021-09-03T17:26:24.363Z"
   },
   {
    "duration": 8,
    "start_time": "2021-09-03T17:26:24.734Z"
   },
   {
    "duration": 13,
    "start_time": "2021-09-03T17:26:24.746Z"
   },
   {
    "duration": 19,
    "start_time": "2021-09-03T17:26:24.762Z"
   },
   {
    "duration": 37,
    "start_time": "2021-09-03T17:26:24.783Z"
   },
   {
    "duration": 2012,
    "start_time": "2021-09-03T17:26:24.823Z"
   },
   {
    "duration": 2361,
    "start_time": "2021-09-03T17:26:26.838Z"
   },
   {
    "duration": 26,
    "start_time": "2021-09-03T17:26:29.201Z"
   },
   {
    "duration": 494,
    "start_time": "2021-09-03T17:26:29.229Z"
   },
   {
    "duration": 498,
    "start_time": "2021-09-03T17:26:29.725Z"
   },
   {
    "duration": 13,
    "start_time": "2021-09-03T17:26:30.225Z"
   },
   {
    "duration": 19,
    "start_time": "2021-09-03T17:26:30.241Z"
   },
   {
    "duration": 741,
    "start_time": "2021-09-03T17:26:30.264Z"
   },
   {
    "duration": 694,
    "start_time": "2021-09-03T17:26:31.008Z"
   },
   {
    "duration": 17,
    "start_time": "2021-09-03T17:26:31.705Z"
   },
   {
    "duration": 13,
    "start_time": "2021-09-03T17:26:31.729Z"
   },
   {
    "duration": 4,
    "start_time": "2021-09-03T17:35:56.887Z"
   },
   {
    "duration": 52,
    "start_time": "2021-09-03T17:35:56.894Z"
   },
   {
    "duration": 32,
    "start_time": "2021-09-03T17:35:56.949Z"
   },
   {
    "duration": 33,
    "start_time": "2021-09-03T17:35:56.984Z"
   },
   {
    "duration": 15,
    "start_time": "2021-09-03T17:35:57.020Z"
   },
   {
    "duration": 12,
    "start_time": "2021-09-03T17:35:57.038Z"
   },
   {
    "duration": 9,
    "start_time": "2021-09-03T17:35:57.054Z"
   },
   {
    "duration": 52,
    "start_time": "2021-09-03T17:35:57.066Z"
   },
   {
    "duration": 11,
    "start_time": "2021-09-03T17:35:57.121Z"
   },
   {
    "duration": 9,
    "start_time": "2021-09-03T17:35:57.135Z"
   },
   {
    "duration": 6,
    "start_time": "2021-09-03T17:35:57.147Z"
   },
   {
    "duration": 11,
    "start_time": "2021-09-03T17:35:57.155Z"
   },
   {
    "duration": 5,
    "start_time": "2021-09-03T17:35:57.168Z"
   },
   {
    "duration": 12,
    "start_time": "2021-09-03T17:35:57.217Z"
   },
   {
    "duration": 13,
    "start_time": "2021-09-03T17:35:57.231Z"
   },
   {
    "duration": 26,
    "start_time": "2021-09-03T17:35:57.246Z"
   },
   {
    "duration": 105,
    "start_time": "2021-09-03T17:35:57.275Z"
   },
   {
    "duration": 8,
    "start_time": "2021-09-03T17:35:57.383Z"
   },
   {
    "duration": 6,
    "start_time": "2021-09-03T17:35:57.419Z"
   },
   {
    "duration": 7,
    "start_time": "2021-09-03T17:35:57.429Z"
   },
   {
    "duration": 11,
    "start_time": "2021-09-03T17:35:57.439Z"
   },
   {
    "duration": 11,
    "start_time": "2021-09-03T17:35:57.453Z"
   },
   {
    "duration": 12,
    "start_time": "2021-09-03T17:35:57.467Z"
   },
   {
    "duration": 69,
    "start_time": "2021-09-03T17:35:57.481Z"
   },
   {
    "duration": 722,
    "start_time": "2021-09-03T17:35:57.553Z"
   },
   {
    "duration": 47,
    "start_time": "2021-09-03T17:35:58.278Z"
   },
   {
    "duration": 1516,
    "start_time": "2021-09-03T17:35:58.328Z"
   },
   {
    "duration": 362,
    "start_time": "2021-09-03T17:35:59.847Z"
   },
   {
    "duration": 11,
    "start_time": "2021-09-03T17:36:00.211Z"
   },
   {
    "duration": 13,
    "start_time": "2021-09-03T17:36:00.224Z"
   },
   {
    "duration": 21,
    "start_time": "2021-09-03T17:36:00.240Z"
   },
   {
    "duration": 17,
    "start_time": "2021-09-03T17:36:00.263Z"
   },
   {
    "duration": 2146,
    "start_time": "2021-09-03T17:36:00.282Z"
   },
   {
    "duration": 3786,
    "start_time": "2021-09-03T17:36:02.430Z"
   },
   {
    "duration": 26,
    "start_time": "2021-09-03T17:36:06.219Z"
   },
   {
    "duration": 584,
    "start_time": "2021-09-03T17:36:06.248Z"
   },
   {
    "duration": 482,
    "start_time": "2021-09-03T17:36:06.834Z"
   },
   {
    "duration": 13,
    "start_time": "2021-09-03T17:36:07.318Z"
   },
   {
    "duration": 23,
    "start_time": "2021-09-03T17:36:07.334Z"
   },
   {
    "duration": 549,
    "start_time": "2021-09-03T17:36:07.359Z"
   },
   {
    "duration": 488,
    "start_time": "2021-09-03T17:36:07.911Z"
   },
   {
    "duration": 16,
    "start_time": "2021-09-03T17:36:08.402Z"
   },
   {
    "duration": 8,
    "start_time": "2021-09-03T17:36:08.420Z"
   },
   {
    "duration": 283,
    "start_time": "2021-09-03T17:36:11.749Z"
   },
   {
    "duration": 25,
    "start_time": "2021-09-03T17:36:16.175Z"
   },
   {
    "duration": 2745,
    "start_time": "2021-09-03T17:36:18.463Z"
   },
   {
    "duration": 18,
    "start_time": "2021-09-03T17:36:36.909Z"
   },
   {
    "duration": 820,
    "start_time": "2021-09-03T17:36:39.266Z"
   },
   {
    "duration": 15,
    "start_time": "2021-09-03T17:36:45.099Z"
   },
   {
    "duration": 712,
    "start_time": "2021-09-03T17:36:46.652Z"
   },
   {
    "duration": 535,
    "start_time": "2021-09-03T17:36:54.502Z"
   },
   {
    "duration": 1432,
    "start_time": "2021-09-03T17:43:42.740Z"
   },
   {
    "duration": 50,
    "start_time": "2021-09-03T17:43:44.175Z"
   },
   {
    "duration": 36,
    "start_time": "2021-09-03T17:43:44.228Z"
   },
   {
    "duration": 4,
    "start_time": "2021-09-03T17:43:44.267Z"
   },
   {
    "duration": 17,
    "start_time": "2021-09-03T17:43:44.273Z"
   },
   {
    "duration": 28,
    "start_time": "2021-09-03T17:43:44.293Z"
   },
   {
    "duration": 10,
    "start_time": "2021-09-03T17:43:44.323Z"
   },
   {
    "duration": 17,
    "start_time": "2021-09-03T17:43:44.337Z"
   },
   {
    "duration": 10,
    "start_time": "2021-09-03T17:43:44.357Z"
   },
   {
    "duration": 51,
    "start_time": "2021-09-03T17:43:44.370Z"
   },
   {
    "duration": 11,
    "start_time": "2021-09-03T17:43:44.423Z"
   },
   {
    "duration": 11,
    "start_time": "2021-09-03T17:43:44.436Z"
   },
   {
    "duration": 5,
    "start_time": "2021-09-03T17:43:44.449Z"
   },
   {
    "duration": 7,
    "start_time": "2021-09-03T17:43:44.457Z"
   },
   {
    "duration": 17,
    "start_time": "2021-09-03T17:43:44.466Z"
   },
   {
    "duration": 38,
    "start_time": "2021-09-03T17:43:44.485Z"
   },
   {
    "duration": 40,
    "start_time": "2021-09-03T17:43:44.526Z"
   },
   {
    "duration": 6,
    "start_time": "2021-09-03T17:43:44.568Z"
   },
   {
    "duration": 9,
    "start_time": "2021-09-03T17:43:44.577Z"
   },
   {
    "duration": 4,
    "start_time": "2021-09-03T17:43:44.618Z"
   },
   {
    "duration": 9,
    "start_time": "2021-09-03T17:43:44.626Z"
   },
   {
    "duration": 10,
    "start_time": "2021-09-03T17:43:44.639Z"
   },
   {
    "duration": 9,
    "start_time": "2021-09-03T17:43:44.658Z"
   },
   {
    "duration": 24,
    "start_time": "2021-09-03T17:43:44.716Z"
   },
   {
    "duration": 488,
    "start_time": "2021-09-03T17:43:44.742Z"
   },
   {
    "duration": 21,
    "start_time": "2021-09-03T17:43:45.233Z"
   },
   {
    "duration": 1502,
    "start_time": "2021-09-03T17:43:45.257Z"
   },
   {
    "duration": 360,
    "start_time": "2021-09-03T17:43:46.762Z"
   },
   {
    "duration": 9,
    "start_time": "2021-09-03T17:43:47.125Z"
   },
   {
    "duration": 11,
    "start_time": "2021-09-03T17:43:47.137Z"
   },
   {
    "duration": 18,
    "start_time": "2021-09-03T17:43:47.150Z"
   },
   {
    "duration": 49,
    "start_time": "2021-09-03T17:43:47.170Z"
   },
   {
    "duration": 1934,
    "start_time": "2021-09-03T17:43:47.222Z"
   },
   {
    "duration": 2319,
    "start_time": "2021-09-03T17:43:49.159Z"
   },
   {
    "duration": 16,
    "start_time": "2021-09-03T17:43:51.481Z"
   },
   {
    "duration": 538,
    "start_time": "2021-09-03T17:43:51.499Z"
   },
   {
    "duration": 497,
    "start_time": "2021-09-03T17:43:52.039Z"
   },
   {
    "duration": 18,
    "start_time": "2021-09-03T17:43:52.539Z"
   },
   {
    "duration": 18,
    "start_time": "2021-09-03T17:43:52.560Z"
   },
   {
    "duration": 521,
    "start_time": "2021-09-03T17:43:52.581Z"
   },
   {
    "duration": 485,
    "start_time": "2021-09-03T17:43:53.106Z"
   },
   {
    "duration": 7,
    "start_time": "2021-09-03T17:43:53.594Z"
   },
   {
    "duration": 7,
    "start_time": "2021-09-03T17:43:53.617Z"
   },
   {
    "duration": 299,
    "start_time": "2021-09-03T17:43:53.627Z"
   },
   {
    "duration": 25,
    "start_time": "2021-09-03T17:43:53.928Z"
   },
   {
    "duration": 2766,
    "start_time": "2021-09-03T17:43:53.955Z"
   },
   {
    "duration": 22,
    "start_time": "2021-09-03T17:43:56.724Z"
   },
   {
    "duration": 1159,
    "start_time": "2021-09-03T17:43:56.749Z"
   },
   {
    "duration": 22,
    "start_time": "2021-09-03T17:43:57.915Z"
   },
   {
    "duration": 1056,
    "start_time": "2021-09-03T17:43:57.940Z"
   },
   {
    "duration": 837,
    "start_time": "2021-09-03T17:43:58.998Z"
   },
   {
    "duration": 13,
    "start_time": "2021-09-03T17:43:59.839Z"
   },
   {
    "duration": 15,
    "start_time": "2021-09-03T17:43:59.855Z"
   },
   {
    "duration": 51,
    "start_time": "2021-09-03T17:43:59.873Z"
   },
   {
    "duration": 14,
    "start_time": "2021-09-03T17:43:59.927Z"
   },
   {
    "duration": 11,
    "start_time": "2021-09-03T17:43:59.943Z"
   },
   {
    "duration": 19,
    "start_time": "2021-09-03T17:43:59.956Z"
   }
  ],
  "kernelspec": {
   "display_name": "Python 3",
   "language": "python",
   "name": "python3"
  },
  "language_info": {
   "codemirror_mode": {
    "name": "ipython",
    "version": 3
   },
   "file_extension": ".py",
   "mimetype": "text/x-python",
   "name": "python",
   "nbconvert_exporter": "python",
   "pygments_lexer": "ipython3",
   "version": "3.8.8"
  },
  "toc": {
   "base_numbering": 1,
   "nav_menu": {},
   "number_sections": true,
   "sideBar": true,
   "skip_h1_title": true,
   "title_cell": "Table of Contents",
   "title_sidebar": "Contents",
   "toc_cell": false,
   "toc_position": {},
   "toc_section_display": true,
   "toc_window_display": false
  }
 },
 "nbformat": 4,
 "nbformat_minor": 2
}

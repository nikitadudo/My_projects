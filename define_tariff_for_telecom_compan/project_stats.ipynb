{
 "cells": [
  {
   "cell_type": "markdown",
   "metadata": {},
   "source": [
    "# Определение перспективного тарифа для телеком компании\n",
    "\n",
    "Вы аналитик компании «Мегалайн» — федерального оператора сотовой связи. Клиентам предлагают два тарифных плана: «Смарт» и «Ультра». Чтобы скорректировать рекламный бюджет, коммерческий департамент хочет понять, какой тариф приносит больше денег.\n",
    "Вам предстоит сделать предварительный анализ тарифов на небольшой выборке клиентов. В вашем распоряжении данные 500 пользователей «Мегалайна»: кто они, откуда, каким тарифом пользуются, сколько звонков и сообщений каждый отправил за 2018 год. Нужно проанализировать поведение клиентов и сделать вывод — какой тариф лучше."
   ]
  },
  {
   "cell_type": "markdown",
   "metadata": {},
   "source": [
    "## Изучение данных из файла"
   ]
  },
  {
   "cell_type": "code",
   "execution_count": 1,
   "metadata": {},
   "outputs": [],
   "source": [
    "import pandas as pd\n",
    "import math\n",
    "import numpy as np\n",
    "import matplotlib.pyplot as plt\n",
    "from scipy import stats as st"
   ]
  },
  {
   "cell_type": "markdown",
   "metadata": {},
   "source": [
    "Выведем первые 5 строк каждого датафрейма и посмотрим информацию"
   ]
  },
  {
   "cell_type": "code",
   "execution_count": 2,
   "metadata": {},
   "outputs": [
    {
     "data": {
      "text/html": [
       "<div>\n",
       "<style scoped>\n",
       "    .dataframe tbody tr th:only-of-type {\n",
       "        vertical-align: middle;\n",
       "    }\n",
       "\n",
       "    .dataframe tbody tr th {\n",
       "        vertical-align: top;\n",
       "    }\n",
       "\n",
       "    .dataframe thead th {\n",
       "        text-align: right;\n",
       "    }\n",
       "</style>\n",
       "<table border=\"1\" class=\"dataframe\">\n",
       "  <thead>\n",
       "    <tr style=\"text-align: right;\">\n",
       "      <th></th>\n",
       "      <th>id</th>\n",
       "      <th>call_date</th>\n",
       "      <th>duration</th>\n",
       "      <th>user_id</th>\n",
       "    </tr>\n",
       "  </thead>\n",
       "  <tbody>\n",
       "    <tr>\n",
       "      <td>0</td>\n",
       "      <td>1000_0</td>\n",
       "      <td>2018-07-25</td>\n",
       "      <td>0.00</td>\n",
       "      <td>1000</td>\n",
       "    </tr>\n",
       "    <tr>\n",
       "      <td>1</td>\n",
       "      <td>1000_1</td>\n",
       "      <td>2018-08-17</td>\n",
       "      <td>0.00</td>\n",
       "      <td>1000</td>\n",
       "    </tr>\n",
       "    <tr>\n",
       "      <td>2</td>\n",
       "      <td>1000_2</td>\n",
       "      <td>2018-06-11</td>\n",
       "      <td>2.85</td>\n",
       "      <td>1000</td>\n",
       "    </tr>\n",
       "    <tr>\n",
       "      <td>3</td>\n",
       "      <td>1000_3</td>\n",
       "      <td>2018-09-21</td>\n",
       "      <td>13.80</td>\n",
       "      <td>1000</td>\n",
       "    </tr>\n",
       "    <tr>\n",
       "      <td>4</td>\n",
       "      <td>1000_4</td>\n",
       "      <td>2018-12-15</td>\n",
       "      <td>5.18</td>\n",
       "      <td>1000</td>\n",
       "    </tr>\n",
       "  </tbody>\n",
       "</table>\n",
       "</div>"
      ],
      "text/plain": [
       "       id   call_date  duration  user_id\n",
       "0  1000_0  2018-07-25      0.00     1000\n",
       "1  1000_1  2018-08-17      0.00     1000\n",
       "2  1000_2  2018-06-11      2.85     1000\n",
       "3  1000_3  2018-09-21     13.80     1000\n",
       "4  1000_4  2018-12-15      5.18     1000"
      ]
     },
     "metadata": {},
     "output_type": "display_data"
    }
   ],
   "source": [
    "calls = pd.read_csv('/datasets/calls.csv')\n",
    "display(calls.head(5))"
   ]
  },
  {
   "cell_type": "code",
   "execution_count": 3,
   "metadata": {},
   "outputs": [
    {
     "name": "stdout",
     "output_type": "stream",
     "text": [
      "   Unnamed: 0      id  mb_used session_date  user_id\n",
      "0           0  1000_0   112.95   2018-11-25     1000\n",
      "1           1  1000_1  1052.81   2018-09-07     1000\n",
      "2           2  1000_2  1197.26   2018-06-25     1000\n",
      "3           3  1000_3   550.27   2018-08-22     1000\n",
      "4           4  1000_4   302.56   2018-09-24     1000\n",
      "<class 'pandas.core.frame.DataFrame'>\n",
      "RangeIndex: 149396 entries, 0 to 149395\n",
      "Data columns (total 5 columns):\n",
      "Unnamed: 0      149396 non-null int64\n",
      "id              149396 non-null object\n",
      "mb_used         149396 non-null float64\n",
      "session_date    149396 non-null object\n",
      "user_id         149396 non-null int64\n",
      "dtypes: float64(1), int64(2), object(2)\n",
      "memory usage: 5.7+ MB\n"
     ]
    }
   ],
   "source": [
    "internet = pd.read_csv('/datasets/internet.csv')\n",
    "print(internet.head(5))\n",
    "internet.info()"
   ]
  },
  {
   "cell_type": "code",
   "execution_count": 4,
   "metadata": {},
   "outputs": [
    {
     "data": {
      "text/html": [
       "<div>\n",
       "<style scoped>\n",
       "    .dataframe tbody tr th:only-of-type {\n",
       "        vertical-align: middle;\n",
       "    }\n",
       "\n",
       "    .dataframe tbody tr th {\n",
       "        vertical-align: top;\n",
       "    }\n",
       "\n",
       "    .dataframe thead th {\n",
       "        text-align: right;\n",
       "    }\n",
       "</style>\n",
       "<table border=\"1\" class=\"dataframe\">\n",
       "  <thead>\n",
       "    <tr style=\"text-align: right;\">\n",
       "      <th></th>\n",
       "      <th>id</th>\n",
       "      <th>message_date</th>\n",
       "      <th>user_id</th>\n",
       "    </tr>\n",
       "  </thead>\n",
       "  <tbody>\n",
       "    <tr>\n",
       "      <td>0</td>\n",
       "      <td>1000_0</td>\n",
       "      <td>2018-06-27</td>\n",
       "      <td>1000</td>\n",
       "    </tr>\n",
       "    <tr>\n",
       "      <td>1</td>\n",
       "      <td>1000_1</td>\n",
       "      <td>2018-10-08</td>\n",
       "      <td>1000</td>\n",
       "    </tr>\n",
       "    <tr>\n",
       "      <td>2</td>\n",
       "      <td>1000_2</td>\n",
       "      <td>2018-08-04</td>\n",
       "      <td>1000</td>\n",
       "    </tr>\n",
       "    <tr>\n",
       "      <td>3</td>\n",
       "      <td>1000_3</td>\n",
       "      <td>2018-06-16</td>\n",
       "      <td>1000</td>\n",
       "    </tr>\n",
       "    <tr>\n",
       "      <td>4</td>\n",
       "      <td>1000_4</td>\n",
       "      <td>2018-12-05</td>\n",
       "      <td>1000</td>\n",
       "    </tr>\n",
       "  </tbody>\n",
       "</table>\n",
       "</div>"
      ],
      "text/plain": [
       "       id message_date  user_id\n",
       "0  1000_0   2018-06-27     1000\n",
       "1  1000_1   2018-10-08     1000\n",
       "2  1000_2   2018-08-04     1000\n",
       "3  1000_3   2018-06-16     1000\n",
       "4  1000_4   2018-12-05     1000"
      ]
     },
     "metadata": {},
     "output_type": "display_data"
    },
    {
     "name": "stdout",
     "output_type": "stream",
     "text": [
      "<class 'pandas.core.frame.DataFrame'>\n",
      "RangeIndex: 123036 entries, 0 to 123035\n",
      "Data columns (total 3 columns):\n",
      "id              123036 non-null object\n",
      "message_date    123036 non-null object\n",
      "user_id         123036 non-null int64\n",
      "dtypes: int64(1), object(2)\n",
      "memory usage: 2.8+ MB\n"
     ]
    }
   ],
   "source": [
    "messages = pd.read_csv('/datasets/messages.csv')\n",
    "display(messages.head(5))\n",
    "messages.info()"
   ]
  },
  {
   "cell_type": "code",
   "execution_count": 5,
   "metadata": {},
   "outputs": [
    {
     "name": "stdout",
     "output_type": "stream",
     "text": [
      "   messages_included  mb_per_month_included  minutes_included  \\\n",
      "0                 50                  15360               500   \n",
      "1               1000                  30720              3000   \n",
      "\n",
      "   rub_monthly_fee  rub_per_gb  rub_per_message  rub_per_minute tariff_name  \n",
      "0              550         200                3               3       smart  \n",
      "1             1950         150                1               1       ultra  \n",
      "<class 'pandas.core.frame.DataFrame'>\n",
      "RangeIndex: 2 entries, 0 to 1\n",
      "Data columns (total 8 columns):\n",
      "messages_included        2 non-null int64\n",
      "mb_per_month_included    2 non-null int64\n",
      "minutes_included         2 non-null int64\n",
      "rub_monthly_fee          2 non-null int64\n",
      "rub_per_gb               2 non-null int64\n",
      "rub_per_message          2 non-null int64\n",
      "rub_per_minute           2 non-null int64\n",
      "tariff_name              2 non-null object\n",
      "dtypes: int64(7), object(1)\n",
      "memory usage: 256.0+ bytes\n"
     ]
    }
   ],
   "source": [
    "tariffs = pd.read_csv('/datasets/tariffs.csv')\n",
    "print(tariffs.head(5))\n",
    "tariffs.info()"
   ]
  },
  {
   "cell_type": "code",
   "execution_count": 6,
   "metadata": {},
   "outputs": [
    {
     "data": {
      "text/html": [
       "<div>\n",
       "<style scoped>\n",
       "    .dataframe tbody tr th:only-of-type {\n",
       "        vertical-align: middle;\n",
       "    }\n",
       "\n",
       "    .dataframe tbody tr th {\n",
       "        vertical-align: top;\n",
       "    }\n",
       "\n",
       "    .dataframe thead th {\n",
       "        text-align: right;\n",
       "    }\n",
       "</style>\n",
       "<table border=\"1\" class=\"dataframe\">\n",
       "  <thead>\n",
       "    <tr style=\"text-align: right;\">\n",
       "      <th></th>\n",
       "      <th>user_id</th>\n",
       "      <th>age</th>\n",
       "      <th>churn_date</th>\n",
       "      <th>city</th>\n",
       "      <th>first_name</th>\n",
       "      <th>last_name</th>\n",
       "      <th>reg_date</th>\n",
       "      <th>tariff</th>\n",
       "    </tr>\n",
       "  </thead>\n",
       "  <tbody>\n",
       "    <tr>\n",
       "      <td>0</td>\n",
       "      <td>1000</td>\n",
       "      <td>52</td>\n",
       "      <td>NaN</td>\n",
       "      <td>Краснодар</td>\n",
       "      <td>Рафаил</td>\n",
       "      <td>Верещагин</td>\n",
       "      <td>2018-05-25</td>\n",
       "      <td>ultra</td>\n",
       "    </tr>\n",
       "    <tr>\n",
       "      <td>1</td>\n",
       "      <td>1001</td>\n",
       "      <td>41</td>\n",
       "      <td>NaN</td>\n",
       "      <td>Москва</td>\n",
       "      <td>Иван</td>\n",
       "      <td>Ежов</td>\n",
       "      <td>2018-11-01</td>\n",
       "      <td>smart</td>\n",
       "    </tr>\n",
       "    <tr>\n",
       "      <td>2</td>\n",
       "      <td>1002</td>\n",
       "      <td>59</td>\n",
       "      <td>NaN</td>\n",
       "      <td>Стерлитамак</td>\n",
       "      <td>Евгений</td>\n",
       "      <td>Абрамович</td>\n",
       "      <td>2018-06-17</td>\n",
       "      <td>smart</td>\n",
       "    </tr>\n",
       "    <tr>\n",
       "      <td>3</td>\n",
       "      <td>1003</td>\n",
       "      <td>23</td>\n",
       "      <td>NaN</td>\n",
       "      <td>Москва</td>\n",
       "      <td>Белла</td>\n",
       "      <td>Белякова</td>\n",
       "      <td>2018-08-17</td>\n",
       "      <td>ultra</td>\n",
       "    </tr>\n",
       "    <tr>\n",
       "      <td>4</td>\n",
       "      <td>1004</td>\n",
       "      <td>68</td>\n",
       "      <td>NaN</td>\n",
       "      <td>Новокузнецк</td>\n",
       "      <td>Татьяна</td>\n",
       "      <td>Авдеенко</td>\n",
       "      <td>2018-05-14</td>\n",
       "      <td>ultra</td>\n",
       "    </tr>\n",
       "  </tbody>\n",
       "</table>\n",
       "</div>"
      ],
      "text/plain": [
       "   user_id  age churn_date         city first_name  last_name    reg_date  \\\n",
       "0     1000   52        NaN    Краснодар     Рафаил  Верещагин  2018-05-25   \n",
       "1     1001   41        NaN       Москва       Иван       Ежов  2018-11-01   \n",
       "2     1002   59        NaN  Стерлитамак    Евгений  Абрамович  2018-06-17   \n",
       "3     1003   23        NaN       Москва      Белла   Белякова  2018-08-17   \n",
       "4     1004   68        NaN  Новокузнецк    Татьяна   Авдеенко  2018-05-14   \n",
       "\n",
       "  tariff  \n",
       "0  ultra  \n",
       "1  smart  \n",
       "2  smart  \n",
       "3  ultra  \n",
       "4  ultra  "
      ]
     },
     "execution_count": 6,
     "metadata": {},
     "output_type": "execute_result"
    }
   ],
   "source": [
    "users = pd.read_csv('/datasets/users.csv')\n",
    "users.head(5)\n"
   ]
  },
  {
   "cell_type": "markdown",
   "metadata": {},
   "source": [
    "Рассмотрим датафрейм с пользователями внимательнее. тут возмодны ошибки."
   ]
  },
  {
   "cell_type": "code",
   "execution_count": 7,
   "metadata": {},
   "outputs": [
    {
     "name": "stdout",
     "output_type": "stream",
     "text": [
      "[52 41 59 23 68 67 21 65 63 24 26 44 38 36 64 58 73 71 61 72 42 56 32 62\n",
      " 20 51 28 66 31 37 47 40 69 48 33 39 43 46 45 55 53 34 49 25 18 70 50 19\n",
      " 54 60 29 27 74 22 30 75 57 35]\n"
     ]
    }
   ],
   "source": [
    "print(users['age'].unique())"
   ]
  },
  {
   "cell_type": "code",
   "execution_count": 8,
   "metadata": {},
   "outputs": [
    {
     "name": "stdout",
     "output_type": "stream",
     "text": [
      "['Краснодар' 'Москва' 'Стерлитамак' 'Новокузнецк' 'Набережные Челны'\n",
      " 'Ульяновск' 'Челябинск' 'Пермь' 'Тюмень' 'Самара' 'Санкт-Петербург'\n",
      " 'Иваново' 'Чебоксары' 'Омск' 'Уфа' 'Томск' 'Чита' 'Мурманск'\n",
      " 'Петрозаводск' 'Тверь' 'Екатеринбург' 'Махачкала' 'Вологда' 'Череповец'\n",
      " 'Ярославль' 'Сочи' 'Хабаровск' 'Ставрополь' 'Рязань' 'Улан-Удэ' 'Тула'\n",
      " 'Саратов' 'Ростов-на-Дону' 'Казань' 'Иркутск' 'Курск' 'Калуга' 'Якутск'\n",
      " 'Астрахань' 'Химки' 'Владикавказ' 'Волгоград' 'Саранск' 'Ижевск'\n",
      " 'Новосибирск' 'Брянск' 'Тольятти' 'Нижний Тагил' 'Орёл' 'Белгород'\n",
      " 'Воронеж' 'Волжский' 'Курган' 'Барнаул' 'Красноярск' 'Архангельск'\n",
      " 'Липецк' 'Кемерово' 'Киров' 'Сургут' 'Пенза' 'Магнитогорск'\n",
      " 'Нижний Новгород' 'Кострома' 'Владивосток' 'Тамбов' 'Балашиха'\n",
      " 'Севастополь' 'Калининград' 'Оренбург' 'Смоленск' 'Нижневартовск'\n",
      " 'Владимир' 'Новороссийск' 'Грозный' 'Подольск']\n"
     ]
    }
   ],
   "source": [
    "print(users['city'].unique())"
   ]
  },
  {
   "cell_type": "markdown",
   "metadata": {},
   "source": [
    "Видим, что нужно гдето-нужно поменять тип данных, в таблице users есть пропуски. Но в целом данные хорошие."
   ]
  },
  {
   "cell_type": "markdown",
   "metadata": {},
   "source": [
    "## Предобработка данных"
   ]
  },
  {
   "cell_type": "markdown",
   "metadata": {},
   "source": [
    "Изменим типы данных на более корректные"
   ]
  },
  {
   "cell_type": "code",
   "execution_count": 9,
   "metadata": {},
   "outputs": [],
   "source": [
    "calls['call_date'] = pd.to_datetime(calls['call_date'], format='%Y-%m-%d')\n",
    "internet['session_date'] = pd.to_datetime(internet['session_date'], format='%Y-%m-%d')\n",
    "messages['message_date'] = pd.to_datetime(messages['message_date'], format='%Y-%m-%d')\n",
    "users['churn_date'] = pd.to_datetime(users['churn_date'], format='%Y-%m-%d')\n",
    "users['reg_date'] = pd.to_datetime(users['reg_date'], format='%Y-%m-%d')"
   ]
  },
  {
   "cell_type": "markdown",
   "metadata": {},
   "source": [
    "Пропусков нигде нет, кроме users['churn_date'], но тут те пользователи, которые еще на этом тарифе"
   ]
  },
  {
   "cell_type": "markdown",
   "metadata": {},
   "source": [
    "Округлим минуты в большуюс сторону"
   ]
  },
  {
   "cell_type": "code",
   "execution_count": 10,
   "metadata": {},
   "outputs": [],
   "source": [
    "calls['duration'] = np.ceil(calls['duration'])"
   ]
  },
  {
   "cell_type": "markdown",
   "metadata": {},
   "source": [
    "Посторим гистограммы времени звонка и использования интернета"
   ]
  },
  {
   "cell_type": "code",
   "execution_count": 11,
   "metadata": {},
   "outputs": [
    {
     "data": {
      "text/plain": [
       "<matplotlib.axes._subplots.AxesSubplot at 0x7f43a99a2a10>"
      ]
     },
     "execution_count": 11,
     "metadata": {},
     "output_type": "execute_result"
    },
    {
     "data": {
      "image/png": "[encoded data removed]",
      "text/plain": [
       "<Figure size 432x288 with 1 Axes>"
      ]
     },
     "metadata": {
      "needs_background": "light"
     },
     "output_type": "display_data"
    }
   ],
   "source": [
    "internet['mb_used'].hist(bins=20)"
   ]
  },
  {
   "cell_type": "markdown",
   "metadata": {},
   "source": [
    "Видим, что многие пользователи не пользуются интернетом"
   ]
  },
  {
   "cell_type": "code",
   "execution_count": 12,
   "metadata": {},
   "outputs": [
    {
     "data": {
      "text/plain": [
       "<matplotlib.axes._subplots.AxesSubplot at 0x7f43aaa3ce10>"
      ]
     },
     "execution_count": 12,
     "metadata": {},
     "output_type": "execute_result"
    },
    {
     "data": {
      "image/png": "[encoded data removed]",
      "text/plain": [
       "<Figure size 432x288 with 1 Axes>"
      ]
     },
     "metadata": {
      "needs_background": "light"
     },
     "output_type": "display_data"
    }
   ],
   "source": [
    "calls['duration'].hist(bins=20)"
   ]
  },
  {
   "cell_type": "markdown",
   "metadata": {},
   "source": [
    "Видим, что много значений с 0, но эти звонки считаются пропущенными"
   ]
  },
  {
   "cell_type": "markdown",
   "metadata": {},
   "source": [
    "## Подготовка данных"
   ]
  },
  {
   "cell_type": "markdown",
   "metadata": {},
   "source": [
    "Сгруппируем количество сделанных звонков и израсходованных минут разговора по месяцам для каждого пользователя"
   ]
  },
  {
   "cell_type": "code",
   "execution_count": 13,
   "metadata": {},
   "outputs": [],
   "source": [
    "calls['month'] = calls['call_date'].dt.month"
   ]
  },
  {
   "cell_type": "code",
   "execution_count": 14,
   "metadata": {},
   "outputs": [],
   "source": [
    "calls_users = calls.pivot_table(index=('user_id', 'month'), values='duration', aggfunc=('sum', 'count')).reset_index()"
   ]
  },
  {
   "cell_type": "markdown",
   "metadata": {},
   "source": [
    "Сгруппируем количество отправленных сообщений по месяцам"
   ]
  },
  {
   "cell_type": "code",
   "execution_count": 15,
   "metadata": {},
   "outputs": [],
   "source": [
    "messages['month'] = messages['message_date'].dt.month"
   ]
  },
  {
   "cell_type": "code",
   "execution_count": 16,
   "metadata": {},
   "outputs": [],
   "source": [
    "messages_users = messages.pivot_table(index=('user_id', 'month'), values='id', aggfunc='count').reset_index()"
   ]
  },
  {
   "cell_type": "markdown",
   "metadata": {},
   "source": [
    "Сгруппируем объем израсходованного интернет-трафика по месяцам"
   ]
  },
  {
   "cell_type": "code",
   "execution_count": 17,
   "metadata": {},
   "outputs": [],
   "source": [
    "internet['month'] = internet['session_date'].dt.month"
   ]
  },
  {
   "cell_type": "code",
   "execution_count": 18,
   "metadata": {},
   "outputs": [],
   "source": [
    "internet_users = internet.pivot_table(index=('user_id', 'month'), values='mb_used', aggfunc='sum').reset_index()"
   ]
  },
  {
   "cell_type": "markdown",
   "metadata": {},
   "source": [
    "Округлим значения согласно тарифам Мегалайна"
   ]
  },
  {
   "cell_type": "code",
   "execution_count": 19,
   "metadata": {},
   "outputs": [],
   "source": [
    "internet_users['mb_used'] =  (internet_users['mb_used'] / 1024).apply(math.ceil)\n",
    "internet_users.columns = ['user_id', 'month', 'gb_used']"
   ]
  },
  {
   "cell_type": "markdown",
   "metadata": {},
   "source": [
    "Объеденим таблиц с помощью merge и поменем названия столбцов"
   ]
  },
  {
   "cell_type": "code",
   "execution_count": 20,
   "metadata": {},
   "outputs": [
    {
     "data": {
      "text/html": [
       "<div>\n",
       "<style scoped>\n",
       "    .dataframe tbody tr th:only-of-type {\n",
       "        vertical-align: middle;\n",
       "    }\n",
       "\n",
       "    .dataframe tbody tr th {\n",
       "        vertical-align: top;\n",
       "    }\n",
       "\n",
       "    .dataframe thead th {\n",
       "        text-align: right;\n",
       "    }\n",
       "</style>\n",
       "<table border=\"1\" class=\"dataframe\">\n",
       "  <thead>\n",
       "    <tr style=\"text-align: right;\">\n",
       "      <th></th>\n",
       "      <th>user_id</th>\n",
       "      <th>month</th>\n",
       "      <th>calls</th>\n",
       "      <th>minutes</th>\n",
       "      <th>messages</th>\n",
       "      <th>gb</th>\n",
       "      <th>tariff_name</th>\n",
       "    </tr>\n",
       "  </thead>\n",
       "  <tbody>\n",
       "    <tr>\n",
       "      <td>0</td>\n",
       "      <td>1000</td>\n",
       "      <td>5</td>\n",
       "      <td>22.0</td>\n",
       "      <td>159.0</td>\n",
       "      <td>22.0</td>\n",
       "      <td>3.0</td>\n",
       "      <td>ultra</td>\n",
       "    </tr>\n",
       "    <tr>\n",
       "      <td>1</td>\n",
       "      <td>1000</td>\n",
       "      <td>6</td>\n",
       "      <td>43.0</td>\n",
       "      <td>172.0</td>\n",
       "      <td>60.0</td>\n",
       "      <td>23.0</td>\n",
       "      <td>ultra</td>\n",
       "    </tr>\n",
       "    <tr>\n",
       "      <td>2</td>\n",
       "      <td>1000</td>\n",
       "      <td>7</td>\n",
       "      <td>47.0</td>\n",
       "      <td>340.0</td>\n",
       "      <td>75.0</td>\n",
       "      <td>14.0</td>\n",
       "      <td>ultra</td>\n",
       "    </tr>\n",
       "    <tr>\n",
       "      <td>3</td>\n",
       "      <td>1000</td>\n",
       "      <td>8</td>\n",
       "      <td>52.0</td>\n",
       "      <td>408.0</td>\n",
       "      <td>81.0</td>\n",
       "      <td>14.0</td>\n",
       "      <td>ultra</td>\n",
       "    </tr>\n",
       "    <tr>\n",
       "      <td>4</td>\n",
       "      <td>1000</td>\n",
       "      <td>9</td>\n",
       "      <td>58.0</td>\n",
       "      <td>466.0</td>\n",
       "      <td>57.0</td>\n",
       "      <td>15.0</td>\n",
       "      <td>ultra</td>\n",
       "    </tr>\n",
       "    <tr>\n",
       "      <td>5</td>\n",
       "      <td>1000</td>\n",
       "      <td>10</td>\n",
       "      <td>57.0</td>\n",
       "      <td>350.0</td>\n",
       "      <td>73.0</td>\n",
       "      <td>15.0</td>\n",
       "      <td>ultra</td>\n",
       "    </tr>\n",
       "    <tr>\n",
       "      <td>6</td>\n",
       "      <td>1000</td>\n",
       "      <td>11</td>\n",
       "      <td>43.0</td>\n",
       "      <td>338.0</td>\n",
       "      <td>58.0</td>\n",
       "      <td>15.0</td>\n",
       "      <td>ultra</td>\n",
       "    </tr>\n",
       "    <tr>\n",
       "      <td>7</td>\n",
       "      <td>1000</td>\n",
       "      <td>12</td>\n",
       "      <td>46.0</td>\n",
       "      <td>333.0</td>\n",
       "      <td>70.0</td>\n",
       "      <td>10.0</td>\n",
       "      <td>ultra</td>\n",
       "    </tr>\n",
       "    <tr>\n",
       "      <td>8</td>\n",
       "      <td>1001</td>\n",
       "      <td>11</td>\n",
       "      <td>59.0</td>\n",
       "      <td>430.0</td>\n",
       "      <td>NaN</td>\n",
       "      <td>18.0</td>\n",
       "      <td>smart</td>\n",
       "    </tr>\n",
       "    <tr>\n",
       "      <td>9</td>\n",
       "      <td>1001</td>\n",
       "      <td>12</td>\n",
       "      <td>63.0</td>\n",
       "      <td>414.0</td>\n",
       "      <td>NaN</td>\n",
       "      <td>14.0</td>\n",
       "      <td>smart</td>\n",
       "    </tr>\n",
       "  </tbody>\n",
       "</table>\n",
       "</div>"
      ],
      "text/plain": [
       "   user_id  month  calls  minutes  messages    gb tariff_name\n",
       "0     1000      5   22.0    159.0      22.0   3.0       ultra\n",
       "1     1000      6   43.0    172.0      60.0  23.0       ultra\n",
       "2     1000      7   47.0    340.0      75.0  14.0       ultra\n",
       "3     1000      8   52.0    408.0      81.0  14.0       ultra\n",
       "4     1000      9   58.0    466.0      57.0  15.0       ultra\n",
       "5     1000     10   57.0    350.0      73.0  15.0       ultra\n",
       "6     1000     11   43.0    338.0      58.0  15.0       ultra\n",
       "7     1000     12   46.0    333.0      70.0  10.0       ultra\n",
       "8     1001     11   59.0    430.0       NaN  18.0       smart\n",
       "9     1001     12   63.0    414.0       NaN  14.0       smart"
      ]
     },
     "metadata": {},
     "output_type": "display_data"
    },
    {
     "name": "stdout",
     "output_type": "stream",
     "text": [
      "<class 'pandas.core.frame.DataFrame'>\n",
      "Int64Index: 3214 entries, 0 to 3213\n",
      "Data columns (total 7 columns):\n",
      "user_id        3214 non-null int64\n",
      "month          3214 non-null int64\n",
      "calls          3174 non-null float64\n",
      "minutes        3174 non-null float64\n",
      "messages       2717 non-null float64\n",
      "gb             3203 non-null float64\n",
      "tariff_name    3214 non-null object\n",
      "dtypes: float64(4), int64(2), object(1)\n",
      "memory usage: 200.9+ KB\n"
     ]
    }
   ],
   "source": [
    "users_month = calls_users.merge(messages_users, on=['user_id', 'month'], how='outer').merge(internet_users, on=['user_id', 'month'], how='outer').merge(users[['user_id', 'tariff']], on='user_id')\n",
    "users_month.columns = ['user_id', 'month', 'calls', 'minutes', 'messages', 'gb', 'tariff_name']\n",
    "display(users_month.head(10))\n",
    "users_month.info()"
   ]
  },
  {
   "cell_type": "markdown",
   "metadata": {},
   "source": [
    "Заменим все пустые значение на 0, так как если их нет, значит клиент не пользовался этой услугой"
   ]
  },
  {
   "cell_type": "code",
   "execution_count": 21,
   "metadata": {},
   "outputs": [],
   "source": [
    "users_month = users_month.fillna(value=0)"
   ]
  },
  {
   "cell_type": "markdown",
   "metadata": {},
   "source": [
    "И приведем к парвильному типу данных"
   ]
  },
  {
   "cell_type": "code",
   "execution_count": 22,
   "metadata": {},
   "outputs": [],
   "source": [
    "users_month['calls'] = users_month['calls'].astype('int')\n",
    "users_month['messages'] = users_month['messages'].astype('int')\n",
    "users_month['minutes'] = users_month['minutes'].astype('int')\n",
    "users_month['gb'] = users_month['gb'].astype('int')"
   ]
  },
  {
   "cell_type": "markdown",
   "metadata": {},
   "source": [
    "Переведем мегабайты в гигабайты и объеденим таблицу по тарифам"
   ]
  },
  {
   "cell_type": "code",
   "execution_count": 23,
   "metadata": {},
   "outputs": [],
   "source": [
    "tariffs['gb_per_month_included'] = tariffs['mb_per_month_included'] / 1024\n",
    "tariffs = tariffs.drop('mb_per_month_included', axis=1)"
   ]
  },
  {
   "cell_type": "code",
   "execution_count": 24,
   "metadata": {},
   "outputs": [
    {
     "data": {
      "text/html": [
       "<div>\n",
       "<style scoped>\n",
       "    .dataframe tbody tr th:only-of-type {\n",
       "        vertical-align: middle;\n",
       "    }\n",
       "\n",
       "    .dataframe tbody tr th {\n",
       "        vertical-align: top;\n",
       "    }\n",
       "\n",
       "    .dataframe thead th {\n",
       "        text-align: right;\n",
       "    }\n",
       "</style>\n",
       "<table border=\"1\" class=\"dataframe\">\n",
       "  <thead>\n",
       "    <tr style=\"text-align: right;\">\n",
       "      <th></th>\n",
       "      <th>user_id</th>\n",
       "      <th>month</th>\n",
       "      <th>calls</th>\n",
       "      <th>minutes</th>\n",
       "      <th>messages</th>\n",
       "      <th>gb</th>\n",
       "      <th>tariff_name</th>\n",
       "      <th>messages_included</th>\n",
       "      <th>minutes_included</th>\n",
       "      <th>rub_monthly_fee</th>\n",
       "      <th>rub_per_gb</th>\n",
       "      <th>rub_per_message</th>\n",
       "      <th>rub_per_minute</th>\n",
       "      <th>gb_per_month_included</th>\n",
       "    </tr>\n",
       "  </thead>\n",
       "  <tbody>\n",
       "    <tr>\n",
       "      <td>0</td>\n",
       "      <td>1000</td>\n",
       "      <td>5</td>\n",
       "      <td>22</td>\n",
       "      <td>159</td>\n",
       "      <td>22</td>\n",
       "      <td>3</td>\n",
       "      <td>ultra</td>\n",
       "      <td>1000</td>\n",
       "      <td>3000</td>\n",
       "      <td>1950</td>\n",
       "      <td>150</td>\n",
       "      <td>1</td>\n",
       "      <td>1</td>\n",
       "      <td>30.0</td>\n",
       "    </tr>\n",
       "    <tr>\n",
       "      <td>1</td>\n",
       "      <td>1000</td>\n",
       "      <td>6</td>\n",
       "      <td>43</td>\n",
       "      <td>172</td>\n",
       "      <td>60</td>\n",
       "      <td>23</td>\n",
       "      <td>ultra</td>\n",
       "      <td>1000</td>\n",
       "      <td>3000</td>\n",
       "      <td>1950</td>\n",
       "      <td>150</td>\n",
       "      <td>1</td>\n",
       "      <td>1</td>\n",
       "      <td>30.0</td>\n",
       "    </tr>\n",
       "    <tr>\n",
       "      <td>2</td>\n",
       "      <td>1000</td>\n",
       "      <td>7</td>\n",
       "      <td>47</td>\n",
       "      <td>340</td>\n",
       "      <td>75</td>\n",
       "      <td>14</td>\n",
       "      <td>ultra</td>\n",
       "      <td>1000</td>\n",
       "      <td>3000</td>\n",
       "      <td>1950</td>\n",
       "      <td>150</td>\n",
       "      <td>1</td>\n",
       "      <td>1</td>\n",
       "      <td>30.0</td>\n",
       "    </tr>\n",
       "    <tr>\n",
       "      <td>3</td>\n",
       "      <td>1000</td>\n",
       "      <td>8</td>\n",
       "      <td>52</td>\n",
       "      <td>408</td>\n",
       "      <td>81</td>\n",
       "      <td>14</td>\n",
       "      <td>ultra</td>\n",
       "      <td>1000</td>\n",
       "      <td>3000</td>\n",
       "      <td>1950</td>\n",
       "      <td>150</td>\n",
       "      <td>1</td>\n",
       "      <td>1</td>\n",
       "      <td>30.0</td>\n",
       "    </tr>\n",
       "    <tr>\n",
       "      <td>4</td>\n",
       "      <td>1000</td>\n",
       "      <td>9</td>\n",
       "      <td>58</td>\n",
       "      <td>466</td>\n",
       "      <td>57</td>\n",
       "      <td>15</td>\n",
       "      <td>ultra</td>\n",
       "      <td>1000</td>\n",
       "      <td>3000</td>\n",
       "      <td>1950</td>\n",
       "      <td>150</td>\n",
       "      <td>1</td>\n",
       "      <td>1</td>\n",
       "      <td>30.0</td>\n",
       "    </tr>\n",
       "    <tr>\n",
       "      <td>5</td>\n",
       "      <td>1000</td>\n",
       "      <td>10</td>\n",
       "      <td>57</td>\n",
       "      <td>350</td>\n",
       "      <td>73</td>\n",
       "      <td>15</td>\n",
       "      <td>ultra</td>\n",
       "      <td>1000</td>\n",
       "      <td>3000</td>\n",
       "      <td>1950</td>\n",
       "      <td>150</td>\n",
       "      <td>1</td>\n",
       "      <td>1</td>\n",
       "      <td>30.0</td>\n",
       "    </tr>\n",
       "    <tr>\n",
       "      <td>6</td>\n",
       "      <td>1000</td>\n",
       "      <td>11</td>\n",
       "      <td>43</td>\n",
       "      <td>338</td>\n",
       "      <td>58</td>\n",
       "      <td>15</td>\n",
       "      <td>ultra</td>\n",
       "      <td>1000</td>\n",
       "      <td>3000</td>\n",
       "      <td>1950</td>\n",
       "      <td>150</td>\n",
       "      <td>1</td>\n",
       "      <td>1</td>\n",
       "      <td>30.0</td>\n",
       "    </tr>\n",
       "    <tr>\n",
       "      <td>7</td>\n",
       "      <td>1000</td>\n",
       "      <td>12</td>\n",
       "      <td>46</td>\n",
       "      <td>333</td>\n",
       "      <td>70</td>\n",
       "      <td>10</td>\n",
       "      <td>ultra</td>\n",
       "      <td>1000</td>\n",
       "      <td>3000</td>\n",
       "      <td>1950</td>\n",
       "      <td>150</td>\n",
       "      <td>1</td>\n",
       "      <td>1</td>\n",
       "      <td>30.0</td>\n",
       "    </tr>\n",
       "    <tr>\n",
       "      <td>8</td>\n",
       "      <td>1003</td>\n",
       "      <td>8</td>\n",
       "      <td>55</td>\n",
       "      <td>380</td>\n",
       "      <td>37</td>\n",
       "      <td>9</td>\n",
       "      <td>ultra</td>\n",
       "      <td>1000</td>\n",
       "      <td>3000</td>\n",
       "      <td>1950</td>\n",
       "      <td>150</td>\n",
       "      <td>1</td>\n",
       "      <td>1</td>\n",
       "      <td>30.0</td>\n",
       "    </tr>\n",
       "    <tr>\n",
       "      <td>9</td>\n",
       "      <td>1003</td>\n",
       "      <td>9</td>\n",
       "      <td>134</td>\n",
       "      <td>961</td>\n",
       "      <td>91</td>\n",
       "      <td>13</td>\n",
       "      <td>ultra</td>\n",
       "      <td>1000</td>\n",
       "      <td>3000</td>\n",
       "      <td>1950</td>\n",
       "      <td>150</td>\n",
       "      <td>1</td>\n",
       "      <td>1</td>\n",
       "      <td>30.0</td>\n",
       "    </tr>\n",
       "  </tbody>\n",
       "</table>\n",
       "</div>"
      ],
      "text/plain": [
       "   user_id  month  calls  minutes  messages  gb tariff_name  \\\n",
       "0     1000      5     22      159        22   3       ultra   \n",
       "1     1000      6     43      172        60  23       ultra   \n",
       "2     1000      7     47      340        75  14       ultra   \n",
       "3     1000      8     52      408        81  14       ultra   \n",
       "4     1000      9     58      466        57  15       ultra   \n",
       "5     1000     10     57      350        73  15       ultra   \n",
       "6     1000     11     43      338        58  15       ultra   \n",
       "7     1000     12     46      333        70  10       ultra   \n",
       "8     1003      8     55      380        37   9       ultra   \n",
       "9     1003      9    134      961        91  13       ultra   \n",
       "\n",
       "   messages_included  minutes_included  rub_monthly_fee  rub_per_gb  \\\n",
       "0               1000              3000             1950         150   \n",
       "1               1000              3000             1950         150   \n",
       "2               1000              3000             1950         150   \n",
       "3               1000              3000             1950         150   \n",
       "4               1000              3000             1950         150   \n",
       "5               1000              3000             1950         150   \n",
       "6               1000              3000             1950         150   \n",
       "7               1000              3000             1950         150   \n",
       "8               1000              3000             1950         150   \n",
       "9               1000              3000             1950         150   \n",
       "\n",
       "   rub_per_message  rub_per_minute  gb_per_month_included  \n",
       "0                1               1                   30.0  \n",
       "1                1               1                   30.0  \n",
       "2                1               1                   30.0  \n",
       "3                1               1                   30.0  \n",
       "4                1               1                   30.0  \n",
       "5                1               1                   30.0  \n",
       "6                1               1                   30.0  \n",
       "7                1               1                   30.0  \n",
       "8                1               1                   30.0  \n",
       "9                1               1                   30.0  "
      ]
     },
     "metadata": {},
     "output_type": "display_data"
    }
   ],
   "source": [
    "users_month = users_month.merge(tariffs, on='tariff_name')\n",
    "display(users_month.head(10))"
   ]
  },
  {
   "cell_type": "markdown",
   "metadata": {},
   "source": [
    "Создадим функцию, которые посчитает сколько платит каждый пользователь каждый месяц и с помощью apply создадим новый столбец"
   ]
  },
  {
   "cell_type": "code",
   "execution_count": 25,
   "metadata": {},
   "outputs": [],
   "source": [
    "def calculation(users_month):\n",
    "    money = users_month['rub_monthly_fee']\n",
    "    minutes = users_month['minutes_included'] - users_month['minutes']\n",
    "    messages = users_month['messages_included'] - users_month['messages']\n",
    "    mb = users_month['gb_per_month_included'] - users_month['gb']\n",
    "    if minutes < 0:\n",
    "        money += abs(minutes) * users_month['rub_per_minute']\n",
    "    if messages < 0:\n",
    "        money += abs(messages) * users_month['rub_per_message']\n",
    "    if mb < 0:\n",
    "        money += abs(mb) * users_month['rub_per_gb']\n",
    "    return money"
   ]
  },
  {
   "cell_type": "code",
   "execution_count": 26,
   "metadata": {},
   "outputs": [],
   "source": [
    "users_month['income'] = users_month.apply(calculation, axis=1)"
   ]
  },
  {
   "cell_type": "markdown",
   "metadata": {},
   "source": [
    "## Анализ данных"
   ]
  },
  {
   "cell_type": "markdown",
   "metadata": {},
   "source": [
    "Посмотрим на самые прибыльные месяцы"
   ]
  },
  {
   "cell_type": "code",
   "execution_count": 27,
   "metadata": {},
   "outputs": [
    {
     "data": {
      "image/png": "[encoded data removed]",
      "text/plain": [
       "<Figure size 432x288 with 1 Axes>"
      ]
     },
     "metadata": {
      "needs_background": "light"
     },
     "output_type": "display_data"
    }
   ],
   "source": [
    "users_month.groupby('month')['income'].mean().plot(kind='bar')\n",
    "plt.show()"
   ]
  },
  {
   "cell_type": "markdown",
   "metadata": {},
   "source": [
    "Средний доход от каждого пользовател ровные на протжении всего года, но в декабре большой подъем, а в январе и феврале спад."
   ]
  },
  {
   "cell_type": "markdown",
   "metadata": {},
   "source": [
    "Построим гистограммы по количеству минут, сообщений и интернета в месяц для обоих тарифов"
   ]
  },
  {
   "cell_type": "code",
   "execution_count": 28,
   "metadata": {},
   "outputs": [],
   "source": [
    "smart = users_month.query('tariff_name == \"smart\"')\n",
    "ultra = users_month.query('tariff_name == \"ultra\"')"
   ]
  },
  {
   "cell_type": "code",
   "execution_count": 29,
   "metadata": {},
   "outputs": [
    {
     "data": {
      "image/png": "[encoded data removed]",
      "text/plain": [
       "<Figure size 1080x1080 with 9 Axes>"
      ]
     },
     "metadata": {
      "needs_background": "light"
     },
     "output_type": "display_data"
    }
   ],
   "source": [
    "fig = plt.figure(figsize=(15, 15))\n",
    "fig.suptitle('Гистограммы и диаграмма размахов тарифов', fontsize=15)\n",
    "\n",
    "plt.subplot(3, 3, 1).set_title('Минуты')\n",
    "smart['minutes'].plot(kind='hist', bins=10)\n",
    "ultra['minutes'].plot(kind='hist', bins=10)\n",
    "plt.legend(['smart', 'ultra'])\n",
    "\n",
    "plt.subplot(3, 3, 2).set_title('Размах Минуты смарт')\n",
    "plt.boxplot('minutes', data=smart, vert=False)\n",
    "\n",
    "plt.subplot(3, 3, 3).set_title('Размах Минуты ультра')\n",
    "plt.boxplot('minutes', data=ultra, vert=False)\n",
    "\n",
    "plt.subplot(3, 3, 4).set_title('Сообщения ')\n",
    "smart['messages'].hist(bins=10)\n",
    "ultra['messages'].hist(bins=10)\n",
    "plt.legend(['smart', 'ultra'])\n",
    "\n",
    "plt.subplot(3, 3, 5).set_title('Размах сообщения смарт')\n",
    "plt.boxplot('messages', data=smart, vert=False)\n",
    "\n",
    "plt.subplot(3, 3, 6).set_title('Размах сообщения ультра')\n",
    "plt.boxplot('messages', data=ultra, vert=False)\n",
    "\n",
    "plt.subplot(3, 3, 7).set_title('Интернет')\n",
    "smart['gb'].hist(bins=10)\n",
    "ultra['gb'].hist(bins=10)\n",
    "plt.legend(['smart', 'ultra'])\n",
    "\n",
    "plt.subplot(3, 3, 8).set_title('Размах интернет смарт')\n",
    "plt.boxplot('gb', data=smart, vert=False)\n",
    "\n",
    "plt.subplot(3, 3, 9).set_title('Размах интернет ультра')\n",
    "plt.boxplot('gb', data=ultra, vert=False)\n",
    "\n",
    "plt.show()"
   ]
  },
  {
   "cell_type": "markdown",
   "metadata": {},
   "source": [
    "Распределение минуты ультра скошено в отрицательную сторону. Минуты смарт, Интернет смарт и Интерне ультра имеют нормальное распределение.\n",
    "Видим, что на тарифе ультра используется в среднем больше минут. Но много людей мало разгвоаривают на этом тарифе. На тарифе смарт в оснвном люди тратят от 200 до 400 минут в месяц. На обоих гистограммах по смс видим, что очень многие пользователи отправляют мало смс или не отправляют их вообще. Но на тарифе ультра отправляют больше. На смарте есть пользователи которые практически не пользуются интернетом, а в срднем используют в районе лимита тарифа. На ультра используют интрнет намного больше. В основном от 10 до 30 гб. На всех диаграммах размаха видим, что выбросов очень мало."
   ]
  },
  {
   "cell_type": "markdown",
   "metadata": {},
   "source": [
    "Посчитаем среднее для обоих тарифов, дисперсию и стандартное отклонение"
   ]
  },
  {
   "cell_type": "code",
   "execution_count": 30,
   "metadata": {},
   "outputs": [],
   "source": [
    "def analysis(data):\n",
    "    print('Среднее минуты', data['minutes'].mean())\n",
    "    print('Дисперсия минуты', np.var(data['minutes'], ddof=1))\n",
    "    print('Стандартное отклонение минуты', np.std(data['minutes'], ddof=1))\n",
    "    print('Среднее сообщения', data['messages'].mean())\n",
    "    print('Дисперсия сообщения', np.var(data['messages'], ddof=1))\n",
    "    print('Стандартное отклонение сообщения', np.std(data['messages'], ddof=1))\n",
    "    print('Среднее интернет', data['gb'].mean())\n",
    "    print('Дисперсия интернет', np.var(data['gb'], ddof=1))\n",
    "    print('Стандартное отклонение интернет', np.std(data['gb'], ddof=1))"
   ]
  },
  {
   "cell_type": "code",
   "execution_count": 31,
   "metadata": {},
   "outputs": [
    {
     "name": "stdout",
     "output_type": "stream",
     "text": [
      "Среднее минуты 417.9349484073576\n",
      "Дисперсия минуты 36219.31578434428\n",
      "Стандартное отклонение минуты 190.31372988921288\n",
      "Среднее сообщения 33.384028712427096\n",
      "Дисперсия сообщения 796.8129584480083\n",
      "Стандартное отклонение сообщения 28.22787555676141\n",
      "Среднее интернет 16.328847016599372\n",
      "Дисперсия интернет 33.02870517811161\n",
      "Стандартное отклонение интернет 5.7470605685090534\n"
     ]
    }
   ],
   "source": [
    "analysis(smart)"
   ]
  },
  {
   "cell_type": "code",
   "execution_count": 32,
   "metadata": {},
   "outputs": [
    {
     "name": "stdout",
     "output_type": "stream",
     "text": [
      "Среднее минуты 526.6233502538071\n",
      "Дисперсия минуты 100873.63339730098\n",
      "Стандартное отклонение минуты 317.6060978591264\n",
      "Среднее сообщения 49.36345177664975\n",
      "Дисперсия сообщения 2285.2661425446736\n",
      "Стандартное отклонение сообщения 47.804457350174715\n",
      "Среднее интернет 19.494416243654822\n",
      "Дисперсия интернет 97.09168626965459\n",
      "Стандартное отклонение интернет 9.853511367510293\n"
     ]
    }
   ],
   "source": [
    "analysis(ultra)"
   ]
  },
  {
   "cell_type": "markdown",
   "metadata": {},
   "source": [
    "На тарифе ультра используется в среднем больше минут. Но много людей мало разгвоаривают на этом тарифе. На тарифе смарт в оснвном люди тратят от 200 до 400 минут в месяц. На обоих гистограммах по смс видим, что очень многие пользователи отправляют мало смс или не отправляют их вообще. Но на тарифе ультра отправляют больше. На смарте есть пользователи которые практически не пользуются интернетом, а в срднем используют в районе лимита тарифа. На ультра используют интрнет намного больше. В основном от 10 до 30 гб. На всех диаграммах размаха видим, что выбросов очень мало. Кроме интернета на смарте. Видно, что есть люди, которые практически не пользуются интернетом."
   ]
  },
  {
   "cell_type": "markdown",
   "metadata": {},
   "source": [
    "## Проверка гипотез"
   ]
  },
  {
   "cell_type": "markdown",
   "metadata": {},
   "source": [
    "Выведем гистограммы выручки для обоих тарифов"
   ]
  },
  {
   "cell_type": "code",
   "execution_count": 33,
   "metadata": {},
   "outputs": [
    {
     "name": "stdout",
     "output_type": "stream",
     "text": [
      "Среднее значение Смарт: 1289.9735307312696\n",
      "Среднее значение Ультра: 2070.1522842639592\n"
     ]
    },
    {
     "data": {
      "image/png": "[encoded data removed]",
      "text/plain": [
       "<Figure size 1080x720 with 2 Axes>"
      ]
     },
     "metadata": {
      "needs_background": "light"
     },
     "output_type": "display_data"
    }
   ],
   "source": [
    "s_income = smart['income'].mean()\n",
    "print('Среднее значение Смарт:', s_income)\n",
    "u_income = ultra['income'].mean()\n",
    "print('Среднее значение Ультра:', u_income)\n",
    "fig2 = plt.figure(figsize=(15,10))\n",
    "fig2.suptitle('Выручка по тарифам', fontsize=15)\n",
    "i1 = plt.subplot(2, 1, 1).set_title('Смарт')\n",
    "i1 = smart['income'].hist(bins=20)\n",
    "i2 = plt.subplot(2, 1, 2).set_title('Ультра')\n",
    "i2 = ultra['income'].hist(bins=20)"
   ]
  },
  {
   "cell_type": "markdown",
   "metadata": {},
   "source": [
    "Видим, что среднее значение отличается у двух тарифах. По гистограммам видно, что в основном на смарте плятят до 1000 рублей в месяц, а на ультра около 2000."
   ]
  },
  {
   "cell_type": "markdown",
   "metadata": {},
   "source": [
    "Сравним доходы от тарифов по нулевой гипотезе. Сформулируем ее так: 'Средние выручки от пользователей разных тарифов равны'. Следовательно альтернативная гипотеза будет: 'Средние выручки от пользователей разных тарифов различаются'"
   ]
  },
  {
   "cell_type": "code",
   "execution_count": 34,
   "metadata": {},
   "outputs": [
    {
     "data": {
      "text/plain": [
       "141516.7450786183"
      ]
     },
     "execution_count": 34,
     "metadata": {},
     "output_type": "execute_result"
    }
   ],
   "source": [
    "np.var(ultra['income'], ddof=1)"
   ]
  },
  {
   "cell_type": "code",
   "execution_count": 35,
   "metadata": {},
   "outputs": [
    {
     "data": {
      "text/plain": [
       "669785.7080064242"
      ]
     },
     "execution_count": 35,
     "metadata": {},
     "output_type": "execute_result"
    }
   ],
   "source": [
    "np.var(smart['income'], ddof=1)"
   ]
  },
  {
   "cell_type": "markdown",
   "metadata": {},
   "source": [
    "Дисперсии отличаются, следовательно зададим параметр equal_var=False"
   ]
  },
  {
   "cell_type": "code",
   "execution_count": 36,
   "metadata": {},
   "outputs": [
    {
     "name": "stdout",
     "output_type": "stream",
     "text": [
      "p-value: 4.2606313931076085e-250\n",
      "Отвергаем нулевую гипотезу\n"
     ]
    }
   ],
   "source": [
    "alpha = 0.05\n",
    "results = st.ttest_ind(ultra['income'], smart['income'], equal_var=False)\n",
    "print('p-value:', results.pvalue)\n",
    "if results.pvalue < alpha:\n",
    "    print('Отвергаем нулевую гипотезу')\n",
    "else:\n",
    "    print('Не отвергаем нулевую гипотезу')"
   ]
  },
  {
   "cell_type": "markdown",
   "metadata": {},
   "source": [
    "Нулевая гипотеза отвергнута, следовательно средние выручки от пользователей разных тарифов различаются"
   ]
  },
  {
   "cell_type": "markdown",
   "metadata": {},
   "source": [
    "Теперь проверим средняя выручка пользователей из Москвы отличается от выручки пользователей из других регионов."
   ]
  },
  {
   "cell_type": "markdown",
   "metadata": {},
   "source": [
    "Добавим в нашу таблицу информацию про города пользователей"
   ]
  },
  {
   "cell_type": "code",
   "execution_count": 37,
   "metadata": {},
   "outputs": [],
   "source": [
    "users_month = users_month.merge(users[['user_id', 'city']], on='user_id', how='outer')\n",
    "users_month = users_month.dropna()"
   ]
  },
  {
   "cell_type": "code",
   "execution_count": 38,
   "metadata": {},
   "outputs": [
    {
     "name": "stdout",
     "output_type": "stream",
     "text": [
      "Среднее значение Москва: 1524.9362274298885\n",
      "Среднее значение Другие: 1546.7135842880523\n"
     ]
    },
    {
     "data": {
      "image/png": "[encoded data removed]",
      "text/plain": [
       "<Figure size 1080x720 with 2 Axes>"
      ]
     },
     "metadata": {
      "needs_background": "light"
     },
     "output_type": "display_data"
    }
   ],
   "source": [
    "m_income = users_month.query('city != \"Москва\"')['income'].mean()\n",
    "print('Среднее значение Москва:', m_income)\n",
    "o_income = users_month.query('city == \"Москва\"')['income'].mean()\n",
    "print('Среднее значение Другие:', o_income)\n",
    "fig3 = plt.figure(figsize=(15,10))\n",
    "fig3.suptitle('Выручка по регионам', fontsize=15)\n",
    "m1 = plt.subplot(2, 1, 1).set_title('Москва')\n",
    "m1 = users_month.query('city != \"Москва\"')['income'].hist(bins=10)\n",
    "o2 = plt.subplot(2, 1, 2).set_title('Другие')\n",
    "o2 = users_month.query('city == \"Москва\"')['income'].hist(bins=10)"
   ]
  },
  {
   "cell_type": "markdown",
   "metadata": {},
   "source": [
    "По гистограммам и среднему видим, что разницы практически нет, но проверим это с помощью гипотезы."
   ]
  },
  {
   "cell_type": "markdown",
   "metadata": {},
   "source": [
    "Сформулируем нулевую гипотезу - средние выручки ползователей из Москвы и из других городов равны. Альтернативная - Средние выручки ползователей из Москвы и из других регионов различаются."
   ]
  },
  {
   "cell_type": "code",
   "execution_count": 39,
   "metadata": {},
   "outputs": [
    {
     "name": "stdout",
     "output_type": "stream",
     "text": [
      "p-value:  0.5440152911670224\n",
      "Не отвергаем нулевую гипотезу\n"
     ]
    }
   ],
   "source": [
    "alpha = 0.05\n",
    "results = st.ttest_ind(users_month.query('city != \"Москва\"')['income'], users_month.query('city == \"Москва\"')['income'])\n",
    "print('p-value: ', results.pvalue)\n",
    "if results.pvalue < alpha:\n",
    "    print('Отвергаем нулевую гипотезу')\n",
    "else:\n",
    "    print('Не отвергаем нулевую гипотезу')"
   ]
  },
  {
   "cell_type": "markdown",
   "metadata": {},
   "source": [
    "Нельзя отвергнуть, что средние выручки пользователей из Москвы и из других регионов равны. С вероятностью в 58% различия получаются случайно."
   ]
  },
  {
   "cell_type": "markdown",
   "metadata": {},
   "source": [
    "Теперь посмотрим какой тариф приносит больше денег"
   ]
  },
  {
   "cell_type": "code",
   "execution_count": 40,
   "metadata": {},
   "outputs": [
    {
     "data": {
      "text/plain": [
       "<matplotlib.axes._subplots.AxesSubplot at 0x7f43a820c510>"
      ]
     },
     "execution_count": 40,
     "metadata": {},
     "output_type": "execute_result"
    },
    {
     "data": {
      "image/png": "[encoded data removed]",
      "text/plain": [
       "<Figure size 432x288 with 1 Axes>"
      ]
     },
     "metadata": {
      "needs_background": "light"
     },
     "output_type": "display_data"
    }
   ],
   "source": [
    "users_month.pivot_table(index='tariff_name', values='income', aggfunc='mean').plot(kind='bar')"
   ]
  },
  {
   "cell_type": "markdown",
   "metadata": {},
   "source": [
    "Средний доход от пользователей ултьра больше. Посмотрим на количество измерений на каждом тарифе"
   ]
  },
  {
   "cell_type": "code",
   "execution_count": 41,
   "metadata": {},
   "outputs": [
    {
     "data": {
      "text/plain": [
       "<matplotlib.axes._subplots.AxesSubplot at 0x7f43a817bdd0>"
      ]
     },
     "execution_count": 41,
     "metadata": {},
     "output_type": "execute_result"
    },
    {
     "data": {
      "image/png": "[encoded data removed]",
      "text/plain": [
       "<Figure size 432x288 with 1 Axes>"
      ]
     },
     "metadata": {
      "needs_background": "light"
     },
     "output_type": "display_data"
    }
   ],
   "source": [
    "users_month.pivot_table(index='tariff_name', values='income', aggfunc='count').plot(kind='bar')"
   ]
  },
  {
   "cell_type": "markdown",
   "metadata": {},
   "source": [
    "Пользователей на тарифе смарт в 2 раза больше. Теперь посмотрим общую прибуль на каждом тарифе"
   ]
  },
  {
   "cell_type": "code",
   "execution_count": 42,
   "metadata": {},
   "outputs": [
    {
     "data": {
      "text/plain": [
       "<matplotlib.axes._subplots.AxesSubplot at 0x7f43a81573d0>"
      ]
     },
     "execution_count": 42,
     "metadata": {},
     "output_type": "execute_result"
    },
    {
     "data": {
      "image/png": "[encoded data removed]",
      "text/plain": [
       "<Figure size 432x288 with 1 Axes>"
      ]
     },
     "metadata": {
      "needs_background": "light"
     },
     "output_type": "display_data"
    }
   ],
   "source": [
    "users_month.pivot_table(index='tariff_name', values='income', aggfunc='sum').plot(kind='bar')"
   ]
  },
  {
   "cell_type": "markdown",
   "metadata": {},
   "source": [
    "Видим, что хоть средний доход на тарифе ультра больше, но за счет того, что на тарифе смарт намного больше ползователей, этот тариф приносит больше прибыли. Но так как средний доход с тарифа ультра больше, нужно вложиться в его рекламу."
   ]
  },
  {
   "cell_type": "code",
   "execution_count": 43,
   "metadata": {},
   "outputs": [
    {
     "data": {
      "text/plain": [
       "141373.07325620347"
      ]
     },
     "execution_count": 43,
     "metadata": {},
     "output_type": "execute_result"
    }
   ],
   "source": [
    "np.var(ultra['income'])"
   ]
  },
  {
   "cell_type": "code",
   "execution_count": 44,
   "metadata": {},
   "outputs": [
    {
     "data": {
      "text/plain": [
       "669485.2209234245"
      ]
     },
     "execution_count": 44,
     "metadata": {},
     "output_type": "execute_result"
    }
   ],
   "source": [
    "np.var(smart['income'])"
   ]
  },
  {
   "cell_type": "markdown",
   "metadata": {},
   "source": [
    "Сформиурем нулевую гипотезу - доход с тарифиов не различается. Альтернативная - Доход на тарифе ултьра больше, чем на тарифе смарт"
   ]
  },
  {
   "cell_type": "code",
   "execution_count": 45,
   "metadata": {},
   "outputs": [
    {
     "name": "stdout",
     "output_type": "stream",
     "text": [
      "p-value:  4.2606313931076085e-250\n",
      "Отвергаем нулевую гипотезу\n"
     ]
    }
   ],
   "source": [
    "alpha = 0.05\n",
    "results = st.ttest_ind(smart['income'], ultra['income'], equal_var=False)\n",
    "print('p-value: ', results.pvalue)\n",
    "if (results.pvalue / 2 < alpha) and (ultra['income'].mean() > smart['income'].mean()):\n",
    "    print('Отвергаем нулевую гипотезу')\n",
    "else:\n",
    "    print('Не отвергаем нулевую гипотезу')"
   ]
  },
  {
   "cell_type": "markdown",
   "metadata": {},
   "source": [
    "Нулевая гипотеза отвергнута, следовательно на тарифе ультра доход больше"
   ]
  },
  {
   "cell_type": "markdown",
   "metadata": {},
   "source": [
    "## Вывод"
   ]
  },
  {
   "cell_type": "markdown",
   "metadata": {},
   "source": [
    "В целом нам предоставили хорошие данные. Построив гистограммы  по расходу на разных тарифах в месяц можно сделать выводы, что распределение минуты ультра скошено в отрицательную сторону. Минуты смарт, Интернет смарт и Интерне ультра имеют нормальное распределение. Видим, что на тарифе ультра используется в среднем больше минут. Но много людей мало разгвоаривают на этом тарифе. На тарифе смарт в оснвном люди тратят от 200 до 400 минут в месяц. На обоих гистограммах по смс видим, что очень многие пользователи отправляют мало смс или не отправляют их вообще. Но на тарифе ультра отправляют больше. На смарте есть пользователи которые практически не пользуются интернетом, а в среднем используют в районе лимита тарифа. На ультра используют интрнет намного больше. В основном от 10 до 30 гб. Проверив нулевую гипотезу установии, что средние выручки от пользователей разных тарифов различаются и нельзя отвергнуть, что средние выручки ползователей из Москвы и из других регионов равны. С вероятностью в 58% различия получаются случайно. Хоть средний доход на тарифе ультра больше, но за счет того, что на тарифе смарт намного больше ползователей, этот тариф приносит больше прибыли. Но так как средний доход с тарифа ультра больше, нужно вложиться в его рекламу."
   ]
  }
 ],
 "metadata": {
  "ExecuteTimeLog": [
   {
    "duration": 258,
    "start_time": "2021-08-17T16:22:22.082Z"
   },
   {
    "duration": 225,
    "start_time": "2021-08-17T16:22:23.051Z"
   },
   {
    "duration": 515,
    "start_time": "2021-08-17T16:22:30.537Z"
   },
   {
    "duration": 131,
    "start_time": "2021-08-17T16:22:32.475Z"
   },
   {
    "duration": 145,
    "start_time": "2021-08-17T16:22:42.216Z"
   },
   {
    "duration": 114,
    "start_time": "2021-08-17T16:24:50.026Z"
   },
   {
    "duration": 80,
    "start_time": "2021-08-17T16:24:51.596Z"
   },
   {
    "duration": 20,
    "start_time": "2021-08-17T16:24:53.805Z"
   },
   {
    "duration": 32,
    "start_time": "2021-08-17T16:24:54.970Z"
   },
   {
    "duration": 147,
    "start_time": "2021-08-17T16:27:02.979Z"
   },
   {
    "duration": 125,
    "start_time": "2021-08-17T16:27:22.920Z"
   },
   {
    "duration": 92,
    "start_time": "2021-08-17T16:27:34.398Z"
   },
   {
    "duration": 19,
    "start_time": "2021-08-17T16:27:44.695Z"
   },
   {
    "duration": 19,
    "start_time": "2021-08-17T16:27:52.167Z"
   },
   {
    "duration": 28,
    "start_time": "2021-08-17T16:28:04.655Z"
   },
   {
    "duration": 161,
    "start_time": "2021-08-17T16:30:05.932Z"
   },
   {
    "duration": 150,
    "start_time": "2021-08-17T16:30:20.588Z"
   },
   {
    "duration": 98,
    "start_time": "2021-08-17T16:30:30.745Z"
   },
   {
    "duration": 21,
    "start_time": "2021-08-17T16:30:43.893Z"
   },
   {
    "duration": 31,
    "start_time": "2021-08-17T16:30:52.932Z"
   },
   {
    "duration": 27,
    "start_time": "2021-08-17T16:37:53.882Z"
   },
   {
    "duration": 149,
    "start_time": "2021-08-17T16:46:17.990Z"
   },
   {
    "duration": 37,
    "start_time": "2021-08-17T16:46:34.537Z"
   },
   {
    "duration": 8,
    "start_time": "2021-08-17T16:46:42.019Z"
   },
   {
    "duration": 21,
    "start_time": "2021-08-17T16:47:53.436Z"
   },
   {
    "duration": 24,
    "start_time": "2021-08-17T16:49:04.211Z"
   },
   {
    "duration": 15,
    "start_time": "2021-08-17T16:51:07.147Z"
   },
   {
    "duration": 17,
    "start_time": "2021-08-17T16:51:17.715Z"
   },
   {
    "duration": 14,
    "start_time": "2021-08-17T16:51:25.944Z"
   },
   {
    "duration": 32,
    "start_time": "2021-08-17T16:54:35.413Z"
   },
   {
    "duration": 5,
    "start_time": "2021-08-17T16:55:41.331Z"
   },
   {
    "duration": 6,
    "start_time": "2021-08-17T16:57:03.776Z"
   },
   {
    "duration": 4,
    "start_time": "2021-08-17T16:57:15.360Z"
   },
   {
    "duration": 3,
    "start_time": "2021-08-17T16:58:19.107Z"
   },
   {
    "duration": 8,
    "start_time": "2021-08-17T17:15:26.354Z"
   },
   {
    "duration": 250,
    "start_time": "2021-08-17T17:19:52.695Z"
   },
   {
    "duration": 252,
    "start_time": "2021-08-17T17:20:26.570Z"
   },
   {
    "duration": 227,
    "start_time": "2021-08-17T17:23:03.129Z"
   },
   {
    "duration": 237,
    "start_time": "2021-08-17T17:25:13.768Z"
   },
   {
    "duration": 222,
    "start_time": "2021-08-17T17:25:19.407Z"
   },
   {
    "duration": 20,
    "start_time": "2021-08-17T17:26:58.881Z"
   },
   {
    "duration": 9,
    "start_time": "2021-08-17T17:27:05.515Z"
   },
   {
    "duration": 258,
    "start_time": "2021-08-17T17:30:10.670Z"
   },
   {
    "duration": 25,
    "start_time": "2021-08-17T17:30:16.160Z"
   },
   {
    "duration": 8,
    "start_time": "2021-08-17T17:30:28.441Z"
   },
   {
    "duration": 4,
    "start_time": "2021-08-17T17:30:43.035Z"
   },
   {
    "duration": 5,
    "start_time": "2021-08-17T17:30:49.484Z"
   },
   {
    "duration": 40,
    "start_time": "2021-08-17T17:37:49.622Z"
   },
   {
    "duration": 5,
    "start_time": "2021-08-17T17:37:53.698Z"
   },
   {
    "duration": 24,
    "start_time": "2021-08-17T17:38:25.019Z"
   },
   {
    "duration": 6,
    "start_time": "2021-08-17T17:38:26.605Z"
   },
   {
    "duration": 304,
    "start_time": "2021-08-17T17:39:32.524Z"
   },
   {
    "duration": 269,
    "start_time": "2021-08-17T17:39:40.131Z"
   },
   {
    "duration": 6,
    "start_time": "2021-08-17T17:39:47.342Z"
   },
   {
    "duration": 227,
    "start_time": "2021-08-17T17:39:51.889Z"
   },
   {
    "duration": 74,
    "start_time": "2021-08-17T17:41:00.456Z"
   },
   {
    "duration": 30,
    "start_time": "2021-08-17T17:41:10.285Z"
   },
   {
    "duration": 5,
    "start_time": "2021-08-17T17:41:11.601Z"
   },
   {
    "duration": 28,
    "start_time": "2021-08-17T17:42:37.752Z"
   },
   {
    "duration": 6,
    "start_time": "2021-08-17T17:42:38.823Z"
   },
   {
    "duration": 21,
    "start_time": "2021-08-17T17:43:36.302Z"
   },
   {
    "duration": 23,
    "start_time": "2021-08-17T17:43:37.349Z"
   },
   {
    "duration": 6,
    "start_time": "2021-08-17T17:43:38.001Z"
   },
   {
    "duration": 14,
    "start_time": "2021-08-17T17:44:26.570Z"
   },
   {
    "duration": 30,
    "start_time": "2021-08-17T17:45:03.265Z"
   },
   {
    "duration": 22,
    "start_time": "2021-08-17T17:45:05.442Z"
   },
   {
    "duration": 31,
    "start_time": "2021-08-17T17:45:05.929Z"
   },
   {
    "duration": 6,
    "start_time": "2021-08-17T17:45:06.616Z"
   },
   {
    "duration": 229,
    "start_time": "2021-08-17T17:45:24.787Z"
   },
   {
    "duration": 362,
    "start_time": "2021-08-17T17:46:01.300Z"
   },
   {
    "duration": 7,
    "start_time": "2021-08-17T17:46:03.158Z"
   },
   {
    "duration": 7,
    "start_time": "2021-08-17T17:46:38.925Z"
   },
   {
    "duration": 29,
    "start_time": "2021-08-17T17:46:42.777Z"
   },
   {
    "duration": 5,
    "start_time": "2021-08-17T17:46:43.641Z"
   },
   {
    "duration": 17,
    "start_time": "2021-08-17T17:47:07.695Z"
   },
   {
    "duration": 27,
    "start_time": "2021-08-17T17:47:08.293Z"
   },
   {
    "duration": 16,
    "start_time": "2021-08-17T17:49:25.407Z"
   },
   {
    "duration": 22,
    "start_time": "2021-08-17T17:50:02.184Z"
   },
   {
    "duration": 20,
    "start_time": "2021-08-17T17:50:13.100Z"
   },
   {
    "duration": 17,
    "start_time": "2021-08-17T17:50:22.041Z"
   },
   {
    "duration": 15,
    "start_time": "2021-08-17T17:52:44.294Z"
   },
   {
    "duration": 26,
    "start_time": "2021-08-17T17:53:08.970Z"
   },
   {
    "duration": 256,
    "start_time": "2021-08-17T17:56:54.214Z"
   },
   {
    "duration": 226,
    "start_time": "2021-08-17T17:57:05.849Z"
   },
   {
    "duration": 232,
    "start_time": "2021-08-17T17:57:15.700Z"
   },
   {
    "duration": 250,
    "start_time": "2021-08-17T17:57:24.685Z"
   },
   {
    "duration": 74,
    "start_time": "2021-08-17T17:57:32.702Z"
   },
   {
    "duration": 15,
    "start_time": "2021-08-17T17:57:38.556Z"
   },
   {
    "duration": 32,
    "start_time": "2021-08-17T17:58:07.374Z"
   },
   {
    "duration": 14,
    "start_time": "2021-08-17T17:59:25.899Z"
   },
   {
    "duration": 14,
    "start_time": "2021-08-17T17:59:45.496Z"
   },
   {
    "duration": 22,
    "start_time": "2021-08-17T18:00:00.494Z"
   },
   {
    "duration": 220,
    "start_time": "2021-08-17T18:01:55.508Z"
   },
   {
    "duration": 22,
    "start_time": "2021-08-17T18:02:10.926Z"
   },
   {
    "duration": 28,
    "start_time": "2021-08-17T18:02:50.329Z"
   },
   {
    "duration": 25,
    "start_time": "2021-08-17T18:03:00.104Z"
   },
   {
    "duration": 15,
    "start_time": "2021-08-17T18:08:00.595Z"
   },
   {
    "duration": 23,
    "start_time": "2021-08-17T18:08:05.151Z"
   },
   {
    "duration": 23,
    "start_time": "2021-08-17T18:08:25.192Z"
   },
   {
    "duration": 21,
    "start_time": "2021-08-17T18:08:31.260Z"
   },
   {
    "duration": 24,
    "start_time": "2021-08-17T18:12:30.371Z"
   },
   {
    "duration": 21,
    "start_time": "2021-08-17T18:15:34.319Z"
   },
   {
    "duration": 22,
    "start_time": "2021-08-17T18:17:53.377Z"
   },
   {
    "duration": 25,
    "start_time": "2021-08-17T18:19:51.868Z"
   },
   {
    "duration": 23,
    "start_time": "2021-08-17T18:20:05.463Z"
   },
   {
    "duration": 34,
    "start_time": "2021-08-17T18:22:28.961Z"
   },
   {
    "duration": 25,
    "start_time": "2021-08-17T18:22:45.439Z"
   },
   {
    "duration": 5,
    "start_time": "2021-08-17T18:22:47.949Z"
   },
   {
    "duration": 27,
    "start_time": "2021-08-17T18:23:03.444Z"
   },
   {
    "duration": 18,
    "start_time": "2021-08-17T18:23:13.138Z"
   },
   {
    "duration": 1203,
    "start_time": "2021-08-17T18:23:16.780Z"
   },
   {
    "duration": 16,
    "start_time": "2021-08-17T18:23:35.548Z"
   },
   {
    "duration": 268,
    "start_time": "2021-08-17T18:24:00.457Z"
   },
   {
    "duration": 281,
    "start_time": "2021-08-17T18:24:07.549Z"
   },
   {
    "duration": 20,
    "start_time": "2021-08-17T18:24:17.307Z"
   },
   {
    "duration": 948,
    "start_time": "2021-08-17T18:24:20.019Z"
   },
   {
    "duration": 21,
    "start_time": "2021-08-17T18:24:36.866Z"
   },
   {
    "duration": 21,
    "start_time": "2021-08-17T18:25:03.925Z"
   },
   {
    "duration": 21,
    "start_time": "2021-08-17T18:26:21.530Z"
   },
   {
    "duration": 13,
    "start_time": "2021-08-17T18:26:34.148Z"
   },
   {
    "duration": 13,
    "start_time": "2021-08-17T18:26:37.844Z"
   },
   {
    "duration": 14,
    "start_time": "2021-08-17T18:26:46.982Z"
   },
   {
    "duration": 15,
    "start_time": "2021-08-17T18:26:53.957Z"
   },
   {
    "duration": 13,
    "start_time": "2021-08-17T18:27:02.108Z"
   },
   {
    "duration": 71,
    "start_time": "2021-08-17T18:27:23.642Z"
   },
   {
    "duration": 19,
    "start_time": "2021-08-17T18:28:38.869Z"
   },
   {
    "duration": 14,
    "start_time": "2021-08-17T18:28:46.054Z"
   },
   {
    "duration": 5773,
    "start_time": "2021-08-17T18:28:51.957Z"
   },
   {
    "duration": 15,
    "start_time": "2021-08-17T18:28:59.833Z"
   },
   {
    "duration": 15,
    "start_time": "2021-08-17T18:29:05.519Z"
   },
   {
    "duration": 19,
    "start_time": "2021-08-17T18:29:32.709Z"
   },
   {
    "duration": 4,
    "start_time": "2021-08-17T18:31:25.387Z"
   },
   {
    "duration": 9,
    "start_time": "2021-08-17T18:31:34.564Z"
   },
   {
    "duration": 4,
    "start_time": "2021-08-17T18:31:40.839Z"
   },
   {
    "duration": 22,
    "start_time": "2021-08-17T18:34:21.865Z"
   },
   {
    "duration": 231,
    "start_time": "2021-08-17T18:35:44.337Z"
   },
   {
    "duration": 237,
    "start_time": "2021-08-17T18:35:50.767Z"
   },
   {
    "duration": 230,
    "start_time": "2021-08-17T18:36:35.783Z"
   },
   {
    "duration": 5,
    "start_time": "2021-08-17T18:38:17.683Z"
   },
   {
    "duration": 4,
    "start_time": "2021-08-17T18:38:25.348Z"
   },
   {
    "duration": 4,
    "start_time": "2021-08-17T18:38:27.263Z"
   },
   {
    "duration": 4,
    "start_time": "2021-08-17T18:38:55.132Z"
   },
   {
    "duration": 267,
    "start_time": "2021-08-17T18:42:27.788Z"
   },
   {
    "duration": 222,
    "start_time": "2021-08-17T18:43:05.249Z"
   },
   {
    "duration": 226,
    "start_time": "2021-08-17T18:43:16.849Z"
   },
   {
    "duration": 3,
    "start_time": "2021-08-17T18:43:22.946Z"
   },
   {
    "duration": 152,
    "start_time": "2021-08-17T18:43:22.964Z"
   },
   {
    "duration": 137,
    "start_time": "2021-08-17T18:43:23.118Z"
   },
   {
    "duration": 90,
    "start_time": "2021-08-17T18:43:23.258Z"
   },
   {
    "duration": 22,
    "start_time": "2021-08-17T18:43:23.351Z"
   },
   {
    "duration": 32,
    "start_time": "2021-08-17T18:43:23.375Z"
   },
   {
    "duration": 2,
    "start_time": "2021-08-17T18:43:23.409Z"
   },
   {
    "duration": 6,
    "start_time": "2021-08-17T18:43:23.413Z"
   },
   {
    "duration": 60,
    "start_time": "2021-08-17T18:43:23.421Z"
   },
   {
    "duration": 24,
    "start_time": "2021-08-17T18:43:23.483Z"
   },
   {
    "duration": 30,
    "start_time": "2021-08-17T18:43:23.509Z"
   },
   {
    "duration": 5,
    "start_time": "2021-08-17T18:43:23.540Z"
   },
   {
    "duration": 17,
    "start_time": "2021-08-17T18:43:23.546Z"
   },
   {
    "duration": 46,
    "start_time": "2021-08-17T18:43:23.564Z"
   },
   {
    "duration": 16,
    "start_time": "2021-08-17T18:43:23.612Z"
   },
   {
    "duration": 20,
    "start_time": "2021-08-17T18:43:23.630Z"
   },
   {
    "duration": 41,
    "start_time": "2021-08-17T18:43:23.651Z"
   },
   {
    "duration": 3,
    "start_time": "2021-08-17T18:43:23.693Z"
   },
   {
    "duration": 5,
    "start_time": "2021-08-17T18:43:31.877Z"
   },
   {
    "duration": 238,
    "start_time": "2021-08-17T18:43:33.533Z"
   },
   {
    "duration": 264,
    "start_time": "2021-08-17T18:46:46.764Z"
   },
   {
    "duration": 21,
    "start_time": "2021-08-17T18:47:01.850Z"
   },
   {
    "duration": 4,
    "start_time": "2021-08-17T18:47:04.863Z"
   },
   {
    "duration": 4,
    "start_time": "2021-08-17T18:47:05.631Z"
   },
   {
    "duration": 390,
    "start_time": "2021-08-17T18:47:06.327Z"
   },
   {
    "duration": 17,
    "start_time": "2021-08-17T18:47:21.722Z"
   },
   {
    "duration": 16,
    "start_time": "2021-08-17T18:47:27.762Z"
   },
   {
    "duration": 3927,
    "start_time": "2021-08-17T18:48:41.751Z"
   },
   {
    "duration": 4,
    "start_time": "2021-08-17T18:48:52.215Z"
   },
   {
    "duration": 5,
    "start_time": "2021-08-17T18:48:56.839Z"
   },
   {
    "duration": 4,
    "start_time": "2021-08-17T18:49:28.017Z"
   },
   {
    "duration": 5,
    "start_time": "2021-08-17T18:49:55.730Z"
   },
   {
    "duration": 5672,
    "start_time": "2021-08-17T18:50:54.210Z"
   },
   {
    "duration": 8,
    "start_time": "2021-08-17T18:51:16.550Z"
   },
   {
    "duration": 1041,
    "start_time": "2021-08-17T18:52:04.227Z"
   },
   {
    "duration": 25,
    "start_time": "2021-08-17T18:52:19.042Z"
   },
   {
    "duration": 4,
    "start_time": "2021-08-17T18:52:31.066Z"
   },
   {
    "duration": 4,
    "start_time": "2021-08-17T18:52:32.074Z"
   },
   {
    "duration": 7,
    "start_time": "2021-08-17T18:52:33.226Z"
   },
   {
    "duration": 25,
    "start_time": "2021-08-17T19:03:03.344Z"
   },
   {
    "duration": 4,
    "start_time": "2021-08-17T19:03:06.668Z"
   },
   {
    "duration": 4,
    "start_time": "2021-08-17T19:03:09.226Z"
   },
   {
    "duration": 20,
    "start_time": "2021-08-17T19:03:10.684Z"
   },
   {
    "duration": 6171,
    "start_time": "2021-08-17T19:11:45.067Z"
   },
   {
    "duration": 21,
    "start_time": "2021-08-17T19:12:07.245Z"
   },
   {
    "duration": 5690,
    "start_time": "2021-08-17T19:12:08.720Z"
   },
   {
    "duration": 3,
    "start_time": "2021-08-17T19:14:05.114Z"
   },
   {
    "duration": 150,
    "start_time": "2021-08-17T19:14:05.118Z"
   },
   {
    "duration": 126,
    "start_time": "2021-08-17T19:14:05.269Z"
   },
   {
    "duration": 89,
    "start_time": "2021-08-17T19:14:05.397Z"
   },
   {
    "duration": 19,
    "start_time": "2021-08-17T19:14:05.488Z"
   },
   {
    "duration": 39,
    "start_time": "2021-08-17T19:14:05.508Z"
   },
   {
    "duration": 4,
    "start_time": "2021-08-17T19:14:05.549Z"
   },
   {
    "duration": 8,
    "start_time": "2021-08-17T19:14:05.554Z"
   },
   {
    "duration": 61,
    "start_time": "2021-08-17T19:14:11.666Z"
   },
   {
    "duration": 313,
    "start_time": "2021-08-17T19:14:13.529Z"
   },
   {
    "duration": 7,
    "start_time": "2021-08-17T19:14:21.702Z"
   },
   {
    "duration": 20,
    "start_time": "2021-08-17T19:14:24.468Z"
   },
   {
    "duration": 29,
    "start_time": "2021-08-17T19:14:25.861Z"
   },
   {
    "duration": 6,
    "start_time": "2021-08-17T19:14:26.591Z"
   },
   {
    "duration": 14,
    "start_time": "2021-08-17T19:14:29.734Z"
   },
   {
    "duration": 26,
    "start_time": "2021-08-17T19:14:30.374Z"
   },
   {
    "duration": 17,
    "start_time": "2021-08-17T19:14:32.723Z"
   },
   {
    "duration": 26,
    "start_time": "2021-08-17T19:14:33.333Z"
   },
   {
    "duration": 27,
    "start_time": "2021-08-17T19:14:37.392Z"
   },
   {
    "duration": 5,
    "start_time": "2021-08-17T19:14:41.843Z"
   },
   {
    "duration": 4,
    "start_time": "2021-08-17T19:14:43.800Z"
   },
   {
    "duration": 21,
    "start_time": "2021-08-17T19:14:46.029Z"
   },
   {
    "duration": 4,
    "start_time": "2021-08-17T19:16:24.161Z"
   },
   {
    "duration": 3,
    "start_time": "2021-08-17T19:16:39.342Z"
   },
   {
    "duration": 470,
    "start_time": "2021-08-17T19:18:00.350Z"
   },
   {
    "duration": 4,
    "start_time": "2021-08-17T19:18:37.260Z"
   },
   {
    "duration": 3197,
    "start_time": "2021-08-17T19:18:38.619Z"
   },
   {
    "duration": 23,
    "start_time": "2021-08-17T19:20:16.325Z"
   },
   {
    "duration": 2,
    "start_time": "2021-08-17T19:20:28.522Z"
   },
   {
    "duration": 148,
    "start_time": "2021-08-17T19:20:28.528Z"
   },
   {
    "duration": 126,
    "start_time": "2021-08-17T19:20:28.677Z"
   },
   {
    "duration": 90,
    "start_time": "2021-08-17T19:20:28.805Z"
   },
   {
    "duration": 20,
    "start_time": "2021-08-17T19:20:28.897Z"
   },
   {
    "duration": 33,
    "start_time": "2021-08-17T19:20:28.918Z"
   },
   {
    "duration": 3,
    "start_time": "2021-08-17T19:20:28.953Z"
   },
   {
    "duration": 7,
    "start_time": "2021-08-17T19:20:28.957Z"
   },
   {
    "duration": 63,
    "start_time": "2021-08-17T19:20:28.966Z"
   },
   {
    "duration": 3,
    "start_time": "2021-08-17T19:20:29.031Z"
   },
   {
    "duration": 23,
    "start_time": "2021-08-17T19:20:29.035Z"
   },
   {
    "duration": 31,
    "start_time": "2021-08-17T19:20:29.060Z"
   },
   {
    "duration": 4,
    "start_time": "2021-08-17T19:20:29.093Z"
   },
   {
    "duration": 16,
    "start_time": "2021-08-17T19:20:29.099Z"
   },
   {
    "duration": 24,
    "start_time": "2021-08-17T19:20:29.116Z"
   },
   {
    "duration": 15,
    "start_time": "2021-08-17T19:20:29.141Z"
   },
   {
    "duration": 44,
    "start_time": "2021-08-17T19:20:29.157Z"
   },
   {
    "duration": 25,
    "start_time": "2021-08-17T19:20:29.203Z"
   },
   {
    "duration": 3,
    "start_time": "2021-08-17T19:20:29.229Z"
   },
   {
    "duration": 5,
    "start_time": "2021-08-17T19:20:29.234Z"
   },
   {
    "duration": 21,
    "start_time": "2021-08-17T19:20:36.720Z"
   },
   {
    "duration": 4,
    "start_time": "2021-08-17T19:20:41.409Z"
   },
   {
    "duration": 3186,
    "start_time": "2021-08-17T19:20:54.648Z"
   },
   {
    "duration": 24,
    "start_time": "2021-08-17T19:22:35.822Z"
   },
   {
    "duration": 3,
    "start_time": "2021-08-17T19:22:37.967Z"
   },
   {
    "duration": 3407,
    "start_time": "2021-08-17T19:22:39.000Z"
   },
   {
    "duration": 22,
    "start_time": "2021-08-17T19:22:54.951Z"
   },
   {
    "duration": 4,
    "start_time": "2021-08-17T19:22:57.242Z"
   },
   {
    "duration": 8,
    "start_time": "2021-08-17T19:24:51.493Z"
   },
   {
    "duration": 7,
    "start_time": "2021-08-17T19:24:54.433Z"
   },
   {
    "duration": 3,
    "start_time": "2021-08-17T19:24:58.030Z"
   },
   {
    "duration": 3309,
    "start_time": "2021-08-17T19:25:02.708Z"
   },
   {
    "duration": 23,
    "start_time": "2021-08-17T19:25:35.940Z"
   },
   {
    "duration": 2,
    "start_time": "2021-08-17T19:25:51.244Z"
   },
   {
    "duration": 152,
    "start_time": "2021-08-17T19:25:51.247Z"
   },
   {
    "duration": 126,
    "start_time": "2021-08-17T19:25:51.401Z"
   },
   {
    "duration": 88,
    "start_time": "2021-08-17T19:25:51.529Z"
   },
   {
    "duration": 21,
    "start_time": "2021-08-17T19:25:51.618Z"
   },
   {
    "duration": 37,
    "start_time": "2021-08-17T19:25:51.640Z"
   },
   {
    "duration": 3,
    "start_time": "2021-08-17T19:25:51.679Z"
   },
   {
    "duration": 9,
    "start_time": "2021-08-17T19:25:51.684Z"
   },
   {
    "duration": 77,
    "start_time": "2021-08-17T19:25:51.694Z"
   },
   {
    "duration": 5,
    "start_time": "2021-08-17T19:25:51.772Z"
   },
   {
    "duration": 27,
    "start_time": "2021-08-17T19:25:51.778Z"
   },
   {
    "duration": 26,
    "start_time": "2021-08-17T19:25:51.806Z"
   },
   {
    "duration": 6,
    "start_time": "2021-08-17T19:25:51.834Z"
   },
   {
    "duration": 22,
    "start_time": "2021-08-17T19:25:51.842Z"
   },
   {
    "duration": 40,
    "start_time": "2021-08-17T19:25:51.865Z"
   },
   {
    "duration": 16,
    "start_time": "2021-08-17T19:25:51.907Z"
   },
   {
    "duration": 22,
    "start_time": "2021-08-17T19:25:51.925Z"
   },
   {
    "duration": 51,
    "start_time": "2021-08-17T19:25:51.949Z"
   },
   {
    "duration": 4,
    "start_time": "2021-08-17T19:25:52.003Z"
   },
   {
    "duration": 4,
    "start_time": "2021-08-17T19:25:55.791Z"
   },
   {
    "duration": 16,
    "start_time": "2021-08-17T19:25:56.872Z"
   },
   {
    "duration": 4,
    "start_time": "2021-08-17T19:26:11.672Z"
   },
   {
    "duration": 3327,
    "start_time": "2021-08-17T19:26:13.165Z"
   },
   {
    "duration": 4,
    "start_time": "2021-08-17T19:27:50.889Z"
   },
   {
    "duration": 700,
    "start_time": "2021-08-18T16:37:34.503Z"
   },
   {
    "duration": 179,
    "start_time": "2021-08-18T16:37:35.205Z"
   },
   {
    "duration": 147,
    "start_time": "2021-08-18T16:37:35.386Z"
   },
   {
    "duration": 110,
    "start_time": "2021-08-18T16:37:35.535Z"
   },
   {
    "duration": 23,
    "start_time": "2021-08-18T16:37:35.646Z"
   },
   {
    "duration": 44,
    "start_time": "2021-08-18T16:37:35.670Z"
   },
   {
    "duration": 4,
    "start_time": "2021-08-18T16:37:35.715Z"
   },
   {
    "duration": 11,
    "start_time": "2021-08-18T16:37:35.721Z"
   },
   {
    "duration": 77,
    "start_time": "2021-08-18T16:37:35.735Z"
   },
   {
    "duration": 8,
    "start_time": "2021-08-18T16:37:35.814Z"
   },
   {
    "duration": 28,
    "start_time": "2021-08-18T16:37:35.823Z"
   },
   {
    "duration": 38,
    "start_time": "2021-08-18T16:37:35.852Z"
   },
   {
    "duration": 5,
    "start_time": "2021-08-18T16:37:35.892Z"
   },
   {
    "duration": 26,
    "start_time": "2021-08-18T16:37:35.899Z"
   },
   {
    "duration": 30,
    "start_time": "2021-08-18T16:37:35.941Z"
   },
   {
    "duration": 19,
    "start_time": "2021-08-18T16:37:35.973Z"
   },
   {
    "duration": 48,
    "start_time": "2021-08-18T16:37:35.993Z"
   },
   {
    "duration": 37,
    "start_time": "2021-08-18T16:37:36.043Z"
   },
   {
    "duration": 4,
    "start_time": "2021-08-18T16:37:36.082Z"
   },
   {
    "duration": 14,
    "start_time": "2021-08-18T16:37:36.087Z"
   },
   {
    "duration": 24,
    "start_time": "2021-08-18T16:37:36.103Z"
   },
   {
    "duration": 4,
    "start_time": "2021-08-18T16:37:41.840Z"
   },
   {
    "duration": 4,
    "start_time": "2021-08-18T16:37:47.938Z"
   },
   {
    "duration": 3826,
    "start_time": "2021-08-18T16:37:53.351Z"
   },
   {
    "duration": 8,
    "start_time": "2021-08-18T16:39:11.872Z"
   },
   {
    "duration": 5,
    "start_time": "2021-08-18T16:45:23.590Z"
   },
   {
    "duration": 4107,
    "start_time": "2021-08-18T16:45:25.569Z"
   },
   {
    "duration": 521,
    "start_time": "2021-08-18T16:50:22.366Z"
   },
   {
    "duration": 3689,
    "start_time": "2021-08-18T16:50:47.794Z"
   },
   {
    "duration": 463,
    "start_time": "2021-08-18T16:51:28.429Z"
   },
   {
    "duration": 761,
    "start_time": "2021-08-18T16:52:19.365Z"
   },
   {
    "duration": 527,
    "start_time": "2021-08-18T16:52:33.705Z"
   },
   {
    "duration": 7,
    "start_time": "2021-08-18T16:55:15.924Z"
   },
   {
    "duration": 207,
    "start_time": "2021-08-18T16:55:17.567Z"
   },
   {
    "duration": 201,
    "start_time": "2021-08-18T16:55:22.044Z"
   },
   {
    "duration": 15,
    "start_time": "2021-08-18T16:55:54.860Z"
   },
   {
    "duration": 3982,
    "start_time": "2021-08-18T16:56:09.176Z"
   },
   {
    "duration": 216,
    "start_time": "2021-08-18T16:56:20.701Z"
   },
   {
    "duration": 5,
    "start_time": "2021-08-18T16:59:26.309Z"
   },
   {
    "duration": 216,
    "start_time": "2021-08-18T16:59:28.022Z"
   },
   {
    "duration": 21,
    "start_time": "2021-08-18T16:59:29.352Z"
   },
   {
    "duration": 4,
    "start_time": "2021-08-18T17:03:44.236Z"
   },
   {
    "duration": 174,
    "start_time": "2021-08-18T17:03:46.395Z"
   },
   {
    "duration": 18,
    "start_time": "2021-08-18T17:03:47.633Z"
   },
   {
    "duration": 9,
    "start_time": "2021-08-18T17:04:20.337Z"
   },
   {
    "duration": 25,
    "start_time": "2021-08-18T17:04:40.342Z"
   },
   {
    "duration": 20,
    "start_time": "2021-08-18T17:04:52.801Z"
   },
   {
    "duration": 32,
    "start_time": "2021-08-18T17:05:11.959Z"
   },
   {
    "duration": 13,
    "start_time": "2021-08-18T17:05:37.998Z"
   },
   {
    "duration": 24,
    "start_time": "2021-08-18T17:08:31.867Z"
   },
   {
    "duration": 20,
    "start_time": "2021-08-18T17:08:47.649Z"
   },
   {
    "duration": 19,
    "start_time": "2021-08-18T17:09:02.920Z"
   },
   {
    "duration": 21,
    "start_time": "2021-08-18T17:10:55.954Z"
   },
   {
    "duration": 19,
    "start_time": "2021-08-18T17:11:30.485Z"
   },
   {
    "duration": 21,
    "start_time": "2021-08-18T17:11:42.949Z"
   },
   {
    "duration": 84,
    "start_time": "2021-08-18T17:18:42.844Z"
   },
   {
    "duration": 277,
    "start_time": "2021-08-18T17:20:56.871Z"
   },
   {
    "duration": 10,
    "start_time": "2021-08-18T17:21:04.348Z"
   },
   {
    "duration": 269,
    "start_time": "2021-08-18T17:23:05.513Z"
   },
   {
    "duration": 29,
    "start_time": "2021-08-18T17:23:29.445Z"
   },
   {
    "duration": 1991,
    "start_time": "2021-08-18T17:24:01.512Z"
   },
   {
    "duration": 1830,
    "start_time": "2021-08-18T17:24:12.906Z"
   },
   {
    "duration": 210,
    "start_time": "2021-08-18T17:24:26.726Z"
   },
   {
    "duration": 102,
    "start_time": "2021-08-18T17:24:42.755Z"
   },
   {
    "duration": 104,
    "start_time": "2021-08-18T17:24:46.523Z"
   },
   {
    "duration": 3,
    "start_time": "2021-08-18T17:24:54.259Z"
   },
   {
    "duration": 91,
    "start_time": "2021-08-18T17:24:54.992Z"
   },
   {
    "duration": 214,
    "start_time": "2021-08-18T17:25:16.200Z"
   },
   {
    "duration": 282,
    "start_time": "2021-08-18T17:25:29.329Z"
   },
   {
    "duration": 89,
    "start_time": "2021-08-18T17:26:28.436Z"
   },
   {
    "duration": 271,
    "start_time": "2021-08-18T17:26:35.023Z"
   },
   {
    "duration": 145,
    "start_time": "2021-08-18T17:26:41.768Z"
   },
   {
    "duration": 239,
    "start_time": "2021-08-18T17:27:16.815Z"
   },
   {
    "duration": 150,
    "start_time": "2021-08-18T17:27:44.964Z"
   },
   {
    "duration": 673,
    "start_time": "2021-08-18T17:28:49.657Z"
   },
   {
    "duration": 297,
    "start_time": "2021-08-18T17:28:56.034Z"
   },
   {
    "duration": 166,
    "start_time": "2021-08-18T17:29:06.773Z"
   },
   {
    "duration": 459,
    "start_time": "2021-08-18T17:33:04.790Z"
   },
   {
    "duration": 3,
    "start_time": "2021-08-18T17:34:12.993Z"
   },
   {
    "duration": 1084,
    "start_time": "2021-08-18T17:34:14.047Z"
   },
   {
    "duration": 451,
    "start_time": "2021-08-18T17:34:23.784Z"
   },
   {
    "duration": 695,
    "start_time": "2021-08-18T17:35:12.978Z"
   },
   {
    "duration": 611,
    "start_time": "2021-08-18T17:35:20.353Z"
   },
   {
    "duration": 620,
    "start_time": "2021-08-18T17:36:14.025Z"
   },
   {
    "duration": 659,
    "start_time": "2021-08-18T17:36:44.627Z"
   },
   {
    "duration": 700,
    "start_time": "2021-08-18T17:37:03.778Z"
   },
   {
    "duration": 194,
    "start_time": "2021-08-18T17:37:48.048Z"
   },
   {
    "duration": 212,
    "start_time": "2021-08-18T17:38:06.629Z"
   },
   {
    "duration": 528,
    "start_time": "2021-08-18T17:38:11.668Z"
   },
   {
    "duration": 462,
    "start_time": "2021-08-18T17:38:26.985Z"
   },
   {
    "duration": 432,
    "start_time": "2021-08-18T17:38:43.649Z"
   },
   {
    "duration": 416,
    "start_time": "2021-08-18T17:38:58.449Z"
   },
   {
    "duration": 666,
    "start_time": "2021-08-18T17:39:06.907Z"
   },
   {
    "duration": 449,
    "start_time": "2021-08-18T17:40:40.317Z"
   },
   {
    "duration": 450,
    "start_time": "2021-08-18T17:41:16.304Z"
   },
   {
    "duration": 651,
    "start_time": "2021-08-18T17:42:37.981Z"
   },
   {
    "duration": 715,
    "start_time": "2021-08-18T17:42:50.276Z"
   },
   {
    "duration": 704,
    "start_time": "2021-08-18T17:43:11.196Z"
   },
   {
    "duration": 821,
    "start_time": "2021-08-18T17:43:16.153Z"
   },
   {
    "duration": 604,
    "start_time": "2021-08-18T17:43:24.778Z"
   },
   {
    "duration": 833,
    "start_time": "2021-08-18T17:43:40.575Z"
   },
   {
    "duration": 645,
    "start_time": "2021-08-18T17:44:09.843Z"
   },
   {
    "duration": 482,
    "start_time": "2021-08-18T17:44:36.044Z"
   },
   {
    "duration": 499,
    "start_time": "2021-08-18T17:44:50.754Z"
   },
   {
    "duration": 631,
    "start_time": "2021-08-18T17:45:04.817Z"
   },
   {
    "duration": 662,
    "start_time": "2021-08-18T17:46:37.685Z"
   },
   {
    "duration": 528,
    "start_time": "2021-08-18T17:47:33.351Z"
   },
   {
    "duration": 774,
    "start_time": "2021-08-18T17:47:37.481Z"
   },
   {
    "duration": 519,
    "start_time": "2021-08-18T17:47:59.178Z"
   },
   {
    "duration": 267,
    "start_time": "2021-08-18T17:49:22.475Z"
   },
   {
    "duration": 3,
    "start_time": "2021-08-18T17:49:33.756Z"
   },
   {
    "duration": 400,
    "start_time": "2021-08-18T17:49:35.855Z"
   },
   {
    "duration": 624,
    "start_time": "2021-08-18T17:49:44.641Z"
   },
   {
    "duration": 414,
    "start_time": "2021-08-18T17:49:52.382Z"
   },
   {
    "duration": 705,
    "start_time": "2021-08-18T17:50:33.451Z"
   },
   {
    "duration": 773,
    "start_time": "2021-08-18T17:50:46.342Z"
   },
   {
    "duration": 788,
    "start_time": "2021-08-18T17:50:53.266Z"
   },
   {
    "duration": 414,
    "start_time": "2021-08-18T17:51:14.856Z"
   },
   {
    "duration": 473,
    "start_time": "2021-08-18T17:51:29.890Z"
   },
   {
    "duration": 424,
    "start_time": "2021-08-18T17:51:42.042Z"
   },
   {
    "duration": 265,
    "start_time": "2021-08-18T17:52:52.295Z"
   },
   {
    "duration": 728,
    "start_time": "2021-08-18T17:52:57.763Z"
   },
   {
    "duration": 277,
    "start_time": "2021-08-18T17:53:14.638Z"
   },
   {
    "duration": 618,
    "start_time": "2021-08-18T17:53:45.129Z"
   },
   {
    "duration": 416,
    "start_time": "2021-08-18T17:54:08.461Z"
   },
   {
    "duration": 495,
    "start_time": "2021-08-18T17:54:55.658Z"
   },
   {
    "duration": 657,
    "start_time": "2021-08-18T17:59:35.914Z"
   },
   {
    "duration": 794,
    "start_time": "2021-08-18T17:59:43.628Z"
   },
   {
    "duration": 592,
    "start_time": "2021-08-18T17:59:53.658Z"
   },
   {
    "duration": 598,
    "start_time": "2021-08-18T17:59:58.894Z"
   },
   {
    "duration": 354,
    "start_time": "2021-08-18T18:01:38.182Z"
   },
   {
    "duration": 665,
    "start_time": "2021-08-18T18:02:20.827Z"
   },
   {
    "duration": 427,
    "start_time": "2021-08-18T18:02:47.519Z"
   },
   {
    "duration": 457,
    "start_time": "2021-08-18T18:03:57.533Z"
   },
   {
    "duration": 417,
    "start_time": "2021-08-18T18:04:12.285Z"
   },
   {
    "duration": 389,
    "start_time": "2021-08-18T18:04:23.392Z"
   },
   {
    "duration": 340,
    "start_time": "2021-08-18T18:04:55.746Z"
   },
   {
    "duration": 7,
    "start_time": "2021-08-18T18:05:56.449Z"
   },
   {
    "duration": 12,
    "start_time": "2021-08-18T18:08:51.822Z"
   },
   {
    "duration": 262,
    "start_time": "2021-08-18T18:09:22.656Z"
   },
   {
    "duration": 12,
    "start_time": "2021-08-18T18:09:29.853Z"
   },
   {
    "duration": 246,
    "start_time": "2021-08-18T18:09:56.089Z"
   },
   {
    "duration": 262,
    "start_time": "2021-08-18T18:10:01.662Z"
   },
   {
    "duration": 19,
    "start_time": "2021-08-18T18:13:41.255Z"
   },
   {
    "duration": 264,
    "start_time": "2021-08-18T18:16:15.212Z"
   },
   {
    "duration": 258,
    "start_time": "2021-08-18T18:17:47.817Z"
   },
   {
    "duration": 301,
    "start_time": "2021-08-18T18:18:01.807Z"
   },
   {
    "duration": 288,
    "start_time": "2021-08-18T18:18:11.284Z"
   },
   {
    "duration": 138,
    "start_time": "2021-08-18T18:18:30.661Z"
   },
   {
    "duration": 138,
    "start_time": "2021-08-18T18:18:35.113Z"
   },
   {
    "duration": 125,
    "start_time": "2021-08-18T18:18:45.107Z"
   },
   {
    "duration": 222,
    "start_time": "2021-08-18T18:18:55.337Z"
   },
   {
    "duration": 354,
    "start_time": "2021-08-18T19:08:34.262Z"
   },
   {
    "duration": 120,
    "start_time": "2021-08-18T19:08:49.026Z"
   },
   {
    "duration": 619,
    "start_time": "2021-08-18T19:08:58.410Z"
   },
   {
    "duration": 127,
    "start_time": "2021-08-18T19:09:08.893Z"
   },
   {
    "duration": 6,
    "start_time": "2021-08-18T19:09:12.404Z"
   },
   {
    "duration": 13,
    "start_time": "2021-08-18T19:09:40.790Z"
   },
   {
    "duration": 5,
    "start_time": "2021-08-18T19:09:54.610Z"
   },
   {
    "duration": 358,
    "start_time": "2021-08-18T19:10:11.837Z"
   },
   {
    "duration": 119,
    "start_time": "2021-08-18T19:10:18.440Z"
   },
   {
    "duration": 122,
    "start_time": "2021-08-18T19:10:22.020Z"
   },
   {
    "duration": 5,
    "start_time": "2021-08-18T19:10:28.834Z"
   },
   {
    "duration": 5,
    "start_time": "2021-08-18T19:10:59.286Z"
   },
   {
    "duration": 4,
    "start_time": "2021-08-18T19:11:43.098Z"
   },
   {
    "duration": 6,
    "start_time": "2021-08-18T19:12:00.709Z"
   },
   {
    "duration": 5,
    "start_time": "2021-08-18T19:12:11.694Z"
   },
   {
    "duration": 369,
    "start_time": "2021-08-18T19:13:14.787Z"
   },
   {
    "duration": 356,
    "start_time": "2021-08-18T19:13:29.218Z"
   },
   {
    "duration": 8,
    "start_time": "2021-08-18T19:16:08.386Z"
   },
   {
    "duration": 483,
    "start_time": "2021-08-18T19:16:09.719Z"
   },
   {
    "duration": 290,
    "start_time": "2021-08-18T19:18:02.322Z"
   },
   {
    "duration": 284,
    "start_time": "2021-08-18T19:18:24.908Z"
   },
   {
    "duration": 572,
    "start_time": "2021-08-18T19:20:11.983Z"
   },
   {
    "duration": 583,
    "start_time": "2021-08-18T19:20:29.282Z"
   },
   {
    "duration": 626,
    "start_time": "2021-08-18T19:20:37.453Z"
   },
   {
    "duration": 826,
    "start_time": "2021-08-18T19:21:40.736Z"
   },
   {
    "duration": 1060,
    "start_time": "2021-08-18T19:22:08.029Z"
   },
   {
    "duration": 244,
    "start_time": "2021-08-18T19:27:51.178Z"
   },
   {
    "duration": 556,
    "start_time": "2021-08-18T19:28:19.457Z"
   },
   {
    "duration": 546,
    "start_time": "2021-08-18T19:28:33.505Z"
   },
   {
    "duration": 236,
    "start_time": "2021-08-18T19:28:46.969Z"
   },
   {
    "duration": 852,
    "start_time": "2021-08-18T19:30:29.936Z"
   },
   {
    "duration": 3,
    "start_time": "2021-08-18T19:34:03.215Z"
   },
   {
    "duration": 3,
    "start_time": "2021-08-18T19:34:22.945Z"
   },
   {
    "duration": 3,
    "start_time": "2021-08-18T19:34:33.904Z"
   },
   {
    "duration": 79,
    "start_time": "2021-08-18T19:35:56.081Z"
   },
   {
    "duration": 3,
    "start_time": "2021-08-18T19:36:02.123Z"
   },
   {
    "duration": 286,
    "start_time": "2021-08-18T19:36:03.992Z"
   },
   {
    "duration": 577,
    "start_time": "2021-08-18T19:36:08.149Z"
   },
   {
    "duration": 169,
    "start_time": "2021-08-18T19:36:08.727Z"
   },
   {
    "duration": 140,
    "start_time": "2021-08-18T19:36:08.899Z"
   },
   {
    "duration": 91,
    "start_time": "2021-08-18T19:36:09.041Z"
   },
   {
    "duration": 21,
    "start_time": "2021-08-18T19:36:09.133Z"
   },
   {
    "duration": 37,
    "start_time": "2021-08-18T19:36:09.155Z"
   },
   {
    "duration": 3,
    "start_time": "2021-08-18T19:36:09.193Z"
   },
   {
    "duration": 4,
    "start_time": "2021-08-18T19:36:09.199Z"
   },
   {
    "duration": 68,
    "start_time": "2021-08-18T19:36:09.205Z"
   },
   {
    "duration": 7,
    "start_time": "2021-08-18T19:36:09.274Z"
   },
   {
    "duration": 21,
    "start_time": "2021-08-18T19:36:09.283Z"
   },
   {
    "duration": 44,
    "start_time": "2021-08-18T19:36:09.305Z"
   },
   {
    "duration": 5,
    "start_time": "2021-08-18T19:36:09.351Z"
   },
   {
    "duration": 16,
    "start_time": "2021-08-18T19:36:09.357Z"
   },
   {
    "duration": 26,
    "start_time": "2021-08-18T19:36:09.375Z"
   },
   {
    "duration": 16,
    "start_time": "2021-08-18T19:36:09.403Z"
   },
   {
    "duration": 42,
    "start_time": "2021-08-18T19:36:09.420Z"
   },
   {
    "duration": 31,
    "start_time": "2021-08-18T19:36:09.464Z"
   },
   {
    "duration": 3,
    "start_time": "2021-08-18T19:36:09.497Z"
   },
   {
    "duration": 6,
    "start_time": "2021-08-18T19:36:09.502Z"
   },
   {
    "duration": 44,
    "start_time": "2021-08-18T19:36:09.510Z"
   },
   {
    "duration": 3,
    "start_time": "2021-08-18T19:36:09.556Z"
   },
   {
    "duration": 163,
    "start_time": "2021-08-18T19:36:09.562Z"
   },
   {
    "duration": 75,
    "start_time": "2021-08-18T19:36:09.727Z"
   },
   {
    "duration": 9,
    "start_time": "2021-08-18T19:36:09.803Z"
   },
   {
    "duration": 1186,
    "start_time": "2021-08-18T19:36:09.813Z"
   },
   {
    "duration": 139,
    "start_time": "2021-08-18T19:36:11.001Z"
   },
   {
    "duration": 140,
    "start_time": "2021-08-18T19:36:11.142Z"
   },
   {
    "duration": 733,
    "start_time": "2021-08-18T19:36:11.284Z"
   },
   {
    "duration": 6,
    "start_time": "2021-08-18T19:36:12.018Z"
   },
   {
    "duration": 15,
    "start_time": "2021-08-18T19:36:12.026Z"
   },
   {
    "duration": 10,
    "start_time": "2021-08-18T19:36:12.043Z"
   },
   {
    "duration": 5,
    "start_time": "2021-08-18T19:36:12.055Z"
   },
   {
    "duration": 3,
    "start_time": "2021-08-18T19:36:32.102Z"
   },
   {
    "duration": 5,
    "start_time": "2021-08-18T19:36:34.347Z"
   },
   {
    "duration": 6,
    "start_time": "2021-08-18T19:36:52.742Z"
   },
   {
    "duration": 5,
    "start_time": "2021-08-18T19:46:14.813Z"
   },
   {
    "duration": 5,
    "start_time": "2021-08-18T19:46:16.140Z"
   },
   {
    "duration": 5,
    "start_time": "2021-08-18T19:46:22.015Z"
   },
   {
    "duration": 5,
    "start_time": "2021-08-18T19:46:25.016Z"
   },
   {
    "duration": 4,
    "start_time": "2021-08-18T19:46:37.642Z"
   },
   {
    "duration": 4,
    "start_time": "2021-08-18T19:46:40.097Z"
   },
   {
    "duration": 86,
    "start_time": "2021-08-18T19:48:30.623Z"
   },
   {
    "duration": 3,
    "start_time": "2021-08-18T19:48:35.701Z"
   },
   {
    "duration": 4,
    "start_time": "2021-08-18T19:48:47.176Z"
   },
   {
    "duration": 3,
    "start_time": "2021-08-18T19:49:27.457Z"
   },
   {
    "duration": 5,
    "start_time": "2021-08-18T19:49:28.878Z"
   },
   {
    "duration": 3,
    "start_time": "2021-08-18T19:49:46.145Z"
   },
   {
    "duration": 533,
    "start_time": "2021-08-18T19:49:47.158Z"
   },
   {
    "duration": 3,
    "start_time": "2021-08-18T19:50:09.612Z"
   },
   {
    "duration": 3,
    "start_time": "2021-08-18T19:50:10.613Z"
   },
   {
    "duration": 4,
    "start_time": "2021-08-18T19:51:45.954Z"
   },
   {
    "duration": 4,
    "start_time": "2021-08-18T19:51:47.024Z"
   },
   {
    "duration": 3,
    "start_time": "2021-08-18T19:53:01.671Z"
   },
   {
    "duration": 4,
    "start_time": "2021-08-18T19:53:03.316Z"
   },
   {
    "duration": 3,
    "start_time": "2021-08-18T19:53:36.756Z"
   },
   {
    "duration": 270,
    "start_time": "2021-08-18T19:53:37.380Z"
   },
   {
    "duration": 4,
    "start_time": "2021-08-18T19:53:44.053Z"
   },
   {
    "duration": 4,
    "start_time": "2021-08-18T19:54:39.905Z"
   },
   {
    "duration": 7,
    "start_time": "2021-08-18T19:54:42.134Z"
   },
   {
    "duration": 8,
    "start_time": "2021-08-18T19:55:00.340Z"
   },
   {
    "duration": 5,
    "start_time": "2021-08-18T19:56:02.884Z"
   },
   {
    "duration": 6,
    "start_time": "2021-08-18T19:56:04.742Z"
   },
   {
    "duration": 5,
    "start_time": "2021-08-18T19:56:34.743Z"
   },
   {
    "duration": 6,
    "start_time": "2021-08-18T19:56:35.671Z"
   },
   {
    "duration": 5,
    "start_time": "2021-08-18T19:56:37.117Z"
   },
   {
    "duration": 4,
    "start_time": "2021-08-18T19:57:16.231Z"
   },
   {
    "duration": 5,
    "start_time": "2021-08-18T19:57:17.029Z"
   },
   {
    "duration": 6,
    "start_time": "2021-08-18T19:57:18.096Z"
   },
   {
    "duration": 248,
    "start_time": "2021-08-18T20:00:56.717Z"
   },
   {
    "duration": 268,
    "start_time": "2021-08-18T20:01:12.397Z"
   },
   {
    "duration": 5,
    "start_time": "2021-08-18T20:07:18.778Z"
   },
   {
    "duration": 8,
    "start_time": "2021-08-18T20:07:20.822Z"
   },
   {
    "duration": 5,
    "start_time": "2021-08-18T20:07:57.800Z"
   },
   {
    "duration": 9,
    "start_time": "2021-08-18T20:07:58.736Z"
   },
   {
    "duration": 7,
    "start_time": "2021-08-18T20:08:00.721Z"
   },
   {
    "duration": 175,
    "start_time": "2021-08-18T20:13:50.622Z"
   },
   {
    "duration": 183,
    "start_time": "2021-08-18T20:14:15.405Z"
   },
   {
    "duration": 160,
    "start_time": "2021-08-18T20:14:31.207Z"
   },
   {
    "duration": 158,
    "start_time": "2021-08-18T20:14:55.852Z"
   },
   {
    "duration": 258,
    "start_time": "2021-08-18T20:15:09.165Z"
   },
   {
    "duration": 157,
    "start_time": "2021-08-18T20:15:27.307Z"
   },
   {
    "duration": 2,
    "start_time": "2021-08-18T20:17:57.266Z"
   },
   {
    "duration": 170,
    "start_time": "2021-08-18T20:17:57.271Z"
   },
   {
    "duration": 136,
    "start_time": "2021-08-18T20:17:57.442Z"
   },
   {
    "duration": 94,
    "start_time": "2021-08-18T20:17:57.581Z"
   },
   {
    "duration": 22,
    "start_time": "2021-08-18T20:17:57.677Z"
   },
   {
    "duration": 33,
    "start_time": "2021-08-18T20:17:57.701Z"
   },
   {
    "duration": 4,
    "start_time": "2021-08-18T20:17:57.735Z"
   },
   {
    "duration": 8,
    "start_time": "2021-08-18T20:17:57.741Z"
   },
   {
    "duration": 59,
    "start_time": "2021-08-18T20:17:57.751Z"
   },
   {
    "duration": 3,
    "start_time": "2021-08-18T20:17:57.813Z"
   },
   {
    "duration": 37,
    "start_time": "2021-08-18T20:17:57.819Z"
   },
   {
    "duration": 35,
    "start_time": "2021-08-18T20:17:57.858Z"
   },
   {
    "duration": 6,
    "start_time": "2021-08-18T20:17:57.896Z"
   },
   {
    "duration": 37,
    "start_time": "2021-08-18T20:17:57.904Z"
   },
   {
    "duration": 38,
    "start_time": "2021-08-18T20:17:57.943Z"
   },
   {
    "duration": 20,
    "start_time": "2021-08-18T20:17:57.983Z"
   },
   {
    "duration": 48,
    "start_time": "2021-08-18T20:17:58.005Z"
   },
   {
    "duration": 40,
    "start_time": "2021-08-18T20:17:58.055Z"
   },
   {
    "duration": 4,
    "start_time": "2021-08-18T20:17:58.097Z"
   },
   {
    "duration": 7,
    "start_time": "2021-08-18T20:17:58.103Z"
   },
   {
    "duration": 47,
    "start_time": "2021-08-18T20:17:58.112Z"
   },
   {
    "duration": 3,
    "start_time": "2021-08-18T20:17:58.161Z"
   },
   {
    "duration": 158,
    "start_time": "2021-08-18T20:17:58.166Z"
   },
   {
    "duration": 2,
    "start_time": "2021-08-18T20:17:58.326Z"
   },
   {
    "duration": 169,
    "start_time": "2021-08-18T20:17:58.330Z"
   },
   {
    "duration": 8,
    "start_time": "2021-08-18T20:17:58.501Z"
   },
   {
    "duration": 1081,
    "start_time": "2021-08-18T20:17:58.511Z"
   },
   {
    "duration": 837,
    "start_time": "2021-08-18T20:17:59.596Z"
   },
   {
    "duration": 11,
    "start_time": "2021-08-18T20:18:00.435Z"
   },
   {
    "duration": 17,
    "start_time": "2021-08-18T20:18:00.448Z"
   },
   {
    "duration": 18,
    "start_time": "2021-08-18T20:18:00.466Z"
   },
   {
    "duration": 8,
    "start_time": "2021-08-18T20:18:02.240Z"
   },
   {
    "duration": 1020,
    "start_time": "2021-08-19T15:49:21.333Z"
   },
   {
    "duration": 251,
    "start_time": "2021-08-19T15:49:23.644Z"
   },
   {
    "duration": 200,
    "start_time": "2021-08-19T15:49:26.238Z"
   },
   {
    "duration": 4,
    "start_time": "2021-08-19T15:49:36.303Z"
   },
   {
    "duration": 219,
    "start_time": "2021-08-19T15:49:36.309Z"
   },
   {
    "duration": 191,
    "start_time": "2021-08-19T15:49:36.532Z"
   },
   {
    "duration": 135,
    "start_time": "2021-08-19T15:49:36.726Z"
   },
   {
    "duration": 25,
    "start_time": "2021-08-19T15:49:36.863Z"
   },
   {
    "duration": 35,
    "start_time": "2021-08-19T15:49:36.891Z"
   },
   {
    "duration": 5,
    "start_time": "2021-08-19T15:49:36.929Z"
   },
   {
    "duration": 7,
    "start_time": "2021-08-19T15:49:36.937Z"
   },
   {
    "duration": 87,
    "start_time": "2021-08-19T15:51:26.443Z"
   },
   {
    "duration": 6388,
    "start_time": "2021-08-19T15:51:27.654Z"
   },
   {
    "duration": 258,
    "start_time": "2021-08-19T15:52:10.449Z"
   },
   {
    "duration": 89,
    "start_time": "2021-08-19T15:53:23.065Z"
   },
   {
    "duration": 9,
    "start_time": "2021-08-19T15:53:40.089Z"
   },
   {
    "duration": 30,
    "start_time": "2021-08-19T15:56:15.960Z"
   },
   {
    "duration": 51,
    "start_time": "2021-08-19T15:56:19.948Z"
   },
   {
    "duration": 9,
    "start_time": "2021-08-19T15:56:21.635Z"
   },
   {
    "duration": 20,
    "start_time": "2021-08-19T15:56:26.926Z"
   },
   {
    "duration": 41,
    "start_time": "2021-08-19T15:56:28.894Z"
   },
   {
    "duration": 24,
    "start_time": "2021-08-19T15:56:35.719Z"
   },
   {
    "duration": 34,
    "start_time": "2021-08-19T15:56:37.839Z"
   },
   {
    "duration": 14,
    "start_time": "2021-08-19T15:57:45.071Z"
   },
   {
    "duration": 93,
    "start_time": "2021-08-19T15:58:39.789Z"
   },
   {
    "duration": 14,
    "start_time": "2021-08-19T15:58:52.608Z"
   },
   {
    "duration": 3,
    "start_time": "2021-08-19T15:59:29.741Z"
   },
   {
    "duration": 235,
    "start_time": "2021-08-19T15:59:29.747Z"
   },
   {
    "duration": 217,
    "start_time": "2021-08-19T15:59:29.984Z"
   },
   {
    "duration": 138,
    "start_time": "2021-08-19T15:59:30.205Z"
   },
   {
    "duration": 24,
    "start_time": "2021-08-19T15:59:30.347Z"
   },
   {
    "duration": 37,
    "start_time": "2021-08-19T15:59:30.373Z"
   },
   {
    "duration": 5,
    "start_time": "2021-08-19T15:59:30.412Z"
   },
   {
    "duration": 15,
    "start_time": "2021-08-19T15:59:30.420Z"
   },
   {
    "duration": 105,
    "start_time": "2021-08-19T15:59:30.439Z"
   },
   {
    "duration": 98,
    "start_time": "2021-08-19T15:59:30.547Z"
   },
   {
    "duration": 38,
    "start_time": "2021-08-19T15:59:30.647Z"
   },
   {
    "duration": 40,
    "start_time": "2021-08-19T15:59:30.688Z"
   },
   {
    "duration": 11,
    "start_time": "2021-08-19T15:59:30.731Z"
   },
   {
    "duration": 53,
    "start_time": "2021-08-19T15:59:30.745Z"
   },
   {
    "duration": 38,
    "start_time": "2021-08-19T15:59:30.801Z"
   },
   {
    "duration": 44,
    "start_time": "2021-08-19T15:59:30.842Z"
   },
   {
    "duration": 32,
    "start_time": "2021-08-19T15:59:30.888Z"
   },
   {
    "duration": 4,
    "start_time": "2021-08-19T15:59:34.560Z"
   },
   {
    "duration": 10,
    "start_time": "2021-08-19T15:59:35.933Z"
   },
   {
    "duration": 11,
    "start_time": "2021-08-19T16:00:37.528Z"
   },
   {
    "duration": 4,
    "start_time": "2021-08-19T16:01:21.864Z"
   },
   {
    "duration": 224,
    "start_time": "2021-08-19T16:01:21.871Z"
   },
   {
    "duration": 200,
    "start_time": "2021-08-19T16:01:22.099Z"
   },
   {
    "duration": 140,
    "start_time": "2021-08-19T16:01:22.302Z"
   },
   {
    "duration": 26,
    "start_time": "2021-08-19T16:01:22.445Z"
   },
   {
    "duration": 36,
    "start_time": "2021-08-19T16:01:22.473Z"
   },
   {
    "duration": 5,
    "start_time": "2021-08-19T16:01:22.514Z"
   },
   {
    "duration": 8,
    "start_time": "2021-08-19T16:01:22.522Z"
   },
   {
    "duration": 112,
    "start_time": "2021-08-19T16:01:22.533Z"
   },
   {
    "duration": 94,
    "start_time": "2021-08-19T16:01:22.648Z"
   },
   {
    "duration": 41,
    "start_time": "2021-08-19T16:01:22.745Z"
   },
   {
    "duration": 54,
    "start_time": "2021-08-19T16:01:22.790Z"
   },
   {
    "duration": 10,
    "start_time": "2021-08-19T16:01:22.847Z"
   },
   {
    "duration": 44,
    "start_time": "2021-08-19T16:01:22.860Z"
   },
   {
    "duration": 45,
    "start_time": "2021-08-19T16:01:22.907Z"
   },
   {
    "duration": 47,
    "start_time": "2021-08-19T16:01:22.955Z"
   },
   {
    "duration": 35,
    "start_time": "2021-08-19T16:01:23.004Z"
   },
   {
    "duration": 84,
    "start_time": "2021-08-19T16:01:25.024Z"
   },
   {
    "duration": 11,
    "start_time": "2021-08-19T16:01:35.035Z"
   },
   {
    "duration": 56,
    "start_time": "2021-08-19T16:02:00.008Z"
   },
   {
    "duration": 260,
    "start_time": "2021-08-19T16:03:15.646Z"
   },
   {
    "duration": 222,
    "start_time": "2021-08-19T16:03:35.615Z"
   },
   {
    "duration": 290,
    "start_time": "2021-08-19T16:03:44.151Z"
   },
   {
    "duration": 5,
    "start_time": "2021-08-19T16:03:48.614Z"
   },
   {
    "duration": 9,
    "start_time": "2021-08-19T16:03:57.229Z"
   },
   {
    "duration": 24,
    "start_time": "2021-08-19T16:04:00.500Z"
   },
   {
    "duration": 235,
    "start_time": "2021-08-19T16:10:34.279Z"
   },
   {
    "duration": 3,
    "start_time": "2021-08-19T16:10:58.288Z"
   },
   {
    "duration": 231,
    "start_time": "2021-08-19T16:10:58.299Z"
   },
   {
    "duration": 180,
    "start_time": "2021-08-19T16:10:58.533Z"
   },
   {
    "duration": 129,
    "start_time": "2021-08-19T16:10:58.716Z"
   },
   {
    "duration": 24,
    "start_time": "2021-08-19T16:10:58.847Z"
   },
   {
    "duration": 37,
    "start_time": "2021-08-19T16:10:58.873Z"
   },
   {
    "duration": 5,
    "start_time": "2021-08-19T16:10:58.912Z"
   },
   {
    "duration": 6,
    "start_time": "2021-08-19T16:10:58.920Z"
   },
   {
    "duration": 105,
    "start_time": "2021-08-19T16:10:58.930Z"
   },
   {
    "duration": 137,
    "start_time": "2021-08-19T16:10:59.037Z"
   },
   {
    "duration": 36,
    "start_time": "2021-08-19T16:10:59.176Z"
   },
   {
    "duration": 40,
    "start_time": "2021-08-19T16:10:59.214Z"
   },
   {
    "duration": 7,
    "start_time": "2021-08-19T16:10:59.257Z"
   },
   {
    "duration": 20,
    "start_time": "2021-08-19T16:10:59.283Z"
   },
   {
    "duration": 37,
    "start_time": "2021-08-19T16:10:59.306Z"
   },
   {
    "duration": 57,
    "start_time": "2021-08-19T16:10:59.346Z"
   },
   {
    "duration": 30,
    "start_time": "2021-08-19T16:10:59.406Z"
   },
   {
    "duration": 10,
    "start_time": "2021-08-19T16:10:59.439Z"
   },
   {
    "duration": 68,
    "start_time": "2021-08-19T16:10:59.451Z"
   },
   {
    "duration": 5,
    "start_time": "2021-08-19T16:10:59.521Z"
   },
   {
    "duration": 9,
    "start_time": "2021-08-19T16:11:01.950Z"
   },
   {
    "duration": 255,
    "start_time": "2021-08-19T16:11:03.049Z"
   },
   {
    "duration": 6,
    "start_time": "2021-08-19T16:11:37.935Z"
   },
   {
    "duration": 14,
    "start_time": "2021-08-19T16:12:14.092Z"
   },
   {
    "duration": 25,
    "start_time": "2021-08-19T16:12:25.702Z"
   },
   {
    "duration": 4,
    "start_time": "2021-08-19T16:12:41.092Z"
   },
   {
    "duration": 219,
    "start_time": "2021-08-19T16:12:41.098Z"
   },
   {
    "duration": 196,
    "start_time": "2021-08-19T16:12:41.320Z"
   },
   {
    "duration": 127,
    "start_time": "2021-08-19T16:12:41.518Z"
   },
   {
    "duration": 23,
    "start_time": "2021-08-19T16:12:41.648Z"
   },
   {
    "duration": 40,
    "start_time": "2021-08-19T16:12:41.674Z"
   },
   {
    "duration": 5,
    "start_time": "2021-08-19T16:12:41.717Z"
   },
   {
    "duration": 8,
    "start_time": "2021-08-19T16:12:41.724Z"
   },
   {
    "duration": 117,
    "start_time": "2021-08-19T16:12:41.734Z"
   },
   {
    "duration": 93,
    "start_time": "2021-08-19T16:12:41.853Z"
   },
   {
    "duration": 38,
    "start_time": "2021-08-19T16:12:41.948Z"
   },
   {
    "duration": 37,
    "start_time": "2021-08-19T16:12:41.988Z"
   },
   {
    "duration": 8,
    "start_time": "2021-08-19T16:12:42.028Z"
   },
   {
    "duration": 48,
    "start_time": "2021-08-19T16:12:42.039Z"
   },
   {
    "duration": 43,
    "start_time": "2021-08-19T16:12:42.090Z"
   },
   {
    "duration": 24,
    "start_time": "2021-08-19T16:12:42.136Z"
   },
   {
    "duration": 31,
    "start_time": "2021-08-19T16:12:42.182Z"
   },
   {
    "duration": 9,
    "start_time": "2021-08-19T16:12:42.216Z"
   },
   {
    "duration": 69,
    "start_time": "2021-08-19T16:12:42.229Z"
   },
   {
    "duration": 5,
    "start_time": "2021-08-19T16:12:42.300Z"
   },
   {
    "duration": 13,
    "start_time": "2021-08-19T16:12:42.307Z"
   },
   {
    "duration": 12,
    "start_time": "2021-08-19T16:12:42.322Z"
   },
   {
    "duration": 13,
    "start_time": "2021-08-19T16:12:48.976Z"
   },
   {
    "duration": 25,
    "start_time": "2021-08-19T16:12:50.514Z"
   },
   {
    "duration": 5,
    "start_time": "2021-08-19T16:13:05.277Z"
   },
   {
    "duration": 37,
    "start_time": "2021-08-19T16:13:06.837Z"
   },
   {
    "duration": 4,
    "start_time": "2021-08-19T16:13:41.267Z"
   },
   {
    "duration": 222,
    "start_time": "2021-08-19T16:13:41.274Z"
   },
   {
    "duration": 183,
    "start_time": "2021-08-19T16:13:41.499Z"
   },
   {
    "duration": 118,
    "start_time": "2021-08-19T16:13:41.685Z"
   },
   {
    "duration": 24,
    "start_time": "2021-08-19T16:13:41.805Z"
   },
   {
    "duration": 34,
    "start_time": "2021-08-19T16:13:41.831Z"
   },
   {
    "duration": 4,
    "start_time": "2021-08-19T16:13:41.869Z"
   },
   {
    "duration": 5,
    "start_time": "2021-08-19T16:13:41.882Z"
   },
   {
    "duration": 100,
    "start_time": "2021-08-19T16:13:41.889Z"
   },
   {
    "duration": 95,
    "start_time": "2021-08-19T16:13:41.991Z"
   },
   {
    "duration": 30,
    "start_time": "2021-08-19T16:13:42.088Z"
   },
   {
    "duration": 38,
    "start_time": "2021-08-19T16:13:42.120Z"
   },
   {
    "duration": 27,
    "start_time": "2021-08-19T16:13:42.160Z"
   },
   {
    "duration": 25,
    "start_time": "2021-08-19T16:13:42.190Z"
   },
   {
    "duration": 36,
    "start_time": "2021-08-19T16:13:42.217Z"
   },
   {
    "duration": 24,
    "start_time": "2021-08-19T16:13:42.283Z"
   },
   {
    "duration": 30,
    "start_time": "2021-08-19T16:13:42.309Z"
   },
   {
    "duration": 10,
    "start_time": "2021-08-19T16:13:42.341Z"
   },
   {
    "duration": 66,
    "start_time": "2021-08-19T16:13:42.355Z"
   },
   {
    "duration": 5,
    "start_time": "2021-08-19T16:13:42.424Z"
   },
   {
    "duration": 10,
    "start_time": "2021-08-19T16:13:42.432Z"
   },
   {
    "duration": 42,
    "start_time": "2021-08-19T16:13:42.444Z"
   },
   {
    "duration": 5,
    "start_time": "2021-08-19T16:13:44.739Z"
   },
   {
    "duration": 8,
    "start_time": "2021-08-19T16:14:04.103Z"
   },
   {
    "duration": 24,
    "start_time": "2021-08-19T16:14:10.166Z"
   },
   {
    "duration": 7,
    "start_time": "2021-08-19T16:16:00.009Z"
   },
   {
    "duration": 274,
    "start_time": "2021-08-19T16:16:06.004Z"
   },
   {
    "duration": 25,
    "start_time": "2021-08-19T16:16:28.764Z"
   },
   {
    "duration": 103,
    "start_time": "2021-08-19T16:16:48.659Z"
   },
   {
    "duration": 265,
    "start_time": "2021-08-19T16:16:51.006Z"
   },
   {
    "duration": 12,
    "start_time": "2021-08-19T16:17:02.045Z"
   },
   {
    "duration": 2139,
    "start_time": "2021-08-19T16:17:12.320Z"
   },
   {
    "duration": 1877,
    "start_time": "2021-08-19T16:19:16.717Z"
   },
   {
    "duration": 1730,
    "start_time": "2021-08-19T16:19:37.642Z"
   },
   {
    "duration": 1799,
    "start_time": "2021-08-19T16:20:02.761Z"
   },
   {
    "duration": 1765,
    "start_time": "2021-08-19T16:20:27.335Z"
   },
   {
    "duration": 1183,
    "start_time": "2021-08-19T16:24:23.401Z"
   },
   {
    "duration": 257,
    "start_time": "2021-08-19T17:16:17.233Z"
   },
   {
    "duration": 8,
    "start_time": "2021-08-19T17:16:40.725Z"
   },
   {
    "duration": 7,
    "start_time": "2021-08-19T17:21:15.606Z"
   },
   {
    "duration": 13,
    "start_time": "2021-08-19T17:21:24.419Z"
   },
   {
    "duration": 375,
    "start_time": "2021-08-19T17:42:07.992Z"
   },
   {
    "duration": 263,
    "start_time": "2021-08-19T17:42:33.644Z"
   },
   {
    "duration": 769,
    "start_time": "2021-08-19T17:43:07.268Z"
   },
   {
    "duration": 737,
    "start_time": "2021-08-19T17:43:19.729Z"
   },
   {
    "duration": 90,
    "start_time": "2021-08-19T17:43:54.409Z"
   },
   {
    "duration": 746,
    "start_time": "2021-08-19T17:44:00.277Z"
   },
   {
    "duration": 93,
    "start_time": "2021-08-19T17:44:26.264Z"
   },
   {
    "duration": 99,
    "start_time": "2021-08-19T17:44:33.769Z"
   },
   {
    "duration": 624,
    "start_time": "2021-08-19T17:44:38.560Z"
   },
   {
    "duration": 718,
    "start_time": "2021-08-19T17:45:04.127Z"
   },
   {
    "duration": 726,
    "start_time": "2021-08-19T17:45:55.606Z"
   },
   {
    "duration": 823,
    "start_time": "2021-08-19T17:46:10.037Z"
   },
   {
    "duration": 866,
    "start_time": "2021-08-19T17:46:19.603Z"
   },
   {
    "duration": 828,
    "start_time": "2021-08-19T17:47:00.798Z"
   },
   {
    "duration": 716,
    "start_time": "2021-08-19T17:47:36.659Z"
   },
   {
    "duration": 748,
    "start_time": "2021-08-19T17:48:57.045Z"
   },
   {
    "duration": 799,
    "start_time": "2021-08-19T17:49:21.463Z"
   },
   {
    "duration": 516,
    "start_time": "2021-08-19T18:01:11.862Z"
   },
   {
    "duration": 6,
    "start_time": "2021-08-19T18:05:11.419Z"
   },
   {
    "duration": 7,
    "start_time": "2021-08-19T18:07:21.729Z"
   },
   {
    "duration": 6,
    "start_time": "2021-08-19T18:17:58.243Z"
   },
   {
    "duration": 6,
    "start_time": "2021-08-19T18:18:12.929Z"
   },
   {
    "duration": 8,
    "start_time": "2021-08-19T18:18:18.445Z"
   },
   {
    "duration": 8,
    "start_time": "2021-08-19T18:18:19.728Z"
   },
   {
    "duration": 327,
    "start_time": "2021-08-19T18:19:18.038Z"
   },
   {
    "duration": 7,
    "start_time": "2021-08-19T18:19:28.487Z"
   },
   {
    "duration": 667,
    "start_time": "2021-08-19T18:23:28.083Z"
   },
   {
    "duration": 245,
    "start_time": "2021-08-19T18:24:01.646Z"
   },
   {
    "duration": 235,
    "start_time": "2021-08-19T18:24:15.976Z"
   },
   {
    "duration": 269,
    "start_time": "2021-08-19T18:25:10.828Z"
   },
   {
    "duration": 13,
    "start_time": "2021-08-19T18:28:54.635Z"
   },
   {
    "duration": 36,
    "start_time": "2021-08-19T18:29:10.920Z"
   },
   {
    "duration": 33,
    "start_time": "2021-08-19T18:29:38.365Z"
   },
   {
    "duration": 39,
    "start_time": "2021-08-19T18:29:52.771Z"
   },
   {
    "duration": 38,
    "start_time": "2021-08-19T18:32:20.232Z"
   },
   {
    "duration": 35,
    "start_time": "2021-08-19T18:32:30.981Z"
   },
   {
    "duration": 266,
    "start_time": "2021-08-19T18:33:25.402Z"
   },
   {
    "duration": 242,
    "start_time": "2021-08-19T18:33:34.786Z"
   },
   {
    "duration": 270,
    "start_time": "2021-08-19T18:33:41.814Z"
   },
   {
    "duration": 38,
    "start_time": "2021-08-19T18:35:20.648Z"
   },
   {
    "duration": 38,
    "start_time": "2021-08-19T18:35:32.650Z"
   },
   {
    "duration": 35,
    "start_time": "2021-08-19T18:35:39.405Z"
   },
   {
    "duration": 10,
    "start_time": "2021-08-19T18:39:44.492Z"
   },
   {
    "duration": 14,
    "start_time": "2021-08-19T18:39:54.657Z"
   },
   {
    "duration": 9,
    "start_time": "2021-08-19T18:40:13.149Z"
   },
   {
    "duration": 11,
    "start_time": "2021-08-19T18:40:14.216Z"
   },
   {
    "duration": 10,
    "start_time": "2021-08-19T18:40:53.313Z"
   },
   {
    "duration": 6,
    "start_time": "2021-08-19T18:41:04.130Z"
   },
   {
    "duration": 8,
    "start_time": "2021-08-19T18:41:10.138Z"
   },
   {
    "duration": 11,
    "start_time": "2021-08-19T18:41:22.912Z"
   },
   {
    "duration": 14,
    "start_time": "2021-08-19T18:43:26.352Z"
   },
   {
    "duration": 16,
    "start_time": "2021-08-19T18:44:17.609Z"
   },
   {
    "duration": 390,
    "start_time": "2021-08-19T18:44:22.439Z"
   },
   {
    "duration": 52,
    "start_time": "2021-08-19T18:45:00.990Z"
   },
   {
    "duration": 14,
    "start_time": "2021-08-19T18:45:16.223Z"
   },
   {
    "duration": 26,
    "start_time": "2021-08-19T18:45:47.952Z"
   },
   {
    "duration": 4,
    "start_time": "2021-08-19T18:46:10.794Z"
   },
   {
    "duration": 223,
    "start_time": "2021-08-19T18:46:10.800Z"
   },
   {
    "duration": 194,
    "start_time": "2021-08-19T18:46:11.026Z"
   },
   {
    "duration": 133,
    "start_time": "2021-08-19T18:46:11.223Z"
   },
   {
    "duration": 25,
    "start_time": "2021-08-19T18:46:11.359Z"
   },
   {
    "duration": 40,
    "start_time": "2021-08-19T18:46:11.386Z"
   },
   {
    "duration": 5,
    "start_time": "2021-08-19T18:46:11.431Z"
   },
   {
    "duration": 7,
    "start_time": "2021-08-19T18:46:11.440Z"
   },
   {
    "duration": 117,
    "start_time": "2021-08-19T18:46:11.450Z"
   },
   {
    "duration": 81,
    "start_time": "2021-08-19T18:46:11.569Z"
   },
   {
    "duration": 42,
    "start_time": "2021-08-19T18:46:11.652Z"
   },
   {
    "duration": 41,
    "start_time": "2021-08-19T18:46:11.697Z"
   },
   {
    "duration": 8,
    "start_time": "2021-08-19T18:46:11.740Z"
   },
   {
    "duration": 47,
    "start_time": "2021-08-19T18:46:11.750Z"
   },
   {
    "duration": 36,
    "start_time": "2021-08-19T18:46:11.799Z"
   },
   {
    "duration": 23,
    "start_time": "2021-08-19T18:46:11.837Z"
   },
   {
    "duration": 30,
    "start_time": "2021-08-19T18:46:11.883Z"
   },
   {
    "duration": 9,
    "start_time": "2021-08-19T18:46:11.915Z"
   },
   {
    "duration": 71,
    "start_time": "2021-08-19T18:46:11.930Z"
   },
   {
    "duration": 5,
    "start_time": "2021-08-19T18:46:12.004Z"
   },
   {
    "duration": 36,
    "start_time": "2021-08-19T18:46:12.011Z"
   },
   {
    "duration": 26,
    "start_time": "2021-08-19T18:46:12.049Z"
   },
   {
    "duration": 26,
    "start_time": "2021-08-19T18:46:12.078Z"
   },
   {
    "duration": 6,
    "start_time": "2021-08-19T18:46:12.106Z"
   },
   {
    "duration": 282,
    "start_time": "2021-08-19T18:46:12.114Z"
   },
   {
    "duration": 4,
    "start_time": "2021-08-19T18:46:12.398Z"
   },
   {
    "duration": 288,
    "start_time": "2021-08-19T18:46:12.404Z"
   },
   {
    "duration": 12,
    "start_time": "2021-08-19T18:46:12.695Z"
   },
   {
    "duration": 1755,
    "start_time": "2021-08-19T18:46:12.709Z"
   },
   {
    "duration": 1293,
    "start_time": "2021-08-19T18:46:14.467Z"
   },
   {
    "duration": 21,
    "start_time": "2021-08-19T18:46:15.762Z"
   },
   {
    "duration": 7,
    "start_time": "2021-08-19T18:46:15.786Z"
   },
   {
    "duration": 7372,
    "start_time": "2021-08-19T18:46:15.795Z"
   },
   {
    "duration": -2282,
    "start_time": "2021-08-19T18:46:25.451Z"
   },
   {
    "duration": -2286,
    "start_time": "2021-08-19T18:46:25.457Z"
   },
   {
    "duration": -2288,
    "start_time": "2021-08-19T18:46:25.460Z"
   },
   {
    "duration": -2291,
    "start_time": "2021-08-19T18:46:25.465Z"
   },
   {
    "duration": -2294,
    "start_time": "2021-08-19T18:46:25.469Z"
   },
   {
    "duration": -2296,
    "start_time": "2021-08-19T18:46:25.473Z"
   },
   {
    "duration": 11,
    "start_time": "2021-08-19T18:46:45.593Z"
   },
   {
    "duration": 7133,
    "start_time": "2021-08-19T18:46:46.612Z"
   },
   {
    "duration": -2274,
    "start_time": "2021-08-19T18:46:56.022Z"
   },
   {
    "duration": 7,
    "start_time": "2021-08-19T18:47:09.496Z"
   },
   {
    "duration": 10,
    "start_time": "2021-08-19T18:47:10.992Z"
   },
   {
    "duration": 10,
    "start_time": "2021-08-19T18:47:13.030Z"
   },
   {
    "duration": 4,
    "start_time": "2021-08-19T18:47:16.101Z"
   },
   {
    "duration": 752,
    "start_time": "2021-08-19T18:47:17.063Z"
   },
   {
    "duration": 7,
    "start_time": "2021-08-19T18:47:22.109Z"
   },
   {
    "duration": 6,
    "start_time": "2021-08-19T18:47:24.090Z"
   },
   {
    "duration": 7,
    "start_time": "2021-08-19T18:47:27.278Z"
   },
   {
    "duration": 24,
    "start_time": "2021-08-19T18:47:31.058Z"
   },
   {
    "duration": 12,
    "start_time": "2021-08-19T18:47:35.597Z"
   },
   {
    "duration": 14,
    "start_time": "2021-08-19T18:49:21.207Z"
   },
   {
    "duration": 807,
    "start_time": "2021-08-19T18:56:28.544Z"
   },
   {
    "duration": 782,
    "start_time": "2021-08-19T18:56:45.539Z"
   },
   {
    "duration": 718,
    "start_time": "2021-08-19T18:57:05.847Z"
   },
   {
    "duration": 3,
    "start_time": "2021-08-19T19:03:06.972Z"
   },
   {
    "duration": 216,
    "start_time": "2021-08-19T19:03:06.978Z"
   },
   {
    "duration": 192,
    "start_time": "2021-08-19T19:03:07.197Z"
   },
   {
    "duration": 140,
    "start_time": "2021-08-19T19:03:07.392Z"
   },
   {
    "duration": 23,
    "start_time": "2021-08-19T19:03:07.534Z"
   },
   {
    "duration": 37,
    "start_time": "2021-08-19T19:03:07.560Z"
   },
   {
    "duration": 5,
    "start_time": "2021-08-19T19:03:07.600Z"
   },
   {
    "duration": 21,
    "start_time": "2021-08-19T19:03:07.608Z"
   },
   {
    "duration": 139,
    "start_time": "2021-08-19T19:03:07.632Z"
   },
   {
    "duration": 116,
    "start_time": "2021-08-19T19:03:07.774Z"
   },
   {
    "duration": 29,
    "start_time": "2021-08-19T19:03:07.892Z"
   },
   {
    "duration": 36,
    "start_time": "2021-08-19T19:03:07.924Z"
   },
   {
    "duration": 23,
    "start_time": "2021-08-19T19:03:07.962Z"
   },
   {
    "duration": 23,
    "start_time": "2021-08-19T19:03:07.988Z"
   },
   {
    "duration": 34,
    "start_time": "2021-08-19T19:03:08.013Z"
   },
   {
    "duration": 51,
    "start_time": "2021-08-19T19:03:08.050Z"
   },
   {
    "duration": 30,
    "start_time": "2021-08-19T19:03:08.103Z"
   },
   {
    "duration": 9,
    "start_time": "2021-08-19T19:03:08.135Z"
   },
   {
    "duration": 69,
    "start_time": "2021-08-19T19:03:08.150Z"
   },
   {
    "duration": 5,
    "start_time": "2021-08-19T19:03:08.222Z"
   },
   {
    "duration": 10,
    "start_time": "2021-08-19T19:03:08.229Z"
   },
   {
    "duration": 12,
    "start_time": "2021-08-19T19:03:08.242Z"
   },
   {
    "duration": 48,
    "start_time": "2021-08-19T19:03:08.257Z"
   },
   {
    "duration": 5,
    "start_time": "2021-08-19T19:03:08.308Z"
   },
   {
    "duration": 280,
    "start_time": "2021-08-19T19:03:08.316Z"
   },
   {
    "duration": 4,
    "start_time": "2021-08-19T19:03:08.598Z"
   },
   {
    "duration": 264,
    "start_time": "2021-08-19T19:03:08.604Z"
   },
   {
    "duration": 18,
    "start_time": "2021-08-19T19:03:08.871Z"
   },
   {
    "duration": 1910,
    "start_time": "2021-08-19T19:03:08.891Z"
   },
   {
    "duration": 1354,
    "start_time": "2021-08-19T19:03:10.803Z"
   },
   {
    "duration": 9,
    "start_time": "2021-08-19T19:03:12.159Z"
   },
   {
    "duration": 14,
    "start_time": "2021-08-19T19:03:12.170Z"
   },
   {
    "duration": 17,
    "start_time": "2021-08-19T19:03:12.187Z"
   },
   {
    "duration": 11,
    "start_time": "2021-08-19T19:03:12.206Z"
   },
   {
    "duration": 6,
    "start_time": "2021-08-19T19:03:12.219Z"
   },
   {
    "duration": 795,
    "start_time": "2021-08-19T19:03:12.227Z"
   },
   {
    "duration": 7,
    "start_time": "2021-08-19T19:03:13.024Z"
   },
   {
    "duration": 8,
    "start_time": "2021-08-19T19:03:13.033Z"
   },
   {
    "duration": 8,
    "start_time": "2021-08-19T19:03:13.044Z"
   },
   {
    "duration": 16,
    "start_time": "2021-08-19T19:03:13.083Z"
   },
   {
    "duration": 723,
    "start_time": "2021-08-19T19:03:13.101Z"
   },
   {
    "duration": 15,
    "start_time": "2021-08-19T19:03:13.827Z"
   },
   {
    "duration": 4,
    "start_time": "2021-08-19T19:08:54.023Z"
   },
   {
    "duration": 199,
    "start_time": "2021-08-19T19:08:54.064Z"
   },
   {
    "duration": 185,
    "start_time": "2021-08-19T19:08:54.266Z"
   },
   {
    "duration": 164,
    "start_time": "2021-08-19T19:08:54.455Z"
   },
   {
    "duration": 24,
    "start_time": "2021-08-19T19:08:54.621Z"
   },
   {
    "duration": 36,
    "start_time": "2021-08-19T19:08:54.648Z"
   },
   {
    "duration": 5,
    "start_time": "2021-08-19T19:08:54.686Z"
   },
   {
    "duration": 7,
    "start_time": "2021-08-19T19:08:54.693Z"
   },
   {
    "duration": 114,
    "start_time": "2021-08-19T19:08:54.704Z"
   },
   {
    "duration": 89,
    "start_time": "2021-08-19T19:08:54.821Z"
   },
   {
    "duration": 28,
    "start_time": "2021-08-19T19:08:54.913Z"
   },
   {
    "duration": 54,
    "start_time": "2021-08-19T19:08:54.943Z"
   },
   {
    "duration": 21,
    "start_time": "2021-08-19T19:08:54.999Z"
   },
   {
    "duration": 31,
    "start_time": "2021-08-19T19:08:55.022Z"
   },
   {
    "duration": 38,
    "start_time": "2021-08-19T19:08:55.056Z"
   },
   {
    "duration": 25,
    "start_time": "2021-08-19T19:08:55.096Z"
   },
   {
    "duration": 6,
    "start_time": "2021-08-19T19:08:55.123Z"
   },
   {
    "duration": 76,
    "start_time": "2021-08-19T19:08:55.131Z"
   },
   {
    "duration": 5,
    "start_time": "2021-08-19T19:08:55.210Z"
   },
   {
    "duration": 10,
    "start_time": "2021-08-19T19:08:55.218Z"
   },
   {
    "duration": 7,
    "start_time": "2021-08-19T19:08:55.230Z"
   },
   {
    "duration": 54,
    "start_time": "2021-08-19T19:08:55.239Z"
   },
   {
    "duration": 5,
    "start_time": "2021-08-19T19:08:55.295Z"
   },
   {
    "duration": 272,
    "start_time": "2021-08-19T19:08:55.306Z"
   },
   {
    "duration": 4,
    "start_time": "2021-08-19T19:08:55.582Z"
   },
   {
    "duration": 275,
    "start_time": "2021-08-19T19:08:55.588Z"
   },
   {
    "duration": 20,
    "start_time": "2021-08-19T19:08:55.867Z"
   },
   {
    "duration": 1862,
    "start_time": "2021-08-19T19:08:55.890Z"
   },
   {
    "duration": 1331,
    "start_time": "2021-08-19T19:08:57.755Z"
   },
   {
    "duration": 10,
    "start_time": "2021-08-19T19:08:59.088Z"
   },
   {
    "duration": 7,
    "start_time": "2021-08-19T19:08:59.101Z"
   },
   {
    "duration": 12,
    "start_time": "2021-08-19T19:08:59.110Z"
   },
   {
    "duration": 8,
    "start_time": "2021-08-19T19:08:59.125Z"
   },
   {
    "duration": 48,
    "start_time": "2021-08-19T19:08:59.135Z"
   },
   {
    "duration": 774,
    "start_time": "2021-08-19T19:08:59.185Z"
   },
   {
    "duration": 6,
    "start_time": "2021-08-19T19:08:59.962Z"
   },
   {
    "duration": 21,
    "start_time": "2021-08-19T19:08:59.971Z"
   },
   {
    "duration": 24,
    "start_time": "2021-08-19T19:08:59.995Z"
   },
   {
    "duration": 28,
    "start_time": "2021-08-19T19:09:00.021Z"
   },
   {
    "duration": 722,
    "start_time": "2021-08-19T19:09:00.052Z"
   },
   {
    "duration": 114,
    "start_time": "2021-08-19T19:09:00.777Z"
   },
   {
    "duration": -6287,
    "start_time": "2021-08-19T19:09:07.181Z"
   },
   {
    "duration": 14,
    "start_time": "2021-08-19T19:12:04.059Z"
   },
   {
    "duration": 4,
    "start_time": "2021-08-19T19:12:34.356Z"
   },
   {
    "duration": 225,
    "start_time": "2021-08-19T19:12:34.363Z"
   },
   {
    "duration": 194,
    "start_time": "2021-08-19T19:12:34.591Z"
   },
   {
    "duration": 117,
    "start_time": "2021-08-19T19:12:34.788Z"
   },
   {
    "duration": 24,
    "start_time": "2021-08-19T19:12:34.907Z"
   },
   {
    "duration": 35,
    "start_time": "2021-08-19T19:12:34.934Z"
   },
   {
    "duration": 11,
    "start_time": "2021-08-19T19:12:34.973Z"
   },
   {
    "duration": 7,
    "start_time": "2021-08-19T19:12:34.987Z"
   },
   {
    "duration": 107,
    "start_time": "2021-08-19T19:12:34.996Z"
   },
   {
    "duration": 89,
    "start_time": "2021-08-19T19:12:35.105Z"
   },
   {
    "duration": 28,
    "start_time": "2021-08-19T19:12:35.197Z"
   },
   {
    "duration": 57,
    "start_time": "2021-08-19T19:12:35.228Z"
   },
   {
    "duration": 20,
    "start_time": "2021-08-19T19:12:35.287Z"
   },
   {
    "duration": 32,
    "start_time": "2021-08-19T19:12:35.309Z"
   },
   {
    "duration": 47,
    "start_time": "2021-08-19T19:12:35.344Z"
   },
   {
    "duration": 748,
    "start_time": "2021-08-19T19:47:28.865Z"
   },
   {
    "duration": 231,
    "start_time": "2021-08-19T19:47:29.616Z"
   },
   {
    "duration": 208,
    "start_time": "2021-08-19T19:47:29.849Z"
   },
   {
    "duration": 130,
    "start_time": "2021-08-19T19:47:30.060Z"
   },
   {
    "duration": 25,
    "start_time": "2021-08-19T19:47:30.193Z"
   },
   {
    "duration": 36,
    "start_time": "2021-08-19T19:47:30.220Z"
   },
   {
    "duration": 5,
    "start_time": "2021-08-19T19:47:30.258Z"
   },
   {
    "duration": 11,
    "start_time": "2021-08-19T19:47:30.267Z"
   },
   {
    "duration": 120,
    "start_time": "2021-08-19T19:47:30.281Z"
   },
   {
    "duration": 103,
    "start_time": "2021-08-19T19:47:30.404Z"
   },
   {
    "duration": 31,
    "start_time": "2021-08-19T19:47:30.510Z"
   },
   {
    "duration": 66,
    "start_time": "2021-08-19T19:47:30.543Z"
   },
   {
    "duration": 21,
    "start_time": "2021-08-19T19:47:30.611Z"
   },
   {
    "duration": 59,
    "start_time": "2021-08-19T19:47:30.634Z"
   },
   {
    "duration": 25,
    "start_time": "2021-08-19T19:47:30.695Z"
   },
   {
    "duration": 54,
    "start_time": "2021-08-19T19:47:30.722Z"
   },
   {
    "duration": 13,
    "start_time": "2021-08-19T19:47:30.779Z"
   },
   {
    "duration": 69,
    "start_time": "2021-08-19T19:47:30.794Z"
   },
   {
    "duration": 6,
    "start_time": "2021-08-19T19:47:30.865Z"
   },
   {
    "duration": 31,
    "start_time": "2021-08-19T19:47:30.873Z"
   },
   {
    "duration": 20,
    "start_time": "2021-08-19T19:47:30.907Z"
   },
   {
    "duration": 33,
    "start_time": "2021-08-19T19:47:30.930Z"
   },
   {
    "duration": 5,
    "start_time": "2021-08-19T19:47:30.968Z"
   },
   {
    "duration": 293,
    "start_time": "2021-08-19T19:47:30.976Z"
   },
   {
    "duration": 118,
    "start_time": "2021-08-19T19:47:31.272Z"
   },
   {
    "duration": 298,
    "start_time": "2021-08-19T19:47:31.392Z"
   },
   {
    "duration": 10,
    "start_time": "2021-08-19T19:47:31.693Z"
   },
   {
    "duration": 2094,
    "start_time": "2021-08-19T19:47:31.706Z"
   },
   {
    "duration": 1439,
    "start_time": "2021-08-19T19:47:33.802Z"
   },
   {
    "duration": 18,
    "start_time": "2021-08-19T19:47:35.244Z"
   },
   {
    "duration": 25,
    "start_time": "2021-08-19T19:47:35.265Z"
   },
   {
    "duration": 10,
    "start_time": "2021-08-19T19:47:35.293Z"
   },
   {
    "duration": 469,
    "start_time": "2021-08-19T19:47:35.305Z"
   },
   {
    "duration": 921,
    "start_time": "2021-08-19T19:47:35.776Z"
   },
   {
    "duration": 6,
    "start_time": "2021-08-19T19:47:36.699Z"
   },
   {
    "duration": 9,
    "start_time": "2021-08-19T19:47:36.708Z"
   },
   {
    "duration": 10,
    "start_time": "2021-08-19T19:47:36.719Z"
   },
   {
    "duration": 17,
    "start_time": "2021-08-19T19:47:36.762Z"
   },
   {
    "duration": 800,
    "start_time": "2021-08-19T19:47:36.781Z"
   },
   {
    "duration": 20,
    "start_time": "2021-08-19T19:47:37.584Z"
   },
   {
    "duration": 26,
    "start_time": "2021-08-19T19:59:56.318Z"
   },
   {
    "duration": 826,
    "start_time": "2021-08-20T14:59:46.667Z"
   },
   {
    "duration": 246,
    "start_time": "2021-08-20T14:59:47.495Z"
   },
   {
    "duration": 203,
    "start_time": "2021-08-20T14:59:47.744Z"
   },
   {
    "duration": 140,
    "start_time": "2021-08-20T14:59:47.950Z"
   },
   {
    "duration": 27,
    "start_time": "2021-08-20T14:59:48.093Z"
   },
   {
    "duration": 84,
    "start_time": "2021-08-20T14:59:48.122Z"
   },
   {
    "duration": 4,
    "start_time": "2021-08-20T14:59:48.209Z"
   },
   {
    "duration": 8,
    "start_time": "2021-08-20T14:59:48.216Z"
   },
   {
    "duration": 123,
    "start_time": "2021-08-20T14:59:48.226Z"
   },
   {
    "duration": 485,
    "start_time": "2021-08-20T14:59:50.024Z"
   },
   {
    "duration": 4,
    "start_time": "2021-08-20T15:00:13.382Z"
   },
   {
    "duration": 254,
    "start_time": "2021-08-20T15:00:14.473Z"
   },
   {
    "duration": 203,
    "start_time": "2021-08-20T15:00:17.530Z"
   },
   {
    "duration": 4,
    "start_time": "2021-08-20T15:00:26.221Z"
   },
   {
    "duration": 245,
    "start_time": "2021-08-20T15:00:26.227Z"
   },
   {
    "duration": 208,
    "start_time": "2021-08-20T15:00:26.475Z"
   },
   {
    "duration": 136,
    "start_time": "2021-08-20T15:00:26.686Z"
   },
   {
    "duration": 28,
    "start_time": "2021-08-20T15:00:26.824Z"
   },
   {
    "duration": 65,
    "start_time": "2021-08-20T15:00:26.854Z"
   },
   {
    "duration": 5,
    "start_time": "2021-08-20T15:00:26.922Z"
   },
   {
    "duration": 4,
    "start_time": "2021-08-20T15:00:26.931Z"
   },
   {
    "duration": 109,
    "start_time": "2021-08-20T15:00:26.938Z"
   },
   {
    "duration": 5,
    "start_time": "2021-08-20T15:00:28.782Z"
   },
   {
    "duration": 455,
    "start_time": "2021-08-20T15:02:20.733Z"
   },
   {
    "duration": 355,
    "start_time": "2021-08-20T15:03:01.385Z"
   },
   {
    "duration": 376,
    "start_time": "2021-08-20T15:10:42.295Z"
   },
   {
    "duration": 547,
    "start_time": "2021-08-20T15:10:47.772Z"
   },
   {
    "duration": 241,
    "start_time": "2021-08-20T15:10:48.322Z"
   },
   {
    "duration": 206,
    "start_time": "2021-08-20T15:10:48.566Z"
   },
   {
    "duration": 155,
    "start_time": "2021-08-20T15:10:48.775Z"
   },
   {
    "duration": 29,
    "start_time": "2021-08-20T15:10:48.932Z"
   },
   {
    "duration": 118,
    "start_time": "2021-08-20T15:10:48.964Z"
   },
   {
    "duration": 6,
    "start_time": "2021-08-20T15:10:49.084Z"
   },
   {
    "duration": 52,
    "start_time": "2021-08-20T15:10:49.094Z"
   },
   {
    "duration": 121,
    "start_time": "2021-08-20T15:10:49.149Z"
   },
   {
    "duration": 12,
    "start_time": "2021-08-20T15:10:49.273Z"
   },
   {
    "duration": 379,
    "start_time": "2021-08-20T15:10:49.289Z"
   },
   {
    "duration": 379,
    "start_time": "2021-08-20T15:10:49.670Z"
   },
   {
    "duration": 40,
    "start_time": "2021-08-20T15:10:50.051Z"
   },
   {
    "duration": 47,
    "start_time": "2021-08-20T15:10:50.094Z"
   },
   {
    "duration": 41,
    "start_time": "2021-08-20T15:10:50.144Z"
   },
   {
    "duration": 39,
    "start_time": "2021-08-20T15:10:50.188Z"
   },
   {
    "duration": 25,
    "start_time": "2021-08-20T15:10:50.229Z"
   },
   {
    "duration": 50,
    "start_time": "2021-08-20T15:10:50.257Z"
   },
   {
    "duration": 14,
    "start_time": "2021-08-20T15:10:50.310Z"
   },
   {
    "duration": 70,
    "start_time": "2021-08-20T15:10:50.326Z"
   },
   {
    "duration": 5,
    "start_time": "2021-08-20T15:10:50.398Z"
   },
   {
    "duration": 10,
    "start_time": "2021-08-20T15:10:50.405Z"
   },
   {
    "duration": 8,
    "start_time": "2021-08-20T15:10:50.421Z"
   },
   {
    "duration": 72,
    "start_time": "2021-08-20T15:10:50.433Z"
   },
   {
    "duration": 6,
    "start_time": "2021-08-20T15:10:50.508Z"
   },
   {
    "duration": 328,
    "start_time": "2021-08-20T15:10:50.518Z"
   },
   {
    "duration": 328,
    "start_time": "2021-08-20T15:10:50.849Z"
   },
   {
    "duration": 13,
    "start_time": "2021-08-20T15:10:51.184Z"
   },
   {
    "duration": 2019,
    "start_time": "2021-08-20T15:10:51.200Z"
   },
   {
    "duration": 1327,
    "start_time": "2021-08-20T15:10:53.222Z"
   },
   {
    "duration": 7,
    "start_time": "2021-08-20T15:10:54.552Z"
   },
   {
    "duration": 51,
    "start_time": "2021-08-20T15:10:54.561Z"
   },
   {
    "duration": 21,
    "start_time": "2021-08-20T15:10:54.615Z"
   },
   {
    "duration": 899,
    "start_time": "2021-08-20T15:10:54.638Z"
   },
   {
    "duration": 5,
    "start_time": "2021-08-20T15:10:55.540Z"
   },
   {
    "duration": 10,
    "start_time": "2021-08-20T15:10:55.547Z"
   },
   {
    "duration": 29,
    "start_time": "2021-08-20T15:10:55.559Z"
   },
   {
    "duration": 17,
    "start_time": "2021-08-20T15:10:55.591Z"
   },
   {
    "duration": 767,
    "start_time": "2021-08-20T15:10:55.610Z"
   },
   {
    "duration": 18,
    "start_time": "2021-08-20T15:10:56.380Z"
   },
   {
    "duration": 6,
    "start_time": "2021-08-20T15:10:59.046Z"
   },
   {
    "duration": 8,
    "start_time": "2021-08-20T15:11:14.795Z"
   },
   {
    "duration": 6,
    "start_time": "2021-08-20T15:11:23.852Z"
   },
   {
    "duration": 7,
    "start_time": "2021-08-20T15:11:27.146Z"
   },
   {
    "duration": 7,
    "start_time": "2021-08-20T15:13:08.383Z"
   },
   {
    "duration": 8,
    "start_time": "2021-08-20T15:13:15.696Z"
   },
   {
    "duration": 431,
    "start_time": "2021-08-20T15:16:54.855Z"
   },
   {
    "duration": 442,
    "start_time": "2021-08-20T15:17:00.492Z"
   },
   {
    "duration": 278,
    "start_time": "2021-08-20T15:17:21.490Z"
   },
   {
    "duration": 264,
    "start_time": "2021-08-20T15:17:58.643Z"
   },
   {
    "duration": 429,
    "start_time": "2021-08-20T15:21:18.314Z"
   },
   {
    "duration": 719,
    "start_time": "2021-08-20T15:21:39.305Z"
   },
   {
    "duration": 218,
    "start_time": "2021-08-20T15:23:02.673Z"
   },
   {
    "duration": 121,
    "start_time": "2021-08-20T15:23:13.610Z"
   },
   {
    "duration": 129,
    "start_time": "2021-08-20T15:24:28.661Z"
   },
   {
    "duration": 136,
    "start_time": "2021-08-20T15:24:36.818Z"
   },
   {
    "duration": 569,
    "start_time": "2021-08-20T15:24:49.063Z"
   },
   {
    "duration": 44,
    "start_time": "2021-08-20T15:24:57.365Z"
   },
   {
    "duration": 336,
    "start_time": "2021-08-20T15:25:17.265Z"
   },
   {
    "duration": 191,
    "start_time": "2021-08-20T15:26:41.330Z"
   },
   {
    "duration": 984,
    "start_time": "2021-08-20T15:26:52.886Z"
   },
   {
    "duration": 1460,
    "start_time": "2021-08-20T15:27:35.406Z"
   },
   {
    "duration": 1236,
    "start_time": "2021-08-20T15:27:43.198Z"
   },
   {
    "duration": 4,
    "start_time": "2021-08-20T15:28:27.320Z"
   },
   {
    "duration": 291,
    "start_time": "2021-08-20T15:28:27.327Z"
   },
   {
    "duration": 205,
    "start_time": "2021-08-20T15:28:27.621Z"
   },
   {
    "duration": 138,
    "start_time": "2021-08-20T15:28:27.830Z"
   },
   {
    "duration": 36,
    "start_time": "2021-08-20T15:28:27.971Z"
   },
   {
    "duration": 72,
    "start_time": "2021-08-20T15:28:28.010Z"
   },
   {
    "duration": 13,
    "start_time": "2021-08-20T15:28:28.084Z"
   },
   {
    "duration": 14,
    "start_time": "2021-08-20T15:28:28.100Z"
   },
   {
    "duration": 105,
    "start_time": "2021-08-20T15:28:28.118Z"
   },
   {
    "duration": 6,
    "start_time": "2021-08-20T15:28:28.226Z"
   },
   {
    "duration": 371,
    "start_time": "2021-08-20T15:28:28.234Z"
   },
   {
    "duration": 515,
    "start_time": "2021-08-20T15:28:28.608Z"
   },
   {
    "duration": 31,
    "start_time": "2021-08-20T15:28:29.126Z"
   },
   {
    "duration": 62,
    "start_time": "2021-08-20T15:28:29.159Z"
   },
   {
    "duration": 21,
    "start_time": "2021-08-20T15:28:29.224Z"
   },
   {
    "duration": 63,
    "start_time": "2021-08-20T15:28:29.247Z"
   },
   {
    "duration": 24,
    "start_time": "2021-08-20T15:28:29.313Z"
   },
   {
    "duration": 50,
    "start_time": "2021-08-20T15:28:29.340Z"
   },
   {
    "duration": 9,
    "start_time": "2021-08-20T15:28:29.394Z"
   },
   {
    "duration": 53,
    "start_time": "2021-08-20T15:28:29.406Z"
   },
   {
    "duration": 35,
    "start_time": "2021-08-20T15:28:29.462Z"
   },
   {
    "duration": 9,
    "start_time": "2021-08-20T15:28:29.500Z"
   },
   {
    "duration": 7,
    "start_time": "2021-08-20T15:28:29.511Z"
   },
   {
    "duration": 29,
    "start_time": "2021-08-20T15:28:29.520Z"
   },
   {
    "duration": 35,
    "start_time": "2021-08-20T15:28:29.551Z"
   },
   {
    "duration": 322,
    "start_time": "2021-08-20T15:28:29.590Z"
   },
   {
    "duration": 320,
    "start_time": "2021-08-20T15:28:29.920Z"
   },
   {
    "duration": 10,
    "start_time": "2021-08-20T15:28:30.243Z"
   },
   {
    "duration": 2036,
    "start_time": "2021-08-20T15:28:30.256Z"
   },
   {
    "duration": 1426,
    "start_time": "2021-08-20T15:28:32.299Z"
   },
   {
    "duration": 8,
    "start_time": "2021-08-20T15:28:33.728Z"
   },
   {
    "duration": 27,
    "start_time": "2021-08-20T15:28:33.738Z"
   },
   {
    "duration": 28,
    "start_time": "2021-08-20T15:28:33.768Z"
   },
   {
    "duration": 901,
    "start_time": "2021-08-20T15:28:33.801Z"
   },
   {
    "duration": 6,
    "start_time": "2021-08-20T15:28:34.705Z"
   },
   {
    "duration": 12,
    "start_time": "2021-08-20T15:28:34.714Z"
   },
   {
    "duration": 8,
    "start_time": "2021-08-20T15:28:34.728Z"
   },
   {
    "duration": 65,
    "start_time": "2021-08-20T15:28:34.738Z"
   },
   {
    "duration": 968,
    "start_time": "2021-08-20T15:28:34.806Z"
   },
   {
    "duration": 21,
    "start_time": "2021-08-20T15:28:35.777Z"
   },
   {
    "duration": 7,
    "start_time": "2021-08-20T15:28:35.801Z"
   },
   {
    "duration": 15,
    "start_time": "2021-08-20T15:28:35.810Z"
   },
   {
    "duration": 1235,
    "start_time": "2021-08-20T15:28:38.206Z"
   },
   {
    "duration": 1127,
    "start_time": "2021-08-20T15:28:58.969Z"
   },
   {
    "duration": 1044,
    "start_time": "2021-08-20T15:29:21.527Z"
   },
   {
    "duration": 1183,
    "start_time": "2021-08-20T15:29:55.409Z"
   },
   {
    "duration": 333,
    "start_time": "2021-08-20T15:30:56.704Z"
   },
   {
    "duration": 260,
    "start_time": "2021-08-20T15:31:39.229Z"
   },
   {
    "duration": 269,
    "start_time": "2021-08-20T15:31:41.761Z"
   },
   {
    "duration": 2073,
    "start_time": "2021-08-20T15:42:26.544Z"
   },
   {
    "duration": 2365,
    "start_time": "2021-08-20T15:43:02.937Z"
   },
   {
    "duration": 2015,
    "start_time": "2021-08-20T15:43:15.555Z"
   },
   {
    "duration": 2054,
    "start_time": "2021-08-20T15:43:24.893Z"
   },
   {
    "duration": 2235,
    "start_time": "2021-08-20T15:43:35.571Z"
   },
   {
    "duration": 1933,
    "start_time": "2021-08-20T15:43:58.298Z"
   },
   {
    "duration": 1311,
    "start_time": "2021-08-20T15:44:46.702Z"
   },
   {
    "duration": 1486,
    "start_time": "2021-08-20T15:45:03.662Z"
   },
   {
    "duration": 1508,
    "start_time": "2021-08-20T15:45:12.052Z"
   },
   {
    "duration": 1452,
    "start_time": "2021-08-20T15:46:21.074Z"
   },
   {
    "duration": 1301,
    "start_time": "2021-08-20T15:50:40.895Z"
   },
   {
    "duration": 1292,
    "start_time": "2021-08-20T15:50:50.682Z"
   },
   {
    "duration": 1071,
    "start_time": "2021-08-20T15:52:35.421Z"
   },
   {
    "duration": 1331,
    "start_time": "2021-08-20T15:53:01.289Z"
   },
   {
    "duration": 1504,
    "start_time": "2021-08-20T15:53:14.448Z"
   },
   {
    "duration": 1318,
    "start_time": "2021-08-20T15:53:29.683Z"
   },
   {
    "duration": 1300,
    "start_time": "2021-08-20T15:54:15.175Z"
   },
   {
    "duration": 1424,
    "start_time": "2021-08-20T15:55:35.282Z"
   },
   {
    "duration": 1307,
    "start_time": "2021-08-20T15:55:48.415Z"
   },
   {
    "duration": 1580,
    "start_time": "2021-08-20T15:56:01.588Z"
   },
   {
    "duration": 1310,
    "start_time": "2021-08-20T15:56:10.076Z"
   },
   {
    "duration": 1420,
    "start_time": "2021-08-20T15:56:19.040Z"
   },
   {
    "duration": 1396,
    "start_time": "2021-08-20T15:56:33.479Z"
   },
   {
    "duration": 1378,
    "start_time": "2021-08-20T15:56:47.116Z"
   },
   {
    "duration": 1843,
    "start_time": "2021-08-20T15:57:10.258Z"
   },
   {
    "duration": 1471,
    "start_time": "2021-08-20T15:57:34.719Z"
   },
   {
    "duration": 1401,
    "start_time": "2021-08-20T15:59:16.552Z"
   },
   {
    "duration": 1288,
    "start_time": "2021-08-20T15:59:36.956Z"
   },
   {
    "duration": 1471,
    "start_time": "2021-08-20T15:59:54.797Z"
   },
   {
    "duration": 1737,
    "start_time": "2021-08-20T16:01:31.824Z"
   },
   {
    "duration": 1666,
    "start_time": "2021-08-20T16:02:22.189Z"
   },
   {
    "duration": 2110,
    "start_time": "2021-08-20T16:03:32.765Z"
   },
   {
    "duration": 2603,
    "start_time": "2021-08-20T16:04:21.987Z"
   },
   {
    "duration": 6,
    "start_time": "2021-08-20T16:15:57.888Z"
   },
   {
    "duration": 273,
    "start_time": "2021-08-20T16:15:57.898Z"
   },
   {
    "duration": 227,
    "start_time": "2021-08-20T16:15:58.174Z"
   },
   {
    "duration": 148,
    "start_time": "2021-08-20T16:15:58.404Z"
   },
   {
    "duration": 29,
    "start_time": "2021-08-20T16:15:58.554Z"
   },
   {
    "duration": 55,
    "start_time": "2021-08-20T16:15:58.586Z"
   },
   {
    "duration": 5,
    "start_time": "2021-08-20T16:15:58.644Z"
   },
   {
    "duration": 17,
    "start_time": "2021-08-20T16:15:58.653Z"
   },
   {
    "duration": 108,
    "start_time": "2021-08-20T16:15:58.674Z"
   },
   {
    "duration": 6,
    "start_time": "2021-08-20T16:15:58.789Z"
   },
   {
    "duration": 400,
    "start_time": "2021-08-20T16:15:58.798Z"
   },
   {
    "duration": 361,
    "start_time": "2021-08-20T16:15:59.201Z"
   },
   {
    "duration": 47,
    "start_time": "2021-08-20T16:15:59.565Z"
   },
   {
    "duration": 49,
    "start_time": "2021-08-20T16:15:59.614Z"
   },
   {
    "duration": 40,
    "start_time": "2021-08-20T16:15:59.665Z"
   },
   {
    "duration": 38,
    "start_time": "2021-08-20T16:15:59.707Z"
   },
   {
    "duration": 46,
    "start_time": "2021-08-20T16:15:59.747Z"
   },
   {
    "duration": 32,
    "start_time": "2021-08-20T16:15:59.797Z"
   },
   {
    "duration": 7,
    "start_time": "2021-08-20T16:15:59.832Z"
   },
   {
    "duration": 80,
    "start_time": "2021-08-20T16:15:59.841Z"
   },
   {
    "duration": 6,
    "start_time": "2021-08-20T16:15:59.923Z"
   },
   {
    "duration": 16,
    "start_time": "2021-08-20T16:15:59.932Z"
   },
   {
    "duration": 10,
    "start_time": "2021-08-20T16:15:59.954Z"
   },
   {
    "duration": 51,
    "start_time": "2021-08-20T16:15:59.967Z"
   },
   {
    "duration": 26,
    "start_time": "2021-08-20T16:16:00.021Z"
   },
   {
    "duration": 327,
    "start_time": "2021-08-20T16:16:00.050Z"
   },
   {
    "duration": 329,
    "start_time": "2021-08-20T16:16:00.380Z"
   },
   {
    "duration": 12,
    "start_time": "2021-08-20T16:16:00.712Z"
   },
   {
    "duration": 2492,
    "start_time": "2021-08-20T16:16:00.727Z"
   },
   {
    "duration": 7,
    "start_time": "2021-08-20T16:16:03.221Z"
   },
   {
    "duration": 27,
    "start_time": "2021-08-20T16:16:03.230Z"
   },
   {
    "duration": 31,
    "start_time": "2021-08-20T16:16:03.259Z"
   },
   {
    "duration": 874,
    "start_time": "2021-08-20T16:16:03.293Z"
   },
   {
    "duration": 19,
    "start_time": "2021-08-20T16:16:04.171Z"
   },
   {
    "duration": 14,
    "start_time": "2021-08-20T16:16:04.194Z"
   },
   {
    "duration": 8,
    "start_time": "2021-08-20T16:16:04.211Z"
   },
   {
    "duration": 22,
    "start_time": "2021-08-20T16:16:04.222Z"
   },
   {
    "duration": 1058,
    "start_time": "2021-08-20T16:16:04.246Z"
   },
   {
    "duration": 14,
    "start_time": "2021-08-20T16:16:05.306Z"
   },
   {
    "duration": 296,
    "start_time": "2021-08-20T16:16:05.322Z"
   },
   {
    "duration": 259,
    "start_time": "2021-08-20T16:16:05.622Z"
   },
   {
    "duration": 8,
    "start_time": "2021-08-20T16:19:47.643Z"
   },
   {
    "duration": 7,
    "start_time": "2021-08-20T16:20:39.453Z"
   },
   {
    "duration": 9,
    "start_time": "2021-08-20T16:20:50.788Z"
   },
   {
    "duration": 8,
    "start_time": "2021-08-20T16:21:24.305Z"
   },
   {
    "duration": 9,
    "start_time": "2021-08-20T16:21:33.968Z"
   },
   {
    "duration": 11,
    "start_time": "2021-08-20T16:21:59.179Z"
   },
   {
    "duration": 1976,
    "start_time": "2021-08-20T19:46:34.660Z"
   },
   {
    "duration": 351,
    "start_time": "2021-08-20T19:46:36.640Z"
   },
   {
    "duration": 312,
    "start_time": "2021-08-20T19:46:36.995Z"
   },
   {
    "duration": 197,
    "start_time": "2021-08-20T19:46:37.310Z"
   },
   {
    "duration": 36,
    "start_time": "2021-08-20T19:46:37.510Z"
   },
   {
    "duration": 60,
    "start_time": "2021-08-20T19:46:37.555Z"
   },
   {
    "duration": 5,
    "start_time": "2021-08-20T19:46:37.618Z"
   },
   {
    "duration": 18,
    "start_time": "2021-08-20T19:46:37.627Z"
   },
   {
    "duration": 108,
    "start_time": "2021-08-20T19:46:37.648Z"
   },
   {
    "duration": 6,
    "start_time": "2021-08-20T19:46:37.759Z"
   },
   {
    "duration": 1041,
    "start_time": "2021-08-20T19:46:37.768Z"
   },
   {
    "duration": 360,
    "start_time": "2021-08-20T19:46:38.812Z"
   },
   {
    "duration": 32,
    "start_time": "2021-08-20T19:46:39.174Z"
   },
   {
    "duration": 77,
    "start_time": "2021-08-20T19:46:39.208Z"
   },
   {
    "duration": 21,
    "start_time": "2021-08-20T19:46:39.288Z"
   },
   {
    "duration": 55,
    "start_time": "2021-08-20T19:46:39.311Z"
   },
   {
    "duration": 25,
    "start_time": "2021-08-20T19:46:39.368Z"
   },
   {
    "duration": 30,
    "start_time": "2021-08-20T19:46:39.395Z"
   },
   {
    "duration": 7,
    "start_time": "2021-08-20T19:46:39.428Z"
   },
   {
    "duration": 49,
    "start_time": "2021-08-20T19:46:39.457Z"
   },
   {
    "duration": 6,
    "start_time": "2021-08-20T19:46:39.508Z"
   },
   {
    "duration": 42,
    "start_time": "2021-08-20T19:46:39.516Z"
   },
   {
    "duration": 17,
    "start_time": "2021-08-20T19:46:39.563Z"
   },
   {
    "duration": 41,
    "start_time": "2021-08-20T19:46:39.583Z"
   },
   {
    "duration": 5,
    "start_time": "2021-08-20T19:46:39.627Z"
   },
   {
    "duration": 267,
    "start_time": "2021-08-20T19:46:39.635Z"
   },
   {
    "duration": 306,
    "start_time": "2021-08-20T19:46:39.904Z"
   },
   {
    "duration": 12,
    "start_time": "2021-08-20T19:46:40.212Z"
   },
   {
    "duration": 2395,
    "start_time": "2021-08-20T19:46:40.226Z"
   },
   {
    "duration": 8,
    "start_time": "2021-08-20T19:46:42.624Z"
   },
   {
    "duration": 31,
    "start_time": "2021-08-20T19:46:42.635Z"
   },
   {
    "duration": 12,
    "start_time": "2021-08-20T19:46:42.668Z"
   },
   {
    "duration": 820,
    "start_time": "2021-08-20T19:46:42.682Z"
   },
   {
    "duration": 6,
    "start_time": "2021-08-20T19:46:43.505Z"
   },
   {
    "duration": 20,
    "start_time": "2021-08-20T19:46:43.513Z"
   },
   {
    "duration": 28,
    "start_time": "2021-08-20T19:46:43.536Z"
   },
   {
    "duration": 28,
    "start_time": "2021-08-20T19:46:43.566Z"
   },
   {
    "duration": 761,
    "start_time": "2021-08-20T19:46:43.597Z"
   },
   {
    "duration": 13,
    "start_time": "2021-08-20T19:46:44.361Z"
   },
   {
    "duration": 260,
    "start_time": "2021-08-20T19:46:44.377Z"
   },
   {
    "duration": 240,
    "start_time": "2021-08-20T19:46:44.639Z"
   },
   {
    "duration": 274,
    "start_time": "2021-08-20T19:46:44.881Z"
   },
   {
    "duration": 5,
    "start_time": "2021-08-20T19:46:45.158Z"
   },
   {
    "duration": 10,
    "start_time": "2021-08-20T19:46:45.165Z"
   },
   {
    "duration": 12,
    "start_time": "2021-08-20T19:46:45.178Z"
   },
   {
    "duration": 1715,
    "start_time": "2021-08-20T19:50:03.485Z"
   },
   {
    "duration": 1445,
    "start_time": "2021-08-20T19:50:15.030Z"
   },
   {
    "duration": 1703,
    "start_time": "2021-08-20T19:50:25.623Z"
   },
   {
    "duration": 1024,
    "start_time": "2021-12-12T18:12:54.476Z"
   },
   {
    "duration": 174,
    "start_time": "2021-12-12T18:12:56.822Z"
   },
   {
    "duration": 38,
    "start_time": "2021-12-12T18:13:11.472Z"
   },
   {
    "duration": 157,
    "start_time": "2021-12-12T18:20:42.745Z"
   },
   {
    "duration": 4,
    "start_time": "2021-12-12T18:21:00.546Z"
   },
   {
    "duration": 174,
    "start_time": "2021-12-12T18:21:00.552Z"
   },
   {
    "duration": 148,
    "start_time": "2021-12-12T18:21:00.728Z"
   },
   {
    "duration": 100,
    "start_time": "2021-12-12T18:21:00.878Z"
   },
   {
    "duration": 24,
    "start_time": "2021-12-12T18:21:00.981Z"
   },
   {
    "duration": 37,
    "start_time": "2021-12-12T18:21:04.213Z"
   },
   {
    "duration": 119,
    "start_time": "2021-12-12T18:22:42.395Z"
   },
   {
    "duration": 1430,
    "start_time": "2022-01-16T14:51:02.709Z"
   },
   {
    "duration": 248,
    "start_time": "2022-01-16T14:51:04.142Z"
   },
   {
    "duration": 206,
    "start_time": "2022-01-16T14:51:04.393Z"
   },
   {
    "duration": 151,
    "start_time": "2022-01-16T14:51:04.602Z"
   },
   {
    "duration": 31,
    "start_time": "2022-01-16T14:51:04.755Z"
   },
   {
    "duration": 43,
    "start_time": "2022-01-16T14:51:04.789Z"
   },
   {
    "duration": 7,
    "start_time": "2022-01-16T14:51:04.835Z"
   },
   {
    "duration": 29,
    "start_time": "2022-01-16T14:51:04.845Z"
   },
   {
    "duration": 121,
    "start_time": "2022-01-16T14:51:04.877Z"
   },
   {
    "duration": 6,
    "start_time": "2022-01-16T14:51:05.001Z"
   },
   {
    "duration": 417,
    "start_time": "2022-01-16T14:51:05.010Z"
   },
   {
    "duration": 370,
    "start_time": "2022-01-16T14:51:05.430Z"
   },
   {
    "duration": 33,
    "start_time": "2022-01-16T14:51:05.802Z"
   },
   {
    "duration": 76,
    "start_time": "2022-01-16T14:51:05.838Z"
   },
   {
    "duration": 22,
    "start_time": "2022-01-16T14:51:05.917Z"
   },
   {
    "duration": 63,
    "start_time": "2022-01-16T14:51:05.942Z"
   },
   {
    "duration": 25,
    "start_time": "2022-01-16T14:51:06.007Z"
   },
   {
    "duration": 60,
    "start_time": "2022-01-16T14:51:06.035Z"
   },
   {
    "duration": 12,
    "start_time": "2022-01-16T14:51:06.098Z"
   },
   {
    "duration": 73,
    "start_time": "2022-01-16T14:51:06.113Z"
   },
   {
    "duration": 5,
    "start_time": "2022-01-16T14:51:06.189Z"
   },
   {
    "duration": 8,
    "start_time": "2022-01-16T14:51:06.197Z"
   },
   {
    "duration": 6,
    "start_time": "2022-01-16T14:51:06.211Z"
   },
   {
    "duration": 62,
    "start_time": "2022-01-16T14:51:06.220Z"
   },
   {
    "duration": 9,
    "start_time": "2022-01-16T14:51:06.285Z"
   },
   {
    "duration": 326,
    "start_time": "2022-01-16T14:51:06.297Z"
   },
   {
    "duration": 314,
    "start_time": "2022-01-16T14:51:06.625Z"
   },
   {
    "duration": 25,
    "start_time": "2022-01-16T14:51:06.942Z"
   },
   {
    "duration": 2543,
    "start_time": "2022-01-16T14:51:06.970Z"
   },
   {
    "duration": 6,
    "start_time": "2022-01-16T14:51:09.515Z"
   },
   {
    "duration": 18,
    "start_time": "2022-01-16T14:51:09.524Z"
   },
   {
    "duration": 18,
    "start_time": "2022-01-16T14:51:09.568Z"
   },
   {
    "duration": 966,
    "start_time": "2022-01-16T14:51:09.588Z"
   },
   {
    "duration": 11,
    "start_time": "2022-01-16T14:51:10.556Z"
   },
   {
    "duration": 7,
    "start_time": "2022-01-16T14:51:10.571Z"
   },
   {
    "duration": 14,
    "start_time": "2022-01-16T14:51:10.580Z"
   },
   {
    "duration": 19,
    "start_time": "2022-01-16T14:51:10.597Z"
   },
   {
    "duration": 864,
    "start_time": "2022-01-16T14:51:10.618Z"
   },
   {
    "duration": 21,
    "start_time": "2022-01-16T14:51:11.485Z"
   },
   {
    "duration": 331,
    "start_time": "2022-01-16T14:51:11.509Z"
   },
   {
    "duration": 270,
    "start_time": "2022-01-16T14:51:11.842Z"
   },
   {
    "duration": 310,
    "start_time": "2022-01-16T14:51:12.115Z"
   },
   {
    "duration": 9,
    "start_time": "2022-01-16T14:51:12.428Z"
   },
   {
    "duration": 28,
    "start_time": "2022-01-16T14:51:12.440Z"
   },
   {
    "duration": 13,
    "start_time": "2022-01-16T14:51:12.472Z"
   }
  ],
  "kernelspec": {
   "display_name": "Python 3",
   "language": "python",
   "name": "python3"
  },
  "language_info": {
   "codemirror_mode": {
    "name": "ipython",
    "version": 3
   },
   "file_extension": ".py",
   "mimetype": "text/x-python",
   "name": "python",
   "nbconvert_exporter": "python",
   "pygments_lexer": "ipython3",
   "version": "3.8.8"
  },
  "toc": {
   "base_numbering": 1,
   "nav_menu": {},
   "number_sections": true,
   "sideBar": true,
   "skip_h1_title": true,
   "title_cell": "Table of Contents",
   "title_sidebar": "Contents",
   "toc_cell": false,
   "toc_position": {},
   "toc_section_display": true,
   "toc_window_display": false
  }
 },
 "nbformat": 4,
 "nbformat_minor": 2
}

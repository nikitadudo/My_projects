{
 "cells": [
  {
   "cell_type": "markdown",
   "metadata": {},
   "source": [
    "## Аналитика в интернет магазине"
   ]
  },
  {
   "cell_type": "markdown",
   "metadata": {},
   "source": [
    "Описание проекта: Вместе с отделом маркетинга подготовили список гипотез для увеличения выручки.\n",
    "Приоритизировать гипотезы, запустить A/B-тест и проанализировать результаты."
   ]
  },
  {
   "cell_type": "markdown",
   "metadata": {},
   "source": [
    "Импортируем нужные библиотеки"
   ]
  },
  {
   "cell_type": "code",
   "execution_count": 1,
   "metadata": {},
   "outputs": [],
   "source": [
    "import pandas as pd\n",
    "import numpy as np\n",
    "import matplotlib.pyplot as plt\n",
    "import scipy.stats as stats"
   ]
  },
  {
   "cell_type": "markdown",
   "metadata": {},
   "source": [
    "## Часть 1. Приоритизация гипотез."
   ]
  },
  {
   "cell_type": "markdown",
   "metadata": {},
   "source": [
    "Изучим датафрейм"
   ]
  },
  {
   "cell_type": "code",
   "execution_count": 2,
   "metadata": {},
   "outputs": [],
   "source": [
    "hypothesis = pd.read_csv('/datasets/hypothesis.csv')"
   ]
  },
  {
   "cell_type": "markdown",
   "metadata": {},
   "source": [
    "Добавим опцию, чтобы видеть ьназвание полностью"
   ]
  },
  {
   "cell_type": "code",
   "execution_count": 3,
   "metadata": {},
   "outputs": [],
   "source": [
    "pd.options.display.max_colwidth = 120"
   ]
  },
  {
   "cell_type": "code",
   "execution_count": 4,
   "metadata": {},
   "outputs": [
    {
     "data": {
      "text/html": [
       "<div>\n",
       "<style scoped>\n",
       "    .dataframe tbody tr th:only-of-type {\n",
       "        vertical-align: middle;\n",
       "    }\n",
       "\n",
       "    .dataframe tbody tr th {\n",
       "        vertical-align: top;\n",
       "    }\n",
       "\n",
       "    .dataframe thead th {\n",
       "        text-align: right;\n",
       "    }\n",
       "</style>\n",
       "<table border=\"1\" class=\"dataframe\">\n",
       "  <thead>\n",
       "    <tr style=\"text-align: right;\">\n",
       "      <th></th>\n",
       "      <th>Hypothesis</th>\n",
       "      <th>Reach</th>\n",
       "      <th>Impact</th>\n",
       "      <th>Confidence</th>\n",
       "      <th>Efforts</th>\n",
       "    </tr>\n",
       "  </thead>\n",
       "  <tbody>\n",
       "    <tr>\n",
       "      <td>0</td>\n",
       "      <td>Добавить два новых канала привлечения трафика, что позволит привлекать на 30% больше пользователей</td>\n",
       "      <td>3</td>\n",
       "      <td>10</td>\n",
       "      <td>8</td>\n",
       "      <td>6</td>\n",
       "    </tr>\n",
       "    <tr>\n",
       "      <td>1</td>\n",
       "      <td>Запустить собственную службу доставки, что сократит срок доставки заказов</td>\n",
       "      <td>2</td>\n",
       "      <td>5</td>\n",
       "      <td>4</td>\n",
       "      <td>10</td>\n",
       "    </tr>\n",
       "    <tr>\n",
       "      <td>2</td>\n",
       "      <td>Добавить блоки рекомендаций товаров на сайт интернет магазина, чтобы повысить конверсию и средний чек заказа</td>\n",
       "      <td>8</td>\n",
       "      <td>3</td>\n",
       "      <td>7</td>\n",
       "      <td>3</td>\n",
       "    </tr>\n",
       "    <tr>\n",
       "      <td>3</td>\n",
       "      <td>Изменить структура категорий, что увеличит конверсию, т.к. пользователи быстрее найдут нужный товар</td>\n",
       "      <td>8</td>\n",
       "      <td>3</td>\n",
       "      <td>3</td>\n",
       "      <td>8</td>\n",
       "    </tr>\n",
       "    <tr>\n",
       "      <td>4</td>\n",
       "      <td>Изменить цвет фона главной страницы, чтобы увеличить вовлеченность пользователей</td>\n",
       "      <td>3</td>\n",
       "      <td>1</td>\n",
       "      <td>1</td>\n",
       "      <td>1</td>\n",
       "    </tr>\n",
       "  </tbody>\n",
       "</table>\n",
       "</div>"
      ],
      "text/plain": [
       "                                                                                                     Hypothesis  \\\n",
       "0            Добавить два новых канала привлечения трафика, что позволит привлекать на 30% больше пользователей   \n",
       "1                                     Запустить собственную службу доставки, что сократит срок доставки заказов   \n",
       "2  Добавить блоки рекомендаций товаров на сайт интернет магазина, чтобы повысить конверсию и средний чек заказа   \n",
       "3           Изменить структура категорий, что увеличит конверсию, т.к. пользователи быстрее найдут нужный товар   \n",
       "4                              Изменить цвет фона главной страницы, чтобы увеличить вовлеченность пользователей   \n",
       "\n",
       "   Reach  Impact  Confidence  Efforts  \n",
       "0      3      10           8        6  \n",
       "1      2       5           4       10  \n",
       "2      8       3           7        3  \n",
       "3      8       3           3        8  \n",
       "4      3       1           1        1  "
      ]
     },
     "execution_count": 4,
     "metadata": {},
     "output_type": "execute_result"
    }
   ],
   "source": [
    "hypothesis.head(5)"
   ]
  },
  {
   "cell_type": "code",
   "execution_count": 5,
   "metadata": {},
   "outputs": [
    {
     "name": "stdout",
     "output_type": "stream",
     "text": [
      "<class 'pandas.core.frame.DataFrame'>\n",
      "RangeIndex: 9 entries, 0 to 8\n",
      "Data columns (total 5 columns):\n",
      "Hypothesis    9 non-null object\n",
      "Reach         9 non-null int64\n",
      "Impact        9 non-null int64\n",
      "Confidence    9 non-null int64\n",
      "Efforts       9 non-null int64\n",
      "dtypes: int64(4), object(1)\n",
      "memory usage: 488.0+ bytes\n"
     ]
    }
   ],
   "source": [
    "hypothesis.info()"
   ]
  },
  {
   "cell_type": "markdown",
   "metadata": {},
   "source": [
    "Заменим названия столбцов на более корректные"
   ]
  },
  {
   "cell_type": "code",
   "execution_count": 6,
   "metadata": {},
   "outputs": [],
   "source": [
    "hypothesis.columns = ['hypothesis', 'reach', 'impact', 'confidence', 'efforts']"
   ]
  },
  {
   "cell_type": "markdown",
   "metadata": {},
   "source": [
    "Прменим фреймворк ICE для приоритезации гипотез"
   ]
  },
  {
   "cell_type": "markdown",
   "metadata": {},
   "source": [
    "$$ ICE =  \\frac{Impact * Confidence}{Efforts} $$"
   ]
  },
  {
   "cell_type": "code",
   "execution_count": 7,
   "metadata": {},
   "outputs": [],
   "source": [
    "hypothesis['ice'] = (hypothesis['impact'] * hypothesis['confidence']) / hypothesis['efforts']"
   ]
  },
  {
   "cell_type": "markdown",
   "metadata": {},
   "source": [
    "Прменим фреймворк RICE для приоритезации гипотез"
   ]
  },
  {
   "cell_type": "markdown",
   "metadata": {},
   "source": [
    "$$ RICE = \\frac{Reach * Impact * Confidence}{Effort}"
   ]
  },
  {
   "cell_type": "code",
   "execution_count": 8,
   "metadata": {},
   "outputs": [],
   "source": [
    "hypothesis['rice'] = (hypothesis['impact'] * hypothesis['confidence'] * hypothesis['reach']) / hypothesis['efforts']"
   ]
  },
  {
   "cell_type": "code",
   "execution_count": 9,
   "metadata": {},
   "outputs": [
    {
     "data": {
      "text/html": [
       "<div>\n",
       "<style scoped>\n",
       "    .dataframe tbody tr th:only-of-type {\n",
       "        vertical-align: middle;\n",
       "    }\n",
       "\n",
       "    .dataframe tbody tr th {\n",
       "        vertical-align: top;\n",
       "    }\n",
       "\n",
       "    .dataframe thead th {\n",
       "        text-align: right;\n",
       "    }\n",
       "</style>\n",
       "<table border=\"1\" class=\"dataframe\">\n",
       "  <thead>\n",
       "    <tr style=\"text-align: right;\">\n",
       "      <th></th>\n",
       "      <th>hypothesis</th>\n",
       "      <th>reach</th>\n",
       "      <th>impact</th>\n",
       "      <th>confidence</th>\n",
       "      <th>efforts</th>\n",
       "      <th>ice</th>\n",
       "      <th>rice</th>\n",
       "    </tr>\n",
       "  </thead>\n",
       "  <tbody>\n",
       "    <tr>\n",
       "      <td>8</td>\n",
       "      <td>Запустить акцию, дающую скидку на товар в день рождения</td>\n",
       "      <td>1</td>\n",
       "      <td>9</td>\n",
       "      <td>9</td>\n",
       "      <td>5</td>\n",
       "      <td>16.200000</td>\n",
       "      <td>16.2</td>\n",
       "    </tr>\n",
       "    <tr>\n",
       "      <td>0</td>\n",
       "      <td>Добавить два новых канала привлечения трафика, что позволит привлекать на 30% больше пользователей</td>\n",
       "      <td>3</td>\n",
       "      <td>10</td>\n",
       "      <td>8</td>\n",
       "      <td>6</td>\n",
       "      <td>13.333333</td>\n",
       "      <td>40.0</td>\n",
       "    </tr>\n",
       "    <tr>\n",
       "      <td>7</td>\n",
       "      <td>Добавить форму подписки на все основные страницы, чтобы собрать базу клиентов для email-рассылок</td>\n",
       "      <td>10</td>\n",
       "      <td>7</td>\n",
       "      <td>8</td>\n",
       "      <td>5</td>\n",
       "      <td>11.200000</td>\n",
       "      <td>112.0</td>\n",
       "    </tr>\n",
       "    <tr>\n",
       "      <td>6</td>\n",
       "      <td>Показать на главной странице баннеры с актуальными акциями и распродажами, чтобы увеличить конверсию</td>\n",
       "      <td>5</td>\n",
       "      <td>3</td>\n",
       "      <td>8</td>\n",
       "      <td>3</td>\n",
       "      <td>8.000000</td>\n",
       "      <td>40.0</td>\n",
       "    </tr>\n",
       "    <tr>\n",
       "      <td>2</td>\n",
       "      <td>Добавить блоки рекомендаций товаров на сайт интернет магазина, чтобы повысить конверсию и средний чек заказа</td>\n",
       "      <td>8</td>\n",
       "      <td>3</td>\n",
       "      <td>7</td>\n",
       "      <td>3</td>\n",
       "      <td>7.000000</td>\n",
       "      <td>56.0</td>\n",
       "    </tr>\n",
       "    <tr>\n",
       "      <td>1</td>\n",
       "      <td>Запустить собственную службу доставки, что сократит срок доставки заказов</td>\n",
       "      <td>2</td>\n",
       "      <td>5</td>\n",
       "      <td>4</td>\n",
       "      <td>10</td>\n",
       "      <td>2.000000</td>\n",
       "      <td>4.0</td>\n",
       "    </tr>\n",
       "    <tr>\n",
       "      <td>5</td>\n",
       "      <td>Добавить страницу отзывов клиентов о магазине, что позволит увеличить количество заказов</td>\n",
       "      <td>3</td>\n",
       "      <td>2</td>\n",
       "      <td>2</td>\n",
       "      <td>3</td>\n",
       "      <td>1.333333</td>\n",
       "      <td>4.0</td>\n",
       "    </tr>\n",
       "    <tr>\n",
       "      <td>3</td>\n",
       "      <td>Изменить структура категорий, что увеличит конверсию, т.к. пользователи быстрее найдут нужный товар</td>\n",
       "      <td>8</td>\n",
       "      <td>3</td>\n",
       "      <td>3</td>\n",
       "      <td>8</td>\n",
       "      <td>1.125000</td>\n",
       "      <td>9.0</td>\n",
       "    </tr>\n",
       "    <tr>\n",
       "      <td>4</td>\n",
       "      <td>Изменить цвет фона главной страницы, чтобы увеличить вовлеченность пользователей</td>\n",
       "      <td>3</td>\n",
       "      <td>1</td>\n",
       "      <td>1</td>\n",
       "      <td>1</td>\n",
       "      <td>1.000000</td>\n",
       "      <td>3.0</td>\n",
       "    </tr>\n",
       "  </tbody>\n",
       "</table>\n",
       "</div>"
      ],
      "text/plain": [
       "                                                                                                     hypothesis  \\\n",
       "8                                                       Запустить акцию, дающую скидку на товар в день рождения   \n",
       "0            Добавить два новых канала привлечения трафика, что позволит привлекать на 30% больше пользователей   \n",
       "7              Добавить форму подписки на все основные страницы, чтобы собрать базу клиентов для email-рассылок   \n",
       "6          Показать на главной странице баннеры с актуальными акциями и распродажами, чтобы увеличить конверсию   \n",
       "2  Добавить блоки рекомендаций товаров на сайт интернет магазина, чтобы повысить конверсию и средний чек заказа   \n",
       "1                                     Запустить собственную службу доставки, что сократит срок доставки заказов   \n",
       "5                      Добавить страницу отзывов клиентов о магазине, что позволит увеличить количество заказов   \n",
       "3           Изменить структура категорий, что увеличит конверсию, т.к. пользователи быстрее найдут нужный товар   \n",
       "4                              Изменить цвет фона главной страницы, чтобы увеличить вовлеченность пользователей   \n",
       "\n",
       "   reach  impact  confidence  efforts        ice   rice  \n",
       "8      1       9           9        5  16.200000   16.2  \n",
       "0      3      10           8        6  13.333333   40.0  \n",
       "7     10       7           8        5  11.200000  112.0  \n",
       "6      5       3           8        3   8.000000   40.0  \n",
       "2      8       3           7        3   7.000000   56.0  \n",
       "1      2       5           4       10   2.000000    4.0  \n",
       "5      3       2           2        3   1.333333    4.0  \n",
       "3      8       3           3        8   1.125000    9.0  \n",
       "4      3       1           1        1   1.000000    3.0  "
      ]
     },
     "execution_count": 9,
     "metadata": {},
     "output_type": "execute_result"
    }
   ],
   "source": [
    "hypothesis.sort_values(by='ice', ascending=False)"
   ]
  },
  {
   "cell_type": "code",
   "execution_count": 10,
   "metadata": {},
   "outputs": [
    {
     "data": {
      "text/html": [
       "<div>\n",
       "<style scoped>\n",
       "    .dataframe tbody tr th:only-of-type {\n",
       "        vertical-align: middle;\n",
       "    }\n",
       "\n",
       "    .dataframe tbody tr th {\n",
       "        vertical-align: top;\n",
       "    }\n",
       "\n",
       "    .dataframe thead th {\n",
       "        text-align: right;\n",
       "    }\n",
       "</style>\n",
       "<table border=\"1\" class=\"dataframe\">\n",
       "  <thead>\n",
       "    <tr style=\"text-align: right;\">\n",
       "      <th></th>\n",
       "      <th>hypothesis</th>\n",
       "      <th>reach</th>\n",
       "      <th>impact</th>\n",
       "      <th>confidence</th>\n",
       "      <th>efforts</th>\n",
       "      <th>ice</th>\n",
       "      <th>rice</th>\n",
       "    </tr>\n",
       "  </thead>\n",
       "  <tbody>\n",
       "    <tr>\n",
       "      <td>7</td>\n",
       "      <td>Добавить форму подписки на все основные страницы, чтобы собрать базу клиентов для email-рассылок</td>\n",
       "      <td>10</td>\n",
       "      <td>7</td>\n",
       "      <td>8</td>\n",
       "      <td>5</td>\n",
       "      <td>11.200000</td>\n",
       "      <td>112.0</td>\n",
       "    </tr>\n",
       "    <tr>\n",
       "      <td>2</td>\n",
       "      <td>Добавить блоки рекомендаций товаров на сайт интернет магазина, чтобы повысить конверсию и средний чек заказа</td>\n",
       "      <td>8</td>\n",
       "      <td>3</td>\n",
       "      <td>7</td>\n",
       "      <td>3</td>\n",
       "      <td>7.000000</td>\n",
       "      <td>56.0</td>\n",
       "    </tr>\n",
       "    <tr>\n",
       "      <td>0</td>\n",
       "      <td>Добавить два новых канала привлечения трафика, что позволит привлекать на 30% больше пользователей</td>\n",
       "      <td>3</td>\n",
       "      <td>10</td>\n",
       "      <td>8</td>\n",
       "      <td>6</td>\n",
       "      <td>13.333333</td>\n",
       "      <td>40.0</td>\n",
       "    </tr>\n",
       "    <tr>\n",
       "      <td>6</td>\n",
       "      <td>Показать на главной странице баннеры с актуальными акциями и распродажами, чтобы увеличить конверсию</td>\n",
       "      <td>5</td>\n",
       "      <td>3</td>\n",
       "      <td>8</td>\n",
       "      <td>3</td>\n",
       "      <td>8.000000</td>\n",
       "      <td>40.0</td>\n",
       "    </tr>\n",
       "    <tr>\n",
       "      <td>8</td>\n",
       "      <td>Запустить акцию, дающую скидку на товар в день рождения</td>\n",
       "      <td>1</td>\n",
       "      <td>9</td>\n",
       "      <td>9</td>\n",
       "      <td>5</td>\n",
       "      <td>16.200000</td>\n",
       "      <td>16.2</td>\n",
       "    </tr>\n",
       "    <tr>\n",
       "      <td>3</td>\n",
       "      <td>Изменить структура категорий, что увеличит конверсию, т.к. пользователи быстрее найдут нужный товар</td>\n",
       "      <td>8</td>\n",
       "      <td>3</td>\n",
       "      <td>3</td>\n",
       "      <td>8</td>\n",
       "      <td>1.125000</td>\n",
       "      <td>9.0</td>\n",
       "    </tr>\n",
       "    <tr>\n",
       "      <td>1</td>\n",
       "      <td>Запустить собственную службу доставки, что сократит срок доставки заказов</td>\n",
       "      <td>2</td>\n",
       "      <td>5</td>\n",
       "      <td>4</td>\n",
       "      <td>10</td>\n",
       "      <td>2.000000</td>\n",
       "      <td>4.0</td>\n",
       "    </tr>\n",
       "    <tr>\n",
       "      <td>5</td>\n",
       "      <td>Добавить страницу отзывов клиентов о магазине, что позволит увеличить количество заказов</td>\n",
       "      <td>3</td>\n",
       "      <td>2</td>\n",
       "      <td>2</td>\n",
       "      <td>3</td>\n",
       "      <td>1.333333</td>\n",
       "      <td>4.0</td>\n",
       "    </tr>\n",
       "    <tr>\n",
       "      <td>4</td>\n",
       "      <td>Изменить цвет фона главной страницы, чтобы увеличить вовлеченность пользователей</td>\n",
       "      <td>3</td>\n",
       "      <td>1</td>\n",
       "      <td>1</td>\n",
       "      <td>1</td>\n",
       "      <td>1.000000</td>\n",
       "      <td>3.0</td>\n",
       "    </tr>\n",
       "  </tbody>\n",
       "</table>\n",
       "</div>"
      ],
      "text/plain": [
       "                                                                                                     hypothesis  \\\n",
       "7              Добавить форму подписки на все основные страницы, чтобы собрать базу клиентов для email-рассылок   \n",
       "2  Добавить блоки рекомендаций товаров на сайт интернет магазина, чтобы повысить конверсию и средний чек заказа   \n",
       "0            Добавить два новых канала привлечения трафика, что позволит привлекать на 30% больше пользователей   \n",
       "6          Показать на главной странице баннеры с актуальными акциями и распродажами, чтобы увеличить конверсию   \n",
       "8                                                       Запустить акцию, дающую скидку на товар в день рождения   \n",
       "3           Изменить структура категорий, что увеличит конверсию, т.к. пользователи быстрее найдут нужный товар   \n",
       "1                                     Запустить собственную службу доставки, что сократит срок доставки заказов   \n",
       "5                      Добавить страницу отзывов клиентов о магазине, что позволит увеличить количество заказов   \n",
       "4                              Изменить цвет фона главной страницы, чтобы увеличить вовлеченность пользователей   \n",
       "\n",
       "   reach  impact  confidence  efforts        ice   rice  \n",
       "7     10       7           8        5  11.200000  112.0  \n",
       "2      8       3           7        3   7.000000   56.0  \n",
       "0      3      10           8        6  13.333333   40.0  \n",
       "6      5       3           8        3   8.000000   40.0  \n",
       "8      1       9           9        5  16.200000   16.2  \n",
       "3      8       3           3        8   1.125000    9.0  \n",
       "1      2       5           4       10   2.000000    4.0  \n",
       "5      3       2           2        3   1.333333    4.0  \n",
       "4      3       1           1        1   1.000000    3.0  "
      ]
     },
     "execution_count": 10,
     "metadata": {},
     "output_type": "execute_result"
    }
   ],
   "source": [
    "hypothesis.sort_values(by='rice', ascending=False)"
   ]
  },
  {
   "cell_type": "markdown",
   "metadata": {},
   "source": [
    "### Вывод"
   ]
  },
  {
   "cell_type": "markdown",
   "metadata": {},
   "source": [
    "Приоритезировали гипотезы и выяснили, что используя фреймворк ice гипотезам с индексом 8, 0, 7 отдаем главные приоритеты. Но используя фреймворк rice ситуация изменилась и самыми приоритетными являеются гипотезы 7, 2, 0. Это связано с тем, что у гипотез 7 и 2 высокий показатель пользователей, которых затронет изменение. А у самого приоритетного при фреймворке ice, этот показатель самый минимальный"
   ]
  },
  {
   "cell_type": "markdown",
   "metadata": {},
   "source": [
    "## Часть 2. Анализ A/B-теста"
   ]
  },
  {
   "cell_type": "markdown",
   "metadata": {},
   "source": [
    "Изучим датафреймы"
   ]
  },
  {
   "cell_type": "code",
   "execution_count": 11,
   "metadata": {},
   "outputs": [],
   "source": [
    "orders = pd.read_csv('/datasets/orders.csv')"
   ]
  },
  {
   "cell_type": "code",
   "execution_count": 12,
   "metadata": {},
   "outputs": [
    {
     "data": {
      "text/html": [
       "<div>\n",
       "<style scoped>\n",
       "    .dataframe tbody tr th:only-of-type {\n",
       "        vertical-align: middle;\n",
       "    }\n",
       "\n",
       "    .dataframe tbody tr th {\n",
       "        vertical-align: top;\n",
       "    }\n",
       "\n",
       "    .dataframe thead th {\n",
       "        text-align: right;\n",
       "    }\n",
       "</style>\n",
       "<table border=\"1\" class=\"dataframe\">\n",
       "  <thead>\n",
       "    <tr style=\"text-align: right;\">\n",
       "      <th></th>\n",
       "      <th>transactionId</th>\n",
       "      <th>visitorId</th>\n",
       "      <th>date</th>\n",
       "      <th>revenue</th>\n",
       "      <th>group</th>\n",
       "    </tr>\n",
       "  </thead>\n",
       "  <tbody>\n",
       "    <tr>\n",
       "      <td>0</td>\n",
       "      <td>3667963787</td>\n",
       "      <td>3312258926</td>\n",
       "      <td>2019-08-15</td>\n",
       "      <td>1650</td>\n",
       "      <td>B</td>\n",
       "    </tr>\n",
       "    <tr>\n",
       "      <td>1</td>\n",
       "      <td>2804400009</td>\n",
       "      <td>3642806036</td>\n",
       "      <td>2019-08-15</td>\n",
       "      <td>730</td>\n",
       "      <td>B</td>\n",
       "    </tr>\n",
       "    <tr>\n",
       "      <td>2</td>\n",
       "      <td>2961555356</td>\n",
       "      <td>4069496402</td>\n",
       "      <td>2019-08-15</td>\n",
       "      <td>400</td>\n",
       "      <td>A</td>\n",
       "    </tr>\n",
       "    <tr>\n",
       "      <td>3</td>\n",
       "      <td>3797467345</td>\n",
       "      <td>1196621759</td>\n",
       "      <td>2019-08-15</td>\n",
       "      <td>9759</td>\n",
       "      <td>B</td>\n",
       "    </tr>\n",
       "    <tr>\n",
       "      <td>4</td>\n",
       "      <td>2282983706</td>\n",
       "      <td>2322279887</td>\n",
       "      <td>2019-08-15</td>\n",
       "      <td>2308</td>\n",
       "      <td>B</td>\n",
       "    </tr>\n",
       "  </tbody>\n",
       "</table>\n",
       "</div>"
      ],
      "text/plain": [
       "   transactionId   visitorId        date  revenue group\n",
       "0     3667963787  3312258926  2019-08-15     1650     B\n",
       "1     2804400009  3642806036  2019-08-15      730     B\n",
       "2     2961555356  4069496402  2019-08-15      400     A\n",
       "3     3797467345  1196621759  2019-08-15     9759     B\n",
       "4     2282983706  2322279887  2019-08-15     2308     B"
      ]
     },
     "execution_count": 12,
     "metadata": {},
     "output_type": "execute_result"
    }
   ],
   "source": [
    "orders.head(5)"
   ]
  },
  {
   "cell_type": "code",
   "execution_count": 13,
   "metadata": {},
   "outputs": [
    {
     "name": "stdout",
     "output_type": "stream",
     "text": [
      "<class 'pandas.core.frame.DataFrame'>\n",
      "RangeIndex: 1197 entries, 0 to 1196\n",
      "Data columns (total 5 columns):\n",
      "transactionId    1197 non-null int64\n",
      "visitorId        1197 non-null int64\n",
      "date             1197 non-null object\n",
      "revenue          1197 non-null int64\n",
      "group            1197 non-null object\n",
      "dtypes: int64(3), object(2)\n",
      "memory usage: 46.9+ KB\n"
     ]
    }
   ],
   "source": [
    "orders.info()"
   ]
  },
  {
   "cell_type": "markdown",
   "metadata": {},
   "source": [
    "Посмотрим нет ли пропусков"
   ]
  },
  {
   "cell_type": "code",
   "execution_count": 14,
   "metadata": {},
   "outputs": [
    {
     "data": {
      "text/plain": [
       "transactionId    0\n",
       "visitorId        0\n",
       "date             0\n",
       "revenue          0\n",
       "group            0\n",
       "dtype: int64"
      ]
     },
     "execution_count": 14,
     "metadata": {},
     "output_type": "execute_result"
    }
   ],
   "source": [
    "orders.isna().sum()"
   ]
  },
  {
   "cell_type": "markdown",
   "metadata": {},
   "source": [
    "И заменим названия столбцов на более корректные"
   ]
  },
  {
   "cell_type": "code",
   "execution_count": 15,
   "metadata": {},
   "outputs": [],
   "source": [
    "orders.columns = ['transaction_id', 'visitor_id', 'date', 'revenue', 'group']"
   ]
  },
  {
   "cell_type": "markdown",
   "metadata": {},
   "source": [
    "И изменим формат даты"
   ]
  },
  {
   "cell_type": "code",
   "execution_count": 16,
   "metadata": {},
   "outputs": [],
   "source": [
    "orders['date'] = pd.to_datetime(orders['date'])"
   ]
  },
  {
   "cell_type": "markdown",
   "metadata": {},
   "source": [
    "Очистим датафрейм от пользователей, которые находятся в 2 группах"
   ]
  },
  {
   "cell_type": "code",
   "execution_count": 17,
   "metadata": {},
   "outputs": [],
   "source": [
    "visitors_fail = (orders.groupby('visitor_id')['group'].nunique().reset_index()).query('group == 2')"
   ]
  },
  {
   "cell_type": "code",
   "execution_count": 18,
   "metadata": {},
   "outputs": [],
   "source": [
    "visitors_fail = visitors_fail['visitor_id']"
   ]
  },
  {
   "cell_type": "code",
   "execution_count": 19,
   "metadata": {},
   "outputs": [],
   "source": [
    "orders = orders.loc[~orders['visitor_id'].isin(visitors_fail)]"
   ]
  },
  {
   "cell_type": "code",
   "execution_count": 20,
   "metadata": {},
   "outputs": [],
   "source": [
    "visitors = pd.read_csv('/datasets/visitors.csv')"
   ]
  },
  {
   "cell_type": "code",
   "execution_count": 21,
   "metadata": {},
   "outputs": [
    {
     "data": {
      "text/html": [
       "<div>\n",
       "<style scoped>\n",
       "    .dataframe tbody tr th:only-of-type {\n",
       "        vertical-align: middle;\n",
       "    }\n",
       "\n",
       "    .dataframe tbody tr th {\n",
       "        vertical-align: top;\n",
       "    }\n",
       "\n",
       "    .dataframe thead th {\n",
       "        text-align: right;\n",
       "    }\n",
       "</style>\n",
       "<table border=\"1\" class=\"dataframe\">\n",
       "  <thead>\n",
       "    <tr style=\"text-align: right;\">\n",
       "      <th></th>\n",
       "      <th>date</th>\n",
       "      <th>group</th>\n",
       "      <th>visitors</th>\n",
       "    </tr>\n",
       "  </thead>\n",
       "  <tbody>\n",
       "    <tr>\n",
       "      <td>0</td>\n",
       "      <td>2019-08-01</td>\n",
       "      <td>A</td>\n",
       "      <td>719</td>\n",
       "    </tr>\n",
       "    <tr>\n",
       "      <td>1</td>\n",
       "      <td>2019-08-02</td>\n",
       "      <td>A</td>\n",
       "      <td>619</td>\n",
       "    </tr>\n",
       "    <tr>\n",
       "      <td>2</td>\n",
       "      <td>2019-08-03</td>\n",
       "      <td>A</td>\n",
       "      <td>507</td>\n",
       "    </tr>\n",
       "    <tr>\n",
       "      <td>3</td>\n",
       "      <td>2019-08-04</td>\n",
       "      <td>A</td>\n",
       "      <td>717</td>\n",
       "    </tr>\n",
       "    <tr>\n",
       "      <td>4</td>\n",
       "      <td>2019-08-05</td>\n",
       "      <td>A</td>\n",
       "      <td>756</td>\n",
       "    </tr>\n",
       "  </tbody>\n",
       "</table>\n",
       "</div>"
      ],
      "text/plain": [
       "         date group  visitors\n",
       "0  2019-08-01     A       719\n",
       "1  2019-08-02     A       619\n",
       "2  2019-08-03     A       507\n",
       "3  2019-08-04     A       717\n",
       "4  2019-08-05     A       756"
      ]
     },
     "execution_count": 21,
     "metadata": {},
     "output_type": "execute_result"
    }
   ],
   "source": [
    "visitors.head()"
   ]
  },
  {
   "cell_type": "code",
   "execution_count": 22,
   "metadata": {},
   "outputs": [
    {
     "name": "stdout",
     "output_type": "stream",
     "text": [
      "<class 'pandas.core.frame.DataFrame'>\n",
      "RangeIndex: 62 entries, 0 to 61\n",
      "Data columns (total 3 columns):\n",
      "date        62 non-null object\n",
      "group       62 non-null object\n",
      "visitors    62 non-null int64\n",
      "dtypes: int64(1), object(2)\n",
      "memory usage: 1.6+ KB\n"
     ]
    }
   ],
   "source": [
    "visitors.info()"
   ]
  },
  {
   "cell_type": "code",
   "execution_count": 23,
   "metadata": {},
   "outputs": [],
   "source": [
    "visitors['date'] = pd.to_datetime(visitors['date'])"
   ]
  },
  {
   "cell_type": "markdown",
   "metadata": {},
   "source": [
    "Посмотрим нет ли пропусков"
   ]
  },
  {
   "cell_type": "code",
   "execution_count": 24,
   "metadata": {},
   "outputs": [
    {
     "data": {
      "text/plain": [
       "date        0\n",
       "group       0\n",
       "visitors    0\n",
       "dtype: int64"
      ]
     },
     "execution_count": 24,
     "metadata": {},
     "output_type": "execute_result"
    }
   ],
   "source": [
    "visitors.isna().sum()"
   ]
  },
  {
   "cell_type": "markdown",
   "metadata": {},
   "source": [
    "### Построим график кумулятивной выручки по группам"
   ]
  },
  {
   "cell_type": "markdown",
   "metadata": {},
   "source": [
    "Создадим массив унрикальных пар и групп"
   ]
  },
  {
   "cell_type": "code",
   "execution_count": 25,
   "metadata": {},
   "outputs": [],
   "source": [
    "dates_group = orders[['date', 'group']].drop_duplicates()"
   ]
  },
  {
   "cell_type": "markdown",
   "metadata": {},
   "source": [
    "Посчитаем на каждую дату и группу накопленную выручку, количество заказов и количество уникальных пользователей"
   ]
  },
  {
   "cell_type": "code",
   "execution_count": 26,
   "metadata": {},
   "outputs": [],
   "source": [
    "orders_agg = dates_group.apply\\\n",
    "(lambda x: orders[np.logical_and(orders['date'] <= x['date'], orders['group'] == x['group'])]\\\n",
    " .agg({'date':'max', 'group':'max', 'transaction_id':pd.Series.nunique, 'visitor_id':pd.Series.nunique, 'revenue':'sum'})\\\n",
    " , axis=1).sort_values(by=['date', 'group'])"
   ]
  },
  {
   "cell_type": "markdown",
   "metadata": {},
   "source": [
    "Посчитаем количетсво накопленное количество посетителей"
   ]
  },
  {
   "cell_type": "code",
   "execution_count": 27,
   "metadata": {},
   "outputs": [],
   "source": [
    "visitors_agg = dates_group.apply\\\n",
    "(lambda x: visitors[np.logical_and(visitors['date'] <= x['date'], visitors['group'] == x['group'])]\\\n",
    " .agg({'date':'max', 'group':'max', 'visitors':'sum'}), axis=1).sort_values(by=['date', 'group'])"
   ]
  },
  {
   "cell_type": "code",
   "execution_count": 28,
   "metadata": {},
   "outputs": [],
   "source": [
    "culmulative = pd.merge(orders_agg, visitors_agg, on=['date', 'group'])"
   ]
  },
  {
   "cell_type": "code",
   "execution_count": 29,
   "metadata": {},
   "outputs": [],
   "source": [
    "culmulative.columns = ['date', 'group', 'orders', 'buyers', 'revenue', 'visitors']"
   ]
  },
  {
   "cell_type": "markdown",
   "metadata": {},
   "source": [
    "Разделим все по группам и построим график"
   ]
  },
  {
   "cell_type": "code",
   "execution_count": 30,
   "metadata": {},
   "outputs": [],
   "source": [
    "culmulative_revenueA = culmulative[culmulative['group'] == 'A'][['date', 'revenue']]\n",
    "culmulative_revenueB = culmulative[culmulative['group'] == 'B'][['date', 'revenue']]"
   ]
  },
  {
   "cell_type": "code",
   "execution_count": 31,
   "metadata": {},
   "outputs": [
    {
     "name": "stderr",
     "output_type": "stream",
     "text": [
      "/opt/conda/lib/python3.7/site-packages/pandas/plotting/_matplotlib/converter.py:103: FutureWarning: Using an implicitly registered datetime converter for a matplotlib plotting method. The converter was registered by pandas on import. Future versions of pandas will require you to explicitly register matplotlib converters.\n",
      "\n",
      "To register the converters:\n",
      "\t>>> from pandas.plotting import register_matplotlib_converters\n",
      "\t>>> register_matplotlib_converters()\n",
      "  warnings.warn(msg, FutureWarning)\n"
     ]
    },
    {
     "data": {
      "image/png": "[encoded data removed]",
      "text/plain": [
       "<Figure size 1080x504 with 1 Axes>"
      ]
     },
     "metadata": {
      "needs_background": "light"
     },
     "output_type": "display_data"
    }
   ],
   "source": [
    "plt.figure(figsize=(15, 7))\n",
    "plt.plot(culmulative_revenueA['date'], culmulative_revenueA['revenue'], label='A')\n",
    "plt.plot(culmulative_revenueB['date'], culmulative_revenueB['revenue'], label='B')\n",
    "plt.title('График кумулятивой выручки по группам')\n",
    "plt.xlabel('Дата')\n",
    "plt.ylabel('Выручка')\n",
    "plt.xticks(rotation=90)\n",
    "plt.legend()\n",
    "plt.show()"
   ]
  },
  {
   "cell_type": "markdown",
   "metadata": {},
   "source": [
    "Выручка равномернот растет по двум группам, но 2019-08-19 в группе B произошел скачок. Возможно была произведена дорогая покупка. Далее все расло одинаково равномерно."
   ]
  },
  {
   "cell_type": "markdown",
   "metadata": {},
   "source": [
    "### Построим график кумулятивного  среднего  чека по группам"
   ]
  },
  {
   "cell_type": "markdown",
   "metadata": {},
   "source": [
    "Добавим столбец с кульмулятивным средним чеком в каждй день"
   ]
  },
  {
   "cell_type": "code",
   "execution_count": 32,
   "metadata": {},
   "outputs": [],
   "source": [
    "culmulative['av_invoice'] = culmulative['revenue'] / culmulative['orders']"
   ]
  },
  {
   "cell_type": "markdown",
   "metadata": {},
   "source": [
    "Разделим все по группам и построим график"
   ]
  },
  {
   "cell_type": "code",
   "execution_count": 33,
   "metadata": {},
   "outputs": [],
   "source": [
    "culmulative_av_invoiceA = culmulative[culmulative['group'] == 'A'][['date', 'av_invoice']]\n",
    "culmulative_av_invoiceB = culmulative[culmulative['group'] == 'B'][['date', 'av_invoice']]"
   ]
  },
  {
   "cell_type": "code",
   "execution_count": 34,
   "metadata": {},
   "outputs": [
    {
     "data": {
      "image/png": "[encoded data removed]",
      "text/plain": [
       "<Figure size 1080x504 with 1 Axes>"
      ]
     },
     "metadata": {
      "needs_background": "light"
     },
     "output_type": "display_data"
    }
   ],
   "source": [
    "plt.figure(figsize=(15,7))\n",
    "plt.plot(culmulative_av_invoiceA['date'], culmulative_av_invoiceA['av_invoice'], label='A')\n",
    "plt.plot(culmulative_av_invoiceB['date'], culmulative_av_invoiceB['av_invoice'], label='B')\n",
    "plt.title('График кумулятивного среднего чека по группам')\n",
    "plt.xlabel('Дата')\n",
    "plt.ylabel('Средний чек')\n",
    "plt.xticks(rotation=90)\n",
    "plt.legend()\n",
    "plt.show()"
   ]
  },
  {
   "cell_type": "markdown",
   "metadata": {},
   "source": [
    "Видим, что средний чек был почти одинаковый до 2019-08-19. Как мы видели и по граифку выручки, видимо состоялась дорогая покупка, далее средний чек группы B начал понемногу падать, но все равно выше чем в группе B."
   ]
  },
  {
   "cell_type": "markdown",
   "metadata": {},
   "source": [
    "### Построим график отношения среднего чека группы B к группе A"
   ]
  },
  {
   "cell_type": "markdown",
   "metadata": {},
   "source": [
    "Объеденим таблицы и посчитаем отношение. Затем построим график"
   ]
  },
  {
   "cell_type": "code",
   "execution_count": 35,
   "metadata": {},
   "outputs": [],
   "source": [
    "culmulative_AB_invoice = pd.merge(culmulative_av_invoiceA, culmulative_av_invoiceB, on='date', suffixes=['_A', '_B'])"
   ]
  },
  {
   "cell_type": "code",
   "execution_count": 36,
   "metadata": {},
   "outputs": [],
   "source": [
    "culmulative_AB_invoice['B/A'] = culmulative_AB_invoice['av_invoice_B'] / culmulative_AB_invoice['av_invoice_A']"
   ]
  },
  {
   "cell_type": "code",
   "execution_count": 37,
   "metadata": {},
   "outputs": [
    {
     "data": {
      "image/png": "[encoded data removed]",
      "text/plain": [
       "<Figure size 1080x360 with 1 Axes>"
      ]
     },
     "metadata": {
      "needs_background": "light"
     },
     "output_type": "display_data"
    }
   ],
   "source": [
    "plt.figure(figsize=(15,5))\n",
    "plt.plot(culmulative_AB_invoice['date'], culmulative_AB_invoice['B/A'], )\n",
    "plt.title('График отношения среднего чека группы B к A')\n",
    "plt.xlabel('Дата')\n",
    "plt.ylabel('Значение')\n",
    "plt.xticks(rotation=90)\n",
    "plt.axhline(y=1, color='red', linestyle='--')\n",
    "plt.show()"
   ]
  },
  {
   "cell_type": "markdown",
   "metadata": {},
   "source": [
    "Видим, что в первый день группа B сильно устапала группе A. Затем уже на протяжении небольшого периода была выше и затем снова упала. После 2019-08-16 пошла вверх иуже средний чек не был меньше группы A"
   ]
  },
  {
   "cell_type": "markdown",
   "metadata": {},
   "source": [
    "### Построим график кумулятивной конверсии по группам"
   ]
  },
  {
   "cell_type": "markdown",
   "metadata": {},
   "source": [
    "Разобъем по группам, а затем посчитаем конверсию для каждой и построим графики"
   ]
  },
  {
   "cell_type": "code",
   "execution_count": 38,
   "metadata": {},
   "outputs": [],
   "source": [
    "culmulative_orders_A = culmulative[culmulative['group'] == 'A'][['date', 'orders', 'visitors']]\n",
    "culmulative_orders_B = culmulative[culmulative['group'] == 'B'][['date', 'orders', 'visitors']]"
   ]
  },
  {
   "cell_type": "code",
   "execution_count": 39,
   "metadata": {},
   "outputs": [],
   "source": [
    "culmulative_orders_A['conversion'] = culmulative_orders_A['orders']/culmulative_orders_A['visitors']\n",
    "culmulative_orders_B['conversion'] = culmulative_orders_B['orders']/culmulative_orders_B['visitors']"
   ]
  },
  {
   "cell_type": "code",
   "execution_count": 40,
   "metadata": {},
   "outputs": [
    {
     "data": {
      "image/png": "[encoded data removed]",
      "text/plain": [
       "<Figure size 1080x504 with 1 Axes>"
      ]
     },
     "metadata": {
      "needs_background": "light"
     },
     "output_type": "display_data"
    }
   ],
   "source": [
    "plt.figure(figsize=(15,7))\n",
    "plt.plot(culmulative_orders_A['date'], culmulative_orders_A['conversion'], label='A')\n",
    "plt.plot(culmulative_orders_B['date'], culmulative_orders_B['conversion'], label='B')\n",
    "plt.title('График кумулятивной конверсии по группам')\n",
    "plt.xlabel('Дата')\n",
    "plt.ylabel('Конверсия')\n",
    "plt.xticks(rotation=90)\n",
    "plt.legend()\n",
    "plt.show()"
   ]
  },
  {
   "cell_type": "markdown",
   "metadata": {},
   "source": [
    "Видим, что конверсия группы А сначала была лучше, а у В была низкой. Но же спутся пару днец конверсия группы В вышла и вперед и была лучше до конца теста"
   ]
  },
  {
   "cell_type": "markdown",
   "metadata": {},
   "source": [
    "### Построим график отношения кумулятивной конверсии группы B к группе A"
   ]
  },
  {
   "cell_type": "markdown",
   "metadata": {},
   "source": [
    "Объеденим группы в один датафрейм по датам, а затем посчитаем отношение и построим график"
   ]
  },
  {
   "cell_type": "code",
   "execution_count": 41,
   "metadata": {},
   "outputs": [],
   "source": [
    "culmulative_orders = pd.merge(culmulative_orders_A, culmulative_orders_B, on='date', suffixes=['_A', '_B'])"
   ]
  },
  {
   "cell_type": "code",
   "execution_count": 42,
   "metadata": {},
   "outputs": [],
   "source": [
    "culmulative_orders['conversion_B/A'] = culmulative_orders['conversion_B']/culmulative_orders['conversion_A'] - 1"
   ]
  },
  {
   "cell_type": "code",
   "execution_count": 43,
   "metadata": {},
   "outputs": [
    {
     "data": {
      "image/png": "[encoded data removed]",
      "text/plain": [
       "<Figure size 1080x504 with 1 Axes>"
      ]
     },
     "metadata": {
      "needs_background": "light"
     },
     "output_type": "display_data"
    }
   ],
   "source": [
    "plt.figure(figsize=(15,7))\n",
    "plt.plot(culmulative_orders['date'], culmulative_orders['conversion_B/A'])\n",
    "plt.title('График отношения кумулятивной конверсии группы B к группе A')\n",
    "plt.xlabel('Дата')\n",
    "plt.ylabel('Значение')\n",
    "plt.axhline(y=0, color='red', linestyle='--')\n",
    "plt.xticks(rotation=90)\n",
    "plt.show()"
   ]
  },
  {
   "cell_type": "markdown",
   "metadata": {},
   "source": [
    "Изначально конверсия группы В была ниже, но уже в начале теста стала лучше и так держалась весь тест"
   ]
  },
  {
   "cell_type": "markdown",
   "metadata": {},
   "source": [
    "### Построим точечный график количества заказов по пользователям."
   ]
  },
  {
   "cell_type": "markdown",
   "metadata": {},
   "source": [
    "Найдем количество заказов каждого покупателя и построим график"
   ]
  },
  {
   "cell_type": "code",
   "execution_count": 44,
   "metadata": {},
   "outputs": [],
   "source": [
    "scatter_orders = orders.groupby('visitor_id')['transaction_id'].nunique()"
   ]
  },
  {
   "cell_type": "code",
   "execution_count": 45,
   "metadata": {},
   "outputs": [],
   "source": [
    "x_values = pd.Series(range(0, len(scatter_orders)))"
   ]
  },
  {
   "cell_type": "code",
   "execution_count": 46,
   "metadata": {},
   "outputs": [
    {
     "data": {
      "image/png": "[encoded data removed]",
      "text/plain": [
       "<Figure size 432x288 with 1 Axes>"
      ]
     },
     "metadata": {
      "needs_background": "light"
     },
     "output_type": "display_data"
    }
   ],
   "source": [
    "plt.scatter(x_values, scatter_orders)\n",
    "plt.title('Точечный график количества заказов по пользователям')\n",
    "plt.xlabel('Пользователь')\n",
    "plt.ylabel('Количество заказов')\n",
    "plt.show()"
   ]
  },
  {
   "cell_type": "markdown",
   "metadata": {},
   "source": [
    "В основном заказывают 1 раз, минимальное количество пользователей заказывает больше раз"
   ]
  },
  {
   "cell_type": "markdown",
   "metadata": {},
   "source": [
    "### Посчитаем 95-й и 99-й перцентили количества заказов на пользователя"
   ]
  },
  {
   "cell_type": "code",
   "execution_count": 47,
   "metadata": {},
   "outputs": [
    {
     "name": "stdout",
     "output_type": "stream",
     "text": [
      "[1. 2.]\n"
     ]
    }
   ],
   "source": [
    "print(np.percentile(scatter_orders,[95, 99]))"
   ]
  },
  {
   "cell_type": "markdown",
   "metadata": {},
   "source": [
    "1 Процент всех пользователей заказывают больше 2 раз. Выберем границу аномалий равную больше 2 заказов"
   ]
  },
  {
   "cell_type": "markdown",
   "metadata": {},
   "source": [
    "### Построим точечный график стоимостей заказов."
   ]
  },
  {
   "cell_type": "code",
   "execution_count": 48,
   "metadata": {},
   "outputs": [],
   "source": [
    "y_value = pd.Series(range(0, len(orders['revenue'])))"
   ]
  },
  {
   "cell_type": "code",
   "execution_count": 49,
   "metadata": {},
   "outputs": [
    {
     "data": {
      "image/png": "[encoded data removed]",
      "text/plain": [
       "<Figure size 432x288 with 1 Axes>"
      ]
     },
     "metadata": {
      "needs_background": "light"
     },
     "output_type": "display_data"
    }
   ],
   "source": [
    "plt.scatter(y_value, orders['revenue'])\n",
    "plt.title('Точечный график стоимостей заказов')\n",
    "plt.xlabel('Пользователь')\n",
    "plt.ylabel('Стоимость')\n",
    "plt.show()"
   ]
  },
  {
   "cell_type": "markdown",
   "metadata": {},
   "source": [
    "В основном все заказы стоят до 100000, но есть выбросы."
   ]
  },
  {
   "cell_type": "markdown",
   "metadata": {},
   "source": [
    "### Посчитаем 95-й и 99-й перцентили стоимости заказов"
   ]
  },
  {
   "cell_type": "code",
   "execution_count": 51,
   "metadata": {},
   "outputs": [
    {
     "name": "stdout",
     "output_type": "stream",
     "text": [
      "[26785. 53904.]\n"
     ]
    }
   ],
   "source": [
    "print(np.percentile(orders['revenue'], [95,99]))"
   ]
  },
  {
   "cell_type": "markdown",
   "metadata": {},
   "source": [
    "99 процентов заказов с ценой до 53904, выберем эту стоимость как границу аномалий"
   ]
  },
  {
   "cell_type": "markdown",
   "metadata": {},
   "source": [
    "### Посчитаем статистическую значимость различий в конверсии между группами по «сырым» данным"
   ]
  },
  {
   "cell_type": "markdown",
   "metadata": {},
   "source": [
    "Создадим один датафрейм со всеми кумулятивными показателеми и показателями за каждый день"
   ]
  },
  {
   "cell_type": "markdown",
   "metadata": {},
   "source": [
    "Найдем количество и сумму заказов за каждый день"
   ]
  },
  {
   "cell_type": "code",
   "execution_count": 62,
   "metadata": {},
   "outputs": [],
   "source": [
    "orders_day_A = orders[orders['group'] == 'A'].groupby('date')\\\n",
    ".agg({'transaction_id':pd.Series.nunique, 'revenue':'sum'}).reset_index()\n",
    "orders_day_A.columns = ['date', 'orders_day_A', 'revenue_day_A']"
   ]
  },
  {
   "cell_type": "code",
   "execution_count": 63,
   "metadata": {},
   "outputs": [],
   "source": [
    "orders_day_B = orders[orders['group'] == 'B'].groupby('date')\\\n",
    ".agg({'transaction_id':pd.Series.nunique, 'revenue':'sum'}).reset_index()\n",
    "orders_day_B.columns = ['date', 'orders_day_B', 'revenue_day_B']"
   ]
  },
  {
   "cell_type": "code",
   "execution_count": 64,
   "metadata": {},
   "outputs": [],
   "source": [
    "orders_day = pd.merge(orders_day_A, orders_day_B, on='date', suffixes=('_A', '_B'))"
   ]
  },
  {
   "cell_type": "markdown",
   "metadata": {},
   "source": [
    "Найдем количесвто посетителей за каждый день"
   ]
  },
  {
   "cell_type": "code",
   "execution_count": 65,
   "metadata": {},
   "outputs": [],
   "source": [
    "visitors_A = visitors[visitors['group'] == 'A'][['date', 'visitors']]\n",
    "visitors_A.columns = ['date', 'visitors_day_A']"
   ]
  },
  {
   "cell_type": "code",
   "execution_count": 66,
   "metadata": {},
   "outputs": [],
   "source": [
    "visitors_B = visitors[visitors['group'] == 'B'][['date', 'visitors']]\n",
    "visitors_B.columns = ['date', 'visitors_day_B']"
   ]
  },
  {
   "cell_type": "code",
   "execution_count": 67,
   "metadata": {},
   "outputs": [],
   "source": [
    "visitors_day = pd.merge(visitors_A, visitors_B, on='date')"
   ]
  },
  {
   "cell_type": "markdown",
   "metadata": {},
   "source": [
    "Найдем накопительные количество заказов, покупателей и сумму заказов"
   ]
  },
  {
   "cell_type": "code",
   "execution_count": 68,
   "metadata": {},
   "outputs": [],
   "source": [
    "dates_group = visitors[['date', 'group']].drop_duplicates()"
   ]
  },
  {
   "cell_type": "code",
   "execution_count": 69,
   "metadata": {},
   "outputs": [],
   "source": [
    "culmulative_orders = dates_group.apply\\\n",
    "(lambda x: orders[np.logical_and(orders['date'] <= x['date'], orders['group'] == x['group'])]\\\n",
    ".agg({'date':'max', 'group':'max', 'transaction_id':pd.Series.nunique, 'visitor_id':pd.Series.nunique, 'revenue':'sum'}), axis=1)\\\n",
    ".sort_values(by=['date', 'group'])"
   ]
  },
  {
   "cell_type": "code",
   "execution_count": 70,
   "metadata": {},
   "outputs": [],
   "source": [
    "culmulative_orders.columns = ['date', 'group', 'culmulative_orders', 'culmulative_buyers', 'culmulative_revenue']"
   ]
  },
  {
   "cell_type": "code",
   "execution_count": 75,
   "metadata": {},
   "outputs": [],
   "source": [
    "culmalative_A = culmulative_orders[culmulative_orders['group'] == 'A']\n",
    "culmalative_B = culmulative_orders[culmulative_orders['group'] == 'B']\n",
    "culmulative_AB = pd.merge(culmalative_A, culmalative_B, on='date', suffixes=('_A', '_B'))\n",
    "culmulative_AB = culmulative_AB.drop(['group_A', 'group_B'], axis=1)"
   ]
  },
  {
   "cell_type": "markdown",
   "metadata": {},
   "source": [
    "Найдем накопительное количесвто посетителей"
   ]
  },
  {
   "cell_type": "code",
   "execution_count": 76,
   "metadata": {},
   "outputs": [],
   "source": [
    "culmulative_visitors = dates_group.apply\\\n",
    "(lambda x: visitors[np.logical_and(visitors['date'] <= x['date'], visitors['group'] == x['group'])]\\\n",
    ".agg({'date':'max', 'group':'max', 'visitors':'sum'}), axis=1).sort_values(by=['date', 'group'])"
   ]
  },
  {
   "cell_type": "code",
   "execution_count": 77,
   "metadata": {},
   "outputs": [],
   "source": [
    "culmulative_visitors.columns = ['date', 'group', 'culmulative_visitors']"
   ]
  },
  {
   "cell_type": "code",
   "execution_count": 78,
   "metadata": {},
   "outputs": [],
   "source": [
    "culmulative_visitors_A = culmulative_visitors[culmulative_visitors['group'] == 'A']\n",
    "culmulative_visitors_B = culmulative_visitors[culmulative_visitors['group'] == 'B']\n",
    "culmulative_visitors_AB = pd.merge(culmulative_visitors_A, culmulative_visitors_B, on='date', suffixes=('_A', '_B'))\n",
    "culmulative_visitors_AB = culmulative_visitors_AB.drop(['group_A', 'group_B'], axis=1)"
   ]
  },
  {
   "cell_type": "markdown",
   "metadata": {},
   "source": [
    "Объеденим все в одну таблицу"
   ]
  },
  {
   "cell_type": "code",
   "execution_count": 79,
   "metadata": {},
   "outputs": [],
   "source": [
    "final = visitors_day.merge(culmulative_AB, on='date').merge(orders_day, on='date').merge(culmulative_visitors_AB, on='date')"
   ]
  },
  {
   "cell_type": "markdown",
   "metadata": {},
   "source": [
    "В каждой строке запишем количество заказов для каждого пользователя"
   ]
  },
  {
   "cell_type": "code",
   "execution_count": 124,
   "metadata": {},
   "outputs": [],
   "source": [
    "orders_by_user_A = orders[orders['group'] == 'A'].groupby('visitor_id', as_index=False)\\\n",
    ".agg({'transaction_id':pd.Series.nunique})\n",
    "orders_by_user_A.columns = ['visitor_id', 'orders']"
   ]
  },
  {
   "cell_type": "code",
   "execution_count": 66,
   "metadata": {},
   "outputs": [],
   "source": [
    "orders_by_user_B = orders[orders['group'] == 'B'].groupby('visitor_id', as_index=False)\\\n",
    ".agg({'transaction_id':pd.Series.nunique})\n",
    "orders_by_user_B.columns = ['visitor_id', 'orders']"
   ]
  },
  {
   "cell_type": "markdown",
   "metadata": {},
   "source": [
    "Добавим строки с 0 заказов, для пользователей, которые не заказывали"
   ]
  },
  {
   "cell_type": "code",
   "execution_count": 67,
   "metadata": {},
   "outputs": [],
   "source": [
    "sample_A = pd.concat([orders_by_user_A['orders'], pd.Series(0, index=np.arange(final['visitors_day_A']\\\n",
    ".sum() - len(orders_by_user_A['orders'])), name='orders')], axis=0)\n",
    "sample_B = pd.concat([orders_by_user_B['orders'], pd.Series(0, index=np.arange(final['visitors_day_B']\\\n",
    ".sum() - len(orders_by_user_B['orders'])), name='orders')], axis=0)"
   ]
  },
  {
   "cell_type": "markdown",
   "metadata": {},
   "source": [
    "И посчитаем статистическую значимость. Сформулируем нулевую гипотезу - разницы между группами нет если p_value > 0,05 и альтернативную - разница между группа есть если p_value < 0,05. "
   ]
  },
  {
   "cell_type": "code",
   "execution_count": 68,
   "metadata": {},
   "outputs": [
    {
     "name": "stdout",
     "output_type": "stream",
     "text": [
      "0.006\n"
     ]
    }
   ],
   "source": [
    "print('{0:.3f}'.format(stats.mannwhitneyu(sample_A, sample_B)[1]))"
   ]
  },
  {
   "cell_type": "markdown",
   "metadata": {},
   "source": [
    "И сравним средние"
   ]
  },
  {
   "cell_type": "code",
   "execution_count": 69,
   "metadata": {},
   "outputs": [
    {
     "name": "stdout",
     "output_type": "stream",
     "text": [
      "0.160\n"
     ]
    }
   ],
   "source": [
    "print('{0:.3f}'.format(sample_B.mean()/sample_A.mean() - 1))"
   ]
  },
  {
   "cell_type": "markdown",
   "metadata": {},
   "source": [
    "Получили низкую статистическую значимость, принимаем альтернативную гипотезу и значит разница есть. По относительному сравнению средних, показатели группы B выше на 16%."
   ]
  },
  {
   "cell_type": "markdown",
   "metadata": {},
   "source": [
    "### Посчитаем статистическую значимость различий в среднем чеке заказа между группами по «сырым» данным"
   ]
  },
  {
   "cell_type": "markdown",
   "metadata": {},
   "source": [
    "Посчитаем статистическую значимость в среднем чеке.  Сформулируем нулевую гипотезу - разницы между группами нет если p_value > 0,05 и альтернативную - разница между группа есть если p_value < 0,05. "
   ]
  },
  {
   "cell_type": "code",
   "execution_count": 70,
   "metadata": {},
   "outputs": [
    {
     "name": "stdout",
     "output_type": "stream",
     "text": [
      "0.415\n"
     ]
    }
   ],
   "source": [
    "print('{0:.3f}'.format(stats.mannwhitneyu(orders[orders['group'] == 'A']['revenue'],\\\n",
    "                                          orders[orders['group'] == 'B']['revenue'])[1]))"
   ]
  },
  {
   "cell_type": "markdown",
   "metadata": {},
   "source": [
    "Посчитаем относительную разницу между средними"
   ]
  },
  {
   "cell_type": "code",
   "execution_count": 71,
   "metadata": {},
   "outputs": [
    {
     "name": "stdout",
     "output_type": "stream",
     "text": [
      "0.287\n"
     ]
    }
   ],
   "source": [
    "print('{0:.3f}'.format(orders[orders['group'] == 'B']['revenue'].mean()\\\n",
    "                       /orders[orders['group'] == 'A']['revenue'].mean() - 1))"
   ]
  },
  {
   "cell_type": "markdown",
   "metadata": {},
   "source": [
    "Статистическая значимость показывает, что мы принимаем нулевую гипотезу и между группами разницы нет. А среднее группы B на 28,7 процентов выше группы A"
   ]
  },
  {
   "cell_type": "markdown",
   "metadata": {},
   "source": [
    "### Посчитаем статистическую значимость различий в конверсии между группами по «очищенным» данным"
   ]
  },
  {
   "cell_type": "markdown",
   "metadata": {},
   "source": [
    "Ранее мы приняли границу аномалии больше 2 заказов на пользователя и стоимость заказа более 53904. Очистим данные от выбросов"
   ]
  },
  {
   "cell_type": "code",
   "execution_count": 72,
   "metadata": {},
   "outputs": [],
   "source": [
    "users_many_orders = pd.concat([orders_by_user_A[orders_by_user_A['orders'] > 2]['visitor_id'],\\\n",
    "                               orders_by_user_B[orders_by_user_B['orders'] > 2]['visitor_id']], axis=0)\n",
    "users_expensive_purchase = orders[orders['revenue'] > 53904]['visitor_id']"
   ]
  },
  {
   "cell_type": "code",
   "execution_count": 73,
   "metadata": {},
   "outputs": [],
   "source": [
    "unormal_users = pd.concat([users_many_orders, users_expensive_purchase], axis=0)"
   ]
  },
  {
   "cell_type": "markdown",
   "metadata": {},
   "source": [
    "В каждой строке запишем количество заказов для каждого пользователя уже по очищенным данным и добавим 0 дл пользователей без заказов"
   ]
  },
  {
   "cell_type": "code",
   "execution_count": 74,
   "metadata": {},
   "outputs": [],
   "source": [
    "sample_filt_A = pd.concat([orders_by_user_A[np.logical_not(orders_by_user_A['visitor_id']\\\n",
    ".isin(unormal_users))]['orders'], pd.Series(0,\\\n",
    "index=np.arange(final['visitors_day_A'].sum() - len(orders_by_user_A['orders'])), name='orders')], axis=0)"
   ]
  },
  {
   "cell_type": "code",
   "execution_count": 75,
   "metadata": {},
   "outputs": [],
   "source": [
    "sample_filt_B = pd.concat([orders_by_user_B[np.logical_not(orders_by_user_B['visitor_id']\\\n",
    ".isin(unormal_users))]['orders'], pd.Series(0,\\\n",
    "index=np.arange(final['visitors_day_B'].sum() - len(orders_by_user_B['orders'])), name='orders')], axis=0)"
   ]
  },
  {
   "cell_type": "markdown",
   "metadata": {},
   "source": [
    "И найдем статистическую значимость.  Сформулируем нулевую гипотезу - разницы между группами нет если p_value > 0,05 и альтернативную - разница между группа есть если p_value < 0,05. "
   ]
  },
  {
   "cell_type": "code",
   "execution_count": 76,
   "metadata": {},
   "outputs": [
    {
     "name": "stdout",
     "output_type": "stream",
     "text": [
      "0.004\n"
     ]
    }
   ],
   "source": [
    "print('{0:.3f}'.format(stats.mannwhitneyu(sample_filt_A, sample_filt_B)[1]))"
   ]
  },
  {
   "cell_type": "markdown",
   "metadata": {},
   "source": [
    "И найдем разницу в отношении средних"
   ]
  },
  {
   "cell_type": "code",
   "execution_count": 77,
   "metadata": {},
   "outputs": [
    {
     "name": "stdout",
     "output_type": "stream",
     "text": [
      "0.189\n"
     ]
    }
   ],
   "source": [
    "print('{0:.3f}'.format(sample_filt_B.mean()/sample_filt_A.mean() - 1))"
   ]
  },
  {
   "cell_type": "markdown",
   "metadata": {},
   "source": [
    "Опять принеммаем альтеррнативную гипотезцу, разница стала немного сильнее и разница средних выросла до 19%"
   ]
  },
  {
   "cell_type": "markdown",
   "metadata": {},
   "source": [
    "### Посчитаем статистическую значимость различий в среднем чеке заказа между группами по «очищенным» данным"
   ]
  },
  {
   "cell_type": "markdown",
   "metadata": {},
   "source": [
    "Найдем статистическую значимость по очищенным данным.  Сформулируем нулевую гипотезу - разницы между группами нет если p_value > 0,05 и альтернативную - разница между группа есть если p_value < 0,05. "
   ]
  },
  {
   "cell_type": "code",
   "execution_count": 78,
   "metadata": {},
   "outputs": [
    {
     "name": "stdout",
     "output_type": "stream",
     "text": [
      "0.394\n"
     ]
    }
   ],
   "source": [
    "print('{0:.3f}'.format(stats.mannwhitneyu(orders[np.logical_and(orders['group'] == 'A',\\\n",
    "np.logical_not(orders['visitor_id'].isin(unormal_users)))]['revenue'],\\\n",
    "orders[np.logical_and(orders['group'] == 'B', np.logical_not(orders['visitor_id'].isin(unormal_users)))]['revenue'])[1]))"
   ]
  },
  {
   "cell_type": "markdown",
   "metadata": {},
   "source": [
    "И относительную разницу между средними"
   ]
  },
  {
   "cell_type": "code",
   "execution_count": 79,
   "metadata": {},
   "outputs": [
    {
     "name": "stdout",
     "output_type": "stream",
     "text": [
      "-0.032\n"
     ]
    }
   ],
   "source": [
    "print('{0:.3f}'.format(orders[np.logical_and(orders['group'] == 'B',\\\n",
    "np.logical_not(orders['visitor_id'].isin(unormal_users)))]['revenue'].mean() /\\\n",
    "orders[np.logical_and(orders['group'] == 'A', np.logical_not(orders['visitor_id'].isin(unormal_users)))]['revenue'].mean() - 1))"
   ]
  },
  {
   "cell_type": "markdown",
   "metadata": {},
   "source": [
    "Статистическая значимость практически не изменилась, мы снова прринимаем нулевую гипотезу и  она показывает, что разницы по прежнему нет. А среднее число изменилось и теперь оно почти одинаковое в двух группах."
   ]
  },
  {
   "cell_type": "markdown",
   "metadata": {},
   "source": [
    "## Вывод"
   ]
  },
  {
   "cell_type": "markdown",
   "metadata": {},
   "source": [
    "Приоритезировали гипотезы и выяснили, что используя фреймворк ice гипотезам с индексом 8, 0, 7 отдаем главные приоритеты. Но используя фреймворк rice ситуация изменилась и самыми приоритетными являеются гипотезы 7, 2, 0. Это связано с тем, что у гипотез 7 и 2 высокий показатель пользователей, которых затронет изменение. А у самого приоритетного при фреймворке ice, этот показатель самый минимальный.<br>\n",
    "    Построив кумулятивные графики мы выяснили:<br>\n",
    "    Выручка равномернот растет по двум группам, но 2019-08-19 в группе B произошел скачок. Возможно была произведена дорогая покупка. Далее все расло равномерно;<br>\n",
    "    Средний чек был почти одинаковый до 2019-08-19. Как мы видели и по граифку выручки, видимо состоялась дорогая покупка, далее средний чек группы B начал понемногу падать, но все равно выше чем в группе B;<br>\n",
    "    Конверсия группы А сначала была лучше, а у В была низкой. Но же спутся пару дней конверсия группы В вышла вперед и была лучше до конца теста.<br>\n",
    "    Построили точечные графики и выяснили:<br> \n",
    "    В основном заказывают 1 раз, минимальное количество пользователей заказывает больше раз;<br>\n",
    "    1 Процент всех пользователей заказывают больше 2 раз. Выбрали границу аномалий равную более 2 заказов;<br>\n",
    "    В основном все заказы стоят до 100000, но есть выбросы;<br>\n",
    "    99 процентов заказов с ценой до 53904, выберем эту стоимость как границу аномалий.<br>\n",
    "    Сравнили статистическую значимость и разницу между средними в конверсии при сырых и очищенных данных. Тут показатели практически не изменились. Получили низкую статистическую значимость, значит разница между группами есть. По относительному сравнению средних, показатели группы B выше на 16%(сырые) и 18,9%(чистые).<br>\n",
    "    Сравнили статистическую значимость и разницу между средними среднего чека и после отбора чистых данных, получили различия. Сырые данные показали нам, что разницы между группами нет, а среднне группы B выше на 29%. Но при очистке данных, статистическая значимость показала, что разницы нет, а среднее групп выровнялось.<br>\n",
    "    Предлагаю остановить тест и признать его успешным. По сырым данным средний чек увеличился, но это из-за аномальных заказов в группе B. В чистых данных ситуация не изменилась. Конверсия посетителей в покупатели дала прирост в 19%. А если средний чек остался прежним, а посетители стали покупателями на 19% больше, следовательно и выручка возросла.\n",
    "    \n",
    "    "
   ]
  }
 ],
 "metadata": {
  "ExecuteTimeLog": [
   {
    "duration": 174,
    "start_time": "2021-10-12T16:34:17.556Z"
   },
   {
    "duration": 184,
    "start_time": "2021-10-12T16:35:07.724Z"
   },
   {
    "duration": 539,
    "start_time": "2021-10-12T16:35:13.972Z"
   },
   {
    "duration": 18,
    "start_time": "2021-10-12T16:35:15.995Z"
   },
   {
    "duration": 13,
    "start_time": "2021-10-12T16:35:17.686Z"
   },
   {
    "duration": 6,
    "start_time": "2021-10-12T16:35:31.042Z"
   },
   {
    "duration": 7,
    "start_time": "2021-10-12T16:35:40.676Z"
   },
   {
    "duration": 3,
    "start_time": "2021-10-12T16:38:04.191Z"
   },
   {
    "duration": 3,
    "start_time": "2021-10-12T16:38:07.753Z"
   },
   {
    "duration": 6,
    "start_time": "2021-10-12T16:39:37.332Z"
   },
   {
    "duration": 10,
    "start_time": "2021-10-12T16:40:43.074Z"
   },
   {
    "duration": 4,
    "start_time": "2021-10-12T16:41:52.872Z"
   },
   {
    "duration": 4,
    "start_time": "2021-10-12T16:42:16.564Z"
   },
   {
    "duration": 10,
    "start_time": "2021-10-12T16:42:17.643Z"
   },
   {
    "duration": 4,
    "start_time": "2021-10-12T16:42:22.471Z"
   },
   {
    "duration": 11,
    "start_time": "2021-10-12T16:42:59.266Z"
   },
   {
    "duration": 10,
    "start_time": "2021-10-12T16:43:26.686Z"
   },
   {
    "duration": 11,
    "start_time": "2021-10-12T16:43:29.564Z"
   },
   {
    "duration": 42,
    "start_time": "2021-10-12T16:57:22.285Z"
   },
   {
    "duration": 7,
    "start_time": "2021-10-12T16:57:37.941Z"
   },
   {
    "duration": 6,
    "start_time": "2021-10-12T16:58:10.790Z"
   },
   {
    "duration": 3,
    "start_time": "2021-10-12T16:58:57.001Z"
   },
   {
    "duration": 6,
    "start_time": "2021-10-12T16:59:14.704Z"
   },
   {
    "duration": 15,
    "start_time": "2021-10-12T17:00:51.789Z"
   },
   {
    "duration": 7,
    "start_time": "2021-10-12T17:00:52.676Z"
   },
   {
    "duration": 6,
    "start_time": "2021-10-12T17:00:55.025Z"
   },
   {
    "duration": 5,
    "start_time": "2021-10-12T17:01:14.054Z"
   },
   {
    "duration": 7,
    "start_time": "2021-10-12T17:05:48.681Z"
   },
   {
    "duration": 6,
    "start_time": "2021-10-12T17:16:35.303Z"
   },
   {
    "duration": 10,
    "start_time": "2021-10-12T17:16:43.450Z"
   },
   {
    "duration": 175,
    "start_time": "2021-10-12T17:16:56.887Z"
   },
   {
    "duration": 6,
    "start_time": "2021-10-12T17:17:06.796Z"
   },
   {
    "duration": 3,
    "start_time": "2021-10-12T17:19:34.225Z"
   },
   {
    "duration": 202,
    "start_time": "2021-10-12T17:24:34.943Z"
   },
   {
    "duration": 10,
    "start_time": "2021-10-12T17:24:41.500Z"
   },
   {
    "duration": 69,
    "start_time": "2021-10-12T17:33:02.752Z"
   },
   {
    "duration": 5,
    "start_time": "2021-10-12T17:38:27.354Z"
   },
   {
    "duration": 9,
    "start_time": "2021-10-12T17:38:33.289Z"
   },
   {
    "duration": 6,
    "start_time": "2021-10-12T17:40:28.584Z"
   },
   {
    "duration": 9,
    "start_time": "2021-10-12T17:40:29.121Z"
   },
   {
    "duration": 5,
    "start_time": "2021-10-12T17:41:12.810Z"
   },
   {
    "duration": 130,
    "start_time": "2021-10-12T17:41:57.589Z"
   },
   {
    "duration": 6,
    "start_time": "2021-10-12T17:42:10.036Z"
   },
   {
    "duration": 5,
    "start_time": "2021-10-12T17:42:10.598Z"
   },
   {
    "duration": 175,
    "start_time": "2021-10-12T17:42:11.142Z"
   },
   {
    "duration": 136,
    "start_time": "2021-10-12T17:43:59.510Z"
   },
   {
    "duration": 245,
    "start_time": "2021-10-12T17:44:06.759Z"
   },
   {
    "duration": 9,
    "start_time": "2021-10-12T17:44:27.179Z"
   },
   {
    "duration": 45,
    "start_time": "2021-10-12T17:45:27.409Z"
   },
   {
    "duration": 5,
    "start_time": "2021-10-12T17:45:36.114Z"
   },
   {
    "duration": 5,
    "start_time": "2021-10-12T17:45:37.228Z"
   },
   {
    "duration": 8,
    "start_time": "2021-10-12T17:45:38.155Z"
   },
   {
    "duration": 249,
    "start_time": "2021-10-12T17:45:42.470Z"
   },
   {
    "duration": 301,
    "start_time": "2021-10-12T17:48:19.391Z"
   },
   {
    "duration": 259,
    "start_time": "2021-10-12T17:48:36.186Z"
   },
   {
    "duration": 261,
    "start_time": "2021-10-12T17:48:49.529Z"
   },
   {
    "duration": 278,
    "start_time": "2021-10-12T17:49:02.977Z"
   },
   {
    "duration": 254,
    "start_time": "2021-10-12T17:49:24.746Z"
   },
   {
    "duration": 268,
    "start_time": "2021-10-12T17:49:35.746Z"
   },
   {
    "duration": 8,
    "start_time": "2021-10-12T17:49:58.017Z"
   },
   {
    "duration": 262,
    "start_time": "2021-10-12T17:50:09.098Z"
   },
   {
    "duration": 263,
    "start_time": "2021-10-12T17:50:18.127Z"
   },
   {
    "duration": 133,
    "start_time": "2021-10-12T18:02:25.760Z"
   },
   {
    "duration": 3,
    "start_time": "2021-10-12T18:02:59.394Z"
   },
   {
    "duration": 463,
    "start_time": "2021-10-12T18:03:01.709Z"
   },
   {
    "duration": 374,
    "start_time": "2021-10-12T18:03:15.197Z"
   },
   {
    "duration": 383,
    "start_time": "2021-10-12T18:03:24.378Z"
   },
   {
    "duration": 348,
    "start_time": "2021-10-12T18:09:51.699Z"
   },
   {
    "duration": 48,
    "start_time": "2021-10-12T18:10:08.047Z"
   },
   {
    "duration": 308,
    "start_time": "2021-10-12T18:10:16.110Z"
   },
   {
    "duration": 284,
    "start_time": "2021-10-12T18:10:27.504Z"
   },
   {
    "duration": 266,
    "start_time": "2021-10-12T18:10:37.489Z"
   },
   {
    "duration": 384,
    "start_time": "2021-10-12T18:10:54.222Z"
   },
   {
    "duration": 277,
    "start_time": "2021-10-12T18:11:48.348Z"
   },
   {
    "duration": 395,
    "start_time": "2021-10-12T18:15:43.107Z"
   },
   {
    "duration": 350,
    "start_time": "2021-10-12T18:15:52.568Z"
   },
   {
    "duration": 351,
    "start_time": "2021-10-12T18:16:08.242Z"
   },
   {
    "duration": 10,
    "start_time": "2021-10-12T18:26:20.335Z"
   },
   {
    "duration": 6,
    "start_time": "2021-10-12T18:28:50.108Z"
   },
   {
    "duration": 11,
    "start_time": "2021-10-12T18:29:10.098Z"
   },
   {
    "duration": 3,
    "start_time": "2021-10-12T18:29:36.838Z"
   },
   {
    "duration": 11,
    "start_time": "2021-10-12T18:29:38.080Z"
   },
   {
    "duration": 4,
    "start_time": "2021-10-12T18:30:13.323Z"
   },
   {
    "duration": 357,
    "start_time": "2021-10-12T18:30:15.347Z"
   },
   {
    "duration": 140,
    "start_time": "2021-10-12T18:31:48.064Z"
   },
   {
    "duration": 5,
    "start_time": "2021-10-12T18:31:54.532Z"
   },
   {
    "duration": 7,
    "start_time": "2021-10-12T18:32:12.929Z"
   },
   {
    "duration": 453,
    "start_time": "2021-10-12T18:34:03.458Z"
   },
   {
    "duration": 332,
    "start_time": "2021-10-12T18:34:18.352Z"
   },
   {
    "duration": 431,
    "start_time": "2021-10-12T18:34:51.961Z"
   },
   {
    "duration": 6,
    "start_time": "2021-10-12T18:55:06.174Z"
   },
   {
    "duration": 9,
    "start_time": "2021-10-12T18:55:12.917Z"
   },
   {
    "duration": 5,
    "start_time": "2021-10-12T18:56:35.129Z"
   },
   {
    "duration": 10,
    "start_time": "2021-10-12T18:56:43.956Z"
   },
   {
    "duration": 467,
    "start_time": "2021-10-12T19:00:35.600Z"
   },
   {
    "duration": 427,
    "start_time": "2021-10-12T19:00:43.851Z"
   },
   {
    "duration": 415,
    "start_time": "2021-10-12T19:01:05.495Z"
   },
   {
    "duration": 8,
    "start_time": "2021-10-12T19:11:31.226Z"
   },
   {
    "duration": 142,
    "start_time": "2021-10-12T19:11:51.067Z"
   },
   {
    "duration": 11,
    "start_time": "2021-10-12T19:12:02.293Z"
   },
   {
    "duration": 202,
    "start_time": "2021-10-12T19:12:18.214Z"
   },
   {
    "duration": 9,
    "start_time": "2021-10-12T19:12:23.439Z"
   },
   {
    "duration": 7,
    "start_time": "2021-10-12T19:14:23.652Z"
   },
   {
    "duration": 11,
    "start_time": "2021-10-12T19:14:52.906Z"
   },
   {
    "duration": 6,
    "start_time": "2021-10-12T19:16:25.201Z"
   },
   {
    "duration": 6,
    "start_time": "2021-10-12T19:16:52.122Z"
   },
   {
    "duration": 8,
    "start_time": "2021-10-12T19:16:58.535Z"
   },
   {
    "duration": 3,
    "start_time": "2021-10-12T19:17:16.652Z"
   },
   {
    "duration": 5,
    "start_time": "2021-10-12T19:17:22.378Z"
   },
   {
    "duration": 3,
    "start_time": "2021-10-12T19:18:01.073Z"
   },
   {
    "duration": 8,
    "start_time": "2021-10-12T19:18:02.014Z"
   },
   {
    "duration": 3,
    "start_time": "2021-10-12T19:18:03.057Z"
   },
   {
    "duration": 5,
    "start_time": "2021-10-12T19:18:04.707Z"
   },
   {
    "duration": 862,
    "start_time": "2021-10-13T13:45:28.395Z"
   },
   {
    "duration": 18,
    "start_time": "2021-10-13T13:45:29.260Z"
   },
   {
    "duration": 20,
    "start_time": "2021-10-13T13:45:29.281Z"
   },
   {
    "duration": 9,
    "start_time": "2021-10-13T13:45:29.304Z"
   },
   {
    "duration": 9,
    "start_time": "2021-10-13T13:45:29.315Z"
   },
   {
    "duration": 9,
    "start_time": "2021-10-13T13:45:29.327Z"
   },
   {
    "duration": 7,
    "start_time": "2021-10-13T13:45:29.338Z"
   },
   {
    "duration": 20,
    "start_time": "2021-10-13T13:45:29.348Z"
   },
   {
    "duration": 14,
    "start_time": "2021-10-13T13:45:29.401Z"
   },
   {
    "duration": 41,
    "start_time": "2021-10-13T13:45:29.417Z"
   },
   {
    "duration": 12,
    "start_time": "2021-10-13T13:45:29.460Z"
   },
   {
    "duration": 12,
    "start_time": "2021-10-13T13:45:29.474Z"
   },
   {
    "duration": 13,
    "start_time": "2021-10-13T13:45:29.488Z"
   },
   {
    "duration": 5,
    "start_time": "2021-10-13T13:45:29.504Z"
   },
   {
    "duration": 16,
    "start_time": "2021-10-13T13:45:29.511Z"
   },
   {
    "duration": 4,
    "start_time": "2021-10-13T13:45:29.529Z"
   },
   {
    "duration": 5,
    "start_time": "2021-10-13T13:45:36.965Z"
   },
   {
    "duration": 6,
    "start_time": "2021-10-13T13:45:43.293Z"
   },
   {
    "duration": 365,
    "start_time": "2021-10-13T13:46:59.124Z"
   },
   {
    "duration": 4,
    "start_time": "2021-10-13T13:47:05.600Z"
   },
   {
    "duration": 309,
    "start_time": "2021-10-13T13:47:15.082Z"
   },
   {
    "duration": 6,
    "start_time": "2021-10-13T13:47:31.622Z"
   },
   {
    "duration": 7,
    "start_time": "2021-10-13T13:47:44.630Z"
   },
   {
    "duration": 4,
    "start_time": "2021-10-13T13:48:23.405Z"
   },
   {
    "duration": 31,
    "start_time": "2021-10-13T13:48:23.411Z"
   },
   {
    "duration": 21,
    "start_time": "2021-10-13T13:48:23.444Z"
   },
   {
    "duration": 13,
    "start_time": "2021-10-13T13:48:23.467Z"
   },
   {
    "duration": 7,
    "start_time": "2021-10-13T13:48:23.483Z"
   },
   {
    "duration": 13,
    "start_time": "2021-10-13T13:48:23.492Z"
   },
   {
    "duration": 16,
    "start_time": "2021-10-13T13:48:23.507Z"
   },
   {
    "duration": 28,
    "start_time": "2021-10-13T13:48:23.525Z"
   },
   {
    "duration": 15,
    "start_time": "2021-10-13T13:48:23.557Z"
   },
   {
    "duration": 43,
    "start_time": "2021-10-13T13:48:23.575Z"
   },
   {
    "duration": 15,
    "start_time": "2021-10-13T13:48:23.621Z"
   },
   {
    "duration": 16,
    "start_time": "2021-10-13T13:48:23.638Z"
   },
   {
    "duration": 13,
    "start_time": "2021-10-13T13:48:23.656Z"
   },
   {
    "duration": 4,
    "start_time": "2021-10-13T13:48:23.672Z"
   },
   {
    "duration": 16,
    "start_time": "2021-10-13T13:48:23.678Z"
   },
   {
    "duration": 4,
    "start_time": "2021-10-13T13:48:25.945Z"
   },
   {
    "duration": 89,
    "start_time": "2021-10-13T13:49:20.101Z"
   },
   {
    "duration": 87,
    "start_time": "2021-10-13T13:50:21.513Z"
   },
   {
    "duration": 5,
    "start_time": "2021-10-13T13:50:37.947Z"
   },
   {
    "duration": 18,
    "start_time": "2021-10-13T13:50:39.214Z"
   },
   {
    "duration": 4,
    "start_time": "2021-10-13T13:52:26.649Z"
   },
   {
    "duration": 22,
    "start_time": "2021-10-13T13:52:26.655Z"
   },
   {
    "duration": 10,
    "start_time": "2021-10-13T13:52:26.680Z"
   },
   {
    "duration": 9,
    "start_time": "2021-10-13T13:52:26.693Z"
   },
   {
    "duration": 4,
    "start_time": "2021-10-13T13:52:26.704Z"
   },
   {
    "duration": 7,
    "start_time": "2021-10-13T13:52:26.710Z"
   },
   {
    "duration": 6,
    "start_time": "2021-10-13T13:52:26.720Z"
   },
   {
    "duration": 17,
    "start_time": "2021-10-13T13:52:26.728Z"
   },
   {
    "duration": 52,
    "start_time": "2021-10-13T13:52:26.748Z"
   },
   {
    "duration": 36,
    "start_time": "2021-10-13T13:52:26.802Z"
   },
   {
    "duration": 13,
    "start_time": "2021-10-13T13:52:26.840Z"
   },
   {
    "duration": 11,
    "start_time": "2021-10-13T13:52:26.855Z"
   },
   {
    "duration": 9,
    "start_time": "2021-10-13T13:52:26.869Z"
   },
   {
    "duration": 19,
    "start_time": "2021-10-13T13:52:26.881Z"
   },
   {
    "duration": 14,
    "start_time": "2021-10-13T13:52:26.903Z"
   },
   {
    "duration": 4,
    "start_time": "2021-10-13T13:52:26.920Z"
   },
   {
    "duration": 18,
    "start_time": "2021-10-13T13:52:29.265Z"
   },
   {
    "duration": 5,
    "start_time": "2021-10-13T14:02:50.930Z"
   },
   {
    "duration": 19,
    "start_time": "2021-10-13T14:02:58.466Z"
   },
   {
    "duration": 4,
    "start_time": "2021-10-13T14:03:44.066Z"
   },
   {
    "duration": 34,
    "start_time": "2021-10-13T14:03:44.073Z"
   },
   {
    "duration": 30,
    "start_time": "2021-10-13T14:03:44.110Z"
   },
   {
    "duration": 11,
    "start_time": "2021-10-13T14:03:44.143Z"
   },
   {
    "duration": 12,
    "start_time": "2021-10-13T14:03:44.157Z"
   },
   {
    "duration": 22,
    "start_time": "2021-10-13T14:03:44.172Z"
   },
   {
    "duration": 15,
    "start_time": "2021-10-13T14:03:44.196Z"
   },
   {
    "duration": 27,
    "start_time": "2021-10-13T14:03:44.213Z"
   },
   {
    "duration": 19,
    "start_time": "2021-10-13T14:03:44.243Z"
   },
   {
    "duration": 39,
    "start_time": "2021-10-13T14:03:44.264Z"
   },
   {
    "duration": 17,
    "start_time": "2021-10-13T14:03:44.305Z"
   },
   {
    "duration": 8,
    "start_time": "2021-10-13T14:03:44.325Z"
   },
   {
    "duration": 12,
    "start_time": "2021-10-13T14:03:44.335Z"
   },
   {
    "duration": 6,
    "start_time": "2021-10-13T14:03:44.351Z"
   },
   {
    "duration": 14,
    "start_time": "2021-10-13T14:03:44.360Z"
   },
   {
    "duration": 26,
    "start_time": "2021-10-13T14:03:44.376Z"
   },
   {
    "duration": 32,
    "start_time": "2021-10-13T14:03:44.404Z"
   },
   {
    "duration": 20,
    "start_time": "2021-10-13T14:03:44.438Z"
   },
   {
    "duration": 20,
    "start_time": "2021-10-13T14:03:48.885Z"
   },
   {
    "duration": 13,
    "start_time": "2021-10-13T16:13:57.787Z"
   },
   {
    "duration": 18,
    "start_time": "2021-10-13T16:14:11.410Z"
   },
   {
    "duration": 14,
    "start_time": "2021-10-13T16:14:20.819Z"
   },
   {
    "duration": 9,
    "start_time": "2021-10-13T16:14:51.839Z"
   },
   {
    "duration": 19,
    "start_time": "2021-10-13T16:16:23.475Z"
   },
   {
    "duration": 4,
    "start_time": "2021-10-13T16:16:29.038Z"
   },
   {
    "duration": 37,
    "start_time": "2021-10-13T16:16:29.045Z"
   },
   {
    "duration": 11,
    "start_time": "2021-10-13T16:16:29.085Z"
   },
   {
    "duration": 9,
    "start_time": "2021-10-13T16:16:29.099Z"
   },
   {
    "duration": 6,
    "start_time": "2021-10-13T16:16:29.111Z"
   },
   {
    "duration": 7,
    "start_time": "2021-10-13T16:16:29.119Z"
   },
   {
    "duration": 6,
    "start_time": "2021-10-13T16:16:29.129Z"
   },
   {
    "duration": 17,
    "start_time": "2021-10-13T16:16:29.138Z"
   },
   {
    "duration": 51,
    "start_time": "2021-10-13T16:16:29.157Z"
   },
   {
    "duration": 85,
    "start_time": "2021-10-13T16:16:29.211Z"
   },
   {
    "duration": 11,
    "start_time": "2021-10-13T16:16:29.298Z"
   },
   {
    "duration": 10,
    "start_time": "2021-10-13T16:16:29.312Z"
   },
   {
    "duration": 7,
    "start_time": "2021-10-13T16:16:29.325Z"
   },
   {
    "duration": 8,
    "start_time": "2021-10-13T16:16:29.334Z"
   },
   {
    "duration": 12,
    "start_time": "2021-10-13T16:16:29.344Z"
   },
   {
    "duration": 41,
    "start_time": "2021-10-13T16:16:29.359Z"
   },
   {
    "duration": 6,
    "start_time": "2021-10-13T16:16:29.403Z"
   },
   {
    "duration": 16,
    "start_time": "2021-10-13T16:16:29.412Z"
   },
   {
    "duration": 17,
    "start_time": "2021-10-13T16:16:29.432Z"
   },
   {
    "duration": 8,
    "start_time": "2021-10-13T16:16:29.452Z"
   },
   {
    "duration": 13,
    "start_time": "2021-10-13T16:16:29.462Z"
   },
   {
    "duration": 27,
    "start_time": "2021-10-13T16:16:29.477Z"
   },
   {
    "duration": 350,
    "start_time": "2021-10-13T16:16:29.507Z"
   },
   {
    "duration": 8,
    "start_time": "2021-10-13T16:16:29.859Z"
   },
   {
    "duration": 613,
    "start_time": "2021-10-13T16:16:29.869Z"
   },
   {
    "duration": 17,
    "start_time": "2021-10-13T16:16:30.484Z"
   },
   {
    "duration": 18,
    "start_time": "2021-10-13T16:16:30.503Z"
   },
   {
    "duration": 590,
    "start_time": "2021-10-13T16:16:30.524Z"
   },
   {
    "duration": 8,
    "start_time": "2021-10-13T16:16:31.116Z"
   },
   {
    "duration": 23,
    "start_time": "2021-10-13T16:16:31.126Z"
   },
   {
    "duration": 611,
    "start_time": "2021-10-13T16:16:31.152Z"
   },
   {
    "duration": 26,
    "start_time": "2021-10-13T16:19:15.786Z"
   },
   {
    "duration": 7,
    "start_time": "2021-10-13T16:24:23.545Z"
   },
   {
    "duration": 10,
    "start_time": "2021-10-13T16:24:52.171Z"
   },
   {
    "duration": 6,
    "start_time": "2021-10-13T16:27:28.326Z"
   },
   {
    "duration": 267,
    "start_time": "2021-10-13T16:27:56.837Z"
   },
   {
    "duration": 576,
    "start_time": "2021-10-13T16:28:04.472Z"
   },
   {
    "duration": 551,
    "start_time": "2021-10-13T16:28:38.042Z"
   },
   {
    "duration": 9,
    "start_time": "2021-10-13T16:33:02.582Z"
   },
   {
    "duration": 18,
    "start_time": "2021-10-13T16:33:07.917Z"
   },
   {
    "duration": 9,
    "start_time": "2021-10-13T16:34:31.072Z"
   },
   {
    "duration": 8,
    "start_time": "2021-10-13T16:34:31.661Z"
   },
   {
    "duration": 544,
    "start_time": "2021-10-13T16:34:32.221Z"
   },
   {
    "duration": 9,
    "start_time": "2021-10-13T16:34:35.436Z"
   },
   {
    "duration": 6,
    "start_time": "2021-10-13T16:35:10.860Z"
   },
   {
    "duration": 811,
    "start_time": "2021-10-13T16:36:55.203Z"
   },
   {
    "duration": 694,
    "start_time": "2021-10-13T16:37:02.769Z"
   },
   {
    "duration": 646,
    "start_time": "2021-10-13T16:37:18.954Z"
   },
   {
    "duration": 673,
    "start_time": "2021-10-13T16:37:54.681Z"
   },
   {
    "duration": 18,
    "start_time": "2021-10-13T16:47:53.245Z"
   },
   {
    "duration": 8,
    "start_time": "2021-10-13T16:49:21.333Z"
   },
   {
    "duration": 6,
    "start_time": "2021-10-13T16:49:35.410Z"
   },
   {
    "duration": 7,
    "start_time": "2021-10-13T16:49:44.826Z"
   },
   {
    "duration": 6,
    "start_time": "2021-10-13T16:51:38.047Z"
   },
   {
    "duration": 8,
    "start_time": "2021-10-13T16:51:39.136Z"
   },
   {
    "duration": 261,
    "start_time": "2021-10-13T16:52:48.817Z"
   },
   {
    "duration": 289,
    "start_time": "2021-10-13T16:53:28.624Z"
   },
   {
    "duration": 187,
    "start_time": "2021-10-13T16:53:47.524Z"
   },
   {
    "duration": 255,
    "start_time": "2021-10-13T16:53:48.756Z"
   },
   {
    "duration": 11,
    "start_time": "2021-10-13T16:53:58.920Z"
   },
   {
    "duration": 9,
    "start_time": "2021-10-13T16:54:17.896Z"
   },
   {
    "duration": 7,
    "start_time": "2021-10-13T16:54:28.750Z"
   },
   {
    "duration": 3295,
    "start_time": "2021-10-13T16:54:29.708Z"
   },
   {
    "duration": 8,
    "start_time": "2021-10-13T16:54:35.396Z"
   },
   {
    "duration": 7,
    "start_time": "2021-10-13T16:55:53.690Z"
   },
   {
    "duration": 3893,
    "start_time": "2021-10-13T16:57:42.620Z"
   },
   {
    "duration": 4,
    "start_time": "2021-10-13T16:57:55.325Z"
   },
   {
    "duration": 4333,
    "start_time": "2021-10-13T16:57:59.186Z"
   },
   {
    "duration": 5,
    "start_time": "2021-10-13T16:58:22.738Z"
   },
   {
    "duration": 4,
    "start_time": "2021-10-13T16:58:23.548Z"
   },
   {
    "duration": 3398,
    "start_time": "2021-10-13T16:58:24.345Z"
   },
   {
    "duration": 6,
    "start_time": "2021-10-13T16:58:34.675Z"
   },
   {
    "duration": 6,
    "start_time": "2021-10-13T16:58:42.534Z"
   },
   {
    "duration": 7,
    "start_time": "2021-10-13T16:58:43.406Z"
   },
   {
    "duration": 6,
    "start_time": "2021-10-13T16:58:50.192Z"
   },
   {
    "duration": 8,
    "start_time": "2021-10-13T16:58:50.781Z"
   },
   {
    "duration": 4,
    "start_time": "2021-10-13T16:59:01.554Z"
   },
   {
    "duration": 390,
    "start_time": "2021-10-13T16:59:02.419Z"
   },
   {
    "duration": 533,
    "start_time": "2021-10-13T16:59:36.823Z"
   },
   {
    "duration": 6,
    "start_time": "2021-10-13T16:59:55.608Z"
   },
   {
    "duration": 4,
    "start_time": "2021-10-13T16:59:56.280Z"
   },
   {
    "duration": 376,
    "start_time": "2021-10-13T16:59:57.079Z"
   },
   {
    "duration": 6,
    "start_time": "2021-10-13T17:02:51.656Z"
   },
   {
    "duration": 7,
    "start_time": "2021-10-13T17:04:10.544Z"
   },
   {
    "duration": 6,
    "start_time": "2021-10-13T17:04:20.224Z"
   },
   {
    "duration": 7,
    "start_time": "2021-10-13T17:04:21.052Z"
   },
   {
    "duration": 3,
    "start_time": "2021-10-13T17:05:22.084Z"
   },
   {
    "duration": 6,
    "start_time": "2021-10-13T17:05:28.476Z"
   },
   {
    "duration": 3,
    "start_time": "2021-10-13T17:05:32.213Z"
   },
   {
    "duration": 7,
    "start_time": "2021-10-13T17:05:33.293Z"
   },
   {
    "duration": 6,
    "start_time": "2021-10-13T17:05:41.971Z"
   },
   {
    "duration": 3,
    "start_time": "2021-10-13T17:05:42.947Z"
   },
   {
    "duration": 6,
    "start_time": "2021-10-13T17:05:43.673Z"
   },
   {
    "duration": 7,
    "start_time": "2021-10-13T17:05:44.837Z"
   },
   {
    "duration": 7,
    "start_time": "2021-10-13T17:05:45.018Z"
   },
   {
    "duration": 6,
    "start_time": "2021-10-13T17:06:05.445Z"
   },
   {
    "duration": 4,
    "start_time": "2021-10-13T17:06:06.264Z"
   },
   {
    "duration": 423,
    "start_time": "2021-10-13T17:06:07.088Z"
   },
   {
    "duration": 19,
    "start_time": "2021-10-13T17:09:03.011Z"
   },
   {
    "duration": 250,
    "start_time": "2021-10-13T17:10:47.446Z"
   },
   {
    "duration": 276,
    "start_time": "2021-10-13T17:10:59.379Z"
   },
   {
    "duration": 89,
    "start_time": "2021-10-13T17:11:15.063Z"
   },
   {
    "duration": 4,
    "start_time": "2021-10-13T17:11:20.913Z"
   },
   {
    "duration": 487,
    "start_time": "2021-10-13T17:11:42.298Z"
   },
   {
    "duration": 394,
    "start_time": "2021-10-13T17:12:07.680Z"
   },
   {
    "duration": 6,
    "start_time": "2021-10-13T17:13:52.007Z"
   },
   {
    "duration": 4,
    "start_time": "2021-10-13T18:05:17.239Z"
   },
   {
    "duration": 23,
    "start_time": "2021-10-13T18:05:17.252Z"
   },
   {
    "duration": 15,
    "start_time": "2021-10-13T18:05:17.278Z"
   },
   {
    "duration": 15,
    "start_time": "2021-10-13T18:05:17.296Z"
   },
   {
    "duration": 4,
    "start_time": "2021-10-13T18:05:17.314Z"
   },
   {
    "duration": 8,
    "start_time": "2021-10-13T18:05:17.320Z"
   },
   {
    "duration": 20,
    "start_time": "2021-10-13T18:05:17.330Z"
   },
   {
    "duration": 50,
    "start_time": "2021-10-13T18:05:17.352Z"
   },
   {
    "duration": 15,
    "start_time": "2021-10-13T18:05:17.406Z"
   },
   {
    "duration": 63,
    "start_time": "2021-10-13T18:05:17.425Z"
   },
   {
    "duration": 25,
    "start_time": "2021-10-13T18:05:17.490Z"
   },
   {
    "duration": 23,
    "start_time": "2021-10-13T18:05:17.517Z"
   },
   {
    "duration": 27,
    "start_time": "2021-10-13T18:05:17.542Z"
   },
   {
    "duration": 14,
    "start_time": "2021-10-13T18:05:17.571Z"
   },
   {
    "duration": 26,
    "start_time": "2021-10-13T18:05:17.588Z"
   },
   {
    "duration": 8,
    "start_time": "2021-10-13T18:05:17.617Z"
   },
   {
    "duration": 18,
    "start_time": "2021-10-13T18:05:17.628Z"
   },
   {
    "duration": 38,
    "start_time": "2021-10-13T18:05:17.648Z"
   },
   {
    "duration": 29,
    "start_time": "2021-10-13T18:05:17.688Z"
   },
   {
    "duration": 18,
    "start_time": "2021-10-13T18:05:17.720Z"
   },
   {
    "duration": 17,
    "start_time": "2021-10-13T18:05:17.741Z"
   },
   {
    "duration": 11,
    "start_time": "2021-10-13T18:05:17.760Z"
   },
   {
    "duration": 412,
    "start_time": "2021-10-13T18:05:17.774Z"
   },
   {
    "duration": 14,
    "start_time": "2021-10-13T18:05:18.190Z"
   },
   {
    "duration": 635,
    "start_time": "2021-10-13T18:05:18.207Z"
   },
   {
    "duration": 5,
    "start_time": "2021-10-13T18:05:18.845Z"
   },
   {
    "duration": 16,
    "start_time": "2021-10-13T18:05:18.852Z"
   },
   {
    "duration": 646,
    "start_time": "2021-10-13T18:05:18.870Z"
   },
   {
    "duration": 13,
    "start_time": "2021-10-13T18:05:19.519Z"
   },
   {
    "duration": 9,
    "start_time": "2021-10-13T18:05:19.535Z"
   },
   {
    "duration": 628,
    "start_time": "2021-10-13T18:05:19.546Z"
   },
   {
    "duration": 9,
    "start_time": "2021-10-13T18:05:20.176Z"
   },
   {
    "duration": 26,
    "start_time": "2021-10-13T18:05:20.188Z"
   },
   {
    "duration": 569,
    "start_time": "2021-10-13T18:05:20.216Z"
   },
   {
    "duration": 19,
    "start_time": "2021-10-13T18:05:20.788Z"
   },
   {
    "duration": 13,
    "start_time": "2021-10-13T18:05:20.809Z"
   },
   {
    "duration": 658,
    "start_time": "2021-10-13T18:05:20.824Z"
   },
   {
    "duration": 6,
    "start_time": "2021-10-13T18:05:21.484Z"
   },
   {
    "duration": 3,
    "start_time": "2021-10-13T18:05:21.500Z"
   },
   {
    "duration": 18,
    "start_time": "2021-10-13T18:05:21.506Z"
   },
   {
    "duration": 8,
    "start_time": "2021-10-13T18:05:21.526Z"
   },
   {
    "duration": 357,
    "start_time": "2021-10-13T18:05:21.537Z"
   },
   {
    "duration": 5,
    "start_time": "2021-10-13T18:05:21.900Z"
   },
   {
    "duration": 264,
    "start_time": "2021-10-13T18:08:34.771Z"
   },
   {
    "duration": 17,
    "start_time": "2021-10-13T18:08:37.392Z"
   },
   {
    "duration": 14,
    "start_time": "2021-10-13T18:09:07.576Z"
   },
   {
    "duration": 10,
    "start_time": "2021-10-13T18:09:53.917Z"
   },
   {
    "duration": 11,
    "start_time": "2021-10-13T18:10:04.249Z"
   },
   {
    "duration": 11,
    "start_time": "2021-10-13T18:10:11.165Z"
   },
   {
    "duration": 11,
    "start_time": "2021-10-13T18:10:12.172Z"
   },
   {
    "duration": 18,
    "start_time": "2021-10-13T18:15:27.400Z"
   },
   {
    "duration": 290,
    "start_time": "2021-10-13T18:31:53.005Z"
   },
   {
    "duration": 4,
    "start_time": "2021-10-13T18:32:00.385Z"
   },
   {
    "duration": 7,
    "start_time": "2021-10-13T18:32:33.864Z"
   },
   {
    "duration": 10,
    "start_time": "2021-10-13T18:32:48.626Z"
   },
   {
    "duration": 5,
    "start_time": "2021-10-13T18:33:15.251Z"
   },
   {
    "duration": 38,
    "start_time": "2021-10-13T18:33:15.262Z"
   },
   {
    "duration": 27,
    "start_time": "2021-10-13T18:33:15.303Z"
   },
   {
    "duration": 19,
    "start_time": "2021-10-13T18:33:15.333Z"
   },
   {
    "duration": 18,
    "start_time": "2021-10-13T18:33:15.356Z"
   },
   {
    "duration": 28,
    "start_time": "2021-10-13T18:33:15.377Z"
   },
   {
    "duration": 20,
    "start_time": "2021-10-13T18:33:15.408Z"
   },
   {
    "duration": 26,
    "start_time": "2021-10-13T18:33:15.431Z"
   },
   {
    "duration": 40,
    "start_time": "2021-10-13T18:33:15.460Z"
   },
   {
    "duration": 83,
    "start_time": "2021-10-13T18:33:15.504Z"
   },
   {
    "duration": 11,
    "start_time": "2021-10-13T18:33:15.591Z"
   },
   {
    "duration": 11,
    "start_time": "2021-10-13T18:33:15.605Z"
   },
   {
    "duration": 11,
    "start_time": "2021-10-13T18:33:15.618Z"
   },
   {
    "duration": 5,
    "start_time": "2021-10-13T18:33:15.632Z"
   },
   {
    "duration": 13,
    "start_time": "2021-10-13T18:33:15.640Z"
   },
   {
    "duration": 54,
    "start_time": "2021-10-13T18:33:15.656Z"
   },
   {
    "duration": 15,
    "start_time": "2021-10-13T18:33:15.712Z"
   },
   {
    "duration": 7,
    "start_time": "2021-10-13T18:33:15.730Z"
   },
   {
    "duration": 20,
    "start_time": "2021-10-13T18:33:15.740Z"
   },
   {
    "duration": 14,
    "start_time": "2021-10-13T18:33:15.763Z"
   },
   {
    "duration": 23,
    "start_time": "2021-10-13T18:33:15.781Z"
   },
   {
    "duration": 11,
    "start_time": "2021-10-13T18:33:15.807Z"
   },
   {
    "duration": 17,
    "start_time": "2021-10-13T18:33:15.820Z"
   },
   {
    "duration": 379,
    "start_time": "2021-10-13T18:33:15.840Z"
   },
   {
    "duration": 10,
    "start_time": "2021-10-13T18:33:16.222Z"
   },
   {
    "duration": 676,
    "start_time": "2021-10-13T18:33:16.235Z"
   },
   {
    "duration": 6,
    "start_time": "2021-10-13T18:33:16.914Z"
   },
   {
    "duration": 14,
    "start_time": "2021-10-13T18:33:16.927Z"
   },
   {
    "duration": 489,
    "start_time": "2021-10-13T18:33:16.945Z"
   },
   {
    "duration": 9,
    "start_time": "2021-10-13T18:33:17.438Z"
   },
   {
    "duration": 8,
    "start_time": "2021-10-13T18:33:17.450Z"
   },
   {
    "duration": 632,
    "start_time": "2021-10-13T18:33:17.461Z"
   },
   {
    "duration": 9,
    "start_time": "2021-10-13T18:33:18.096Z"
   },
   {
    "duration": 10,
    "start_time": "2021-10-13T18:33:18.108Z"
   },
   {
    "duration": 447,
    "start_time": "2021-10-13T18:33:18.121Z"
   },
   {
    "duration": 9,
    "start_time": "2021-10-13T18:33:18.571Z"
   },
   {
    "duration": 18,
    "start_time": "2021-10-13T18:33:18.582Z"
   },
   {
    "duration": 543,
    "start_time": "2021-10-13T18:33:18.602Z"
   },
   {
    "duration": 6,
    "start_time": "2021-10-13T18:33:19.147Z"
   },
   {
    "duration": 82,
    "start_time": "2021-10-13T18:33:19.155Z"
   },
   {
    "duration": 62,
    "start_time": "2021-10-13T18:33:19.240Z"
   },
   {
    "duration": 62,
    "start_time": "2021-10-13T18:33:19.304Z"
   },
   {
    "duration": 419,
    "start_time": "2021-10-13T18:33:19.369Z"
   },
   {
    "duration": 14,
    "start_time": "2021-10-13T18:33:19.790Z"
   },
   {
    "duration": 26,
    "start_time": "2021-10-13T18:33:19.806Z"
   },
   {
    "duration": 16,
    "start_time": "2021-10-13T18:33:19.835Z"
   },
   {
    "duration": 223,
    "start_time": "2021-10-13T18:33:19.854Z"
   },
   {
    "duration": 8,
    "start_time": "2021-10-13T18:33:49.502Z"
   },
   {
    "duration": 5,
    "start_time": "2021-10-13T18:39:22.050Z"
   },
   {
    "duration": 7,
    "start_time": "2021-10-13T18:39:28.681Z"
   },
   {
    "duration": 5,
    "start_time": "2021-10-13T18:39:29.917Z"
   },
   {
    "duration": 401,
    "start_time": "2021-10-13T18:39:37.557Z"
   },
   {
    "duration": 14,
    "start_time": "2021-10-13T18:41:59.948Z"
   },
   {
    "duration": 6,
    "start_time": "2021-10-13T18:43:49.961Z"
   },
   {
    "duration": 5,
    "start_time": "2021-10-13T18:43:57.043Z"
   },
   {
    "duration": 19,
    "start_time": "2021-10-13T18:43:57.055Z"
   },
   {
    "duration": 25,
    "start_time": "2021-10-13T18:43:57.078Z"
   },
   {
    "duration": 11,
    "start_time": "2021-10-13T18:43:57.107Z"
   },
   {
    "duration": 7,
    "start_time": "2021-10-13T18:43:57.122Z"
   },
   {
    "duration": 9,
    "start_time": "2021-10-13T18:43:57.132Z"
   },
   {
    "duration": 10,
    "start_time": "2021-10-13T18:43:57.144Z"
   },
   {
    "duration": 58,
    "start_time": "2021-10-13T18:43:57.156Z"
   },
   {
    "duration": 16,
    "start_time": "2021-10-13T18:43:57.216Z"
   },
   {
    "duration": 55,
    "start_time": "2021-10-13T18:43:57.236Z"
   },
   {
    "duration": 12,
    "start_time": "2021-10-13T18:43:57.294Z"
   },
   {
    "duration": 10,
    "start_time": "2021-10-13T18:43:57.308Z"
   },
   {
    "duration": 10,
    "start_time": "2021-10-13T18:43:57.320Z"
   },
   {
    "duration": 4,
    "start_time": "2021-10-13T18:43:57.333Z"
   },
   {
    "duration": 9,
    "start_time": "2021-10-13T18:43:57.340Z"
   },
   {
    "duration": 49,
    "start_time": "2021-10-13T18:43:57.351Z"
   },
   {
    "duration": 4,
    "start_time": "2021-10-13T18:43:57.403Z"
   },
   {
    "duration": 8,
    "start_time": "2021-10-13T18:43:57.409Z"
   },
   {
    "duration": 20,
    "start_time": "2021-10-13T18:43:57.420Z"
   },
   {
    "duration": 11,
    "start_time": "2021-10-13T18:43:57.442Z"
   },
   {
    "duration": 11,
    "start_time": "2021-10-13T18:43:57.455Z"
   },
   {
    "duration": 31,
    "start_time": "2021-10-13T18:43:57.469Z"
   },
   {
    "duration": 10,
    "start_time": "2021-10-13T18:43:57.503Z"
   },
   {
    "duration": 11,
    "start_time": "2021-10-13T18:43:57.515Z"
   },
   {
    "duration": 354,
    "start_time": "2021-10-13T18:43:57.528Z"
   },
   {
    "duration": 15,
    "start_time": "2021-10-13T18:43:59.307Z"
   },
   {
    "duration": 3958,
    "start_time": "2021-10-13T18:45:47.866Z"
   },
   {
    "duration": 275,
    "start_time": "2021-10-13T18:46:57.394Z"
   },
   {
    "duration": 282,
    "start_time": "2021-10-13T18:47:56.185Z"
   },
   {
    "duration": 14,
    "start_time": "2021-10-13T18:48:04.401Z"
   },
   {
    "duration": 9,
    "start_time": "2021-10-13T18:49:41.353Z"
   },
   {
    "duration": 18,
    "start_time": "2021-10-13T18:49:47.061Z"
   },
   {
    "duration": 4,
    "start_time": "2021-10-13T18:50:48.682Z"
   },
   {
    "duration": 18,
    "start_time": "2021-10-13T18:50:53.867Z"
   },
   {
    "duration": 297,
    "start_time": "2021-10-13T18:51:18.465Z"
   },
   {
    "duration": 10,
    "start_time": "2021-10-13T18:51:28.133Z"
   },
   {
    "duration": 461,
    "start_time": "2021-10-13T18:51:32.099Z"
   },
   {
    "duration": 6910,
    "start_time": "2021-10-13T18:51:51.385Z"
   },
   {
    "duration": 5,
    "start_time": "2021-10-13T18:51:59.560Z"
   },
   {
    "duration": 10,
    "start_time": "2021-10-13T18:52:18.111Z"
   },
   {
    "duration": 440,
    "start_time": "2021-10-13T18:52:21.340Z"
   },
   {
    "duration": 11,
    "start_time": "2021-10-13T18:52:34.595Z"
   },
   {
    "duration": 6,
    "start_time": "2021-10-13T18:52:35.307Z"
   },
   {
    "duration": 477,
    "start_time": "2021-10-13T18:52:37.090Z"
   },
   {
    "duration": 10,
    "start_time": "2021-10-13T18:53:59.496Z"
   },
   {
    "duration": 6,
    "start_time": "2021-10-13T18:54:16.984Z"
   },
   {
    "duration": 453,
    "start_time": "2021-10-13T18:54:20.420Z"
   },
   {
    "duration": 9,
    "start_time": "2021-10-13T18:55:54.213Z"
   },
   {
    "duration": 6,
    "start_time": "2021-10-13T18:55:56.634Z"
   },
   {
    "duration": 528,
    "start_time": "2021-10-13T18:55:57.785Z"
   },
   {
    "duration": 5,
    "start_time": "2021-10-13T18:56:18.212Z"
   },
   {
    "duration": 596,
    "start_time": "2021-10-13T18:56:18.871Z"
   },
   {
    "duration": 537,
    "start_time": "2021-10-13T18:56:27.254Z"
   },
   {
    "duration": 4,
    "start_time": "2021-10-13T18:56:41.802Z"
   },
   {
    "duration": 534,
    "start_time": "2021-10-13T18:56:46.204Z"
   },
   {
    "duration": 5,
    "start_time": "2021-10-13T18:57:36.910Z"
   },
   {
    "duration": 566,
    "start_time": "2021-10-13T18:57:37.570Z"
   },
   {
    "duration": 540,
    "start_time": "2021-10-13T18:57:43.470Z"
   },
   {
    "duration": 7,
    "start_time": "2021-10-13T19:00:50.653Z"
   },
   {
    "duration": 4,
    "start_time": "2021-10-13T19:00:51.808Z"
   },
   {
    "duration": 384,
    "start_time": "2021-10-13T19:00:52.609Z"
   },
   {
    "duration": 6,
    "start_time": "2021-10-13T19:01:08.921Z"
   },
   {
    "duration": 6,
    "start_time": "2021-10-13T19:01:15.353Z"
   },
   {
    "duration": 510,
    "start_time": "2021-10-13T19:01:16.337Z"
   },
   {
    "duration": 7,
    "start_time": "2021-10-13T19:01:21.519Z"
   },
   {
    "duration": 463,
    "start_time": "2021-10-13T19:02:02.891Z"
   },
   {
    "duration": 5,
    "start_time": "2021-10-13T19:02:57.465Z"
   },
   {
    "duration": 23,
    "start_time": "2021-10-13T19:02:57.473Z"
   },
   {
    "duration": 22,
    "start_time": "2021-10-13T19:02:57.500Z"
   },
   {
    "duration": 13,
    "start_time": "2021-10-13T19:02:57.526Z"
   },
   {
    "duration": 7,
    "start_time": "2021-10-13T19:02:57.542Z"
   },
   {
    "duration": 12,
    "start_time": "2021-10-13T19:02:57.552Z"
   },
   {
    "duration": 6,
    "start_time": "2021-10-13T19:02:57.600Z"
   },
   {
    "duration": 22,
    "start_time": "2021-10-13T19:02:57.610Z"
   },
   {
    "duration": 16,
    "start_time": "2021-10-13T19:02:57.635Z"
   },
   {
    "duration": 88,
    "start_time": "2021-10-13T19:02:57.653Z"
   },
   {
    "duration": 13,
    "start_time": "2021-10-13T19:02:57.744Z"
   },
   {
    "duration": 23,
    "start_time": "2021-10-13T19:02:57.759Z"
   },
   {
    "duration": 11,
    "start_time": "2021-10-13T19:02:57.785Z"
   },
   {
    "duration": 6,
    "start_time": "2021-10-13T19:02:57.798Z"
   },
   {
    "duration": 22,
    "start_time": "2021-10-13T19:02:57.807Z"
   },
   {
    "duration": 13,
    "start_time": "2021-10-13T19:02:57.832Z"
   },
   {
    "duration": 11,
    "start_time": "2021-10-13T19:02:57.847Z"
   },
   {
    "duration": 12,
    "start_time": "2021-10-13T19:02:57.860Z"
   },
   {
    "duration": 18,
    "start_time": "2021-10-13T19:02:57.877Z"
   },
   {
    "duration": 10,
    "start_time": "2021-10-13T19:02:57.902Z"
   },
   {
    "duration": 13,
    "start_time": "2021-10-13T19:02:57.915Z"
   },
   {
    "duration": 12,
    "start_time": "2021-10-13T19:02:57.930Z"
   },
   {
    "duration": 13,
    "start_time": "2021-10-13T19:02:57.945Z"
   },
   {
    "duration": 11,
    "start_time": "2021-10-13T19:02:57.961Z"
   },
   {
    "duration": 359,
    "start_time": "2021-10-13T19:02:58.001Z"
   },
   {
    "duration": 277,
    "start_time": "2021-10-13T19:02:58.362Z"
   },
   {
    "duration": 9,
    "start_time": "2021-10-13T19:02:58.641Z"
   },
   {
    "duration": 11,
    "start_time": "2021-10-13T19:02:58.653Z"
   },
   {
    "duration": 14,
    "start_time": "2021-10-13T19:02:58.667Z"
   },
   {
    "duration": 481,
    "start_time": "2021-10-13T19:02:58.684Z"
   },
   {
    "duration": 5,
    "start_time": "2021-10-13T19:02:59.168Z"
   },
   {
    "duration": 31,
    "start_time": "2021-10-13T19:02:59.175Z"
   },
   {
    "duration": 465,
    "start_time": "2021-10-13T19:02:59.208Z"
   },
   {
    "duration": 9,
    "start_time": "2021-10-13T19:02:59.675Z"
   },
   {
    "duration": 5,
    "start_time": "2021-10-13T19:02:59.701Z"
   },
   {
    "duration": 505,
    "start_time": "2021-10-13T19:02:59.709Z"
   },
   {
    "duration": 10,
    "start_time": "2021-10-13T19:03:00.216Z"
   },
   {
    "duration": 18,
    "start_time": "2021-10-13T19:03:00.229Z"
   },
   {
    "duration": 609,
    "start_time": "2021-10-13T19:03:00.249Z"
   },
   {
    "duration": 10,
    "start_time": "2021-10-13T19:03:00.861Z"
   },
   {
    "duration": 16,
    "start_time": "2021-10-13T19:03:00.873Z"
   },
   {
    "duration": 546,
    "start_time": "2021-10-13T19:03:00.892Z"
   },
   {
    "duration": 7,
    "start_time": "2021-10-13T19:03:01.440Z"
   },
   {
    "duration": 57,
    "start_time": "2021-10-13T19:03:01.449Z"
   },
   {
    "duration": 594,
    "start_time": "2021-10-13T19:03:01.508Z"
   },
   {
    "duration": 7,
    "start_time": "2021-10-13T19:03:02.106Z"
   },
   {
    "duration": 136,
    "start_time": "2021-10-13T19:03:02.125Z"
   },
   {
    "duration": 569,
    "start_time": "2021-10-13T19:03:02.265Z"
   },
   {
    "duration": 7,
    "start_time": "2021-10-13T19:03:02.837Z"
   },
   {
    "duration": 27,
    "start_time": "2021-10-13T19:03:02.847Z"
   },
   {
    "duration": 24,
    "start_time": "2021-10-13T19:03:02.899Z"
   },
   {
    "duration": 21,
    "start_time": "2021-10-13T19:03:02.926Z"
   },
   {
    "duration": 50,
    "start_time": "2021-10-13T19:03:02.950Z"
   },
   {
    "duration": 18,
    "start_time": "2021-10-13T19:06:29.062Z"
   },
   {
    "duration": 15,
    "start_time": "2021-10-13T19:08:51.200Z"
   },
   {
    "duration": 11,
    "start_time": "2021-10-13T19:09:01.783Z"
   },
   {
    "duration": 13,
    "start_time": "2021-10-13T19:09:07.165Z"
   },
   {
    "duration": 7,
    "start_time": "2021-10-13T19:10:26.018Z"
   },
   {
    "duration": 6,
    "start_time": "2021-10-13T19:10:31.170Z"
   },
   {
    "duration": 7314,
    "start_time": "2021-10-13T19:12:26.417Z"
   },
   {
    "duration": 8919,
    "start_time": "2021-10-13T19:13:28.616Z"
   },
   {
    "duration": 19,
    "start_time": "2021-10-13T19:13:55.288Z"
   },
   {
    "duration": 12,
    "start_time": "2021-10-13T19:14:07.460Z"
   },
   {
    "duration": 23,
    "start_time": "2021-10-13T19:15:25.389Z"
   },
   {
    "duration": 12,
    "start_time": "2021-10-13T19:15:29.639Z"
   },
   {
    "duration": 22,
    "start_time": "2021-10-13T19:15:49.166Z"
   },
   {
    "duration": 7,
    "start_time": "2021-10-13T19:18:13.889Z"
   },
   {
    "duration": 7,
    "start_time": "2021-10-13T19:18:31.447Z"
   },
   {
    "duration": 7,
    "start_time": "2021-10-13T19:19:02.600Z"
   },
   {
    "duration": 7,
    "start_time": "2021-10-13T19:19:21.931Z"
   },
   {
    "duration": 7,
    "start_time": "2021-10-13T19:20:01.000Z"
   },
   {
    "duration": 13,
    "start_time": "2021-10-13T19:20:06.646Z"
   },
   {
    "duration": 8,
    "start_time": "2021-10-13T19:21:43.856Z"
   },
   {
    "duration": 14,
    "start_time": "2021-10-13T19:21:48.423Z"
   },
   {
    "duration": 18,
    "start_time": "2021-10-13T19:26:35.641Z"
   },
   {
    "duration": 108,
    "start_time": "2021-10-13T19:27:48.041Z"
   },
   {
    "duration": 112,
    "start_time": "2021-10-13T19:28:01.980Z"
   },
   {
    "duration": 96,
    "start_time": "2021-10-13T19:28:07.978Z"
   },
   {
    "duration": 96,
    "start_time": "2021-10-13T19:28:18.244Z"
   },
   {
    "duration": 348,
    "start_time": "2021-10-13T19:29:20.146Z"
   },
   {
    "duration": 704,
    "start_time": "2021-10-13T19:30:01.108Z"
   },
   {
    "duration": 368,
    "start_time": "2021-10-13T19:30:07.404Z"
   },
   {
    "duration": 16,
    "start_time": "2021-10-13T19:30:14.736Z"
   },
   {
    "duration": 13,
    "start_time": "2021-10-13T19:32:36.145Z"
   },
   {
    "duration": 5,
    "start_time": "2021-10-13T19:33:38.300Z"
   },
   {
    "duration": 12,
    "start_time": "2021-10-13T19:34:25.966Z"
   },
   {
    "duration": 13,
    "start_time": "2021-10-13T19:35:39.452Z"
   },
   {
    "duration": 15,
    "start_time": "2021-10-13T19:36:11.950Z"
   },
   {
    "duration": 301,
    "start_time": "2021-10-13T19:38:39.856Z"
   },
   {
    "duration": 14,
    "start_time": "2021-10-13T19:38:50.355Z"
   },
   {
    "duration": 5,
    "start_time": "2021-10-13T19:39:46.054Z"
   },
   {
    "duration": 16,
    "start_time": "2021-10-13T19:40:12.633Z"
   },
   {
    "duration": 308,
    "start_time": "2021-10-13T19:40:14.058Z"
   },
   {
    "duration": 16,
    "start_time": "2021-10-13T19:40:15.043Z"
   },
   {
    "duration": 272,
    "start_time": "2021-10-13T19:40:29.334Z"
   },
   {
    "duration": 16,
    "start_time": "2021-10-13T19:40:30.258Z"
   },
   {
    "duration": 3,
    "start_time": "2021-10-13T19:41:23.473Z"
   },
   {
    "duration": 12,
    "start_time": "2021-10-13T19:41:56.243Z"
   },
   {
    "duration": 22,
    "start_time": "2021-10-13T19:42:05.883Z"
   },
   {
    "duration": 15,
    "start_time": "2021-10-13T19:43:24.113Z"
   },
   {
    "duration": 18,
    "start_time": "2021-10-13T19:43:25.374Z"
   },
   {
    "duration": 14,
    "start_time": "2021-10-13T19:45:58.145Z"
   },
   {
    "duration": 15,
    "start_time": "2021-10-13T19:46:28.873Z"
   },
   {
    "duration": 12,
    "start_time": "2021-10-13T19:47:52.112Z"
   },
   {
    "duration": 9,
    "start_time": "2021-10-13T19:48:44.020Z"
   },
   {
    "duration": 14,
    "start_time": "2021-10-13T19:48:58.101Z"
   },
   {
    "duration": 27,
    "start_time": "2021-10-13T19:49:01.907Z"
   },
   {
    "duration": 13,
    "start_time": "2021-10-13T19:51:45.481Z"
   },
   {
    "duration": 9,
    "start_time": "2021-10-13T19:52:42.377Z"
   },
   {
    "duration": 15,
    "start_time": "2021-10-13T19:52:52.768Z"
   },
   {
    "duration": 18,
    "start_time": "2021-10-13T19:53:30.838Z"
   },
   {
    "duration": 28,
    "start_time": "2021-10-13T19:53:32.181Z"
   },
   {
    "duration": 17,
    "start_time": "2021-10-13T19:53:50.486Z"
   },
   {
    "duration": 27,
    "start_time": "2021-10-13T19:53:51.243Z"
   },
   {
    "duration": 895,
    "start_time": "2021-10-14T12:16:42.956Z"
   },
   {
    "duration": 19,
    "start_time": "2021-10-14T12:16:43.853Z"
   },
   {
    "duration": 17,
    "start_time": "2021-10-14T12:16:43.875Z"
   },
   {
    "duration": 9,
    "start_time": "2021-10-14T12:16:43.895Z"
   },
   {
    "duration": 6,
    "start_time": "2021-10-14T12:16:43.906Z"
   },
   {
    "duration": 9,
    "start_time": "2021-10-14T12:16:43.914Z"
   },
   {
    "duration": 42,
    "start_time": "2021-10-14T12:16:43.925Z"
   },
   {
    "duration": 17,
    "start_time": "2021-10-14T12:16:43.972Z"
   },
   {
    "duration": 17,
    "start_time": "2021-10-14T12:16:43.992Z"
   },
   {
    "duration": 71,
    "start_time": "2021-10-14T12:16:44.012Z"
   },
   {
    "duration": 11,
    "start_time": "2021-10-14T12:16:44.086Z"
   },
   {
    "duration": 9,
    "start_time": "2021-10-14T12:16:44.099Z"
   },
   {
    "duration": 9,
    "start_time": "2021-10-14T12:16:44.110Z"
   },
   {
    "duration": 4,
    "start_time": "2021-10-14T12:16:44.121Z"
   },
   {
    "duration": 10,
    "start_time": "2021-10-14T12:16:44.127Z"
   },
   {
    "duration": 35,
    "start_time": "2021-10-14T12:16:44.139Z"
   },
   {
    "duration": 3,
    "start_time": "2021-10-14T12:16:44.176Z"
   },
   {
    "duration": 8,
    "start_time": "2021-10-14T12:16:44.181Z"
   },
   {
    "duration": 16,
    "start_time": "2021-10-14T12:16:44.192Z"
   },
   {
    "duration": 12,
    "start_time": "2021-10-14T12:16:44.211Z"
   },
   {
    "duration": 9,
    "start_time": "2021-10-14T12:16:44.225Z"
   },
   {
    "duration": 6,
    "start_time": "2021-10-14T12:16:44.268Z"
   },
   {
    "duration": 8,
    "start_time": "2021-10-14T12:16:44.279Z"
   },
   {
    "duration": 7,
    "start_time": "2021-10-14T12:16:44.291Z"
   },
   {
    "duration": 375,
    "start_time": "2021-10-14T12:16:44.301Z"
   },
   {
    "duration": 288,
    "start_time": "2021-10-14T12:16:44.679Z"
   },
   {
    "duration": 9,
    "start_time": "2021-10-14T12:16:44.969Z"
   },
   {
    "duration": 11,
    "start_time": "2021-10-14T12:16:44.980Z"
   },
   {
    "duration": 15,
    "start_time": "2021-10-14T12:16:44.993Z"
   },
   {
    "duration": 489,
    "start_time": "2021-10-14T12:16:45.010Z"
   },
   {
    "duration": 4,
    "start_time": "2021-10-14T12:16:45.502Z"
   },
   {
    "duration": 12,
    "start_time": "2021-10-14T12:16:45.509Z"
   },
   {
    "duration": 475,
    "start_time": "2021-10-14T12:16:45.524Z"
   },
   {
    "duration": 8,
    "start_time": "2021-10-14T12:16:46.001Z"
   },
   {
    "duration": 10,
    "start_time": "2021-10-14T12:16:46.011Z"
   },
   {
    "duration": 502,
    "start_time": "2021-10-14T12:16:46.024Z"
   },
   {
    "duration": 10,
    "start_time": "2021-10-14T12:16:46.528Z"
   },
   {
    "duration": 27,
    "start_time": "2021-10-14T12:16:46.540Z"
   },
   {
    "duration": 529,
    "start_time": "2021-10-14T12:16:46.569Z"
   },
   {
    "duration": 9,
    "start_time": "2021-10-14T12:16:47.100Z"
   },
   {
    "duration": 8,
    "start_time": "2021-10-14T12:16:47.112Z"
   },
   {
    "duration": 590,
    "start_time": "2021-10-14T12:16:47.123Z"
   },
   {
    "duration": 5,
    "start_time": "2021-10-14T12:16:47.716Z"
   },
   {
    "duration": 4,
    "start_time": "2021-10-14T12:16:47.723Z"
   },
   {
    "duration": 452,
    "start_time": "2021-10-14T12:16:47.729Z"
   },
   {
    "duration": 5,
    "start_time": "2021-10-14T12:16:48.184Z"
   },
   {
    "duration": 7,
    "start_time": "2021-10-14T12:16:48.191Z"
   },
   {
    "duration": 386,
    "start_time": "2021-10-14T12:16:48.200Z"
   },
   {
    "duration": 6,
    "start_time": "2021-10-14T12:16:48.588Z"
   },
   {
    "duration": 21,
    "start_time": "2021-10-14T12:16:48.596Z"
   },
   {
    "duration": 50,
    "start_time": "2021-10-14T12:16:48.619Z"
   },
   {
    "duration": 10,
    "start_time": "2021-10-14T12:16:48.671Z"
   },
   {
    "duration": 8,
    "start_time": "2021-10-14T12:16:48.683Z"
   },
   {
    "duration": 9,
    "start_time": "2021-10-14T12:16:48.693Z"
   },
   {
    "duration": 10,
    "start_time": "2021-10-14T12:16:48.704Z"
   },
   {
    "duration": 10,
    "start_time": "2021-10-14T12:16:48.716Z"
   },
   {
    "duration": 397,
    "start_time": "2021-10-14T12:16:48.728Z"
   },
   {
    "duration": 4,
    "start_time": "2021-10-14T12:16:49.127Z"
   },
   {
    "duration": 18,
    "start_time": "2021-10-14T12:16:49.133Z"
   },
   {
    "duration": 275,
    "start_time": "2021-10-14T12:16:49.168Z"
   },
   {
    "duration": 4,
    "start_time": "2021-10-14T12:16:49.446Z"
   },
   {
    "duration": 15,
    "start_time": "2021-10-14T12:16:49.468Z"
   },
   {
    "duration": 20,
    "start_time": "2021-10-14T12:16:49.485Z"
   },
   {
    "duration": 29,
    "start_time": "2021-10-14T12:16:49.507Z"
   },
   {
    "duration": 20,
    "start_time": "2021-10-14T12:48:26.376Z"
   },
   {
    "duration": 148,
    "start_time": "2021-10-14T12:49:24.913Z"
   },
   {
    "duration": 108,
    "start_time": "2021-10-14T12:49:44.829Z"
   },
   {
    "duration": 110,
    "start_time": "2021-10-14T12:49:57.281Z"
   },
   {
    "duration": 99,
    "start_time": "2021-10-14T12:50:31.688Z"
   },
   {
    "duration": 193,
    "start_time": "2021-10-14T12:51:10.441Z"
   },
   {
    "duration": 177,
    "start_time": "2021-10-14T12:51:24.146Z"
   },
   {
    "duration": 349,
    "start_time": "2021-10-14T12:56:35.686Z"
   },
   {
    "duration": 403,
    "start_time": "2021-10-14T12:56:48.266Z"
   },
   {
    "duration": 6,
    "start_time": "2021-10-14T12:57:20.367Z"
   },
   {
    "duration": 7,
    "start_time": "2021-10-14T12:57:37.571Z"
   },
   {
    "duration": 9,
    "start_time": "2021-10-14T12:57:46.408Z"
   },
   {
    "duration": 16,
    "start_time": "2021-10-14T12:58:10.630Z"
   },
   {
    "duration": 5,
    "start_time": "2021-10-14T12:58:22.527Z"
   },
   {
    "duration": 7,
    "start_time": "2021-10-14T12:58:36.661Z"
   },
   {
    "duration": 6,
    "start_time": "2021-10-14T12:58:56.500Z"
   },
   {
    "duration": 258,
    "start_time": "2021-10-14T13:00:34.360Z"
   },
   {
    "duration": 8,
    "start_time": "2021-10-14T13:01:14.178Z"
   },
   {
    "duration": 9,
    "start_time": "2021-10-14T13:01:43.672Z"
   },
   {
    "duration": 7,
    "start_time": "2021-10-14T13:01:56.716Z"
   },
   {
    "duration": 259,
    "start_time": "2021-10-14T13:04:03.493Z"
   },
   {
    "duration": 263,
    "start_time": "2021-10-14T13:04:12.693Z"
   },
   {
    "duration": 502,
    "start_time": "2021-10-14T13:04:32.690Z"
   },
   {
    "duration": 9,
    "start_time": "2021-10-14T13:04:38.372Z"
   },
   {
    "duration": 9,
    "start_time": "2021-10-14T13:04:45.230Z"
   },
   {
    "duration": 240,
    "start_time": "2021-10-14T13:10:11.158Z"
   },
   {
    "duration": 10,
    "start_time": "2021-10-14T13:10:24.135Z"
   },
   {
    "duration": 10,
    "start_time": "2021-10-14T13:12:26.580Z"
   },
   {
    "duration": 8,
    "start_time": "2021-10-14T13:12:32.948Z"
   },
   {
    "duration": 286,
    "start_time": "2021-10-14T13:13:54.880Z"
   },
   {
    "duration": 7,
    "start_time": "2021-10-14T13:14:06.751Z"
   },
   {
    "duration": 6,
    "start_time": "2021-10-14T13:19:51.913Z"
   },
   {
    "duration": 263,
    "start_time": "2021-10-14T13:20:26.929Z"
   },
   {
    "duration": 267,
    "start_time": "2021-10-14T13:20:31.970Z"
   },
   {
    "duration": 253,
    "start_time": "2021-10-14T13:20:43.566Z"
   },
   {
    "duration": 238,
    "start_time": "2021-10-14T13:20:51.099Z"
   },
   {
    "duration": 7,
    "start_time": "2021-10-14T13:20:56.244Z"
   },
   {
    "duration": 18,
    "start_time": "2021-10-14T13:24:33.494Z"
   },
   {
    "duration": 9,
    "start_time": "2021-10-14T13:26:33.532Z"
   },
   {
    "duration": 271,
    "start_time": "2021-10-14T13:28:17.781Z"
   },
   {
    "duration": 8,
    "start_time": "2021-10-14T13:28:52.513Z"
   },
   {
    "duration": 332,
    "start_time": "2021-10-14T13:38:08.443Z"
   },
   {
    "duration": 278,
    "start_time": "2021-10-14T13:38:34.238Z"
   },
   {
    "duration": 7,
    "start_time": "2021-10-14T13:38:55.058Z"
   },
   {
    "duration": 7,
    "start_time": "2021-10-14T13:39:01.223Z"
   },
   {
    "duration": 267,
    "start_time": "2021-10-14T13:40:40.597Z"
   },
   {
    "duration": 7,
    "start_time": "2021-10-14T13:41:16.747Z"
   },
   {
    "duration": 6,
    "start_time": "2021-10-14T13:41:23.622Z"
   },
   {
    "duration": 4,
    "start_time": "2021-10-14T13:42:31.548Z"
   },
   {
    "duration": 4,
    "start_time": "2021-10-14T13:42:42.376Z"
   },
   {
    "duration": 6,
    "start_time": "2021-10-14T13:42:43.156Z"
   },
   {
    "duration": 249,
    "start_time": "2021-10-14T13:42:49.090Z"
   },
   {
    "duration": 5,
    "start_time": "2021-10-14T13:42:57.502Z"
   },
   {
    "duration": 305,
    "start_time": "2021-10-14T13:52:16.771Z"
   },
   {
    "duration": 7,
    "start_time": "2021-10-14T13:52:41.844Z"
   },
   {
    "duration": 8,
    "start_time": "2021-10-14T13:53:46.516Z"
   },
   {
    "duration": 7,
    "start_time": "2021-10-14T13:54:11.674Z"
   },
   {
    "duration": 9,
    "start_time": "2021-10-14T13:57:33.891Z"
   },
   {
    "duration": 5098,
    "start_time": "2021-10-14T13:59:20.427Z"
   },
   {
    "duration": 5,
    "start_time": "2021-10-14T13:59:32.040Z"
   },
   {
    "duration": 5,
    "start_time": "2021-10-14T13:59:38.481Z"
   },
   {
    "duration": 943,
    "start_time": "2021-10-14T14:04:18.466Z"
   },
   {
    "duration": 1448,
    "start_time": "2021-10-14T14:04:26.329Z"
   },
   {
    "duration": 1270,
    "start_time": "2021-10-14T14:04:47.775Z"
   },
   {
    "duration": 264,
    "start_time": "2021-10-14T14:07:37.172Z"
   },
   {
    "duration": 88,
    "start_time": "2021-10-14T14:10:21.736Z"
   },
   {
    "duration": 90,
    "start_time": "2021-10-14T14:10:53.632Z"
   },
   {
    "duration": 10,
    "start_time": "2021-10-14T14:11:16.783Z"
   },
   {
    "duration": 12,
    "start_time": "2021-10-14T14:13:27.169Z"
   },
   {
    "duration": 11,
    "start_time": "2021-10-14T14:14:51.734Z"
   },
   {
    "duration": 475,
    "start_time": "2021-10-14T14:23:41.643Z"
   },
   {
    "duration": 433,
    "start_time": "2021-10-14T14:45:45.411Z"
   },
   {
    "duration": 518,
    "start_time": "2021-10-14T14:45:59.168Z"
   },
   {
    "duration": 475,
    "start_time": "2021-10-14T14:46:16.510Z"
   },
   {
    "duration": 731,
    "start_time": "2021-10-14T14:46:40.448Z"
   },
   {
    "duration": 475,
    "start_time": "2021-10-14T14:46:49.648Z"
   },
   {
    "duration": 476,
    "start_time": "2021-10-14T14:47:35.186Z"
   },
   {
    "duration": 480,
    "start_time": "2021-10-14T14:48:04.893Z"
   },
   {
    "duration": 508,
    "start_time": "2021-10-14T14:48:48.920Z"
   },
   {
    "duration": 481,
    "start_time": "2021-10-14T14:49:41.328Z"
   },
   {
    "duration": 413,
    "start_time": "2021-10-14T14:52:12.867Z"
   },
   {
    "duration": 1357,
    "start_time": "2021-10-14T14:53:11.285Z"
   },
   {
    "duration": 18,
    "start_time": "2021-10-14T14:53:12.644Z"
   },
   {
    "duration": 19,
    "start_time": "2021-10-14T14:53:12.665Z"
   },
   {
    "duration": 11,
    "start_time": "2021-10-14T14:53:12.687Z"
   },
   {
    "duration": 7,
    "start_time": "2021-10-14T14:53:12.700Z"
   },
   {
    "duration": 15,
    "start_time": "2021-10-14T14:53:12.709Z"
   },
   {
    "duration": 10,
    "start_time": "2021-10-14T14:53:12.726Z"
   },
   {
    "duration": 40,
    "start_time": "2021-10-14T14:53:12.740Z"
   },
   {
    "duration": 17,
    "start_time": "2021-10-14T14:53:12.783Z"
   },
   {
    "duration": 33,
    "start_time": "2021-10-14T14:53:12.802Z"
   },
   {
    "duration": 14,
    "start_time": "2021-10-14T14:53:12.837Z"
   },
   {
    "duration": 9,
    "start_time": "2021-10-14T14:53:12.868Z"
   },
   {
    "duration": 12,
    "start_time": "2021-10-14T14:53:12.880Z"
   },
   {
    "duration": 6,
    "start_time": "2021-10-14T14:53:12.895Z"
   },
   {
    "duration": 10,
    "start_time": "2021-10-14T14:53:12.903Z"
   },
   {
    "duration": 13,
    "start_time": "2021-10-14T14:53:12.915Z"
   },
   {
    "duration": 37,
    "start_time": "2021-10-14T14:53:12.930Z"
   },
   {
    "duration": 10,
    "start_time": "2021-10-14T14:53:12.969Z"
   },
   {
    "duration": 18,
    "start_time": "2021-10-14T14:53:12.981Z"
   },
   {
    "duration": 17,
    "start_time": "2021-10-14T14:53:13.002Z"
   },
   {
    "duration": 10,
    "start_time": "2021-10-14T14:53:13.021Z"
   },
   {
    "duration": 14,
    "start_time": "2021-10-14T14:53:13.033Z"
   },
   {
    "duration": 7,
    "start_time": "2021-10-14T14:53:13.072Z"
   },
   {
    "duration": 13,
    "start_time": "2021-10-14T14:53:13.083Z"
   },
   {
    "duration": 376,
    "start_time": "2021-10-14T14:53:13.098Z"
   },
   {
    "duration": 292,
    "start_time": "2021-10-14T14:53:13.476Z"
   },
   {
    "duration": 14,
    "start_time": "2021-10-14T14:53:13.771Z"
   },
   {
    "duration": 5,
    "start_time": "2021-10-14T14:53:13.788Z"
   },
   {
    "duration": 13,
    "start_time": "2021-10-14T14:53:13.795Z"
   },
   {
    "duration": 528,
    "start_time": "2021-10-14T14:53:13.811Z"
   },
   {
    "duration": 5,
    "start_time": "2021-10-14T14:53:14.342Z"
   },
   {
    "duration": 20,
    "start_time": "2021-10-14T14:53:14.350Z"
   },
   {
    "duration": 498,
    "start_time": "2021-10-14T14:53:14.372Z"
   },
   {
    "duration": 10,
    "start_time": "2021-10-14T14:53:14.872Z"
   },
   {
    "duration": 14,
    "start_time": "2021-10-14T14:53:14.884Z"
   },
   {
    "duration": 516,
    "start_time": "2021-10-14T14:53:14.901Z"
   },
   {
    "duration": 10,
    "start_time": "2021-10-14T14:53:15.420Z"
   },
   {
    "duration": 13,
    "start_time": "2021-10-14T14:53:15.433Z"
   },
   {
    "duration": 522,
    "start_time": "2021-10-14T14:53:15.449Z"
   },
   {
    "duration": 10,
    "start_time": "2021-10-14T14:53:15.973Z"
   },
   {
    "duration": 6,
    "start_time": "2021-10-14T14:53:15.986Z"
   },
   {
    "duration": 559,
    "start_time": "2021-10-14T14:53:15.995Z"
   },
   {
    "duration": 10,
    "start_time": "2021-10-14T14:53:16.557Z"
   },
   {
    "duration": 4,
    "start_time": "2021-10-14T14:53:16.569Z"
   },
   {
    "duration": 447,
    "start_time": "2021-10-14T14:53:16.576Z"
   },
   {
    "duration": 6,
    "start_time": "2021-10-14T14:53:17.025Z"
   },
   {
    "duration": 10,
    "start_time": "2021-10-14T14:53:17.033Z"
   },
   {
    "duration": 452,
    "start_time": "2021-10-14T14:53:17.046Z"
   },
   {
    "duration": 6,
    "start_time": "2021-10-14T14:53:17.501Z"
   },
   {
    "duration": 27,
    "start_time": "2021-10-14T14:53:17.509Z"
   },
   {
    "duration": 42,
    "start_time": "2021-10-14T14:53:17.538Z"
   },
   {
    "duration": 8,
    "start_time": "2021-10-14T14:53:17.583Z"
   },
   {
    "duration": 22,
    "start_time": "2021-10-14T14:53:17.593Z"
   },
   {
    "duration": 10,
    "start_time": "2021-10-14T14:53:17.617Z"
   },
   {
    "duration": 13,
    "start_time": "2021-10-14T14:53:17.629Z"
   },
   {
    "duration": 24,
    "start_time": "2021-10-14T14:53:17.645Z"
   },
   {
    "duration": 386,
    "start_time": "2021-10-14T14:53:17.671Z"
   },
   {
    "duration": 8,
    "start_time": "2021-10-14T14:53:18.059Z"
   },
   {
    "duration": 15,
    "start_time": "2021-10-14T14:53:18.069Z"
   },
   {
    "duration": 285,
    "start_time": "2021-10-14T14:53:18.086Z"
   },
   {
    "duration": 4,
    "start_time": "2021-10-14T14:53:18.373Z"
   },
   {
    "duration": 18,
    "start_time": "2021-10-14T14:53:18.379Z"
   },
   {
    "duration": 19,
    "start_time": "2021-10-14T14:53:18.400Z"
   },
   {
    "duration": 146,
    "start_time": "2021-10-14T14:53:18.421Z"
   },
   {
    "duration": 133,
    "start_time": "2021-10-14T14:53:18.570Z"
   },
   {
    "duration": 8,
    "start_time": "2021-10-14T14:53:18.705Z"
   },
   {
    "duration": 17,
    "start_time": "2021-10-14T14:53:18.716Z"
   },
   {
    "duration": 27,
    "start_time": "2021-10-14T14:53:18.742Z"
   },
   {
    "duration": 11,
    "start_time": "2021-10-14T14:53:18.772Z"
   },
   {
    "duration": 9,
    "start_time": "2021-10-14T14:53:18.785Z"
   },
   {
    "duration": 12,
    "start_time": "2021-10-14T14:53:18.796Z"
   },
   {
    "duration": 8,
    "start_time": "2021-10-14T14:53:18.811Z"
   },
   {
    "duration": 10,
    "start_time": "2021-10-14T14:53:18.821Z"
   },
   {
    "duration": 8,
    "start_time": "2021-10-14T14:53:18.867Z"
   },
   {
    "duration": 12,
    "start_time": "2021-10-14T14:53:18.877Z"
   },
   {
    "duration": 5,
    "start_time": "2021-10-14T14:53:18.891Z"
   },
   {
    "duration": 13,
    "start_time": "2021-10-14T14:53:18.899Z"
   },
   {
    "duration": 54,
    "start_time": "2021-10-14T14:53:18.915Z"
   },
   {
    "duration": 3195,
    "start_time": "2021-10-14T14:55:13.442Z"
   },
   {
    "duration": 19,
    "start_time": "2021-10-14T14:55:16.640Z"
   },
   {
    "duration": 21,
    "start_time": "2021-10-14T14:55:16.662Z"
   },
   {
    "duration": 12,
    "start_time": "2021-10-14T14:55:16.686Z"
   },
   {
    "duration": 6,
    "start_time": "2021-10-14T14:55:16.700Z"
   },
   {
    "duration": 10,
    "start_time": "2021-10-14T14:55:16.708Z"
   },
   {
    "duration": 10,
    "start_time": "2021-10-14T14:55:16.720Z"
   },
   {
    "duration": 16,
    "start_time": "2021-10-14T14:55:16.767Z"
   },
   {
    "duration": 19,
    "start_time": "2021-10-14T14:55:16.786Z"
   },
   {
    "duration": 33,
    "start_time": "2021-10-14T14:55:16.808Z"
   },
   {
    "duration": 21,
    "start_time": "2021-10-14T14:55:16.844Z"
   },
   {
    "duration": 27,
    "start_time": "2021-10-14T14:55:16.868Z"
   },
   {
    "duration": 15,
    "start_time": "2021-10-14T14:55:16.898Z"
   },
   {
    "duration": 10,
    "start_time": "2021-10-14T14:55:16.915Z"
   },
   {
    "duration": 9,
    "start_time": "2021-10-14T14:55:16.927Z"
   },
   {
    "duration": 28,
    "start_time": "2021-10-14T14:55:16.939Z"
   },
   {
    "duration": 3,
    "start_time": "2021-10-14T14:55:16.970Z"
   },
   {
    "duration": 9,
    "start_time": "2021-10-14T14:55:16.976Z"
   },
   {
    "duration": 19,
    "start_time": "2021-10-14T14:55:16.988Z"
   },
   {
    "duration": 14,
    "start_time": "2021-10-14T14:55:17.009Z"
   },
   {
    "duration": 9,
    "start_time": "2021-10-14T14:55:17.026Z"
   },
   {
    "duration": 36,
    "start_time": "2021-10-14T14:55:17.038Z"
   },
   {
    "duration": 14,
    "start_time": "2021-10-14T14:55:17.080Z"
   },
   {
    "duration": 9,
    "start_time": "2021-10-14T14:55:17.098Z"
   },
   {
    "duration": 369,
    "start_time": "2021-10-14T14:55:17.109Z"
   },
   {
    "duration": 277,
    "start_time": "2021-10-14T14:55:17.480Z"
   },
   {
    "duration": 11,
    "start_time": "2021-10-14T14:55:17.767Z"
   },
   {
    "duration": 7,
    "start_time": "2021-10-14T14:55:17.780Z"
   },
   {
    "duration": 12,
    "start_time": "2021-10-14T14:55:17.789Z"
   },
   {
    "duration": 536,
    "start_time": "2021-10-14T14:55:17.804Z"
   },
   {
    "duration": 5,
    "start_time": "2021-10-14T14:55:18.343Z"
   },
   {
    "duration": 11,
    "start_time": "2021-10-14T14:55:18.366Z"
   },
   {
    "duration": 660,
    "start_time": "2021-10-14T14:55:18.380Z"
   },
   {
    "duration": 9,
    "start_time": "2021-10-14T14:55:19.042Z"
   },
   {
    "duration": 22,
    "start_time": "2021-10-14T14:55:19.053Z"
   },
   {
    "duration": 496,
    "start_time": "2021-10-14T14:55:19.078Z"
   },
   {
    "duration": 10,
    "start_time": "2021-10-14T14:55:19.576Z"
   },
   {
    "duration": 10,
    "start_time": "2021-10-14T14:55:19.588Z"
   },
   {
    "duration": 513,
    "start_time": "2021-10-14T14:55:19.600Z"
   },
   {
    "duration": 9,
    "start_time": "2021-10-14T14:55:20.115Z"
   },
   {
    "duration": 9,
    "start_time": "2021-10-14T14:55:20.127Z"
   },
   {
    "duration": 604,
    "start_time": "2021-10-14T14:55:20.138Z"
   },
   {
    "duration": 6,
    "start_time": "2021-10-14T14:55:20.744Z"
   },
   {
    "duration": 26,
    "start_time": "2021-10-14T14:55:20.752Z"
   },
   {
    "duration": 412,
    "start_time": "2021-10-14T14:55:20.781Z"
   },
   {
    "duration": 6,
    "start_time": "2021-10-14T14:55:21.195Z"
   },
   {
    "duration": 12,
    "start_time": "2021-10-14T14:55:21.203Z"
   },
   {
    "duration": 397,
    "start_time": "2021-10-14T14:55:21.217Z"
   },
   {
    "duration": 5,
    "start_time": "2021-10-14T14:55:21.617Z"
   },
   {
    "duration": 48,
    "start_time": "2021-10-14T14:55:21.624Z"
   },
   {
    "duration": 20,
    "start_time": "2021-10-14T14:55:21.674Z"
   },
   {
    "duration": 8,
    "start_time": "2021-10-14T14:55:21.697Z"
   },
   {
    "duration": 11,
    "start_time": "2021-10-14T14:55:21.707Z"
   },
   {
    "duration": 11,
    "start_time": "2021-10-14T14:55:21.720Z"
   },
   {
    "duration": 37,
    "start_time": "2021-10-14T14:55:21.733Z"
   },
   {
    "duration": 7,
    "start_time": "2021-10-14T14:55:21.772Z"
   },
   {
    "duration": 380,
    "start_time": "2021-10-14T14:55:21.782Z"
   },
   {
    "duration": 3,
    "start_time": "2021-10-14T14:55:22.165Z"
   },
   {
    "duration": 20,
    "start_time": "2021-10-14T14:55:22.171Z"
   },
   {
    "duration": 273,
    "start_time": "2021-10-14T14:55:22.193Z"
   },
   {
    "duration": 4,
    "start_time": "2021-10-14T14:55:22.468Z"
   },
   {
    "duration": 17,
    "start_time": "2021-10-14T14:55:22.474Z"
   },
   {
    "duration": 19,
    "start_time": "2021-10-14T14:55:22.494Z"
   },
   {
    "duration": 112,
    "start_time": "2021-10-14T14:55:22.515Z"
   },
   {
    "duration": 160,
    "start_time": "2021-10-14T14:55:22.630Z"
   },
   {
    "duration": 9,
    "start_time": "2021-10-14T14:55:22.793Z"
   },
   {
    "duration": 12,
    "start_time": "2021-10-14T14:55:22.805Z"
   },
   {
    "duration": 4,
    "start_time": "2021-10-14T14:55:22.827Z"
   },
   {
    "duration": 11,
    "start_time": "2021-10-14T14:55:22.867Z"
   },
   {
    "duration": 11,
    "start_time": "2021-10-14T14:55:22.881Z"
   },
   {
    "duration": 10,
    "start_time": "2021-10-14T14:55:22.895Z"
   },
   {
    "duration": 6,
    "start_time": "2021-10-14T14:55:22.908Z"
   },
   {
    "duration": 55,
    "start_time": "2021-10-14T14:55:22.917Z"
   },
   {
    "duration": 11,
    "start_time": "2021-10-14T14:55:22.975Z"
   },
   {
    "duration": 11,
    "start_time": "2021-10-14T14:55:22.988Z"
   },
   {
    "duration": 6,
    "start_time": "2021-10-14T14:55:23.002Z"
   },
   {
    "duration": 57,
    "start_time": "2021-10-14T14:55:23.010Z"
   },
   {
    "duration": 12,
    "start_time": "2021-10-14T14:55:23.070Z"
   },
   {
    "duration": 1415,
    "start_time": "2021-10-14T14:56:19.114Z"
   },
   {
    "duration": 20,
    "start_time": "2021-10-14T14:56:20.537Z"
   },
   {
    "duration": 22,
    "start_time": "2021-10-14T14:56:20.560Z"
   },
   {
    "duration": 10,
    "start_time": "2021-10-14T14:56:20.585Z"
   },
   {
    "duration": 8,
    "start_time": "2021-10-14T14:56:20.598Z"
   },
   {
    "duration": 10,
    "start_time": "2021-10-14T14:56:20.609Z"
   },
   {
    "duration": 52,
    "start_time": "2021-10-14T14:56:20.623Z"
   },
   {
    "duration": 17,
    "start_time": "2021-10-14T14:56:20.678Z"
   },
   {
    "duration": 21,
    "start_time": "2021-10-14T14:56:20.697Z"
   },
   {
    "duration": 38,
    "start_time": "2021-10-14T14:56:20.720Z"
   },
   {
    "duration": 18,
    "start_time": "2021-10-14T14:56:20.760Z"
   },
   {
    "duration": 14,
    "start_time": "2021-10-14T14:56:20.780Z"
   },
   {
    "duration": 18,
    "start_time": "2021-10-14T14:56:20.797Z"
   },
   {
    "duration": 8,
    "start_time": "2021-10-14T14:56:20.818Z"
   },
   {
    "duration": 13,
    "start_time": "2021-10-14T14:56:20.829Z"
   },
   {
    "duration": 31,
    "start_time": "2021-10-14T14:56:20.845Z"
   },
   {
    "duration": 11,
    "start_time": "2021-10-14T14:56:20.879Z"
   },
   {
    "duration": 16,
    "start_time": "2021-10-14T14:56:20.892Z"
   },
   {
    "duration": 22,
    "start_time": "2021-10-14T14:56:20.910Z"
   },
   {
    "duration": 16,
    "start_time": "2021-10-14T14:56:20.935Z"
   },
   {
    "duration": 15,
    "start_time": "2021-10-14T14:56:20.953Z"
   },
   {
    "duration": 7,
    "start_time": "2021-10-14T14:56:20.974Z"
   },
   {
    "duration": 10,
    "start_time": "2021-10-14T14:56:20.985Z"
   },
   {
    "duration": 11,
    "start_time": "2021-10-14T14:56:20.998Z"
   },
   {
    "duration": 368,
    "start_time": "2021-10-14T14:56:21.011Z"
   },
   {
    "duration": 277,
    "start_time": "2021-10-14T14:56:21.382Z"
   },
   {
    "duration": 9,
    "start_time": "2021-10-14T14:56:21.667Z"
   },
   {
    "duration": 8,
    "start_time": "2021-10-14T14:56:21.678Z"
   },
   {
    "duration": 12,
    "start_time": "2021-10-14T14:56:21.689Z"
   },
   {
    "duration": 532,
    "start_time": "2021-10-14T14:56:21.704Z"
   },
   {
    "duration": 5,
    "start_time": "2021-10-14T14:56:22.238Z"
   },
   {
    "duration": 24,
    "start_time": "2021-10-14T14:56:22.246Z"
   },
   {
    "duration": 494,
    "start_time": "2021-10-14T14:56:22.273Z"
   },
   {
    "duration": 10,
    "start_time": "2021-10-14T14:56:22.769Z"
   },
   {
    "duration": 9,
    "start_time": "2021-10-14T14:56:22.781Z"
   },
   {
    "duration": 496,
    "start_time": "2021-10-14T14:56:22.792Z"
   },
   {
    "duration": 10,
    "start_time": "2021-10-14T14:56:23.291Z"
   },
   {
    "duration": 9,
    "start_time": "2021-10-14T14:56:23.303Z"
   },
   {
    "duration": 502,
    "start_time": "2021-10-14T14:56:23.314Z"
   },
   {
    "duration": 10,
    "start_time": "2021-10-14T14:56:23.818Z"
   },
   {
    "duration": 8,
    "start_time": "2021-10-14T14:56:23.831Z"
   },
   {
    "duration": 566,
    "start_time": "2021-10-14T14:56:23.841Z"
   },
   {
    "duration": 6,
    "start_time": "2021-10-14T14:56:24.409Z"
   },
   {
    "duration": 8,
    "start_time": "2021-10-14T14:56:24.417Z"
   },
   {
    "duration": 449,
    "start_time": "2021-10-14T14:56:24.427Z"
   },
   {
    "duration": 6,
    "start_time": "2021-10-14T14:56:24.878Z"
   },
   {
    "duration": 7,
    "start_time": "2021-10-14T14:56:24.887Z"
   },
   {
    "duration": 413,
    "start_time": "2021-10-14T14:56:24.896Z"
   },
   {
    "duration": 6,
    "start_time": "2021-10-14T14:56:25.311Z"
   },
   {
    "duration": 49,
    "start_time": "2021-10-14T14:56:25.319Z"
   },
   {
    "duration": 23,
    "start_time": "2021-10-14T14:56:25.370Z"
   },
   {
    "duration": 8,
    "start_time": "2021-10-14T14:56:25.395Z"
   },
   {
    "duration": 12,
    "start_time": "2021-10-14T14:56:25.405Z"
   },
   {
    "duration": 18,
    "start_time": "2021-10-14T14:56:25.420Z"
   },
   {
    "duration": 30,
    "start_time": "2021-10-14T14:56:25.441Z"
   },
   {
    "duration": 21,
    "start_time": "2021-10-14T14:56:25.474Z"
   },
   {
    "duration": 369,
    "start_time": "2021-10-14T14:56:25.498Z"
   },
   {
    "duration": 4,
    "start_time": "2021-10-14T14:56:25.870Z"
   },
   {
    "duration": 16,
    "start_time": "2021-10-14T14:56:25.877Z"
   },
   {
    "duration": 273,
    "start_time": "2021-10-14T14:56:25.895Z"
   },
   {
    "duration": 4,
    "start_time": "2021-10-14T14:56:26.170Z"
   },
   {
    "duration": 34,
    "start_time": "2021-10-14T14:56:26.176Z"
   },
   {
    "duration": 29,
    "start_time": "2021-10-14T14:56:26.212Z"
   },
   {
    "duration": 138,
    "start_time": "2021-10-14T14:56:26.244Z"
   },
   {
    "duration": 127,
    "start_time": "2021-10-14T14:56:26.384Z"
   },
   {
    "duration": 8,
    "start_time": "2021-10-14T14:56:26.513Z"
   },
   {
    "duration": 10,
    "start_time": "2021-10-14T14:56:26.529Z"
   },
   {
    "duration": 6,
    "start_time": "2021-10-14T14:56:26.566Z"
   },
   {
    "duration": 13,
    "start_time": "2021-10-14T14:56:26.574Z"
   },
   {
    "duration": 11,
    "start_time": "2021-10-14T14:56:26.589Z"
   },
   {
    "duration": 12,
    "start_time": "2021-10-14T14:56:26.603Z"
   },
   {
    "duration": 11,
    "start_time": "2021-10-14T14:56:26.617Z"
   },
   {
    "duration": 42,
    "start_time": "2021-10-14T14:56:26.631Z"
   },
   {
    "duration": 11,
    "start_time": "2021-10-14T14:56:26.676Z"
   },
   {
    "duration": 10,
    "start_time": "2021-10-14T14:56:26.690Z"
   },
   {
    "duration": 6,
    "start_time": "2021-10-14T14:56:26.704Z"
   },
   {
    "duration": 62,
    "start_time": "2021-10-14T14:56:26.713Z"
   },
   {
    "duration": 13,
    "start_time": "2021-10-14T14:56:26.779Z"
   },
   {
    "duration": 1387,
    "start_time": "2021-10-15T06:50:50.580Z"
   },
   {
    "duration": 20,
    "start_time": "2021-10-15T06:50:51.969Z"
   },
   {
    "duration": 22,
    "start_time": "2021-10-15T06:50:51.993Z"
   },
   {
    "duration": 11,
    "start_time": "2021-10-15T06:50:52.018Z"
   },
   {
    "duration": 6,
    "start_time": "2021-10-15T06:50:52.031Z"
   },
   {
    "duration": 8,
    "start_time": "2021-10-15T06:50:52.040Z"
   },
   {
    "duration": 49,
    "start_time": "2021-10-15T06:50:52.051Z"
   },
   {
    "duration": 18,
    "start_time": "2021-10-15T06:50:52.105Z"
   },
   {
    "duration": 18,
    "start_time": "2021-10-15T06:50:52.127Z"
   },
   {
    "duration": 49,
    "start_time": "2021-10-15T06:50:52.148Z"
   },
   {
    "duration": 11,
    "start_time": "2021-10-15T06:50:52.200Z"
   },
   {
    "duration": 11,
    "start_time": "2021-10-15T06:50:52.213Z"
   },
   {
    "duration": 10,
    "start_time": "2021-10-15T06:50:52.226Z"
   },
   {
    "duration": 6,
    "start_time": "2021-10-15T06:50:52.238Z"
   },
   {
    "duration": 10,
    "start_time": "2021-10-15T06:50:52.246Z"
   },
   {
    "duration": 52,
    "start_time": "2021-10-15T06:50:52.258Z"
   },
   {
    "duration": 3,
    "start_time": "2021-10-15T06:50:52.313Z"
   },
   {
    "duration": 8,
    "start_time": "2021-10-15T06:50:52.319Z"
   },
   {
    "duration": 19,
    "start_time": "2021-10-15T06:50:52.330Z"
   },
   {
    "duration": 13,
    "start_time": "2021-10-15T06:50:52.351Z"
   },
   {
    "duration": 34,
    "start_time": "2021-10-15T06:50:52.367Z"
   },
   {
    "duration": 6,
    "start_time": "2021-10-15T06:50:52.403Z"
   },
   {
    "duration": 8,
    "start_time": "2021-10-15T06:50:52.415Z"
   },
   {
    "duration": 10,
    "start_time": "2021-10-15T06:50:52.427Z"
   },
   {
    "duration": 383,
    "start_time": "2021-10-15T06:50:52.439Z"
   },
   {
    "duration": 283,
    "start_time": "2021-10-15T06:50:52.824Z"
   },
   {
    "duration": 9,
    "start_time": "2021-10-15T06:50:53.109Z"
   },
   {
    "duration": 7,
    "start_time": "2021-10-15T06:50:53.121Z"
   },
   {
    "duration": 11,
    "start_time": "2021-10-15T06:50:53.131Z"
   },
   {
    "duration": 521,
    "start_time": "2021-10-15T06:50:53.144Z"
   },
   {
    "duration": 8,
    "start_time": "2021-10-15T06:50:53.667Z"
   },
   {
    "duration": 26,
    "start_time": "2021-10-15T06:50:53.678Z"
   },
   {
    "duration": 480,
    "start_time": "2021-10-15T06:50:53.707Z"
   },
   {
    "duration": 9,
    "start_time": "2021-10-15T06:50:54.199Z"
   },
   {
    "duration": 14,
    "start_time": "2021-10-15T06:50:54.210Z"
   },
   {
    "duration": 475,
    "start_time": "2021-10-15T06:50:54.226Z"
   },
   {
    "duration": 10,
    "start_time": "2021-10-15T06:50:54.703Z"
   },
   {
    "duration": 8,
    "start_time": "2021-10-15T06:50:54.716Z"
   },
   {
    "duration": 491,
    "start_time": "2021-10-15T06:50:54.726Z"
   },
   {
    "duration": 10,
    "start_time": "2021-10-15T06:50:55.219Z"
   },
   {
    "duration": 9,
    "start_time": "2021-10-15T06:50:55.232Z"
   },
   {
    "duration": 543,
    "start_time": "2021-10-15T06:50:55.244Z"
   },
   {
    "duration": 15,
    "start_time": "2021-10-15T06:50:55.789Z"
   },
   {
    "duration": 9,
    "start_time": "2021-10-15T06:50:55.806Z"
   },
   {
    "duration": 409,
    "start_time": "2021-10-15T06:50:55.817Z"
   },
   {
    "duration": 8,
    "start_time": "2021-10-15T06:50:56.230Z"
   },
   {
    "duration": 13,
    "start_time": "2021-10-15T06:50:56.241Z"
   },
   {
    "duration": 437,
    "start_time": "2021-10-15T06:50:56.256Z"
   },
   {
    "duration": 6,
    "start_time": "2021-10-15T06:50:56.696Z"
   },
   {
    "duration": 24,
    "start_time": "2021-10-15T06:50:56.705Z"
   },
   {
    "duration": 22,
    "start_time": "2021-10-15T06:50:56.732Z"
   },
   {
    "duration": 50,
    "start_time": "2021-10-15T06:50:56.756Z"
   },
   {
    "duration": 11,
    "start_time": "2021-10-15T06:50:56.808Z"
   },
   {
    "duration": 10,
    "start_time": "2021-10-15T06:50:56.821Z"
   },
   {
    "duration": 12,
    "start_time": "2021-10-15T06:50:56.833Z"
   },
   {
    "duration": 13,
    "start_time": "2021-10-15T06:50:56.848Z"
   },
   {
    "duration": 413,
    "start_time": "2021-10-15T06:50:56.864Z"
   },
   {
    "duration": 5,
    "start_time": "2021-10-15T06:50:57.279Z"
   },
   {
    "duration": 27,
    "start_time": "2021-10-15T06:50:57.287Z"
   },
   {
    "duration": 271,
    "start_time": "2021-10-15T06:50:57.317Z"
   },
   {
    "duration": 12,
    "start_time": "2021-10-15T06:50:57.590Z"
   },
   {
    "duration": 15,
    "start_time": "2021-10-15T06:50:57.604Z"
   },
   {
    "duration": 18,
    "start_time": "2021-10-15T06:50:57.622Z"
   },
   {
    "duration": 123,
    "start_time": "2021-10-15T06:50:57.643Z"
   },
   {
    "duration": 137,
    "start_time": "2021-10-15T06:50:57.769Z"
   },
   {
    "duration": 11,
    "start_time": "2021-10-15T06:50:57.908Z"
   },
   {
    "duration": 13,
    "start_time": "2021-10-15T06:50:57.921Z"
   },
   {
    "duration": 7,
    "start_time": "2021-10-15T06:50:57.943Z"
   },
   {
    "duration": 50,
    "start_time": "2021-10-15T06:50:57.954Z"
   },
   {
    "duration": 22,
    "start_time": "2021-10-15T06:50:58.007Z"
   },
   {
    "duration": 13,
    "start_time": "2021-10-15T06:50:58.032Z"
   },
   {
    "duration": 11,
    "start_time": "2021-10-15T06:50:58.047Z"
   },
   {
    "duration": 16,
    "start_time": "2021-10-15T06:50:58.060Z"
   },
   {
    "duration": 22,
    "start_time": "2021-10-15T06:50:58.078Z"
   },
   {
    "duration": 11,
    "start_time": "2021-10-15T06:50:58.103Z"
   },
   {
    "duration": 12,
    "start_time": "2021-10-15T06:50:58.117Z"
   },
   {
    "duration": 13,
    "start_time": "2021-10-15T06:50:58.132Z"
   },
   {
    "duration": 15,
    "start_time": "2021-10-15T06:50:58.147Z"
   },
   {
    "duration": 1440,
    "start_time": "2021-10-15T10:23:39.499Z"
   },
   {
    "duration": 17,
    "start_time": "2021-10-15T10:23:40.942Z"
   },
   {
    "duration": 21,
    "start_time": "2021-10-15T10:23:40.962Z"
   },
   {
    "duration": 8,
    "start_time": "2021-10-15T10:23:40.985Z"
   },
   {
    "duration": 5,
    "start_time": "2021-10-15T10:23:40.996Z"
   },
   {
    "duration": 10,
    "start_time": "2021-10-15T10:23:41.003Z"
   },
   {
    "duration": 6,
    "start_time": "2021-10-15T10:23:41.015Z"
   },
   {
    "duration": 16,
    "start_time": "2021-10-15T10:23:41.025Z"
   },
   {
    "duration": 18,
    "start_time": "2021-10-15T10:23:41.085Z"
   },
   {
    "duration": 34,
    "start_time": "2021-10-15T10:23:41.106Z"
   },
   {
    "duration": 11,
    "start_time": "2021-10-15T10:23:41.142Z"
   },
   {
    "duration": 27,
    "start_time": "2021-10-15T10:23:41.156Z"
   },
   {
    "duration": 7,
    "start_time": "2021-10-15T10:23:41.186Z"
   },
   {
    "duration": 6,
    "start_time": "2021-10-15T10:23:41.195Z"
   },
   {
    "duration": 9,
    "start_time": "2021-10-15T10:23:41.204Z"
   },
   {
    "duration": 16,
    "start_time": "2021-10-15T10:23:41.215Z"
   },
   {
    "duration": 3,
    "start_time": "2021-10-15T10:23:41.234Z"
   },
   {
    "duration": 6,
    "start_time": "2021-10-15T10:23:41.282Z"
   },
   {
    "duration": 23,
    "start_time": "2021-10-15T10:23:41.291Z"
   },
   {
    "duration": 18,
    "start_time": "2021-10-15T10:23:41.317Z"
   },
   {
    "duration": 20,
    "start_time": "2021-10-15T10:23:41.338Z"
   },
   {
    "duration": 14,
    "start_time": "2021-10-15T10:23:41.361Z"
   },
   {
    "duration": 18,
    "start_time": "2021-10-15T10:23:41.381Z"
   },
   {
    "duration": 11,
    "start_time": "2021-10-15T10:23:41.402Z"
   },
   {
    "duration": 365,
    "start_time": "2021-10-15T10:23:41.417Z"
   },
   {
    "duration": 268,
    "start_time": "2021-10-15T10:23:41.785Z"
   },
   {
    "duration": 12,
    "start_time": "2021-10-15T10:23:42.055Z"
   },
   {
    "duration": 17,
    "start_time": "2021-10-15T10:23:42.069Z"
   },
   {
    "duration": 13,
    "start_time": "2021-10-15T10:23:42.089Z"
   },
   {
    "duration": 509,
    "start_time": "2021-10-15T10:23:42.104Z"
   },
   {
    "duration": 5,
    "start_time": "2021-10-15T10:23:42.616Z"
   },
   {
    "duration": 14,
    "start_time": "2021-10-15T10:23:42.624Z"
   },
   {
    "duration": 479,
    "start_time": "2021-10-15T10:23:42.641Z"
   },
   {
    "duration": 8,
    "start_time": "2021-10-15T10:23:43.123Z"
   },
   {
    "duration": 10,
    "start_time": "2021-10-15T10:23:43.134Z"
   },
   {
    "duration": 504,
    "start_time": "2021-10-15T10:23:43.146Z"
   },
   {
    "duration": 10,
    "start_time": "2021-10-15T10:23:43.652Z"
   },
   {
    "duration": 17,
    "start_time": "2021-10-15T10:23:43.665Z"
   },
   {
    "duration": 469,
    "start_time": "2021-10-15T10:23:43.685Z"
   },
   {
    "duration": 9,
    "start_time": "2021-10-15T10:23:44.157Z"
   },
   {
    "duration": 7,
    "start_time": "2021-10-15T10:23:44.182Z"
   },
   {
    "duration": 550,
    "start_time": "2021-10-15T10:23:44.192Z"
   },
   {
    "duration": 5,
    "start_time": "2021-10-15T10:23:44.745Z"
   },
   {
    "duration": 10,
    "start_time": "2021-10-15T10:23:44.752Z"
   },
   {
    "duration": 433,
    "start_time": "2021-10-15T10:23:44.764Z"
   },
   {
    "duration": 5,
    "start_time": "2021-10-15T10:23:45.199Z"
   },
   {
    "duration": 7,
    "start_time": "2021-10-15T10:23:45.207Z"
   },
   {
    "duration": 383,
    "start_time": "2021-10-15T10:23:45.216Z"
   },
   {
    "duration": 5,
    "start_time": "2021-10-15T10:23:45.602Z"
   },
   {
    "duration": 24,
    "start_time": "2021-10-15T10:23:45.610Z"
   },
   {
    "duration": 46,
    "start_time": "2021-10-15T10:23:45.637Z"
   },
   {
    "duration": 7,
    "start_time": "2021-10-15T10:23:45.685Z"
   },
   {
    "duration": 9,
    "start_time": "2021-10-15T10:23:45.694Z"
   },
   {
    "duration": 9,
    "start_time": "2021-10-15T10:23:45.706Z"
   },
   {
    "duration": 9,
    "start_time": "2021-10-15T10:23:45.717Z"
   },
   {
    "duration": 9,
    "start_time": "2021-10-15T10:23:45.729Z"
   },
   {
    "duration": 374,
    "start_time": "2021-10-15T10:23:45.740Z"
   },
   {
    "duration": 4,
    "start_time": "2021-10-15T10:23:46.116Z"
   },
   {
    "duration": 17,
    "start_time": "2021-10-15T10:23:46.122Z"
   },
   {
    "duration": 292,
    "start_time": "2021-10-15T10:23:46.141Z"
   },
   {
    "duration": 4,
    "start_time": "2021-10-15T10:23:46.435Z"
   },
   {
    "duration": 17,
    "start_time": "2021-10-15T10:23:46.441Z"
   },
   {
    "duration": 38,
    "start_time": "2021-10-15T10:23:46.460Z"
   },
   {
    "duration": 114,
    "start_time": "2021-10-15T10:23:46.500Z"
   },
   {
    "duration": 124,
    "start_time": "2021-10-15T10:23:46.617Z"
   },
   {
    "duration": 8,
    "start_time": "2021-10-15T10:23:46.743Z"
   },
   {
    "duration": 32,
    "start_time": "2021-10-15T10:23:46.753Z"
   },
   {
    "duration": 5,
    "start_time": "2021-10-15T10:23:46.792Z"
   },
   {
    "duration": 10,
    "start_time": "2021-10-15T10:23:46.799Z"
   },
   {
    "duration": 8,
    "start_time": "2021-10-15T10:23:46.812Z"
   },
   {
    "duration": 8,
    "start_time": "2021-10-15T10:23:46.823Z"
   },
   {
    "duration": 7,
    "start_time": "2021-10-15T10:23:46.834Z"
   },
   {
    "duration": 8,
    "start_time": "2021-10-15T10:23:46.882Z"
   },
   {
    "duration": 8,
    "start_time": "2021-10-15T10:23:46.893Z"
   },
   {
    "duration": 9,
    "start_time": "2021-10-15T10:23:46.903Z"
   },
   {
    "duration": 6,
    "start_time": "2021-10-15T10:23:46.914Z"
   },
   {
    "duration": 12,
    "start_time": "2021-10-15T10:23:46.922Z"
   },
   {
    "duration": 50,
    "start_time": "2021-10-15T10:23:46.937Z"
   },
   {
    "duration": 6,
    "start_time": "2021-10-15T10:32:19.547Z"
   },
   {
    "duration": 4,
    "start_time": "2021-10-15T10:32:25.519Z"
   },
   {
    "duration": 13,
    "start_time": "2021-10-15T10:32:27.308Z"
   },
   {
    "duration": 3,
    "start_time": "2021-10-15T10:32:40.589Z"
   },
   {
    "duration": 15,
    "start_time": "2021-10-15T10:32:41.923Z"
   },
   {
    "duration": 4,
    "start_time": "2021-10-15T10:33:07.022Z"
   },
   {
    "duration": 16,
    "start_time": "2021-10-15T10:34:26.217Z"
   },
   {
    "duration": 4,
    "start_time": "2021-10-15T10:34:52.776Z"
   },
   {
    "duration": 16,
    "start_time": "2021-10-15T10:34:52.789Z"
   },
   {
    "duration": 4,
    "start_time": "2021-10-15T10:34:52.848Z"
   },
   {
    "duration": 14,
    "start_time": "2021-10-15T10:34:52.855Z"
   },
   {
    "duration": 12,
    "start_time": "2021-10-15T10:34:52.873Z"
   },
   {
    "duration": 7,
    "start_time": "2021-10-15T10:34:52.888Z"
   },
   {
    "duration": 6,
    "start_time": "2021-10-15T10:34:52.948Z"
   },
   {
    "duration": 6,
    "start_time": "2021-10-15T10:34:53.016Z"
   },
   {
    "duration": 29,
    "start_time": "2021-10-15T10:34:53.025Z"
   },
   {
    "duration": 19,
    "start_time": "2021-10-15T10:34:53.057Z"
   },
   {
    "duration": 32,
    "start_time": "2021-10-15T10:34:53.116Z"
   },
   {
    "duration": 12,
    "start_time": "2021-10-15T10:34:53.151Z"
   },
   {
    "duration": 12,
    "start_time": "2021-10-15T10:34:53.166Z"
   },
   {
    "duration": 7,
    "start_time": "2021-10-15T10:34:53.182Z"
   },
   {
    "duration": 5,
    "start_time": "2021-10-15T10:34:53.192Z"
   },
   {
    "duration": 10,
    "start_time": "2021-10-15T10:34:53.199Z"
   },
   {
    "duration": 13,
    "start_time": "2021-10-15T10:34:53.212Z"
   },
   {
    "duration": 8,
    "start_time": "2021-10-15T10:34:53.228Z"
   },
   {
    "duration": 45,
    "start_time": "2021-10-15T10:34:53.240Z"
   },
   {
    "duration": 16,
    "start_time": "2021-10-15T10:34:53.288Z"
   },
   {
    "duration": 14,
    "start_time": "2021-10-15T10:34:53.306Z"
   },
   {
    "duration": 9,
    "start_time": "2021-10-15T10:34:53.322Z"
   },
   {
    "duration": 9,
    "start_time": "2021-10-15T10:34:53.333Z"
   },
   {
    "duration": 43,
    "start_time": "2021-10-15T10:34:53.344Z"
   },
   {
    "duration": 7,
    "start_time": "2021-10-15T10:34:53.390Z"
   },
   {
    "duration": 371,
    "start_time": "2021-10-15T10:34:53.399Z"
   },
   {
    "duration": 272,
    "start_time": "2021-10-15T10:34:53.772Z"
   },
   {
    "duration": 10,
    "start_time": "2021-10-15T10:34:54.047Z"
   },
   {
    "duration": 22,
    "start_time": "2021-10-15T10:34:54.060Z"
   },
   {
    "duration": 10,
    "start_time": "2021-10-15T10:34:54.085Z"
   },
   {
    "duration": 488,
    "start_time": "2021-10-15T10:34:54.097Z"
   },
   {
    "duration": 5,
    "start_time": "2021-10-15T10:34:54.588Z"
   },
   {
    "duration": 12,
    "start_time": "2021-10-15T10:34:54.595Z"
   },
   {
    "duration": 561,
    "start_time": "2021-10-15T10:34:54.609Z"
   },
   {
    "duration": 12,
    "start_time": "2021-10-15T10:34:55.175Z"
   },
   {
    "duration": 11,
    "start_time": "2021-10-15T10:34:55.190Z"
   },
   {
    "duration": 482,
    "start_time": "2021-10-15T10:34:55.203Z"
   },
   {
    "duration": 11,
    "start_time": "2021-10-15T10:34:55.687Z"
   },
   {
    "duration": 10,
    "start_time": "2021-10-15T10:34:55.700Z"
   },
   {
    "duration": 474,
    "start_time": "2021-10-15T10:34:55.712Z"
   },
   {
    "duration": 11,
    "start_time": "2021-10-15T10:34:56.189Z"
   },
   {
    "duration": 10,
    "start_time": "2021-10-15T10:34:56.202Z"
   },
   {
    "duration": 621,
    "start_time": "2021-10-15T10:34:56.215Z"
   },
   {
    "duration": 6,
    "start_time": "2021-10-15T10:34:56.839Z"
   },
   {
    "duration": 7,
    "start_time": "2021-10-15T10:34:56.847Z"
   },
   {
    "duration": 428,
    "start_time": "2021-10-15T10:34:56.856Z"
   },
   {
    "duration": 6,
    "start_time": "2021-10-15T10:34:57.286Z"
   },
   {
    "duration": 11,
    "start_time": "2021-10-15T10:34:57.294Z"
   },
   {
    "duration": 379,
    "start_time": "2021-10-15T10:34:57.308Z"
   },
   {
    "duration": 5,
    "start_time": "2021-10-15T10:34:57.690Z"
   },
   {
    "duration": 29,
    "start_time": "2021-10-15T10:34:57.698Z"
   },
   {
    "duration": 25,
    "start_time": "2021-10-15T10:34:57.730Z"
   },
   {
    "duration": 29,
    "start_time": "2021-10-15T10:34:57.758Z"
   },
   {
    "duration": 16,
    "start_time": "2021-10-15T10:34:57.789Z"
   },
   {
    "duration": 16,
    "start_time": "2021-10-15T10:34:57.808Z"
   },
   {
    "duration": 12,
    "start_time": "2021-10-15T10:34:57.827Z"
   },
   {
    "duration": 13,
    "start_time": "2021-10-15T10:34:57.842Z"
   },
   {
    "duration": 358,
    "start_time": "2021-10-15T10:34:57.885Z"
   },
   {
    "duration": 4,
    "start_time": "2021-10-15T10:34:58.245Z"
   },
   {
    "duration": 18,
    "start_time": "2021-10-15T10:34:58.251Z"
   },
   {
    "duration": 279,
    "start_time": "2021-10-15T10:34:58.283Z"
   },
   {
    "duration": 17,
    "start_time": "2021-10-15T10:34:58.565Z"
   },
   {
    "duration": 15,
    "start_time": "2021-10-15T10:34:58.585Z"
   },
   {
    "duration": 25,
    "start_time": "2021-10-15T10:34:58.602Z"
   },
   {
    "duration": 116,
    "start_time": "2021-10-15T10:34:58.630Z"
   },
   {
    "duration": 144,
    "start_time": "2021-10-15T10:34:58.748Z"
   },
   {
    "duration": 10,
    "start_time": "2021-10-15T10:34:58.895Z"
   },
   {
    "duration": 18,
    "start_time": "2021-10-15T10:34:58.908Z"
   },
   {
    "duration": 5,
    "start_time": "2021-10-15T10:34:58.929Z"
   },
   {
    "duration": 11,
    "start_time": "2021-10-15T10:34:58.936Z"
   },
   {
    "duration": 43,
    "start_time": "2021-10-15T10:34:58.949Z"
   },
   {
    "duration": 9,
    "start_time": "2021-10-15T10:34:58.995Z"
   },
   {
    "duration": 9,
    "start_time": "2021-10-15T10:34:59.006Z"
   },
   {
    "duration": 14,
    "start_time": "2021-10-15T10:34:59.017Z"
   },
   {
    "duration": 8,
    "start_time": "2021-10-15T10:34:59.033Z"
   },
   {
    "duration": 42,
    "start_time": "2021-10-15T10:34:59.043Z"
   },
   {
    "duration": 5,
    "start_time": "2021-10-15T10:34:59.087Z"
   },
   {
    "duration": 19,
    "start_time": "2021-10-15T10:34:59.095Z"
   },
   {
    "duration": 12,
    "start_time": "2021-10-15T10:34:59.116Z"
   },
   {
    "duration": 271,
    "start_time": "2021-10-15T10:39:00.899Z"
   },
   {
    "duration": 438,
    "start_time": "2021-10-15T10:39:33.853Z"
   },
   {
    "duration": 382,
    "start_time": "2021-10-15T10:39:47.332Z"
   },
   {
    "duration": 271,
    "start_time": "2021-10-15T10:40:30.262Z"
   },
   {
    "duration": 272,
    "start_time": "2021-10-15T10:41:30.488Z"
   },
   {
    "duration": 12,
    "start_time": "2021-10-15T10:41:47.424Z"
   },
   {
    "duration": 1372,
    "start_time": "2021-10-15T10:44:02.877Z"
   },
   {
    "duration": 17,
    "start_time": "2021-10-15T10:44:04.252Z"
   },
   {
    "duration": 11,
    "start_time": "2021-10-15T10:44:04.272Z"
   },
   {
    "duration": 24,
    "start_time": "2021-10-15T10:44:04.287Z"
   },
   {
    "duration": 9,
    "start_time": "2021-10-15T10:44:04.314Z"
   },
   {
    "duration": 5,
    "start_time": "2021-10-15T10:44:04.325Z"
   },
   {
    "duration": 9,
    "start_time": "2021-10-15T10:44:04.333Z"
   },
   {
    "duration": 5,
    "start_time": "2021-10-15T10:44:04.346Z"
   },
   {
    "duration": 46,
    "start_time": "2021-10-15T10:44:04.354Z"
   },
   {
    "duration": 15,
    "start_time": "2021-10-15T10:44:04.403Z"
   },
   {
    "duration": 35,
    "start_time": "2021-10-15T10:44:04.421Z"
   },
   {
    "duration": 12,
    "start_time": "2021-10-15T10:44:04.459Z"
   },
   {
    "duration": 9,
    "start_time": "2021-10-15T10:44:04.482Z"
   },
   {
    "duration": 8,
    "start_time": "2021-10-15T10:44:04.493Z"
   },
   {
    "duration": 4,
    "start_time": "2021-10-15T10:44:04.504Z"
   },
   {
    "duration": 9,
    "start_time": "2021-10-15T10:44:04.511Z"
   },
   {
    "duration": 11,
    "start_time": "2021-10-15T10:44:04.523Z"
   },
   {
    "duration": 7,
    "start_time": "2021-10-15T10:44:04.536Z"
   },
   {
    "duration": 6,
    "start_time": "2021-10-15T10:44:04.584Z"
   },
   {
    "duration": 24,
    "start_time": "2021-10-15T10:44:04.592Z"
   },
   {
    "duration": 33,
    "start_time": "2021-10-15T10:44:04.619Z"
   },
   {
    "duration": 12,
    "start_time": "2021-10-15T10:44:04.655Z"
   },
   {
    "duration": 6,
    "start_time": "2021-10-15T10:44:04.673Z"
   },
   {
    "duration": 13,
    "start_time": "2021-10-15T10:44:04.682Z"
   },
   {
    "duration": 12,
    "start_time": "2021-10-15T10:44:04.697Z"
   },
   {
    "duration": 377,
    "start_time": "2021-10-15T10:44:04.711Z"
   },
   {
    "duration": 311,
    "start_time": "2021-10-15T10:44:05.091Z"
   },
   {
    "duration": 10,
    "start_time": "2021-10-15T10:44:05.405Z"
   },
   {
    "duration": 6,
    "start_time": "2021-10-15T10:44:05.418Z"
   },
   {
    "duration": 14,
    "start_time": "2021-10-15T10:44:05.426Z"
   },
   {
    "duration": 511,
    "start_time": "2021-10-15T10:44:05.443Z"
   },
   {
    "duration": 6,
    "start_time": "2021-10-15T10:44:05.957Z"
   },
   {
    "duration": 22,
    "start_time": "2021-10-15T10:44:05.965Z"
   },
   {
    "duration": 494,
    "start_time": "2021-10-15T10:44:05.990Z"
   },
   {
    "duration": 9,
    "start_time": "2021-10-15T10:44:06.487Z"
   },
   {
    "duration": 10,
    "start_time": "2021-10-15T10:44:06.498Z"
   },
   {
    "duration": 589,
    "start_time": "2021-10-15T10:44:06.511Z"
   },
   {
    "duration": 9,
    "start_time": "2021-10-15T10:44:07.103Z"
   },
   {
    "duration": 13,
    "start_time": "2021-10-15T10:44:07.115Z"
   },
   {
    "duration": 460,
    "start_time": "2021-10-15T10:44:07.131Z"
   },
   {
    "duration": 10,
    "start_time": "2021-10-15T10:44:07.593Z"
   },
   {
    "duration": 8,
    "start_time": "2021-10-15T10:44:07.605Z"
   },
   {
    "duration": 993,
    "start_time": "2021-10-16T04:02:10.039Z"
   },
   {
    "duration": 18,
    "start_time": "2021-10-16T04:02:11.033Z"
   },
   {
    "duration": 4,
    "start_time": "2021-10-16T04:02:11.053Z"
   },
   {
    "duration": 12,
    "start_time": "2021-10-16T04:02:11.059Z"
   },
   {
    "duration": 5,
    "start_time": "2021-10-16T04:02:11.073Z"
   },
   {
    "duration": 12,
    "start_time": "2021-10-16T04:02:11.080Z"
   },
   {
    "duration": 6,
    "start_time": "2021-10-16T04:02:11.093Z"
   },
   {
    "duration": 3,
    "start_time": "2021-10-16T04:02:11.102Z"
   },
   {
    "duration": 11,
    "start_time": "2021-10-16T04:02:11.107Z"
   },
   {
    "duration": 9,
    "start_time": "2021-10-16T04:02:11.119Z"
   },
   {
    "duration": 37,
    "start_time": "2021-10-16T04:02:11.130Z"
   },
   {
    "duration": 8,
    "start_time": "2021-10-16T04:02:11.168Z"
   },
   {
    "duration": 7,
    "start_time": "2021-10-16T04:02:11.177Z"
   },
   {
    "duration": 6,
    "start_time": "2021-10-16T04:02:11.186Z"
   },
   {
    "duration": 5,
    "start_time": "2021-10-16T04:02:11.193Z"
   },
   {
    "duration": 6,
    "start_time": "2021-10-16T04:02:11.200Z"
   },
   {
    "duration": 8,
    "start_time": "2021-10-16T04:02:11.208Z"
   },
   {
    "duration": 2,
    "start_time": "2021-10-16T04:02:11.218Z"
   },
   {
    "duration": 5,
    "start_time": "2021-10-16T04:02:11.222Z"
   },
   {
    "duration": 21,
    "start_time": "2021-10-16T04:02:11.229Z"
   },
   {
    "duration": 9,
    "start_time": "2021-10-16T04:02:11.251Z"
   },
   {
    "duration": 6,
    "start_time": "2021-10-16T04:02:11.262Z"
   },
   {
    "duration": 3,
    "start_time": "2021-10-16T04:02:11.272Z"
   },
   {
    "duration": 16,
    "start_time": "2021-10-16T04:02:11.278Z"
   },
   {
    "duration": 7,
    "start_time": "2021-10-16T04:02:11.295Z"
   },
   {
    "duration": 194,
    "start_time": "2021-10-16T04:02:11.303Z"
   },
   {
    "duration": 144,
    "start_time": "2021-10-16T04:02:11.499Z"
   },
   {
    "duration": 5,
    "start_time": "2021-10-16T04:02:11.645Z"
   },
   {
    "duration": 9,
    "start_time": "2021-10-16T04:02:11.652Z"
   },
   {
    "duration": 11,
    "start_time": "2021-10-16T04:02:11.662Z"
   },
   {
    "duration": 280,
    "start_time": "2021-10-16T04:02:11.674Z"
   },
   {
    "duration": 5,
    "start_time": "2021-10-16T04:02:11.956Z"
   },
   {
    "duration": 8,
    "start_time": "2021-10-16T04:02:11.962Z"
   },
   {
    "duration": 287,
    "start_time": "2021-10-16T04:02:11.972Z"
   },
   {
    "duration": 6,
    "start_time": "2021-10-16T04:02:12.261Z"
   },
   {
    "duration": 6,
    "start_time": "2021-10-16T04:02:12.269Z"
   },
   {
    "duration": 351,
    "start_time": "2021-10-16T04:02:12.277Z"
   },
   {
    "duration": 6,
    "start_time": "2021-10-16T04:02:12.630Z"
   },
   {
    "duration": 9,
    "start_time": "2021-10-16T04:02:12.638Z"
   },
   {
    "duration": 278,
    "start_time": "2021-10-16T04:02:12.649Z"
   },
   {
    "duration": 6,
    "start_time": "2021-10-16T04:02:12.928Z"
   },
   {
    "duration": 6,
    "start_time": "2021-10-16T04:02:12.936Z"
   },
   {
    "duration": 344,
    "start_time": "2021-10-16T04:02:12.943Z"
   },
   {
    "duration": 5,
    "start_time": "2021-10-16T04:02:13.288Z"
   },
   {
    "duration": 5,
    "start_time": "2021-10-16T04:02:13.294Z"
   },
   {
    "duration": 300,
    "start_time": "2021-10-16T04:02:13.301Z"
   },
   {
    "duration": 4,
    "start_time": "2021-10-16T04:02:13.602Z"
   },
   {
    "duration": 4,
    "start_time": "2021-10-16T04:02:13.608Z"
   },
   {
    "duration": 284,
    "start_time": "2021-10-16T04:02:13.614Z"
   },
   {
    "duration": 4,
    "start_time": "2021-10-16T04:02:13.899Z"
   },
   {
    "duration": 13,
    "start_time": "2021-10-16T04:02:13.905Z"
   },
   {
    "duration": 11,
    "start_time": "2021-10-16T04:02:13.919Z"
   },
   {
    "duration": 5,
    "start_time": "2021-10-16T04:02:13.931Z"
   },
   {
    "duration": 5,
    "start_time": "2021-10-16T04:02:13.938Z"
   },
   {
    "duration": 5,
    "start_time": "2021-10-16T04:02:13.945Z"
   },
   {
    "duration": 7,
    "start_time": "2021-10-16T04:02:13.952Z"
   },
   {
    "duration": 5,
    "start_time": "2021-10-16T04:02:13.991Z"
   },
   {
    "duration": 200,
    "start_time": "2021-10-16T04:02:13.998Z"
   },
   {
    "duration": 3,
    "start_time": "2021-10-16T04:02:14.200Z"
   },
   {
    "duration": 11,
    "start_time": "2021-10-16T04:02:14.204Z"
   },
   {
    "duration": 149,
    "start_time": "2021-10-16T04:02:14.216Z"
   },
   {
    "duration": 3,
    "start_time": "2021-10-16T04:02:14.367Z"
   },
   {
    "duration": 9,
    "start_time": "2021-10-16T04:02:14.371Z"
   },
   {
    "duration": 17,
    "start_time": "2021-10-16T04:02:14.382Z"
   },
   {
    "duration": 45,
    "start_time": "2021-10-16T04:02:14.400Z"
   },
   {
    "duration": 72,
    "start_time": "2021-10-16T04:02:14.446Z"
   },
   {
    "duration": 5,
    "start_time": "2021-10-16T04:02:14.520Z"
   },
   {
    "duration": 6,
    "start_time": "2021-10-16T04:02:14.530Z"
   },
   {
    "duration": 3,
    "start_time": "2021-10-16T04:02:14.538Z"
   },
   {
    "duration": 7,
    "start_time": "2021-10-16T04:02:14.542Z"
   },
   {
    "duration": 6,
    "start_time": "2021-10-16T04:02:14.550Z"
   },
   {
    "duration": 39,
    "start_time": "2021-10-16T04:02:14.557Z"
   },
   {
    "duration": 7,
    "start_time": "2021-10-16T04:02:14.597Z"
   },
   {
    "duration": 6,
    "start_time": "2021-10-16T04:02:14.606Z"
   },
   {
    "duration": 5,
    "start_time": "2021-10-16T04:02:14.614Z"
   },
   {
    "duration": 7,
    "start_time": "2021-10-16T04:02:14.621Z"
   },
   {
    "duration": 5,
    "start_time": "2021-10-16T04:02:14.630Z"
   },
   {
    "duration": 9,
    "start_time": "2021-10-16T04:02:14.637Z"
   },
   {
    "duration": 8,
    "start_time": "2021-10-16T04:02:14.647Z"
   },
   {
    "duration": 1132,
    "start_time": "2021-10-21T21:08:10.532Z"
   },
   {
    "duration": 20,
    "start_time": "2021-10-21T21:08:11.666Z"
   },
   {
    "duration": 7,
    "start_time": "2021-10-21T21:08:11.688Z"
   },
   {
    "duration": 12,
    "start_time": "2021-10-21T21:08:11.697Z"
   },
   {
    "duration": 6,
    "start_time": "2021-10-21T21:08:11.711Z"
   },
   {
    "duration": 6,
    "start_time": "2021-10-21T21:08:11.719Z"
   },
   {
    "duration": 11,
    "start_time": "2021-10-21T21:08:11.727Z"
   },
   {
    "duration": 5,
    "start_time": "2021-10-21T21:08:11.740Z"
   },
   {
    "duration": 26,
    "start_time": "2021-10-21T21:08:11.747Z"
   },
   {
    "duration": 13,
    "start_time": "2021-10-21T21:08:11.775Z"
   },
   {
    "duration": 42,
    "start_time": "2021-10-21T21:08:11.790Z"
   },
   {
    "duration": 9,
    "start_time": "2021-10-21T21:08:11.834Z"
   },
   {
    "duration": 12,
    "start_time": "2021-10-21T21:08:11.845Z"
   },
   {
    "duration": 10,
    "start_time": "2021-10-21T21:08:11.859Z"
   },
   {
    "duration": 5,
    "start_time": "2021-10-21T21:08:11.871Z"
   },
   {
    "duration": 11,
    "start_time": "2021-10-21T21:08:11.877Z"
   },
   {
    "duration": 11,
    "start_time": "2021-10-21T21:08:11.890Z"
   },
   {
    "duration": 5,
    "start_time": "2021-10-21T21:08:11.903Z"
   },
   {
    "duration": 11,
    "start_time": "2021-10-21T21:08:11.910Z"
   },
   {
    "duration": 21,
    "start_time": "2021-10-21T21:08:11.923Z"
   },
   {
    "duration": 12,
    "start_time": "2021-10-21T21:08:11.947Z"
   },
   {
    "duration": 8,
    "start_time": "2021-10-21T21:08:11.961Z"
   },
   {
    "duration": 6,
    "start_time": "2021-10-21T21:08:11.973Z"
   },
   {
    "duration": 9,
    "start_time": "2021-10-21T21:08:11.981Z"
   },
   {
    "duration": 9,
    "start_time": "2021-10-21T21:08:11.992Z"
   },
   {
    "duration": 235,
    "start_time": "2021-10-21T21:08:12.003Z"
   },
   {
    "duration": 173,
    "start_time": "2021-10-21T21:08:12.240Z"
   },
   {
    "duration": 6,
    "start_time": "2021-10-21T21:08:12.415Z"
   },
   {
    "duration": 12,
    "start_time": "2021-10-21T21:08:12.423Z"
   },
   {
    "duration": 26,
    "start_time": "2021-10-21T21:08:12.437Z"
   },
   {
    "duration": 320,
    "start_time": "2021-10-21T21:08:12.465Z"
   },
   {
    "duration": 4,
    "start_time": "2021-10-21T21:08:12.787Z"
   },
   {
    "duration": 9,
    "start_time": "2021-10-21T21:08:12.793Z"
   },
   {
    "duration": 330,
    "start_time": "2021-10-21T21:08:12.803Z"
   },
   {
    "duration": 8,
    "start_time": "2021-10-21T21:08:13.135Z"
   },
   {
    "duration": 19,
    "start_time": "2021-10-21T21:08:13.145Z"
   },
   {
    "duration": 384,
    "start_time": "2021-10-21T21:08:13.166Z"
   },
   {
    "duration": 7,
    "start_time": "2021-10-21T21:08:13.552Z"
   },
   {
    "duration": 7,
    "start_time": "2021-10-21T21:08:13.564Z"
   },
   {
    "duration": 309,
    "start_time": "2021-10-21T21:08:13.573Z"
   },
   {
    "duration": 9,
    "start_time": "2021-10-21T21:08:13.884Z"
   },
   {
    "duration": 6,
    "start_time": "2021-10-21T21:08:13.895Z"
   },
   {
    "duration": 368,
    "start_time": "2021-10-21T21:08:13.902Z"
   },
   {
    "duration": 4,
    "start_time": "2021-10-21T21:08:14.272Z"
   },
   {
    "duration": 6,
    "start_time": "2021-10-21T21:08:14.278Z"
   },
   {
    "duration": 318,
    "start_time": "2021-10-21T21:08:14.286Z"
   },
   {
    "duration": 5,
    "start_time": "2021-10-21T21:08:14.606Z"
   },
   {
    "duration": 5,
    "start_time": "2021-10-21T21:08:14.613Z"
   },
   {
    "duration": 302,
    "start_time": "2021-10-21T21:08:14.620Z"
   },
   {
    "duration": 4,
    "start_time": "2021-10-21T21:08:14.924Z"
   },
   {
    "duration": 4,
    "start_time": "2021-10-21T21:08:25.862Z"
   },
   {
    "duration": 14,
    "start_time": "2021-10-21T21:08:42.417Z"
   },
   {
    "duration": 8,
    "start_time": "2021-10-21T21:08:55.765Z"
   },
   {
    "duration": 8,
    "start_time": "2021-10-21T21:09:04.490Z"
   },
   {
    "duration": 21,
    "start_time": "2021-10-21T21:10:35.310Z"
   },
   {
    "duration": 23,
    "start_time": "2021-10-21T21:11:02.992Z"
   },
   {
    "duration": 24,
    "start_time": "2021-10-21T21:11:20.420Z"
   },
   {
    "duration": 22,
    "start_time": "2021-10-21T21:11:27.726Z"
   },
   {
    "duration": 24,
    "start_time": "2021-10-21T21:11:51.328Z"
   },
   {
    "duration": 24,
    "start_time": "2021-10-21T21:12:05.747Z"
   },
   {
    "duration": 309,
    "start_time": "2021-10-21T21:12:19.242Z"
   },
   {
    "duration": 15,
    "start_time": "2021-10-21T21:12:26.451Z"
   },
   {
    "duration": 14,
    "start_time": "2021-10-21T21:12:27.168Z"
   },
   {
    "duration": 6,
    "start_time": "2021-10-21T21:12:27.756Z"
   },
   {
    "duration": 6,
    "start_time": "2021-10-21T21:12:29.686Z"
   },
   {
    "duration": 5,
    "start_time": "2021-10-21T21:12:30.237Z"
   },
   {
    "duration": 6,
    "start_time": "2021-10-21T21:12:30.801Z"
   },
   {
    "duration": 6,
    "start_time": "2021-10-21T21:12:32.637Z"
   },
   {
    "duration": 212,
    "start_time": "2021-10-21T21:12:33.069Z"
   },
   {
    "duration": 3,
    "start_time": "2021-10-21T21:12:33.823Z"
   },
   {
    "duration": 152,
    "start_time": "2021-10-21T21:12:35.514Z"
   },
   {
    "duration": 3,
    "start_time": "2021-10-21T21:12:37.266Z"
   },
   {
    "duration": 11,
    "start_time": "2021-10-21T21:12:37.798Z"
   },
   {
    "duration": 235,
    "start_time": "2021-10-21T21:12:39.468Z"
   },
   {
    "duration": 11,
    "start_time": "2021-10-21T21:12:47.016Z"
   },
   {
    "duration": 168,
    "start_time": "2021-10-21T21:12:47.939Z"
   },
   {
    "duration": 3,
    "start_time": "2021-10-21T21:12:48.735Z"
   },
   {
    "duration": 12,
    "start_time": "2021-10-21T21:12:49.488Z"
   },
   {
    "duration": 12,
    "start_time": "2021-10-21T21:12:50.918Z"
   },
   {
    "duration": 17,
    "start_time": "2021-10-21T21:12:53.083Z"
   },
   {
    "duration": 25,
    "start_time": "2021-10-21T21:13:44.203Z"
   },
   {
    "duration": 20,
    "start_time": "2021-10-21T21:14:08.341Z"
   },
   {
    "duration": 5855,
    "start_time": "2021-10-21T21:15:06.751Z"
   },
   {
    "duration": 18,
    "start_time": "2021-10-21T21:15:15.668Z"
   },
   {
    "duration": 5777,
    "start_time": "2021-10-21T21:15:17.383Z"
   },
   {
    "duration": 259,
    "start_time": "2021-10-21T21:15:36.389Z"
   },
   {
    "duration": 619,
    "start_time": "2021-10-21T21:15:40.074Z"
   },
   {
    "duration": 280,
    "start_time": "2021-10-21T21:16:12.088Z"
   },
   {
    "duration": 11,
    "start_time": "2021-10-21T21:17:03.132Z"
   },
   {
    "duration": 244,
    "start_time": "2021-10-21T21:17:09.822Z"
   },
   {
    "duration": 18,
    "start_time": "2021-10-21T21:17:16.228Z"
   },
   {
    "duration": 37,
    "start_time": "2021-10-21T21:17:28.745Z"
   },
   {
    "duration": 18,
    "start_time": "2021-10-21T21:18:12.497Z"
   },
   {
    "duration": 19,
    "start_time": "2021-10-21T21:18:48.811Z"
   },
   {
    "duration": 20,
    "start_time": "2021-10-21T21:19:45.673Z"
   },
   {
    "duration": 16,
    "start_time": "2021-10-21T21:21:19.489Z"
   },
   {
    "duration": 9,
    "start_time": "2021-10-21T21:21:25.223Z"
   },
   {
    "duration": 17,
    "start_time": "2021-10-21T21:21:37.863Z"
   },
   {
    "duration": 8,
    "start_time": "2021-10-21T21:21:38.457Z"
   },
   {
    "duration": 18,
    "start_time": "2021-10-21T21:21:45.179Z"
   },
   {
    "duration": 7,
    "start_time": "2021-10-21T21:21:45.781Z"
   },
   {
    "duration": 18,
    "start_time": "2021-10-21T21:22:14.820Z"
   },
   {
    "duration": 24,
    "start_time": "2021-10-21T21:23:14.697Z"
   },
   {
    "duration": 8,
    "start_time": "2021-10-21T21:23:15.860Z"
   },
   {
    "duration": 13,
    "start_time": "2021-10-21T21:24:22.580Z"
   },
   {
    "duration": 28,
    "start_time": "2021-10-21T21:27:03.870Z"
   },
   {
    "duration": 24,
    "start_time": "2021-10-21T21:29:46.867Z"
   },
   {
    "duration": 26,
    "start_time": "2021-10-21T21:30:20.369Z"
   },
   {
    "duration": 20,
    "start_time": "2021-10-21T21:32:31.241Z"
   },
   {
    "duration": 264,
    "start_time": "2021-10-21T21:35:14.233Z"
   },
   {
    "duration": 19,
    "start_time": "2021-10-21T21:35:31.408Z"
   },
   {
    "duration": 17,
    "start_time": "2021-10-21T21:35:39.424Z"
   },
   {
    "duration": 25,
    "start_time": "2021-10-21T21:36:52.878Z"
   },
   {
    "duration": 20,
    "start_time": "2021-10-21T21:36:54.390Z"
   },
   {
    "duration": 17,
    "start_time": "2021-10-21T21:36:55.352Z"
   },
   {
    "duration": 8,
    "start_time": "2021-10-21T21:37:08.720Z"
   },
   {
    "duration": 26,
    "start_time": "2021-10-21T21:37:40.151Z"
   },
   {
    "duration": 8,
    "start_time": "2021-10-21T21:37:41.048Z"
   },
   {
    "duration": 26,
    "start_time": "2021-10-21T21:37:50.909Z"
   },
   {
    "duration": 10,
    "start_time": "2021-10-21T21:37:52.035Z"
   },
   {
    "duration": 20,
    "start_time": "2021-10-21T21:37:56.319Z"
   },
   {
    "duration": 17,
    "start_time": "2021-10-21T21:37:56.959Z"
   },
   {
    "duration": 19,
    "start_time": "2021-10-21T21:38:08.360Z"
   },
   {
    "duration": 61,
    "start_time": "2021-10-21T21:39:49.992Z"
   },
   {
    "duration": 8,
    "start_time": "2021-10-21T21:39:52.866Z"
   }
  ],
  "kernelspec": {
   "display_name": "Python 3",
   "language": "python",
   "name": "python3"
  },
  "language_info": {
   "codemirror_mode": {
    "name": "ipython",
    "version": 3
   },
   "file_extension": ".py",
   "mimetype": "text/x-python",
   "name": "python",
   "nbconvert_exporter": "python",
   "pygments_lexer": "ipython3",
   "version": "3.8.8"
  },
  "toc": {
   "base_numbering": 1,
   "nav_menu": {},
   "number_sections": true,
   "sideBar": true,
   "skip_h1_title": true,
   "title_cell": "Table of Contents",
   "title_sidebar": "Contents",
   "toc_cell": false,
   "toc_position": {},
   "toc_section_display": true,
   "toc_window_display": false
  }
 },
 "nbformat": 4,
 "nbformat_minor": 2
}

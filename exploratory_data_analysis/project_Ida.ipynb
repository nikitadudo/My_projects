{
 "cells": [
  {
   "cell_type": "markdown",
   "metadata": {},
   "source": [
    "# Исследование объявлений о продаже квартир\n",
    "\n",
    "В вашем распоряжении данные сервиса Яндекс.Недвижимость — архив объявлений о продаже квартир в Санкт-Петербурге и соседних населённых пунктах за несколько лет. Нужно научиться определять рыночную стоимость объектов недвижимости. Ваша задача — установить параметры. Это позволит построить автоматизированную систему: она отследит аномалии и мошенническую деятельность. \n",
    "\n",
    "По каждой квартире на продажу доступны два вида данных. Первые вписаны пользователем, вторые получены автоматически на основе картографических данных. Например, расстояние до центра, аэропорта, ближайшего парка и водоёма. "
   ]
  },
  {
   "cell_type": "markdown",
   "metadata": {},
   "source": [
    "## Изучение данных из файла"
   ]
  },
  {
   "cell_type": "markdown",
   "metadata": {},
   "source": [
    "Выведем первые 5 строк"
   ]
  },
  {
   "cell_type": "code",
   "execution_count": 1,
   "metadata": {},
   "outputs": [
    {
     "data": {
      "text/html": [
       "<div>\n",
       "<style scoped>\n",
       "    .dataframe tbody tr th:only-of-type {\n",
       "        vertical-align: middle;\n",
       "    }\n",
       "\n",
       "    .dataframe tbody tr th {\n",
       "        vertical-align: top;\n",
       "    }\n",
       "\n",
       "    .dataframe thead th {\n",
       "        text-align: right;\n",
       "    }\n",
       "</style>\n",
       "<table border=\"1\" class=\"dataframe\">\n",
       "  <thead>\n",
       "    <tr style=\"text-align: right;\">\n",
       "      <th></th>\n",
       "      <th>total_images\\tlast_price\\ttotal_area\\tfirst_day_exposition\\trooms\\tceiling_height\\tfloors_total\\tliving_area\\tfloor\\tis_apartment\\tstudio\\topen_plan\\tkitchen_area\\tbalcony\\tlocality_name\\tairports_nearest\\tcityCenters_nearest\\tparks_around3000\\tparks_nearest\\tponds_around3000\\tponds_nearest\\tdays_exposition</th>\n",
       "    </tr>\n",
       "  </thead>\n",
       "  <tbody>\n",
       "    <tr>\n",
       "      <td>0</td>\n",
       "      <td>20\\t13000000.0\\t108.0\\t2019-03-07T00:00:00\\t3\\...</td>\n",
       "    </tr>\n",
       "    <tr>\n",
       "      <td>1</td>\n",
       "      <td>7\\t3350000.0\\t40.4\\t2018-12-04T00:00:00\\t1\\t\\t...</td>\n",
       "    </tr>\n",
       "    <tr>\n",
       "      <td>2</td>\n",
       "      <td>10\\t5196000.0\\t56.0\\t2015-08-20T00:00:00\\t2\\t\\...</td>\n",
       "    </tr>\n",
       "    <tr>\n",
       "      <td>3</td>\n",
       "      <td>0\\t64900000.0\\t159.0\\t2015-07-24T00:00:00\\t3\\t...</td>\n",
       "    </tr>\n",
       "    <tr>\n",
       "      <td>4</td>\n",
       "      <td>2\\t10000000.0\\t100.0\\t2018-06-19T00:00:00\\t2\\t...</td>\n",
       "    </tr>\n",
       "  </tbody>\n",
       "</table>\n",
       "</div>"
      ],
      "text/plain": [
       "  total_images\\tlast_price\\ttotal_area\\tfirst_day_exposition\\trooms\\tceiling_height\\tfloors_total\\tliving_area\\tfloor\\tis_apartment\\tstudio\\topen_plan\\tkitchen_area\\tbalcony\\tlocality_name\\tairports_nearest\\tcityCenters_nearest\\tparks_around3000\\tparks_nearest\\tponds_around3000\\tponds_nearest\\tdays_exposition\n",
       "0  20\\t13000000.0\\t108.0\\t2019-03-07T00:00:00\\t3\\...                                                                                                                                                                                                                                                                  \n",
       "1  7\\t3350000.0\\t40.4\\t2018-12-04T00:00:00\\t1\\t\\t...                                                                                                                                                                                                                                                                  \n",
       "2  10\\t5196000.0\\t56.0\\t2015-08-20T00:00:00\\t2\\t\\...                                                                                                                                                                                                                                                                  \n",
       "3  0\\t64900000.0\\t159.0\\t2015-07-24T00:00:00\\t3\\t...                                                                                                                                                                                                                                                                  \n",
       "4  2\\t10000000.0\\t100.0\\t2018-06-19T00:00:00\\t2\\t...                                                                                                                                                                                                                                                                  "
      ]
     },
     "execution_count": 1,
     "metadata": {},
     "output_type": "execute_result"
    }
   ],
   "source": [
    "import pandas as pd\n",
    "df = pd.read_csv('/datasets/real_estate_data.csv')\n",
    "df.head(5)"
   ]
  },
  {
   "cell_type": "markdown",
   "metadata": {},
   "source": [
    "Видим, что данные разделяются не запятыми. Изменим параметр sep\n",
    "и выведем несколько строк датафрейма"
   ]
  },
  {
   "cell_type": "code",
   "execution_count": 2,
   "metadata": {},
   "outputs": [
    {
     "data": {
      "text/html": [
       "<div>\n",
       "<style scoped>\n",
       "    .dataframe tbody tr th:only-of-type {\n",
       "        vertical-align: middle;\n",
       "    }\n",
       "\n",
       "    .dataframe tbody tr th {\n",
       "        vertical-align: top;\n",
       "    }\n",
       "\n",
       "    .dataframe thead th {\n",
       "        text-align: right;\n",
       "    }\n",
       "</style>\n",
       "<table border=\"1\" class=\"dataframe\">\n",
       "  <thead>\n",
       "    <tr style=\"text-align: right;\">\n",
       "      <th></th>\n",
       "      <th>total_images</th>\n",
       "      <th>last_price</th>\n",
       "      <th>total_area</th>\n",
       "      <th>first_day_exposition</th>\n",
       "      <th>rooms</th>\n",
       "      <th>ceiling_height</th>\n",
       "      <th>floors_total</th>\n",
       "      <th>living_area</th>\n",
       "      <th>floor</th>\n",
       "      <th>is_apartment</th>\n",
       "      <th>...</th>\n",
       "      <th>kitchen_area</th>\n",
       "      <th>balcony</th>\n",
       "      <th>locality_name</th>\n",
       "      <th>airports_nearest</th>\n",
       "      <th>cityCenters_nearest</th>\n",
       "      <th>parks_around3000</th>\n",
       "      <th>parks_nearest</th>\n",
       "      <th>ponds_around3000</th>\n",
       "      <th>ponds_nearest</th>\n",
       "      <th>days_exposition</th>\n",
       "    </tr>\n",
       "  </thead>\n",
       "  <tbody>\n",
       "    <tr>\n",
       "      <td>0</td>\n",
       "      <td>20</td>\n",
       "      <td>13000000.0</td>\n",
       "      <td>108.00</td>\n",
       "      <td>2019-03-07T00:00:00</td>\n",
       "      <td>3</td>\n",
       "      <td>2.70</td>\n",
       "      <td>16.0</td>\n",
       "      <td>51.00</td>\n",
       "      <td>8</td>\n",
       "      <td>NaN</td>\n",
       "      <td>...</td>\n",
       "      <td>25.00</td>\n",
       "      <td>NaN</td>\n",
       "      <td>Санкт-Петербург</td>\n",
       "      <td>18863.0</td>\n",
       "      <td>16028.0</td>\n",
       "      <td>1.0</td>\n",
       "      <td>482.0</td>\n",
       "      <td>2.0</td>\n",
       "      <td>755.0</td>\n",
       "      <td>NaN</td>\n",
       "    </tr>\n",
       "    <tr>\n",
       "      <td>1</td>\n",
       "      <td>7</td>\n",
       "      <td>3350000.0</td>\n",
       "      <td>40.40</td>\n",
       "      <td>2018-12-04T00:00:00</td>\n",
       "      <td>1</td>\n",
       "      <td>NaN</td>\n",
       "      <td>11.0</td>\n",
       "      <td>18.60</td>\n",
       "      <td>1</td>\n",
       "      <td>NaN</td>\n",
       "      <td>...</td>\n",
       "      <td>11.00</td>\n",
       "      <td>2.0</td>\n",
       "      <td>посёлок Шушары</td>\n",
       "      <td>12817.0</td>\n",
       "      <td>18603.0</td>\n",
       "      <td>0.0</td>\n",
       "      <td>NaN</td>\n",
       "      <td>0.0</td>\n",
       "      <td>NaN</td>\n",
       "      <td>81.0</td>\n",
       "    </tr>\n",
       "    <tr>\n",
       "      <td>2</td>\n",
       "      <td>10</td>\n",
       "      <td>5196000.0</td>\n",
       "      <td>56.00</td>\n",
       "      <td>2015-08-20T00:00:00</td>\n",
       "      <td>2</td>\n",
       "      <td>NaN</td>\n",
       "      <td>5.0</td>\n",
       "      <td>34.30</td>\n",
       "      <td>4</td>\n",
       "      <td>NaN</td>\n",
       "      <td>...</td>\n",
       "      <td>8.30</td>\n",
       "      <td>0.0</td>\n",
       "      <td>Санкт-Петербург</td>\n",
       "      <td>21741.0</td>\n",
       "      <td>13933.0</td>\n",
       "      <td>1.0</td>\n",
       "      <td>90.0</td>\n",
       "      <td>2.0</td>\n",
       "      <td>574.0</td>\n",
       "      <td>558.0</td>\n",
       "    </tr>\n",
       "    <tr>\n",
       "      <td>3</td>\n",
       "      <td>0</td>\n",
       "      <td>64900000.0</td>\n",
       "      <td>159.00</td>\n",
       "      <td>2015-07-24T00:00:00</td>\n",
       "      <td>3</td>\n",
       "      <td>NaN</td>\n",
       "      <td>14.0</td>\n",
       "      <td>NaN</td>\n",
       "      <td>9</td>\n",
       "      <td>NaN</td>\n",
       "      <td>...</td>\n",
       "      <td>NaN</td>\n",
       "      <td>0.0</td>\n",
       "      <td>Санкт-Петербург</td>\n",
       "      <td>28098.0</td>\n",
       "      <td>6800.0</td>\n",
       "      <td>2.0</td>\n",
       "      <td>84.0</td>\n",
       "      <td>3.0</td>\n",
       "      <td>234.0</td>\n",
       "      <td>424.0</td>\n",
       "    </tr>\n",
       "    <tr>\n",
       "      <td>4</td>\n",
       "      <td>2</td>\n",
       "      <td>10000000.0</td>\n",
       "      <td>100.00</td>\n",
       "      <td>2018-06-19T00:00:00</td>\n",
       "      <td>2</td>\n",
       "      <td>3.03</td>\n",
       "      <td>14.0</td>\n",
       "      <td>32.00</td>\n",
       "      <td>13</td>\n",
       "      <td>NaN</td>\n",
       "      <td>...</td>\n",
       "      <td>41.00</td>\n",
       "      <td>NaN</td>\n",
       "      <td>Санкт-Петербург</td>\n",
       "      <td>31856.0</td>\n",
       "      <td>8098.0</td>\n",
       "      <td>2.0</td>\n",
       "      <td>112.0</td>\n",
       "      <td>1.0</td>\n",
       "      <td>48.0</td>\n",
       "      <td>121.0</td>\n",
       "    </tr>\n",
       "    <tr>\n",
       "      <td>5</td>\n",
       "      <td>10</td>\n",
       "      <td>2890000.0</td>\n",
       "      <td>30.40</td>\n",
       "      <td>2018-09-10T00:00:00</td>\n",
       "      <td>1</td>\n",
       "      <td>NaN</td>\n",
       "      <td>12.0</td>\n",
       "      <td>14.40</td>\n",
       "      <td>5</td>\n",
       "      <td>NaN</td>\n",
       "      <td>...</td>\n",
       "      <td>9.10</td>\n",
       "      <td>NaN</td>\n",
       "      <td>городской посёлок Янино-1</td>\n",
       "      <td>NaN</td>\n",
       "      <td>NaN</td>\n",
       "      <td>NaN</td>\n",
       "      <td>NaN</td>\n",
       "      <td>NaN</td>\n",
       "      <td>NaN</td>\n",
       "      <td>55.0</td>\n",
       "    </tr>\n",
       "    <tr>\n",
       "      <td>6</td>\n",
       "      <td>6</td>\n",
       "      <td>3700000.0</td>\n",
       "      <td>37.30</td>\n",
       "      <td>2017-11-02T00:00:00</td>\n",
       "      <td>1</td>\n",
       "      <td>NaN</td>\n",
       "      <td>26.0</td>\n",
       "      <td>10.60</td>\n",
       "      <td>6</td>\n",
       "      <td>NaN</td>\n",
       "      <td>...</td>\n",
       "      <td>14.40</td>\n",
       "      <td>1.0</td>\n",
       "      <td>посёлок Парголово</td>\n",
       "      <td>52996.0</td>\n",
       "      <td>19143.0</td>\n",
       "      <td>0.0</td>\n",
       "      <td>NaN</td>\n",
       "      <td>0.0</td>\n",
       "      <td>NaN</td>\n",
       "      <td>155.0</td>\n",
       "    </tr>\n",
       "    <tr>\n",
       "      <td>7</td>\n",
       "      <td>5</td>\n",
       "      <td>7915000.0</td>\n",
       "      <td>71.60</td>\n",
       "      <td>2019-04-18T00:00:00</td>\n",
       "      <td>2</td>\n",
       "      <td>NaN</td>\n",
       "      <td>24.0</td>\n",
       "      <td>NaN</td>\n",
       "      <td>22</td>\n",
       "      <td>NaN</td>\n",
       "      <td>...</td>\n",
       "      <td>18.90</td>\n",
       "      <td>2.0</td>\n",
       "      <td>Санкт-Петербург</td>\n",
       "      <td>23982.0</td>\n",
       "      <td>11634.0</td>\n",
       "      <td>0.0</td>\n",
       "      <td>NaN</td>\n",
       "      <td>0.0</td>\n",
       "      <td>NaN</td>\n",
       "      <td>NaN</td>\n",
       "    </tr>\n",
       "    <tr>\n",
       "      <td>8</td>\n",
       "      <td>20</td>\n",
       "      <td>2900000.0</td>\n",
       "      <td>33.16</td>\n",
       "      <td>2018-05-23T00:00:00</td>\n",
       "      <td>1</td>\n",
       "      <td>NaN</td>\n",
       "      <td>27.0</td>\n",
       "      <td>15.43</td>\n",
       "      <td>26</td>\n",
       "      <td>NaN</td>\n",
       "      <td>...</td>\n",
       "      <td>8.81</td>\n",
       "      <td>NaN</td>\n",
       "      <td>посёлок Мурино</td>\n",
       "      <td>NaN</td>\n",
       "      <td>NaN</td>\n",
       "      <td>NaN</td>\n",
       "      <td>NaN</td>\n",
       "      <td>NaN</td>\n",
       "      <td>NaN</td>\n",
       "      <td>189.0</td>\n",
       "    </tr>\n",
       "    <tr>\n",
       "      <td>9</td>\n",
       "      <td>18</td>\n",
       "      <td>5400000.0</td>\n",
       "      <td>61.00</td>\n",
       "      <td>2017-02-26T00:00:00</td>\n",
       "      <td>3</td>\n",
       "      <td>2.50</td>\n",
       "      <td>9.0</td>\n",
       "      <td>43.60</td>\n",
       "      <td>7</td>\n",
       "      <td>NaN</td>\n",
       "      <td>...</td>\n",
       "      <td>6.50</td>\n",
       "      <td>2.0</td>\n",
       "      <td>Санкт-Петербург</td>\n",
       "      <td>50898.0</td>\n",
       "      <td>15008.0</td>\n",
       "      <td>0.0</td>\n",
       "      <td>NaN</td>\n",
       "      <td>0.0</td>\n",
       "      <td>NaN</td>\n",
       "      <td>289.0</td>\n",
       "    </tr>\n",
       "  </tbody>\n",
       "</table>\n",
       "<p>10 rows × 22 columns</p>\n",
       "</div>"
      ],
      "text/plain": [
       "   total_images  last_price  total_area first_day_exposition  rooms  \\\n",
       "0            20  13000000.0      108.00  2019-03-07T00:00:00      3   \n",
       "1             7   3350000.0       40.40  2018-12-04T00:00:00      1   \n",
       "2            10   5196000.0       56.00  2015-08-20T00:00:00      2   \n",
       "3             0  64900000.0      159.00  2015-07-24T00:00:00      3   \n",
       "4             2  10000000.0      100.00  2018-06-19T00:00:00      2   \n",
       "5            10   2890000.0       30.40  2018-09-10T00:00:00      1   \n",
       "6             6   3700000.0       37.30  2017-11-02T00:00:00      1   \n",
       "7             5   7915000.0       71.60  2019-04-18T00:00:00      2   \n",
       "8            20   2900000.0       33.16  2018-05-23T00:00:00      1   \n",
       "9            18   5400000.0       61.00  2017-02-26T00:00:00      3   \n",
       "\n",
       "   ceiling_height  floors_total  living_area  floor is_apartment  ...  \\\n",
       "0            2.70          16.0        51.00      8          NaN  ...   \n",
       "1             NaN          11.0        18.60      1          NaN  ...   \n",
       "2             NaN           5.0        34.30      4          NaN  ...   \n",
       "3             NaN          14.0          NaN      9          NaN  ...   \n",
       "4            3.03          14.0        32.00     13          NaN  ...   \n",
       "5             NaN          12.0        14.40      5          NaN  ...   \n",
       "6             NaN          26.0        10.60      6          NaN  ...   \n",
       "7             NaN          24.0          NaN     22          NaN  ...   \n",
       "8             NaN          27.0        15.43     26          NaN  ...   \n",
       "9            2.50           9.0        43.60      7          NaN  ...   \n",
       "\n",
       "   kitchen_area  balcony              locality_name  airports_nearest  \\\n",
       "0         25.00      NaN            Санкт-Петербург           18863.0   \n",
       "1         11.00      2.0             посёлок Шушары           12817.0   \n",
       "2          8.30      0.0            Санкт-Петербург           21741.0   \n",
       "3           NaN      0.0            Санкт-Петербург           28098.0   \n",
       "4         41.00      NaN            Санкт-Петербург           31856.0   \n",
       "5          9.10      NaN  городской посёлок Янино-1               NaN   \n",
       "6         14.40      1.0          посёлок Парголово           52996.0   \n",
       "7         18.90      2.0            Санкт-Петербург           23982.0   \n",
       "8          8.81      NaN             посёлок Мурино               NaN   \n",
       "9          6.50      2.0            Санкт-Петербург           50898.0   \n",
       "\n",
       "  cityCenters_nearest  parks_around3000  parks_nearest  ponds_around3000  \\\n",
       "0             16028.0               1.0          482.0               2.0   \n",
       "1             18603.0               0.0            NaN               0.0   \n",
       "2             13933.0               1.0           90.0               2.0   \n",
       "3              6800.0               2.0           84.0               3.0   \n",
       "4              8098.0               2.0          112.0               1.0   \n",
       "5                 NaN               NaN            NaN               NaN   \n",
       "6             19143.0               0.0            NaN               0.0   \n",
       "7             11634.0               0.0            NaN               0.0   \n",
       "8                 NaN               NaN            NaN               NaN   \n",
       "9             15008.0               0.0            NaN               0.0   \n",
       "\n",
       "   ponds_nearest  days_exposition  \n",
       "0          755.0              NaN  \n",
       "1            NaN             81.0  \n",
       "2          574.0            558.0  \n",
       "3          234.0            424.0  \n",
       "4           48.0            121.0  \n",
       "5            NaN             55.0  \n",
       "6            NaN            155.0  \n",
       "7            NaN              NaN  \n",
       "8            NaN            189.0  \n",
       "9            NaN            289.0  \n",
       "\n",
       "[10 rows x 22 columns]"
      ]
     },
     "execution_count": 2,
     "metadata": {},
     "output_type": "execute_result"
    }
   ],
   "source": [
    "df = pd.read_csv('/datasets/real_estate_data.csv', sep='\\t')\n",
    "df.head(10)"
   ]
  },
  {
   "cell_type": "code",
   "execution_count": 3,
   "metadata": {},
   "outputs": [
    {
     "name": "stdout",
     "output_type": "stream",
     "text": [
      "<class 'pandas.core.frame.DataFrame'>\n",
      "RangeIndex: 23699 entries, 0 to 23698\n",
      "Data columns (total 22 columns):\n",
      "total_images            23699 non-null int64\n",
      "last_price              23699 non-null float64\n",
      "total_area              23699 non-null float64\n",
      "first_day_exposition    23699 non-null object\n",
      "rooms                   23699 non-null int64\n",
      "ceiling_height          14504 non-null float64\n",
      "floors_total            23613 non-null float64\n",
      "living_area             21796 non-null float64\n",
      "floor                   23699 non-null int64\n",
      "is_apartment            2775 non-null object\n",
      "studio                  23699 non-null bool\n",
      "open_plan               23699 non-null bool\n",
      "kitchen_area            21421 non-null float64\n",
      "balcony                 12180 non-null float64\n",
      "locality_name           23650 non-null object\n",
      "airports_nearest        18157 non-null float64\n",
      "cityCenters_nearest     18180 non-null float64\n",
      "parks_around3000        18181 non-null float64\n",
      "parks_nearest           8079 non-null float64\n",
      "ponds_around3000        18181 non-null float64\n",
      "ponds_nearest           9110 non-null float64\n",
      "days_exposition         20518 non-null float64\n",
      "dtypes: bool(2), float64(14), int64(3), object(3)\n",
      "memory usage: 3.7+ MB\n"
     ]
    }
   ],
   "source": [
    "df.info()"
   ]
  },
  {
   "cell_type": "markdown",
   "metadata": {},
   "source": [
    "Выведем процент пропусков от общего количетсва строк"
   ]
  },
  {
   "cell_type": "code",
   "execution_count": 4,
   "metadata": {},
   "outputs": [
    {
     "name": "stdout",
     "output_type": "stream",
     "text": [
      "total_images             0.000000\n",
      "last_price               0.000000\n",
      "total_area               0.000000\n",
      "first_day_exposition     0.000000\n",
      "rooms                    0.000000\n",
      "ceiling_height          38.799105\n",
      "floors_total             0.362885\n",
      "living_area              8.029875\n",
      "floor                    0.000000\n",
      "is_apartment            88.290645\n",
      "studio                   0.000000\n",
      "open_plan                0.000000\n",
      "kitchen_area             9.612220\n",
      "balcony                 48.605426\n",
      "locality_name            0.206760\n",
      "airports_nearest        23.384953\n",
      "cityCenters_nearest     23.287902\n",
      "parks_around3000        23.283683\n",
      "parks_nearest           65.909954\n",
      "ponds_around3000        23.283683\n",
      "ponds_nearest           61.559559\n",
      "days_exposition         13.422507\n",
      "dtype: float64\n"
     ]
    }
   ],
   "source": [
    "print(df.isna().mean()*100)"
   ]
  },
  {
   "cell_type": "markdown",
   "metadata": {},
   "source": [
    "### Вывод"
   ]
  },
  {
   "cell_type": "markdown",
   "metadata": {},
   "source": [
    "Видим, что в некоторых столбцах много пустых значений. Так же есть некорректные типы данных. Рассмотрим далее каждый столбец c пропусками по отдельности. Уберем дубликаты"
   ]
  },
  {
   "cell_type": "markdown",
   "metadata": {},
   "source": [
    "## Предобработка данных"
   ]
  },
  {
   "cell_type": "markdown",
   "metadata": {},
   "source": [
    "Теперь рассмотрим все столбцы с пропусками по отдельности"
   ]
  },
  {
   "cell_type": "markdown",
   "metadata": {},
   "source": [
    "ceiling_height Очень много пропусков, удалять и менять нельзя. Оставим как есть"
   ]
  },
  {
   "cell_type": "markdown",
   "metadata": {},
   "source": [
    "floors_total Очень мало пропусков, поэтому просто удалим строки с этими пропусками."
   ]
  },
  {
   "cell_type": "code",
   "execution_count": 6,
   "metadata": {
    "scrolled": true
   },
   "outputs": [],
   "source": [
    "df.dropna(subset=['floors_total'], inplace=True)"
   ]
  },
  {
   "cell_type": "markdown",
   "metadata": {},
   "source": [
    "living_area Заполним пустые значения исходя из общей площади квартиры. Создадим новый параметр и функцию, которая будет заменять пустые значения на основе нового параметра."
   ]
  },
  {
   "cell_type": "code",
   "execution_count": 7,
   "metadata": {},
   "outputs": [
    {
     "name": "stdout",
     "output_type": "stream",
     "text": [
      "маленькая площадь    6013\n",
      "средняя площадь      5905\n",
      "огромная площадь     5900\n",
      "большая площадь      5795\n",
      "Name: area_group, dtype: int64\n"
     ]
    }
   ],
   "source": [
    "area_category = ['маленькая площадь', 'средняя площадь', 'большая площадь', 'огромная площадь']\n",
    "df['area_group'] = pd.qcut(df['total_area'], q=4, labels=area_category)\n",
    "print(df['area_group'].value_counts())"
   ]
  },
  {
   "cell_type": "code",
   "execution_count": 8,
   "metadata": {},
   "outputs": [],
   "source": [
    "def no_null(data, value, category):\n",
    "    for value_unique in data[value].unique():\n",
    "        data.loc[(data[category].isna()) & (data[value] == value_unique), category] = data.loc[data[value] == value_unique, category].median()\n",
    "    return data"
   ]
  },
  {
   "cell_type": "code",
   "execution_count": 9,
   "metadata": {},
   "outputs": [
    {
     "data": {
      "text/html": [
       "<div>\n",
       "<style scoped>\n",
       "    .dataframe tbody tr th:only-of-type {\n",
       "        vertical-align: middle;\n",
       "    }\n",
       "\n",
       "    .dataframe tbody tr th {\n",
       "        vertical-align: top;\n",
       "    }\n",
       "\n",
       "    .dataframe thead th {\n",
       "        text-align: right;\n",
       "    }\n",
       "</style>\n",
       "<table border=\"1\" class=\"dataframe\">\n",
       "  <thead>\n",
       "    <tr style=\"text-align: right;\">\n",
       "      <th></th>\n",
       "      <th>total_images</th>\n",
       "      <th>last_price</th>\n",
       "      <th>total_area</th>\n",
       "      <th>first_day_exposition</th>\n",
       "      <th>rooms</th>\n",
       "      <th>ceiling_height</th>\n",
       "      <th>floors_total</th>\n",
       "      <th>living_area</th>\n",
       "      <th>floor</th>\n",
       "      <th>is_apartment</th>\n",
       "      <th>...</th>\n",
       "      <th>balcony</th>\n",
       "      <th>locality_name</th>\n",
       "      <th>airports_nearest</th>\n",
       "      <th>cityCenters_nearest</th>\n",
       "      <th>parks_around3000</th>\n",
       "      <th>parks_nearest</th>\n",
       "      <th>ponds_around3000</th>\n",
       "      <th>ponds_nearest</th>\n",
       "      <th>days_exposition</th>\n",
       "      <th>area_group</th>\n",
       "    </tr>\n",
       "  </thead>\n",
       "  <tbody>\n",
       "    <tr>\n",
       "      <td>0</td>\n",
       "      <td>20</td>\n",
       "      <td>13000000.0</td>\n",
       "      <td>108.00</td>\n",
       "      <td>2019-03-07T00:00:00</td>\n",
       "      <td>3</td>\n",
       "      <td>2.70</td>\n",
       "      <td>16.0</td>\n",
       "      <td>51.00</td>\n",
       "      <td>8</td>\n",
       "      <td>NaN</td>\n",
       "      <td>...</td>\n",
       "      <td>NaN</td>\n",
       "      <td>Санкт-Петербург</td>\n",
       "      <td>18863.0</td>\n",
       "      <td>16028.0</td>\n",
       "      <td>1.0</td>\n",
       "      <td>482.0</td>\n",
       "      <td>2.0</td>\n",
       "      <td>755.0</td>\n",
       "      <td>NaN</td>\n",
       "      <td>огромная площадь</td>\n",
       "    </tr>\n",
       "    <tr>\n",
       "      <td>1</td>\n",
       "      <td>7</td>\n",
       "      <td>3350000.0</td>\n",
       "      <td>40.40</td>\n",
       "      <td>2018-12-04T00:00:00</td>\n",
       "      <td>1</td>\n",
       "      <td>NaN</td>\n",
       "      <td>11.0</td>\n",
       "      <td>18.60</td>\n",
       "      <td>1</td>\n",
       "      <td>NaN</td>\n",
       "      <td>...</td>\n",
       "      <td>2.0</td>\n",
       "      <td>посёлок Шушары</td>\n",
       "      <td>12817.0</td>\n",
       "      <td>18603.0</td>\n",
       "      <td>0.0</td>\n",
       "      <td>NaN</td>\n",
       "      <td>0.0</td>\n",
       "      <td>NaN</td>\n",
       "      <td>81.0</td>\n",
       "      <td>средняя площадь</td>\n",
       "    </tr>\n",
       "    <tr>\n",
       "      <td>2</td>\n",
       "      <td>10</td>\n",
       "      <td>5196000.0</td>\n",
       "      <td>56.00</td>\n",
       "      <td>2015-08-20T00:00:00</td>\n",
       "      <td>2</td>\n",
       "      <td>NaN</td>\n",
       "      <td>5.0</td>\n",
       "      <td>34.30</td>\n",
       "      <td>4</td>\n",
       "      <td>NaN</td>\n",
       "      <td>...</td>\n",
       "      <td>0.0</td>\n",
       "      <td>Санкт-Петербург</td>\n",
       "      <td>21741.0</td>\n",
       "      <td>13933.0</td>\n",
       "      <td>1.0</td>\n",
       "      <td>90.0</td>\n",
       "      <td>2.0</td>\n",
       "      <td>574.0</td>\n",
       "      <td>558.0</td>\n",
       "      <td>большая площадь</td>\n",
       "    </tr>\n",
       "    <tr>\n",
       "      <td>3</td>\n",
       "      <td>0</td>\n",
       "      <td>64900000.0</td>\n",
       "      <td>159.00</td>\n",
       "      <td>2015-07-24T00:00:00</td>\n",
       "      <td>3</td>\n",
       "      <td>NaN</td>\n",
       "      <td>14.0</td>\n",
       "      <td>51.35</td>\n",
       "      <td>9</td>\n",
       "      <td>NaN</td>\n",
       "      <td>...</td>\n",
       "      <td>0.0</td>\n",
       "      <td>Санкт-Петербург</td>\n",
       "      <td>28098.0</td>\n",
       "      <td>6800.0</td>\n",
       "      <td>2.0</td>\n",
       "      <td>84.0</td>\n",
       "      <td>3.0</td>\n",
       "      <td>234.0</td>\n",
       "      <td>424.0</td>\n",
       "      <td>огромная площадь</td>\n",
       "    </tr>\n",
       "    <tr>\n",
       "      <td>4</td>\n",
       "      <td>2</td>\n",
       "      <td>10000000.0</td>\n",
       "      <td>100.00</td>\n",
       "      <td>2018-06-19T00:00:00</td>\n",
       "      <td>2</td>\n",
       "      <td>3.03</td>\n",
       "      <td>14.0</td>\n",
       "      <td>32.00</td>\n",
       "      <td>13</td>\n",
       "      <td>NaN</td>\n",
       "      <td>...</td>\n",
       "      <td>NaN</td>\n",
       "      <td>Санкт-Петербург</td>\n",
       "      <td>31856.0</td>\n",
       "      <td>8098.0</td>\n",
       "      <td>2.0</td>\n",
       "      <td>112.0</td>\n",
       "      <td>1.0</td>\n",
       "      <td>48.0</td>\n",
       "      <td>121.0</td>\n",
       "      <td>огромная площадь</td>\n",
       "    </tr>\n",
       "    <tr>\n",
       "      <td>...</td>\n",
       "      <td>...</td>\n",
       "      <td>...</td>\n",
       "      <td>...</td>\n",
       "      <td>...</td>\n",
       "      <td>...</td>\n",
       "      <td>...</td>\n",
       "      <td>...</td>\n",
       "      <td>...</td>\n",
       "      <td>...</td>\n",
       "      <td>...</td>\n",
       "      <td>...</td>\n",
       "      <td>...</td>\n",
       "      <td>...</td>\n",
       "      <td>...</td>\n",
       "      <td>...</td>\n",
       "      <td>...</td>\n",
       "      <td>...</td>\n",
       "      <td>...</td>\n",
       "      <td>...</td>\n",
       "      <td>...</td>\n",
       "      <td>...</td>\n",
       "    </tr>\n",
       "    <tr>\n",
       "      <td>23694</td>\n",
       "      <td>9</td>\n",
       "      <td>9700000.0</td>\n",
       "      <td>133.81</td>\n",
       "      <td>2017-03-21T00:00:00</td>\n",
       "      <td>3</td>\n",
       "      <td>3.70</td>\n",
       "      <td>5.0</td>\n",
       "      <td>73.30</td>\n",
       "      <td>3</td>\n",
       "      <td>NaN</td>\n",
       "      <td>...</td>\n",
       "      <td>NaN</td>\n",
       "      <td>Санкт-Петербург</td>\n",
       "      <td>24665.0</td>\n",
       "      <td>4232.0</td>\n",
       "      <td>1.0</td>\n",
       "      <td>796.0</td>\n",
       "      <td>3.0</td>\n",
       "      <td>381.0</td>\n",
       "      <td>NaN</td>\n",
       "      <td>огромная площадь</td>\n",
       "    </tr>\n",
       "    <tr>\n",
       "      <td>23695</td>\n",
       "      <td>14</td>\n",
       "      <td>3100000.0</td>\n",
       "      <td>59.00</td>\n",
       "      <td>2018-01-15T00:00:00</td>\n",
       "      <td>3</td>\n",
       "      <td>NaN</td>\n",
       "      <td>5.0</td>\n",
       "      <td>38.00</td>\n",
       "      <td>4</td>\n",
       "      <td>NaN</td>\n",
       "      <td>...</td>\n",
       "      <td>NaN</td>\n",
       "      <td>Тосно</td>\n",
       "      <td>NaN</td>\n",
       "      <td>NaN</td>\n",
       "      <td>NaN</td>\n",
       "      <td>NaN</td>\n",
       "      <td>NaN</td>\n",
       "      <td>NaN</td>\n",
       "      <td>45.0</td>\n",
       "      <td>большая площадь</td>\n",
       "    </tr>\n",
       "    <tr>\n",
       "      <td>23696</td>\n",
       "      <td>18</td>\n",
       "      <td>2500000.0</td>\n",
       "      <td>56.70</td>\n",
       "      <td>2018-02-11T00:00:00</td>\n",
       "      <td>2</td>\n",
       "      <td>NaN</td>\n",
       "      <td>3.0</td>\n",
       "      <td>29.70</td>\n",
       "      <td>1</td>\n",
       "      <td>NaN</td>\n",
       "      <td>...</td>\n",
       "      <td>NaN</td>\n",
       "      <td>село Рождествено</td>\n",
       "      <td>NaN</td>\n",
       "      <td>NaN</td>\n",
       "      <td>NaN</td>\n",
       "      <td>NaN</td>\n",
       "      <td>NaN</td>\n",
       "      <td>NaN</td>\n",
       "      <td>NaN</td>\n",
       "      <td>большая площадь</td>\n",
       "    </tr>\n",
       "    <tr>\n",
       "      <td>23697</td>\n",
       "      <td>13</td>\n",
       "      <td>11475000.0</td>\n",
       "      <td>76.75</td>\n",
       "      <td>2017-03-28T00:00:00</td>\n",
       "      <td>2</td>\n",
       "      <td>3.00</td>\n",
       "      <td>17.0</td>\n",
       "      <td>51.35</td>\n",
       "      <td>12</td>\n",
       "      <td>NaN</td>\n",
       "      <td>...</td>\n",
       "      <td>2.0</td>\n",
       "      <td>Санкт-Петербург</td>\n",
       "      <td>39140.0</td>\n",
       "      <td>10364.0</td>\n",
       "      <td>2.0</td>\n",
       "      <td>173.0</td>\n",
       "      <td>3.0</td>\n",
       "      <td>196.0</td>\n",
       "      <td>602.0</td>\n",
       "      <td>огромная площадь</td>\n",
       "    </tr>\n",
       "    <tr>\n",
       "      <td>23698</td>\n",
       "      <td>4</td>\n",
       "      <td>1350000.0</td>\n",
       "      <td>32.30</td>\n",
       "      <td>2017-07-21T00:00:00</td>\n",
       "      <td>1</td>\n",
       "      <td>2.50</td>\n",
       "      <td>5.0</td>\n",
       "      <td>12.30</td>\n",
       "      <td>1</td>\n",
       "      <td>NaN</td>\n",
       "      <td>...</td>\n",
       "      <td>NaN</td>\n",
       "      <td>поселок Новый Учхоз</td>\n",
       "      <td>NaN</td>\n",
       "      <td>NaN</td>\n",
       "      <td>NaN</td>\n",
       "      <td>NaN</td>\n",
       "      <td>NaN</td>\n",
       "      <td>NaN</td>\n",
       "      <td>NaN</td>\n",
       "      <td>маленькая площадь</td>\n",
       "    </tr>\n",
       "  </tbody>\n",
       "</table>\n",
       "<p>23613 rows × 23 columns</p>\n",
       "</div>"
      ],
      "text/plain": [
       "       total_images  last_price  total_area first_day_exposition  rooms  \\\n",
       "0                20  13000000.0      108.00  2019-03-07T00:00:00      3   \n",
       "1                 7   3350000.0       40.40  2018-12-04T00:00:00      1   \n",
       "2                10   5196000.0       56.00  2015-08-20T00:00:00      2   \n",
       "3                 0  64900000.0      159.00  2015-07-24T00:00:00      3   \n",
       "4                 2  10000000.0      100.00  2018-06-19T00:00:00      2   \n",
       "...             ...         ...         ...                  ...    ...   \n",
       "23694             9   9700000.0      133.81  2017-03-21T00:00:00      3   \n",
       "23695            14   3100000.0       59.00  2018-01-15T00:00:00      3   \n",
       "23696            18   2500000.0       56.70  2018-02-11T00:00:00      2   \n",
       "23697            13  11475000.0       76.75  2017-03-28T00:00:00      2   \n",
       "23698             4   1350000.0       32.30  2017-07-21T00:00:00      1   \n",
       "\n",
       "       ceiling_height  floors_total  living_area  floor is_apartment  ...  \\\n",
       "0                2.70          16.0        51.00      8          NaN  ...   \n",
       "1                 NaN          11.0        18.60      1          NaN  ...   \n",
       "2                 NaN           5.0        34.30      4          NaN  ...   \n",
       "3                 NaN          14.0        51.35      9          NaN  ...   \n",
       "4                3.03          14.0        32.00     13          NaN  ...   \n",
       "...               ...           ...          ...    ...          ...  ...   \n",
       "23694            3.70           5.0        73.30      3          NaN  ...   \n",
       "23695             NaN           5.0        38.00      4          NaN  ...   \n",
       "23696             NaN           3.0        29.70      1          NaN  ...   \n",
       "23697            3.00          17.0        51.35     12          NaN  ...   \n",
       "23698            2.50           5.0        12.30      1          NaN  ...   \n",
       "\n",
       "       balcony        locality_name  airports_nearest  cityCenters_nearest  \\\n",
       "0          NaN      Санкт-Петербург           18863.0              16028.0   \n",
       "1          2.0       посёлок Шушары           12817.0              18603.0   \n",
       "2          0.0      Санкт-Петербург           21741.0              13933.0   \n",
       "3          0.0      Санкт-Петербург           28098.0               6800.0   \n",
       "4          NaN      Санкт-Петербург           31856.0               8098.0   \n",
       "...        ...                  ...               ...                  ...   \n",
       "23694      NaN      Санкт-Петербург           24665.0               4232.0   \n",
       "23695      NaN                Тосно               NaN                  NaN   \n",
       "23696      NaN     село Рождествено               NaN                  NaN   \n",
       "23697      2.0      Санкт-Петербург           39140.0              10364.0   \n",
       "23698      NaN  поселок Новый Учхоз               NaN                  NaN   \n",
       "\n",
       "      parks_around3000  parks_nearest  ponds_around3000  ponds_nearest  \\\n",
       "0                  1.0          482.0               2.0          755.0   \n",
       "1                  0.0            NaN               0.0            NaN   \n",
       "2                  1.0           90.0               2.0          574.0   \n",
       "3                  2.0           84.0               3.0          234.0   \n",
       "4                  2.0          112.0               1.0           48.0   \n",
       "...                ...            ...               ...            ...   \n",
       "23694              1.0          796.0               3.0          381.0   \n",
       "23695              NaN            NaN               NaN            NaN   \n",
       "23696              NaN            NaN               NaN            NaN   \n",
       "23697              2.0          173.0               3.0          196.0   \n",
       "23698              NaN            NaN               NaN            NaN   \n",
       "\n",
       "       days_exposition         area_group  \n",
       "0                  NaN   огромная площадь  \n",
       "1                 81.0    средняя площадь  \n",
       "2                558.0    большая площадь  \n",
       "3                424.0   огромная площадь  \n",
       "4                121.0   огромная площадь  \n",
       "...                ...                ...  \n",
       "23694              NaN   огромная площадь  \n",
       "23695             45.0    большая площадь  \n",
       "23696              NaN    большая площадь  \n",
       "23697            602.0   огромная площадь  \n",
       "23698              NaN  маленькая площадь  \n",
       "\n",
       "[23613 rows x 23 columns]"
      ]
     },
     "execution_count": 9,
     "metadata": {},
     "output_type": "execute_result"
    }
   ],
   "source": [
    "no_null(df, 'area_group', 'living_area')"
   ]
  },
  {
   "cell_type": "markdown",
   "metadata": {},
   "source": [
    "is_apartment Оставим так как есть, слишком много пропущенных значений."
   ]
  },
  {
   "cell_type": "code",
   "execution_count": 10,
   "metadata": {},
   "outputs": [],
   "source": [
    "df['is_apartment'] = df['is_apartment'].fillna(value=False)"
   ]
  },
  {
   "cell_type": "code",
   "execution_count": 11,
   "metadata": {},
   "outputs": [
    {
     "name": "stdout",
     "output_type": "stream",
     "text": [
      "0\n"
     ]
    }
   ],
   "source": [
    "print(len(df[df['is_apartment'].isna()]))"
   ]
  },
  {
   "cell_type": "code",
   "execution_count": 12,
   "metadata": {},
   "outputs": [
    {
     "name": "stdout",
     "output_type": "stream",
     "text": [
      "False    23563\n",
      "True        50\n",
      "Name: is_apartment, dtype: int64\n"
     ]
    }
   ],
   "source": [
    "print(df['is_apartment'].value_counts())"
   ]
  },
  {
   "cell_type": "markdown",
   "metadata": {},
   "source": [
    "kitchen_area Не так много пропущенных значений. Но у нас уже есть подходящяя функция, которая заменит значения"
   ]
  },
  {
   "cell_type": "code",
   "execution_count": 13,
   "metadata": {},
   "outputs": [
    {
     "data": {
      "text/html": [
       "<div>\n",
       "<style scoped>\n",
       "    .dataframe tbody tr th:only-of-type {\n",
       "        vertical-align: middle;\n",
       "    }\n",
       "\n",
       "    .dataframe tbody tr th {\n",
       "        vertical-align: top;\n",
       "    }\n",
       "\n",
       "    .dataframe thead th {\n",
       "        text-align: right;\n",
       "    }\n",
       "</style>\n",
       "<table border=\"1\" class=\"dataframe\">\n",
       "  <thead>\n",
       "    <tr style=\"text-align: right;\">\n",
       "      <th></th>\n",
       "      <th>total_images</th>\n",
       "      <th>last_price</th>\n",
       "      <th>total_area</th>\n",
       "      <th>first_day_exposition</th>\n",
       "      <th>rooms</th>\n",
       "      <th>ceiling_height</th>\n",
       "      <th>floors_total</th>\n",
       "      <th>living_area</th>\n",
       "      <th>floor</th>\n",
       "      <th>is_apartment</th>\n",
       "      <th>...</th>\n",
       "      <th>balcony</th>\n",
       "      <th>locality_name</th>\n",
       "      <th>airports_nearest</th>\n",
       "      <th>cityCenters_nearest</th>\n",
       "      <th>parks_around3000</th>\n",
       "      <th>parks_nearest</th>\n",
       "      <th>ponds_around3000</th>\n",
       "      <th>ponds_nearest</th>\n",
       "      <th>days_exposition</th>\n",
       "      <th>area_group</th>\n",
       "    </tr>\n",
       "  </thead>\n",
       "  <tbody>\n",
       "    <tr>\n",
       "      <td>0</td>\n",
       "      <td>20</td>\n",
       "      <td>13000000.0</td>\n",
       "      <td>108.00</td>\n",
       "      <td>2019-03-07T00:00:00</td>\n",
       "      <td>3</td>\n",
       "      <td>2.70</td>\n",
       "      <td>16.0</td>\n",
       "      <td>51.00</td>\n",
       "      <td>8</td>\n",
       "      <td>False</td>\n",
       "      <td>...</td>\n",
       "      <td>NaN</td>\n",
       "      <td>Санкт-Петербург</td>\n",
       "      <td>18863.0</td>\n",
       "      <td>16028.0</td>\n",
       "      <td>1.0</td>\n",
       "      <td>482.0</td>\n",
       "      <td>2.0</td>\n",
       "      <td>755.0</td>\n",
       "      <td>NaN</td>\n",
       "      <td>огромная площадь</td>\n",
       "    </tr>\n",
       "    <tr>\n",
       "      <td>1</td>\n",
       "      <td>7</td>\n",
       "      <td>3350000.0</td>\n",
       "      <td>40.40</td>\n",
       "      <td>2018-12-04T00:00:00</td>\n",
       "      <td>1</td>\n",
       "      <td>NaN</td>\n",
       "      <td>11.0</td>\n",
       "      <td>18.60</td>\n",
       "      <td>1</td>\n",
       "      <td>False</td>\n",
       "      <td>...</td>\n",
       "      <td>2.0</td>\n",
       "      <td>посёлок Шушары</td>\n",
       "      <td>12817.0</td>\n",
       "      <td>18603.0</td>\n",
       "      <td>0.0</td>\n",
       "      <td>NaN</td>\n",
       "      <td>0.0</td>\n",
       "      <td>NaN</td>\n",
       "      <td>81.0</td>\n",
       "      <td>средняя площадь</td>\n",
       "    </tr>\n",
       "    <tr>\n",
       "      <td>2</td>\n",
       "      <td>10</td>\n",
       "      <td>5196000.0</td>\n",
       "      <td>56.00</td>\n",
       "      <td>2015-08-20T00:00:00</td>\n",
       "      <td>2</td>\n",
       "      <td>NaN</td>\n",
       "      <td>5.0</td>\n",
       "      <td>34.30</td>\n",
       "      <td>4</td>\n",
       "      <td>False</td>\n",
       "      <td>...</td>\n",
       "      <td>0.0</td>\n",
       "      <td>Санкт-Петербург</td>\n",
       "      <td>21741.0</td>\n",
       "      <td>13933.0</td>\n",
       "      <td>1.0</td>\n",
       "      <td>90.0</td>\n",
       "      <td>2.0</td>\n",
       "      <td>574.0</td>\n",
       "      <td>558.0</td>\n",
       "      <td>большая площадь</td>\n",
       "    </tr>\n",
       "    <tr>\n",
       "      <td>3</td>\n",
       "      <td>0</td>\n",
       "      <td>64900000.0</td>\n",
       "      <td>159.00</td>\n",
       "      <td>2015-07-24T00:00:00</td>\n",
       "      <td>3</td>\n",
       "      <td>NaN</td>\n",
       "      <td>14.0</td>\n",
       "      <td>51.35</td>\n",
       "      <td>9</td>\n",
       "      <td>False</td>\n",
       "      <td>...</td>\n",
       "      <td>0.0</td>\n",
       "      <td>Санкт-Петербург</td>\n",
       "      <td>28098.0</td>\n",
       "      <td>6800.0</td>\n",
       "      <td>2.0</td>\n",
       "      <td>84.0</td>\n",
       "      <td>3.0</td>\n",
       "      <td>234.0</td>\n",
       "      <td>424.0</td>\n",
       "      <td>огромная площадь</td>\n",
       "    </tr>\n",
       "    <tr>\n",
       "      <td>4</td>\n",
       "      <td>2</td>\n",
       "      <td>10000000.0</td>\n",
       "      <td>100.00</td>\n",
       "      <td>2018-06-19T00:00:00</td>\n",
       "      <td>2</td>\n",
       "      <td>3.03</td>\n",
       "      <td>14.0</td>\n",
       "      <td>32.00</td>\n",
       "      <td>13</td>\n",
       "      <td>False</td>\n",
       "      <td>...</td>\n",
       "      <td>NaN</td>\n",
       "      <td>Санкт-Петербург</td>\n",
       "      <td>31856.0</td>\n",
       "      <td>8098.0</td>\n",
       "      <td>2.0</td>\n",
       "      <td>112.0</td>\n",
       "      <td>1.0</td>\n",
       "      <td>48.0</td>\n",
       "      <td>121.0</td>\n",
       "      <td>огромная площадь</td>\n",
       "    </tr>\n",
       "    <tr>\n",
       "      <td>...</td>\n",
       "      <td>...</td>\n",
       "      <td>...</td>\n",
       "      <td>...</td>\n",
       "      <td>...</td>\n",
       "      <td>...</td>\n",
       "      <td>...</td>\n",
       "      <td>...</td>\n",
       "      <td>...</td>\n",
       "      <td>...</td>\n",
       "      <td>...</td>\n",
       "      <td>...</td>\n",
       "      <td>...</td>\n",
       "      <td>...</td>\n",
       "      <td>...</td>\n",
       "      <td>...</td>\n",
       "      <td>...</td>\n",
       "      <td>...</td>\n",
       "      <td>...</td>\n",
       "      <td>...</td>\n",
       "      <td>...</td>\n",
       "      <td>...</td>\n",
       "    </tr>\n",
       "    <tr>\n",
       "      <td>23694</td>\n",
       "      <td>9</td>\n",
       "      <td>9700000.0</td>\n",
       "      <td>133.81</td>\n",
       "      <td>2017-03-21T00:00:00</td>\n",
       "      <td>3</td>\n",
       "      <td>3.70</td>\n",
       "      <td>5.0</td>\n",
       "      <td>73.30</td>\n",
       "      <td>3</td>\n",
       "      <td>False</td>\n",
       "      <td>...</td>\n",
       "      <td>NaN</td>\n",
       "      <td>Санкт-Петербург</td>\n",
       "      <td>24665.0</td>\n",
       "      <td>4232.0</td>\n",
       "      <td>1.0</td>\n",
       "      <td>796.0</td>\n",
       "      <td>3.0</td>\n",
       "      <td>381.0</td>\n",
       "      <td>NaN</td>\n",
       "      <td>огромная площадь</td>\n",
       "    </tr>\n",
       "    <tr>\n",
       "      <td>23695</td>\n",
       "      <td>14</td>\n",
       "      <td>3100000.0</td>\n",
       "      <td>59.00</td>\n",
       "      <td>2018-01-15T00:00:00</td>\n",
       "      <td>3</td>\n",
       "      <td>NaN</td>\n",
       "      <td>5.0</td>\n",
       "      <td>38.00</td>\n",
       "      <td>4</td>\n",
       "      <td>False</td>\n",
       "      <td>...</td>\n",
       "      <td>NaN</td>\n",
       "      <td>Тосно</td>\n",
       "      <td>NaN</td>\n",
       "      <td>NaN</td>\n",
       "      <td>NaN</td>\n",
       "      <td>NaN</td>\n",
       "      <td>NaN</td>\n",
       "      <td>NaN</td>\n",
       "      <td>45.0</td>\n",
       "      <td>большая площадь</td>\n",
       "    </tr>\n",
       "    <tr>\n",
       "      <td>23696</td>\n",
       "      <td>18</td>\n",
       "      <td>2500000.0</td>\n",
       "      <td>56.70</td>\n",
       "      <td>2018-02-11T00:00:00</td>\n",
       "      <td>2</td>\n",
       "      <td>NaN</td>\n",
       "      <td>3.0</td>\n",
       "      <td>29.70</td>\n",
       "      <td>1</td>\n",
       "      <td>False</td>\n",
       "      <td>...</td>\n",
       "      <td>NaN</td>\n",
       "      <td>село Рождествено</td>\n",
       "      <td>NaN</td>\n",
       "      <td>NaN</td>\n",
       "      <td>NaN</td>\n",
       "      <td>NaN</td>\n",
       "      <td>NaN</td>\n",
       "      <td>NaN</td>\n",
       "      <td>NaN</td>\n",
       "      <td>большая площадь</td>\n",
       "    </tr>\n",
       "    <tr>\n",
       "      <td>23697</td>\n",
       "      <td>13</td>\n",
       "      <td>11475000.0</td>\n",
       "      <td>76.75</td>\n",
       "      <td>2017-03-28T00:00:00</td>\n",
       "      <td>2</td>\n",
       "      <td>3.00</td>\n",
       "      <td>17.0</td>\n",
       "      <td>51.35</td>\n",
       "      <td>12</td>\n",
       "      <td>False</td>\n",
       "      <td>...</td>\n",
       "      <td>2.0</td>\n",
       "      <td>Санкт-Петербург</td>\n",
       "      <td>39140.0</td>\n",
       "      <td>10364.0</td>\n",
       "      <td>2.0</td>\n",
       "      <td>173.0</td>\n",
       "      <td>3.0</td>\n",
       "      <td>196.0</td>\n",
       "      <td>602.0</td>\n",
       "      <td>огромная площадь</td>\n",
       "    </tr>\n",
       "    <tr>\n",
       "      <td>23698</td>\n",
       "      <td>4</td>\n",
       "      <td>1350000.0</td>\n",
       "      <td>32.30</td>\n",
       "      <td>2017-07-21T00:00:00</td>\n",
       "      <td>1</td>\n",
       "      <td>2.50</td>\n",
       "      <td>5.0</td>\n",
       "      <td>12.30</td>\n",
       "      <td>1</td>\n",
       "      <td>False</td>\n",
       "      <td>...</td>\n",
       "      <td>NaN</td>\n",
       "      <td>поселок Новый Учхоз</td>\n",
       "      <td>NaN</td>\n",
       "      <td>NaN</td>\n",
       "      <td>NaN</td>\n",
       "      <td>NaN</td>\n",
       "      <td>NaN</td>\n",
       "      <td>NaN</td>\n",
       "      <td>NaN</td>\n",
       "      <td>маленькая площадь</td>\n",
       "    </tr>\n",
       "  </tbody>\n",
       "</table>\n",
       "<p>23613 rows × 23 columns</p>\n",
       "</div>"
      ],
      "text/plain": [
       "       total_images  last_price  total_area first_day_exposition  rooms  \\\n",
       "0                20  13000000.0      108.00  2019-03-07T00:00:00      3   \n",
       "1                 7   3350000.0       40.40  2018-12-04T00:00:00      1   \n",
       "2                10   5196000.0       56.00  2015-08-20T00:00:00      2   \n",
       "3                 0  64900000.0      159.00  2015-07-24T00:00:00      3   \n",
       "4                 2  10000000.0      100.00  2018-06-19T00:00:00      2   \n",
       "...             ...         ...         ...                  ...    ...   \n",
       "23694             9   9700000.0      133.81  2017-03-21T00:00:00      3   \n",
       "23695            14   3100000.0       59.00  2018-01-15T00:00:00      3   \n",
       "23696            18   2500000.0       56.70  2018-02-11T00:00:00      2   \n",
       "23697            13  11475000.0       76.75  2017-03-28T00:00:00      2   \n",
       "23698             4   1350000.0       32.30  2017-07-21T00:00:00      1   \n",
       "\n",
       "       ceiling_height  floors_total  living_area  floor  is_apartment  ...  \\\n",
       "0                2.70          16.0        51.00      8         False  ...   \n",
       "1                 NaN          11.0        18.60      1         False  ...   \n",
       "2                 NaN           5.0        34.30      4         False  ...   \n",
       "3                 NaN          14.0        51.35      9         False  ...   \n",
       "4                3.03          14.0        32.00     13         False  ...   \n",
       "...               ...           ...          ...    ...           ...  ...   \n",
       "23694            3.70           5.0        73.30      3         False  ...   \n",
       "23695             NaN           5.0        38.00      4         False  ...   \n",
       "23696             NaN           3.0        29.70      1         False  ...   \n",
       "23697            3.00          17.0        51.35     12         False  ...   \n",
       "23698            2.50           5.0        12.30      1         False  ...   \n",
       "\n",
       "       balcony        locality_name  airports_nearest  cityCenters_nearest  \\\n",
       "0          NaN      Санкт-Петербург           18863.0              16028.0   \n",
       "1          2.0       посёлок Шушары           12817.0              18603.0   \n",
       "2          0.0      Санкт-Петербург           21741.0              13933.0   \n",
       "3          0.0      Санкт-Петербург           28098.0               6800.0   \n",
       "4          NaN      Санкт-Петербург           31856.0               8098.0   \n",
       "...        ...                  ...               ...                  ...   \n",
       "23694      NaN      Санкт-Петербург           24665.0               4232.0   \n",
       "23695      NaN                Тосно               NaN                  NaN   \n",
       "23696      NaN     село Рождествено               NaN                  NaN   \n",
       "23697      2.0      Санкт-Петербург           39140.0              10364.0   \n",
       "23698      NaN  поселок Новый Учхоз               NaN                  NaN   \n",
       "\n",
       "      parks_around3000  parks_nearest  ponds_around3000  ponds_nearest  \\\n",
       "0                  1.0          482.0               2.0          755.0   \n",
       "1                  0.0            NaN               0.0            NaN   \n",
       "2                  1.0           90.0               2.0          574.0   \n",
       "3                  2.0           84.0               3.0          234.0   \n",
       "4                  2.0          112.0               1.0           48.0   \n",
       "...                ...            ...               ...            ...   \n",
       "23694              1.0          796.0               3.0          381.0   \n",
       "23695              NaN            NaN               NaN            NaN   \n",
       "23696              NaN            NaN               NaN            NaN   \n",
       "23697              2.0          173.0               3.0          196.0   \n",
       "23698              NaN            NaN               NaN            NaN   \n",
       "\n",
       "       days_exposition         area_group  \n",
       "0                  NaN   огромная площадь  \n",
       "1                 81.0    средняя площадь  \n",
       "2                558.0    большая площадь  \n",
       "3                424.0   огромная площадь  \n",
       "4                121.0   огромная площадь  \n",
       "...                ...                ...  \n",
       "23694              NaN   огромная площадь  \n",
       "23695             45.0    большая площадь  \n",
       "23696              NaN    большая площадь  \n",
       "23697            602.0   огромная площадь  \n",
       "23698              NaN  маленькая площадь  \n",
       "\n",
       "[23613 rows x 23 columns]"
      ]
     },
     "execution_count": 13,
     "metadata": {},
     "output_type": "execute_result"
    }
   ],
   "source": [
    "no_null(df, 'area_group', 'kitchen_area')"
   ]
  },
  {
   "cell_type": "markdown",
   "metadata": {},
   "source": [
    "balcony Много пропущенных значений. Заменим пустые значения на ноль, так как скорее всего там где не указано их просто нет"
   ]
  },
  {
   "cell_type": "code",
   "execution_count": 14,
   "metadata": {},
   "outputs": [],
   "source": [
    "df.loc[df['balcony'].isna(), 'balcony'] = 0"
   ]
  },
  {
   "cell_type": "markdown",
   "metadata": {},
   "source": [
    "locality_name Очень мало пропусков, просто удалим их"
   ]
  },
  {
   "cell_type": "code",
   "execution_count": 15,
   "metadata": {},
   "outputs": [],
   "source": [
    "df.dropna(subset=['locality_name'], inplace=True)"
   ]
  },
  {
   "cell_type": "code",
   "execution_count": 16,
   "metadata": {},
   "outputs": [
    {
     "name": "stdout",
     "output_type": "stream",
     "text": [
      "['Санкт-Петербург' 'посёлок Шушары' 'городской посёлок Янино-1'\n",
      " 'посёлок Парголово' 'посёлок Мурино' 'Ломоносов' 'Сертолово' 'Петергоф'\n",
      " 'Пушкин' 'деревня Кудрово' 'Коммунар' 'Колпино'\n",
      " 'поселок городского типа Красный Бор' 'Гатчина' 'поселок Мурино'\n",
      " 'деревня Фёдоровское' 'Выборг' 'Кронштадт' 'Кировск'\n",
      " 'деревня Новое Девяткино' 'посёлок Металлострой'\n",
      " 'посёлок городского типа Лебяжье' 'посёлок городского типа Сиверский'\n",
      " 'поселок Молодцово' 'поселок городского типа Кузьмоловский'\n",
      " 'садовое товарищество Новая Ропша' 'Павловск' 'деревня Пикколово'\n",
      " 'Всеволожск' 'Волхов' 'Кингисепп' 'Приозерск' 'Сестрорецк'\n",
      " 'деревня Куттузи' 'посёлок Аннино' 'поселок городского типа Ефимовский'\n",
      " 'посёлок Плодовое' 'деревня Заклинье' 'поселок Торковичи'\n",
      " 'поселок Первомайское' 'Красное Село' 'посёлок Понтонный' 'Сясьстрой'\n",
      " 'деревня Старая' 'деревня Лесколово' 'посёлок Новый Свет' 'Сланцы'\n",
      " 'село Путилово' 'Ивангород' 'Мурино' 'Шлиссельбург' 'Никольское'\n",
      " 'Зеленогорск' 'Сосновый Бор' 'поселок Новый Свет' 'деревня Оржицы'\n",
      " 'деревня Кальтино' 'Кудрово' 'поселок Романовка' 'посёлок Бугры'\n",
      " 'поселок Бугры' 'поселок городского типа Рощино' 'Кириши' 'Луга'\n",
      " 'Волосово' 'Отрадное' 'село Павлово' 'поселок Оредеж' 'село Копорье'\n",
      " 'посёлок городского типа Красный Бор' 'посёлок Молодёжное' 'Тихвин'\n",
      " 'посёлок Победа' 'деревня Нурма' 'поселок городского типа Синявино'\n",
      " 'Тосно' 'посёлок городского типа Кузьмоловский' 'посёлок Стрельна'\n",
      " 'Бокситогорск' 'посёлок Александровская' 'деревня Лопухинка' 'Пикалёво'\n",
      " 'поселок Терволово' 'поселок городского типа Советский' 'Подпорожье'\n",
      " 'посёлок Петровское' 'посёлок городского типа Токсово' 'поселок Сельцо'\n",
      " 'посёлок городского типа Вырица' 'деревня Кипень' 'деревня Келози'\n",
      " 'деревня Вартемяги' 'посёлок Тельмана' 'поселок Севастьяново'\n",
      " 'городской поселок Большая Ижора' 'городской посёлок Павлово'\n",
      " 'деревня Агалатово' 'посёлок Новогорелово'\n",
      " 'городской посёлок Лесогорский' 'деревня Лаголово' 'поселок Цвелодубово'\n",
      " 'поселок городского типа Рахья' 'поселок городского типа Вырица'\n",
      " 'деревня Белогорка' 'поселок Заводской' 'городской посёлок Новоселье'\n",
      " 'деревня Большие Колпаны' 'деревня Горбунки' 'деревня Батово'\n",
      " 'деревня Заневка' 'деревня Иссад' 'Приморск'\n",
      " 'городской посёлок Фёдоровское' 'деревня Мистолово' 'Новая Ладога'\n",
      " 'поселок Зимитицы' 'поселок Барышево' 'деревня Разметелево'\n",
      " 'поселок городского типа имени Свердлова' 'деревня Пеники'\n",
      " 'поселок Рябово' 'деревня Пудомяги' 'поселок станции Корнево'\n",
      " 'деревня Низино' 'деревня Бегуницы' 'посёлок Поляны'\n",
      " 'городской посёлок Мга' 'поселок Елизаветино'\n",
      " 'посёлок городского типа Кузнечное' 'деревня Колтуши'\n",
      " 'поселок Запорожское' 'посёлок городского типа Рощино'\n",
      " 'деревня Гостилицы' 'деревня Малое Карлино' 'посёлок Мичуринское'\n",
      " 'посёлок городского типа имени Морозова' 'посёлок Песочный'\n",
      " 'посёлок Сосново' 'деревня Аро' 'поселок Ильичёво'\n",
      " 'посёлок городского типа Тайцы' 'деревня Малое Верево' 'деревня Извара'\n",
      " 'поселок станции Вещево' 'село Паша' 'деревня Калитино'\n",
      " 'посёлок городского типа Ульяновка' 'деревня Чудской Бор'\n",
      " 'поселок городского типа Дубровка' 'деревня Мины' 'поселок Войсковицы'\n",
      " 'посёлок городского типа имени Свердлова' 'деревня Коркино'\n",
      " 'посёлок Ропша' 'поселок городского типа Приладожский' 'посёлок Щеглово'\n",
      " 'посёлок Гаврилово' 'Лодейное Поле' 'деревня Рабитицы'\n",
      " 'поселок городского типа Никольский' 'деревня Кузьмолово'\n",
      " 'деревня Малые Колпаны' 'поселок Тельмана' 'посёлок Петро-Славянка'\n",
      " 'городской посёлок Назия' 'посёлок Репино' 'посёлок Ильичёво'\n",
      " 'поселок Углово' 'поселок Старая Малукса' 'садовое товарищество Рахья'\n",
      " 'поселок Аннино' 'поселок Победа' 'деревня Меньково'\n",
      " 'деревня Старые Бегуницы' 'посёлок Сапёрный' 'поселок Семрино'\n",
      " 'поселок Гаврилово' 'поселок Глажево' 'поселок Кобринское'\n",
      " 'деревня Гарболово' 'деревня Юкки' 'поселок станции Приветнинское'\n",
      " 'деревня Мануйлово' 'деревня Пчева' 'поселок Поляны' 'поселок Цвылёво'\n",
      " 'поселок Мельниково' 'посёлок Пудость' 'посёлок Усть-Луга' 'Светогорск'\n",
      " 'Любань' 'поселок Селезнёво' 'поселок городского типа Рябово'\n",
      " 'Каменногорск' 'деревня Кривко' 'поселок Глебычево' 'деревня Парицы'\n",
      " 'поселок Жилпосёлок' 'посёлок городского типа Мга'\n",
      " 'городской поселок Янино-1' 'посёлок Войскорово' 'село Никольское'\n",
      " 'посёлок Терволово' 'поселок Стеклянный' 'посёлок городского типа Важины'\n",
      " 'посёлок Мыза-Ивановка' 'село Русско-Высоцкое'\n",
      " 'поселок городского типа Лебяжье' 'поселок городского типа Форносово'\n",
      " 'село Старая Ладога' 'поселок Житково' 'городской посёлок Виллози'\n",
      " 'деревня Лампово' 'деревня Шпаньково' 'деревня Лаврики' 'посёлок Сумино'\n",
      " 'посёлок Возрождение' 'деревня Старосиверская' 'посёлок Кикерино'\n",
      " 'поселок Возрождение' 'деревня Старое Хинколово' 'посёлок Пригородный'\n",
      " 'посёлок Торфяное' 'городской посёлок Будогощь' 'поселок Суходолье'\n",
      " 'поселок Красная Долина' 'деревня Хапо-Ое'\n",
      " 'поселок городского типа Дружная Горка' 'поселок Лисий Нос'\n",
      " 'деревня Яльгелево' 'посёлок Стеклянный' 'село Рождествено'\n",
      " 'деревня Старополье' 'посёлок Левашово' 'деревня Сяськелево'\n",
      " 'деревня Камышовка'\n",
      " 'садоводческое некоммерческое товарищество Лесная Поляна'\n",
      " 'деревня Хязельки' 'поселок Жилгородок' 'посёлок городского типа Павлово'\n",
      " 'деревня Ялгино' 'поселок Новый Учхоз' 'городской посёлок Рощино'\n",
      " 'поселок Гончарово' 'поселок Почап' 'посёлок Сапёрное'\n",
      " 'посёлок Платформа 69-й километр' 'поселок Каложицы' 'деревня Фалилеево'\n",
      " 'деревня Пельгора' 'поселок городского типа Лесогорский'\n",
      " 'деревня Торошковичи' 'посёлок Белоостров' 'посёлок Алексеевка'\n",
      " 'поселок Серебрянский' 'поселок Лукаши' 'поселок Петровское'\n",
      " 'деревня Щеглово' 'поселок Мичуринское' 'деревня Тарасово'\n",
      " 'поселок Кингисеппский' 'посёлок при железнодорожной станции Вещево'\n",
      " 'поселок Ушаки' 'деревня Котлы' 'деревня Сижно' 'деревня Торосово'\n",
      " 'посёлок Форт Красная Горка' 'деревня Новолисино'\n",
      " 'посёлок станции Громово' 'деревня Глинка' 'посёлок Мельниково'\n",
      " 'поселок городского типа Назия' 'деревня Старая Пустошь'\n",
      " 'поселок Коммунары' 'поселок Починок'\n",
      " 'посёлок городского типа Вознесенье' 'деревня Разбегаево'\n",
      " 'посёлок городского типа Рябово' 'поселок Гладкое'\n",
      " 'посёлок при железнодорожной станции Приветнинское' 'поселок Тёсово-4'\n",
      " 'посёлок Жилгородок' 'деревня Бор' 'посёлок Коробицыно'\n",
      " 'деревня Большая Вруда' 'деревня Курковицы' 'посёлок Лисий Нос'\n",
      " 'городской посёлок Советский' 'посёлок Кобралово' 'деревня Суоранда'\n",
      " 'поселок Кобралово' 'поселок городского типа Кондратьево'\n",
      " 'коттеджный поселок Счастье' 'поселок Любань' 'деревня Реброво'\n",
      " 'деревня Зимитицы' 'деревня Тойворово' 'поселок Семиозерье'\n",
      " 'поселок Лесное' 'поселок Совхозный' 'поселок Усть-Луга'\n",
      " 'посёлок Ленинское' 'посёлок Суйда' 'посёлок городского типа Форносово'\n",
      " 'деревня Нижние Осельки' 'посёлок станции Свирь' 'поселок Перово'\n",
      " 'Высоцк' 'поселок Гарболово' 'село Шум' 'поселок Котельский'\n",
      " 'поселок станции Лужайка' 'деревня Большая Пустомержа'\n",
      " 'поселок Красносельское' 'деревня Вахнова Кара' 'деревня Пижма'\n",
      " 'коттеджный поселок Кивеннапа Север' 'поселок Коробицыно'\n",
      " 'поселок Ромашки' 'посёлок Перово' 'деревня Каськово' 'деревня Куровицы'\n",
      " 'посёлок Плоское' 'поселок Сумино'\n",
      " 'поселок городского типа Большая Ижора' 'поселок Кирпичное'\n",
      " 'деревня Ям-Тесово' 'деревня Раздолье' 'деревня Терпилицы'\n",
      " 'поселок городского типа Токсово' 'посёлок Шугозеро' 'деревня Ваганово'\n",
      " 'поселок Пушное' 'садовое товарищество Садко' 'посёлок Усть-Ижора'\n",
      " 'деревня Выскатка' 'городской посёлок Свирьстрой' 'поселок Громово'\n",
      " 'деревня Кисельня' 'посёлок Старая Малукса' 'деревня Трубников Бор'\n",
      " 'поселок Калитино' 'посёлок Высокоключевой'\n",
      " 'садовое товарищество Приладожский' 'посёлок Пансионат Зелёный Бор'\n",
      " 'деревня Ненимяки' 'поселок Пансионат Зелёный Бор' 'деревня Снегирёвка'\n",
      " 'деревня Рапполово' 'деревня Пустынка' 'поселок Рабитицы'\n",
      " 'деревня Большой Сабск' 'деревня Русско' 'деревня Лупполово'\n",
      " 'деревня Большое Рейзино' 'деревня Малая Романовка' 'поселок Дружноселье'\n",
      " 'поселок Пчевжа' 'поселок Володарское' 'деревня Нижняя'\n",
      " 'коттеджный посёлок Лесное' 'деревня Тихковицы' 'деревня Борисова Грива'\n",
      " 'посёлок Дзержинского']\n"
     ]
    }
   ],
   "source": [
    "print(df['locality_name'].unique())"
   ]
  },
  {
   "cell_type": "markdown",
   "metadata": {},
   "source": [
    "Видим, что многие одинаковые населенные пукнты записаны по разному. С помощью функции split разделим слова в строке и оставим только названия населенных пунктов."
   ]
  },
  {
   "cell_type": "code",
   "execution_count": 17,
   "metadata": {},
   "outputs": [],
   "source": [
    "df['split_name'] = df['locality_name'].str.split()"
   ]
  },
  {
   "cell_type": "code",
   "execution_count": 18,
   "metadata": {},
   "outputs": [],
   "source": [
    "def change_name(split_n):\n",
    "    for i in split_n:\n",
    "        if i.istitle():\n",
    "            return i"
   ]
  },
  {
   "cell_type": "code",
   "execution_count": 19,
   "metadata": {},
   "outputs": [],
   "source": [
    "df['locality_name'] = df['split_name'].apply(change_name)"
   ]
  },
  {
   "cell_type": "code",
   "execution_count": 20,
   "metadata": {},
   "outputs": [
    {
     "data": {
      "text/plain": [
       "0"
      ]
     },
     "execution_count": 20,
     "metadata": {},
     "output_type": "execute_result"
    }
   ],
   "source": [
    "len(df[df['locality_name'].isna()])"
   ]
  },
  {
   "cell_type": "markdown",
   "metadata": {},
   "source": [
    "parks_around3000 Предположим, что отсутствие значений указывает на то, что рядом парков нет. Заменим отсутствующие значения на 0"
   ]
  },
  {
   "cell_type": "code",
   "execution_count": 23,
   "metadata": {},
   "outputs": [],
   "source": [
    "df['parks_around3000'] = df['parks_around3000'].fillna(value=0)"
   ]
  },
  {
   "cell_type": "markdown",
   "metadata": {},
   "source": [
    "parks_nearest Заменим пустые значение согласно количеству парков в зоне 3км."
   ]
  },
  {
   "cell_type": "code",
   "execution_count": 24,
   "metadata": {},
   "outputs": [
    {
     "name": "stdout",
     "output_type": "stream",
     "text": [
      "parks_around3000\n",
      "0.0    3127.0\n",
      "1.0     501.0\n",
      "2.0     366.0\n",
      "3.0     307.0\n",
      "Name: parks_nearest, dtype: float64\n"
     ]
    }
   ],
   "source": [
    "print(df.groupby('parks_around3000')['parks_nearest'].median())"
   ]
  },
  {
   "cell_type": "code",
   "execution_count": 25,
   "metadata": {},
   "outputs": [
    {
     "data": {
      "text/html": [
       "<div>\n",
       "<style scoped>\n",
       "    .dataframe tbody tr th:only-of-type {\n",
       "        vertical-align: middle;\n",
       "    }\n",
       "\n",
       "    .dataframe tbody tr th {\n",
       "        vertical-align: top;\n",
       "    }\n",
       "\n",
       "    .dataframe thead th {\n",
       "        text-align: right;\n",
       "    }\n",
       "</style>\n",
       "<table border=\"1\" class=\"dataframe\">\n",
       "  <thead>\n",
       "    <tr style=\"text-align: right;\">\n",
       "      <th></th>\n",
       "      <th>total_images</th>\n",
       "      <th>last_price</th>\n",
       "      <th>total_area</th>\n",
       "      <th>first_day_exposition</th>\n",
       "      <th>rooms</th>\n",
       "      <th>ceiling_height</th>\n",
       "      <th>floors_total</th>\n",
       "      <th>living_area</th>\n",
       "      <th>floor</th>\n",
       "      <th>is_apartment</th>\n",
       "      <th>...</th>\n",
       "      <th>locality_name</th>\n",
       "      <th>airports_nearest</th>\n",
       "      <th>cityCenters_nearest</th>\n",
       "      <th>parks_around3000</th>\n",
       "      <th>parks_nearest</th>\n",
       "      <th>ponds_around3000</th>\n",
       "      <th>ponds_nearest</th>\n",
       "      <th>days_exposition</th>\n",
       "      <th>area_group</th>\n",
       "      <th>split_name</th>\n",
       "    </tr>\n",
       "  </thead>\n",
       "  <tbody>\n",
       "    <tr>\n",
       "      <td>0</td>\n",
       "      <td>20</td>\n",
       "      <td>13000000.0</td>\n",
       "      <td>108.00</td>\n",
       "      <td>2019-03-07T00:00:00</td>\n",
       "      <td>3</td>\n",
       "      <td>2.70</td>\n",
       "      <td>16.0</td>\n",
       "      <td>51.00</td>\n",
       "      <td>8</td>\n",
       "      <td>False</td>\n",
       "      <td>...</td>\n",
       "      <td>Санкт-Петербург</td>\n",
       "      <td>18863.0</td>\n",
       "      <td>16028.0</td>\n",
       "      <td>1.0</td>\n",
       "      <td>482.0</td>\n",
       "      <td>2.0</td>\n",
       "      <td>755.0</td>\n",
       "      <td>NaN</td>\n",
       "      <td>огромная площадь</td>\n",
       "      <td>[Санкт-Петербург]</td>\n",
       "    </tr>\n",
       "    <tr>\n",
       "      <td>1</td>\n",
       "      <td>7</td>\n",
       "      <td>3350000.0</td>\n",
       "      <td>40.40</td>\n",
       "      <td>2018-12-04T00:00:00</td>\n",
       "      <td>1</td>\n",
       "      <td>NaN</td>\n",
       "      <td>11.0</td>\n",
       "      <td>18.60</td>\n",
       "      <td>1</td>\n",
       "      <td>False</td>\n",
       "      <td>...</td>\n",
       "      <td>Шушары</td>\n",
       "      <td>12817.0</td>\n",
       "      <td>18603.0</td>\n",
       "      <td>0.0</td>\n",
       "      <td>3127.0</td>\n",
       "      <td>0.0</td>\n",
       "      <td>NaN</td>\n",
       "      <td>81.0</td>\n",
       "      <td>средняя площадь</td>\n",
       "      <td>[посёлок, Шушары]</td>\n",
       "    </tr>\n",
       "    <tr>\n",
       "      <td>2</td>\n",
       "      <td>10</td>\n",
       "      <td>5196000.0</td>\n",
       "      <td>56.00</td>\n",
       "      <td>2015-08-20T00:00:00</td>\n",
       "      <td>2</td>\n",
       "      <td>NaN</td>\n",
       "      <td>5.0</td>\n",
       "      <td>34.30</td>\n",
       "      <td>4</td>\n",
       "      <td>False</td>\n",
       "      <td>...</td>\n",
       "      <td>Санкт-Петербург</td>\n",
       "      <td>21741.0</td>\n",
       "      <td>13933.0</td>\n",
       "      <td>1.0</td>\n",
       "      <td>90.0</td>\n",
       "      <td>2.0</td>\n",
       "      <td>574.0</td>\n",
       "      <td>558.0</td>\n",
       "      <td>большая площадь</td>\n",
       "      <td>[Санкт-Петербург]</td>\n",
       "    </tr>\n",
       "    <tr>\n",
       "      <td>3</td>\n",
       "      <td>0</td>\n",
       "      <td>64900000.0</td>\n",
       "      <td>159.00</td>\n",
       "      <td>2015-07-24T00:00:00</td>\n",
       "      <td>3</td>\n",
       "      <td>NaN</td>\n",
       "      <td>14.0</td>\n",
       "      <td>51.35</td>\n",
       "      <td>9</td>\n",
       "      <td>False</td>\n",
       "      <td>...</td>\n",
       "      <td>Санкт-Петербург</td>\n",
       "      <td>28098.0</td>\n",
       "      <td>6800.0</td>\n",
       "      <td>2.0</td>\n",
       "      <td>84.0</td>\n",
       "      <td>3.0</td>\n",
       "      <td>234.0</td>\n",
       "      <td>424.0</td>\n",
       "      <td>огромная площадь</td>\n",
       "      <td>[Санкт-Петербург]</td>\n",
       "    </tr>\n",
       "    <tr>\n",
       "      <td>4</td>\n",
       "      <td>2</td>\n",
       "      <td>10000000.0</td>\n",
       "      <td>100.00</td>\n",
       "      <td>2018-06-19T00:00:00</td>\n",
       "      <td>2</td>\n",
       "      <td>3.03</td>\n",
       "      <td>14.0</td>\n",
       "      <td>32.00</td>\n",
       "      <td>13</td>\n",
       "      <td>False</td>\n",
       "      <td>...</td>\n",
       "      <td>Санкт-Петербург</td>\n",
       "      <td>31856.0</td>\n",
       "      <td>8098.0</td>\n",
       "      <td>2.0</td>\n",
       "      <td>112.0</td>\n",
       "      <td>1.0</td>\n",
       "      <td>48.0</td>\n",
       "      <td>121.0</td>\n",
       "      <td>огромная площадь</td>\n",
       "      <td>[Санкт-Петербург]</td>\n",
       "    </tr>\n",
       "    <tr>\n",
       "      <td>...</td>\n",
       "      <td>...</td>\n",
       "      <td>...</td>\n",
       "      <td>...</td>\n",
       "      <td>...</td>\n",
       "      <td>...</td>\n",
       "      <td>...</td>\n",
       "      <td>...</td>\n",
       "      <td>...</td>\n",
       "      <td>...</td>\n",
       "      <td>...</td>\n",
       "      <td>...</td>\n",
       "      <td>...</td>\n",
       "      <td>...</td>\n",
       "      <td>...</td>\n",
       "      <td>...</td>\n",
       "      <td>...</td>\n",
       "      <td>...</td>\n",
       "      <td>...</td>\n",
       "      <td>...</td>\n",
       "      <td>...</td>\n",
       "      <td>...</td>\n",
       "    </tr>\n",
       "    <tr>\n",
       "      <td>23694</td>\n",
       "      <td>9</td>\n",
       "      <td>9700000.0</td>\n",
       "      <td>133.81</td>\n",
       "      <td>2017-03-21T00:00:00</td>\n",
       "      <td>3</td>\n",
       "      <td>3.70</td>\n",
       "      <td>5.0</td>\n",
       "      <td>73.30</td>\n",
       "      <td>3</td>\n",
       "      <td>False</td>\n",
       "      <td>...</td>\n",
       "      <td>Санкт-Петербург</td>\n",
       "      <td>24665.0</td>\n",
       "      <td>4232.0</td>\n",
       "      <td>1.0</td>\n",
       "      <td>796.0</td>\n",
       "      <td>3.0</td>\n",
       "      <td>381.0</td>\n",
       "      <td>NaN</td>\n",
       "      <td>огромная площадь</td>\n",
       "      <td>[Санкт-Петербург]</td>\n",
       "    </tr>\n",
       "    <tr>\n",
       "      <td>23695</td>\n",
       "      <td>14</td>\n",
       "      <td>3100000.0</td>\n",
       "      <td>59.00</td>\n",
       "      <td>2018-01-15T00:00:00</td>\n",
       "      <td>3</td>\n",
       "      <td>NaN</td>\n",
       "      <td>5.0</td>\n",
       "      <td>38.00</td>\n",
       "      <td>4</td>\n",
       "      <td>False</td>\n",
       "      <td>...</td>\n",
       "      <td>Тосно</td>\n",
       "      <td>NaN</td>\n",
       "      <td>NaN</td>\n",
       "      <td>0.0</td>\n",
       "      <td>3127.0</td>\n",
       "      <td>NaN</td>\n",
       "      <td>NaN</td>\n",
       "      <td>45.0</td>\n",
       "      <td>большая площадь</td>\n",
       "      <td>[Тосно]</td>\n",
       "    </tr>\n",
       "    <tr>\n",
       "      <td>23696</td>\n",
       "      <td>18</td>\n",
       "      <td>2500000.0</td>\n",
       "      <td>56.70</td>\n",
       "      <td>2018-02-11T00:00:00</td>\n",
       "      <td>2</td>\n",
       "      <td>NaN</td>\n",
       "      <td>3.0</td>\n",
       "      <td>29.70</td>\n",
       "      <td>1</td>\n",
       "      <td>False</td>\n",
       "      <td>...</td>\n",
       "      <td>Рождествено</td>\n",
       "      <td>NaN</td>\n",
       "      <td>NaN</td>\n",
       "      <td>0.0</td>\n",
       "      <td>3127.0</td>\n",
       "      <td>NaN</td>\n",
       "      <td>NaN</td>\n",
       "      <td>NaN</td>\n",
       "      <td>большая площадь</td>\n",
       "      <td>[село, Рождествено]</td>\n",
       "    </tr>\n",
       "    <tr>\n",
       "      <td>23697</td>\n",
       "      <td>13</td>\n",
       "      <td>11475000.0</td>\n",
       "      <td>76.75</td>\n",
       "      <td>2017-03-28T00:00:00</td>\n",
       "      <td>2</td>\n",
       "      <td>3.00</td>\n",
       "      <td>17.0</td>\n",
       "      <td>51.35</td>\n",
       "      <td>12</td>\n",
       "      <td>False</td>\n",
       "      <td>...</td>\n",
       "      <td>Санкт-Петербург</td>\n",
       "      <td>39140.0</td>\n",
       "      <td>10364.0</td>\n",
       "      <td>2.0</td>\n",
       "      <td>173.0</td>\n",
       "      <td>3.0</td>\n",
       "      <td>196.0</td>\n",
       "      <td>602.0</td>\n",
       "      <td>огромная площадь</td>\n",
       "      <td>[Санкт-Петербург]</td>\n",
       "    </tr>\n",
       "    <tr>\n",
       "      <td>23698</td>\n",
       "      <td>4</td>\n",
       "      <td>1350000.0</td>\n",
       "      <td>32.30</td>\n",
       "      <td>2017-07-21T00:00:00</td>\n",
       "      <td>1</td>\n",
       "      <td>2.50</td>\n",
       "      <td>5.0</td>\n",
       "      <td>12.30</td>\n",
       "      <td>1</td>\n",
       "      <td>False</td>\n",
       "      <td>...</td>\n",
       "      <td>Новый</td>\n",
       "      <td>NaN</td>\n",
       "      <td>NaN</td>\n",
       "      <td>0.0</td>\n",
       "      <td>3127.0</td>\n",
       "      <td>NaN</td>\n",
       "      <td>NaN</td>\n",
       "      <td>NaN</td>\n",
       "      <td>маленькая площадь</td>\n",
       "      <td>[поселок, Новый, Учхоз]</td>\n",
       "    </tr>\n",
       "  </tbody>\n",
       "</table>\n",
       "<p>23565 rows × 24 columns</p>\n",
       "</div>"
      ],
      "text/plain": [
       "       total_images  last_price  total_area first_day_exposition  rooms  \\\n",
       "0                20  13000000.0      108.00  2019-03-07T00:00:00      3   \n",
       "1                 7   3350000.0       40.40  2018-12-04T00:00:00      1   \n",
       "2                10   5196000.0       56.00  2015-08-20T00:00:00      2   \n",
       "3                 0  64900000.0      159.00  2015-07-24T00:00:00      3   \n",
       "4                 2  10000000.0      100.00  2018-06-19T00:00:00      2   \n",
       "...             ...         ...         ...                  ...    ...   \n",
       "23694             9   9700000.0      133.81  2017-03-21T00:00:00      3   \n",
       "23695            14   3100000.0       59.00  2018-01-15T00:00:00      3   \n",
       "23696            18   2500000.0       56.70  2018-02-11T00:00:00      2   \n",
       "23697            13  11475000.0       76.75  2017-03-28T00:00:00      2   \n",
       "23698             4   1350000.0       32.30  2017-07-21T00:00:00      1   \n",
       "\n",
       "       ceiling_height  floors_total  living_area  floor  is_apartment  ...  \\\n",
       "0                2.70          16.0        51.00      8         False  ...   \n",
       "1                 NaN          11.0        18.60      1         False  ...   \n",
       "2                 NaN           5.0        34.30      4         False  ...   \n",
       "3                 NaN          14.0        51.35      9         False  ...   \n",
       "4                3.03          14.0        32.00     13         False  ...   \n",
       "...               ...           ...          ...    ...           ...  ...   \n",
       "23694            3.70           5.0        73.30      3         False  ...   \n",
       "23695             NaN           5.0        38.00      4         False  ...   \n",
       "23696             NaN           3.0        29.70      1         False  ...   \n",
       "23697            3.00          17.0        51.35     12         False  ...   \n",
       "23698            2.50           5.0        12.30      1         False  ...   \n",
       "\n",
       "         locality_name  airports_nearest  cityCenters_nearest  \\\n",
       "0      Санкт-Петербург           18863.0              16028.0   \n",
       "1               Шушары           12817.0              18603.0   \n",
       "2      Санкт-Петербург           21741.0              13933.0   \n",
       "3      Санкт-Петербург           28098.0               6800.0   \n",
       "4      Санкт-Петербург           31856.0               8098.0   \n",
       "...                ...               ...                  ...   \n",
       "23694  Санкт-Петербург           24665.0               4232.0   \n",
       "23695            Тосно               NaN                  NaN   \n",
       "23696      Рождествено               NaN                  NaN   \n",
       "23697  Санкт-Петербург           39140.0              10364.0   \n",
       "23698            Новый               NaN                  NaN   \n",
       "\n",
       "       parks_around3000 parks_nearest  ponds_around3000  ponds_nearest  \\\n",
       "0                   1.0         482.0               2.0          755.0   \n",
       "1                   0.0        3127.0               0.0            NaN   \n",
       "2                   1.0          90.0               2.0          574.0   \n",
       "3                   2.0          84.0               3.0          234.0   \n",
       "4                   2.0         112.0               1.0           48.0   \n",
       "...                 ...           ...               ...            ...   \n",
       "23694               1.0         796.0               3.0          381.0   \n",
       "23695               0.0        3127.0               NaN            NaN   \n",
       "23696               0.0        3127.0               NaN            NaN   \n",
       "23697               2.0         173.0               3.0          196.0   \n",
       "23698               0.0        3127.0               NaN            NaN   \n",
       "\n",
       "       days_exposition         area_group               split_name  \n",
       "0                  NaN   огромная площадь        [Санкт-Петербург]  \n",
       "1                 81.0    средняя площадь        [посёлок, Шушары]  \n",
       "2                558.0    большая площадь        [Санкт-Петербург]  \n",
       "3                424.0   огромная площадь        [Санкт-Петербург]  \n",
       "4                121.0   огромная площадь        [Санкт-Петербург]  \n",
       "...                ...                ...                      ...  \n",
       "23694              NaN   огромная площадь        [Санкт-Петербург]  \n",
       "23695             45.0    большая площадь                  [Тосно]  \n",
       "23696              NaN    большая площадь      [село, Рождествено]  \n",
       "23697            602.0   огромная площадь        [Санкт-Петербург]  \n",
       "23698              NaN  маленькая площадь  [поселок, Новый, Учхоз]  \n",
       "\n",
       "[23565 rows x 24 columns]"
      ]
     },
     "execution_count": 25,
     "metadata": {},
     "output_type": "execute_result"
    }
   ],
   "source": [
    "no_null(df, 'parks_around3000', 'parks_nearest')"
   ]
  },
  {
   "cell_type": "markdown",
   "metadata": {},
   "source": [
    "ponds_around3000 Предположим, что отсутствие значений указывает на то, что рядом водоемов нет. Заменим отсутствующие значения на 0"
   ]
  },
  {
   "cell_type": "code",
   "execution_count": 26,
   "metadata": {},
   "outputs": [],
   "source": [
    "df['ponds_around3000'] = df['ponds_around3000'].fillna(value=0)"
   ]
  },
  {
   "cell_type": "markdown",
   "metadata": {},
   "source": [
    "ponds_nearest Заменим пустые значение согласно количеству водоемов в зоне 3км."
   ]
  },
  {
   "cell_type": "code",
   "execution_count": 27,
   "metadata": {},
   "outputs": [
    {
     "name": "stdout",
     "output_type": "stream",
     "text": [
      "ponds_around3000\n",
      "0.0      NaN\n",
      "1.0    594.0\n",
      "2.0    436.0\n",
      "3.0    305.0\n",
      "Name: ponds_nearest, dtype: float64\n"
     ]
    }
   ],
   "source": [
    "print(df.groupby('ponds_around3000')['ponds_nearest'].median())"
   ]
  },
  {
   "cell_type": "markdown",
   "metadata": {},
   "source": [
    "Видим, что нет ни одного значения с количеством водоемов 0, поэтому логично заменим на 3100 метров. "
   ]
  },
  {
   "cell_type": "code",
   "execution_count": 28,
   "metadata": {},
   "outputs": [],
   "source": [
    "df.loc[(df['ponds_nearest'].isna()) & (df['ponds_around3000'] == 0), 'ponds_nearest'] = 3100"
   ]
  },
  {
   "cell_type": "code",
   "execution_count": 29,
   "metadata": {
    "scrolled": true
   },
   "outputs": [
    {
     "data": {
      "text/html": [
       "<div>\n",
       "<style scoped>\n",
       "    .dataframe tbody tr th:only-of-type {\n",
       "        vertical-align: middle;\n",
       "    }\n",
       "\n",
       "    .dataframe tbody tr th {\n",
       "        vertical-align: top;\n",
       "    }\n",
       "\n",
       "    .dataframe thead th {\n",
       "        text-align: right;\n",
       "    }\n",
       "</style>\n",
       "<table border=\"1\" class=\"dataframe\">\n",
       "  <thead>\n",
       "    <tr style=\"text-align: right;\">\n",
       "      <th></th>\n",
       "      <th>total_images</th>\n",
       "      <th>last_price</th>\n",
       "      <th>total_area</th>\n",
       "      <th>first_day_exposition</th>\n",
       "      <th>rooms</th>\n",
       "      <th>ceiling_height</th>\n",
       "      <th>floors_total</th>\n",
       "      <th>living_area</th>\n",
       "      <th>floor</th>\n",
       "      <th>is_apartment</th>\n",
       "      <th>...</th>\n",
       "      <th>locality_name</th>\n",
       "      <th>airports_nearest</th>\n",
       "      <th>cityCenters_nearest</th>\n",
       "      <th>parks_around3000</th>\n",
       "      <th>parks_nearest</th>\n",
       "      <th>ponds_around3000</th>\n",
       "      <th>ponds_nearest</th>\n",
       "      <th>days_exposition</th>\n",
       "      <th>area_group</th>\n",
       "      <th>split_name</th>\n",
       "    </tr>\n",
       "  </thead>\n",
       "  <tbody>\n",
       "    <tr>\n",
       "      <td>0</td>\n",
       "      <td>20</td>\n",
       "      <td>13000000.0</td>\n",
       "      <td>108.00</td>\n",
       "      <td>2019-03-07T00:00:00</td>\n",
       "      <td>3</td>\n",
       "      <td>2.70</td>\n",
       "      <td>16.0</td>\n",
       "      <td>51.00</td>\n",
       "      <td>8</td>\n",
       "      <td>False</td>\n",
       "      <td>...</td>\n",
       "      <td>Санкт-Петербург</td>\n",
       "      <td>18863.0</td>\n",
       "      <td>16028.0</td>\n",
       "      <td>1.0</td>\n",
       "      <td>482.0</td>\n",
       "      <td>2.0</td>\n",
       "      <td>755.0</td>\n",
       "      <td>NaN</td>\n",
       "      <td>огромная площадь</td>\n",
       "      <td>[Санкт-Петербург]</td>\n",
       "    </tr>\n",
       "    <tr>\n",
       "      <td>1</td>\n",
       "      <td>7</td>\n",
       "      <td>3350000.0</td>\n",
       "      <td>40.40</td>\n",
       "      <td>2018-12-04T00:00:00</td>\n",
       "      <td>1</td>\n",
       "      <td>NaN</td>\n",
       "      <td>11.0</td>\n",
       "      <td>18.60</td>\n",
       "      <td>1</td>\n",
       "      <td>False</td>\n",
       "      <td>...</td>\n",
       "      <td>Шушары</td>\n",
       "      <td>12817.0</td>\n",
       "      <td>18603.0</td>\n",
       "      <td>0.0</td>\n",
       "      <td>3127.0</td>\n",
       "      <td>0.0</td>\n",
       "      <td>3100.0</td>\n",
       "      <td>81.0</td>\n",
       "      <td>средняя площадь</td>\n",
       "      <td>[посёлок, Шушары]</td>\n",
       "    </tr>\n",
       "    <tr>\n",
       "      <td>2</td>\n",
       "      <td>10</td>\n",
       "      <td>5196000.0</td>\n",
       "      <td>56.00</td>\n",
       "      <td>2015-08-20T00:00:00</td>\n",
       "      <td>2</td>\n",
       "      <td>NaN</td>\n",
       "      <td>5.0</td>\n",
       "      <td>34.30</td>\n",
       "      <td>4</td>\n",
       "      <td>False</td>\n",
       "      <td>...</td>\n",
       "      <td>Санкт-Петербург</td>\n",
       "      <td>21741.0</td>\n",
       "      <td>13933.0</td>\n",
       "      <td>1.0</td>\n",
       "      <td>90.0</td>\n",
       "      <td>2.0</td>\n",
       "      <td>574.0</td>\n",
       "      <td>558.0</td>\n",
       "      <td>большая площадь</td>\n",
       "      <td>[Санкт-Петербург]</td>\n",
       "    </tr>\n",
       "    <tr>\n",
       "      <td>3</td>\n",
       "      <td>0</td>\n",
       "      <td>64900000.0</td>\n",
       "      <td>159.00</td>\n",
       "      <td>2015-07-24T00:00:00</td>\n",
       "      <td>3</td>\n",
       "      <td>NaN</td>\n",
       "      <td>14.0</td>\n",
       "      <td>51.35</td>\n",
       "      <td>9</td>\n",
       "      <td>False</td>\n",
       "      <td>...</td>\n",
       "      <td>Санкт-Петербург</td>\n",
       "      <td>28098.0</td>\n",
       "      <td>6800.0</td>\n",
       "      <td>2.0</td>\n",
       "      <td>84.0</td>\n",
       "      <td>3.0</td>\n",
       "      <td>234.0</td>\n",
       "      <td>424.0</td>\n",
       "      <td>огромная площадь</td>\n",
       "      <td>[Санкт-Петербург]</td>\n",
       "    </tr>\n",
       "    <tr>\n",
       "      <td>4</td>\n",
       "      <td>2</td>\n",
       "      <td>10000000.0</td>\n",
       "      <td>100.00</td>\n",
       "      <td>2018-06-19T00:00:00</td>\n",
       "      <td>2</td>\n",
       "      <td>3.03</td>\n",
       "      <td>14.0</td>\n",
       "      <td>32.00</td>\n",
       "      <td>13</td>\n",
       "      <td>False</td>\n",
       "      <td>...</td>\n",
       "      <td>Санкт-Петербург</td>\n",
       "      <td>31856.0</td>\n",
       "      <td>8098.0</td>\n",
       "      <td>2.0</td>\n",
       "      <td>112.0</td>\n",
       "      <td>1.0</td>\n",
       "      <td>48.0</td>\n",
       "      <td>121.0</td>\n",
       "      <td>огромная площадь</td>\n",
       "      <td>[Санкт-Петербург]</td>\n",
       "    </tr>\n",
       "    <tr>\n",
       "      <td>...</td>\n",
       "      <td>...</td>\n",
       "      <td>...</td>\n",
       "      <td>...</td>\n",
       "      <td>...</td>\n",
       "      <td>...</td>\n",
       "      <td>...</td>\n",
       "      <td>...</td>\n",
       "      <td>...</td>\n",
       "      <td>...</td>\n",
       "      <td>...</td>\n",
       "      <td>...</td>\n",
       "      <td>...</td>\n",
       "      <td>...</td>\n",
       "      <td>...</td>\n",
       "      <td>...</td>\n",
       "      <td>...</td>\n",
       "      <td>...</td>\n",
       "      <td>...</td>\n",
       "      <td>...</td>\n",
       "      <td>...</td>\n",
       "      <td>...</td>\n",
       "    </tr>\n",
       "    <tr>\n",
       "      <td>23694</td>\n",
       "      <td>9</td>\n",
       "      <td>9700000.0</td>\n",
       "      <td>133.81</td>\n",
       "      <td>2017-03-21T00:00:00</td>\n",
       "      <td>3</td>\n",
       "      <td>3.70</td>\n",
       "      <td>5.0</td>\n",
       "      <td>73.30</td>\n",
       "      <td>3</td>\n",
       "      <td>False</td>\n",
       "      <td>...</td>\n",
       "      <td>Санкт-Петербург</td>\n",
       "      <td>24665.0</td>\n",
       "      <td>4232.0</td>\n",
       "      <td>1.0</td>\n",
       "      <td>796.0</td>\n",
       "      <td>3.0</td>\n",
       "      <td>381.0</td>\n",
       "      <td>NaN</td>\n",
       "      <td>огромная площадь</td>\n",
       "      <td>[Санкт-Петербург]</td>\n",
       "    </tr>\n",
       "    <tr>\n",
       "      <td>23695</td>\n",
       "      <td>14</td>\n",
       "      <td>3100000.0</td>\n",
       "      <td>59.00</td>\n",
       "      <td>2018-01-15T00:00:00</td>\n",
       "      <td>3</td>\n",
       "      <td>NaN</td>\n",
       "      <td>5.0</td>\n",
       "      <td>38.00</td>\n",
       "      <td>4</td>\n",
       "      <td>False</td>\n",
       "      <td>...</td>\n",
       "      <td>Тосно</td>\n",
       "      <td>NaN</td>\n",
       "      <td>NaN</td>\n",
       "      <td>0.0</td>\n",
       "      <td>3127.0</td>\n",
       "      <td>0.0</td>\n",
       "      <td>3100.0</td>\n",
       "      <td>45.0</td>\n",
       "      <td>большая площадь</td>\n",
       "      <td>[Тосно]</td>\n",
       "    </tr>\n",
       "    <tr>\n",
       "      <td>23696</td>\n",
       "      <td>18</td>\n",
       "      <td>2500000.0</td>\n",
       "      <td>56.70</td>\n",
       "      <td>2018-02-11T00:00:00</td>\n",
       "      <td>2</td>\n",
       "      <td>NaN</td>\n",
       "      <td>3.0</td>\n",
       "      <td>29.70</td>\n",
       "      <td>1</td>\n",
       "      <td>False</td>\n",
       "      <td>...</td>\n",
       "      <td>Рождествено</td>\n",
       "      <td>NaN</td>\n",
       "      <td>NaN</td>\n",
       "      <td>0.0</td>\n",
       "      <td>3127.0</td>\n",
       "      <td>0.0</td>\n",
       "      <td>3100.0</td>\n",
       "      <td>NaN</td>\n",
       "      <td>большая площадь</td>\n",
       "      <td>[село, Рождествено]</td>\n",
       "    </tr>\n",
       "    <tr>\n",
       "      <td>23697</td>\n",
       "      <td>13</td>\n",
       "      <td>11475000.0</td>\n",
       "      <td>76.75</td>\n",
       "      <td>2017-03-28T00:00:00</td>\n",
       "      <td>2</td>\n",
       "      <td>3.00</td>\n",
       "      <td>17.0</td>\n",
       "      <td>51.35</td>\n",
       "      <td>12</td>\n",
       "      <td>False</td>\n",
       "      <td>...</td>\n",
       "      <td>Санкт-Петербург</td>\n",
       "      <td>39140.0</td>\n",
       "      <td>10364.0</td>\n",
       "      <td>2.0</td>\n",
       "      <td>173.0</td>\n",
       "      <td>3.0</td>\n",
       "      <td>196.0</td>\n",
       "      <td>602.0</td>\n",
       "      <td>огромная площадь</td>\n",
       "      <td>[Санкт-Петербург]</td>\n",
       "    </tr>\n",
       "    <tr>\n",
       "      <td>23698</td>\n",
       "      <td>4</td>\n",
       "      <td>1350000.0</td>\n",
       "      <td>32.30</td>\n",
       "      <td>2017-07-21T00:00:00</td>\n",
       "      <td>1</td>\n",
       "      <td>2.50</td>\n",
       "      <td>5.0</td>\n",
       "      <td>12.30</td>\n",
       "      <td>1</td>\n",
       "      <td>False</td>\n",
       "      <td>...</td>\n",
       "      <td>Новый</td>\n",
       "      <td>NaN</td>\n",
       "      <td>NaN</td>\n",
       "      <td>0.0</td>\n",
       "      <td>3127.0</td>\n",
       "      <td>0.0</td>\n",
       "      <td>3100.0</td>\n",
       "      <td>NaN</td>\n",
       "      <td>маленькая площадь</td>\n",
       "      <td>[поселок, Новый, Учхоз]</td>\n",
       "    </tr>\n",
       "  </tbody>\n",
       "</table>\n",
       "<p>23565 rows × 24 columns</p>\n",
       "</div>"
      ],
      "text/plain": [
       "       total_images  last_price  total_area first_day_exposition  rooms  \\\n",
       "0                20  13000000.0      108.00  2019-03-07T00:00:00      3   \n",
       "1                 7   3350000.0       40.40  2018-12-04T00:00:00      1   \n",
       "2                10   5196000.0       56.00  2015-08-20T00:00:00      2   \n",
       "3                 0  64900000.0      159.00  2015-07-24T00:00:00      3   \n",
       "4                 2  10000000.0      100.00  2018-06-19T00:00:00      2   \n",
       "...             ...         ...         ...                  ...    ...   \n",
       "23694             9   9700000.0      133.81  2017-03-21T00:00:00      3   \n",
       "23695            14   3100000.0       59.00  2018-01-15T00:00:00      3   \n",
       "23696            18   2500000.0       56.70  2018-02-11T00:00:00      2   \n",
       "23697            13  11475000.0       76.75  2017-03-28T00:00:00      2   \n",
       "23698             4   1350000.0       32.30  2017-07-21T00:00:00      1   \n",
       "\n",
       "       ceiling_height  floors_total  living_area  floor  is_apartment  ...  \\\n",
       "0                2.70          16.0        51.00      8         False  ...   \n",
       "1                 NaN          11.0        18.60      1         False  ...   \n",
       "2                 NaN           5.0        34.30      4         False  ...   \n",
       "3                 NaN          14.0        51.35      9         False  ...   \n",
       "4                3.03          14.0        32.00     13         False  ...   \n",
       "...               ...           ...          ...    ...           ...  ...   \n",
       "23694            3.70           5.0        73.30      3         False  ...   \n",
       "23695             NaN           5.0        38.00      4         False  ...   \n",
       "23696             NaN           3.0        29.70      1         False  ...   \n",
       "23697            3.00          17.0        51.35     12         False  ...   \n",
       "23698            2.50           5.0        12.30      1         False  ...   \n",
       "\n",
       "         locality_name  airports_nearest  cityCenters_nearest  \\\n",
       "0      Санкт-Петербург           18863.0              16028.0   \n",
       "1               Шушары           12817.0              18603.0   \n",
       "2      Санкт-Петербург           21741.0              13933.0   \n",
       "3      Санкт-Петербург           28098.0               6800.0   \n",
       "4      Санкт-Петербург           31856.0               8098.0   \n",
       "...                ...               ...                  ...   \n",
       "23694  Санкт-Петербург           24665.0               4232.0   \n",
       "23695            Тосно               NaN                  NaN   \n",
       "23696      Рождествено               NaN                  NaN   \n",
       "23697  Санкт-Петербург           39140.0              10364.0   \n",
       "23698            Новый               NaN                  NaN   \n",
       "\n",
       "       parks_around3000 parks_nearest  ponds_around3000  ponds_nearest  \\\n",
       "0                   1.0         482.0               2.0          755.0   \n",
       "1                   0.0        3127.0               0.0         3100.0   \n",
       "2                   1.0          90.0               2.0          574.0   \n",
       "3                   2.0          84.0               3.0          234.0   \n",
       "4                   2.0         112.0               1.0           48.0   \n",
       "...                 ...           ...               ...            ...   \n",
       "23694               1.0         796.0               3.0          381.0   \n",
       "23695               0.0        3127.0               0.0         3100.0   \n",
       "23696               0.0        3127.0               0.0         3100.0   \n",
       "23697               2.0         173.0               3.0          196.0   \n",
       "23698               0.0        3127.0               0.0         3100.0   \n",
       "\n",
       "       days_exposition         area_group               split_name  \n",
       "0                  NaN   огромная площадь        [Санкт-Петербург]  \n",
       "1                 81.0    средняя площадь        [посёлок, Шушары]  \n",
       "2                558.0    большая площадь        [Санкт-Петербург]  \n",
       "3                424.0   огромная площадь        [Санкт-Петербург]  \n",
       "4                121.0   огромная площадь        [Санкт-Петербург]  \n",
       "...                ...                ...                      ...  \n",
       "23694              NaN   огромная площадь        [Санкт-Петербург]  \n",
       "23695             45.0    большая площадь                  [Тосно]  \n",
       "23696              NaN    большая площадь      [село, Рождествено]  \n",
       "23697            602.0   огромная площадь        [Санкт-Петербург]  \n",
       "23698              NaN  маленькая площадь  [поселок, Новый, Учхоз]  \n",
       "\n",
       "[23565 rows x 24 columns]"
      ]
     },
     "execution_count": 29,
     "metadata": {},
     "output_type": "execute_result"
    }
   ],
   "source": [
    "no_null(df, 'ponds_around3000', 'ponds_nearest')"
   ]
  },
  {
   "cell_type": "code",
   "execution_count": 30,
   "metadata": {},
   "outputs": [
    {
     "name": "stdout",
     "output_type": "stream",
     "text": [
      "3171\n"
     ]
    }
   ],
   "source": [
    "print(len(df[df['days_exposition'].isna()]))"
   ]
  },
  {
   "cell_type": "markdown",
   "metadata": {},
   "source": [
    "days_exposition Много пропусков, создадим новый параметр по цене. Так как чем меньше цена, тем быстрее продается квартира. Проверим это"
   ]
  },
  {
   "cell_type": "code",
   "execution_count": 31,
   "metadata": {},
   "outputs": [
    {
     "data": {
      "text/plain": [
       "0.08085787333660648"
      ]
     },
     "execution_count": 31,
     "metadata": {},
     "output_type": "execute_result"
    }
   ],
   "source": [
    "df['last_price'].corr(df['days_exposition'])"
   ]
  },
  {
   "cell_type": "markdown",
   "metadata": {},
   "source": [
    "Видим, что зависимости нет. Стоит предположить, что эти объявления еще не сняты с публикации"
   ]
  },
  {
   "cell_type": "markdown",
   "metadata": {},
   "source": [
    "Зная, что бесплатные публикации действительны до 90 дней, посмотрим сколько из них опубликованы в последние 3 месяца."
   ]
  },
  {
   "cell_type": "code",
   "execution_count": 32,
   "metadata": {},
   "outputs": [],
   "source": [
    "df['first_day_exposition'] = pd.to_datetime(df['first_day_exposition'], format='%Y-%m-%dT%H:%M:%S')"
   ]
  },
  {
   "cell_type": "code",
   "execution_count": 33,
   "metadata": {},
   "outputs": [
    {
     "data": {
      "image/png": "[encoded data removed]",
      "text/plain": [
       "<Figure size 1080x720 with 1 Axes>"
      ]
     },
     "metadata": {
      "needs_background": "light"
     },
     "output_type": "display_data"
    }
   ],
   "source": [
    "from pandas.plotting import register_matplotlib_converters\n",
    "register_matplotlib_converters()\n",
    "\n",
    "_ = df['first_day_exposition'].hist(figsize=(15,10),bins=100)"
   ]
  },
  {
   "cell_type": "code",
   "execution_count": 34,
   "metadata": {},
   "outputs": [
    {
     "data": {
      "text/plain": [
       "Timestamp('2019-05-03 00:00:00')"
      ]
     },
     "execution_count": 34,
     "metadata": {},
     "output_type": "execute_result"
    }
   ],
   "source": [
    "df['first_day_exposition'].max()"
   ]
  },
  {
   "cell_type": "code",
   "execution_count": 35,
   "metadata": {},
   "outputs": [
    {
     "data": {
      "text/plain": [
       "1636"
      ]
     },
     "execution_count": 35,
     "metadata": {},
     "output_type": "execute_result"
    }
   ],
   "source": [
    "len(df.loc[(df['first_day_exposition'] > '2019-02-03 00:00:00') & (df['days_exposition'].isna())])"
   ]
  },
  {
   "cell_type": "markdown",
   "metadata": {},
   "source": [
    "Половина опубликована в последние 3 месяца, а остльные предположим, что продливали объявления платно."
   ]
  },
  {
   "cell_type": "code",
   "execution_count": 38,
   "metadata": {},
   "outputs": [
    {
     "name": "stdout",
     "output_type": "stream",
     "text": [
      "<class 'pandas.core.frame.DataFrame'>\n",
      "Int64Index: 23565 entries, 0 to 23698\n",
      "Data columns (total 24 columns):\n",
      "total_images            23565 non-null int64\n",
      "last_price              23565 non-null float64\n",
      "total_area              23565 non-null float64\n",
      "first_day_exposition    23565 non-null datetime64[ns]\n",
      "rooms                   23565 non-null int64\n",
      "ceiling_height          14481 non-null float64\n",
      "floors_total            23565 non-null float64\n",
      "living_area             23565 non-null float64\n",
      "floor                   23565 non-null int64\n",
      "is_apartment            23565 non-null bool\n",
      "studio                  23565 non-null bool\n",
      "open_plan               23565 non-null bool\n",
      "kitchen_area            23565 non-null float64\n",
      "balcony                 23565 non-null float64\n",
      "locality_name           23565 non-null object\n",
      "airports_nearest        18041 non-null float64\n",
      "cityCenters_nearest     18064 non-null float64\n",
      "parks_around3000        23565 non-null float64\n",
      "parks_nearest           23565 non-null float64\n",
      "ponds_around3000        23565 non-null float64\n",
      "ponds_nearest           23565 non-null float64\n",
      "days_exposition         20394 non-null float64\n",
      "area_group              23565 non-null category\n",
      "split_name              23565 non-null object\n",
      "dtypes: bool(3), category(1), datetime64[ns](1), float64(14), int64(3), object(2)\n",
      "memory usage: 3.9+ MB\n"
     ]
    }
   ],
   "source": [
    "df.info()"
   ]
  },
  {
   "cell_type": "markdown",
   "metadata": {},
   "source": [
    "Теперь переведем все данные к нужному формату"
   ]
  },
  {
   "cell_type": "code",
   "execution_count": 39,
   "metadata": {},
   "outputs": [],
   "source": [
    "df['last_price'] = df['last_price'].astype('int')\n",
    "df['floors_total'] = df['floors_total'].astype('int')\n",
    "df['balcony'] = df['balcony'].astype('int')\n",
    "df['parks_around3000'] = df['parks_around3000'].astype('int')\n",
    "df['ponds_around3000'] = df['ponds_around3000'].astype('int')\n",
    "df['parks_nearest'] = df['parks_nearest'].astype('int')\n",
    "df['ponds_nearest'] = df['ponds_nearest'].astype('int')\n",
    "df['days_exposition'] = df['days_exposition'].round().astype('Int64')"
   ]
  },
  {
   "cell_type": "code",
   "execution_count": 40,
   "metadata": {
    "scrolled": false
   },
   "outputs": [
    {
     "name": "stdout",
     "output_type": "stream",
     "text": [
      "<class 'pandas.core.frame.DataFrame'>\n",
      "Int64Index: 23565 entries, 0 to 23698\n",
      "Data columns (total 24 columns):\n",
      "total_images            23565 non-null int64\n",
      "last_price              23565 non-null int64\n",
      "total_area              23565 non-null float64\n",
      "first_day_exposition    23565 non-null datetime64[ns]\n",
      "rooms                   23565 non-null int64\n",
      "ceiling_height          14481 non-null float64\n",
      "floors_total            23565 non-null int64\n",
      "living_area             23565 non-null float64\n",
      "floor                   23565 non-null int64\n",
      "is_apartment            23565 non-null bool\n",
      "studio                  23565 non-null bool\n",
      "open_plan               23565 non-null bool\n",
      "kitchen_area            23565 non-null float64\n",
      "balcony                 23565 non-null int64\n",
      "locality_name           23565 non-null object\n",
      "airports_nearest        18041 non-null float64\n",
      "cityCenters_nearest     18064 non-null float64\n",
      "parks_around3000        23565 non-null int64\n",
      "parks_nearest           23565 non-null int64\n",
      "ponds_around3000        23565 non-null int64\n",
      "ponds_nearest           23565 non-null int64\n",
      "days_exposition         20394 non-null Int64\n",
      "area_group              23565 non-null category\n",
      "split_name              23565 non-null object\n",
      "dtypes: Int64(1), bool(3), category(1), datetime64[ns](1), float64(6), int64(10), object(2)\n",
      "memory usage: 3.9+ MB\n"
     ]
    }
   ],
   "source": [
    "df.info()"
   ]
  },
  {
   "cell_type": "code",
   "execution_count": 41,
   "metadata": {},
   "outputs": [
    {
     "name": "stdout",
     "output_type": "stream",
     "text": [
      "total_images             0.000000\n",
      "last_price               0.000000\n",
      "total_area               0.000000\n",
      "first_day_exposition     0.000000\n",
      "rooms                    0.000000\n",
      "ceiling_height          38.548695\n",
      "floors_total             0.000000\n",
      "living_area              0.000000\n",
      "floor                    0.000000\n",
      "is_apartment             0.000000\n",
      "studio                   0.000000\n",
      "open_plan                0.000000\n",
      "kitchen_area             0.000000\n",
      "balcony                  0.000000\n",
      "locality_name            0.000000\n",
      "airports_nearest        23.441545\n",
      "cityCenters_nearest     23.343942\n",
      "parks_around3000         0.000000\n",
      "parks_nearest            0.000000\n",
      "ponds_around3000         0.000000\n",
      "ponds_nearest            0.000000\n",
      "days_exposition         13.456397\n",
      "area_group               0.000000\n",
      "split_name               0.000000\n",
      "dtype: float64\n"
     ]
    }
   ],
   "source": [
    "print(df.isna().sum()/len(df)*100)"
   ]
  },
  {
   "cell_type": "markdown",
   "metadata": {},
   "source": [
    "### Вывод"
   ]
  },
  {
   "cell_type": "markdown",
   "metadata": {},
   "source": [
    "Данные очень плохие, где было возможно подставил значение логически. Количестов пропусков значительно сократилась. Перевел все к боллее простому и понятному типу данных. Пропуски данных могли возникнуть или при сокрытии этой информации от клиентов или при неправильной выгрузке данных"
   ]
  },
  {
   "cell_type": "markdown",
   "metadata": {},
   "source": [
    "## Расчёты и добавление результатов в таблицу"
   ]
  },
  {
   "cell_type": "markdown",
   "metadata": {},
   "source": [
    "Добавим новый столбец с ценой квадратного метра"
   ]
  },
  {
   "cell_type": "code",
   "execution_count": 42,
   "metadata": {},
   "outputs": [],
   "source": [
    "df['price_meter'] = df['last_price']/df['total_area']"
   ]
  },
  {
   "cell_type": "markdown",
   "metadata": {},
   "source": [
    "Добавим день недели, месяц и год публикации"
   ]
  },
  {
   "cell_type": "code",
   "execution_count": 43,
   "metadata": {},
   "outputs": [],
   "source": [
    "df['weekday_exposition'] = df['first_day_exposition'].dt.weekday"
   ]
  },
  {
   "cell_type": "code",
   "execution_count": 44,
   "metadata": {},
   "outputs": [],
   "source": [
    "df['month_exposition'] = pd.DatetimeIndex(df['first_day_exposition']).month"
   ]
  },
  {
   "cell_type": "code",
   "execution_count": 45,
   "metadata": {},
   "outputs": [],
   "source": [
    "df['year_exposition'] = pd.DatetimeIndex(df['first_day_exposition']).year"
   ]
  },
  {
   "cell_type": "markdown",
   "metadata": {},
   "source": [
    "Добавим этаж квартиры, создадим функцию и с помощью apply axis=1 пройдемся по всем строкам"
   ]
  },
  {
   "cell_type": "code",
   "execution_count": 46,
   "metadata": {},
   "outputs": [],
   "source": [
    "def new_floor (data):\n",
    "    floor = data['floor']\n",
    "    total = data['floors_total']             \n",
    "    if floor == total:\n",
    "        return 'Последний'\n",
    "    if floor == 1:\n",
    "        return 'Первый'\n",
    "    else:\n",
    "        return 'Другой'"
   ]
  },
  {
   "cell_type": "code",
   "execution_count": 47,
   "metadata": {},
   "outputs": [],
   "source": [
    "df['floors_group'] = df.apply(new_floor, axis=1)"
   ]
  },
  {
   "cell_type": "markdown",
   "metadata": {},
   "source": [
    "Создадим столбец с соотношением жилой и общей площади кваритиры"
   ]
  },
  {
   "cell_type": "code",
   "execution_count": 48,
   "metadata": {},
   "outputs": [],
   "source": [
    "df['living_total_area'] = df['living_area']/df['total_area']"
   ]
  },
  {
   "cell_type": "markdown",
   "metadata": {},
   "source": [
    "Создадим столбец с соотношением площади кухни и общей площади кваритиры"
   ]
  },
  {
   "cell_type": "code",
   "execution_count": 49,
   "metadata": {},
   "outputs": [],
   "source": [
    "df['kitchen_total_area'] = df['kitchen_area']/df['total_area']"
   ]
  },
  {
   "cell_type": "markdown",
   "metadata": {},
   "source": [
    "## Исследовательский анализ данных"
   ]
  },
  {
   "cell_type": "markdown",
   "metadata": {},
   "source": [
    "Построим гистограммы для площади, цены, числа комнат и высоты потолков"
   ]
  },
  {
   "cell_type": "code",
   "execution_count": 50,
   "metadata": {},
   "outputs": [
    {
     "name": "stdout",
     "output_type": "stream",
     "text": [
      "Defaulting to user installation because normal site-packages is not writeable\n",
      "Collecting matplotlib==3.4.2\n",
      "  Downloading matplotlib-3.4.2-cp37-cp37m-manylinux1_x86_64.whl (10.3 MB)\n",
      "\u001b[K     |████████████████████████████████| 10.3 MB 1.0 MB/s eta 0:00:01    |███████▍                        | 2.4 MB 1.0 MB/s eta 0:00:08\n",
      "\u001b[?25hRequirement already satisfied: pyparsing>=2.2.1 in /opt/conda/lib/python3.7/site-packages (from matplotlib==3.4.2) (2.4.7)\n",
      "Requirement already satisfied: python-dateutil>=2.7 in /opt/conda/lib/python3.7/site-packages (from matplotlib==3.4.2) (2.8.1)\n",
      "Requirement already satisfied: cycler>=0.10 in /opt/conda/lib/python3.7/site-packages (from matplotlib==3.4.2) (0.10.0)\n",
      "Requirement already satisfied: kiwisolver>=1.0.1 in /opt/conda/lib/python3.7/site-packages (from matplotlib==3.4.2) (1.3.1)\n",
      "Requirement already satisfied: numpy>=1.16 in /opt/conda/lib/python3.7/site-packages (from matplotlib==3.4.2) (1.19.5)\n",
      "Requirement already satisfied: pillow>=6.2.0 in /opt/conda/lib/python3.7/site-packages (from matplotlib==3.4.2) (7.0.0)\n",
      "Requirement already satisfied: six>=1.5 in /opt/conda/lib/python3.7/site-packages (from python-dateutil>=2.7->matplotlib==3.4.2) (1.15.0)\n",
      "Installing collected packages: matplotlib\n",
      "Successfully installed matplotlib-3.4.2\n"
     ]
    }
   ],
   "source": [
    "!pip install matplotlib==3.4.2"
   ]
  },
  {
   "cell_type": "code",
   "execution_count": 51,
   "metadata": {},
   "outputs": [
    {
     "data": {
      "text/plain": [
       "'3.1.0'"
      ]
     },
     "execution_count": 51,
     "metadata": {},
     "output_type": "execute_result"
    }
   ],
   "source": [
    "import matplotlib\n",
    "import matplotlib.pyplot as plt\n",
    "matplotlib.__version__"
   ]
  },
  {
   "cell_type": "code",
   "execution_count": 52,
   "metadata": {},
   "outputs": [
    {
     "data": {
      "image/png": "[encoded data removed]",
      "text/plain": [
       "<Figure size 432x288 with 1 Axes>"
      ]
     },
     "metadata": {
      "needs_background": "light"
     },
     "output_type": "display_data"
    }
   ],
   "source": [
    "df['total_area'].hist(bins=20).set_title('total_area')\n",
    "plt.show()"
   ]
  },
  {
   "cell_type": "markdown",
   "metadata": {},
   "source": [
    "Видим, что примерно после 300 очень мало значений. отбросим их с помощью query"
   ]
  },
  {
   "cell_type": "code",
   "execution_count": 53,
   "metadata": {},
   "outputs": [],
   "source": [
    "new_df = df.query('total_area < 300')"
   ]
  },
  {
   "cell_type": "markdown",
   "metadata": {},
   "source": [
    "Видим, что в основном продаютс квартиры с площадью 50 метров. Больше 150 метров уже очень мало"
   ]
  },
  {
   "cell_type": "code",
   "execution_count": 54,
   "metadata": {},
   "outputs": [
    {
     "data": {
      "image/png": "[encoded data removed]",
      "text/plain": [
       "<Figure size 432x288 with 1 Axes>"
      ]
     },
     "metadata": {
      "needs_background": "light"
     },
     "output_type": "display_data"
    }
   ],
   "source": [
    "new_df['last_price'].hist(bins=10).set_title('last_price')\n",
    "plt.show()"
   ]
  },
  {
   "cell_type": "markdown",
   "metadata": {},
   "source": [
    "Убрем значения болльше 50 млн"
   ]
  },
  {
   "cell_type": "code",
   "execution_count": 55,
   "metadata": {},
   "outputs": [],
   "source": [
    "new_df = new_df.query('last_price < 50000000')"
   ]
  },
  {
   "cell_type": "markdown",
   "metadata": {},
   "source": [
    "В основном квариры стоят до 10 млн рублей. Дороже 25 млн очень мало"
   ]
  },
  {
   "cell_type": "code",
   "execution_count": 56,
   "metadata": {},
   "outputs": [
    {
     "data": {
      "image/png": "[encoded data removed]",
      "text/plain": [
       "<Figure size 432x288 with 1 Axes>"
      ]
     },
     "metadata": {
      "needs_background": "light"
     },
     "output_type": "display_data"
    }
   ],
   "source": [
    "new_df['rooms'].hist(bins=20).set_title('rooms')\n",
    "plt.show()"
   ]
  },
  {
   "cell_type": "markdown",
   "metadata": {},
   "source": [
    "Больше 8 комнат пракически нет. Уберем все, что выше."
   ]
  },
  {
   "cell_type": "code",
   "execution_count": 57,
   "metadata": {},
   "outputs": [],
   "source": [
    "new_df = new_df.query('rooms <= 8')"
   ]
  },
  {
   "cell_type": "code",
   "execution_count": 58,
   "metadata": {},
   "outputs": [
    {
     "data": {
      "image/png": "[encoded data removed]",
      "text/plain": [
       "<Figure size 432x288 with 1 Axes>"
      ]
     },
     "metadata": {
      "needs_background": "light"
     },
     "output_type": "display_data"
    }
   ],
   "source": [
    "new_df['ceiling_height'].hist(bins=20).set_title('ceiling_height')\n",
    "plt.show()"
   ]
  },
  {
   "cell_type": "markdown",
   "metadata": {},
   "source": [
    "Есть какие то выбросы. Болше 4 метров значений не должно быть, так же уберем параметры меньше 2 метров. Уберем лишнее"
   ]
  },
  {
   "cell_type": "code",
   "execution_count": 59,
   "metadata": {},
   "outputs": [],
   "source": [
    "new_df = new_df.query('ceiling_height <= 4')"
   ]
  },
  {
   "cell_type": "code",
   "execution_count": 60,
   "metadata": {},
   "outputs": [],
   "source": [
    "new_df = new_df.query('ceiling_height >= 2')"
   ]
  },
  {
   "cell_type": "code",
   "execution_count": 61,
   "metadata": {},
   "outputs": [
    {
     "data": {
      "image/png": "[encoded data removed]",
      "text/plain": [
       "<Figure size 1080x720 with 4 Axes>"
      ]
     },
     "metadata": {
      "needs_background": "light"
     },
     "output_type": "display_data"
    }
   ],
   "source": [
    "fig = plt.figure(figsize=(15, 10))\n",
    "fig.suptitle('Гистограммы общие', fontsize=15)\n",
    "h1 = plt.subplot(2, 2, 1).set_title('total_area')\n",
    "h1 = new_df['total_area'].hist(bins=20)\n",
    "h2 = plt.subplot(2, 2, 2).set_title('last_price')\n",
    "h2 = new_df['last_price'].hist(bins=10)\n",
    "h3 = plt.subplot(2, 2, 3).set_title('rooms')\n",
    "h3 = new_df['rooms'].hist(bins=8)\n",
    "h4 = plt.subplot(2, 2, 4).set_title('ceiling_height')\n",
    "h4 = new_df['ceiling_height'].hist(bins=10)\n",
    "plt.show()"
   ]
  },
  {
   "cell_type": "markdown",
   "metadata": {},
   "source": [
    "Видим, что в основном продаютс квартиры с площадью 50 метров. Больше 150 метров уже очень мало.\n",
    "В основном квариры стоят до 10 млн рублей. Дороже 25 млн очень мало.\n",
    "Больше всего квратир от онлой до 4 комнат.\n",
    "В основном продаются квартиры с высотой 2.5 - 2.8 метров."
   ]
  },
  {
   "cell_type": "markdown",
   "metadata": {},
   "source": [
    "Изучим данные по времени продажи кваритр. Для начала построим гистограмму"
   ]
  },
  {
   "cell_type": "code",
   "execution_count": 62,
   "metadata": {},
   "outputs": [
    {
     "data": {
      "image/png": "[encoded data removed]",
      "text/plain": [
       "<Figure size 432x288 with 1 Axes>"
      ]
     },
     "metadata": {
      "needs_background": "light"
     },
     "output_type": "display_data"
    }
   ],
   "source": [
    "new_df['days_exposition'].hist(bins=20).set_title('days_exposition')\n",
    "plt.show()"
   ]
  },
  {
   "cell_type": "markdown",
   "metadata": {},
   "source": [
    "Больше 1200 дней пракически нет, но посмотрим на диаграмму размаха"
   ]
  },
  {
   "cell_type": "code",
   "execution_count": 63,
   "metadata": {},
   "outputs": [],
   "source": [
    "new_df = new_df.query('days_exposition < 1200')"
   ]
  },
  {
   "cell_type": "code",
   "execution_count": 64,
   "metadata": {},
   "outputs": [
    {
     "data": {
      "image/png": "[encoded data removed]",
      "text/plain": [
       "<Figure size 432x288 with 1 Axes>"
      ]
     },
     "metadata": {
      "needs_background": "light"
     },
     "output_type": "display_data"
    }
   ],
   "source": [
    "plt.boxplot('days_exposition', data=new_df, vert=False)\n",
    "plt.show()"
   ]
  },
  {
   "cell_type": "markdown",
   "metadata": {},
   "source": [
    "Мы видим, что больше 500 дней уже очень мало и идут одни выбросы. Поэтому удалим эти значения"
   ]
  },
  {
   "cell_type": "code",
   "execution_count": 65,
   "metadata": {},
   "outputs": [],
   "source": [
    "new_df = new_df.query('days_exposition < 500')\n"
   ]
  },
  {
   "cell_type": "code",
   "execution_count": 66,
   "metadata": {},
   "outputs": [
    {
     "name": "stdout",
     "output_type": "stream",
     "text": [
      "89.0\n",
      "129.9328940040839\n"
     ]
    }
   ],
   "source": [
    "print(new_df['days_exposition'].median())\n",
    "print(new_df['days_exposition'].mean())"
   ]
  },
  {
   "cell_type": "code",
   "execution_count": 67,
   "metadata": {},
   "outputs": [
    {
     "data": {
      "image/png": "[encoded data removed]",
      "text/plain": [
       "<Figure size 432x288 with 1 Axes>"
      ]
     },
     "metadata": {
      "needs_background": "light"
     },
     "output_type": "display_data"
    }
   ],
   "source": [
    "new_df['days_exposition'].hist(bins=20).set_title('days_exposition')\n",
    "plt.show()"
   ]
  },
  {
   "cell_type": "markdown",
   "metadata": {},
   "source": [
    "Предлагаю считать первый квартиль очень быстрыми продажами, а четвертый квартиль очень медленными. Для этого вызовем метод describe"
   ]
  },
  {
   "cell_type": "code",
   "execution_count": 68,
   "metadata": {},
   "outputs": [
    {
     "data": {
      "text/plain": [
       "count    10774.000000\n",
       "mean       129.932894\n",
       "std        120.216006\n",
       "min          1.000000\n",
       "25%         41.000000\n",
       "50%         89.000000\n",
       "75%        187.000000\n",
       "max        499.000000\n",
       "Name: days_exposition, dtype: float64"
      ]
     },
     "execution_count": 68,
     "metadata": {},
     "output_type": "execute_result"
    }
   ],
   "source": [
    "new_df['days_exposition'].describe()"
   ]
  },
  {
   "cell_type": "markdown",
   "metadata": {},
   "source": [
    "Если квартира продана меньше чем за 41 день, то это быстрая продажа. Если больше чем за 180, то это долгая продажа. Медиана 89 дня, а среднее арфиметической 129"
   ]
  },
  {
   "cell_type": "markdown",
   "metadata": {},
   "source": []
  },
  {
   "cell_type": "code",
   "execution_count": 69,
   "metadata": {},
   "outputs": [
    {
     "data": {
      "text/plain": [
       "count    1.077400e+04\n",
       "mean     5.769080e+06\n",
       "std      4.333108e+06\n",
       "min      1.219000e+04\n",
       "25%      3.500000e+06\n",
       "50%      4.600000e+06\n",
       "75%      6.500000e+06\n",
       "max      4.990000e+07\n",
       "Name: last_price, dtype: float64"
      ]
     },
     "execution_count": 69,
     "metadata": {},
     "output_type": "execute_result"
    }
   ],
   "source": [
    "new_df['last_price'].describe()"
   ]
  },
  {
   "cell_type": "markdown",
   "metadata": {},
   "source": [
    "Изучим как цена зависит от площади, количества комнат, удаленности от центра, этажа и даты размещения. Узнаем корреляцию"
   ]
  },
  {
   "cell_type": "code",
   "execution_count": 70,
   "metadata": {},
   "outputs": [
    {
     "name": "stdout",
     "output_type": "stream",
     "text": [
      "0.7827116708561788\n"
     ]
    }
   ],
   "source": [
    "print(new_df['last_price'].corr(new_df['total_area']))"
   ]
  },
  {
   "cell_type": "markdown",
   "metadata": {},
   "source": [
    "Корреляция между ценой и площадью равняется 0,78. Это значит, что цена и площадь очень сильно зависят между собой. Чем больше площадь, тем дороже квартира."
   ]
  },
  {
   "cell_type": "code",
   "execution_count": 71,
   "metadata": {},
   "outputs": [
    {
     "name": "stdout",
     "output_type": "stream",
     "text": [
      "0.4985051324670116\n"
     ]
    }
   ],
   "source": [
    "print(new_df['last_price'].corr(new_df['rooms']))"
   ]
  },
  {
   "cell_type": "markdown",
   "metadata": {},
   "source": [
    "Корреляция между ценой и площадью равняется 0,49. Это значит, что цена и количество комнат зависят друг от тдруга, но не сильно. "
   ]
  },
  {
   "cell_type": "markdown",
   "metadata": {},
   "source": [
    "Далее более правильно будет изучать цены за метр"
   ]
  },
  {
   "cell_type": "code",
   "execution_count": 72,
   "metadata": {},
   "outputs": [
    {
     "name": "stdout",
     "output_type": "stream",
     "text": [
      "-0.37517630264348084\n"
     ]
    }
   ],
   "source": [
    "print(new_df['price_meter'].corr(new_df['cityCenters_nearest']))"
   ]
  },
  {
   "cell_type": "markdown",
   "metadata": {},
   "source": [
    "Корреляция между ценой и расстоянием до центра равняется -0,37. Это значит, что чем выше цена, тем больше расстояние до центра, но зависимость не особо сильная"
   ]
  },
  {
   "cell_type": "markdown",
   "metadata": {},
   "source": [
    "Далее построим график, по которму увидим медиану цен для разных категорий этажей"
   ]
  },
  {
   "cell_type": "code",
   "execution_count": 73,
   "metadata": {},
   "outputs": [
    {
     "data": {
      "image/png": "[encoded data removed]",
      "text/plain": [
       "<Figure size 432x288 with 1 Axes>"
      ]
     },
     "metadata": {
      "needs_background": "light"
     },
     "output_type": "display_data"
    }
   ],
   "source": [
    "new_df.pivot_table(index='floors_group', values='price_meter', aggfunc='median').plot(kind='bar')\n",
    "plt.show()"
   ]
  },
  {
   "cell_type": "markdown",
   "metadata": {},
   "source": [
    "Видим, что квартиры на первом этаже дешевле всего, чуть дороже на последнем, а все остальные самые дорогие"
   ]
  },
  {
   "cell_type": "code",
   "execution_count": 74,
   "metadata": {},
   "outputs": [
    {
     "data": {
      "image/png": "[encoded data removed]",
      "text/plain": [
       "<Figure size 432x288 with 1 Axes>"
      ]
     },
     "metadata": {
      "needs_background": "light"
     },
     "output_type": "display_data"
    }
   ],
   "source": [
    "new_df.pivot_table(index=('weekday_exposition'), values='price_meter', aggfunc='median').plot(kind='bar')\n",
    "plt.show()"
   ]
  },
  {
   "cell_type": "markdown",
   "metadata": {},
   "source": [
    "По графику видим, что разницы в какой день размещено объявление нет. Чтобы убедиться в этом проверим корреляцию"
   ]
  },
  {
   "cell_type": "code",
   "execution_count": 75,
   "metadata": {},
   "outputs": [
    {
     "name": "stdout",
     "output_type": "stream",
     "text": [
      "-0.008711196937451787\n"
     ]
    }
   ],
   "source": [
    "print(new_df['weekday_exposition'].corr(new_df['price_meter']))"
   ]
  },
  {
   "cell_type": "markdown",
   "metadata": {},
   "source": [
    "Действительно нет разницы в какой день было загружено объявление"
   ]
  },
  {
   "cell_type": "code",
   "execution_count": 76,
   "metadata": {},
   "outputs": [
    {
     "data": {
      "image/png": "[encoded data removed]",
      "text/plain": [
       "<Figure size 432x288 with 1 Axes>"
      ]
     },
     "metadata": {
      "needs_background": "light"
     },
     "output_type": "display_data"
    }
   ],
   "source": [
    "new_df.pivot_table(index=('month_exposition'), values='price_meter', aggfunc='median').plot(kind='bar')\n",
    "plt.show()"
   ]
  },
  {
   "cell_type": "markdown",
   "metadata": {},
   "source": [
    "Видим, что есть небольшая разница в размещении в разные месяцы. В мае, июне и июле цены на квартиры чуть меньше"
   ]
  },
  {
   "cell_type": "code",
   "execution_count": 77,
   "metadata": {},
   "outputs": [
    {
     "data": {
      "image/png": "[encoded data removed]",
      "text/plain": [
       "<Figure size 432x288 with 1 Axes>"
      ]
     },
     "metadata": {
      "needs_background": "light"
     },
     "output_type": "display_data"
    }
   ],
   "source": [
    "new_df.pivot_table(index=('year_exposition'), values='price_meter', aggfunc='median').plot(kind='bar')\n",
    "plt.show()"
   ]
  },
  {
   "cell_type": "markdown",
   "metadata": {},
   "source": [
    "В целом видим, что цены с каждым годом минимально растут."
   ]
  },
  {
   "cell_type": "markdown",
   "metadata": {},
   "source": [
    "Далее изучим 10 населенных пунктов с наибольшим числом объявлений. Найдем самые популярные с помощью value_counts,  а затем создадим новый датафрейм по этим населенным пунктам"
   ]
  },
  {
   "cell_type": "code",
   "execution_count": 78,
   "metadata": {},
   "outputs": [],
   "source": [
    "top10 = new_df['locality_name'].value_counts().head(10)"
   ]
  },
  {
   "cell_type": "code",
   "execution_count": 79,
   "metadata": {},
   "outputs": [],
   "source": [
    "top10_data = new_df.query('locality_name in @top10.index')"
   ]
  },
  {
   "cell_type": "code",
   "execution_count": 80,
   "metadata": {},
   "outputs": [
    {
     "data": {
      "image/png": "[encoded data removed]",
      "text/plain": [
       "<Figure size 432x288 with 1 Axes>"
      ]
     },
     "metadata": {
      "needs_background": "light"
     },
     "output_type": "display_data"
    }
   ],
   "source": [
    "top10_data.groupby('locality_name')['price_meter'].mean().sort_values(ascending=False).plot(kind='bar')\n",
    "plt.show()"
   ]
  },
  {
   "cell_type": "markdown",
   "metadata": {},
   "source": [
    "Из списка самых популярных городов, самые дорогие квартиры в Санкт-Петербурге, а самые дешевые в Всеволожске"
   ]
  },
  {
   "cell_type": "markdown",
   "metadata": {},
   "source": [
    "Теперь исследуем цены в Санкт_Петербурге. Создадим новый датафрейм, а затем сгрпируем по расстоянию и средней цене на каждом километра от центра"
   ]
  },
  {
   "cell_type": "code",
   "execution_count": 81,
   "metadata": {},
   "outputs": [],
   "source": [
    "spb = new_df.query('locality_name == \"Санкт-Петербург\"')"
   ]
  },
  {
   "cell_type": "code",
   "execution_count": 82,
   "metadata": {},
   "outputs": [
    {
     "data": {
      "text/plain": [
       "4         8098.0\n",
       "9        15008.0\n",
       "10       13878.0\n",
       "16       10698.0\n",
       "18       10842.0\n",
       "          ...   \n",
       "23673    11881.0\n",
       "23681     7262.0\n",
       "23686    11602.0\n",
       "23688    14428.0\n",
       "23689    16081.0\n",
       "Name: cityCenters_nearest, Length: 7494, dtype: float64"
      ]
     },
     "execution_count": 82,
     "metadata": {},
     "output_type": "execute_result"
    }
   ],
   "source": [
    "spb['cityCenters_nearest'].dropna()"
   ]
  },
  {
   "cell_type": "code",
   "execution_count": 83,
   "metadata": {},
   "outputs": [
    {
     "name": "stderr",
     "output_type": "stream",
     "text": [
      "/opt/conda/lib/python3.7/site-packages/ipykernel_launcher.py:1: SettingWithCopyWarning: \n",
      "A value is trying to be set on a copy of a slice from a DataFrame.\n",
      "Try using .loc[row_indexer,col_indexer] = value instead\n",
      "\n",
      "See the caveats in the documentation: http://pandas.pydata.org/pandas-docs/stable/user_guide/indexing.html#returning-a-view-versus-a-copy\n",
      "  \"\"\"Entry point for launching an IPython kernel.\n"
     ]
    }
   ],
   "source": [
    "spb['center_nearest_km'] = (spb['cityCenters_nearest']/1000).round()"
   ]
  },
  {
   "cell_type": "code",
   "execution_count": 84,
   "metadata": {},
   "outputs": [
    {
     "data": {
      "image/png": "[encoded data removed]",
      "text/plain": [
       "<Figure size 1080x720 with 1 Axes>"
      ]
     },
     "metadata": {
      "needs_background": "light"
     },
     "output_type": "display_data"
    }
   ],
   "source": [
    "spb.groupby('center_nearest_km')['last_price'].median().plot(kind='bar', figsize=(15, 10))\n",
    "plt.show()"
   ]
  },
  {
   "cell_type": "markdown",
   "metadata": {},
   "source": [
    "Изучим почему на 27 километрах от центра такой скачок в ценах"
   ]
  },
  {
   "cell_type": "code",
   "execution_count": 85,
   "metadata": {},
   "outputs": [
    {
     "data": {
      "text/html": [
       "<div>\n",
       "<style scoped>\n",
       "    .dataframe tbody tr th:only-of-type {\n",
       "        vertical-align: middle;\n",
       "    }\n",
       "\n",
       "    .dataframe tbody tr th {\n",
       "        vertical-align: top;\n",
       "    }\n",
       "\n",
       "    .dataframe thead th {\n",
       "        text-align: right;\n",
       "    }\n",
       "</style>\n",
       "<table border=\"1\" class=\"dataframe\">\n",
       "  <thead>\n",
       "    <tr style=\"text-align: right;\">\n",
       "      <th></th>\n",
       "      <th>total_images</th>\n",
       "      <th>last_price</th>\n",
       "      <th>total_area</th>\n",
       "      <th>first_day_exposition</th>\n",
       "      <th>rooms</th>\n",
       "      <th>ceiling_height</th>\n",
       "      <th>floors_total</th>\n",
       "      <th>living_area</th>\n",
       "      <th>floor</th>\n",
       "      <th>is_apartment</th>\n",
       "      <th>...</th>\n",
       "      <th>area_group</th>\n",
       "      <th>split_name</th>\n",
       "      <th>price_meter</th>\n",
       "      <th>weekday_exposition</th>\n",
       "      <th>month_exposition</th>\n",
       "      <th>year_exposition</th>\n",
       "      <th>floors_group</th>\n",
       "      <th>living_total_area</th>\n",
       "      <th>kitchen_total_area</th>\n",
       "      <th>center_nearest_km</th>\n",
       "    </tr>\n",
       "  </thead>\n",
       "  <tbody>\n",
       "    <tr>\n",
       "      <td>748</td>\n",
       "      <td>13</td>\n",
       "      <td>14350000</td>\n",
       "      <td>74.0</td>\n",
       "      <td>2017-11-28</td>\n",
       "      <td>2</td>\n",
       "      <td>3.13</td>\n",
       "      <td>5</td>\n",
       "      <td>30.0</td>\n",
       "      <td>3</td>\n",
       "      <td>False</td>\n",
       "      <td>...</td>\n",
       "      <td>огромная площадь</td>\n",
       "      <td>[Санкт-Петербург]</td>\n",
       "      <td>193918.918919</td>\n",
       "      <td>1</td>\n",
       "      <td>11</td>\n",
       "      <td>2017</td>\n",
       "      <td>Другой</td>\n",
       "      <td>0.405405</td>\n",
       "      <td>0.337838</td>\n",
       "      <td>27.0</td>\n",
       "    </tr>\n",
       "  </tbody>\n",
       "</table>\n",
       "<p>1 rows × 32 columns</p>\n",
       "</div>"
      ],
      "text/plain": [
       "     total_images  last_price  total_area first_day_exposition  rooms  \\\n",
       "748            13    14350000        74.0           2017-11-28      2   \n",
       "\n",
       "     ceiling_height  floors_total  living_area  floor  is_apartment  ...  \\\n",
       "748            3.13             5         30.0      3         False  ...   \n",
       "\n",
       "           area_group         split_name    price_meter  weekday_exposition  \\\n",
       "748  огромная площадь  [Санкт-Петербург]  193918.918919                   1   \n",
       "\n",
       "    month_exposition  year_exposition  floors_group  living_total_area  \\\n",
       "748               11             2017        Другой           0.405405   \n",
       "\n",
       "     kitchen_total_area  center_nearest_km  \n",
       "748            0.337838               27.0  \n",
       "\n",
       "[1 rows x 32 columns]"
      ]
     },
     "metadata": {},
     "output_type": "display_data"
    }
   ],
   "source": [
    "display(spb.loc[spb['center_nearest_km'] == 27])"
   ]
  },
  {
   "cell_type": "markdown",
   "metadata": {},
   "source": [
    "Видим, что всего 1 квартира здесь и она очень дорогая, с высокими потолками"
   ]
  },
  {
   "cell_type": "markdown",
   "metadata": {},
   "source": [
    "Глядя на график можно определить, что центральная зона города расположена в радиусе 8 км от центра"
   ]
  },
  {
   "cell_type": "code",
   "execution_count": 86,
   "metadata": {},
   "outputs": [],
   "source": [
    "spb_center = spb.query('center_nearest_km <= 8')"
   ]
  },
  {
   "cell_type": "code",
   "execution_count": 87,
   "metadata": {},
   "outputs": [
    {
     "data": {
      "image/png": "[encoded data removed]",
      "text/plain": [
       "<Figure size 1080x1080 with 8 Axes>"
      ]
     },
     "metadata": {
      "needs_background": "light"
     },
     "output_type": "display_data"
    }
   ],
   "source": [
    "fig1 = plt.figure(figsize=(15, 15))\n",
    "fig1.suptitle('Гистограммы центр', fontsize=15)\n",
    "s1 = plt.subplot(4, 2, 1).set_title('Площадь центр')\n",
    "s1 = spb_center['total_area'].hist(bins=10)\n",
    "s2 = plt.subplot(4, 2, 3).set_title('Цена центр')\n",
    "s2 = spb_center['last_price'].hist(bins=10)\n",
    "s3 = plt.subplot(4, 2, 5).set_title('Комнаты центр')\n",
    "s3 = spb_center['rooms'].hist(bins=8)\n",
    "s4 = plt.subplot(4, 2, 7).set_title('Высота центр')\n",
    "s4 = spb_center['ceiling_height'].hist(bins=10)\n",
    "\n",
    "h1 = plt.subplot(4, 2, 2).set_title('Площадь')\n",
    "h1 = new_df['total_area'].hist(bins=20)\n",
    "h2 = plt.subplot(4, 2, 4).set_title('Цена')\n",
    "h2 = new_df['last_price'].hist(bins=10)\n",
    "h3 = plt.subplot(4, 2, 6).set_title('Комнаты')\n",
    "h3 = new_df['rooms'].hist(bins=8)\n",
    "h4 = plt.subplot(4, 2, 8).set_title('Высота')\n",
    "h4 = new_df['ceiling_height'].hist(bins=10)\n",
    "plt.show()"
   ]
  },
  {
   "cell_type": "markdown",
   "metadata": {},
   "source": [
    "В центре в основном продаются квартиры с площадью от 40 до 100 метров, сбольшей площадью продаются уже меньше.Средняя цена до 10 млн. Самые популярные в количестве комнат это 2-3, 1-4 продаётся чуть меньше. Высота в основном от 2,8 до 3 метров"
   ]
  },
  {
   "cell_type": "markdown",
   "metadata": {},
   "source": [
    "В сравнении с общими показателями, в центре квартиры чуть большей площади. Цены в центре естественно выше и потолки выше"
   ]
  },
  {
   "cell_type": "code",
   "execution_count": 88,
   "metadata": {},
   "outputs": [
    {
     "name": "stdout",
     "output_type": "stream",
     "text": [
      "0.47825004644132135\n"
     ]
    }
   ],
   "source": [
    "print(spb_center['last_price'].corr(spb_center['rooms']))"
   ]
  },
  {
   "cell_type": "code",
   "execution_count": 89,
   "metadata": {},
   "outputs": [
    {
     "data": {
      "text/plain": [
       "<matplotlib.axes._subplots.AxesSubplot at 0x7fd3553b8650>"
      ]
     },
     "execution_count": 89,
     "metadata": {},
     "output_type": "execute_result"
    },
    {
     "data": {
      "image/png": "[encoded data removed]",
      "text/plain": [
       "<Figure size 432x288 with 1 Axes>"
      ]
     },
     "metadata": {
      "needs_background": "light"
     },
     "output_type": "display_data"
    }
   ],
   "source": [
    "spb.pivot_table(index='floors_group', values='price_meter', aggfunc='median').plot(kind='bar')"
   ]
  },
  {
   "cell_type": "code",
   "execution_count": 90,
   "metadata": {},
   "outputs": [
    {
     "name": "stdout",
     "output_type": "stream",
     "text": [
      "-0.3372175132768157\n"
     ]
    }
   ],
   "source": [
    "print(spb['price_meter'].corr(spb['cityCenters_nearest']))"
   ]
  },
  {
   "cell_type": "code",
   "execution_count": 91,
   "metadata": {},
   "outputs": [
    {
     "data": {
      "image/png": "[encoded data removed]",
      "text/plain": [
       "<Figure size 432x288 with 1 Axes>"
      ]
     },
     "metadata": {
      "needs_background": "light"
     },
     "output_type": "display_data"
    }
   ],
   "source": [
    "spb.pivot_table(index=('month_exposition'), values='price_meter', aggfunc='median').plot(kind='bar')\n",
    "plt.show()"
   ]
  },
  {
   "cell_type": "code",
   "execution_count": 92,
   "metadata": {},
   "outputs": [
    {
     "data": {
      "image/png": "[encoded data removed]",
      "text/plain": [
       "<Figure size 432x288 with 1 Axes>"
      ]
     },
     "metadata": {
      "needs_background": "light"
     },
     "output_type": "display_data"
    }
   ],
   "source": [
    "spb.pivot_table(index=('weekday_exposition'), values='price_meter', aggfunc='median').plot(kind='bar')\n",
    "plt.show()"
   ]
  },
  {
   "cell_type": "code",
   "execution_count": 135,
   "metadata": {},
   "outputs": [
    {
     "data": {
      "image/png": "[encoded data removed]",
      "text/plain": [
       "<Figure size 432x288 with 1 Axes>"
      ]
     },
     "metadata": {
      "needs_background": "light"
     },
     "output_type": "display_data"
    }
   ],
   "source": [
    "spb.pivot_table(index=('year_exposition'), values='price_meter', aggfunc='median').plot(kind='bar')\n",
    "plt.show()"
   ]
  },
  {
   "cell_type": "markdown",
   "metadata": {},
   "source": [
    "Зависимость цены от числа комнат есть, но она не сильно отличается от общего. Смотр на график, цены от этажа в центре зависят так же как и везде. Зависимость от расстояния до центра тоже мало отличается. И зависимость от размещения точно такая же как и по всему городу"
   ]
  },
  {
   "cell_type": "markdown",
   "metadata": {},
   "source": [
    "## Общий вывод"
   ]
  },
  {
   "cell_type": "markdown",
   "metadata": {},
   "source": [
    "Цены на квратиры зависят от количества комнат и площади квартиры, так же чем дальше квартира от центра, тем дешевле она будет стоить. Квартиры на крайних этаж стоит немного меньше чем на всех остальных. Цены на квартиры не зависят от даты размещение. Но по графику видно, что квартиры с кажждым годм немного дорожают. Из самых популярных городов, самыевысокие цены в Санкт-Петербурге, а самые дешевые в Выборге. Изучив цены в Санкт_Петербурге, можно сделать вывод, что центральная часть города расположена в радиусе 8 км от центра, так как идет заметное проседание по ценам начинаю с 9го километра. Цены в центре зависят от тех же параметров, что и цены во всех остальных местах"
   ]
  }
 ],
 "metadata": {
  "ExecuteTimeLog": [
   {
    "duration": 1147,
    "start_time": "2021-08-02T13:29:09.430Z"
   },
   {
    "duration": 135,
    "start_time": "2021-08-02T13:29:34.563Z"
   },
   {
    "duration": 78,
    "start_time": "2021-08-02T13:29:45.145Z"
   },
   {
    "duration": 79,
    "start_time": "2021-08-02T13:30:18.709Z"
   },
   {
    "duration": 74,
    "start_time": "2021-08-02T13:30:54.485Z"
   },
   {
    "duration": 84,
    "start_time": "2021-08-02T13:32:48.060Z"
   },
   {
    "duration": 88,
    "start_time": "2021-08-02T13:37:11.543Z"
   },
   {
    "duration": 86,
    "start_time": "2021-08-02T13:38:48.551Z"
   },
   {
    "duration": 117,
    "start_time": "2021-08-02T13:38:59.233Z"
   },
   {
    "duration": 16,
    "start_time": "2021-08-02T13:39:19.176Z"
   },
   {
    "duration": 118,
    "start_time": "2021-08-02T13:40:17.248Z"
   },
   {
    "duration": 4,
    "start_time": "2021-08-02T13:44:31.074Z"
   },
   {
    "duration": 6,
    "start_time": "2021-08-02T13:44:59.414Z"
   },
   {
    "duration": 9,
    "start_time": "2021-08-02T13:48:40.284Z"
   },
   {
    "duration": 5,
    "start_time": "2021-08-02T13:49:01.553Z"
   },
   {
    "duration": 8,
    "start_time": "2021-08-02T13:49:53.123Z"
   },
   {
    "duration": 8,
    "start_time": "2021-08-02T13:51:41.688Z"
   },
   {
    "duration": 13,
    "start_time": "2021-08-02T13:52:29.736Z"
   },
   {
    "duration": 7,
    "start_time": "2021-08-02T13:53:57.621Z"
   },
   {
    "duration": 13,
    "start_time": "2021-08-02T13:54:06.349Z"
   },
   {
    "duration": 17,
    "start_time": "2021-08-02T13:57:06.419Z"
   },
   {
    "duration": 19,
    "start_time": "2021-08-02T13:57:23.895Z"
   },
   {
    "duration": 96,
    "start_time": "2021-08-02T14:00:08.585Z"
   },
   {
    "duration": 9,
    "start_time": "2021-08-02T14:00:18.647Z"
   },
   {
    "duration": 10,
    "start_time": "2021-08-02T14:02:31.255Z"
   },
   {
    "duration": 5,
    "start_time": "2021-08-02T14:02:59.106Z"
   },
   {
    "duration": 6,
    "start_time": "2021-08-02T14:07:14.295Z"
   },
   {
    "duration": 10,
    "start_time": "2021-08-02T14:07:24.148Z"
   },
   {
    "duration": 6759,
    "start_time": "2021-08-02T14:09:02.303Z"
   },
   {
    "duration": 7,
    "start_time": "2021-08-02T14:09:14.784Z"
   },
   {
    "duration": 9,
    "start_time": "2021-08-02T14:11:13.464Z"
   },
   {
    "duration": 11,
    "start_time": "2021-08-02T14:11:17.830Z"
   },
   {
    "duration": 6,
    "start_time": "2021-08-02T14:11:33.626Z"
   },
   {
    "duration": 8,
    "start_time": "2021-08-02T14:11:45.798Z"
   },
   {
    "duration": 278,
    "start_time": "2021-08-02T14:16:41.784Z"
   },
   {
    "duration": 80,
    "start_time": "2021-08-02T14:16:56.764Z"
   },
   {
    "duration": 113,
    "start_time": "2021-08-02T14:16:56.901Z"
   },
   {
    "duration": 18,
    "start_time": "2021-08-02T14:16:57.017Z"
   },
   {
    "duration": 10,
    "start_time": "2021-08-02T14:16:57.061Z"
   },
   {
    "duration": 11,
    "start_time": "2021-08-02T14:16:57.075Z"
   },
   {
    "duration": 7,
    "start_time": "2021-08-02T14:17:07.804Z"
   },
   {
    "duration": 286,
    "start_time": "2021-08-02T14:17:09.289Z"
   },
   {
    "duration": 276,
    "start_time": "2021-08-02T14:18:19.979Z"
   },
   {
    "duration": 11,
    "start_time": "2021-08-02T14:19:03.338Z"
   },
   {
    "duration": 9,
    "start_time": "2021-08-02T14:19:08.698Z"
   },
   {
    "duration": 8,
    "start_time": "2021-08-02T14:20:19.316Z"
   },
   {
    "duration": 97,
    "start_time": "2021-08-02T14:27:06.754Z"
   },
   {
    "duration": 15,
    "start_time": "2021-08-02T14:27:11.599Z"
   },
   {
    "duration": 5,
    "start_time": "2021-08-02T14:34:47.810Z"
   },
   {
    "duration": 91,
    "start_time": "2021-08-02T14:35:51.600Z"
   },
   {
    "duration": 258,
    "start_time": "2021-08-02T14:36:53.404Z"
   },
   {
    "duration": 5,
    "start_time": "2021-08-02T14:37:14.747Z"
   },
   {
    "duration": 93,
    "start_time": "2021-08-02T14:37:54.380Z"
   },
   {
    "duration": 8,
    "start_time": "2021-08-02T14:37:59.730Z"
   },
   {
    "duration": 13,
    "start_time": "2021-08-02T14:39:14.502Z"
   },
   {
    "duration": 7303,
    "start_time": "2021-08-02T14:39:44.318Z"
   },
   {
    "duration": 9,
    "start_time": "2021-08-02T14:39:59.596Z"
   },
   {
    "duration": 8,
    "start_time": "2021-08-02T14:42:29.891Z"
   },
   {
    "duration": 331,
    "start_time": "2021-08-02T14:43:59.815Z"
   },
   {
    "duration": 86,
    "start_time": "2021-08-02T14:44:11.489Z"
   },
   {
    "duration": 6,
    "start_time": "2021-08-02T14:44:24.497Z"
   },
   {
    "duration": 10,
    "start_time": "2021-08-02T14:45:31.758Z"
   },
   {
    "duration": 7,
    "start_time": "2021-08-02T14:46:09.144Z"
   },
   {
    "duration": 160,
    "start_time": "2021-08-02T14:48:51.170Z"
   },
   {
    "duration": 7,
    "start_time": "2021-08-02T14:49:34.801Z"
   },
   {
    "duration": 8,
    "start_time": "2021-08-02T14:49:50.089Z"
   },
   {
    "duration": 268,
    "start_time": "2021-08-02T14:51:00.004Z"
   },
   {
    "duration": 97,
    "start_time": "2021-08-02T14:51:34.507Z"
   },
   {
    "duration": 73,
    "start_time": "2021-08-02T14:51:38.472Z"
   },
   {
    "duration": 82,
    "start_time": "2021-08-02T14:51:50.295Z"
   },
   {
    "duration": 117,
    "start_time": "2021-08-02T14:52:03.606Z"
   },
   {
    "duration": 271,
    "start_time": "2021-08-02T14:52:35.258Z"
   },
   {
    "duration": 10,
    "start_time": "2021-08-02T14:53:05.451Z"
   },
   {
    "duration": 288,
    "start_time": "2021-08-02T14:54:11.099Z"
   },
   {
    "duration": 14,
    "start_time": "2021-08-02T14:54:33.675Z"
   },
   {
    "duration": 8,
    "start_time": "2021-08-02T14:58:10.244Z"
   },
   {
    "duration": 57,
    "start_time": "2021-08-02T14:59:56.846Z"
   },
   {
    "duration": 278,
    "start_time": "2021-08-02T15:01:58.211Z"
   },
   {
    "duration": 64,
    "start_time": "2021-08-02T15:03:14.063Z"
   },
   {
    "duration": 16,
    "start_time": "2021-08-02T15:03:25.995Z"
   },
   {
    "duration": 95,
    "start_time": "2021-08-02T15:04:01.633Z"
   },
   {
    "duration": 11,
    "start_time": "2021-08-02T15:04:17.783Z"
   },
   {
    "duration": 456,
    "start_time": "2021-08-03T10:56:07.991Z"
   },
   {
    "duration": 946,
    "start_time": "2021-08-03T10:56:25.204Z"
   },
   {
    "duration": 122,
    "start_time": "2021-08-03T10:56:26.153Z"
   },
   {
    "duration": 23,
    "start_time": "2021-08-03T10:56:26.278Z"
   },
   {
    "duration": 12,
    "start_time": "2021-08-03T10:56:26.305Z"
   },
   {
    "duration": 11,
    "start_time": "2021-08-03T10:56:26.319Z"
   },
   {
    "duration": 20,
    "start_time": "2021-08-03T10:56:26.333Z"
   },
   {
    "duration": 38,
    "start_time": "2021-08-03T10:56:26.356Z"
   },
   {
    "duration": 9,
    "start_time": "2021-08-03T10:56:26.398Z"
   },
   {
    "duration": 20,
    "start_time": "2021-08-03T10:56:26.412Z"
   },
   {
    "duration": 6,
    "start_time": "2021-08-03T10:56:26.435Z"
   },
   {
    "duration": 157,
    "start_time": "2021-08-03T10:56:26.444Z"
   },
   {
    "duration": 13,
    "start_time": "2021-08-03T10:56:26.603Z"
   },
   {
    "duration": 13,
    "start_time": "2021-08-03T10:56:26.619Z"
   },
   {
    "duration": 14,
    "start_time": "2021-08-03T10:56:26.635Z"
   },
   {
    "duration": 137,
    "start_time": "2021-08-03T10:56:26.651Z"
   },
   {
    "duration": 13,
    "start_time": "2021-08-03T10:56:26.790Z"
   },
   {
    "duration": 8,
    "start_time": "2021-08-03T10:56:26.806Z"
   },
   {
    "duration": 10,
    "start_time": "2021-08-03T10:56:26.817Z"
   },
   {
    "duration": 61,
    "start_time": "2021-08-03T10:56:26.830Z"
   },
   {
    "duration": 19,
    "start_time": "2021-08-03T10:56:26.894Z"
   },
   {
    "duration": 11,
    "start_time": "2021-08-03T10:56:26.917Z"
   },
   {
    "duration": 15,
    "start_time": "2021-08-03T10:56:29.256Z"
   },
   {
    "duration": 10,
    "start_time": "2021-08-03T10:58:13.486Z"
   },
   {
    "duration": 13,
    "start_time": "2021-08-03T10:58:25.990Z"
   },
   {
    "duration": 487,
    "start_time": "2021-08-03T11:06:27.498Z"
   },
   {
    "duration": 133,
    "start_time": "2021-08-03T11:06:34.031Z"
   },
   {
    "duration": 152,
    "start_time": "2021-08-03T11:06:41.499Z"
   },
   {
    "duration": 4,
    "start_time": "2021-08-03T11:06:47.427Z"
   },
   {
    "duration": 5,
    "start_time": "2021-08-03T11:06:49.623Z"
   },
   {
    "duration": 835,
    "start_time": "2021-08-03T11:07:04.574Z"
   },
   {
    "duration": 739,
    "start_time": "2021-08-03T11:07:21.530Z"
   },
   {
    "duration": 7,
    "start_time": "2021-08-03T11:08:01.192Z"
   },
   {
    "duration": 4,
    "start_time": "2021-08-03T11:08:02.934Z"
   },
   {
    "duration": 685,
    "start_time": "2021-08-03T11:08:27.852Z"
   },
   {
    "duration": 647,
    "start_time": "2021-08-03T11:10:47.988Z"
   },
   {
    "duration": 7,
    "start_time": "2021-08-03T11:10:54.004Z"
   },
   {
    "duration": 4238,
    "start_time": "2021-08-03T11:13:48.912Z"
   },
   {
    "duration": 29,
    "start_time": "2021-08-03T11:14:12.085Z"
   },
   {
    "duration": 5,
    "start_time": "2021-08-03T11:16:57.027Z"
   },
   {
    "duration": 6,
    "start_time": "2021-08-03T11:20:47.655Z"
   },
   {
    "duration": 6,
    "start_time": "2021-08-03T11:21:30.785Z"
   },
   {
    "duration": 426,
    "start_time": "2021-08-03T11:26:06.150Z"
   },
   {
    "duration": 412,
    "start_time": "2021-08-03T11:26:09.934Z"
   },
   {
    "duration": 80,
    "start_time": "2021-08-03T11:26:26.187Z"
   },
   {
    "duration": 116,
    "start_time": "2021-08-03T11:26:26.270Z"
   },
   {
    "duration": 15,
    "start_time": "2021-08-03T11:26:26.389Z"
   },
   {
    "duration": 8,
    "start_time": "2021-08-03T11:26:26.407Z"
   },
   {
    "duration": 8,
    "start_time": "2021-08-03T11:26:26.418Z"
   },
   {
    "duration": 11,
    "start_time": "2021-08-03T11:26:26.428Z"
   },
   {
    "duration": 51,
    "start_time": "2021-08-03T11:26:26.442Z"
   },
   {
    "duration": 7,
    "start_time": "2021-08-03T11:26:26.497Z"
   },
   {
    "duration": 16,
    "start_time": "2021-08-03T11:26:26.508Z"
   },
   {
    "duration": 5,
    "start_time": "2021-08-03T11:26:26.527Z"
   },
   {
    "duration": 133,
    "start_time": "2021-08-03T11:26:26.535Z"
   },
   {
    "duration": 21,
    "start_time": "2021-08-03T11:26:26.670Z"
   },
   {
    "duration": 12,
    "start_time": "2021-08-03T11:26:26.694Z"
   },
   {
    "duration": 11,
    "start_time": "2021-08-03T11:26:26.709Z"
   },
   {
    "duration": 121,
    "start_time": "2021-08-03T11:26:26.725Z"
   },
   {
    "duration": 12,
    "start_time": "2021-08-03T11:26:26.849Z"
   },
   {
    "duration": 30,
    "start_time": "2021-08-03T11:26:26.863Z"
   },
   {
    "duration": 8,
    "start_time": "2021-08-03T11:26:26.896Z"
   },
   {
    "duration": 11,
    "start_time": "2021-08-03T11:26:26.906Z"
   },
   {
    "duration": 15,
    "start_time": "2021-08-03T11:26:26.919Z"
   },
   {
    "duration": 383,
    "start_time": "2021-08-03T11:26:34.210Z"
   },
   {
    "duration": 4,
    "start_time": "2021-08-03T11:29:57.931Z"
   },
   {
    "duration": 8,
    "start_time": "2021-08-03T11:30:11.358Z"
   },
   {
    "duration": 810,
    "start_time": "2021-08-03T11:30:35.401Z"
   },
   {
    "duration": 4,
    "start_time": "2021-08-03T11:31:12.813Z"
   },
   {
    "duration": 783,
    "start_time": "2021-08-03T11:31:15.680Z"
   },
   {
    "duration": 124,
    "start_time": "2021-08-03T11:32:47.284Z"
   },
   {
    "duration": 4,
    "start_time": "2021-08-03T11:32:55.388Z"
   },
   {
    "duration": 769,
    "start_time": "2021-08-03T11:33:00.155Z"
   },
   {
    "duration": 4,
    "start_time": "2021-08-03T11:37:34.489Z"
   },
   {
    "duration": 32,
    "start_time": "2021-08-03T11:37:35.644Z"
   },
   {
    "duration": 4,
    "start_time": "2021-08-03T11:38:27.011Z"
   },
   {
    "duration": 821,
    "start_time": "2021-08-03T11:38:28.502Z"
   },
   {
    "duration": 128,
    "start_time": "2021-08-03T11:42:27.624Z"
   },
   {
    "duration": 4,
    "start_time": "2021-08-03T11:42:34.966Z"
   },
   {
    "duration": 829,
    "start_time": "2021-08-03T11:42:35.489Z"
   },
   {
    "duration": 4,
    "start_time": "2021-08-03T11:43:08.576Z"
   },
   {
    "duration": 971,
    "start_time": "2021-08-03T11:43:09.989Z"
   },
   {
    "duration": 5,
    "start_time": "2021-08-03T11:43:23.811Z"
   },
   {
    "duration": 5111,
    "start_time": "2021-08-03T11:43:24.835Z"
   },
   {
    "duration": 136,
    "start_time": "2021-08-03T11:44:42.639Z"
   },
   {
    "duration": 5,
    "start_time": "2021-08-03T11:44:49.822Z"
   },
   {
    "duration": 5167,
    "start_time": "2021-08-03T11:44:51.164Z"
   },
   {
    "duration": 5,
    "start_time": "2021-08-03T11:46:09.974Z"
   },
   {
    "duration": 10137,
    "start_time": "2021-08-03T11:46:10.976Z"
   },
   {
    "duration": 8,
    "start_time": "2021-08-03T11:46:25.640Z"
   },
   {
    "duration": 133,
    "start_time": "2021-08-03T11:48:38.465Z"
   },
   {
    "duration": 4,
    "start_time": "2021-08-03T11:48:50.290Z"
   },
   {
    "duration": 2273,
    "start_time": "2021-08-03T11:48:55.419Z"
   },
   {
    "duration": 121,
    "start_time": "2021-08-03T11:48:57.695Z"
   },
   {
    "duration": 14,
    "start_time": "2021-08-03T11:48:57.819Z"
   },
   {
    "duration": 33,
    "start_time": "2021-08-03T11:48:57.837Z"
   },
   {
    "duration": 17,
    "start_time": "2021-08-03T11:48:57.873Z"
   },
   {
    "duration": 22,
    "start_time": "2021-08-03T11:48:57.893Z"
   },
   {
    "duration": 38,
    "start_time": "2021-08-03T11:48:57.918Z"
   },
   {
    "duration": 9,
    "start_time": "2021-08-03T11:48:57.961Z"
   },
   {
    "duration": 31,
    "start_time": "2021-08-03T11:48:57.973Z"
   },
   {
    "duration": 4,
    "start_time": "2021-08-03T11:48:58.007Z"
   },
   {
    "duration": 116,
    "start_time": "2021-08-03T11:48:58.014Z"
   },
   {
    "duration": 11,
    "start_time": "2021-08-03T11:48:58.133Z"
   },
   {
    "duration": 8,
    "start_time": "2021-08-03T11:48:58.147Z"
   },
   {
    "duration": 29,
    "start_time": "2021-08-03T11:48:58.157Z"
   },
   {
    "duration": 110,
    "start_time": "2021-08-03T11:48:58.189Z"
   },
   {
    "duration": 11,
    "start_time": "2021-08-03T11:48:58.302Z"
   },
   {
    "duration": 9,
    "start_time": "2021-08-03T11:48:58.316Z"
   },
   {
    "duration": 10,
    "start_time": "2021-08-03T11:48:58.327Z"
   },
   {
    "duration": 50,
    "start_time": "2021-08-03T11:48:58.340Z"
   },
   {
    "duration": 17,
    "start_time": "2021-08-03T11:48:58.393Z"
   },
   {
    "duration": 415,
    "start_time": "2021-08-03T11:52:22.015Z"
   },
   {
    "duration": 1596,
    "start_time": "2021-08-03T11:54:06.084Z"
   },
   {
    "duration": 383,
    "start_time": "2021-08-03T11:58:19.527Z"
   },
   {
    "duration": 62,
    "start_time": "2021-08-03T11:58:53.393Z"
   },
   {
    "duration": 4,
    "start_time": "2021-08-03T11:58:54.193Z"
   },
   {
    "duration": 23,
    "start_time": "2021-08-03T11:58:56.669Z"
   },
   {
    "duration": 6,
    "start_time": "2021-08-03T11:59:03.967Z"
   },
   {
    "duration": 78,
    "start_time": "2021-08-03T11:59:14.201Z"
   },
   {
    "duration": 111,
    "start_time": "2021-08-03T11:59:14.282Z"
   },
   {
    "duration": 14,
    "start_time": "2021-08-03T11:59:14.397Z"
   },
   {
    "duration": 6,
    "start_time": "2021-08-03T11:59:14.414Z"
   },
   {
    "duration": 18,
    "start_time": "2021-08-03T11:59:14.423Z"
   },
   {
    "duration": 10,
    "start_time": "2021-08-03T11:59:14.443Z"
   },
   {
    "duration": 12,
    "start_time": "2021-08-03T11:59:14.486Z"
   },
   {
    "duration": 10,
    "start_time": "2021-08-03T11:59:14.502Z"
   },
   {
    "duration": 27,
    "start_time": "2021-08-03T11:59:14.515Z"
   },
   {
    "duration": 5,
    "start_time": "2021-08-03T11:59:14.545Z"
   },
   {
    "duration": 121,
    "start_time": "2021-08-03T11:59:14.553Z"
   },
   {
    "duration": 16,
    "start_time": "2021-08-03T11:59:14.677Z"
   },
   {
    "duration": 10,
    "start_time": "2021-08-03T11:59:14.695Z"
   },
   {
    "duration": 13,
    "start_time": "2021-08-03T11:59:14.707Z"
   },
   {
    "duration": 136,
    "start_time": "2021-08-03T11:59:14.723Z"
   },
   {
    "duration": 23,
    "start_time": "2021-08-03T11:59:14.862Z"
   },
   {
    "duration": 7,
    "start_time": "2021-08-03T11:59:14.888Z"
   },
   {
    "duration": 8,
    "start_time": "2021-08-03T11:59:14.897Z"
   },
   {
    "duration": 16,
    "start_time": "2021-08-03T11:59:14.908Z"
   },
   {
    "duration": 22,
    "start_time": "2021-08-03T11:59:14.926Z"
   },
   {
    "duration": 9,
    "start_time": "2021-08-03T11:59:20.994Z"
   },
   {
    "duration": 4,
    "start_time": "2021-08-03T11:59:24.352Z"
   },
   {
    "duration": 26,
    "start_time": "2021-08-03T11:59:27.211Z"
   },
   {
    "duration": 6,
    "start_time": "2021-08-03T11:59:29.193Z"
   },
   {
    "duration": 24,
    "start_time": "2021-08-03T11:59:55.948Z"
   },
   {
    "duration": 5,
    "start_time": "2021-08-03T12:00:10.744Z"
   },
   {
    "duration": 4894,
    "start_time": "2021-08-03T12:00:16.195Z"
   },
   {
    "duration": 82,
    "start_time": "2021-08-03T12:00:26.344Z"
   },
   {
    "duration": 116,
    "start_time": "2021-08-03T12:00:26.429Z"
   },
   {
    "duration": 15,
    "start_time": "2021-08-03T12:00:26.548Z"
   },
   {
    "duration": 24,
    "start_time": "2021-08-03T12:00:26.566Z"
   },
   {
    "duration": 6,
    "start_time": "2021-08-03T12:00:26.592Z"
   },
   {
    "duration": 15,
    "start_time": "2021-08-03T12:00:26.600Z"
   },
   {
    "duration": 14,
    "start_time": "2021-08-03T12:00:26.617Z"
   },
   {
    "duration": 7,
    "start_time": "2021-08-03T12:00:26.634Z"
   },
   {
    "duration": 55,
    "start_time": "2021-08-03T12:00:26.643Z"
   },
   {
    "duration": 4,
    "start_time": "2021-08-03T12:00:26.700Z"
   },
   {
    "duration": 118,
    "start_time": "2021-08-03T12:00:26.707Z"
   },
   {
    "duration": 11,
    "start_time": "2021-08-03T12:00:26.828Z"
   },
   {
    "duration": 10,
    "start_time": "2021-08-03T12:00:26.841Z"
   },
   {
    "duration": 37,
    "start_time": "2021-08-03T12:00:26.853Z"
   },
   {
    "duration": 113,
    "start_time": "2021-08-03T12:00:26.893Z"
   },
   {
    "duration": 9,
    "start_time": "2021-08-03T12:00:27.008Z"
   },
   {
    "duration": 7,
    "start_time": "2021-08-03T12:00:27.020Z"
   },
   {
    "duration": 6,
    "start_time": "2021-08-03T12:00:27.030Z"
   },
   {
    "duration": 52,
    "start_time": "2021-08-03T12:00:27.039Z"
   },
   {
    "duration": 16,
    "start_time": "2021-08-03T12:01:00.096Z"
   },
   {
    "duration": 7,
    "start_time": "2021-08-03T12:01:01.439Z"
   },
   {
    "duration": 4,
    "start_time": "2021-08-03T12:01:05.476Z"
   },
   {
    "duration": 5,
    "start_time": "2021-08-03T12:01:18.756Z"
   },
   {
    "duration": 25,
    "start_time": "2021-08-03T12:01:20.924Z"
   },
   {
    "duration": 6,
    "start_time": "2021-08-03T12:01:23.029Z"
   },
   {
    "duration": 78,
    "start_time": "2021-08-03T12:01:29.093Z"
   },
   {
    "duration": 106,
    "start_time": "2021-08-03T12:01:29.174Z"
   },
   {
    "duration": 15,
    "start_time": "2021-08-03T12:01:29.286Z"
   },
   {
    "duration": 8,
    "start_time": "2021-08-03T12:01:29.303Z"
   },
   {
    "duration": 6,
    "start_time": "2021-08-03T12:01:29.313Z"
   },
   {
    "duration": 7,
    "start_time": "2021-08-03T12:01:29.322Z"
   },
   {
    "duration": 56,
    "start_time": "2021-08-03T12:01:29.331Z"
   },
   {
    "duration": 7,
    "start_time": "2021-08-03T12:01:29.390Z"
   },
   {
    "duration": 23,
    "start_time": "2021-08-03T12:01:29.400Z"
   },
   {
    "duration": 5,
    "start_time": "2021-08-03T12:01:29.425Z"
   },
   {
    "duration": 111,
    "start_time": "2021-08-03T12:01:29.432Z"
   },
   {
    "duration": 11,
    "start_time": "2021-08-03T12:01:29.546Z"
   },
   {
    "duration": 28,
    "start_time": "2021-08-03T12:01:29.559Z"
   },
   {
    "duration": 20,
    "start_time": "2021-08-03T12:01:29.589Z"
   },
   {
    "duration": 94,
    "start_time": "2021-08-03T12:01:29.611Z"
   },
   {
    "duration": 9,
    "start_time": "2021-08-03T12:01:29.707Z"
   },
   {
    "duration": 13,
    "start_time": "2021-08-03T12:01:29.719Z"
   },
   {
    "duration": 19,
    "start_time": "2021-08-03T12:01:29.735Z"
   },
   {
    "duration": 12,
    "start_time": "2021-08-03T12:01:29.756Z"
   },
   {
    "duration": 22,
    "start_time": "2021-08-03T12:01:29.770Z"
   },
   {
    "duration": 5,
    "start_time": "2021-08-03T12:01:42.499Z"
   },
   {
    "duration": 4511,
    "start_time": "2021-08-03T12:01:44.926Z"
   },
   {
    "duration": 5,
    "start_time": "2021-08-03T12:02:43.169Z"
   },
   {
    "duration": 828,
    "start_time": "2021-08-03T12:02:44.695Z"
   },
   {
    "duration": 6,
    "start_time": "2021-08-03T12:02:54.072Z"
   },
   {
    "duration": 83,
    "start_time": "2021-08-03T12:03:00.360Z"
   },
   {
    "duration": 143,
    "start_time": "2021-08-03T12:03:00.446Z"
   },
   {
    "duration": 21,
    "start_time": "2021-08-03T12:03:00.594Z"
   },
   {
    "duration": 63,
    "start_time": "2021-08-03T12:03:00.618Z"
   },
   {
    "duration": 25,
    "start_time": "2021-08-03T12:03:00.683Z"
   },
   {
    "duration": 22,
    "start_time": "2021-08-03T12:03:00.711Z"
   },
   {
    "duration": 69,
    "start_time": "2021-08-03T12:03:00.736Z"
   },
   {
    "duration": 38,
    "start_time": "2021-08-03T12:03:00.809Z"
   },
   {
    "duration": 48,
    "start_time": "2021-08-03T12:03:00.849Z"
   },
   {
    "duration": 22,
    "start_time": "2021-08-03T12:03:00.901Z"
   },
   {
    "duration": 127,
    "start_time": "2021-08-03T12:03:00.925Z"
   },
   {
    "duration": 14,
    "start_time": "2021-08-03T12:03:01.055Z"
   },
   {
    "duration": 35,
    "start_time": "2021-08-03T12:03:01.072Z"
   },
   {
    "duration": 31,
    "start_time": "2021-08-03T12:03:01.110Z"
   },
   {
    "duration": 103,
    "start_time": "2021-08-03T12:03:01.144Z"
   },
   {
    "duration": 9,
    "start_time": "2021-08-03T12:03:01.249Z"
   },
   {
    "duration": 43,
    "start_time": "2021-08-03T12:03:01.260Z"
   },
   {
    "duration": 55,
    "start_time": "2021-08-03T12:03:01.305Z"
   },
   {
    "duration": 43,
    "start_time": "2021-08-03T12:03:01.363Z"
   },
   {
    "duration": 53,
    "start_time": "2021-08-03T12:03:01.408Z"
   },
   {
    "duration": 139,
    "start_time": "2021-08-03T12:04:28.468Z"
   },
   {
    "duration": 4,
    "start_time": "2021-08-03T12:04:56.009Z"
   },
   {
    "duration": 69,
    "start_time": "2021-08-03T12:04:57.475Z"
   },
   {
    "duration": 7,
    "start_time": "2021-08-03T12:04:59.383Z"
   },
   {
    "duration": 81,
    "start_time": "2021-08-03T12:05:20.654Z"
   },
   {
    "duration": 135,
    "start_time": "2021-08-03T12:05:20.738Z"
   },
   {
    "duration": 22,
    "start_time": "2021-08-03T12:05:20.875Z"
   },
   {
    "duration": 7,
    "start_time": "2021-08-03T12:05:20.900Z"
   },
   {
    "duration": 9,
    "start_time": "2021-08-03T12:05:20.910Z"
   },
   {
    "duration": 8,
    "start_time": "2021-08-03T12:05:20.921Z"
   },
   {
    "duration": 17,
    "start_time": "2021-08-03T12:05:20.931Z"
   },
   {
    "duration": 40,
    "start_time": "2021-08-03T12:05:20.950Z"
   },
   {
    "duration": 24,
    "start_time": "2021-08-03T12:05:20.993Z"
   },
   {
    "duration": 5,
    "start_time": "2021-08-03T12:05:21.020Z"
   },
   {
    "duration": 125,
    "start_time": "2021-08-03T12:05:21.027Z"
   },
   {
    "duration": 12,
    "start_time": "2021-08-03T12:05:21.154Z"
   },
   {
    "duration": 24,
    "start_time": "2021-08-03T12:05:21.168Z"
   },
   {
    "duration": 14,
    "start_time": "2021-08-03T12:05:21.194Z"
   },
   {
    "duration": 106,
    "start_time": "2021-08-03T12:05:21.210Z"
   },
   {
    "duration": 10,
    "start_time": "2021-08-03T12:05:21.319Z"
   },
   {
    "duration": 12,
    "start_time": "2021-08-03T12:05:21.331Z"
   },
   {
    "duration": 14,
    "start_time": "2021-08-03T12:05:21.346Z"
   },
   {
    "duration": 26,
    "start_time": "2021-08-03T12:05:21.362Z"
   },
   {
    "duration": 14,
    "start_time": "2021-08-03T12:05:21.390Z"
   },
   {
    "duration": 8,
    "start_time": "2021-08-03T12:05:27.360Z"
   },
   {
    "duration": 5,
    "start_time": "2021-08-03T12:05:32.958Z"
   },
   {
    "duration": 10168,
    "start_time": "2021-08-03T12:05:34.362Z"
   },
   {
    "duration": 6,
    "start_time": "2021-08-03T12:05:47.881Z"
   },
   {
    "duration": 80,
    "start_time": "2021-08-03T12:06:03.484Z"
   },
   {
    "duration": 116,
    "start_time": "2021-08-03T12:06:04.083Z"
   },
   {
    "duration": 15,
    "start_time": "2021-08-03T12:06:04.405Z"
   },
   {
    "duration": 7,
    "start_time": "2021-08-03T12:06:04.845Z"
   },
   {
    "duration": 6,
    "start_time": "2021-08-03T12:06:05.404Z"
   },
   {
    "duration": 6,
    "start_time": "2021-08-03T12:06:05.805Z"
   },
   {
    "duration": 10,
    "start_time": "2021-08-03T12:06:07.441Z"
   },
   {
    "duration": 16,
    "start_time": "2021-08-03T12:06:07.454Z"
   },
   {
    "duration": 14,
    "start_time": "2021-08-03T12:06:07.534Z"
   },
   {
    "duration": 11,
    "start_time": "2021-08-03T12:06:07.551Z"
   },
   {
    "duration": 98,
    "start_time": "2021-08-03T12:06:07.565Z"
   },
   {
    "duration": 19,
    "start_time": "2021-08-03T12:06:07.666Z"
   },
   {
    "duration": 146,
    "start_time": "2021-08-03T12:06:07.688Z"
   },
   {
    "duration": 15,
    "start_time": "2021-08-03T12:06:07.837Z"
   },
   {
    "duration": 92,
    "start_time": "2021-08-03T12:06:07.854Z"
   },
   {
    "duration": 8,
    "start_time": "2021-08-03T12:06:07.949Z"
   },
   {
    "duration": 26,
    "start_time": "2021-08-03T12:06:07.960Z"
   },
   {
    "duration": 17,
    "start_time": "2021-08-03T12:06:07.989Z"
   },
   {
    "duration": 27,
    "start_time": "2021-08-03T12:06:08.008Z"
   },
   {
    "duration": 36,
    "start_time": "2021-08-03T12:06:08.037Z"
   },
   {
    "duration": 4,
    "start_time": "2021-08-03T12:06:12.393Z"
   },
   {
    "duration": 10433,
    "start_time": "2021-08-03T12:06:14.055Z"
   },
   {
    "duration": 6,
    "start_time": "2021-08-03T12:06:32.424Z"
   },
   {
    "duration": 79,
    "start_time": "2021-08-03T12:10:43.588Z"
   },
   {
    "duration": 121,
    "start_time": "2021-08-03T12:10:43.670Z"
   },
   {
    "duration": 16,
    "start_time": "2021-08-03T12:10:43.794Z"
   },
   {
    "duration": 12,
    "start_time": "2021-08-03T12:10:43.812Z"
   },
   {
    "duration": 20,
    "start_time": "2021-08-03T12:10:43.827Z"
   },
   {
    "duration": 20,
    "start_time": "2021-08-03T12:10:43.849Z"
   },
   {
    "duration": 37,
    "start_time": "2021-08-03T12:10:43.871Z"
   },
   {
    "duration": 10,
    "start_time": "2021-08-03T12:10:43.912Z"
   },
   {
    "duration": 31,
    "start_time": "2021-08-03T12:10:43.925Z"
   },
   {
    "duration": 12,
    "start_time": "2021-08-03T12:10:43.959Z"
   },
   {
    "duration": 110,
    "start_time": "2021-08-03T12:10:43.974Z"
   },
   {
    "duration": 10,
    "start_time": "2021-08-03T12:10:44.086Z"
   },
   {
    "duration": 15,
    "start_time": "2021-08-03T12:10:44.099Z"
   },
   {
    "duration": 20,
    "start_time": "2021-08-03T12:10:44.116Z"
   },
   {
    "duration": 103,
    "start_time": "2021-08-03T12:10:44.139Z"
   },
   {
    "duration": 8,
    "start_time": "2021-08-03T12:10:44.244Z"
   },
   {
    "duration": 6,
    "start_time": "2021-08-03T12:10:44.255Z"
   },
   {
    "duration": 27,
    "start_time": "2021-08-03T12:10:44.263Z"
   },
   {
    "duration": 12,
    "start_time": "2021-08-03T12:10:44.293Z"
   },
   {
    "duration": 18,
    "start_time": "2021-08-03T12:10:44.307Z"
   },
   {
    "duration": 7,
    "start_time": "2021-08-03T12:10:48.044Z"
   },
   {
    "duration": 4,
    "start_time": "2021-08-03T12:12:37.252Z"
   },
   {
    "duration": 27,
    "start_time": "2021-08-03T12:12:39.768Z"
   },
   {
    "duration": 80,
    "start_time": "2021-08-03T12:12:53.938Z"
   },
   {
    "duration": 154,
    "start_time": "2021-08-03T12:12:54.021Z"
   },
   {
    "duration": 15,
    "start_time": "2021-08-03T12:12:54.178Z"
   },
   {
    "duration": 17,
    "start_time": "2021-08-03T12:12:54.197Z"
   },
   {
    "duration": 33,
    "start_time": "2021-08-03T12:12:54.216Z"
   },
   {
    "duration": 27,
    "start_time": "2021-08-03T12:12:54.251Z"
   },
   {
    "duration": 28,
    "start_time": "2021-08-03T12:12:54.280Z"
   },
   {
    "duration": 18,
    "start_time": "2021-08-03T12:12:54.311Z"
   },
   {
    "duration": 29,
    "start_time": "2021-08-03T12:12:54.333Z"
   },
   {
    "duration": 8,
    "start_time": "2021-08-03T12:12:54.365Z"
   },
   {
    "duration": 102,
    "start_time": "2021-08-03T12:12:54.375Z"
   },
   {
    "duration": 9,
    "start_time": "2021-08-03T12:12:54.480Z"
   },
   {
    "duration": 140,
    "start_time": "2021-08-03T12:12:54.491Z"
   },
   {
    "duration": 31,
    "start_time": "2021-08-03T12:12:54.633Z"
   },
   {
    "duration": 94,
    "start_time": "2021-08-03T12:12:54.667Z"
   },
   {
    "duration": 8,
    "start_time": "2021-08-03T12:12:54.764Z"
   },
   {
    "duration": 11,
    "start_time": "2021-08-03T12:12:54.786Z"
   },
   {
    "duration": 23,
    "start_time": "2021-08-03T12:12:54.800Z"
   },
   {
    "duration": 15,
    "start_time": "2021-08-03T12:12:54.826Z"
   },
   {
    "duration": 26,
    "start_time": "2021-08-03T12:12:54.844Z"
   },
   {
    "duration": 2195,
    "start_time": "2021-08-03T12:13:25.740Z"
   },
   {
    "duration": 4,
    "start_time": "2021-08-03T12:13:47.269Z"
   },
   {
    "duration": 1945,
    "start_time": "2021-08-03T12:13:48.502Z"
   },
   {
    "duration": 675,
    "start_time": "2021-08-03T12:14:50.897Z"
   },
   {
    "duration": 662,
    "start_time": "2021-08-03T12:14:59.218Z"
   },
   {
    "duration": 139,
    "start_time": "2021-08-03T12:15:43.632Z"
   },
   {
    "duration": 5,
    "start_time": "2021-08-03T12:15:56.945Z"
   },
   {
    "duration": 5,
    "start_time": "2021-08-03T12:16:16.435Z"
   },
   {
    "duration": 4,
    "start_time": "2021-08-03T12:17:37.356Z"
   },
   {
    "duration": 5,
    "start_time": "2021-08-03T12:17:38.640Z"
   },
   {
    "duration": 4,
    "start_time": "2021-08-03T12:20:04.030Z"
   },
   {
    "duration": 3862,
    "start_time": "2021-08-03T12:20:06.862Z"
   },
   {
    "duration": 4,
    "start_time": "2021-08-03T12:20:46.764Z"
   },
   {
    "duration": 895,
    "start_time": "2021-08-03T12:20:48.171Z"
   },
   {
    "duration": 76,
    "start_time": "2021-08-03T12:22:11.277Z"
   },
   {
    "duration": 131,
    "start_time": "2021-08-03T12:22:11.356Z"
   },
   {
    "duration": 18,
    "start_time": "2021-08-03T12:22:11.490Z"
   },
   {
    "duration": 10,
    "start_time": "2021-08-03T12:22:11.512Z"
   },
   {
    "duration": 13,
    "start_time": "2021-08-03T12:22:11.525Z"
   },
   {
    "duration": 46,
    "start_time": "2021-08-03T12:22:11.541Z"
   },
   {
    "duration": 18,
    "start_time": "2021-08-03T12:22:11.590Z"
   },
   {
    "duration": 12,
    "start_time": "2021-08-03T12:22:11.613Z"
   },
   {
    "duration": 23,
    "start_time": "2021-08-03T12:22:11.629Z"
   },
   {
    "duration": 31,
    "start_time": "2021-08-03T12:22:11.655Z"
   },
   {
    "duration": 96,
    "start_time": "2021-08-03T12:22:11.689Z"
   },
   {
    "duration": 11,
    "start_time": "2021-08-03T12:22:11.787Z"
   },
   {
    "duration": 17,
    "start_time": "2021-08-03T12:22:11.800Z"
   },
   {
    "duration": 24,
    "start_time": "2021-08-03T12:22:11.819Z"
   },
   {
    "duration": 109,
    "start_time": "2021-08-03T12:22:11.846Z"
   },
   {
    "duration": 27,
    "start_time": "2021-08-03T12:22:11.958Z"
   },
   {
    "duration": 7,
    "start_time": "2021-08-03T12:22:11.989Z"
   },
   {
    "duration": 21,
    "start_time": "2021-08-03T12:22:11.998Z"
   },
   {
    "duration": 18,
    "start_time": "2021-08-03T12:22:12.021Z"
   },
   {
    "duration": 32,
    "start_time": "2021-08-03T12:22:12.041Z"
   },
   {
    "duration": 9,
    "start_time": "2021-08-03T12:22:26.651Z"
   },
   {
    "duration": 456,
    "start_time": "2021-08-03T12:22:30.601Z"
   },
   {
    "duration": 24,
    "start_time": "2021-08-03T12:22:38.652Z"
   },
   {
    "duration": 9,
    "start_time": "2021-08-03T12:22:50.732Z"
   },
   {
    "duration": 3,
    "start_time": "2021-08-03T12:25:41.931Z"
   },
   {
    "duration": 14,
    "start_time": "2021-08-03T12:25:45.443Z"
   },
   {
    "duration": 8,
    "start_time": "2021-08-03T12:25:48.472Z"
   },
   {
    "duration": 6,
    "start_time": "2021-08-03T12:26:05.409Z"
   },
   {
    "duration": 17,
    "start_time": "2021-08-03T12:26:06.884Z"
   },
   {
    "duration": 8,
    "start_time": "2021-08-03T12:26:07.924Z"
   },
   {
    "duration": 79,
    "start_time": "2021-08-03T12:26:25.347Z"
   },
   {
    "duration": 126,
    "start_time": "2021-08-03T12:26:25.428Z"
   },
   {
    "duration": 31,
    "start_time": "2021-08-03T12:26:25.557Z"
   },
   {
    "duration": 8,
    "start_time": "2021-08-03T12:26:25.591Z"
   },
   {
    "duration": 16,
    "start_time": "2021-08-03T12:26:25.601Z"
   },
   {
    "duration": 18,
    "start_time": "2021-08-03T12:26:25.619Z"
   },
   {
    "duration": 28,
    "start_time": "2021-08-03T12:26:25.639Z"
   },
   {
    "duration": 10,
    "start_time": "2021-08-03T12:26:25.686Z"
   },
   {
    "duration": 33,
    "start_time": "2021-08-03T12:26:25.700Z"
   },
   {
    "duration": 11,
    "start_time": "2021-08-03T12:26:25.736Z"
   },
   {
    "duration": 101,
    "start_time": "2021-08-03T12:26:25.749Z"
   },
   {
    "duration": 10,
    "start_time": "2021-08-03T12:26:25.852Z"
   },
   {
    "duration": 23,
    "start_time": "2021-08-03T12:26:25.864Z"
   },
   {
    "duration": 15,
    "start_time": "2021-08-03T12:26:25.890Z"
   },
   {
    "duration": 110,
    "start_time": "2021-08-03T12:26:25.908Z"
   },
   {
    "duration": 8,
    "start_time": "2021-08-03T12:26:26.021Z"
   },
   {
    "duration": 10,
    "start_time": "2021-08-03T12:26:26.032Z"
   },
   {
    "duration": 11,
    "start_time": "2021-08-03T12:26:26.045Z"
   },
   {
    "duration": 34,
    "start_time": "2021-08-03T12:26:26.058Z"
   },
   {
    "duration": 24,
    "start_time": "2021-08-03T12:26:26.094Z"
   },
   {
    "duration": 8,
    "start_time": "2021-08-03T12:26:30.302Z"
   },
   {
    "duration": 25,
    "start_time": "2021-08-03T12:26:37.021Z"
   },
   {
    "duration": 8,
    "start_time": "2021-08-03T12:26:39.549Z"
   },
   {
    "duration": 4,
    "start_time": "2021-08-03T12:26:42.487Z"
   },
   {
    "duration": 15,
    "start_time": "2021-08-03T12:26:44.720Z"
   },
   {
    "duration": 11,
    "start_time": "2021-08-03T12:26:53.486Z"
   },
   {
    "duration": 9,
    "start_time": "2021-08-03T12:27:24.656Z"
   },
   {
    "duration": 2461,
    "start_time": "2021-08-03T13:24:49.133Z"
   },
   {
    "duration": 10,
    "start_time": "2021-08-03T13:25:54.293Z"
   },
   {
    "duration": 8,
    "start_time": "2021-08-03T13:27:48.313Z"
   },
   {
    "duration": 2448,
    "start_time": "2021-08-03T13:28:32.367Z"
   },
   {
    "duration": 9,
    "start_time": "2021-08-03T13:28:46.539Z"
   },
   {
    "duration": 9,
    "start_time": "2021-08-03T13:30:24.236Z"
   },
   {
    "duration": 8,
    "start_time": "2021-08-03T13:31:32.639Z"
   },
   {
    "duration": 6,
    "start_time": "2021-08-03T13:33:26.574Z"
   },
   {
    "duration": 8,
    "start_time": "2021-08-03T13:33:52.450Z"
   },
   {
    "duration": 9,
    "start_time": "2021-08-03T13:35:18.519Z"
   },
   {
    "duration": 11,
    "start_time": "2021-08-03T13:36:17.884Z"
   },
   {
    "duration": 429,
    "start_time": "2021-08-03T13:45:26.917Z"
   },
   {
    "duration": 88,
    "start_time": "2021-08-03T13:48:06.155Z"
   },
   {
    "duration": 7,
    "start_time": "2021-08-03T13:49:03.076Z"
   },
   {
    "duration": 10,
    "start_time": "2021-08-03T13:50:13.589Z"
   },
   {
    "duration": 9916,
    "start_time": "2021-08-03T13:51:45.957Z"
   },
   {
    "duration": 9,
    "start_time": "2021-08-03T13:51:56.324Z"
   },
   {
    "duration": 7,
    "start_time": "2021-08-03T13:52:06.293Z"
   },
   {
    "duration": 8,
    "start_time": "2021-08-03T13:52:07.951Z"
   },
   {
    "duration": 8,
    "start_time": "2021-08-03T13:56:24.445Z"
   },
   {
    "duration": 5,
    "start_time": "2021-08-03T14:00:55.463Z"
   },
   {
    "duration": 8,
    "start_time": "2021-08-03T14:01:01.546Z"
   },
   {
    "duration": 10,
    "start_time": "2021-08-03T14:01:20.494Z"
   },
   {
    "duration": 9,
    "start_time": "2021-08-03T14:02:19.076Z"
   },
   {
    "duration": 7,
    "start_time": "2021-08-03T14:03:55.724Z"
   },
   {
    "duration": 9,
    "start_time": "2021-08-03T14:05:15.196Z"
   },
   {
    "duration": 2807,
    "start_time": "2021-08-03T14:07:43.702Z"
   },
   {
    "duration": 2707,
    "start_time": "2021-08-03T14:08:31.738Z"
   },
   {
    "duration": 4880,
    "start_time": "2021-08-03T14:10:24.876Z"
   },
   {
    "duration": 3080,
    "start_time": "2021-08-03T14:10:35.113Z"
   },
   {
    "duration": 3044,
    "start_time": "2021-08-03T14:10:53.588Z"
   },
   {
    "duration": 4195,
    "start_time": "2021-08-03T14:11:49.733Z"
   },
   {
    "duration": 2756,
    "start_time": "2021-08-03T14:13:50.606Z"
   },
   {
    "duration": 2711,
    "start_time": "2021-08-03T14:14:05.914Z"
   },
   {
    "duration": 2847,
    "start_time": "2021-08-03T14:14:11.861Z"
   },
   {
    "duration": 12,
    "start_time": "2021-08-03T14:14:19.187Z"
   },
   {
    "duration": 6,
    "start_time": "2021-08-03T14:14:22.170Z"
   },
   {
    "duration": 7,
    "start_time": "2021-08-03T14:14:33.672Z"
   },
   {
    "duration": 63,
    "start_time": "2021-08-03T14:17:16.711Z"
   },
   {
    "duration": 7,
    "start_time": "2021-08-03T14:20:45.852Z"
   },
   {
    "duration": 9,
    "start_time": "2021-08-03T14:22:23.700Z"
   },
   {
    "duration": 10,
    "start_time": "2021-08-03T14:22:58.863Z"
   },
   {
    "duration": 454,
    "start_time": "2021-08-03T14:23:42.410Z"
   },
   {
    "duration": 15,
    "start_time": "2021-08-03T14:26:41.278Z"
   },
   {
    "duration": 16,
    "start_time": "2021-08-03T14:26:57.290Z"
   },
   {
    "duration": 31,
    "start_time": "2021-08-03T14:27:28.129Z"
   },
   {
    "duration": 99,
    "start_time": "2021-08-03T14:27:54.167Z"
   },
   {
    "duration": 171,
    "start_time": "2021-08-03T14:27:54.269Z"
   },
   {
    "duration": 18,
    "start_time": "2021-08-03T14:27:54.445Z"
   },
   {
    "duration": 27,
    "start_time": "2021-08-03T14:27:54.465Z"
   },
   {
    "duration": 7,
    "start_time": "2021-08-03T14:27:54.503Z"
   },
   {
    "duration": 8,
    "start_time": "2021-08-03T14:27:54.512Z"
   },
   {
    "duration": 15,
    "start_time": "2021-08-03T14:27:54.523Z"
   },
   {
    "duration": 8,
    "start_time": "2021-08-03T14:27:54.541Z"
   },
   {
    "duration": 23,
    "start_time": "2021-08-03T14:27:54.590Z"
   },
   {
    "duration": 5,
    "start_time": "2021-08-03T14:27:54.617Z"
   },
   {
    "duration": 125,
    "start_time": "2021-08-03T14:27:54.625Z"
   },
   {
    "duration": 13,
    "start_time": "2021-08-03T14:27:54.753Z"
   },
   {
    "duration": 14,
    "start_time": "2021-08-03T14:27:54.785Z"
   },
   {
    "duration": 14,
    "start_time": "2021-08-03T14:27:54.803Z"
   },
   {
    "duration": 133,
    "start_time": "2021-08-03T14:27:54.820Z"
   },
   {
    "duration": 11,
    "start_time": "2021-08-03T14:27:54.955Z"
   },
   {
    "duration": 26,
    "start_time": "2021-08-03T14:27:54.968Z"
   },
   {
    "duration": 22,
    "start_time": "2021-08-03T14:27:54.998Z"
   },
   {
    "duration": 32,
    "start_time": "2021-08-03T14:27:55.023Z"
   },
   {
    "duration": 15,
    "start_time": "2021-08-03T14:27:55.059Z"
   },
   {
    "duration": 14,
    "start_time": "2021-08-03T14:27:55.087Z"
   },
   {
    "duration": 30,
    "start_time": "2021-08-03T14:27:55.104Z"
   },
   {
    "duration": 4,
    "start_time": "2021-08-03T14:27:55.137Z"
   },
   {
    "duration": 55,
    "start_time": "2021-08-03T14:27:55.144Z"
   },
   {
    "duration": 20,
    "start_time": "2021-08-03T14:27:55.203Z"
   },
   {
    "duration": 25,
    "start_time": "2021-08-03T14:27:55.226Z"
   },
   {
    "duration": 2777,
    "start_time": "2021-08-03T14:27:55.259Z"
   },
   {
    "duration": 12,
    "start_time": "2021-08-03T14:27:58.039Z"
   },
   {
    "duration": 2643,
    "start_time": "2021-08-03T14:27:58.054Z"
   },
   {
    "duration": 7,
    "start_time": "2021-08-03T14:28:00.702Z"
   },
   {
    "duration": 42,
    "start_time": "2021-08-03T14:28:00.712Z"
   },
   {
    "duration": 15,
    "start_time": "2021-08-03T14:28:00.757Z"
   },
   {
    "duration": 12,
    "start_time": "2021-08-03T14:28:00.776Z"
   },
   {
    "duration": 31,
    "start_time": "2021-08-03T14:28:00.791Z"
   },
   {
    "duration": 12,
    "start_time": "2021-08-03T14:28:00.825Z"
   },
   {
    "duration": 26,
    "start_time": "2021-08-03T14:28:03.787Z"
   },
   {
    "duration": 31,
    "start_time": "2021-08-03T14:28:06.184Z"
   },
   {
    "duration": 8,
    "start_time": "2021-08-03T14:28:54.711Z"
   },
   {
    "duration": 397,
    "start_time": "2021-08-03T14:29:32.724Z"
   },
   {
    "duration": 1741,
    "start_time": "2021-08-03T14:29:36.021Z"
   },
   {
    "duration": 2714,
    "start_time": "2021-08-03T14:31:40.782Z"
   },
   {
    "duration": 2648,
    "start_time": "2021-08-03T14:31:47.665Z"
   },
   {
    "duration": 3032,
    "start_time": "2021-08-03T14:32:01.718Z"
   },
   {
    "duration": 2673,
    "start_time": "2021-08-03T14:33:02.468Z"
   },
   {
    "duration": 94,
    "start_time": "2021-08-03T14:36:15.573Z"
   },
   {
    "duration": 145,
    "start_time": "2021-08-03T14:36:15.669Z"
   },
   {
    "duration": 14,
    "start_time": "2021-08-03T14:36:15.817Z"
   },
   {
    "duration": 14,
    "start_time": "2021-08-03T14:36:15.838Z"
   },
   {
    "duration": 21,
    "start_time": "2021-08-03T14:36:15.855Z"
   },
   {
    "duration": 19,
    "start_time": "2021-08-03T14:36:15.889Z"
   },
   {
    "duration": 99,
    "start_time": "2021-08-03T14:36:15.911Z"
   },
   {
    "duration": 12,
    "start_time": "2021-08-03T14:36:16.013Z"
   },
   {
    "duration": 14,
    "start_time": "2021-08-03T14:36:16.031Z"
   },
   {
    "duration": 6,
    "start_time": "2021-08-03T14:36:16.048Z"
   },
   {
    "duration": 182,
    "start_time": "2021-08-03T14:36:16.056Z"
   },
   {
    "duration": 11,
    "start_time": "2021-08-03T14:36:16.240Z"
   },
   {
    "duration": 10,
    "start_time": "2021-08-03T14:36:16.254Z"
   },
   {
    "duration": 10,
    "start_time": "2021-08-03T14:36:16.290Z"
   },
   {
    "duration": 140,
    "start_time": "2021-08-03T14:36:16.304Z"
   },
   {
    "duration": 10,
    "start_time": "2021-08-03T14:36:16.446Z"
   },
   {
    "duration": 27,
    "start_time": "2021-08-03T14:36:16.459Z"
   },
   {
    "duration": 16,
    "start_time": "2021-08-03T14:36:16.490Z"
   },
   {
    "duration": 24,
    "start_time": "2021-08-03T14:36:16.508Z"
   },
   {
    "duration": 26,
    "start_time": "2021-08-03T14:36:16.534Z"
   },
   {
    "duration": 10,
    "start_time": "2021-08-03T14:36:16.563Z"
   },
   {
    "duration": 42,
    "start_time": "2021-08-03T14:36:16.587Z"
   },
   {
    "duration": 3,
    "start_time": "2021-08-03T14:36:16.632Z"
   },
   {
    "duration": 22,
    "start_time": "2021-08-03T14:36:16.637Z"
   },
   {
    "duration": 35,
    "start_time": "2021-08-03T14:36:16.662Z"
   },
   {
    "duration": 2493,
    "start_time": "2021-08-03T14:36:16.700Z"
   },
   {
    "duration": 10,
    "start_time": "2021-08-03T14:36:19.196Z"
   },
   {
    "duration": 11,
    "start_time": "2021-08-03T14:36:19.209Z"
   },
   {
    "duration": 2691,
    "start_time": "2021-08-03T14:36:19.224Z"
   },
   {
    "duration": 5,
    "start_time": "2021-08-03T14:36:21.918Z"
   },
   {
    "duration": 15,
    "start_time": "2021-08-03T14:36:21.926Z"
   },
   {
    "duration": 9,
    "start_time": "2021-08-03T14:36:21.943Z"
   },
   {
    "duration": 35,
    "start_time": "2021-08-03T14:36:21.955Z"
   },
   {
    "duration": 14,
    "start_time": "2021-08-03T14:36:21.994Z"
   },
   {
    "duration": 11,
    "start_time": "2021-08-03T14:36:22.011Z"
   },
   {
    "duration": 23,
    "start_time": "2021-08-03T14:36:22.024Z"
   },
   {
    "duration": 19,
    "start_time": "2021-08-03T14:36:33.526Z"
   },
   {
    "duration": 2944,
    "start_time": "2021-08-03T14:37:00.500Z"
   },
   {
    "duration": 4746,
    "start_time": "2021-08-03T14:40:00.213Z"
   },
   {
    "duration": 12243,
    "start_time": "2021-08-03T14:43:58.021Z"
   },
   {
    "duration": 8,
    "start_time": "2021-08-03T14:44:19.753Z"
   },
   {
    "duration": 403,
    "start_time": "2021-08-03T14:45:32.030Z"
   },
   {
    "duration": 10,
    "start_time": "2021-08-03T14:45:40.190Z"
   },
   {
    "duration": 9,
    "start_time": "2021-08-03T14:47:32.953Z"
   },
   {
    "duration": 93,
    "start_time": "2021-08-03T14:48:18.861Z"
   },
   {
    "duration": 8,
    "start_time": "2021-08-03T14:50:06.756Z"
   },
   {
    "duration": 5,
    "start_time": "2021-08-03T14:50:37.362Z"
   },
   {
    "duration": 11,
    "start_time": "2021-08-03T14:50:40.404Z"
   },
   {
    "duration": 77,
    "start_time": "2021-08-03T14:50:56.306Z"
   },
   {
    "duration": 118,
    "start_time": "2021-08-03T14:50:56.386Z"
   },
   {
    "duration": 15,
    "start_time": "2021-08-03T14:50:56.508Z"
   },
   {
    "duration": 8,
    "start_time": "2021-08-03T14:50:56.526Z"
   },
   {
    "duration": 10,
    "start_time": "2021-08-03T14:50:56.537Z"
   },
   {
    "duration": 7,
    "start_time": "2021-08-03T14:50:56.585Z"
   },
   {
    "duration": 15,
    "start_time": "2021-08-03T14:50:56.594Z"
   },
   {
    "duration": 9,
    "start_time": "2021-08-03T14:50:56.611Z"
   },
   {
    "duration": 23,
    "start_time": "2021-08-03T14:50:56.624Z"
   },
   {
    "duration": 36,
    "start_time": "2021-08-03T14:50:56.649Z"
   },
   {
    "duration": 81,
    "start_time": "2021-08-03T14:50:56.688Z"
   },
   {
    "duration": 26,
    "start_time": "2021-08-03T14:50:56.772Z"
   },
   {
    "duration": 9,
    "start_time": "2021-08-03T14:50:56.801Z"
   },
   {
    "duration": 12,
    "start_time": "2021-08-03T14:50:56.813Z"
   },
   {
    "duration": 127,
    "start_time": "2021-08-03T14:50:56.828Z"
   },
   {
    "duration": 10,
    "start_time": "2021-08-03T14:50:56.958Z"
   },
   {
    "duration": 7,
    "start_time": "2021-08-03T14:50:56.986Z"
   },
   {
    "duration": 9,
    "start_time": "2021-08-03T14:50:56.995Z"
   },
   {
    "duration": 16,
    "start_time": "2021-08-03T14:50:57.007Z"
   },
   {
    "duration": 17,
    "start_time": "2021-08-03T14:50:57.025Z"
   },
   {
    "duration": 8,
    "start_time": "2021-08-03T14:50:57.045Z"
   },
   {
    "duration": 53,
    "start_time": "2021-08-03T14:50:57.055Z"
   },
   {
    "duration": 4,
    "start_time": "2021-08-03T14:50:57.111Z"
   },
   {
    "duration": 25,
    "start_time": "2021-08-03T14:50:57.117Z"
   },
   {
    "duration": 10,
    "start_time": "2021-08-03T14:50:57.144Z"
   },
   {
    "duration": 2193,
    "start_time": "2021-08-03T14:50:57.187Z"
   },
   {
    "duration": 9,
    "start_time": "2021-08-03T14:50:59.389Z"
   },
   {
    "duration": 11,
    "start_time": "2021-08-03T14:50:59.400Z"
   },
   {
    "duration": 2273,
    "start_time": "2021-08-03T14:50:59.413Z"
   },
   {
    "duration": 5,
    "start_time": "2021-08-03T14:51:01.690Z"
   },
   {
    "duration": 35,
    "start_time": "2021-08-03T14:51:01.699Z"
   },
   {
    "duration": 29,
    "start_time": "2021-08-03T14:51:01.737Z"
   },
   {
    "duration": 102,
    "start_time": "2021-08-03T14:51:01.768Z"
   },
   {
    "duration": 13,
    "start_time": "2021-08-03T14:51:01.872Z"
   },
   {
    "duration": 22,
    "start_time": "2021-08-03T14:51:01.887Z"
   },
   {
    "duration": 9,
    "start_time": "2021-08-03T14:51:32.272Z"
   },
   {
    "duration": 6,
    "start_time": "2021-08-03T14:51:48.093Z"
   },
   {
    "duration": 10,
    "start_time": "2021-08-03T14:51:55.215Z"
   },
   {
    "duration": 8,
    "start_time": "2021-08-03T14:51:57.094Z"
   },
   {
    "duration": 183,
    "start_time": "2021-08-03T14:56:15.473Z"
   },
   {
    "duration": 9,
    "start_time": "2021-08-03T14:56:21.446Z"
   },
   {
    "duration": 8,
    "start_time": "2021-08-03T14:56:31.109Z"
   },
   {
    "duration": 97,
    "start_time": "2021-08-03T14:57:32.979Z"
   },
   {
    "duration": 42,
    "start_time": "2021-08-03T14:58:42.293Z"
   },
   {
    "duration": 85,
    "start_time": "2021-08-03T14:58:46.600Z"
   },
   {
    "duration": 153,
    "start_time": "2021-08-03T14:58:46.688Z"
   },
   {
    "duration": 45,
    "start_time": "2021-08-03T14:58:46.844Z"
   },
   {
    "duration": 9,
    "start_time": "2021-08-03T14:58:46.891Z"
   },
   {
    "duration": 7,
    "start_time": "2021-08-03T14:58:46.902Z"
   },
   {
    "duration": 8,
    "start_time": "2021-08-03T14:58:46.911Z"
   },
   {
    "duration": 65,
    "start_time": "2021-08-03T14:58:46.922Z"
   },
   {
    "duration": 7,
    "start_time": "2021-08-03T14:58:46.991Z"
   },
   {
    "duration": 24,
    "start_time": "2021-08-03T14:58:47.001Z"
   },
   {
    "duration": 5,
    "start_time": "2021-08-03T14:58:47.027Z"
   },
   {
    "duration": 154,
    "start_time": "2021-08-03T14:58:47.034Z"
   },
   {
    "duration": 19,
    "start_time": "2021-08-03T14:58:47.192Z"
   },
   {
    "duration": 15,
    "start_time": "2021-08-03T14:58:47.215Z"
   },
   {
    "duration": 22,
    "start_time": "2021-08-03T14:58:47.234Z"
   },
   {
    "duration": 117,
    "start_time": "2021-08-03T14:58:47.259Z"
   },
   {
    "duration": 12,
    "start_time": "2021-08-03T14:58:47.387Z"
   },
   {
    "duration": 14,
    "start_time": "2021-08-03T14:58:47.402Z"
   },
   {
    "duration": 11,
    "start_time": "2021-08-03T14:58:47.419Z"
   },
   {
    "duration": 14,
    "start_time": "2021-08-03T14:58:47.432Z"
   },
   {
    "duration": 49,
    "start_time": "2021-08-03T14:58:47.449Z"
   },
   {
    "duration": 11,
    "start_time": "2021-08-03T14:58:47.502Z"
   },
   {
    "duration": 25,
    "start_time": "2021-08-03T14:58:47.516Z"
   },
   {
    "duration": 41,
    "start_time": "2021-08-03T14:58:47.546Z"
   },
   {
    "duration": 28,
    "start_time": "2021-08-03T14:58:47.592Z"
   },
   {
    "duration": 14,
    "start_time": "2021-08-03T14:58:47.622Z"
   },
   {
    "duration": 2352,
    "start_time": "2021-08-03T14:58:47.639Z"
   },
   {
    "duration": 9,
    "start_time": "2021-08-03T14:58:49.994Z"
   },
   {
    "duration": 11,
    "start_time": "2021-08-03T14:58:50.006Z"
   },
   {
    "duration": 2659,
    "start_time": "2021-08-03T14:58:50.019Z"
   },
   {
    "duration": 5,
    "start_time": "2021-08-03T14:58:52.684Z"
   },
   {
    "duration": 14,
    "start_time": "2021-08-03T14:58:52.692Z"
   },
   {
    "duration": 12,
    "start_time": "2021-08-03T14:58:52.709Z"
   },
   {
    "duration": 132,
    "start_time": "2021-08-03T14:58:52.724Z"
   },
   {
    "duration": 9,
    "start_time": "2021-08-03T14:58:52.859Z"
   },
   {
    "duration": 5,
    "start_time": "2021-08-03T14:58:52.887Z"
   },
   {
    "duration": 17,
    "start_time": "2021-08-03T14:58:52.895Z"
   },
   {
    "duration": 23,
    "start_time": "2021-08-03T14:58:52.915Z"
   },
   {
    "duration": 12,
    "start_time": "2021-08-03T14:58:52.941Z"
   },
   {
    "duration": 130,
    "start_time": "2021-08-03T14:58:52.956Z"
   },
   {
    "duration": 10,
    "start_time": "2021-08-03T14:58:53.090Z"
   },
   {
    "duration": 20,
    "start_time": "2021-08-03T14:59:05.165Z"
   },
   {
    "duration": 23,
    "start_time": "2021-08-03T15:01:42.454Z"
   },
   {
    "duration": 18,
    "start_time": "2021-08-03T15:01:44.431Z"
   },
   {
    "duration": 299,
    "start_time": "2021-08-04T13:56:26.825Z"
   },
   {
    "duration": 268,
    "start_time": "2021-08-04T13:56:36.700Z"
   },
   {
    "duration": 656,
    "start_time": "2021-08-04T13:56:40.830Z"
   },
   {
    "duration": 89,
    "start_time": "2021-08-04T13:56:52.027Z"
   },
   {
    "duration": 15,
    "start_time": "2021-08-04T13:56:54.871Z"
   },
   {
    "duration": 3,
    "start_time": "2021-08-04T13:57:46.156Z"
   },
   {
    "duration": 13,
    "start_time": "2021-08-04T13:57:49.579Z"
   },
   {
    "duration": 11,
    "start_time": "2021-08-04T13:58:01.696Z"
   },
   {
    "duration": 9,
    "start_time": "2021-08-04T13:58:14.354Z"
   },
   {
    "duration": 4,
    "start_time": "2021-08-04T13:58:28.119Z"
   },
   {
    "duration": 9,
    "start_time": "2021-08-04T13:58:38.698Z"
   },
   {
    "duration": 13,
    "start_time": "2021-08-04T13:59:44.225Z"
   },
   {
    "duration": 9,
    "start_time": "2021-08-04T14:00:08.024Z"
   },
   {
    "duration": 7,
    "start_time": "2021-08-04T14:11:05.071Z"
   },
   {
    "duration": 58,
    "start_time": "2021-08-04T14:11:15.824Z"
   },
   {
    "duration": 68,
    "start_time": "2021-08-04T14:11:15.884Z"
   },
   {
    "duration": 9,
    "start_time": "2021-08-04T14:11:15.954Z"
   },
   {
    "duration": 8,
    "start_time": "2021-08-04T14:11:15.964Z"
   },
   {
    "duration": 5,
    "start_time": "2021-08-04T14:11:16.160Z"
   },
   {
    "duration": 9,
    "start_time": "2021-08-04T14:11:16.264Z"
   },
   {
    "duration": 10,
    "start_time": "2021-08-04T14:11:16.383Z"
   },
   {
    "duration": 2,
    "start_time": "2021-08-04T14:11:16.395Z"
   },
   {
    "duration": 48,
    "start_time": "2021-08-04T14:11:16.402Z"
   },
   {
    "duration": 8,
    "start_time": "2021-08-04T14:11:16.524Z"
   },
   {
    "duration": 6,
    "start_time": "2021-08-04T14:11:16.534Z"
   },
   {
    "duration": 48,
    "start_time": "2021-08-04T14:11:16.603Z"
   },
   {
    "duration": 5,
    "start_time": "2021-08-04T14:11:16.705Z"
   },
   {
    "duration": 8,
    "start_time": "2021-08-04T14:11:16.831Z"
   },
   {
    "duration": 5,
    "start_time": "2021-08-04T14:11:16.841Z"
   },
   {
    "duration": 16,
    "start_time": "2021-08-04T14:11:16.933Z"
   },
   {
    "duration": 6,
    "start_time": "2021-08-04T14:11:16.951Z"
   },
   {
    "duration": 12,
    "start_time": "2021-08-04T14:11:16.959Z"
   },
   {
    "duration": 1284,
    "start_time": "2021-08-04T14:11:17.063Z"
   },
   {
    "duration": 1292,
    "start_time": "2021-08-04T14:11:18.349Z"
   },
   {
    "duration": 3,
    "start_time": "2021-08-04T14:11:19.643Z"
   },
   {
    "duration": 12,
    "start_time": "2021-08-04T14:11:19.648Z"
   },
   {
    "duration": 53,
    "start_time": "2021-08-04T14:11:19.661Z"
   },
   {
    "duration": 3,
    "start_time": "2021-08-04T14:11:19.716Z"
   },
   {
    "duration": 23,
    "start_time": "2021-08-04T14:11:19.721Z"
   },
   {
    "duration": 5,
    "start_time": "2021-08-04T14:11:19.746Z"
   },
   {
    "duration": 57,
    "start_time": "2021-08-04T14:11:19.753Z"
   },
   {
    "duration": 5,
    "start_time": "2021-08-04T14:11:19.811Z"
   },
   {
    "duration": 37,
    "start_time": "2021-08-04T14:11:19.818Z"
   },
   {
    "duration": 13,
    "start_time": "2021-08-04T14:11:25.051Z"
   },
   {
    "duration": 9,
    "start_time": "2021-08-04T14:11:26.793Z"
   },
   {
    "duration": 4,
    "start_time": "2021-08-04T14:20:22.100Z"
   },
   {
    "duration": 15,
    "start_time": "2021-08-04T14:20:35.578Z"
   },
   {
    "duration": 79,
    "start_time": "2021-08-04T14:21:26.883Z"
   },
   {
    "duration": 4,
    "start_time": "2021-08-04T14:21:31.221Z"
   },
   {
    "duration": 348,
    "start_time": "2021-08-04T14:24:56.681Z"
   },
   {
    "duration": 6,
    "start_time": "2021-08-04T14:25:12.873Z"
   },
   {
    "duration": 15,
    "start_time": "2021-08-04T14:25:14.797Z"
   },
   {
    "duration": 253,
    "start_time": "2021-08-04T14:28:52.855Z"
   },
   {
    "duration": 6,
    "start_time": "2021-08-04T14:29:08.514Z"
   },
   {
    "duration": 14,
    "start_time": "2021-08-04T14:29:10.385Z"
   },
   {
    "duration": 6,
    "start_time": "2021-08-04T14:29:30.649Z"
   },
   {
    "duration": 14,
    "start_time": "2021-08-04T14:29:33.222Z"
   },
   {
    "duration": 6533,
    "start_time": "2021-08-04T14:31:13.709Z"
   },
   {
    "duration": 5,
    "start_time": "2021-08-04T14:31:37.425Z"
   },
   {
    "duration": 6,
    "start_time": "2021-08-04T14:31:46.335Z"
   },
   {
    "duration": 3,
    "start_time": "2021-08-04T14:35:22.880Z"
   },
   {
    "duration": 991,
    "start_time": "2021-08-04T14:44:07.115Z"
   },
   {
    "duration": 545,
    "start_time": "2021-08-04T14:44:55.565Z"
   },
   {
    "duration": 4,
    "start_time": "2021-08-04T14:50:41.398Z"
   },
   {
    "duration": 507,
    "start_time": "2021-08-04T14:50:44.245Z"
   },
   {
    "duration": 3,
    "start_time": "2021-08-04T14:50:54.036Z"
   },
   {
    "duration": 496,
    "start_time": "2021-08-04T14:50:55.061Z"
   },
   {
    "duration": 519,
    "start_time": "2021-08-04T14:53:02.886Z"
   },
   {
    "duration": 3,
    "start_time": "2021-08-04T14:58:48.241Z"
   },
   {
    "duration": 1770,
    "start_time": "2021-08-04T14:59:54.922Z"
   },
   {
    "duration": 14,
    "start_time": "2021-08-04T15:00:13.709Z"
   },
   {
    "duration": 262,
    "start_time": "2021-08-04T15:00:41.780Z"
   },
   {
    "duration": 6,
    "start_time": "2021-08-04T15:00:56.768Z"
   },
   {
    "duration": 4,
    "start_time": "2021-08-04T15:03:59.520Z"
   },
   {
    "duration": 4,
    "start_time": "2021-08-04T15:04:21.177Z"
   },
   {
    "duration": 87,
    "start_time": "2021-08-04T15:04:42.696Z"
   },
   {
    "duration": 13,
    "start_time": "2021-08-04T15:05:04.463Z"
   },
   {
    "duration": 1294,
    "start_time": "2021-08-04T15:06:08.103Z"
   },
   {
    "duration": 12,
    "start_time": "2021-08-04T15:06:16.346Z"
   },
   {
    "duration": 58,
    "start_time": "2021-08-04T15:06:24.469Z"
   },
   {
    "duration": 66,
    "start_time": "2021-08-04T15:06:24.529Z"
   },
   {
    "duration": 9,
    "start_time": "2021-08-04T15:06:24.597Z"
   },
   {
    "duration": 20,
    "start_time": "2021-08-04T15:06:24.608Z"
   },
   {
    "duration": 4,
    "start_time": "2021-08-04T15:06:24.663Z"
   },
   {
    "duration": 23,
    "start_time": "2021-08-04T15:06:24.669Z"
   },
   {
    "duration": 19,
    "start_time": "2021-08-04T15:06:24.694Z"
   },
   {
    "duration": 3,
    "start_time": "2021-08-04T15:06:24.787Z"
   },
   {
    "duration": 69,
    "start_time": "2021-08-04T15:06:24.792Z"
   },
   {
    "duration": 6,
    "start_time": "2021-08-04T15:06:24.863Z"
   },
   {
    "duration": 32,
    "start_time": "2021-08-04T15:06:24.870Z"
   },
   {
    "duration": 64,
    "start_time": "2021-08-04T15:06:24.903Z"
   },
   {
    "duration": 4,
    "start_time": "2021-08-04T15:06:24.969Z"
   },
   {
    "duration": 33,
    "start_time": "2021-08-04T15:06:24.974Z"
   },
   {
    "duration": 17,
    "start_time": "2021-08-04T15:06:25.009Z"
   },
   {
    "duration": 29,
    "start_time": "2021-08-04T15:06:25.028Z"
   },
   {
    "duration": 24,
    "start_time": "2021-08-04T15:06:25.058Z"
   },
   {
    "duration": 35,
    "start_time": "2021-08-04T15:06:25.084Z"
   },
   {
    "duration": 1311,
    "start_time": "2021-08-04T15:06:25.120Z"
   },
   {
    "duration": 1280,
    "start_time": "2021-08-04T15:06:26.434Z"
   },
   {
    "duration": 3,
    "start_time": "2021-08-04T15:06:27.716Z"
   },
   {
    "duration": 22,
    "start_time": "2021-08-04T15:06:27.721Z"
   },
   {
    "duration": 72,
    "start_time": "2021-08-04T15:06:27.745Z"
   },
   {
    "duration": 3,
    "start_time": "2021-08-04T15:06:27.819Z"
   },
   {
    "duration": 22,
    "start_time": "2021-08-04T15:06:27.824Z"
   },
   {
    "duration": 25,
    "start_time": "2021-08-04T15:06:27.848Z"
   },
   {
    "duration": 68,
    "start_time": "2021-08-04T15:06:27.874Z"
   },
   {
    "duration": 5,
    "start_time": "2021-08-04T15:06:27.944Z"
   },
   {
    "duration": 25,
    "start_time": "2021-08-04T15:06:27.951Z"
   },
   {
    "duration": 40,
    "start_time": "2021-08-04T15:06:27.977Z"
   },
   {
    "duration": 24,
    "start_time": "2021-08-04T15:06:28.019Z"
   },
   {
    "duration": 22,
    "start_time": "2021-08-04T15:06:28.045Z"
   },
   {
    "duration": 22,
    "start_time": "2021-08-04T15:06:28.068Z"
   },
   {
    "duration": 23,
    "start_time": "2021-08-04T15:06:28.092Z"
   },
   {
    "duration": 27,
    "start_time": "2021-08-04T15:06:28.117Z"
   },
   {
    "duration": 28,
    "start_time": "2021-08-04T15:06:28.145Z"
   },
   {
    "duration": 1786,
    "start_time": "2021-08-04T15:06:28.174Z"
   },
   {
    "duration": 3,
    "start_time": "2021-08-04T15:06:29.962Z"
   },
   {
    "duration": 23,
    "start_time": "2021-08-04T15:06:29.967Z"
   },
   {
    "duration": 14,
    "start_time": "2021-08-04T15:06:32.294Z"
   },
   {
    "duration": 22,
    "start_time": "2021-08-04T15:09:47.155Z"
   },
   {
    "duration": 8,
    "start_time": "2021-08-04T15:10:30.673Z"
   },
   {
    "duration": 209,
    "start_time": "2021-08-04T16:04:37.293Z"
   },
   {
    "duration": 145,
    "start_time": "2021-08-04T16:06:29.846Z"
   },
   {
    "duration": 167,
    "start_time": "2021-08-04T16:06:36.446Z"
   },
   {
    "duration": 8,
    "start_time": "2021-08-04T16:07:25.398Z"
   },
   {
    "duration": 318,
    "start_time": "2021-08-04T16:07:55.015Z"
   },
   {
    "duration": 296,
    "start_time": "2021-08-04T16:08:17.014Z"
   },
   {
    "duration": 144,
    "start_time": "2021-08-04T16:08:28.259Z"
   },
   {
    "duration": 248,
    "start_time": "2021-08-04T16:10:45.646Z"
   },
   {
    "duration": 272,
    "start_time": "2021-08-04T16:15:20.303Z"
   },
   {
    "duration": 168,
    "start_time": "2021-08-04T16:20:27.184Z"
   },
   {
    "duration": 178,
    "start_time": "2021-08-04T16:20:36.996Z"
   },
   {
    "duration": 58,
    "start_time": "2021-08-04T16:20:47.284Z"
   },
   {
    "duration": 77,
    "start_time": "2021-08-04T16:20:47.344Z"
   },
   {
    "duration": 17,
    "start_time": "2021-08-04T16:20:47.423Z"
   },
   {
    "duration": 8,
    "start_time": "2021-08-04T16:20:47.442Z"
   },
   {
    "duration": 7,
    "start_time": "2021-08-04T16:20:47.452Z"
   },
   {
    "duration": 7,
    "start_time": "2021-08-04T16:20:47.461Z"
   },
   {
    "duration": 10,
    "start_time": "2021-08-04T16:20:47.470Z"
   },
   {
    "duration": 3,
    "start_time": "2021-08-04T16:20:47.482Z"
   },
   {
    "duration": 81,
    "start_time": "2021-08-04T16:20:47.487Z"
   },
   {
    "duration": 7,
    "start_time": "2021-08-04T16:20:47.570Z"
   },
   {
    "duration": 10,
    "start_time": "2021-08-04T16:20:47.578Z"
   },
   {
    "duration": 67,
    "start_time": "2021-08-04T16:20:47.589Z"
   },
   {
    "duration": 4,
    "start_time": "2021-08-04T16:20:47.658Z"
   },
   {
    "duration": 13,
    "start_time": "2021-08-04T16:20:47.664Z"
   },
   {
    "duration": 12,
    "start_time": "2021-08-04T16:20:47.679Z"
   },
   {
    "duration": 17,
    "start_time": "2021-08-04T16:20:47.693Z"
   },
   {
    "duration": 9,
    "start_time": "2021-08-04T16:20:47.712Z"
   },
   {
    "duration": 19,
    "start_time": "2021-08-04T16:20:47.722Z"
   },
   {
    "duration": 1310,
    "start_time": "2021-08-04T16:20:47.743Z"
   },
   {
    "duration": 1357,
    "start_time": "2021-08-04T16:20:49.055Z"
   },
   {
    "duration": 3,
    "start_time": "2021-08-04T16:20:50.414Z"
   },
   {
    "duration": 17,
    "start_time": "2021-08-04T16:20:50.419Z"
   },
   {
    "duration": 56,
    "start_time": "2021-08-04T16:20:50.438Z"
   },
   {
    "duration": 3,
    "start_time": "2021-08-04T16:20:50.496Z"
   },
   {
    "duration": 11,
    "start_time": "2021-08-04T16:20:50.502Z"
   },
   {
    "duration": 13,
    "start_time": "2021-08-04T16:20:50.515Z"
   },
   {
    "duration": 59,
    "start_time": "2021-08-04T16:20:50.530Z"
   },
   {
    "duration": 6,
    "start_time": "2021-08-04T16:20:50.590Z"
   },
   {
    "duration": 43,
    "start_time": "2021-08-04T16:20:50.598Z"
   },
   {
    "duration": 16,
    "start_time": "2021-08-04T16:20:50.643Z"
   },
   {
    "duration": 20,
    "start_time": "2021-08-04T16:20:50.661Z"
   },
   {
    "duration": 6,
    "start_time": "2021-08-04T16:20:50.682Z"
   },
   {
    "duration": 27,
    "start_time": "2021-08-04T16:20:50.690Z"
   },
   {
    "duration": 10,
    "start_time": "2021-08-04T16:20:50.719Z"
   },
   {
    "duration": 11,
    "start_time": "2021-08-04T16:20:50.731Z"
   },
   {
    "duration": 8,
    "start_time": "2021-08-04T16:20:50.743Z"
   },
   {
    "duration": 1810,
    "start_time": "2021-08-04T16:20:50.752Z"
   },
   {
    "duration": 4,
    "start_time": "2021-08-04T16:20:52.563Z"
   },
   {
    "duration": 4,
    "start_time": "2021-08-04T16:20:54.434Z"
   },
   {
    "duration": 167,
    "start_time": "2021-08-04T16:20:56.286Z"
   },
   {
    "duration": 3660,
    "start_time": "2021-08-04T16:22:39.467Z"
   },
   {
    "duration": 9,
    "start_time": "2021-08-04T16:25:47.236Z"
   },
   {
    "duration": 174,
    "start_time": "2021-08-04T16:26:04.161Z"
   },
   {
    "duration": 167,
    "start_time": "2021-08-04T16:26:16.747Z"
   },
   {
    "duration": 11,
    "start_time": "2021-08-04T16:26:33.098Z"
   },
   {
    "duration": 160,
    "start_time": "2021-08-04T16:26:34.260Z"
   },
   {
    "duration": 162,
    "start_time": "2021-08-04T16:29:57.821Z"
   },
   {
    "duration": 13,
    "start_time": "2021-08-04T16:32:26.163Z"
   },
   {
    "duration": 351,
    "start_time": "2021-08-04T16:32:34.535Z"
   },
   {
    "duration": 10,
    "start_time": "2021-08-04T16:33:01.630Z"
   },
   {
    "duration": 165,
    "start_time": "2021-08-04T16:33:03.517Z"
   },
   {
    "duration": 176,
    "start_time": "2021-08-04T16:33:16.622Z"
   },
   {
    "duration": 173,
    "start_time": "2021-08-04T16:35:24.385Z"
   },
   {
    "duration": 10,
    "start_time": "2021-08-04T16:36:35.752Z"
   },
   {
    "duration": 178,
    "start_time": "2021-08-04T16:36:42.896Z"
   },
   {
    "duration": 174,
    "start_time": "2021-08-04T16:36:57.613Z"
   },
   {
    "duration": 150,
    "start_time": "2021-08-04T16:38:46.296Z"
   },
   {
    "duration": 161,
    "start_time": "2021-08-04T16:39:02.131Z"
   },
   {
    "duration": 10,
    "start_time": "2021-08-04T16:40:29.142Z"
   },
   {
    "duration": 176,
    "start_time": "2021-08-04T16:40:38.233Z"
   },
   {
    "duration": 11,
    "start_time": "2021-08-04T16:42:32.867Z"
   },
   {
    "duration": 188,
    "start_time": "2021-08-04T16:42:34.802Z"
   },
   {
    "duration": 13,
    "start_time": "2021-08-04T16:42:39.325Z"
   },
   {
    "duration": 173,
    "start_time": "2021-08-04T16:42:40.545Z"
   },
   {
    "duration": 57,
    "start_time": "2021-08-04T16:42:47.172Z"
   },
   {
    "duration": 68,
    "start_time": "2021-08-04T16:42:47.230Z"
   },
   {
    "duration": 10,
    "start_time": "2021-08-04T16:42:47.300Z"
   },
   {
    "duration": 16,
    "start_time": "2021-08-04T16:42:47.311Z"
   },
   {
    "duration": 14,
    "start_time": "2021-08-04T16:42:47.329Z"
   },
   {
    "duration": 18,
    "start_time": "2021-08-04T16:42:47.345Z"
   },
   {
    "duration": 9,
    "start_time": "2021-08-04T16:42:47.365Z"
   },
   {
    "duration": 3,
    "start_time": "2021-08-04T16:42:47.376Z"
   },
   {
    "duration": 62,
    "start_time": "2021-08-04T16:42:47.381Z"
   },
   {
    "duration": 8,
    "start_time": "2021-08-04T16:42:47.444Z"
   },
   {
    "duration": 18,
    "start_time": "2021-08-04T16:42:47.453Z"
   },
   {
    "duration": 64,
    "start_time": "2021-08-04T16:42:47.472Z"
   },
   {
    "duration": 5,
    "start_time": "2021-08-04T16:42:47.537Z"
   },
   {
    "duration": 9,
    "start_time": "2021-08-04T16:42:47.543Z"
   },
   {
    "duration": 15,
    "start_time": "2021-08-04T16:42:47.554Z"
   },
   {
    "duration": 28,
    "start_time": "2021-08-04T16:42:47.571Z"
   },
   {
    "duration": 20,
    "start_time": "2021-08-04T16:42:47.601Z"
   },
   {
    "duration": 27,
    "start_time": "2021-08-04T16:42:47.622Z"
   },
   {
    "duration": 1304,
    "start_time": "2021-08-04T16:42:47.651Z"
   },
   {
    "duration": 1288,
    "start_time": "2021-08-04T16:42:48.957Z"
   },
   {
    "duration": 3,
    "start_time": "2021-08-04T16:42:50.248Z"
   },
   {
    "duration": 20,
    "start_time": "2021-08-04T16:42:50.253Z"
   },
   {
    "duration": 52,
    "start_time": "2021-08-04T16:42:50.274Z"
   },
   {
    "duration": 14,
    "start_time": "2021-08-04T16:42:50.328Z"
   },
   {
    "duration": 13,
    "start_time": "2021-08-04T16:42:50.344Z"
   },
   {
    "duration": 12,
    "start_time": "2021-08-04T16:42:50.359Z"
   },
   {
    "duration": 55,
    "start_time": "2021-08-04T16:42:50.373Z"
   },
   {
    "duration": 5,
    "start_time": "2021-08-04T16:42:50.429Z"
   },
   {
    "duration": 23,
    "start_time": "2021-08-04T16:42:50.436Z"
   },
   {
    "duration": 15,
    "start_time": "2021-08-04T16:42:50.460Z"
   },
   {
    "duration": 9,
    "start_time": "2021-08-04T16:42:50.476Z"
   },
   {
    "duration": 18,
    "start_time": "2021-08-04T16:42:50.487Z"
   },
   {
    "duration": 22,
    "start_time": "2021-08-04T16:42:50.507Z"
   },
   {
    "duration": 23,
    "start_time": "2021-08-04T16:42:50.531Z"
   },
   {
    "duration": 11,
    "start_time": "2021-08-04T16:42:50.556Z"
   },
   {
    "duration": 13,
    "start_time": "2021-08-04T16:42:50.568Z"
   },
   {
    "duration": 1857,
    "start_time": "2021-08-04T16:42:50.583Z"
   },
   {
    "duration": 3,
    "start_time": "2021-08-04T16:42:52.442Z"
   },
   {
    "duration": 14,
    "start_time": "2021-08-04T16:42:52.446Z"
   },
   {
    "duration": 177,
    "start_time": "2021-08-04T16:42:52.462Z"
   },
   {
    "duration": 11,
    "start_time": "2021-08-04T16:42:52.641Z"
   },
   {
    "duration": 173,
    "start_time": "2021-08-04T16:42:52.653Z"
   },
   {
    "duration": 163,
    "start_time": "2021-08-04T16:42:52.828Z"
   },
   {
    "duration": 9,
    "start_time": "2021-08-04T16:42:52.992Z"
   },
   {
    "duration": 177,
    "start_time": "2021-08-04T16:42:53.002Z"
   },
   {
    "duration": 183,
    "start_time": "2021-08-04T16:42:53.182Z"
   },
   {
    "duration": 8,
    "start_time": "2021-08-04T16:42:53.367Z"
   },
   {
    "duration": 189,
    "start_time": "2021-08-04T16:42:53.377Z"
   },
   {
    "duration": 163,
    "start_time": "2021-08-04T16:42:56.370Z"
   },
   {
    "duration": 12,
    "start_time": "2021-08-04T16:43:00.261Z"
   },
   {
    "duration": 219,
    "start_time": "2021-08-04T16:43:01.254Z"
   },
   {
    "duration": 10,
    "start_time": "2021-08-04T16:44:20.593Z"
   },
   {
    "duration": 163,
    "start_time": "2021-08-04T16:44:21.555Z"
   },
   {
    "duration": 9,
    "start_time": "2021-08-04T16:45:10.628Z"
   },
   {
    "duration": 166,
    "start_time": "2021-08-04T16:45:11.599Z"
   },
   {
    "duration": 10,
    "start_time": "2021-08-04T16:45:14.238Z"
   },
   {
    "duration": 57,
    "start_time": "2021-08-04T16:45:21.091Z"
   },
   {
    "duration": 69,
    "start_time": "2021-08-04T16:45:21.149Z"
   },
   {
    "duration": 21,
    "start_time": "2021-08-04T16:45:21.220Z"
   },
   {
    "duration": 8,
    "start_time": "2021-08-04T16:45:21.243Z"
   },
   {
    "duration": 4,
    "start_time": "2021-08-04T16:45:21.253Z"
   },
   {
    "duration": 9,
    "start_time": "2021-08-04T16:45:21.259Z"
   },
   {
    "duration": 9,
    "start_time": "2021-08-04T16:45:21.270Z"
   },
   {
    "duration": 3,
    "start_time": "2021-08-04T16:45:21.282Z"
   },
   {
    "duration": 79,
    "start_time": "2021-08-04T16:45:21.287Z"
   },
   {
    "duration": 7,
    "start_time": "2021-08-04T16:45:21.368Z"
   },
   {
    "duration": 6,
    "start_time": "2021-08-04T16:45:21.376Z"
   },
   {
    "duration": 64,
    "start_time": "2021-08-04T16:45:21.383Z"
   },
   {
    "duration": 5,
    "start_time": "2021-08-04T16:45:21.449Z"
   },
   {
    "duration": 13,
    "start_time": "2021-08-04T16:45:21.455Z"
   },
   {
    "duration": 9,
    "start_time": "2021-08-04T16:45:21.469Z"
   },
   {
    "duration": 162,
    "start_time": "2021-08-04T16:45:21.479Z"
   },
   {
    "duration": 3,
    "start_time": "2021-08-04T16:45:21.643Z"
   },
   {
    "duration": 13,
    "start_time": "2021-08-04T16:45:21.648Z"
   },
   {
    "duration": 1312,
    "start_time": "2021-08-04T16:45:21.663Z"
   },
   {
    "duration": 1315,
    "start_time": "2021-08-04T16:45:22.976Z"
   },
   {
    "duration": 4,
    "start_time": "2021-08-04T16:45:24.293Z"
   },
   {
    "duration": 19,
    "start_time": "2021-08-04T16:45:24.298Z"
   },
   {
    "duration": 53,
    "start_time": "2021-08-04T16:45:24.320Z"
   },
   {
    "duration": 4,
    "start_time": "2021-08-04T16:45:24.375Z"
   },
   {
    "duration": 14,
    "start_time": "2021-08-04T16:45:24.380Z"
   },
   {
    "duration": 9,
    "start_time": "2021-08-04T16:45:24.395Z"
   },
   {
    "duration": 68,
    "start_time": "2021-08-04T16:45:24.405Z"
   },
   {
    "duration": 5,
    "start_time": "2021-08-04T16:45:24.474Z"
   },
   {
    "duration": 16,
    "start_time": "2021-08-04T16:45:24.480Z"
   },
   {
    "duration": 11,
    "start_time": "2021-08-04T16:45:24.498Z"
   },
   {
    "duration": 29,
    "start_time": "2021-08-04T16:45:24.511Z"
   },
   {
    "duration": 4,
    "start_time": "2021-08-04T16:45:24.542Z"
   },
   {
    "duration": 12,
    "start_time": "2021-08-04T16:45:24.547Z"
   },
   {
    "duration": 5,
    "start_time": "2021-08-04T16:45:24.561Z"
   },
   {
    "duration": 11,
    "start_time": "2021-08-04T16:45:24.568Z"
   },
   {
    "duration": 4,
    "start_time": "2021-08-04T16:45:24.581Z"
   },
   {
    "duration": 1734,
    "start_time": "2021-08-04T16:45:24.587Z"
   },
   {
    "duration": 4,
    "start_time": "2021-08-04T16:45:26.322Z"
   },
   {
    "duration": 13,
    "start_time": "2021-08-04T16:45:26.328Z"
   },
   {
    "duration": 178,
    "start_time": "2021-08-04T16:45:26.342Z"
   },
   {
    "duration": 20,
    "start_time": "2021-08-04T16:45:26.522Z"
   },
   {
    "duration": 171,
    "start_time": "2021-08-04T16:45:26.544Z"
   },
   {
    "duration": 170,
    "start_time": "2021-08-04T16:45:26.717Z"
   },
   {
    "duration": 9,
    "start_time": "2021-08-04T16:45:26.889Z"
   },
   {
    "duration": 178,
    "start_time": "2021-08-04T16:45:26.900Z"
   },
   {
    "duration": 183,
    "start_time": "2021-08-04T16:45:27.080Z"
   },
   {
    "duration": 10,
    "start_time": "2021-08-04T16:45:27.265Z"
   },
   {
    "duration": 267,
    "start_time": "2021-08-04T16:45:27.276Z"
   },
   {
    "duration": 161,
    "start_time": "2021-08-04T16:45:33.873Z"
   },
   {
    "duration": 9,
    "start_time": "2021-08-04T16:45:36.743Z"
   },
   {
    "duration": 9,
    "start_time": "2021-08-04T16:45:38.146Z"
   },
   {
    "duration": 187,
    "start_time": "2021-08-04T16:45:39.875Z"
   },
   {
    "duration": 3,
    "start_time": "2021-08-04T16:48:47.114Z"
   },
   {
    "duration": 381,
    "start_time": "2021-08-04T16:55:29.725Z"
   },
   {
    "duration": 11,
    "start_time": "2021-08-04T16:56:03.621Z"
   },
   {
    "duration": 153,
    "start_time": "2021-08-04T16:57:46.178Z"
   },
   {
    "duration": 419,
    "start_time": "2021-08-04T16:58:17.698Z"
   },
   {
    "duration": 373,
    "start_time": "2021-08-04T16:59:02.393Z"
   },
   {
    "duration": 530,
    "start_time": "2021-08-04T17:00:13.611Z"
   },
   {
    "duration": 11,
    "start_time": "2021-08-04T17:00:55.265Z"
   },
   {
    "duration": 15,
    "start_time": "2021-08-04T17:05:29.232Z"
   },
   {
    "duration": 243,
    "start_time": "2021-08-04T17:11:37.519Z"
   },
   {
    "duration": 730,
    "start_time": "2021-08-04T17:12:49.614Z"
   },
   {
    "duration": 247,
    "start_time": "2021-08-04T17:12:58.363Z"
   },
   {
    "duration": 239,
    "start_time": "2021-08-04T17:14:14.313Z"
   },
   {
    "duration": 153,
    "start_time": "2021-08-04T17:14:28.529Z"
   },
   {
    "duration": 143,
    "start_time": "2021-08-04T17:14:36.722Z"
   },
   {
    "duration": 345,
    "start_time": "2021-08-04T17:14:50.509Z"
   },
   {
    "duration": 360,
    "start_time": "2021-08-04T17:15:19.591Z"
   },
   {
    "duration": 423,
    "start_time": "2021-08-04T17:15:30.247Z"
   },
   {
    "duration": 510,
    "start_time": "2021-08-04T17:17:40.674Z"
   },
   {
    "duration": 509,
    "start_time": "2021-08-04T17:17:45.210Z"
   },
   {
    "duration": 885,
    "start_time": "2021-08-04T17:18:24.413Z"
   },
   {
    "duration": 913,
    "start_time": "2021-08-04T17:18:51.549Z"
   },
   {
    "duration": 551,
    "start_time": "2021-08-04T17:19:31.168Z"
   },
   {
    "duration": 560,
    "start_time": "2021-08-04T17:20:26.478Z"
   },
   {
    "duration": 604,
    "start_time": "2021-08-04T17:20:54.089Z"
   },
   {
    "duration": 797,
    "start_time": "2021-08-04T17:21:44.968Z"
   },
   {
    "duration": 945,
    "start_time": "2021-08-04T17:21:57.998Z"
   },
   {
    "duration": 668,
    "start_time": "2021-08-04T17:22:04.015Z"
   },
   {
    "duration": 664,
    "start_time": "2021-08-04T17:22:18.453Z"
   },
   {
    "duration": 731,
    "start_time": "2021-08-04T17:23:30.062Z"
   },
   {
    "duration": 625,
    "start_time": "2021-08-04T17:24:48.950Z"
   },
   {
    "duration": 464,
    "start_time": "2021-08-04T17:25:17.818Z"
   },
   {
    "duration": 517,
    "start_time": "2021-08-04T17:25:38.502Z"
   },
   {
    "duration": 631,
    "start_time": "2021-08-04T17:26:16.234Z"
   },
   {
    "duration": 1060,
    "start_time": "2021-08-04T17:27:24.624Z"
   },
   {
    "duration": 1279,
    "start_time": "2021-08-04T17:28:52.707Z"
   },
   {
    "duration": 888,
    "start_time": "2021-08-04T17:29:35.483Z"
   },
   {
    "duration": 1016,
    "start_time": "2021-08-04T17:29:47.753Z"
   },
   {
    "duration": 939,
    "start_time": "2021-08-04T17:30:01.619Z"
   },
   {
    "duration": 876,
    "start_time": "2021-08-04T17:35:29.058Z"
   },
   {
    "duration": 651,
    "start_time": "2021-08-04T17:37:33.680Z"
   },
   {
    "duration": 828,
    "start_time": "2021-08-04T17:37:45.973Z"
   },
   {
    "duration": 538,
    "start_time": "2021-08-04T17:37:54.277Z"
   },
   {
    "duration": 643,
    "start_time": "2021-08-04T17:40:19.625Z"
   },
   {
    "duration": 971,
    "start_time": "2021-08-04T17:40:30.144Z"
   },
   {
    "duration": 249,
    "start_time": "2021-08-04T17:41:05.602Z"
   },
   {
    "duration": 315,
    "start_time": "2021-08-04T17:41:36.040Z"
   },
   {
    "duration": 910,
    "start_time": "2021-08-04T17:42:00.843Z"
   },
   {
    "duration": 866,
    "start_time": "2021-08-04T17:42:18.000Z"
   },
   {
    "duration": 1129,
    "start_time": "2021-08-04T17:42:31.935Z"
   },
   {
    "duration": 472,
    "start_time": "2021-08-04T17:42:51.071Z"
   },
   {
    "duration": 509,
    "start_time": "2021-08-04T17:43:02.302Z"
   },
   {
    "duration": 464,
    "start_time": "2021-08-04T17:43:17.802Z"
   },
   {
    "duration": 886,
    "start_time": "2021-08-04T17:43:22.910Z"
   },
   {
    "duration": 892,
    "start_time": "2021-08-04T17:44:10.608Z"
   },
   {
    "duration": 697,
    "start_time": "2021-08-04T17:47:29.253Z"
   },
   {
    "duration": 513,
    "start_time": "2021-08-04T17:47:41.829Z"
   },
   {
    "duration": 909,
    "start_time": "2021-08-04T17:48:35.636Z"
   },
   {
    "duration": 236,
    "start_time": "2021-08-04T17:51:49.794Z"
   },
   {
    "duration": 2,
    "start_time": "2021-08-04T17:52:42.011Z"
   },
   {
    "duration": 238,
    "start_time": "2021-08-04T17:52:49.130Z"
   },
   {
    "duration": 56,
    "start_time": "2021-08-04T17:54:12.848Z"
   },
   {
    "duration": 74,
    "start_time": "2021-08-04T17:54:12.906Z"
   },
   {
    "duration": 10,
    "start_time": "2021-08-04T17:54:12.981Z"
   },
   {
    "duration": 21,
    "start_time": "2021-08-04T17:54:12.993Z"
   },
   {
    "duration": 19,
    "start_time": "2021-08-04T17:54:13.016Z"
   },
   {
    "duration": 21,
    "start_time": "2021-08-04T17:54:13.036Z"
   },
   {
    "duration": 17,
    "start_time": "2021-08-04T17:54:13.058Z"
   },
   {
    "duration": 24,
    "start_time": "2021-08-04T17:54:13.077Z"
   },
   {
    "duration": 58,
    "start_time": "2021-08-04T17:54:13.103Z"
   },
   {
    "duration": 6,
    "start_time": "2021-08-04T17:54:13.163Z"
   },
   {
    "duration": 13,
    "start_time": "2021-08-04T17:54:13.171Z"
   },
   {
    "duration": 59,
    "start_time": "2021-08-04T17:54:13.185Z"
   },
   {
    "duration": 5,
    "start_time": "2021-08-04T17:54:13.245Z"
   },
   {
    "duration": 11,
    "start_time": "2021-08-04T17:54:13.252Z"
   },
   {
    "duration": 5,
    "start_time": "2021-08-04T17:54:13.264Z"
   },
   {
    "duration": 19,
    "start_time": "2021-08-04T17:54:13.271Z"
   },
   {
    "duration": 8,
    "start_time": "2021-08-04T17:54:13.292Z"
   },
   {
    "duration": 14,
    "start_time": "2021-08-04T17:54:13.301Z"
   },
   {
    "duration": 1302,
    "start_time": "2021-08-04T17:54:13.317Z"
   },
   {
    "duration": 1322,
    "start_time": "2021-08-04T17:54:14.621Z"
   },
   {
    "duration": 3,
    "start_time": "2021-08-04T17:54:15.945Z"
   },
   {
    "duration": 19,
    "start_time": "2021-08-04T17:54:15.949Z"
   },
   {
    "duration": 53,
    "start_time": "2021-08-04T17:54:15.971Z"
   },
   {
    "duration": 3,
    "start_time": "2021-08-04T17:54:16.026Z"
   },
   {
    "duration": 22,
    "start_time": "2021-08-04T17:54:16.031Z"
   },
   {
    "duration": 20,
    "start_time": "2021-08-04T17:54:16.054Z"
   },
   {
    "duration": 70,
    "start_time": "2021-08-04T17:54:16.075Z"
   },
   {
    "duration": 5,
    "start_time": "2021-08-04T17:54:16.147Z"
   },
   {
    "duration": 41,
    "start_time": "2021-08-04T17:54:16.153Z"
   },
   {
    "duration": 23,
    "start_time": "2021-08-04T17:54:16.196Z"
   },
   {
    "duration": 23,
    "start_time": "2021-08-04T17:54:16.221Z"
   },
   {
    "duration": 14,
    "start_time": "2021-08-04T17:54:16.246Z"
   },
   {
    "duration": 21,
    "start_time": "2021-08-04T17:54:16.261Z"
   },
   {
    "duration": 21,
    "start_time": "2021-08-04T17:54:16.284Z"
   },
   {
    "duration": 21,
    "start_time": "2021-08-04T17:54:16.307Z"
   },
   {
    "duration": 21,
    "start_time": "2021-08-04T17:54:16.329Z"
   },
   {
    "duration": 1958,
    "start_time": "2021-08-04T17:54:16.352Z"
   },
   {
    "duration": 3,
    "start_time": "2021-08-04T17:54:18.312Z"
   },
   {
    "duration": 10,
    "start_time": "2021-08-04T17:54:18.317Z"
   },
   {
    "duration": 9,
    "start_time": "2021-08-04T17:54:18.329Z"
   },
   {
    "duration": 183,
    "start_time": "2021-08-04T17:54:18.340Z"
   },
   {
    "duration": 23,
    "start_time": "2021-08-04T17:54:18.525Z"
   },
   {
    "duration": 181,
    "start_time": "2021-08-04T17:54:18.549Z"
   },
   {
    "duration": 181,
    "start_time": "2021-08-04T17:54:18.732Z"
   },
   {
    "duration": 10,
    "start_time": "2021-08-04T17:54:18.915Z"
   },
   {
    "duration": 194,
    "start_time": "2021-08-04T17:54:18.926Z"
   },
   {
    "duration": 196,
    "start_time": "2021-08-04T17:54:19.121Z"
   },
   {
    "duration": 9,
    "start_time": "2021-08-04T17:54:19.318Z"
   },
   {
    "duration": 178,
    "start_time": "2021-08-04T17:54:19.328Z"
   },
   {
    "duration": 172,
    "start_time": "2021-08-04T17:54:19.508Z"
   },
   {
    "duration": 8,
    "start_time": "2021-08-04T17:54:19.682Z"
   },
   {
    "duration": 9,
    "start_time": "2021-08-04T17:54:19.692Z"
   },
   {
    "duration": 183,
    "start_time": "2021-08-04T17:54:22.935Z"
   },
   {
    "duration": 343,
    "start_time": "2021-08-04T17:54:26.135Z"
   },
   {
    "duration": 260,
    "start_time": "2021-08-04T17:54:37.469Z"
   },
   {
    "duration": 242,
    "start_time": "2021-08-04T17:55:27.597Z"
   },
   {
    "duration": 243,
    "start_time": "2021-08-04T17:56:31.988Z"
   },
   {
    "duration": 6,
    "start_time": "2021-08-04T17:56:39.054Z"
   },
   {
    "duration": 5,
    "start_time": "2021-08-04T17:56:51.888Z"
   },
   {
    "duration": 5,
    "start_time": "2021-08-04T17:57:10.305Z"
   },
   {
    "duration": 243,
    "start_time": "2021-08-04T17:58:06.660Z"
   },
   {
    "duration": 309,
    "start_time": "2021-08-04T18:00:32.794Z"
   },
   {
    "duration": 2,
    "start_time": "2021-08-04T18:05:56.512Z"
   },
   {
    "duration": 85,
    "start_time": "2021-08-04T18:06:17.460Z"
   },
   {
    "duration": 4,
    "start_time": "2021-08-04T18:06:23.797Z"
   },
   {
    "duration": 5103,
    "start_time": "2021-08-04T18:07:17.608Z"
   },
   {
    "duration": 2064,
    "start_time": "2021-08-04T18:07:29.493Z"
   },
   {
    "duration": 5,
    "start_time": "2021-08-04T18:07:36.784Z"
   },
   {
    "duration": 251,
    "start_time": "2021-08-04T18:09:28.568Z"
   },
   {
    "duration": 2293,
    "start_time": "2021-08-04T18:13:13.626Z"
   },
   {
    "duration": 4,
    "start_time": "2021-08-04T18:13:23.836Z"
   },
   {
    "duration": 213,
    "start_time": "2021-08-04T19:49:28.304Z"
   },
   {
    "duration": 586,
    "start_time": "2021-08-04T19:49:33.233Z"
   },
   {
    "duration": 78,
    "start_time": "2021-08-04T19:49:33.821Z"
   },
   {
    "duration": 10,
    "start_time": "2021-08-04T19:49:33.902Z"
   },
   {
    "duration": 32,
    "start_time": "2021-08-04T19:49:33.913Z"
   },
   {
    "duration": 12,
    "start_time": "2021-08-04T19:49:33.946Z"
   },
   {
    "duration": 20,
    "start_time": "2021-08-04T19:49:33.960Z"
   },
   {
    "duration": 29,
    "start_time": "2021-08-04T19:49:33.981Z"
   },
   {
    "duration": 6,
    "start_time": "2021-08-04T19:49:34.013Z"
   },
   {
    "duration": 77,
    "start_time": "2021-08-04T19:49:34.021Z"
   },
   {
    "duration": 8,
    "start_time": "2021-08-04T19:49:34.100Z"
   },
   {
    "duration": 6,
    "start_time": "2021-08-04T19:49:34.109Z"
   },
   {
    "duration": 77,
    "start_time": "2021-08-04T19:49:34.117Z"
   },
   {
    "duration": 4,
    "start_time": "2021-08-04T19:49:34.196Z"
   },
   {
    "duration": 12,
    "start_time": "2021-08-04T19:49:34.202Z"
   },
   {
    "duration": 5,
    "start_time": "2021-08-04T19:49:34.215Z"
   },
   {
    "duration": 18,
    "start_time": "2021-08-04T19:49:34.221Z"
   },
   {
    "duration": 3,
    "start_time": "2021-08-04T19:49:34.240Z"
   },
   {
    "duration": 13,
    "start_time": "2021-08-04T19:49:34.244Z"
   },
   {
    "duration": 1338,
    "start_time": "2021-08-04T19:49:34.258Z"
   },
   {
    "duration": 1313,
    "start_time": "2021-08-04T19:49:35.598Z"
   },
   {
    "duration": 4,
    "start_time": "2021-08-04T19:49:36.912Z"
   },
   {
    "duration": 12,
    "start_time": "2021-08-04T19:49:36.917Z"
   },
   {
    "duration": 61,
    "start_time": "2021-08-04T19:49:36.932Z"
   },
   {
    "duration": 3,
    "start_time": "2021-08-04T19:49:36.996Z"
   },
   {
    "duration": 12,
    "start_time": "2021-08-04T19:49:37.001Z"
   },
   {
    "duration": 7,
    "start_time": "2021-08-04T19:49:37.014Z"
   },
   {
    "duration": 67,
    "start_time": "2021-08-04T19:49:37.023Z"
   },
   {
    "duration": 6,
    "start_time": "2021-08-04T19:49:37.091Z"
   },
   {
    "duration": 16,
    "start_time": "2021-08-04T19:49:37.098Z"
   },
   {
    "duration": 11,
    "start_time": "2021-08-04T19:49:37.115Z"
   },
   {
    "duration": 8,
    "start_time": "2021-08-04T19:49:37.127Z"
   },
   {
    "duration": 4,
    "start_time": "2021-08-04T19:49:37.136Z"
   },
   {
    "duration": 9,
    "start_time": "2021-08-04T19:49:37.142Z"
   },
   {
    "duration": 32,
    "start_time": "2021-08-04T19:49:37.153Z"
   },
   {
    "duration": 6,
    "start_time": "2021-08-04T19:49:37.186Z"
   },
   {
    "duration": 7,
    "start_time": "2021-08-04T19:49:37.193Z"
   },
   {
    "duration": 1805,
    "start_time": "2021-08-04T19:49:37.201Z"
   },
   {
    "duration": 3,
    "start_time": "2021-08-04T19:49:39.008Z"
   },
   {
    "duration": 6,
    "start_time": "2021-08-04T19:49:39.013Z"
   },
   {
    "duration": 6568,
    "start_time": "2021-08-04T19:49:39.020Z"
   },
   {
    "duration": 74,
    "start_time": "2021-08-04T19:49:45.590Z"
   },
   {
    "duration": 205,
    "start_time": "2021-08-04T19:49:45.665Z"
   },
   {
    "duration": 23,
    "start_time": "2021-08-04T19:49:45.872Z"
   },
   {
    "duration": 201,
    "start_time": "2021-08-04T19:49:45.897Z"
   },
   {
    "duration": 193,
    "start_time": "2021-08-04T19:49:46.100Z"
   },
   {
    "duration": 12,
    "start_time": "2021-08-04T19:49:46.295Z"
   },
   {
    "duration": 245,
    "start_time": "2021-08-04T19:49:46.309Z"
   },
   {
    "duration": 205,
    "start_time": "2021-08-04T19:49:46.556Z"
   },
   {
    "duration": 9,
    "start_time": "2021-08-04T19:49:46.763Z"
   },
   {
    "duration": 206,
    "start_time": "2021-08-04T19:49:46.774Z"
   },
   {
    "duration": 195,
    "start_time": "2021-08-04T19:49:46.985Z"
   },
   {
    "duration": 9,
    "start_time": "2021-08-04T19:49:47.184Z"
   },
   {
    "duration": 9,
    "start_time": "2021-08-04T19:49:47.194Z"
   },
   {
    "duration": 207,
    "start_time": "2021-08-04T19:49:50.708Z"
   },
   {
    "duration": 5,
    "start_time": "2021-08-04T19:49:52.209Z"
   },
   {
    "duration": 6,
    "start_time": "2021-08-04T19:50:33.322Z"
   },
   {
    "duration": 224,
    "start_time": "2021-08-04T19:51:11.111Z"
   },
   {
    "duration": 424,
    "start_time": "2021-08-04T19:51:45.776Z"
   },
   {
    "duration": 385,
    "start_time": "2021-08-04T19:51:57.115Z"
   },
   {
    "duration": 257,
    "start_time": "2021-08-04T19:52:08.194Z"
   },
   {
    "duration": 391,
    "start_time": "2021-08-04T19:52:56.166Z"
   },
   {
    "duration": 235,
    "start_time": "2021-08-04T19:53:12.683Z"
   },
   {
    "duration": 242,
    "start_time": "2021-08-04T19:53:23.955Z"
   },
   {
    "duration": 332,
    "start_time": "2021-08-04T19:54:02.603Z"
   },
   {
    "duration": 806,
    "start_time": "2021-08-04T19:55:16.240Z"
   },
   {
    "duration": 794,
    "start_time": "2021-08-04T19:55:52.890Z"
   },
   {
    "duration": 792,
    "start_time": "2021-08-04T19:58:17.767Z"
   },
   {
    "duration": 865,
    "start_time": "2021-08-04T19:58:36.123Z"
   },
   {
    "duration": 6,
    "start_time": "2021-08-04T19:59:33.890Z"
   },
   {
    "duration": 208,
    "start_time": "2021-08-04T20:00:27.202Z"
   },
   {
    "duration": 62,
    "start_time": "2021-08-04T20:00:43.093Z"
   },
   {
    "duration": 77,
    "start_time": "2021-08-04T20:00:43.157Z"
   },
   {
    "duration": 10,
    "start_time": "2021-08-04T20:00:43.236Z"
   },
   {
    "duration": 7,
    "start_time": "2021-08-04T20:00:43.248Z"
   },
   {
    "duration": 28,
    "start_time": "2021-08-04T20:00:43.257Z"
   },
   {
    "duration": 6,
    "start_time": "2021-08-04T20:00:43.287Z"
   },
   {
    "duration": 9,
    "start_time": "2021-08-04T20:00:43.294Z"
   },
   {
    "duration": 3,
    "start_time": "2021-08-04T20:00:43.305Z"
   },
   {
    "duration": 54,
    "start_time": "2021-08-04T20:00:43.310Z"
   },
   {
    "duration": 6,
    "start_time": "2021-08-04T20:00:43.385Z"
   },
   {
    "duration": 5,
    "start_time": "2021-08-04T20:00:43.393Z"
   },
   {
    "duration": 50,
    "start_time": "2021-08-04T20:00:43.400Z"
   },
   {
    "duration": 4,
    "start_time": "2021-08-04T20:00:43.452Z"
   },
   {
    "duration": 8,
    "start_time": "2021-08-04T20:00:43.485Z"
   },
   {
    "duration": 5,
    "start_time": "2021-08-04T20:00:43.495Z"
   },
   {
    "duration": 18,
    "start_time": "2021-08-04T20:00:43.503Z"
   },
   {
    "duration": 5,
    "start_time": "2021-08-04T20:00:43.523Z"
   },
   {
    "duration": 12,
    "start_time": "2021-08-04T20:00:43.530Z"
   },
   {
    "duration": 1431,
    "start_time": "2021-08-04T20:00:43.544Z"
   },
   {
    "duration": 1380,
    "start_time": "2021-08-04T20:00:44.976Z"
   },
   {
    "duration": 3,
    "start_time": "2021-08-04T20:00:46.357Z"
   },
   {
    "duration": 8,
    "start_time": "2021-08-04T20:00:46.362Z"
   },
   {
    "duration": 66,
    "start_time": "2021-08-04T20:00:46.372Z"
   },
   {
    "duration": 3,
    "start_time": "2021-08-04T20:00:46.440Z"
   },
   {
    "duration": 8,
    "start_time": "2021-08-04T20:00:46.444Z"
   },
   {
    "duration": 6,
    "start_time": "2021-08-04T20:00:46.454Z"
   },
   {
    "duration": 77,
    "start_time": "2021-08-04T20:00:46.462Z"
   },
   {
    "duration": 6,
    "start_time": "2021-08-04T20:00:46.541Z"
   },
   {
    "duration": 41,
    "start_time": "2021-08-04T20:00:46.549Z"
   },
   {
    "duration": 16,
    "start_time": "2021-08-04T20:00:46.591Z"
   },
   {
    "duration": 10,
    "start_time": "2021-08-04T20:00:46.610Z"
   },
   {
    "duration": 4,
    "start_time": "2021-08-04T20:00:46.622Z"
   },
   {
    "duration": 7,
    "start_time": "2021-08-04T20:00:46.628Z"
   },
   {
    "duration": 6,
    "start_time": "2021-08-04T20:00:46.637Z"
   },
   {
    "duration": 6,
    "start_time": "2021-08-04T20:00:46.645Z"
   },
   {
    "duration": 4,
    "start_time": "2021-08-04T20:00:46.684Z"
   },
   {
    "duration": 1931,
    "start_time": "2021-08-04T20:00:46.690Z"
   },
   {
    "duration": 4,
    "start_time": "2021-08-04T20:00:48.622Z"
   },
   {
    "duration": 9,
    "start_time": "2021-08-04T20:00:48.628Z"
   },
   {
    "duration": 1899,
    "start_time": "2021-08-04T20:00:48.639Z"
   },
   {
    "duration": 4,
    "start_time": "2021-08-04T20:00:50.540Z"
   },
   {
    "duration": 210,
    "start_time": "2021-08-04T20:00:50.546Z"
   },
   {
    "duration": 16,
    "start_time": "2021-08-04T20:00:50.758Z"
   },
   {
    "duration": 177,
    "start_time": "2021-08-04T20:00:50.784Z"
   },
   {
    "duration": 12,
    "start_time": "2021-08-04T20:01:44.673Z"
   },
   {
    "duration": 229,
    "start_time": "2021-08-04T20:01:45.984Z"
   },
   {
    "duration": 16,
    "start_time": "2021-08-04T20:01:48.703Z"
   },
   {
    "duration": 188,
    "start_time": "2021-08-04T20:01:53.827Z"
   },
   {
    "duration": 10,
    "start_time": "2021-08-04T20:02:05.920Z"
   },
   {
    "duration": 9,
    "start_time": "2021-08-04T20:02:06.812Z"
   },
   {
    "duration": 781,
    "start_time": "2021-08-04T20:02:08.241Z"
   },
   {
    "duration": 16,
    "start_time": "2021-08-04T20:02:26.355Z"
   },
   {
    "duration": 844,
    "start_time": "2021-08-04T20:02:38.211Z"
   },
   {
    "duration": 6,
    "start_time": "2021-08-04T20:04:50.405Z"
   },
   {
    "duration": 4,
    "start_time": "2021-08-04T20:05:00.297Z"
   },
   {
    "duration": 193,
    "start_time": "2021-08-04T20:05:15.137Z"
   },
   {
    "duration": 185,
    "start_time": "2021-08-04T20:05:49.522Z"
   },
   {
    "duration": 10,
    "start_time": "2021-08-04T20:07:43.721Z"
   },
   {
    "duration": 62,
    "start_time": "2021-08-04T20:08:49.123Z"
   },
   {
    "duration": 99,
    "start_time": "2021-08-04T20:08:49.187Z"
   },
   {
    "duration": 10,
    "start_time": "2021-08-04T20:08:49.288Z"
   },
   {
    "duration": 8,
    "start_time": "2021-08-04T20:08:49.300Z"
   },
   {
    "duration": 4,
    "start_time": "2021-08-04T20:08:49.310Z"
   },
   {
    "duration": 7,
    "start_time": "2021-08-04T20:08:49.315Z"
   },
   {
    "duration": 9,
    "start_time": "2021-08-04T20:08:49.324Z"
   },
   {
    "duration": 3,
    "start_time": "2021-08-04T20:08:49.335Z"
   },
   {
    "duration": 85,
    "start_time": "2021-08-04T20:08:49.340Z"
   },
   {
    "duration": 7,
    "start_time": "2021-08-04T20:08:49.427Z"
   },
   {
    "duration": 6,
    "start_time": "2021-08-04T20:08:49.435Z"
   },
   {
    "duration": 84,
    "start_time": "2021-08-04T20:08:49.442Z"
   },
   {
    "duration": 6,
    "start_time": "2021-08-04T20:08:49.527Z"
   },
   {
    "duration": 13,
    "start_time": "2021-08-04T20:08:49.534Z"
   },
   {
    "duration": 5,
    "start_time": "2021-08-04T20:08:49.548Z"
   },
   {
    "duration": 42,
    "start_time": "2021-08-04T20:08:49.555Z"
   },
   {
    "duration": 3,
    "start_time": "2021-08-04T20:08:49.598Z"
   },
   {
    "duration": 12,
    "start_time": "2021-08-04T20:08:49.602Z"
   },
   {
    "duration": 1339,
    "start_time": "2021-08-04T20:08:49.617Z"
   },
   {
    "duration": 1331,
    "start_time": "2021-08-04T20:08:50.958Z"
   },
   {
    "duration": 3,
    "start_time": "2021-08-04T20:08:52.291Z"
   },
   {
    "duration": 7,
    "start_time": "2021-08-04T20:08:52.296Z"
   },
   {
    "duration": 49,
    "start_time": "2021-08-04T20:08:52.305Z"
   },
   {
    "duration": 3,
    "start_time": "2021-08-04T20:08:52.356Z"
   },
   {
    "duration": 27,
    "start_time": "2021-08-04T20:08:52.361Z"
   },
   {
    "duration": 6,
    "start_time": "2021-08-04T20:08:52.390Z"
   },
   {
    "duration": 50,
    "start_time": "2021-08-04T20:08:52.397Z"
   },
   {
    "duration": 6,
    "start_time": "2021-08-04T20:08:52.448Z"
   },
   {
    "duration": 42,
    "start_time": "2021-08-04T20:08:52.455Z"
   },
   {
    "duration": 12,
    "start_time": "2021-08-04T20:08:52.499Z"
   },
   {
    "duration": 9,
    "start_time": "2021-08-04T20:08:52.512Z"
   },
   {
    "duration": 3,
    "start_time": "2021-08-04T20:08:52.523Z"
   },
   {
    "duration": 8,
    "start_time": "2021-08-04T20:08:52.528Z"
   },
   {
    "duration": 6,
    "start_time": "2021-08-04T20:08:52.537Z"
   },
   {
    "duration": 5,
    "start_time": "2021-08-04T20:08:52.545Z"
   },
   {
    "duration": 3,
    "start_time": "2021-08-04T20:08:52.551Z"
   },
   {
    "duration": 1863,
    "start_time": "2021-08-04T20:08:52.585Z"
   },
   {
    "duration": 4,
    "start_time": "2021-08-04T20:08:54.450Z"
   },
   {
    "duration": 7,
    "start_time": "2021-08-04T20:08:54.456Z"
   },
   {
    "duration": 1947,
    "start_time": "2021-08-04T20:08:54.467Z"
   },
   {
    "duration": 3,
    "start_time": "2021-08-04T20:08:56.417Z"
   },
   {
    "duration": 196,
    "start_time": "2021-08-04T20:08:56.422Z"
   },
   {
    "duration": 20,
    "start_time": "2021-08-04T20:08:56.620Z"
   },
   {
    "duration": 188,
    "start_time": "2021-08-04T20:08:56.641Z"
   },
   {
    "duration": 12,
    "start_time": "2021-08-04T20:08:56.831Z"
   },
   {
    "duration": 222,
    "start_time": "2021-08-04T20:08:56.844Z"
   },
   {
    "duration": 26,
    "start_time": "2021-08-04T20:08:57.068Z"
   },
   {
    "duration": 190,
    "start_time": "2021-08-04T20:08:57.096Z"
   },
   {
    "duration": 10,
    "start_time": "2021-08-04T20:08:57.288Z"
   },
   {
    "duration": 11,
    "start_time": "2021-08-04T20:09:06.324Z"
   },
   {
    "duration": 777,
    "start_time": "2021-08-04T20:09:21.815Z"
   },
   {
    "duration": 211,
    "start_time": "2021-08-04T20:09:31.558Z"
   },
   {
    "duration": 63,
    "start_time": "2021-08-04T20:09:37.837Z"
   },
   {
    "duration": 9,
    "start_time": "2021-08-04T20:09:44.316Z"
   },
   {
    "duration": 196,
    "start_time": "2021-08-04T20:09:57.974Z"
   },
   {
    "duration": 9,
    "start_time": "2021-08-04T20:10:53.807Z"
   },
   {
    "duration": 190,
    "start_time": "2021-08-04T20:10:55.099Z"
   },
   {
    "duration": 282,
    "start_time": "2021-08-04T20:11:31.444Z"
   },
   {
    "duration": 221,
    "start_time": "2021-08-04T20:13:56.061Z"
   },
   {
    "duration": 6,
    "start_time": "2021-08-04T20:14:26.782Z"
   },
   {
    "duration": 222,
    "start_time": "2021-08-04T20:14:42.248Z"
   },
   {
    "duration": 5,
    "start_time": "2021-08-04T20:14:57.442Z"
   },
   {
    "duration": 12,
    "start_time": "2021-08-04T20:15:20.861Z"
   },
   {
    "duration": 12,
    "start_time": "2021-08-04T20:16:19.034Z"
   },
   {
    "duration": 201,
    "start_time": "2021-08-04T20:19:42.155Z"
   },
   {
    "duration": 123,
    "start_time": "2021-08-04T20:24:07.616Z"
   },
   {
    "duration": 125,
    "start_time": "2021-08-04T20:24:32.544Z"
   },
   {
    "duration": 195,
    "start_time": "2021-08-04T20:27:41.114Z"
   },
   {
    "duration": 171,
    "start_time": "2021-08-04T20:27:58.656Z"
   },
   {
    "duration": 124,
    "start_time": "2021-08-04T20:30:03.746Z"
   },
   {
    "duration": 122,
    "start_time": "2021-08-04T20:31:17.514Z"
   },
   {
    "duration": 169,
    "start_time": "2021-08-04T20:33:15.185Z"
   },
   {
    "duration": 9,
    "start_time": "2021-08-04T20:33:33.809Z"
   },
   {
    "duration": 6,
    "start_time": "2021-08-04T20:33:35.615Z"
   },
   {
    "duration": 190,
    "start_time": "2021-08-04T20:33:58.962Z"
   },
   {
    "duration": 77,
    "start_time": "2021-08-04T20:37:41.071Z"
   },
   {
    "duration": 9,
    "start_time": "2021-08-04T20:38:02.879Z"
   },
   {
    "duration": 74,
    "start_time": "2021-08-04T20:42:47.690Z"
   },
   {
    "duration": 85,
    "start_time": "2021-08-04T20:42:47.766Z"
   },
   {
    "duration": 12,
    "start_time": "2021-08-04T20:42:47.853Z"
   },
   {
    "duration": 23,
    "start_time": "2021-08-04T20:42:47.867Z"
   },
   {
    "duration": 6,
    "start_time": "2021-08-04T20:42:47.892Z"
   },
   {
    "duration": 8,
    "start_time": "2021-08-04T20:42:47.900Z"
   },
   {
    "duration": 10,
    "start_time": "2021-08-04T20:42:47.910Z"
   },
   {
    "duration": 3,
    "start_time": "2021-08-04T20:42:47.922Z"
   },
   {
    "duration": 89,
    "start_time": "2021-08-04T20:42:47.928Z"
   },
   {
    "duration": 9,
    "start_time": "2021-08-04T20:42:48.020Z"
   },
   {
    "duration": 7,
    "start_time": "2021-08-04T20:42:48.031Z"
   },
   {
    "duration": 74,
    "start_time": "2021-08-04T20:42:48.040Z"
   },
   {
    "duration": 5,
    "start_time": "2021-08-04T20:42:48.115Z"
   },
   {
    "duration": 9,
    "start_time": "2021-08-04T20:42:48.122Z"
   },
   {
    "duration": 5,
    "start_time": "2021-08-04T20:42:48.133Z"
   },
   {
    "duration": 48,
    "start_time": "2021-08-04T20:42:48.140Z"
   },
   {
    "duration": 3,
    "start_time": "2021-08-04T20:42:48.190Z"
   },
   {
    "duration": 13,
    "start_time": "2021-08-04T20:42:48.195Z"
   },
   {
    "duration": 1380,
    "start_time": "2021-08-04T20:42:48.209Z"
   },
   {
    "duration": 1323,
    "start_time": "2021-08-04T20:42:49.590Z"
   },
   {
    "duration": 3,
    "start_time": "2021-08-04T20:42:50.915Z"
   },
   {
    "duration": 11,
    "start_time": "2021-08-04T20:42:50.919Z"
   },
   {
    "duration": 66,
    "start_time": "2021-08-04T20:42:50.931Z"
   },
   {
    "duration": 4,
    "start_time": "2021-08-04T20:42:50.998Z"
   },
   {
    "duration": 7,
    "start_time": "2021-08-04T20:42:51.004Z"
   },
   {
    "duration": 5,
    "start_time": "2021-08-04T20:42:51.013Z"
   },
   {
    "duration": 80,
    "start_time": "2021-08-04T20:42:51.022Z"
   },
   {
    "duration": 6,
    "start_time": "2021-08-04T20:42:51.105Z"
   },
   {
    "duration": 24,
    "start_time": "2021-08-04T20:42:51.113Z"
   },
   {
    "duration": 17,
    "start_time": "2021-08-04T20:42:51.138Z"
   },
   {
    "duration": 38,
    "start_time": "2021-08-04T20:42:51.157Z"
   },
   {
    "duration": 5,
    "start_time": "2021-08-04T20:42:51.197Z"
   },
   {
    "duration": 7,
    "start_time": "2021-08-04T20:42:51.204Z"
   },
   {
    "duration": 5,
    "start_time": "2021-08-04T20:42:51.213Z"
   },
   {
    "duration": 6,
    "start_time": "2021-08-04T20:42:51.220Z"
   },
   {
    "duration": 3,
    "start_time": "2021-08-04T20:42:51.227Z"
   },
   {
    "duration": 1876,
    "start_time": "2021-08-04T20:42:51.232Z"
   },
   {
    "duration": 4,
    "start_time": "2021-08-04T20:42:53.109Z"
   },
   {
    "duration": 12,
    "start_time": "2021-08-04T20:42:53.115Z"
   },
   {
    "duration": 1890,
    "start_time": "2021-08-04T20:42:53.129Z"
   },
   {
    "duration": 4,
    "start_time": "2021-08-04T20:42:55.021Z"
   },
   {
    "duration": 203,
    "start_time": "2021-08-04T20:42:55.027Z"
   },
   {
    "duration": 20,
    "start_time": "2021-08-04T20:42:55.232Z"
   },
   {
    "duration": 207,
    "start_time": "2021-08-04T20:42:55.253Z"
   },
   {
    "duration": 10,
    "start_time": "2021-08-04T20:42:55.462Z"
   },
   {
    "duration": 227,
    "start_time": "2021-08-04T20:42:55.484Z"
   },
   {
    "duration": 14,
    "start_time": "2021-08-04T20:42:55.713Z"
   },
   {
    "duration": 208,
    "start_time": "2021-08-04T20:42:55.729Z"
   },
   {
    "duration": 9,
    "start_time": "2021-08-04T20:42:55.938Z"
   },
   {
    "duration": 8,
    "start_time": "2021-08-04T20:42:55.949Z"
   },
   {
    "duration": 789,
    "start_time": "2021-08-04T20:42:55.959Z"
   },
   {
    "duration": 225,
    "start_time": "2021-08-04T20:42:56.750Z"
   },
   {
    "duration": 171,
    "start_time": "2021-08-04T20:42:56.977Z"
   },
   {
    "duration": 9,
    "start_time": "2021-08-04T20:42:57.150Z"
   },
   {
    "duration": 5,
    "start_time": "2021-08-04T20:42:57.161Z"
   },
   {
    "duration": 226,
    "start_time": "2021-08-04T20:42:57.168Z"
   },
   {
    "duration": 9,
    "start_time": "2021-08-04T20:42:57.395Z"
   },
   {
    "duration": 759,
    "start_time": "2021-08-04T20:44:14.869Z"
   },
   {
    "duration": 61,
    "start_time": "2021-08-04T20:44:47.117Z"
   },
   {
    "duration": 78,
    "start_time": "2021-08-04T20:44:47.180Z"
   },
   {
    "duration": 27,
    "start_time": "2021-08-04T20:44:47.260Z"
   },
   {
    "duration": 8,
    "start_time": "2021-08-04T20:44:47.289Z"
   },
   {
    "duration": 5,
    "start_time": "2021-08-04T20:44:47.298Z"
   },
   {
    "duration": 7,
    "start_time": "2021-08-04T20:44:47.304Z"
   },
   {
    "duration": 10,
    "start_time": "2021-08-04T20:44:47.313Z"
   },
   {
    "duration": 4,
    "start_time": "2021-08-04T20:44:47.499Z"
   },
   {
    "duration": 53,
    "start_time": "2021-08-04T20:44:47.505Z"
   },
   {
    "duration": 25,
    "start_time": "2021-08-04T20:44:47.560Z"
   },
   {
    "duration": 6,
    "start_time": "2021-08-04T20:44:47.587Z"
   },
   {
    "duration": 52,
    "start_time": "2021-08-04T20:44:47.595Z"
   },
   {
    "duration": 6,
    "start_time": "2021-08-04T20:44:47.649Z"
   },
   {
    "duration": 11,
    "start_time": "2021-08-04T20:44:47.684Z"
   },
   {
    "duration": 6,
    "start_time": "2021-08-04T20:44:47.697Z"
   },
   {
    "duration": 17,
    "start_time": "2021-08-04T20:44:47.706Z"
   },
   {
    "duration": 5,
    "start_time": "2021-08-04T20:44:47.725Z"
   },
   {
    "duration": 15,
    "start_time": "2021-08-04T20:44:47.732Z"
   },
   {
    "duration": 1381,
    "start_time": "2021-08-04T20:44:47.749Z"
   },
   {
    "duration": 1363,
    "start_time": "2021-08-04T20:44:49.132Z"
   },
   {
    "duration": 5,
    "start_time": "2021-08-04T20:44:50.497Z"
   },
   {
    "duration": 7,
    "start_time": "2021-08-04T20:44:50.504Z"
   },
   {
    "duration": 72,
    "start_time": "2021-08-04T20:44:50.516Z"
   },
   {
    "duration": 4,
    "start_time": "2021-08-04T20:44:50.591Z"
   },
   {
    "duration": 8,
    "start_time": "2021-08-04T20:44:50.597Z"
   },
   {
    "duration": 7,
    "start_time": "2021-08-04T20:44:50.606Z"
   },
   {
    "duration": 82,
    "start_time": "2021-08-04T20:44:50.615Z"
   },
   {
    "duration": 7,
    "start_time": "2021-08-04T20:44:50.699Z"
   },
   {
    "duration": 18,
    "start_time": "2021-08-04T20:44:50.708Z"
   },
   {
    "duration": 13,
    "start_time": "2021-08-04T20:44:50.728Z"
   },
   {
    "duration": 42,
    "start_time": "2021-08-04T20:44:50.743Z"
   },
   {
    "duration": 6,
    "start_time": "2021-08-04T20:44:50.786Z"
   },
   {
    "duration": 11,
    "start_time": "2021-08-04T20:44:50.793Z"
   },
   {
    "duration": 7,
    "start_time": "2021-08-04T20:44:50.806Z"
   },
   {
    "duration": 7,
    "start_time": "2021-08-04T20:44:50.814Z"
   },
   {
    "duration": 9,
    "start_time": "2021-08-04T20:44:50.822Z"
   },
   {
    "duration": 1753,
    "start_time": "2021-08-04T20:44:50.832Z"
   },
   {
    "duration": 5,
    "start_time": "2021-08-04T20:44:52.586Z"
   },
   {
    "duration": 5,
    "start_time": "2021-08-04T20:44:52.593Z"
   },
   {
    "duration": 1910,
    "start_time": "2021-08-04T20:44:52.600Z"
   },
   {
    "duration": 4,
    "start_time": "2021-08-04T20:44:54.512Z"
   },
   {
    "duration": 197,
    "start_time": "2021-08-04T20:44:54.518Z"
   },
   {
    "duration": 19,
    "start_time": "2021-08-04T20:44:54.716Z"
   },
   {
    "duration": 194,
    "start_time": "2021-08-04T20:44:54.737Z"
   },
   {
    "duration": 11,
    "start_time": "2021-08-04T20:44:54.932Z"
   },
   {
    "duration": 223,
    "start_time": "2021-08-04T20:44:54.945Z"
   },
   {
    "duration": 24,
    "start_time": "2021-08-04T20:44:55.170Z"
   },
   {
    "duration": 212,
    "start_time": "2021-08-04T20:44:55.195Z"
   },
   {
    "duration": 8,
    "start_time": "2021-08-04T20:44:55.409Z"
   },
   {
    "duration": 9,
    "start_time": "2021-08-04T20:44:55.419Z"
   },
   {
    "duration": 904,
    "start_time": "2021-08-04T20:45:07.738Z"
   },
   {
    "duration": 721,
    "start_time": "2021-08-04T20:45:26.502Z"
   },
   {
    "duration": 61,
    "start_time": "2021-08-04T20:46:50.279Z"
   },
   {
    "duration": 88,
    "start_time": "2021-08-04T20:46:50.341Z"
   },
   {
    "duration": 10,
    "start_time": "2021-08-04T20:46:50.430Z"
   },
   {
    "duration": 9,
    "start_time": "2021-08-04T20:46:50.441Z"
   },
   {
    "duration": 33,
    "start_time": "2021-08-04T20:46:50.452Z"
   },
   {
    "duration": 8,
    "start_time": "2021-08-04T20:46:50.486Z"
   },
   {
    "duration": 10,
    "start_time": "2021-08-04T20:46:50.495Z"
   },
   {
    "duration": 4,
    "start_time": "2021-08-04T20:46:50.508Z"
   },
   {
    "duration": 51,
    "start_time": "2021-08-04T20:46:50.514Z"
   },
   {
    "duration": 7,
    "start_time": "2021-08-04T20:46:50.585Z"
   },
   {
    "duration": 5,
    "start_time": "2021-08-04T20:46:50.593Z"
   },
   {
    "duration": 53,
    "start_time": "2021-08-04T20:46:50.600Z"
   },
   {
    "duration": 4,
    "start_time": "2021-08-04T20:46:50.654Z"
   },
   {
    "duration": 34,
    "start_time": "2021-08-04T20:46:50.660Z"
   },
   {
    "duration": 12,
    "start_time": "2021-08-04T20:46:50.695Z"
   },
   {
    "duration": 19,
    "start_time": "2021-08-04T20:46:50.708Z"
   },
   {
    "duration": 10,
    "start_time": "2021-08-04T20:46:50.729Z"
   },
   {
    "duration": 14,
    "start_time": "2021-08-04T20:46:50.741Z"
   },
   {
    "duration": 1321,
    "start_time": "2021-08-04T20:46:50.757Z"
   },
   {
    "duration": 1341,
    "start_time": "2021-08-04T20:46:52.080Z"
   },
   {
    "duration": 3,
    "start_time": "2021-08-04T20:46:53.423Z"
   },
   {
    "duration": 9,
    "start_time": "2021-08-04T20:46:53.428Z"
   },
   {
    "duration": 69,
    "start_time": "2021-08-04T20:46:53.440Z"
   },
   {
    "duration": 3,
    "start_time": "2021-08-04T20:46:53.511Z"
   },
   {
    "duration": 8,
    "start_time": "2021-08-04T20:46:53.515Z"
   },
   {
    "duration": 6,
    "start_time": "2021-08-04T20:46:53.524Z"
   },
   {
    "duration": 74,
    "start_time": "2021-08-04T20:46:53.532Z"
   },
   {
    "duration": 6,
    "start_time": "2021-08-04T20:46:53.608Z"
   },
   {
    "duration": 16,
    "start_time": "2021-08-04T20:46:53.615Z"
   },
   {
    "duration": 11,
    "start_time": "2021-08-04T20:46:53.633Z"
   },
   {
    "duration": 8,
    "start_time": "2021-08-04T20:46:53.646Z"
   },
   {
    "duration": 30,
    "start_time": "2021-08-04T20:46:53.656Z"
   },
   {
    "duration": 13,
    "start_time": "2021-08-04T20:46:53.688Z"
   },
   {
    "duration": 5,
    "start_time": "2021-08-04T20:46:53.703Z"
   },
   {
    "duration": 10,
    "start_time": "2021-08-04T20:46:53.709Z"
   },
   {
    "duration": 3,
    "start_time": "2021-08-04T20:46:53.720Z"
   },
   {
    "duration": 1913,
    "start_time": "2021-08-04T20:46:53.725Z"
   },
   {
    "duration": 4,
    "start_time": "2021-08-04T20:46:55.639Z"
   },
   {
    "duration": 5,
    "start_time": "2021-08-04T20:46:55.645Z"
   },
   {
    "duration": 1889,
    "start_time": "2021-08-04T20:46:55.652Z"
   },
   {
    "duration": 5,
    "start_time": "2021-08-04T20:46:57.543Z"
   },
   {
    "duration": 221,
    "start_time": "2021-08-04T20:46:57.549Z"
   },
   {
    "duration": 27,
    "start_time": "2021-08-04T20:46:57.772Z"
   },
   {
    "duration": 178,
    "start_time": "2021-08-04T20:46:57.801Z"
   },
   {
    "duration": 13,
    "start_time": "2021-08-04T20:46:57.980Z"
   },
   {
    "duration": 217,
    "start_time": "2021-08-04T20:46:57.994Z"
   },
   {
    "duration": 15,
    "start_time": "2021-08-04T20:46:58.213Z"
   },
   {
    "duration": 194,
    "start_time": "2021-08-04T20:46:58.229Z"
   },
   {
    "duration": 9,
    "start_time": "2021-08-04T20:46:58.425Z"
   },
   {
    "duration": 11,
    "start_time": "2021-08-04T20:47:05.085Z"
   },
   {
    "duration": 822,
    "start_time": "2021-08-04T20:47:06.070Z"
   },
   {
    "duration": 773,
    "start_time": "2021-08-04T20:47:22.006Z"
   },
   {
    "duration": 206,
    "start_time": "2021-08-04T20:47:48.304Z"
   },
   {
    "duration": 138,
    "start_time": "2021-08-04T20:47:50.640Z"
   },
   {
    "duration": 198,
    "start_time": "2021-08-04T20:48:06.044Z"
   },
   {
    "duration": 159,
    "start_time": "2021-08-04T20:48:11.982Z"
   },
   {
    "duration": 191,
    "start_time": "2021-08-04T20:48:20.307Z"
   },
   {
    "duration": 11,
    "start_time": "2021-08-04T20:48:27.263Z"
   },
   {
    "duration": 7,
    "start_time": "2021-08-04T20:48:29.634Z"
   },
   {
    "duration": 189,
    "start_time": "2021-08-04T20:48:30.914Z"
   },
   {
    "duration": 9,
    "start_time": "2021-08-04T20:48:35.572Z"
   },
   {
    "duration": 123,
    "start_time": "2021-08-04T20:48:41.863Z"
   },
   {
    "duration": 9,
    "start_time": "2021-08-04T20:49:02.475Z"
   },
   {
    "duration": 5,
    "start_time": "2021-08-04T20:49:04.192Z"
   },
   {
    "duration": 197,
    "start_time": "2021-08-04T20:49:05.632Z"
   },
   {
    "duration": 9,
    "start_time": "2021-08-04T20:49:18.672Z"
   },
   {
    "duration": 65,
    "start_time": "2021-08-04T21:12:37.723Z"
   },
   {
    "duration": 77,
    "start_time": "2021-08-04T21:12:37.790Z"
   },
   {
    "duration": 24,
    "start_time": "2021-08-04T21:12:37.870Z"
   },
   {
    "duration": 9,
    "start_time": "2021-08-04T21:12:37.896Z"
   },
   {
    "duration": 5,
    "start_time": "2021-08-04T21:12:37.907Z"
   },
   {
    "duration": 9,
    "start_time": "2021-08-04T21:12:37.985Z"
   },
   {
    "duration": 11,
    "start_time": "2021-08-04T21:12:37.996Z"
   },
   {
    "duration": 4,
    "start_time": "2021-08-04T21:12:38.010Z"
   },
   {
    "duration": 76,
    "start_time": "2021-08-04T21:12:38.016Z"
   },
   {
    "duration": 8,
    "start_time": "2021-08-04T21:12:38.094Z"
   },
   {
    "duration": 7,
    "start_time": "2021-08-04T21:12:38.104Z"
   },
   {
    "duration": 84,
    "start_time": "2021-08-04T21:12:38.113Z"
   },
   {
    "duration": 6,
    "start_time": "2021-08-04T21:12:38.199Z"
   },
   {
    "duration": 12,
    "start_time": "2021-08-04T21:12:38.208Z"
   },
   {
    "duration": 6,
    "start_time": "2021-08-04T21:12:38.222Z"
   },
   {
    "duration": 17,
    "start_time": "2021-08-04T21:12:38.230Z"
   },
   {
    "duration": 4,
    "start_time": "2021-08-04T21:12:38.249Z"
   },
   {
    "duration": 40,
    "start_time": "2021-08-04T21:12:38.255Z"
   },
   {
    "duration": 1326,
    "start_time": "2021-08-04T21:12:38.297Z"
   },
   {
    "duration": 1297,
    "start_time": "2021-08-04T21:12:39.624Z"
   },
   {
    "duration": 3,
    "start_time": "2021-08-04T21:12:40.923Z"
   },
   {
    "duration": 14,
    "start_time": "2021-08-04T21:12:40.928Z"
   },
   {
    "duration": 72,
    "start_time": "2021-08-04T21:12:40.943Z"
   },
   {
    "duration": 3,
    "start_time": "2021-08-04T21:12:41.016Z"
   },
   {
    "duration": 8,
    "start_time": "2021-08-04T21:12:41.021Z"
   },
   {
    "duration": 5,
    "start_time": "2021-08-04T21:12:41.031Z"
   },
   {
    "duration": 77,
    "start_time": "2021-08-04T21:12:41.037Z"
   },
   {
    "duration": 6,
    "start_time": "2021-08-04T21:12:41.115Z"
   },
   {
    "duration": 16,
    "start_time": "2021-08-04T21:12:41.122Z"
   },
   {
    "duration": 11,
    "start_time": "2021-08-04T21:12:41.139Z"
   },
   {
    "duration": 36,
    "start_time": "2021-08-04T21:12:41.152Z"
   },
   {
    "duration": 3,
    "start_time": "2021-08-04T21:12:41.192Z"
   },
   {
    "duration": 8,
    "start_time": "2021-08-04T21:12:41.197Z"
   },
   {
    "duration": 5,
    "start_time": "2021-08-04T21:12:41.207Z"
   },
   {
    "duration": 5,
    "start_time": "2021-08-04T21:12:41.214Z"
   },
   {
    "duration": 3,
    "start_time": "2021-08-04T21:12:41.220Z"
   },
   {
    "duration": 1968,
    "start_time": "2021-08-04T21:12:41.225Z"
   },
   {
    "duration": 4,
    "start_time": "2021-08-04T21:12:43.195Z"
   },
   {
    "duration": 5,
    "start_time": "2021-08-04T21:12:43.201Z"
   },
   {
    "duration": 1887,
    "start_time": "2021-08-04T21:12:43.208Z"
   },
   {
    "duration": 6,
    "start_time": "2021-08-04T21:12:45.098Z"
   },
   {
    "duration": 268,
    "start_time": "2021-08-04T21:12:45.106Z"
   },
   {
    "duration": 2,
    "start_time": "2021-08-04T21:12:45.376Z"
   },
   {
    "duration": 194,
    "start_time": "2021-08-04T21:12:45.385Z"
   },
   {
    "duration": 13,
    "start_time": "2021-08-04T21:12:45.584Z"
   },
   {
    "duration": 220,
    "start_time": "2021-08-04T21:12:45.598Z"
   },
   {
    "duration": 16,
    "start_time": "2021-08-04T21:12:45.820Z"
   },
   {
    "duration": 214,
    "start_time": "2021-08-04T21:12:45.838Z"
   },
   {
    "duration": 9,
    "start_time": "2021-08-04T21:12:46.054Z"
   },
   {
    "duration": 10,
    "start_time": "2021-08-04T21:12:50.010Z"
   },
   {
    "duration": 3138,
    "start_time": "2021-08-04T21:12:51.728Z"
   },
   {
    "duration": 65,
    "start_time": "2021-08-04T21:19:23.645Z"
   },
   {
    "duration": 95,
    "start_time": "2021-08-04T21:19:23.711Z"
   },
   {
    "duration": 11,
    "start_time": "2021-08-04T21:19:23.808Z"
   },
   {
    "duration": 8,
    "start_time": "2021-08-04T21:19:23.820Z"
   },
   {
    "duration": 4,
    "start_time": "2021-08-04T21:19:23.829Z"
   },
   {
    "duration": 6,
    "start_time": "2021-08-04T21:19:23.835Z"
   },
   {
    "duration": 263,
    "start_time": "2021-08-04T21:19:23.843Z"
   },
   {
    "duration": 4,
    "start_time": "2021-08-04T21:19:24.108Z"
   },
   {
    "duration": 56,
    "start_time": "2021-08-04T21:19:24.114Z"
   },
   {
    "duration": 17,
    "start_time": "2021-08-04T21:19:24.172Z"
   },
   {
    "duration": 7,
    "start_time": "2021-08-04T21:19:24.191Z"
   },
   {
    "duration": 55,
    "start_time": "2021-08-04T21:19:24.199Z"
   },
   {
    "duration": 5,
    "start_time": "2021-08-04T21:19:24.256Z"
   },
   {
    "duration": 9,
    "start_time": "2021-08-04T21:19:24.285Z"
   },
   {
    "duration": 5,
    "start_time": "2021-08-04T21:19:24.296Z"
   },
   {
    "duration": 19,
    "start_time": "2021-08-04T21:19:24.302Z"
   },
   {
    "duration": 3,
    "start_time": "2021-08-04T21:19:24.323Z"
   },
   {
    "duration": 12,
    "start_time": "2021-08-04T21:19:24.328Z"
   },
   {
    "duration": 1381,
    "start_time": "2021-08-04T21:19:24.342Z"
   },
   {
    "duration": 1338,
    "start_time": "2021-08-04T21:19:25.725Z"
   },
   {
    "duration": 4,
    "start_time": "2021-08-04T21:19:27.065Z"
   },
   {
    "duration": 17,
    "start_time": "2021-08-04T21:19:27.070Z"
   },
   {
    "duration": 53,
    "start_time": "2021-08-04T21:19:27.091Z"
   },
   {
    "duration": 3,
    "start_time": "2021-08-04T21:19:27.147Z"
   },
   {
    "duration": 8,
    "start_time": "2021-08-04T21:19:27.152Z"
   },
   {
    "duration": 7,
    "start_time": "2021-08-04T21:19:27.184Z"
   },
   {
    "duration": 56,
    "start_time": "2021-08-04T21:19:27.192Z"
   },
   {
    "duration": 6,
    "start_time": "2021-08-04T21:19:27.249Z"
   },
   {
    "duration": 43,
    "start_time": "2021-08-04T21:19:27.257Z"
   },
   {
    "duration": 13,
    "start_time": "2021-08-04T21:19:27.302Z"
   },
   {
    "duration": 10,
    "start_time": "2021-08-04T21:19:27.317Z"
   },
   {
    "duration": 6,
    "start_time": "2021-08-04T21:19:27.328Z"
   },
   {
    "duration": 9,
    "start_time": "2021-08-04T21:19:27.335Z"
   },
   {
    "duration": 8,
    "start_time": "2021-08-04T21:19:27.345Z"
   },
   {
    "duration": 7,
    "start_time": "2021-08-04T21:19:27.384Z"
   },
   {
    "duration": 4,
    "start_time": "2021-08-04T21:19:27.393Z"
   },
   {
    "duration": 1754,
    "start_time": "2021-08-04T21:19:27.398Z"
   },
   {
    "duration": 4,
    "start_time": "2021-08-04T21:19:29.154Z"
   },
   {
    "duration": 6,
    "start_time": "2021-08-04T21:19:29.159Z"
   },
   {
    "duration": 1881,
    "start_time": "2021-08-04T21:19:29.167Z"
   },
   {
    "duration": 5,
    "start_time": "2021-08-04T21:19:31.050Z"
   },
   {
    "duration": 217,
    "start_time": "2021-08-04T21:19:31.056Z"
   },
   {
    "duration": 24,
    "start_time": "2021-08-04T21:19:31.275Z"
   },
   {
    "duration": 191,
    "start_time": "2021-08-04T21:19:31.301Z"
   },
   {
    "duration": 11,
    "start_time": "2021-08-04T21:19:31.494Z"
   },
   {
    "duration": 227,
    "start_time": "2021-08-04T21:19:31.506Z"
   },
   {
    "duration": 15,
    "start_time": "2021-08-04T21:19:31.735Z"
   },
   {
    "duration": 214,
    "start_time": "2021-08-04T21:19:31.752Z"
   },
   {
    "duration": 17,
    "start_time": "2021-08-04T21:19:31.968Z"
   },
   {
    "duration": 10,
    "start_time": "2021-08-04T21:19:35.829Z"
   },
   {
    "duration": 10,
    "start_time": "2021-08-04T21:19:37.005Z"
   },
   {
    "duration": 759,
    "start_time": "2021-08-04T21:19:38.227Z"
   },
   {
    "duration": 192,
    "start_time": "2021-08-04T21:19:42.260Z"
   },
   {
    "duration": 144,
    "start_time": "2021-08-04T21:19:46.102Z"
   },
   {
    "duration": 130,
    "start_time": "2021-08-04T21:19:52.597Z"
   },
   {
    "duration": 64,
    "start_time": "2021-08-04T21:20:05.198Z"
   },
   {
    "duration": 82,
    "start_time": "2021-08-04T21:20:05.264Z"
   },
   {
    "duration": 9,
    "start_time": "2021-08-04T21:20:05.348Z"
   },
   {
    "duration": 33,
    "start_time": "2021-08-04T21:20:05.359Z"
   },
   {
    "duration": 5,
    "start_time": "2021-08-04T21:20:05.393Z"
   },
   {
    "duration": 8,
    "start_time": "2021-08-04T21:20:05.399Z"
   },
   {
    "duration": 10,
    "start_time": "2021-08-04T21:20:05.408Z"
   },
   {
    "duration": 4,
    "start_time": "2021-08-04T21:20:05.419Z"
   },
   {
    "duration": 83,
    "start_time": "2021-08-04T21:20:05.426Z"
   },
   {
    "duration": 8,
    "start_time": "2021-08-04T21:20:05.512Z"
   },
   {
    "duration": 6,
    "start_time": "2021-08-04T21:20:05.522Z"
   },
   {
    "duration": 77,
    "start_time": "2021-08-04T21:20:05.530Z"
   },
   {
    "duration": 4,
    "start_time": "2021-08-04T21:20:05.609Z"
   },
   {
    "duration": 11,
    "start_time": "2021-08-04T21:20:05.614Z"
   },
   {
    "duration": 5,
    "start_time": "2021-08-04T21:20:05.626Z"
   },
   {
    "duration": 16,
    "start_time": "2021-08-04T21:20:05.633Z"
   },
   {
    "duration": 5,
    "start_time": "2021-08-04T21:20:05.650Z"
   },
   {
    "duration": 32,
    "start_time": "2021-08-04T21:20:05.657Z"
   },
   {
    "duration": 1555,
    "start_time": "2021-08-04T21:20:05.690Z"
   },
   {
    "duration": 1339,
    "start_time": "2021-08-04T21:20:07.246Z"
   },
   {
    "duration": 3,
    "start_time": "2021-08-04T21:20:08.587Z"
   },
   {
    "duration": 9,
    "start_time": "2021-08-04T21:20:08.591Z"
   },
   {
    "duration": 52,
    "start_time": "2021-08-04T21:20:08.601Z"
   },
   {
    "duration": 4,
    "start_time": "2021-08-04T21:20:08.654Z"
   },
   {
    "duration": 28,
    "start_time": "2021-08-04T21:20:08.660Z"
   },
   {
    "duration": 5,
    "start_time": "2021-08-04T21:20:08.690Z"
   },
   {
    "duration": 52,
    "start_time": "2021-08-04T21:20:08.698Z"
   },
   {
    "duration": 33,
    "start_time": "2021-08-04T21:20:08.753Z"
   },
   {
    "duration": 16,
    "start_time": "2021-08-04T21:20:08.787Z"
   },
   {
    "duration": 11,
    "start_time": "2021-08-04T21:20:08.804Z"
   },
   {
    "duration": 8,
    "start_time": "2021-08-04T21:20:08.817Z"
   },
   {
    "duration": 4,
    "start_time": "2021-08-04T21:20:08.827Z"
   },
   {
    "duration": 7,
    "start_time": "2021-08-04T21:20:08.833Z"
   },
   {
    "duration": 6,
    "start_time": "2021-08-04T21:20:08.842Z"
   },
   {
    "duration": 38,
    "start_time": "2021-08-04T21:20:08.849Z"
   },
   {
    "duration": 4,
    "start_time": "2021-08-04T21:20:08.888Z"
   },
   {
    "duration": 1747,
    "start_time": "2021-08-04T21:20:08.894Z"
   },
   {
    "duration": 4,
    "start_time": "2021-08-04T21:20:10.643Z"
   },
   {
    "duration": 5,
    "start_time": "2021-08-04T21:20:10.649Z"
   },
   {
    "duration": 1870,
    "start_time": "2021-08-04T21:20:10.656Z"
   },
   {
    "duration": 4,
    "start_time": "2021-08-04T21:20:12.527Z"
   },
   {
    "duration": 198,
    "start_time": "2021-08-04T21:20:12.533Z"
   },
   {
    "duration": 20,
    "start_time": "2021-08-04T21:20:12.732Z"
   },
   {
    "duration": 191,
    "start_time": "2021-08-04T21:20:12.754Z"
   },
   {
    "duration": 10,
    "start_time": "2021-08-04T21:20:12.947Z"
   },
   {
    "duration": 219,
    "start_time": "2021-08-04T21:20:12.959Z"
   },
   {
    "duration": 15,
    "start_time": "2021-08-04T21:20:13.184Z"
   },
   {
    "duration": 200,
    "start_time": "2021-08-04T21:20:13.200Z"
   },
   {
    "duration": 10,
    "start_time": "2021-08-04T21:20:13.402Z"
   },
   {
    "duration": 15,
    "start_time": "2021-08-04T21:20:13.414Z"
   },
   {
    "duration": 789,
    "start_time": "2021-08-04T21:20:13.431Z"
   },
   {
    "duration": 231,
    "start_time": "2021-08-04T21:20:14.221Z"
   },
   {
    "duration": 155,
    "start_time": "2021-08-04T21:20:14.454Z"
   },
   {
    "duration": 9,
    "start_time": "2021-08-04T21:20:14.610Z"
   },
   {
    "duration": 13,
    "start_time": "2021-08-04T21:20:14.621Z"
   },
   {
    "duration": 220,
    "start_time": "2021-08-04T21:20:14.635Z"
   },
   {
    "duration": 145,
    "start_time": "2021-08-04T21:21:20.811Z"
   },
   {
    "duration": 64,
    "start_time": "2021-08-04T21:21:31.034Z"
   },
   {
    "duration": 96,
    "start_time": "2021-08-04T21:21:31.100Z"
   },
   {
    "duration": 11,
    "start_time": "2021-08-04T21:21:31.198Z"
   },
   {
    "duration": 8,
    "start_time": "2021-08-04T21:21:31.211Z"
   },
   {
    "duration": 8,
    "start_time": "2021-08-04T21:21:31.220Z"
   },
   {
    "duration": 12,
    "start_time": "2021-08-04T21:21:31.230Z"
   },
   {
    "duration": 14,
    "start_time": "2021-08-04T21:21:31.243Z"
   },
   {
    "duration": 28,
    "start_time": "2021-08-04T21:21:31.259Z"
   },
   {
    "duration": 52,
    "start_time": "2021-08-04T21:21:31.289Z"
   },
   {
    "duration": 6,
    "start_time": "2021-08-04T21:21:31.343Z"
   },
   {
    "duration": 35,
    "start_time": "2021-08-04T21:21:31.351Z"
   },
   {
    "duration": 55,
    "start_time": "2021-08-04T21:21:31.387Z"
   },
   {
    "duration": 5,
    "start_time": "2021-08-04T21:21:31.443Z"
   },
   {
    "duration": 11,
    "start_time": "2021-08-04T21:21:31.450Z"
   },
   {
    "duration": 14,
    "start_time": "2021-08-04T21:21:31.462Z"
   },
   {
    "duration": 20,
    "start_time": "2021-08-04T21:21:31.485Z"
   },
   {
    "duration": 14,
    "start_time": "2021-08-04T21:21:31.507Z"
   },
   {
    "duration": 19,
    "start_time": "2021-08-04T21:21:31.523Z"
   },
   {
    "duration": 1331,
    "start_time": "2021-08-04T21:21:31.544Z"
   },
   {
    "duration": 1308,
    "start_time": "2021-08-04T21:21:32.877Z"
   },
   {
    "duration": 5,
    "start_time": "2021-08-04T21:21:34.187Z"
   },
   {
    "duration": 13,
    "start_time": "2021-08-04T21:21:34.193Z"
   },
   {
    "duration": 56,
    "start_time": "2021-08-04T21:21:34.210Z"
   },
   {
    "duration": 4,
    "start_time": "2021-08-04T21:21:34.284Z"
   },
   {
    "duration": 18,
    "start_time": "2021-08-04T21:21:34.290Z"
   },
   {
    "duration": 19,
    "start_time": "2021-08-04T21:21:34.310Z"
   },
   {
    "duration": 70,
    "start_time": "2021-08-04T21:21:34.331Z"
   },
   {
    "duration": 7,
    "start_time": "2021-08-04T21:21:34.403Z"
   },
   {
    "duration": 22,
    "start_time": "2021-08-04T21:21:34.412Z"
   },
   {
    "duration": 13,
    "start_time": "2021-08-04T21:21:34.436Z"
   },
   {
    "duration": 38,
    "start_time": "2021-08-04T21:21:34.450Z"
   },
   {
    "duration": 4,
    "start_time": "2021-08-04T21:21:34.491Z"
   },
   {
    "duration": 9,
    "start_time": "2021-08-04T21:21:34.497Z"
   },
   {
    "duration": 7,
    "start_time": "2021-08-04T21:21:34.507Z"
   },
   {
    "duration": 6,
    "start_time": "2021-08-04T21:21:34.516Z"
   },
   {
    "duration": 6,
    "start_time": "2021-08-04T21:21:34.524Z"
   },
   {
    "duration": 2024,
    "start_time": "2021-08-04T21:21:34.532Z"
   },
   {
    "duration": 4,
    "start_time": "2021-08-04T21:21:36.558Z"
   },
   {
    "duration": 20,
    "start_time": "2021-08-04T21:21:36.563Z"
   },
   {
    "duration": 1866,
    "start_time": "2021-08-04T21:21:36.584Z"
   },
   {
    "duration": 5,
    "start_time": "2021-08-04T21:21:38.452Z"
   },
   {
    "duration": 202,
    "start_time": "2021-08-04T21:21:38.459Z"
   },
   {
    "duration": 27,
    "start_time": "2021-08-04T21:21:38.662Z"
   },
   {
    "duration": 176,
    "start_time": "2021-08-04T21:21:38.691Z"
   },
   {
    "duration": 19,
    "start_time": "2021-08-04T21:21:38.868Z"
   },
   {
    "duration": 210,
    "start_time": "2021-08-04T21:21:38.888Z"
   },
   {
    "duration": 16,
    "start_time": "2021-08-04T21:21:39.099Z"
   },
   {
    "duration": 200,
    "start_time": "2021-08-04T21:21:39.116Z"
   },
   {
    "duration": 10,
    "start_time": "2021-08-04T21:21:39.318Z"
   },
   {
    "duration": 9,
    "start_time": "2021-08-04T21:21:39.330Z"
   },
   {
    "duration": 765,
    "start_time": "2021-08-04T21:21:39.340Z"
   },
   {
    "duration": 191,
    "start_time": "2021-08-04T21:21:49.000Z"
   },
   {
    "duration": 155,
    "start_time": "2021-08-04T21:21:54.275Z"
   },
   {
    "duration": 10,
    "start_time": "2021-08-04T21:22:06.434Z"
   },
   {
    "duration": 5,
    "start_time": "2021-08-04T21:22:07.632Z"
   },
   {
    "duration": 202,
    "start_time": "2021-08-04T21:22:09.073Z"
   },
   {
    "duration": 9,
    "start_time": "2021-08-04T21:22:11.842Z"
   },
   {
    "duration": 66,
    "start_time": "2021-08-04T21:27:32.819Z"
   },
   {
    "duration": 83,
    "start_time": "2021-08-04T21:27:32.887Z"
   },
   {
    "duration": 19,
    "start_time": "2021-08-04T21:27:32.972Z"
   },
   {
    "duration": 8,
    "start_time": "2021-08-04T21:27:32.993Z"
   },
   {
    "duration": 4,
    "start_time": "2021-08-04T21:27:33.003Z"
   },
   {
    "duration": 9,
    "start_time": "2021-08-04T21:27:33.009Z"
   },
   {
    "duration": 10,
    "start_time": "2021-08-04T21:27:33.020Z"
   },
   {
    "duration": 3,
    "start_time": "2021-08-04T21:27:33.033Z"
   },
   {
    "duration": 94,
    "start_time": "2021-08-04T21:27:33.037Z"
   },
   {
    "duration": 7,
    "start_time": "2021-08-04T21:27:33.133Z"
   },
   {
    "duration": 6,
    "start_time": "2021-08-04T21:27:33.142Z"
   },
   {
    "duration": 82,
    "start_time": "2021-08-04T21:27:33.150Z"
   },
   {
    "duration": 5,
    "start_time": "2021-08-04T21:27:33.234Z"
   },
   {
    "duration": 10,
    "start_time": "2021-08-04T21:27:33.241Z"
   },
   {
    "duration": 6,
    "start_time": "2021-08-04T21:27:33.254Z"
   },
   {
    "duration": 18,
    "start_time": "2021-08-04T21:27:33.285Z"
   },
   {
    "duration": 3,
    "start_time": "2021-08-04T21:27:33.305Z"
   },
   {
    "duration": 13,
    "start_time": "2021-08-04T21:27:33.310Z"
   },
   {
    "duration": 1556,
    "start_time": "2021-08-04T21:27:33.325Z"
   },
   {
    "duration": 1444,
    "start_time": "2021-08-04T21:27:34.885Z"
   },
   {
    "duration": 4,
    "start_time": "2021-08-04T21:27:36.331Z"
   },
   {
    "duration": 8,
    "start_time": "2021-08-04T21:27:36.337Z"
   },
   {
    "duration": 73,
    "start_time": "2021-08-04T21:27:36.346Z"
   },
   {
    "duration": 4,
    "start_time": "2021-08-04T21:27:36.421Z"
   },
   {
    "duration": 7,
    "start_time": "2021-08-04T21:27:36.427Z"
   },
   {
    "duration": 7,
    "start_time": "2021-08-04T21:27:36.436Z"
   },
   {
    "duration": 86,
    "start_time": "2021-08-04T21:27:36.445Z"
   },
   {
    "duration": 6,
    "start_time": "2021-08-04T21:27:36.535Z"
   },
   {
    "duration": 20,
    "start_time": "2021-08-04T21:27:36.544Z"
   },
   {
    "duration": 30,
    "start_time": "2021-08-04T21:27:36.566Z"
   },
   {
    "duration": 10,
    "start_time": "2021-08-04T21:27:36.598Z"
   },
   {
    "duration": 5,
    "start_time": "2021-08-04T21:27:36.610Z"
   },
   {
    "duration": 10,
    "start_time": "2021-08-04T21:27:36.616Z"
   },
   {
    "duration": 13,
    "start_time": "2021-08-04T21:27:36.628Z"
   },
   {
    "duration": 6,
    "start_time": "2021-08-04T21:27:36.643Z"
   },
   {
    "duration": 3,
    "start_time": "2021-08-04T21:27:36.651Z"
   },
   {
    "duration": 1877,
    "start_time": "2021-08-04T21:27:36.685Z"
   },
   {
    "duration": 5,
    "start_time": "2021-08-04T21:27:38.563Z"
   },
   {
    "duration": 209,
    "start_time": "2021-08-04T21:27:38.570Z"
   },
   {
    "duration": 2051,
    "start_time": "2021-08-04T21:27:38.780Z"
   },
   {
    "duration": 4,
    "start_time": "2021-08-04T21:27:40.833Z"
   },
   {
    "duration": 262,
    "start_time": "2021-08-04T21:27:40.839Z"
   },
   {
    "duration": 19,
    "start_time": "2021-08-04T21:27:41.103Z"
   },
   {
    "duration": 233,
    "start_time": "2021-08-04T21:27:41.124Z"
   },
   {
    "duration": 11,
    "start_time": "2021-08-04T21:27:41.358Z"
   },
   {
    "duration": 214,
    "start_time": "2021-08-04T21:27:41.370Z"
   },
   {
    "duration": 15,
    "start_time": "2021-08-04T21:27:41.586Z"
   },
   {
    "duration": 202,
    "start_time": "2021-08-04T21:27:41.603Z"
   },
   {
    "duration": 10,
    "start_time": "2021-08-04T21:27:41.807Z"
   },
   {
    "duration": 10,
    "start_time": "2021-08-04T21:27:41.819Z"
   },
   {
    "duration": 809,
    "start_time": "2021-08-04T21:27:41.831Z"
   },
   {
    "duration": 219,
    "start_time": "2021-08-04T21:27:42.642Z"
   },
   {
    "duration": 163,
    "start_time": "2021-08-04T21:27:42.863Z"
   },
   {
    "duration": 10,
    "start_time": "2021-08-04T21:27:43.028Z"
   },
   {
    "duration": 15,
    "start_time": "2021-08-04T21:27:43.039Z"
   },
   {
    "duration": 215,
    "start_time": "2021-08-04T21:27:43.056Z"
   },
   {
    "duration": 16,
    "start_time": "2021-08-04T21:27:43.272Z"
   },
   {
    "duration": 61,
    "start_time": "2021-08-04T21:27:50.244Z"
   },
   {
    "duration": 81,
    "start_time": "2021-08-04T21:27:50.307Z"
   },
   {
    "duration": 10,
    "start_time": "2021-08-04T21:27:50.390Z"
   },
   {
    "duration": 7,
    "start_time": "2021-08-04T21:27:50.402Z"
   },
   {
    "duration": 4,
    "start_time": "2021-08-04T21:27:50.441Z"
   },
   {
    "duration": 9,
    "start_time": "2021-08-04T21:27:50.447Z"
   },
   {
    "duration": 9,
    "start_time": "2021-08-04T21:27:50.459Z"
   },
   {
    "duration": 4,
    "start_time": "2021-08-04T21:27:50.469Z"
   },
   {
    "duration": 58,
    "start_time": "2021-08-04T21:27:50.474Z"
   },
   {
    "duration": 6,
    "start_time": "2021-08-04T21:27:50.534Z"
   },
   {
    "duration": 5,
    "start_time": "2021-08-04T21:27:50.542Z"
   },
   {
    "duration": 69,
    "start_time": "2021-08-04T21:27:50.549Z"
   },
   {
    "duration": 4,
    "start_time": "2021-08-04T21:27:50.621Z"
   },
   {
    "duration": 8,
    "start_time": "2021-08-04T21:27:50.627Z"
   },
   {
    "duration": 8,
    "start_time": "2021-08-04T21:27:50.637Z"
   },
   {
    "duration": 42,
    "start_time": "2021-08-04T21:27:50.646Z"
   },
   {
    "duration": 3,
    "start_time": "2021-08-04T21:27:50.689Z"
   },
   {
    "duration": 13,
    "start_time": "2021-08-04T21:27:50.694Z"
   },
   {
    "duration": 1669,
    "start_time": "2021-08-04T21:27:50.708Z"
   },
   {
    "duration": 1373,
    "start_time": "2021-08-04T21:27:52.379Z"
   },
   {
    "duration": 3,
    "start_time": "2021-08-04T21:27:53.754Z"
   },
   {
    "duration": 9,
    "start_time": "2021-08-04T21:27:53.759Z"
   },
   {
    "duration": 67,
    "start_time": "2021-08-04T21:27:53.769Z"
   },
   {
    "duration": 4,
    "start_time": "2021-08-04T21:27:53.839Z"
   },
   {
    "duration": 9,
    "start_time": "2021-08-04T21:27:53.845Z"
   },
   {
    "duration": 5,
    "start_time": "2021-08-04T21:27:53.856Z"
   },
   {
    "duration": 66,
    "start_time": "2021-08-04T21:27:53.863Z"
   },
   {
    "duration": 5,
    "start_time": "2021-08-04T21:27:53.931Z"
   },
   {
    "duration": 18,
    "start_time": "2021-08-04T21:27:53.938Z"
   },
   {
    "duration": 32,
    "start_time": "2021-08-04T21:27:53.957Z"
   },
   {
    "duration": 10,
    "start_time": "2021-08-04T21:27:53.990Z"
   },
   {
    "duration": 5,
    "start_time": "2021-08-04T21:27:54.001Z"
   },
   {
    "duration": 11,
    "start_time": "2021-08-04T21:27:54.007Z"
   },
   {
    "duration": 5,
    "start_time": "2021-08-04T21:27:54.020Z"
   },
   {
    "duration": 9,
    "start_time": "2021-08-04T21:27:54.026Z"
   },
   {
    "duration": 7,
    "start_time": "2021-08-04T21:27:54.037Z"
   },
   {
    "duration": 1808,
    "start_time": "2021-08-04T21:27:54.046Z"
   },
   {
    "duration": 4,
    "start_time": "2021-08-04T21:27:55.855Z"
   },
   {
    "duration": 9,
    "start_time": "2021-08-04T21:27:55.861Z"
   },
   {
    "duration": 1895,
    "start_time": "2021-08-04T21:27:55.871Z"
   },
   {
    "duration": 4,
    "start_time": "2021-08-04T21:27:57.768Z"
   },
   {
    "duration": 204,
    "start_time": "2021-08-04T21:27:57.774Z"
   },
   {
    "duration": 23,
    "start_time": "2021-08-04T21:27:57.980Z"
   },
   {
    "duration": 190,
    "start_time": "2021-08-04T21:27:58.004Z"
   },
   {
    "duration": 11,
    "start_time": "2021-08-04T21:27:58.195Z"
   },
   {
    "duration": 220,
    "start_time": "2021-08-04T21:27:58.208Z"
   },
   {
    "duration": 14,
    "start_time": "2021-08-04T21:27:58.430Z"
   },
   {
    "duration": 199,
    "start_time": "2021-08-04T21:27:58.446Z"
   },
   {
    "duration": 9,
    "start_time": "2021-08-04T21:27:58.647Z"
   },
   {
    "duration": 12,
    "start_time": "2021-08-04T21:27:58.657Z"
   },
   {
    "duration": 754,
    "start_time": "2021-08-04T21:27:58.671Z"
   },
   {
    "duration": 215,
    "start_time": "2021-08-04T21:27:59.427Z"
   },
   {
    "duration": 137,
    "start_time": "2021-08-04T21:28:05.072Z"
   },
   {
    "duration": 130,
    "start_time": "2021-08-04T21:28:15.325Z"
   },
   {
    "duration": 134,
    "start_time": "2021-08-04T21:28:16.496Z"
   },
   {
    "duration": 135,
    "start_time": "2021-08-04T21:28:17.526Z"
   },
   {
    "duration": 132,
    "start_time": "2021-08-04T21:28:18.711Z"
   },
   {
    "duration": 133,
    "start_time": "2021-08-04T21:31:00.316Z"
   },
   {
    "duration": 127,
    "start_time": "2021-08-04T21:32:10.021Z"
   },
   {
    "duration": 131,
    "start_time": "2021-08-04T21:33:19.289Z"
   },
   {
    "duration": 127,
    "start_time": "2021-08-04T21:33:20.859Z"
   },
   {
    "duration": 189,
    "start_time": "2021-08-04T21:34:55.116Z"
   },
   {
    "duration": 136,
    "start_time": "2021-08-04T21:36:08.783Z"
   },
   {
    "duration": 186,
    "start_time": "2021-08-04T21:36:48.941Z"
   },
   {
    "duration": 173,
    "start_time": "2021-08-04T21:36:56.930Z"
   },
   {
    "duration": 897,
    "start_time": "2021-08-04T21:37:10.068Z"
   },
   {
    "duration": 134,
    "start_time": "2021-08-04T21:39:50.914Z"
   },
   {
    "duration": 128,
    "start_time": "2021-08-04T21:39:53.466Z"
   },
   {
    "duration": 5,
    "start_time": "2021-08-04T21:40:39.862Z"
   },
   {
    "duration": 125,
    "start_time": "2021-08-04T21:40:51.114Z"
   },
   {
    "duration": 136,
    "start_time": "2021-08-04T21:45:04.484Z"
   },
   {
    "duration": 133,
    "start_time": "2021-08-04T21:45:51.050Z"
   },
   {
    "duration": 472,
    "start_time": "2021-08-04T21:46:21.265Z"
   },
   {
    "duration": 59,
    "start_time": "2021-08-04T21:46:33.641Z"
   },
   {
    "duration": 133,
    "start_time": "2021-08-04T21:46:42.276Z"
   },
   {
    "duration": 11,
    "start_time": "2021-08-04T21:46:54.857Z"
   },
   {
    "duration": 5,
    "start_time": "2021-08-04T21:46:56.103Z"
   },
   {
    "duration": 197,
    "start_time": "2021-08-04T21:46:58.684Z"
   },
   {
    "duration": 9,
    "start_time": "2021-08-04T21:47:01.491Z"
   },
   {
    "duration": 127,
    "start_time": "2021-08-04T21:47:06.431Z"
   },
   {
    "duration": 65,
    "start_time": "2021-08-04T21:48:15.929Z"
   },
   {
    "duration": 100,
    "start_time": "2021-08-04T21:48:15.996Z"
   },
   {
    "duration": 11,
    "start_time": "2021-08-04T21:48:16.098Z"
   },
   {
    "duration": 8,
    "start_time": "2021-08-04T21:48:16.111Z"
   },
   {
    "duration": 4,
    "start_time": "2021-08-04T21:48:16.121Z"
   },
   {
    "duration": 11,
    "start_time": "2021-08-04T21:48:16.126Z"
   },
   {
    "duration": 11,
    "start_time": "2021-08-04T21:48:16.138Z"
   },
   {
    "duration": 36,
    "start_time": "2021-08-04T21:48:16.150Z"
   },
   {
    "duration": 53,
    "start_time": "2021-08-04T21:48:16.189Z"
   },
   {
    "duration": 7,
    "start_time": "2021-08-04T21:48:16.244Z"
   },
   {
    "duration": 34,
    "start_time": "2021-08-04T21:48:16.253Z"
   },
   {
    "duration": 55,
    "start_time": "2021-08-04T21:48:16.289Z"
   },
   {
    "duration": 6,
    "start_time": "2021-08-04T21:48:16.345Z"
   },
   {
    "duration": 36,
    "start_time": "2021-08-04T21:48:16.352Z"
   },
   {
    "duration": 5,
    "start_time": "2021-08-04T21:48:16.390Z"
   },
   {
    "duration": 19,
    "start_time": "2021-08-04T21:48:16.396Z"
   },
   {
    "duration": 3,
    "start_time": "2021-08-04T21:48:16.417Z"
   },
   {
    "duration": 14,
    "start_time": "2021-08-04T21:48:16.421Z"
   },
   {
    "duration": 1375,
    "start_time": "2021-08-04T21:48:16.437Z"
   },
   {
    "duration": 1344,
    "start_time": "2021-08-04T21:48:17.816Z"
   },
   {
    "duration": 4,
    "start_time": "2021-08-04T21:48:19.162Z"
   },
   {
    "duration": 9,
    "start_time": "2021-08-04T21:48:19.167Z"
   },
   {
    "duration": 56,
    "start_time": "2021-08-04T21:48:19.185Z"
   },
   {
    "duration": 3,
    "start_time": "2021-08-04T21:48:19.243Z"
   },
   {
    "duration": 9,
    "start_time": "2021-08-04T21:48:19.248Z"
   },
   {
    "duration": 30,
    "start_time": "2021-08-04T21:48:19.258Z"
   },
   {
    "duration": 58,
    "start_time": "2021-08-04T21:48:19.290Z"
   },
   {
    "duration": 6,
    "start_time": "2021-08-04T21:48:19.349Z"
   },
   {
    "duration": 36,
    "start_time": "2021-08-04T21:48:19.357Z"
   },
   {
    "duration": 12,
    "start_time": "2021-08-04T21:48:19.395Z"
   },
   {
    "duration": 9,
    "start_time": "2021-08-04T21:48:19.409Z"
   },
   {
    "duration": 4,
    "start_time": "2021-08-04T21:48:19.420Z"
   },
   {
    "duration": 9,
    "start_time": "2021-08-04T21:48:19.425Z"
   },
   {
    "duration": 6,
    "start_time": "2021-08-04T21:48:19.436Z"
   },
   {
    "duration": 6,
    "start_time": "2021-08-04T21:48:19.444Z"
   },
   {
    "duration": 36,
    "start_time": "2021-08-04T21:48:19.451Z"
   },
   {
    "duration": 2195,
    "start_time": "2021-08-04T21:48:19.489Z"
   },
   {
    "duration": 4,
    "start_time": "2021-08-04T21:48:21.686Z"
   },
   {
    "duration": 21,
    "start_time": "2021-08-04T21:48:21.692Z"
   },
   {
    "duration": 1991,
    "start_time": "2021-08-04T21:48:21.715Z"
   },
   {
    "duration": 4,
    "start_time": "2021-08-04T21:48:23.708Z"
   },
   {
    "duration": 214,
    "start_time": "2021-08-04T21:48:23.714Z"
   },
   {
    "duration": 21,
    "start_time": "2021-08-04T21:48:23.930Z"
   },
   {
    "duration": 213,
    "start_time": "2021-08-04T21:48:23.953Z"
   },
   {
    "duration": 20,
    "start_time": "2021-08-04T21:48:24.167Z"
   },
   {
    "duration": 247,
    "start_time": "2021-08-04T21:48:24.188Z"
   },
   {
    "duration": 16,
    "start_time": "2021-08-04T21:48:24.437Z"
   },
   {
    "duration": 229,
    "start_time": "2021-08-04T21:48:24.455Z"
   },
   {
    "duration": 10,
    "start_time": "2021-08-04T21:48:24.686Z"
   },
   {
    "duration": 10,
    "start_time": "2021-08-04T21:48:24.697Z"
   },
   {
    "duration": 815,
    "start_time": "2021-08-04T21:48:24.709Z"
   },
   {
    "duration": 213,
    "start_time": "2021-08-04T21:48:25.527Z"
   },
   {
    "duration": 136,
    "start_time": "2021-08-04T21:48:34.032Z"
   },
   {
    "duration": 10,
    "start_time": "2021-08-04T21:50:11.253Z"
   },
   {
    "duration": 124,
    "start_time": "2021-08-04T21:50:12.908Z"
   },
   {
    "duration": 8,
    "start_time": "2021-08-04T22:01:07.866Z"
   },
   {
    "duration": 7,
    "start_time": "2021-08-04T22:01:49.328Z"
   },
   {
    "duration": 61,
    "start_time": "2021-08-04T22:03:22.308Z"
   },
   {
    "duration": 10,
    "start_time": "2021-08-04T22:04:17.418Z"
   },
   {
    "duration": 15,
    "start_time": "2021-08-04T22:04:20.212Z"
   },
   {
    "duration": 11,
    "start_time": "2021-08-04T22:04:35.185Z"
   },
   {
    "duration": 61,
    "start_time": "2021-08-04T22:04:55.920Z"
   },
   {
    "duration": 76,
    "start_time": "2021-08-04T22:04:55.982Z"
   },
   {
    "duration": 26,
    "start_time": "2021-08-04T22:04:56.060Z"
   },
   {
    "duration": 9,
    "start_time": "2021-08-04T22:04:56.088Z"
   },
   {
    "duration": 5,
    "start_time": "2021-08-04T22:04:56.099Z"
   },
   {
    "duration": 8,
    "start_time": "2021-08-04T22:04:56.105Z"
   },
   {
    "duration": 11,
    "start_time": "2021-08-04T22:04:56.114Z"
   },
   {
    "duration": 3,
    "start_time": "2021-08-04T22:04:56.127Z"
   },
   {
    "duration": 94,
    "start_time": "2021-08-04T22:04:56.133Z"
   },
   {
    "duration": 6,
    "start_time": "2021-08-04T22:04:56.229Z"
   },
   {
    "duration": 6,
    "start_time": "2021-08-04T22:04:56.237Z"
   },
   {
    "duration": 79,
    "start_time": "2021-08-04T22:04:56.245Z"
   },
   {
    "duration": 5,
    "start_time": "2021-08-04T22:04:56.326Z"
   },
   {
    "duration": 10,
    "start_time": "2021-08-04T22:04:56.332Z"
   },
   {
    "duration": 5,
    "start_time": "2021-08-04T22:04:56.344Z"
   },
   {
    "duration": 48,
    "start_time": "2021-08-04T22:04:56.351Z"
   },
   {
    "duration": 5,
    "start_time": "2021-08-04T22:04:56.401Z"
   },
   {
    "duration": 13,
    "start_time": "2021-08-04T22:04:56.407Z"
   },
   {
    "duration": 1311,
    "start_time": "2021-08-04T22:04:56.421Z"
   },
   {
    "duration": 1298,
    "start_time": "2021-08-04T22:04:57.734Z"
   },
   {
    "duration": 4,
    "start_time": "2021-08-04T22:04:59.033Z"
   },
   {
    "duration": 7,
    "start_time": "2021-08-04T22:04:59.038Z"
   },
   {
    "duration": 65,
    "start_time": "2021-08-04T22:04:59.049Z"
   },
   {
    "duration": 4,
    "start_time": "2021-08-04T22:04:59.116Z"
   },
   {
    "duration": 7,
    "start_time": "2021-08-04T22:04:59.121Z"
   },
   {
    "duration": 6,
    "start_time": "2021-08-04T22:04:59.129Z"
   },
   {
    "duration": 71,
    "start_time": "2021-08-04T22:04:59.136Z"
   },
   {
    "duration": 5,
    "start_time": "2021-08-04T22:04:59.209Z"
   },
   {
    "duration": 7,
    "start_time": "2021-08-04T22:04:59.216Z"
   },
   {
    "duration": 74,
    "start_time": "2021-08-04T22:04:59.224Z"
   },
   {
    "duration": 18,
    "start_time": "2021-08-04T22:04:59.300Z"
   },
   {
    "duration": 13,
    "start_time": "2021-08-04T22:04:59.319Z"
   },
   {
    "duration": 10,
    "start_time": "2021-08-04T22:04:59.334Z"
   },
   {
    "duration": 4,
    "start_time": "2021-08-04T22:04:59.346Z"
   },
   {
    "duration": 36,
    "start_time": "2021-08-04T22:04:59.351Z"
   },
   {
    "duration": 5,
    "start_time": "2021-08-04T22:04:59.389Z"
   },
   {
    "duration": 15,
    "start_time": "2021-08-04T22:04:59.396Z"
   },
   {
    "duration": 6,
    "start_time": "2021-08-04T22:04:59.413Z"
   },
   {
    "duration": 1772,
    "start_time": "2021-08-04T22:04:59.421Z"
   },
   {
    "duration": 5,
    "start_time": "2021-08-04T22:05:01.194Z"
   },
   {
    "duration": 15,
    "start_time": "2021-08-04T22:05:01.200Z"
   },
   {
    "duration": 1931,
    "start_time": "2021-08-04T22:05:01.217Z"
   },
   {
    "duration": 4,
    "start_time": "2021-08-04T22:05:03.150Z"
   },
   {
    "duration": 198,
    "start_time": "2021-08-04T22:05:03.156Z"
   },
   {
    "duration": 29,
    "start_time": "2021-08-04T22:05:03.355Z"
   },
   {
    "duration": 178,
    "start_time": "2021-08-04T22:05:03.386Z"
   },
   {
    "duration": 20,
    "start_time": "2021-08-04T22:05:03.565Z"
   },
   {
    "duration": 213,
    "start_time": "2021-08-04T22:05:03.586Z"
   },
   {
    "duration": 15,
    "start_time": "2021-08-04T22:05:03.801Z"
   },
   {
    "duration": 196,
    "start_time": "2021-08-04T22:05:03.818Z"
   },
   {
    "duration": 10,
    "start_time": "2021-08-04T22:05:04.015Z"
   },
   {
    "duration": 11,
    "start_time": "2021-08-04T22:05:04.027Z"
   },
   {
    "duration": 784,
    "start_time": "2021-08-04T22:05:04.039Z"
   },
   {
    "duration": 211,
    "start_time": "2021-08-04T22:05:04.824Z"
   },
   {
    "duration": 9,
    "start_time": "2021-08-04T22:05:05.037Z"
   },
   {
    "duration": 125,
    "start_time": "2021-08-04T22:05:09.609Z"
   },
   {
    "duration": 10,
    "start_time": "2021-08-04T22:05:19.893Z"
   },
   {
    "duration": 5,
    "start_time": "2021-08-04T22:05:21.539Z"
   },
   {
    "duration": 217,
    "start_time": "2021-08-04T22:05:26.594Z"
   },
   {
    "duration": 9,
    "start_time": "2021-08-04T22:05:47.124Z"
   },
   {
    "duration": 652,
    "start_time": "2021-08-05T13:16:44.601Z"
   },
   {
    "duration": 76,
    "start_time": "2021-08-05T13:16:45.254Z"
   },
   {
    "duration": 17,
    "start_time": "2021-08-05T13:16:45.333Z"
   },
   {
    "duration": 10,
    "start_time": "2021-08-05T13:16:45.352Z"
   },
   {
    "duration": 13,
    "start_time": "2021-08-05T13:16:45.364Z"
   },
   {
    "duration": 10,
    "start_time": "2021-08-05T13:16:45.379Z"
   },
   {
    "duration": 10,
    "start_time": "2021-08-05T13:16:45.391Z"
   },
   {
    "duration": 3,
    "start_time": "2021-08-05T13:16:45.404Z"
   },
   {
    "duration": 53,
    "start_time": "2021-08-05T13:16:45.440Z"
   },
   {
    "duration": 8,
    "start_time": "2021-08-05T13:16:45.495Z"
   },
   {
    "duration": 8,
    "start_time": "2021-08-05T13:16:45.504Z"
   },
   {
    "duration": 69,
    "start_time": "2021-08-05T13:16:45.514Z"
   },
   {
    "duration": 5,
    "start_time": "2021-08-05T13:16:45.585Z"
   },
   {
    "duration": 10,
    "start_time": "2021-08-05T13:16:45.592Z"
   },
   {
    "duration": 7,
    "start_time": "2021-08-05T13:16:45.603Z"
   },
   {
    "duration": 43,
    "start_time": "2021-08-05T13:16:45.612Z"
   },
   {
    "duration": 4,
    "start_time": "2021-08-05T13:16:45.657Z"
   },
   {
    "duration": 12,
    "start_time": "2021-08-05T13:16:45.663Z"
   },
   {
    "duration": 1329,
    "start_time": "2021-08-05T13:16:45.677Z"
   },
   {
    "duration": 1308,
    "start_time": "2021-08-05T13:16:47.008Z"
   },
   {
    "duration": 4,
    "start_time": "2021-08-05T13:16:48.318Z"
   },
   {
    "duration": 17,
    "start_time": "2021-08-05T13:16:48.324Z"
   },
   {
    "duration": 52,
    "start_time": "2021-08-05T13:16:48.345Z"
   },
   {
    "duration": 3,
    "start_time": "2021-08-05T13:16:48.400Z"
   },
   {
    "duration": 8,
    "start_time": "2021-08-05T13:16:48.405Z"
   },
   {
    "duration": 30,
    "start_time": "2021-08-05T13:16:48.415Z"
   },
   {
    "duration": 58,
    "start_time": "2021-08-05T13:16:48.446Z"
   },
   {
    "duration": 6,
    "start_time": "2021-08-05T13:16:48.506Z"
   },
   {
    "duration": 27,
    "start_time": "2021-08-05T13:16:48.514Z"
   },
   {
    "duration": 53,
    "start_time": "2021-08-05T13:16:48.543Z"
   },
   {
    "duration": 19,
    "start_time": "2021-08-05T13:16:48.597Z"
   },
   {
    "duration": 33,
    "start_time": "2021-08-05T13:16:48.618Z"
   },
   {
    "duration": 9,
    "start_time": "2021-08-05T13:16:48.653Z"
   },
   {
    "duration": 4,
    "start_time": "2021-08-05T13:16:48.663Z"
   },
   {
    "duration": 9,
    "start_time": "2021-08-05T13:16:48.669Z"
   },
   {
    "duration": 6,
    "start_time": "2021-08-05T13:16:48.679Z"
   },
   {
    "duration": 5,
    "start_time": "2021-08-05T13:16:48.687Z"
   },
   {
    "duration": 3,
    "start_time": "2021-08-05T13:16:48.694Z"
   },
   {
    "duration": 1876,
    "start_time": "2021-08-05T13:16:48.699Z"
   },
   {
    "duration": 4,
    "start_time": "2021-08-05T13:16:50.577Z"
   },
   {
    "duration": 8,
    "start_time": "2021-08-05T13:16:50.582Z"
   },
   {
    "duration": 5713,
    "start_time": "2021-08-05T13:16:50.591Z"
   },
   {
    "duration": 71,
    "start_time": "2021-08-05T13:16:56.306Z"
   },
   {
    "duration": 201,
    "start_time": "2021-08-05T13:16:56.378Z"
   },
   {
    "duration": 16,
    "start_time": "2021-08-05T13:16:56.581Z"
   },
   {
    "duration": 186,
    "start_time": "2021-08-05T13:16:56.599Z"
   },
   {
    "duration": 12,
    "start_time": "2021-08-05T13:16:56.787Z"
   },
   {
    "duration": 209,
    "start_time": "2021-08-05T13:16:56.801Z"
   },
   {
    "duration": 15,
    "start_time": "2021-08-05T13:16:57.012Z"
   },
   {
    "duration": 229,
    "start_time": "2021-08-05T13:16:57.028Z"
   },
   {
    "duration": 10,
    "start_time": "2021-08-05T13:16:57.259Z"
   },
   {
    "duration": 12,
    "start_time": "2021-08-05T13:16:57.271Z"
   },
   {
    "duration": 731,
    "start_time": "2021-08-05T13:16:57.285Z"
   },
   {
    "duration": 192,
    "start_time": "2021-08-05T13:16:58.018Z"
   },
   {
    "duration": 13,
    "start_time": "2021-08-05T13:16:58.211Z"
   },
   {
    "duration": 130,
    "start_time": "2021-08-05T13:16:58.226Z"
   },
   {
    "duration": 10,
    "start_time": "2021-08-05T13:16:58.357Z"
   },
   {
    "duration": 5,
    "start_time": "2021-08-05T13:16:58.368Z"
   },
   {
    "duration": 204,
    "start_time": "2021-08-05T13:16:58.374Z"
   },
   {
    "duration": 8,
    "start_time": "2021-08-05T13:17:04.661Z"
   },
   {
    "duration": 253,
    "start_time": "2021-08-05T13:22:50.652Z"
   },
   {
    "duration": 186,
    "start_time": "2021-08-05T13:24:17.558Z"
   },
   {
    "duration": 541,
    "start_time": "2021-08-05T13:24:52.156Z"
   },
   {
    "duration": 8,
    "start_time": "2021-08-05T13:26:13.148Z"
   },
   {
    "duration": 10,
    "start_time": "2021-08-05T13:26:29.728Z"
   },
   {
    "duration": 8,
    "start_time": "2021-08-05T13:26:36.289Z"
   },
   {
    "duration": 60,
    "start_time": "2021-08-05T13:26:45.137Z"
   },
   {
    "duration": 79,
    "start_time": "2021-08-05T13:26:45.199Z"
   },
   {
    "duration": 10,
    "start_time": "2021-08-05T13:26:45.280Z"
   },
   {
    "duration": 20,
    "start_time": "2021-08-05T13:26:45.292Z"
   },
   {
    "duration": 4,
    "start_time": "2021-08-05T13:26:45.314Z"
   },
   {
    "duration": 8,
    "start_time": "2021-08-05T13:26:45.340Z"
   },
   {
    "duration": 10,
    "start_time": "2021-08-05T13:26:45.350Z"
   },
   {
    "duration": 4,
    "start_time": "2021-08-05T13:26:45.362Z"
   },
   {
    "duration": 83,
    "start_time": "2021-08-05T13:26:45.368Z"
   },
   {
    "duration": 7,
    "start_time": "2021-08-05T13:26:45.452Z"
   },
   {
    "duration": 6,
    "start_time": "2021-08-05T13:26:45.461Z"
   },
   {
    "duration": 47,
    "start_time": "2021-08-05T13:26:45.469Z"
   },
   {
    "duration": 25,
    "start_time": "2021-08-05T13:26:45.518Z"
   },
   {
    "duration": 9,
    "start_time": "2021-08-05T13:26:45.545Z"
   },
   {
    "duration": 5,
    "start_time": "2021-08-05T13:26:45.556Z"
   },
   {
    "duration": 93,
    "start_time": "2021-08-05T13:26:45.562Z"
   },
   {
    "duration": 5,
    "start_time": "2021-08-05T13:26:45.657Z"
   },
   {
    "duration": 12,
    "start_time": "2021-08-05T13:26:45.664Z"
   },
   {
    "duration": 1329,
    "start_time": "2021-08-05T13:26:45.677Z"
   },
   {
    "duration": 1316,
    "start_time": "2021-08-05T13:26:47.008Z"
   },
   {
    "duration": 3,
    "start_time": "2021-08-05T13:26:48.325Z"
   },
   {
    "duration": 16,
    "start_time": "2021-08-05T13:26:48.330Z"
   },
   {
    "duration": 63,
    "start_time": "2021-08-05T13:26:48.349Z"
   },
   {
    "duration": 3,
    "start_time": "2021-08-05T13:26:48.414Z"
   },
   {
    "duration": 23,
    "start_time": "2021-08-05T13:26:48.418Z"
   },
   {
    "duration": 14,
    "start_time": "2021-08-05T13:26:48.443Z"
   },
   {
    "duration": 61,
    "start_time": "2021-08-05T13:26:48.459Z"
   },
   {
    "duration": 5,
    "start_time": "2021-08-05T13:26:48.521Z"
   },
   {
    "duration": 22,
    "start_time": "2021-08-05T13:26:48.528Z"
   },
   {
    "duration": 57,
    "start_time": "2021-08-05T13:26:48.552Z"
   },
   {
    "duration": 17,
    "start_time": "2021-08-05T13:26:48.611Z"
   },
   {
    "duration": 24,
    "start_time": "2021-08-05T13:26:48.630Z"
   },
   {
    "duration": 10,
    "start_time": "2021-08-05T13:26:48.655Z"
   },
   {
    "duration": 9,
    "start_time": "2021-08-05T13:26:48.667Z"
   },
   {
    "duration": 26,
    "start_time": "2021-08-05T13:26:48.678Z"
   },
   {
    "duration": 15,
    "start_time": "2021-08-05T13:26:48.706Z"
   },
   {
    "duration": 18,
    "start_time": "2021-08-05T13:26:48.723Z"
   },
   {
    "duration": 4,
    "start_time": "2021-08-05T13:26:48.743Z"
   },
   {
    "duration": 1849,
    "start_time": "2021-08-05T13:26:48.749Z"
   },
   {
    "duration": 3,
    "start_time": "2021-08-05T13:26:50.600Z"
   },
   {
    "duration": 11,
    "start_time": "2021-08-05T13:26:50.605Z"
   },
   {
    "duration": 2071,
    "start_time": "2021-08-05T13:26:50.618Z"
   },
   {
    "duration": 4,
    "start_time": "2021-08-05T13:26:52.692Z"
   },
   {
    "duration": 253,
    "start_time": "2021-08-05T13:26:52.697Z"
   },
   {
    "duration": 16,
    "start_time": "2021-08-05T13:26:52.951Z"
   },
   {
    "duration": 173,
    "start_time": "2021-08-05T13:26:52.969Z"
   },
   {
    "duration": 11,
    "start_time": "2021-08-05T13:26:53.144Z"
   },
   {
    "duration": 198,
    "start_time": "2021-08-05T13:26:53.157Z"
   },
   {
    "duration": 15,
    "start_time": "2021-08-05T13:26:53.356Z"
   },
   {
    "duration": 178,
    "start_time": "2021-08-05T13:26:53.373Z"
   },
   {
    "duration": 10,
    "start_time": "2021-08-05T13:26:53.553Z"
   },
   {
    "duration": 9,
    "start_time": "2021-08-05T13:26:53.564Z"
   },
   {
    "duration": 708,
    "start_time": "2021-08-05T13:26:53.575Z"
   },
   {
    "duration": 194,
    "start_time": "2021-08-05T13:26:54.284Z"
   },
   {
    "duration": 10,
    "start_time": "2021-08-05T13:26:54.479Z"
   },
   {
    "duration": 129,
    "start_time": "2021-08-05T13:26:54.490Z"
   },
   {
    "duration": 9,
    "start_time": "2021-08-05T13:26:54.621Z"
   },
   {
    "duration": 4,
    "start_time": "2021-08-05T13:26:54.640Z"
   },
   {
    "duration": 196,
    "start_time": "2021-08-05T13:26:54.646Z"
   },
   {
    "duration": 8,
    "start_time": "2021-08-05T13:26:54.844Z"
   },
   {
    "duration": 8,
    "start_time": "2021-08-05T13:26:59.679Z"
   },
   {
    "duration": 499,
    "start_time": "2021-08-05T13:27:23.507Z"
   },
   {
    "duration": 9,
    "start_time": "2021-08-05T13:27:41.076Z"
   },
   {
    "duration": 5,
    "start_time": "2021-08-05T13:27:58.539Z"
   },
   {
    "duration": 766,
    "start_time": "2021-08-05T13:28:04.552Z"
   },
   {
    "duration": 8,
    "start_time": "2021-08-05T13:28:13.377Z"
   },
   {
    "duration": 465,
    "start_time": "2021-08-05T13:28:16.228Z"
   },
   {
    "duration": 697,
    "start_time": "2021-08-05T13:28:57.309Z"
   },
   {
    "duration": 498,
    "start_time": "2021-08-05T13:29:21.264Z"
   },
   {
    "duration": 136,
    "start_time": "2021-08-05T13:32:28.644Z"
   },
   {
    "duration": 4,
    "start_time": "2021-08-05T13:32:35.126Z"
   },
   {
    "duration": 4,
    "start_time": "2021-08-05T13:37:30.665Z"
   },
   {
    "duration": 7427,
    "start_time": "2021-08-05T13:40:29.332Z"
   },
   {
    "duration": 6915,
    "start_time": "2021-08-05T13:46:00.548Z"
   },
   {
    "duration": 6333,
    "start_time": "2021-08-05T13:47:51.395Z"
   },
   {
    "duration": 7378,
    "start_time": "2021-08-05T13:48:06.277Z"
   },
   {
    "duration": 7086,
    "start_time": "2021-08-05T13:53:14.742Z"
   },
   {
    "duration": 5,
    "start_time": "2021-08-05T13:53:43.717Z"
   },
   {
    "duration": 1332,
    "start_time": "2021-08-05T13:53:51.564Z"
   },
   {
    "duration": 5,
    "start_time": "2021-08-05T13:54:22.745Z"
   },
   {
    "duration": 56,
    "start_time": "2021-08-05T13:54:34.194Z"
   },
   {
    "duration": 71,
    "start_time": "2021-08-05T13:54:34.316Z"
   },
   {
    "duration": 10,
    "start_time": "2021-08-05T13:54:34.389Z"
   },
   {
    "duration": 22,
    "start_time": "2021-08-05T13:54:34.401Z"
   },
   {
    "duration": 12,
    "start_time": "2021-08-05T13:54:34.425Z"
   },
   {
    "duration": 20,
    "start_time": "2021-08-05T13:54:34.439Z"
   },
   {
    "duration": 19,
    "start_time": "2021-08-05T13:54:34.461Z"
   },
   {
    "duration": 11,
    "start_time": "2021-08-05T13:54:34.481Z"
   },
   {
    "duration": 72,
    "start_time": "2021-08-05T13:54:34.495Z"
   },
   {
    "duration": 7,
    "start_time": "2021-08-05T13:54:34.569Z"
   },
   {
    "duration": 19,
    "start_time": "2021-08-05T13:54:34.577Z"
   },
   {
    "duration": 63,
    "start_time": "2021-08-05T13:54:34.598Z"
   },
   {
    "duration": 5,
    "start_time": "2021-08-05T13:54:34.663Z"
   },
   {
    "duration": 18,
    "start_time": "2021-08-05T13:54:34.669Z"
   },
   {
    "duration": 6,
    "start_time": "2021-08-05T13:54:34.689Z"
   },
   {
    "duration": 25,
    "start_time": "2021-08-05T13:54:34.696Z"
   },
   {
    "duration": 18,
    "start_time": "2021-08-05T13:54:34.723Z"
   },
   {
    "duration": 29,
    "start_time": "2021-08-05T13:54:34.742Z"
   },
   {
    "duration": 1461,
    "start_time": "2021-08-05T13:54:34.773Z"
   },
   {
    "duration": 4,
    "start_time": "2021-08-05T13:54:36.241Z"
   },
   {
    "duration": 1310,
    "start_time": "2021-08-05T13:54:36.247Z"
   },
   {
    "duration": 4,
    "start_time": "2021-08-05T13:54:37.559Z"
   },
   {
    "duration": 6,
    "start_time": "2021-08-05T13:54:37.565Z"
   },
   {
    "duration": 14,
    "start_time": "2021-08-05T13:54:37.573Z"
   },
   {
    "duration": 63,
    "start_time": "2021-08-05T13:54:37.588Z"
   },
   {
    "duration": 3,
    "start_time": "2021-08-05T13:54:37.653Z"
   },
   {
    "duration": 30,
    "start_time": "2021-08-05T13:54:37.658Z"
   },
   {
    "duration": 21,
    "start_time": "2021-08-05T13:54:37.690Z"
   },
   {
    "duration": 73,
    "start_time": "2021-08-05T13:54:37.713Z"
   },
   {
    "duration": 6,
    "start_time": "2021-08-05T13:54:37.787Z"
   },
   {
    "duration": 28,
    "start_time": "2021-08-05T13:54:37.795Z"
   },
   {
    "duration": 76,
    "start_time": "2021-08-05T13:54:37.824Z"
   },
   {
    "duration": 16,
    "start_time": "2021-08-05T13:54:37.901Z"
   },
   {
    "duration": 17,
    "start_time": "2021-08-05T13:54:37.919Z"
   },
   {
    "duration": 10,
    "start_time": "2021-08-05T13:54:46.077Z"
   },
   {
    "duration": 11,
    "start_time": "2021-08-05T13:55:30.325Z"
   },
   {
    "duration": 13,
    "start_time": "2021-08-05T13:55:32.095Z"
   },
   {
    "duration": 56,
    "start_time": "2021-08-05T13:55:44.929Z"
   },
   {
    "duration": 84,
    "start_time": "2021-08-05T13:55:44.987Z"
   },
   {
    "duration": 10,
    "start_time": "2021-08-05T13:55:45.073Z"
   },
   {
    "duration": 7,
    "start_time": "2021-08-05T13:55:45.085Z"
   },
   {
    "duration": 5,
    "start_time": "2021-08-05T13:55:45.094Z"
   },
   {
    "duration": 8,
    "start_time": "2021-08-05T13:55:45.101Z"
   },
   {
    "duration": 34,
    "start_time": "2021-08-05T13:55:45.111Z"
   },
   {
    "duration": 4,
    "start_time": "2021-08-05T13:55:45.147Z"
   },
   {
    "duration": 49,
    "start_time": "2021-08-05T13:55:45.153Z"
   },
   {
    "duration": 7,
    "start_time": "2021-08-05T13:55:45.204Z"
   },
   {
    "duration": 32,
    "start_time": "2021-08-05T13:55:45.213Z"
   },
   {
    "duration": 49,
    "start_time": "2021-08-05T13:55:45.247Z"
   },
   {
    "duration": 4,
    "start_time": "2021-08-05T13:55:45.297Z"
   },
   {
    "duration": 14,
    "start_time": "2021-08-05T13:55:45.303Z"
   },
   {
    "duration": 23,
    "start_time": "2021-08-05T13:55:45.318Z"
   },
   {
    "duration": 20,
    "start_time": "2021-08-05T13:55:45.343Z"
   },
   {
    "duration": 3,
    "start_time": "2021-08-05T13:55:45.366Z"
   },
   {
    "duration": 16,
    "start_time": "2021-08-05T13:55:45.371Z"
   },
   {
    "duration": 1335,
    "start_time": "2021-08-05T13:55:45.389Z"
   },
   {
    "duration": 4,
    "start_time": "2021-08-05T13:55:46.726Z"
   },
   {
    "duration": 1393,
    "start_time": "2021-08-05T13:55:46.731Z"
   },
   {
    "duration": 5,
    "start_time": "2021-08-05T13:55:48.125Z"
   },
   {
    "duration": 15,
    "start_time": "2021-08-05T13:55:48.132Z"
   },
   {
    "duration": 34,
    "start_time": "2021-08-05T13:55:48.149Z"
   },
   {
    "duration": 76,
    "start_time": "2021-08-05T13:55:48.185Z"
   },
   {
    "duration": 4,
    "start_time": "2021-08-05T13:55:48.262Z"
   },
   {
    "duration": 20,
    "start_time": "2021-08-05T13:55:48.267Z"
   },
   {
    "duration": 25,
    "start_time": "2021-08-05T13:55:48.289Z"
   },
   {
    "duration": 81,
    "start_time": "2021-08-05T13:55:48.315Z"
   },
   {
    "duration": 6,
    "start_time": "2021-08-05T13:55:48.399Z"
   },
   {
    "duration": 10,
    "start_time": "2021-08-05T13:55:48.409Z"
   },
   {
    "duration": 72,
    "start_time": "2021-08-05T13:55:48.422Z"
   },
   {
    "duration": 20,
    "start_time": "2021-08-05T13:55:48.496Z"
   },
   {
    "duration": 20,
    "start_time": "2021-08-05T13:55:48.517Z"
   },
   {
    "duration": 27,
    "start_time": "2021-08-05T13:55:48.541Z"
   },
   {
    "duration": 19,
    "start_time": "2021-08-05T13:55:48.570Z"
   },
   {
    "duration": 28,
    "start_time": "2021-08-05T13:55:48.590Z"
   },
   {
    "duration": 19,
    "start_time": "2021-08-05T13:55:48.620Z"
   },
   {
    "duration": 29,
    "start_time": "2021-08-05T13:55:48.640Z"
   },
   {
    "duration": 13,
    "start_time": "2021-08-05T13:55:48.671Z"
   },
   {
    "duration": 1871,
    "start_time": "2021-08-05T13:55:48.686Z"
   },
   {
    "duration": 4,
    "start_time": "2021-08-05T13:55:50.559Z"
   },
   {
    "duration": 19,
    "start_time": "2021-08-05T13:55:50.564Z"
   },
   {
    "duration": 2065,
    "start_time": "2021-08-05T13:55:50.584Z"
   },
   {
    "duration": 5,
    "start_time": "2021-08-05T13:55:52.651Z"
   },
   {
    "duration": 194,
    "start_time": "2021-08-05T13:55:52.658Z"
   },
   {
    "duration": 16,
    "start_time": "2021-08-05T13:55:52.854Z"
   },
   {
    "duration": 171,
    "start_time": "2021-08-05T13:55:52.871Z"
   },
   {
    "duration": 11,
    "start_time": "2021-08-05T13:55:53.044Z"
   },
   {
    "duration": 204,
    "start_time": "2021-08-05T13:55:53.056Z"
   },
   {
    "duration": 15,
    "start_time": "2021-08-05T13:55:53.262Z"
   },
   {
    "duration": 187,
    "start_time": "2021-08-05T13:55:53.279Z"
   },
   {
    "duration": 10,
    "start_time": "2021-08-05T13:55:53.468Z"
   },
   {
    "duration": 10,
    "start_time": "2021-08-05T13:55:53.479Z"
   },
   {
    "duration": 801,
    "start_time": "2021-08-05T13:55:53.490Z"
   },
   {
    "duration": 315,
    "start_time": "2021-08-05T13:55:54.294Z"
   },
   {
    "duration": 9,
    "start_time": "2021-08-05T13:55:54.611Z"
   },
   {
    "duration": 137,
    "start_time": "2021-08-05T13:55:54.622Z"
   },
   {
    "duration": 9,
    "start_time": "2021-08-05T13:55:54.761Z"
   },
   {
    "duration": 16,
    "start_time": "2021-08-05T13:55:54.771Z"
   },
   {
    "duration": 205,
    "start_time": "2021-08-05T13:55:54.789Z"
   },
   {
    "duration": 9,
    "start_time": "2021-08-05T13:55:54.996Z"
   },
   {
    "duration": 14,
    "start_time": "2021-08-05T13:55:55.006Z"
   },
   {
    "duration": 5,
    "start_time": "2021-08-05T13:55:55.022Z"
   },
   {
    "duration": 10,
    "start_time": "2021-08-05T13:55:55.040Z"
   },
   {
    "duration": 10,
    "start_time": "2021-08-05T13:56:56.412Z"
   },
   {
    "duration": 8,
    "start_time": "2021-08-05T13:57:03.082Z"
   },
   {
    "duration": 5,
    "start_time": "2021-08-05T13:57:11.648Z"
   },
   {
    "duration": 4,
    "start_time": "2021-08-05T13:57:15.329Z"
   },
   {
    "duration": 6487,
    "start_time": "2021-08-05T13:57:18.627Z"
   },
   {
    "duration": 5,
    "start_time": "2021-08-05T13:57:38.152Z"
   },
   {
    "duration": 61,
    "start_time": "2021-08-05T13:58:20.166Z"
   },
   {
    "duration": 72,
    "start_time": "2021-08-05T13:58:20.230Z"
   },
   {
    "duration": 13,
    "start_time": "2021-08-05T13:58:20.305Z"
   },
   {
    "duration": 24,
    "start_time": "2021-08-05T13:58:20.320Z"
   },
   {
    "duration": 8,
    "start_time": "2021-08-05T13:58:20.346Z"
   },
   {
    "duration": 19,
    "start_time": "2021-08-05T13:58:20.356Z"
   },
   {
    "duration": 16,
    "start_time": "2021-08-05T13:58:20.376Z"
   },
   {
    "duration": 8,
    "start_time": "2021-08-05T13:58:20.395Z"
   },
   {
    "duration": 64,
    "start_time": "2021-08-05T13:58:20.405Z"
   },
   {
    "duration": 6,
    "start_time": "2021-08-05T13:58:20.471Z"
   },
   {
    "duration": 17,
    "start_time": "2021-08-05T13:58:20.478Z"
   },
   {
    "duration": 70,
    "start_time": "2021-08-05T13:58:20.496Z"
   },
   {
    "duration": 5,
    "start_time": "2021-08-05T13:58:20.567Z"
   },
   {
    "duration": 27,
    "start_time": "2021-08-05T13:58:20.574Z"
   },
   {
    "duration": 22,
    "start_time": "2021-08-05T13:58:20.603Z"
   },
   {
    "duration": 25,
    "start_time": "2021-08-05T13:58:20.626Z"
   },
   {
    "duration": 19,
    "start_time": "2021-08-05T13:58:20.654Z"
   },
   {
    "duration": 33,
    "start_time": "2021-08-05T13:58:20.675Z"
   },
   {
    "duration": 1330,
    "start_time": "2021-08-05T13:58:20.710Z"
   },
   {
    "duration": 5,
    "start_time": "2021-08-05T13:58:22.042Z"
   },
   {
    "duration": 1310,
    "start_time": "2021-08-05T13:58:22.048Z"
   },
   {
    "duration": 2,
    "start_time": "2021-08-05T13:58:23.360Z"
   },
   {
    "duration": 29,
    "start_time": "2021-08-05T13:58:23.364Z"
   },
   {
    "duration": 16,
    "start_time": "2021-08-05T13:58:23.395Z"
   },
   {
    "duration": 63,
    "start_time": "2021-08-05T13:58:23.413Z"
   },
   {
    "duration": 4,
    "start_time": "2021-08-05T13:58:23.477Z"
   },
   {
    "duration": 33,
    "start_time": "2021-08-05T13:58:23.482Z"
   },
   {
    "duration": 33,
    "start_time": "2021-08-05T13:58:23.517Z"
   },
   {
    "duration": 67,
    "start_time": "2021-08-05T13:58:23.552Z"
   },
   {
    "duration": 6,
    "start_time": "2021-08-05T13:58:23.620Z"
   },
   {
    "duration": 16,
    "start_time": "2021-08-05T13:58:23.628Z"
   },
   {
    "duration": 57,
    "start_time": "2021-08-05T13:58:23.646Z"
   },
   {
    "duration": 18,
    "start_time": "2021-08-05T13:58:23.705Z"
   },
   {
    "duration": 13,
    "start_time": "2021-08-05T13:58:23.724Z"
   },
   {
    "duration": 11,
    "start_time": "2021-08-05T13:58:23.741Z"
   },
   {
    "duration": 21,
    "start_time": "2021-08-05T13:58:23.754Z"
   },
   {
    "duration": 17,
    "start_time": "2021-08-05T13:58:23.776Z"
   },
   {
    "duration": 12,
    "start_time": "2021-08-05T13:58:23.794Z"
   },
   {
    "duration": 21,
    "start_time": "2021-08-05T13:58:23.808Z"
   },
   {
    "duration": 17,
    "start_time": "2021-08-05T13:58:23.831Z"
   },
   {
    "duration": 1852,
    "start_time": "2021-08-05T13:58:23.850Z"
   },
   {
    "duration": 4,
    "start_time": "2021-08-05T13:58:25.704Z"
   },
   {
    "duration": 21,
    "start_time": "2021-08-05T13:58:25.711Z"
   },
   {
    "duration": 2142,
    "start_time": "2021-08-05T13:58:25.734Z"
   },
   {
    "duration": 4,
    "start_time": "2021-08-05T13:58:27.878Z"
   },
   {
    "duration": 184,
    "start_time": "2021-08-05T13:58:27.883Z"
   },
   {
    "duration": 16,
    "start_time": "2021-08-05T13:58:28.069Z"
   },
   {
    "duration": 173,
    "start_time": "2021-08-05T13:58:28.086Z"
   },
   {
    "duration": 10,
    "start_time": "2021-08-05T13:58:28.261Z"
   },
   {
    "duration": 201,
    "start_time": "2021-08-05T13:58:28.273Z"
   },
   {
    "duration": 16,
    "start_time": "2021-08-05T13:58:28.475Z"
   },
   {
    "duration": 185,
    "start_time": "2021-08-05T13:58:28.492Z"
   },
   {
    "duration": 10,
    "start_time": "2021-08-05T13:58:28.679Z"
   },
   {
    "duration": 8,
    "start_time": "2021-08-05T13:58:28.691Z"
   },
   {
    "duration": 715,
    "start_time": "2021-08-05T13:58:28.701Z"
   },
   {
    "duration": 213,
    "start_time": "2021-08-05T13:58:29.418Z"
   },
   {
    "duration": 12,
    "start_time": "2021-08-05T13:58:29.633Z"
   },
   {
    "duration": 118,
    "start_time": "2021-08-05T13:58:29.647Z"
   },
   {
    "duration": 9,
    "start_time": "2021-08-05T13:58:29.767Z"
   },
   {
    "duration": 6,
    "start_time": "2021-08-05T13:58:29.778Z"
   },
   {
    "duration": 212,
    "start_time": "2021-08-05T13:58:29.785Z"
   },
   {
    "duration": 9,
    "start_time": "2021-08-05T13:58:29.998Z"
   },
   {
    "duration": 11,
    "start_time": "2021-08-05T13:58:30.009Z"
   },
   {
    "duration": 19,
    "start_time": "2021-08-05T13:58:30.021Z"
   },
   {
    "duration": 13,
    "start_time": "2021-08-05T13:58:30.042Z"
   },
   {
    "duration": 4,
    "start_time": "2021-08-05T13:58:32.520Z"
   },
   {
    "duration": 5,
    "start_time": "2021-08-05T13:59:20.435Z"
   },
   {
    "duration": 60,
    "start_time": "2021-08-05T13:59:42.069Z"
   },
   {
    "duration": 72,
    "start_time": "2021-08-05T13:59:42.130Z"
   },
   {
    "duration": 10,
    "start_time": "2021-08-05T13:59:42.204Z"
   },
   {
    "duration": 14,
    "start_time": "2021-08-05T13:59:42.215Z"
   },
   {
    "duration": 14,
    "start_time": "2021-08-05T13:59:42.230Z"
   },
   {
    "duration": 17,
    "start_time": "2021-08-05T13:59:42.245Z"
   },
   {
    "duration": 19,
    "start_time": "2021-08-05T13:59:42.264Z"
   },
   {
    "duration": 11,
    "start_time": "2021-08-05T13:59:42.285Z"
   },
   {
    "duration": 68,
    "start_time": "2021-08-05T13:59:42.298Z"
   },
   {
    "duration": 7,
    "start_time": "2021-08-05T13:59:42.367Z"
   },
   {
    "duration": 24,
    "start_time": "2021-08-05T13:59:42.375Z"
   },
   {
    "duration": 58,
    "start_time": "2021-08-05T13:59:42.401Z"
   },
   {
    "duration": 4,
    "start_time": "2021-08-05T13:59:42.460Z"
   },
   {
    "duration": 24,
    "start_time": "2021-08-05T13:59:42.466Z"
   },
   {
    "duration": 17,
    "start_time": "2021-08-05T13:59:42.492Z"
   },
   {
    "duration": 30,
    "start_time": "2021-08-05T13:59:42.510Z"
   },
   {
    "duration": 19,
    "start_time": "2021-08-05T13:59:42.541Z"
   },
   {
    "duration": 19,
    "start_time": "2021-08-05T13:59:42.562Z"
   },
   {
    "duration": 1315,
    "start_time": "2021-08-05T13:59:42.584Z"
   },
   {
    "duration": 1296,
    "start_time": "2021-08-05T13:59:43.901Z"
   },
   {
    "duration": 3,
    "start_time": "2021-08-05T13:59:45.199Z"
   },
   {
    "duration": 25,
    "start_time": "2021-08-05T13:59:45.204Z"
   },
   {
    "duration": 70,
    "start_time": "2021-08-05T13:59:45.231Z"
   },
   {
    "duration": 3,
    "start_time": "2021-08-05T13:59:45.303Z"
   },
   {
    "duration": 23,
    "start_time": "2021-08-05T13:59:45.307Z"
   },
   {
    "duration": 27,
    "start_time": "2021-08-05T13:59:45.331Z"
   },
   {
    "duration": 80,
    "start_time": "2021-08-05T13:59:45.359Z"
   },
   {
    "duration": 5,
    "start_time": "2021-08-05T13:59:45.441Z"
   },
   {
    "duration": 27,
    "start_time": "2021-08-05T13:59:45.448Z"
   },
   {
    "duration": 70,
    "start_time": "2021-08-05T13:59:45.477Z"
   },
   {
    "duration": 16,
    "start_time": "2021-08-05T13:59:45.549Z"
   },
   {
    "duration": 25,
    "start_time": "2021-08-05T13:59:45.567Z"
   },
   {
    "duration": 17,
    "start_time": "2021-08-05T13:59:45.593Z"
   },
   {
    "duration": 22,
    "start_time": "2021-08-05T13:59:45.612Z"
   },
   {
    "duration": 20,
    "start_time": "2021-08-05T13:59:45.636Z"
   },
   {
    "duration": 24,
    "start_time": "2021-08-05T13:59:45.657Z"
   },
   {
    "duration": 18,
    "start_time": "2021-08-05T13:59:45.684Z"
   },
   {
    "duration": 17,
    "start_time": "2021-08-05T13:59:45.704Z"
   },
   {
    "duration": 1862,
    "start_time": "2021-08-05T13:59:45.723Z"
   },
   {
    "duration": 4,
    "start_time": "2021-08-05T13:59:47.586Z"
   },
   {
    "duration": 8,
    "start_time": "2021-08-05T13:59:47.592Z"
   },
   {
    "duration": 2043,
    "start_time": "2021-08-05T13:59:47.602Z"
   },
   {
    "duration": 5,
    "start_time": "2021-08-05T13:59:49.647Z"
   },
   {
    "duration": 191,
    "start_time": "2021-08-05T13:59:49.654Z"
   },
   {
    "duration": 18,
    "start_time": "2021-08-05T13:59:49.847Z"
   },
   {
    "duration": 178,
    "start_time": "2021-08-05T13:59:49.867Z"
   },
   {
    "duration": 12,
    "start_time": "2021-08-05T13:59:50.047Z"
   },
   {
    "duration": 214,
    "start_time": "2021-08-05T13:59:50.061Z"
   },
   {
    "duration": 17,
    "start_time": "2021-08-05T13:59:50.277Z"
   },
   {
    "duration": 183,
    "start_time": "2021-08-05T13:59:50.295Z"
   },
   {
    "duration": 11,
    "start_time": "2021-08-05T13:59:50.480Z"
   },
   {
    "duration": 13,
    "start_time": "2021-08-05T13:59:50.492Z"
   },
   {
    "duration": 731,
    "start_time": "2021-08-05T13:59:50.507Z"
   },
   {
    "duration": 193,
    "start_time": "2021-08-05T13:59:51.241Z"
   },
   {
    "duration": 14,
    "start_time": "2021-08-05T13:59:51.436Z"
   },
   {
    "duration": 132,
    "start_time": "2021-08-05T13:59:51.452Z"
   },
   {
    "duration": 10,
    "start_time": "2021-08-05T13:59:51.586Z"
   },
   {
    "duration": 17,
    "start_time": "2021-08-05T13:59:51.597Z"
   },
   {
    "duration": 196,
    "start_time": "2021-08-05T13:59:51.615Z"
   },
   {
    "duration": 9,
    "start_time": "2021-08-05T13:59:51.812Z"
   },
   {
    "duration": 38,
    "start_time": "2021-08-05T13:59:51.822Z"
   },
   {
    "duration": 12,
    "start_time": "2021-08-05T13:59:51.862Z"
   },
   {
    "duration": 14,
    "start_time": "2021-08-05T13:59:51.876Z"
   },
   {
    "duration": 58,
    "start_time": "2021-08-05T14:01:04.280Z"
   },
   {
    "duration": 74,
    "start_time": "2021-08-05T14:01:04.340Z"
   },
   {
    "duration": 25,
    "start_time": "2021-08-05T14:01:04.416Z"
   },
   {
    "duration": 10,
    "start_time": "2021-08-05T14:01:04.443Z"
   },
   {
    "duration": 23,
    "start_time": "2021-08-05T14:01:04.454Z"
   },
   {
    "duration": 25,
    "start_time": "2021-08-05T14:01:04.478Z"
   },
   {
    "duration": 29,
    "start_time": "2021-08-05T14:01:04.504Z"
   },
   {
    "duration": 12,
    "start_time": "2021-08-05T14:01:04.536Z"
   },
   {
    "duration": 66,
    "start_time": "2021-08-05T14:01:04.550Z"
   },
   {
    "duration": 6,
    "start_time": "2021-08-05T14:01:04.618Z"
   },
   {
    "duration": 27,
    "start_time": "2021-08-05T14:01:04.625Z"
   },
   {
    "duration": 78,
    "start_time": "2021-08-05T14:01:04.653Z"
   },
   {
    "duration": 5,
    "start_time": "2021-08-05T14:01:04.732Z"
   },
   {
    "duration": 21,
    "start_time": "2021-08-05T14:01:04.738Z"
   },
   {
    "duration": 8,
    "start_time": "2021-08-05T14:01:04.760Z"
   },
   {
    "duration": 28,
    "start_time": "2021-08-05T14:01:04.769Z"
   },
   {
    "duration": 13,
    "start_time": "2021-08-05T14:01:04.799Z"
   },
   {
    "duration": 17,
    "start_time": "2021-08-05T14:01:04.814Z"
   },
   {
    "duration": 1445,
    "start_time": "2021-08-05T14:01:04.833Z"
   },
   {
    "duration": 1341,
    "start_time": "2021-08-05T14:01:06.281Z"
   },
   {
    "duration": 3,
    "start_time": "2021-08-05T14:01:07.624Z"
   },
   {
    "duration": 20,
    "start_time": "2021-08-05T14:01:07.628Z"
   },
   {
    "duration": 57,
    "start_time": "2021-08-05T14:01:07.652Z"
   },
   {
    "duration": 4,
    "start_time": "2021-08-05T14:01:07.712Z"
   },
   {
    "duration": 12,
    "start_time": "2021-08-05T14:01:07.717Z"
   },
   {
    "duration": 15,
    "start_time": "2021-08-05T14:01:07.730Z"
   },
   {
    "duration": 65,
    "start_time": "2021-08-05T14:01:07.746Z"
   },
   {
    "duration": 5,
    "start_time": "2021-08-05T14:01:07.813Z"
   },
   {
    "duration": 24,
    "start_time": "2021-08-05T14:01:07.819Z"
   },
   {
    "duration": 69,
    "start_time": "2021-08-05T14:01:07.845Z"
   },
   {
    "duration": 16,
    "start_time": "2021-08-05T14:01:07.916Z"
   },
   {
    "duration": 28,
    "start_time": "2021-08-05T14:01:07.933Z"
   },
   {
    "duration": 14,
    "start_time": "2021-08-05T14:01:07.963Z"
   },
   {
    "duration": 13,
    "start_time": "2021-08-05T14:01:07.979Z"
   },
   {
    "duration": 14,
    "start_time": "2021-08-05T14:01:07.993Z"
   },
   {
    "duration": 16,
    "start_time": "2021-08-05T14:01:08.009Z"
   },
   {
    "duration": 13,
    "start_time": "2021-08-05T14:01:08.027Z"
   },
   {
    "duration": 14,
    "start_time": "2021-08-05T14:01:08.042Z"
   },
   {
    "duration": 1746,
    "start_time": "2021-08-05T14:01:08.058Z"
   },
   {
    "duration": 5,
    "start_time": "2021-08-05T14:01:09.806Z"
   },
   {
    "duration": 9,
    "start_time": "2021-08-05T14:01:09.813Z"
   },
   {
    "duration": 2053,
    "start_time": "2021-08-05T14:01:09.824Z"
   },
   {
    "duration": 4,
    "start_time": "2021-08-05T14:01:11.879Z"
   },
   {
    "duration": 189,
    "start_time": "2021-08-05T14:01:11.884Z"
   },
   {
    "duration": 19,
    "start_time": "2021-08-05T14:01:12.075Z"
   },
   {
    "duration": 167,
    "start_time": "2021-08-05T14:01:12.095Z"
   },
   {
    "duration": 10,
    "start_time": "2021-08-05T14:01:12.264Z"
   },
   {
    "duration": 202,
    "start_time": "2021-08-05T14:01:12.275Z"
   },
   {
    "duration": 16,
    "start_time": "2021-08-05T14:01:12.478Z"
   },
   {
    "duration": 184,
    "start_time": "2021-08-05T14:01:12.496Z"
   },
   {
    "duration": 9,
    "start_time": "2021-08-05T14:01:12.682Z"
   },
   {
    "duration": 16,
    "start_time": "2021-08-05T14:01:12.693Z"
   },
   {
    "duration": 708,
    "start_time": "2021-08-05T14:01:12.710Z"
   },
   {
    "duration": 191,
    "start_time": "2021-08-05T14:01:13.420Z"
   },
   {
    "duration": 9,
    "start_time": "2021-08-05T14:01:13.613Z"
   },
   {
    "duration": 125,
    "start_time": "2021-08-05T14:01:13.624Z"
   },
   {
    "duration": 9,
    "start_time": "2021-08-05T14:01:13.750Z"
   },
   {
    "duration": 5,
    "start_time": "2021-08-05T14:01:13.761Z"
   },
   {
    "duration": 206,
    "start_time": "2021-08-05T14:01:13.767Z"
   },
   {
    "duration": 8,
    "start_time": "2021-08-05T14:01:13.974Z"
   },
   {
    "duration": 31,
    "start_time": "2021-08-05T14:01:13.984Z"
   },
   {
    "duration": 18,
    "start_time": "2021-08-05T14:01:14.016Z"
   },
   {
    "duration": 9,
    "start_time": "2021-08-05T14:01:31.644Z"
   },
   {
    "duration": 15,
    "start_time": "2021-08-05T14:01:34.292Z"
   },
   {
    "duration": 8,
    "start_time": "2021-08-05T14:01:39.689Z"
   },
   {
    "duration": 10,
    "start_time": "2021-08-05T14:01:47.979Z"
   },
   {
    "duration": 183,
    "start_time": "2021-08-05T14:01:49.073Z"
   },
   {
    "duration": 15,
    "start_time": "2021-08-05T14:01:51.967Z"
   },
   {
    "duration": 177,
    "start_time": "2021-08-05T14:01:53.714Z"
   },
   {
    "duration": 10,
    "start_time": "2021-08-05T14:01:56.263Z"
   },
   {
    "duration": 11,
    "start_time": "2021-08-05T14:01:57.121Z"
   },
   {
    "duration": 9,
    "start_time": "2021-08-05T14:02:02.162Z"
   },
   {
    "duration": 851,
    "start_time": "2021-08-05T14:02:08.535Z"
   },
   {
    "duration": 8,
    "start_time": "2021-08-05T14:02:13.344Z"
   },
   {
    "duration": 185,
    "start_time": "2021-08-05T14:02:22.896Z"
   },
   {
    "duration": 10,
    "start_time": "2021-08-05T14:02:29.434Z"
   },
   {
    "duration": 8,
    "start_time": "2021-08-05T14:02:34.931Z"
   },
   {
    "duration": 124,
    "start_time": "2021-08-05T14:02:41.728Z"
   },
   {
    "duration": 8,
    "start_time": "2021-08-05T14:02:45.644Z"
   },
   {
    "duration": 9,
    "start_time": "2021-08-05T14:02:49.778Z"
   },
   {
    "duration": 8,
    "start_time": "2021-08-05T14:02:53.057Z"
   },
   {
    "duration": 58,
    "start_time": "2021-08-05T14:03:08.405Z"
   },
   {
    "duration": 83,
    "start_time": "2021-08-05T14:03:08.465Z"
   },
   {
    "duration": 10,
    "start_time": "2021-08-05T14:03:08.549Z"
   },
   {
    "duration": 13,
    "start_time": "2021-08-05T14:03:08.560Z"
   },
   {
    "duration": 5,
    "start_time": "2021-08-05T14:03:08.574Z"
   },
   {
    "duration": 12,
    "start_time": "2021-08-05T14:03:08.580Z"
   },
   {
    "duration": 9,
    "start_time": "2021-08-05T14:03:08.594Z"
   },
   {
    "duration": 3,
    "start_time": "2021-08-05T14:03:08.606Z"
   },
   {
    "duration": 74,
    "start_time": "2021-08-05T14:03:08.611Z"
   },
   {
    "duration": 8,
    "start_time": "2021-08-05T14:03:08.687Z"
   },
   {
    "duration": 7,
    "start_time": "2021-08-05T14:03:08.697Z"
   },
   {
    "duration": 75,
    "start_time": "2021-08-05T14:03:08.706Z"
   },
   {
    "duration": 5,
    "start_time": "2021-08-05T14:03:08.783Z"
   },
   {
    "duration": 11,
    "start_time": "2021-08-05T14:03:08.789Z"
   },
   {
    "duration": 5,
    "start_time": "2021-08-05T14:03:08.802Z"
   },
   {
    "duration": 44,
    "start_time": "2021-08-05T14:03:08.809Z"
   },
   {
    "duration": 6,
    "start_time": "2021-08-05T14:03:08.856Z"
   },
   {
    "duration": 17,
    "start_time": "2021-08-05T14:03:08.864Z"
   },
   {
    "duration": 1336,
    "start_time": "2021-08-05T14:03:08.883Z"
   },
   {
    "duration": 1303,
    "start_time": "2021-08-05T14:03:10.221Z"
   },
   {
    "duration": 3,
    "start_time": "2021-08-05T14:03:11.526Z"
   },
   {
    "duration": 16,
    "start_time": "2021-08-05T14:03:11.531Z"
   },
   {
    "duration": 64,
    "start_time": "2021-08-05T14:03:11.548Z"
   },
   {
    "duration": 3,
    "start_time": "2021-08-05T14:03:11.614Z"
   },
   {
    "duration": 14,
    "start_time": "2021-08-05T14:03:11.618Z"
   },
   {
    "duration": 13,
    "start_time": "2021-08-05T14:03:11.633Z"
   },
   {
    "duration": 65,
    "start_time": "2021-08-05T14:03:11.648Z"
   },
   {
    "duration": 5,
    "start_time": "2021-08-05T14:03:11.714Z"
   },
   {
    "duration": 11,
    "start_time": "2021-08-05T14:03:11.720Z"
   },
   {
    "duration": 51,
    "start_time": "2021-08-05T14:03:11.733Z"
   },
   {
    "duration": 17,
    "start_time": "2021-08-05T14:03:11.785Z"
   },
   {
    "duration": 12,
    "start_time": "2021-08-05T14:03:11.804Z"
   },
   {
    "duration": 31,
    "start_time": "2021-08-05T14:03:11.818Z"
   },
   {
    "duration": 3,
    "start_time": "2021-08-05T14:03:11.852Z"
   },
   {
    "duration": 9,
    "start_time": "2021-08-05T14:03:11.857Z"
   },
   {
    "duration": 7,
    "start_time": "2021-08-05T14:03:11.868Z"
   },
   {
    "duration": 5,
    "start_time": "2021-08-05T14:03:11.877Z"
   },
   {
    "duration": 6,
    "start_time": "2021-08-05T14:03:11.883Z"
   },
   {
    "duration": 1746,
    "start_time": "2021-08-05T14:03:11.890Z"
   },
   {
    "duration": 4,
    "start_time": "2021-08-05T14:03:13.638Z"
   },
   {
    "duration": 7,
    "start_time": "2021-08-05T14:03:13.643Z"
   },
   {
    "duration": 2047,
    "start_time": "2021-08-05T14:03:13.652Z"
   },
   {
    "duration": 4,
    "start_time": "2021-08-05T14:03:15.701Z"
   },
   {
    "duration": 205,
    "start_time": "2021-08-05T14:03:15.706Z"
   },
   {
    "duration": 29,
    "start_time": "2021-08-05T14:03:15.912Z"
   },
   {
    "duration": 161,
    "start_time": "2021-08-05T14:03:15.943Z"
   },
   {
    "duration": 11,
    "start_time": "2021-08-05T14:03:16.105Z"
   },
   {
    "duration": 199,
    "start_time": "2021-08-05T14:03:16.117Z"
   },
   {
    "duration": 24,
    "start_time": "2021-08-05T14:03:16.317Z"
   },
   {
    "duration": 170,
    "start_time": "2021-08-05T14:03:16.343Z"
   },
   {
    "duration": 10,
    "start_time": "2021-08-05T14:03:16.514Z"
   },
   {
    "duration": 22,
    "start_time": "2021-08-05T14:03:16.526Z"
   },
   {
    "duration": 875,
    "start_time": "2021-08-05T14:03:16.549Z"
   },
   {
    "duration": 188,
    "start_time": "2021-08-05T14:03:17.426Z"
   },
   {
    "duration": 10,
    "start_time": "2021-08-05T14:03:17.615Z"
   },
   {
    "duration": 121,
    "start_time": "2021-08-05T14:03:19.541Z"
   },
   {
    "duration": 8,
    "start_time": "2021-08-05T14:03:25.585Z"
   },
   {
    "duration": 11,
    "start_time": "2021-08-05T14:03:40.773Z"
   },
   {
    "duration": 8,
    "start_time": "2021-08-05T14:03:45.476Z"
   },
   {
    "duration": 121,
    "start_time": "2021-08-05T14:04:27.290Z"
   },
   {
    "duration": 60,
    "start_time": "2021-08-05T14:04:30.626Z"
   },
   {
    "duration": 81,
    "start_time": "2021-08-05T14:04:30.688Z"
   },
   {
    "duration": 11,
    "start_time": "2021-08-05T14:04:30.770Z"
   },
   {
    "duration": 32,
    "start_time": "2021-08-05T14:04:30.782Z"
   },
   {
    "duration": 20,
    "start_time": "2021-08-05T14:04:30.816Z"
   },
   {
    "duration": 20,
    "start_time": "2021-08-05T14:04:30.837Z"
   },
   {
    "duration": 30,
    "start_time": "2021-08-05T14:04:30.858Z"
   },
   {
    "duration": 24,
    "start_time": "2021-08-05T14:04:30.890Z"
   },
   {
    "duration": 87,
    "start_time": "2021-08-05T14:04:30.916Z"
   },
   {
    "duration": 7,
    "start_time": "2021-08-05T14:04:31.004Z"
   },
   {
    "duration": 24,
    "start_time": "2021-08-05T14:04:31.013Z"
   },
   {
    "duration": 69,
    "start_time": "2021-08-05T14:04:31.039Z"
   },
   {
    "duration": 4,
    "start_time": "2021-08-05T14:04:31.110Z"
   },
   {
    "duration": 20,
    "start_time": "2021-08-05T14:04:31.116Z"
   },
   {
    "duration": 16,
    "start_time": "2021-08-05T14:04:31.138Z"
   },
   {
    "duration": 23,
    "start_time": "2021-08-05T14:04:31.155Z"
   },
   {
    "duration": 8,
    "start_time": "2021-08-05T14:04:31.180Z"
   },
   {
    "duration": 15,
    "start_time": "2021-08-05T14:04:31.189Z"
   },
   {
    "duration": 1323,
    "start_time": "2021-08-05T14:04:31.208Z"
   },
   {
    "duration": 1320,
    "start_time": "2021-08-05T14:04:32.541Z"
   },
   {
    "duration": 4,
    "start_time": "2021-08-05T14:04:33.863Z"
   },
   {
    "duration": 18,
    "start_time": "2021-08-05T14:04:33.869Z"
   },
   {
    "duration": 62,
    "start_time": "2021-08-05T14:04:33.889Z"
   },
   {
    "duration": 3,
    "start_time": "2021-08-05T14:04:33.953Z"
   },
   {
    "duration": 25,
    "start_time": "2021-08-05T14:04:33.958Z"
   },
   {
    "duration": 33,
    "start_time": "2021-08-05T14:04:33.984Z"
   },
   {
    "duration": 84,
    "start_time": "2021-08-05T14:04:34.018Z"
   },
   {
    "duration": 5,
    "start_time": "2021-08-05T14:04:34.104Z"
   },
   {
    "duration": 20,
    "start_time": "2021-08-05T14:04:34.110Z"
   },
   {
    "duration": 73,
    "start_time": "2021-08-05T14:04:34.132Z"
   },
   {
    "duration": 17,
    "start_time": "2021-08-05T14:04:34.206Z"
   },
   {
    "duration": 36,
    "start_time": "2021-08-05T14:04:34.225Z"
   },
   {
    "duration": 26,
    "start_time": "2021-08-05T14:04:34.263Z"
   },
   {
    "duration": 16,
    "start_time": "2021-08-05T14:04:34.291Z"
   },
   {
    "duration": 18,
    "start_time": "2021-08-05T14:04:34.309Z"
   },
   {
    "duration": 27,
    "start_time": "2021-08-05T14:04:34.329Z"
   },
   {
    "duration": 33,
    "start_time": "2021-08-05T14:04:34.358Z"
   },
   {
    "duration": 20,
    "start_time": "2021-08-05T14:04:34.393Z"
   },
   {
    "duration": 1768,
    "start_time": "2021-08-05T14:04:34.415Z"
   },
   {
    "duration": 4,
    "start_time": "2021-08-05T14:04:36.185Z"
   },
   {
    "duration": 25,
    "start_time": "2021-08-05T14:04:36.191Z"
   },
   {
    "duration": 2322,
    "start_time": "2021-08-05T14:04:36.217Z"
   },
   {
    "duration": 4,
    "start_time": "2021-08-05T14:04:38.541Z"
   },
   {
    "duration": 184,
    "start_time": "2021-08-05T14:04:38.547Z"
   },
   {
    "duration": 21,
    "start_time": "2021-08-05T14:04:38.740Z"
   },
   {
    "duration": 165,
    "start_time": "2021-08-05T14:04:38.762Z"
   },
   {
    "duration": 20,
    "start_time": "2021-08-05T14:04:38.929Z"
   },
   {
    "duration": 196,
    "start_time": "2021-08-05T14:04:38.953Z"
   },
   {
    "duration": 18,
    "start_time": "2021-08-05T14:04:39.151Z"
   },
   {
    "duration": 179,
    "start_time": "2021-08-05T14:04:39.170Z"
   },
   {
    "duration": 11,
    "start_time": "2021-08-05T14:04:39.351Z"
   },
   {
    "duration": 10,
    "start_time": "2021-08-05T14:04:39.364Z"
   },
   {
    "duration": 888,
    "start_time": "2021-08-05T14:04:39.376Z"
   },
   {
    "duration": 181,
    "start_time": "2021-08-05T14:04:40.266Z"
   },
   {
    "duration": 9,
    "start_time": "2021-08-05T14:04:40.449Z"
   },
   {
    "duration": 120,
    "start_time": "2021-08-05T14:04:59.679Z"
   },
   {
    "duration": 11,
    "start_time": "2021-08-05T14:05:01.547Z"
   },
   {
    "duration": 5,
    "start_time": "2021-08-05T14:05:02.595Z"
   },
   {
    "duration": 186,
    "start_time": "2021-08-05T14:05:04.239Z"
   },
   {
    "duration": 9,
    "start_time": "2021-08-05T14:05:06.742Z"
   },
   {
    "duration": 8,
    "start_time": "2021-08-05T14:05:09.194Z"
   },
   {
    "duration": 4,
    "start_time": "2021-08-05T14:05:12.426Z"
   },
   {
    "duration": 4,
    "start_time": "2021-08-05T14:05:14.888Z"
   },
   {
    "duration": 4,
    "start_time": "2021-08-05T14:05:25.540Z"
   },
   {
    "duration": 13,
    "start_time": "2021-08-05T14:11:38.071Z"
   },
   {
    "duration": 250,
    "start_time": "2021-08-05T14:11:53.230Z"
   },
   {
    "duration": 156,
    "start_time": "2021-08-05T14:12:10.359Z"
   },
   {
    "duration": 4,
    "start_time": "2021-08-05T14:15:47.046Z"
   },
   {
    "duration": 138,
    "start_time": "2021-08-05T14:16:14.936Z"
   },
   {
    "duration": 137,
    "start_time": "2021-08-05T14:17:14.649Z"
   },
   {
    "duration": 148,
    "start_time": "2021-08-05T14:18:12.485Z"
   },
   {
    "duration": 5,
    "start_time": "2021-08-05T14:19:34.365Z"
   },
   {
    "duration": 4037,
    "start_time": "2021-08-05T14:21:43.184Z"
   },
   {
    "duration": 336,
    "start_time": "2021-08-05T14:22:33.340Z"
   },
   {
    "duration": 4,
    "start_time": "2021-08-05T14:22:36.257Z"
   },
   {
    "duration": 170,
    "start_time": "2021-08-05T14:23:28.122Z"
   },
   {
    "duration": 164,
    "start_time": "2021-08-05T14:25:04.677Z"
   },
   {
    "duration": 5,
    "start_time": "2021-08-05T14:25:45.329Z"
   },
   {
    "duration": 40,
    "start_time": "2021-08-05T14:27:36.726Z"
   },
   {
    "duration": 166,
    "start_time": "2021-08-05T14:29:16.217Z"
   },
   {
    "duration": 162,
    "start_time": "2021-08-05T14:29:25.176Z"
   },
   {
    "duration": 32,
    "start_time": "2021-08-05T14:30:34.102Z"
   },
   {
    "duration": 42,
    "start_time": "2021-08-05T14:31:06.442Z"
   },
   {
    "duration": 5,
    "start_time": "2021-08-05T14:31:23.556Z"
   },
   {
    "duration": 39,
    "start_time": "2021-08-05T14:31:52.601Z"
   },
   {
    "duration": 5,
    "start_time": "2021-08-05T14:32:18.816Z"
   },
   {
    "duration": 31,
    "start_time": "2021-08-05T14:35:15.962Z"
   },
   {
    "duration": 149,
    "start_time": "2021-08-05T14:36:07.739Z"
   },
   {
    "duration": 7,
    "start_time": "2021-08-05T14:38:01.071Z"
   },
   {
    "duration": 165,
    "start_time": "2021-08-05T14:39:58.596Z"
   },
   {
    "duration": 145,
    "start_time": "2021-08-05T14:40:12.042Z"
   },
   {
    "duration": 154,
    "start_time": "2021-08-05T14:40:24.370Z"
   },
   {
    "duration": 156,
    "start_time": "2021-08-05T14:40:33.085Z"
   },
   {
    "duration": 8,
    "start_time": "2021-08-05T14:41:16.854Z"
   },
   {
    "duration": 8,
    "start_time": "2021-08-05T14:47:01.921Z"
   },
   {
    "duration": 7,
    "start_time": "2021-08-05T14:47:10.349Z"
   },
   {
    "duration": 90,
    "start_time": "2021-08-05T14:48:55.046Z"
   },
   {
    "duration": 87,
    "start_time": "2021-08-05T14:48:59.624Z"
   },
   {
    "duration": 7,
    "start_time": "2021-08-05T14:49:03.410Z"
   },
   {
    "duration": 7,
    "start_time": "2021-08-05T14:49:22.220Z"
   },
   {
    "duration": 248,
    "start_time": "2021-08-05T14:49:54.470Z"
   },
   {
    "duration": 261,
    "start_time": "2021-08-05T14:50:05.393Z"
   },
   {
    "duration": 252,
    "start_time": "2021-08-05T14:50:37.751Z"
   },
   {
    "duration": 282,
    "start_time": "2021-08-05T14:52:05.255Z"
   },
   {
    "duration": 411,
    "start_time": "2021-08-05T14:52:13.716Z"
   },
   {
    "duration": 274,
    "start_time": "2021-08-05T14:57:41.359Z"
   },
   {
    "duration": 259,
    "start_time": "2021-08-05T14:57:51.727Z"
   },
   {
    "duration": 7,
    "start_time": "2021-08-05T14:58:29.428Z"
   },
   {
    "duration": 7875,
    "start_time": "2021-08-05T14:58:45.068Z"
   },
   {
    "duration": 8602,
    "start_time": "2021-08-05T14:59:12.717Z"
   },
   {
    "duration": 7,
    "start_time": "2021-08-05T15:00:54.325Z"
   },
   {
    "duration": 119,
    "start_time": "2021-08-05T15:02:17.694Z"
   },
   {
    "duration": 8,
    "start_time": "2021-08-05T15:02:41.555Z"
   },
   {
    "duration": 82,
    "start_time": "2021-08-05T15:02:52.721Z"
   },
   {
    "duration": 281,
    "start_time": "2021-08-05T15:02:57.729Z"
   },
   {
    "duration": 8,
    "start_time": "2021-08-05T15:03:00.632Z"
   },
   {
    "duration": 9,
    "start_time": "2021-08-05T15:04:11.857Z"
   },
   {
    "duration": 17,
    "start_time": "2021-08-05T15:04:34.903Z"
   },
   {
    "duration": 35,
    "start_time": "2021-08-05T15:04:44.530Z"
   },
   {
    "duration": 254,
    "start_time": "2021-08-05T15:05:24.025Z"
   },
   {
    "duration": 7,
    "start_time": "2021-08-05T15:05:40.561Z"
   },
   {
    "duration": 6,
    "start_time": "2021-08-05T15:05:57.132Z"
   },
   {
    "duration": 9,
    "start_time": "2021-08-05T15:05:58.014Z"
   },
   {
    "duration": 6,
    "start_time": "2021-08-05T15:05:59.096Z"
   },
   {
    "duration": 12,
    "start_time": "2021-08-05T15:07:40.688Z"
   },
   {
    "duration": 8,
    "start_time": "2021-08-05T15:12:49.845Z"
   },
   {
    "duration": 7,
    "start_time": "2021-08-05T15:12:59.504Z"
   },
   {
    "duration": 9,
    "start_time": "2021-08-05T15:13:04.968Z"
   },
   {
    "duration": 158,
    "start_time": "2021-08-05T15:13:46.276Z"
   },
   {
    "duration": 339,
    "start_time": "2021-08-05T15:15:15.665Z"
   },
   {
    "duration": 619,
    "start_time": "2021-08-05T15:15:22.865Z"
   },
   {
    "duration": 163,
    "start_time": "2021-08-05T15:15:32.908Z"
   },
   {
    "duration": 274,
    "start_time": "2021-08-05T15:15:54.545Z"
   },
   {
    "duration": 8,
    "start_time": "2021-08-05T15:18:59.350Z"
   },
   {
    "duration": 607,
    "start_time": "2021-08-05T15:19:14.448Z"
   },
   {
    "duration": 357,
    "start_time": "2021-08-05T15:19:31.288Z"
   },
   {
    "duration": 354,
    "start_time": "2021-08-05T15:19:38.461Z"
   },
   {
    "duration": 9,
    "start_time": "2021-08-05T15:21:28.848Z"
   },
   {
    "duration": 167,
    "start_time": "2021-08-05T15:21:55.011Z"
   },
   {
    "duration": 164,
    "start_time": "2021-08-05T15:22:07.551Z"
   },
   {
    "duration": 868,
    "start_time": "2021-08-05T21:28:02.578Z"
   },
   {
    "duration": 118,
    "start_time": "2021-08-05T21:28:03.448Z"
   },
   {
    "duration": 27,
    "start_time": "2021-08-05T21:28:03.569Z"
   },
   {
    "duration": 19,
    "start_time": "2021-08-05T21:28:03.599Z"
   },
   {
    "duration": 8,
    "start_time": "2021-08-05T21:28:03.621Z"
   },
   {
    "duration": 13,
    "start_time": "2021-08-05T21:28:03.631Z"
   },
   {
    "duration": 50,
    "start_time": "2021-08-05T21:28:03.647Z"
   },
   {
    "duration": 4,
    "start_time": "2021-08-05T21:28:03.702Z"
   },
   {
    "duration": 117,
    "start_time": "2021-08-05T21:28:03.709Z"
   },
   {
    "duration": 12,
    "start_time": "2021-08-05T21:28:03.828Z"
   },
   {
    "duration": 8,
    "start_time": "2021-08-05T21:28:03.843Z"
   },
   {
    "duration": 109,
    "start_time": "2021-08-05T21:28:03.853Z"
   },
   {
    "duration": 20,
    "start_time": "2021-08-05T21:28:03.964Z"
   },
   {
    "duration": 17,
    "start_time": "2021-08-05T21:28:03.989Z"
   },
   {
    "duration": 9,
    "start_time": "2021-08-05T21:28:04.008Z"
   },
   {
    "duration": 62,
    "start_time": "2021-08-05T21:28:04.020Z"
   },
   {
    "duration": 9,
    "start_time": "2021-08-05T21:28:04.085Z"
   },
   {
    "duration": 16,
    "start_time": "2021-08-05T21:28:04.097Z"
   },
   {
    "duration": 2022,
    "start_time": "2021-08-05T21:28:04.116Z"
   },
   {
    "duration": 2020,
    "start_time": "2021-08-05T21:28:06.140Z"
   },
   {
    "duration": 4,
    "start_time": "2021-08-05T21:28:08.162Z"
   },
   {
    "duration": 11,
    "start_time": "2021-08-05T21:28:08.182Z"
   },
   {
    "duration": 105,
    "start_time": "2021-08-05T21:28:08.200Z"
   },
   {
    "duration": 5,
    "start_time": "2021-08-05T21:28:08.309Z"
   },
   {
    "duration": 10,
    "start_time": "2021-08-05T21:28:08.316Z"
   },
   {
    "duration": 8,
    "start_time": "2021-08-05T21:28:08.328Z"
   },
   {
    "duration": 116,
    "start_time": "2021-08-05T21:28:08.339Z"
   },
   {
    "duration": 7,
    "start_time": "2021-08-05T21:28:08.458Z"
   },
   {
    "duration": 25,
    "start_time": "2021-08-05T21:28:08.467Z"
   },
   {
    "duration": 101,
    "start_time": "2021-08-05T21:28:08.496Z"
   },
   {
    "duration": 24,
    "start_time": "2021-08-05T21:28:08.599Z"
   },
   {
    "duration": 20,
    "start_time": "2021-08-05T21:28:08.625Z"
   },
   {
    "duration": 46,
    "start_time": "2021-08-05T21:28:08.647Z"
   },
   {
    "duration": 6,
    "start_time": "2021-08-05T21:28:08.696Z"
   },
   {
    "duration": 11,
    "start_time": "2021-08-05T21:28:08.704Z"
   },
   {
    "duration": 8,
    "start_time": "2021-08-05T21:28:08.717Z"
   },
   {
    "duration": 7,
    "start_time": "2021-08-05T21:28:08.727Z"
   },
   {
    "duration": 4,
    "start_time": "2021-08-05T21:28:08.737Z"
   },
   {
    "duration": 3600,
    "start_time": "2021-08-05T21:28:08.783Z"
   },
   {
    "duration": 6,
    "start_time": "2021-08-05T21:28:12.386Z"
   },
   {
    "duration": 8,
    "start_time": "2021-08-05T21:28:12.395Z"
   },
   {
    "duration": 6947,
    "start_time": "2021-08-05T21:28:12.405Z"
   },
   {
    "duration": 110,
    "start_time": "2021-08-05T21:28:19.355Z"
   },
   {
    "duration": 321,
    "start_time": "2021-08-05T21:28:19.467Z"
   },
   {
    "duration": 24,
    "start_time": "2021-08-05T21:28:19.791Z"
   },
   {
    "duration": 295,
    "start_time": "2021-08-05T21:28:19.817Z"
   },
   {
    "duration": 16,
    "start_time": "2021-08-05T21:28:20.114Z"
   },
   {
    "duration": 367,
    "start_time": "2021-08-05T21:28:20.133Z"
   },
   {
    "duration": 22,
    "start_time": "2021-08-05T21:28:20.502Z"
   },
   {
    "duration": 370,
    "start_time": "2021-08-05T21:28:20.526Z"
   },
   {
    "duration": 13,
    "start_time": "2021-08-05T21:28:20.899Z"
   },
   {
    "duration": 13,
    "start_time": "2021-08-05T21:28:20.914Z"
   },
   {
    "duration": 1238,
    "start_time": "2021-08-05T21:28:20.929Z"
   },
   {
    "duration": 324,
    "start_time": "2021-08-05T21:28:22.169Z"
   },
   {
    "duration": 14,
    "start_time": "2021-08-05T21:28:22.495Z"
   },
   {
    "duration": 218,
    "start_time": "2021-08-05T21:28:22.512Z"
   },
   {
    "duration": 14,
    "start_time": "2021-08-05T21:28:22.732Z"
   },
   {
    "duration": 7,
    "start_time": "2021-08-05T21:28:22.748Z"
   },
   {
    "duration": 328,
    "start_time": "2021-08-05T21:28:22.783Z"
   },
   {
    "duration": 11,
    "start_time": "2021-08-05T21:28:23.114Z"
   },
   {
    "duration": 10,
    "start_time": "2021-08-05T21:28:23.127Z"
   },
   {
    "duration": 6,
    "start_time": "2021-08-05T21:28:23.140Z"
   },
   {
    "duration": 8,
    "start_time": "2021-08-05T21:28:23.183Z"
   },
   {
    "duration": 8,
    "start_time": "2021-08-05T21:28:23.194Z"
   },
   {
    "duration": 272,
    "start_time": "2021-08-05T21:28:23.204Z"
   },
   {
    "duration": 280,
    "start_time": "2021-08-05T21:28:23.482Z"
   },
   {
    "duration": 6,
    "start_time": "2021-08-05T21:28:23.764Z"
   },
   {
    "duration": 327,
    "start_time": "2021-08-05T21:28:23.793Z"
   },
   {
    "duration": 290,
    "start_time": "2021-08-05T21:28:24.123Z"
   },
   {
    "duration": 325,
    "start_time": "2021-08-05T21:28:24.415Z"
   },
   {
    "duration": 10,
    "start_time": "2021-08-05T21:28:24.742Z"
   },
   {
    "duration": 30,
    "start_time": "2021-08-05T21:28:24.755Z"
   },
   {
    "duration": 24,
    "start_time": "2021-08-05T21:28:24.788Z"
   },
   {
    "duration": 474,
    "start_time": "2021-08-05T21:32:15.748Z"
   },
   {
    "duration": 13,
    "start_time": "2021-08-05T21:32:30.512Z"
   },
   {
    "duration": 13,
    "start_time": "2021-08-05T21:32:33.158Z"
   },
   {
    "duration": 7,
    "start_time": "2021-08-05T21:33:18.660Z"
   },
   {
    "duration": 11,
    "start_time": "2021-08-05T21:34:54.601Z"
   },
   {
    "duration": 6935,
    "start_time": "2021-08-05T21:34:55.571Z"
   },
   {
    "duration": 8,
    "start_time": "2021-08-05T21:37:13.288Z"
   },
   {
    "duration": 43,
    "start_time": "2021-08-05T21:38:00.199Z"
   },
   {
    "duration": 411,
    "start_time": "2021-08-05T21:40:44.768Z"
   },
   {
    "duration": 16,
    "start_time": "2021-08-05T21:41:33.372Z"
   },
   {
    "duration": 8,
    "start_time": "2021-08-05T21:41:51.476Z"
   },
   {
    "duration": 72,
    "start_time": "2021-08-05T21:42:00.634Z"
   },
   {
    "duration": 120,
    "start_time": "2021-08-05T21:42:00.709Z"
   },
   {
    "duration": 14,
    "start_time": "2021-08-05T21:42:00.832Z"
   },
   {
    "duration": 12,
    "start_time": "2021-08-05T21:42:00.849Z"
   },
   {
    "duration": 7,
    "start_time": "2021-08-05T21:42:00.888Z"
   },
   {
    "duration": 16,
    "start_time": "2021-08-05T21:42:00.898Z"
   },
   {
    "duration": 25,
    "start_time": "2021-08-05T21:42:00.917Z"
   },
   {
    "duration": 6,
    "start_time": "2021-08-05T21:42:00.945Z"
   },
   {
    "duration": 106,
    "start_time": "2021-08-05T21:42:00.954Z"
   },
   {
    "duration": 13,
    "start_time": "2021-08-05T21:42:01.082Z"
   },
   {
    "duration": 19,
    "start_time": "2021-08-05T21:42:01.097Z"
   },
   {
    "duration": 106,
    "start_time": "2021-08-05T21:42:01.121Z"
   },
   {
    "duration": 7,
    "start_time": "2021-08-05T21:42:01.229Z"
   },
   {
    "duration": 23,
    "start_time": "2021-08-05T21:42:01.238Z"
   },
   {
    "duration": 20,
    "start_time": "2021-08-05T21:42:01.263Z"
   },
   {
    "duration": 32,
    "start_time": "2021-08-05T21:42:01.286Z"
   },
   {
    "duration": 16,
    "start_time": "2021-08-05T21:42:01.321Z"
   },
   {
    "duration": 35,
    "start_time": "2021-08-05T21:42:01.339Z"
   },
   {
    "duration": 2069,
    "start_time": "2021-08-05T21:42:01.377Z"
   },
   {
    "duration": 1996,
    "start_time": "2021-08-05T21:42:03.450Z"
   },
   {
    "duration": 4,
    "start_time": "2021-08-05T21:42:05.450Z"
   },
   {
    "duration": 27,
    "start_time": "2021-08-05T21:42:05.457Z"
   },
   {
    "duration": 78,
    "start_time": "2021-08-05T21:42:05.488Z"
   },
   {
    "duration": 18,
    "start_time": "2021-08-05T21:42:05.569Z"
   },
   {
    "duration": 13,
    "start_time": "2021-08-05T21:42:05.590Z"
   },
   {
    "duration": 10,
    "start_time": "2021-08-05T21:42:05.605Z"
   },
   {
    "duration": 123,
    "start_time": "2021-08-05T21:42:05.618Z"
   },
   {
    "duration": 8,
    "start_time": "2021-08-05T21:42:05.743Z"
   },
   {
    "duration": 35,
    "start_time": "2021-08-05T21:42:05.753Z"
   },
   {
    "duration": 99,
    "start_time": "2021-08-05T21:42:05.791Z"
   },
   {
    "duration": 22,
    "start_time": "2021-08-05T21:42:05.893Z"
   },
   {
    "duration": 18,
    "start_time": "2021-08-05T21:42:05.917Z"
   },
   {
    "duration": 13,
    "start_time": "2021-08-05T21:42:05.937Z"
   },
   {
    "duration": 39,
    "start_time": "2021-08-05T21:42:05.953Z"
   },
   {
    "duration": 10,
    "start_time": "2021-08-05T21:42:05.995Z"
   },
   {
    "duration": 10,
    "start_time": "2021-08-05T21:42:06.007Z"
   },
   {
    "duration": 8,
    "start_time": "2021-08-05T21:42:06.020Z"
   },
   {
    "duration": 5,
    "start_time": "2021-08-05T21:42:06.030Z"
   },
   {
    "duration": 3700,
    "start_time": "2021-08-05T21:42:06.038Z"
   },
   {
    "duration": 5,
    "start_time": "2021-08-05T21:42:09.741Z"
   },
   {
    "duration": 14,
    "start_time": "2021-08-05T21:42:09.748Z"
   },
   {
    "duration": 3103,
    "start_time": "2021-08-05T21:42:09.765Z"
   },
   {
    "duration": 6,
    "start_time": "2021-08-05T21:42:12.870Z"
   },
   {
    "duration": 324,
    "start_time": "2021-08-05T21:42:12.883Z"
   },
   {
    "duration": 25,
    "start_time": "2021-08-05T21:42:13.211Z"
   },
   {
    "duration": 292,
    "start_time": "2021-08-05T21:42:13.239Z"
   },
   {
    "duration": 15,
    "start_time": "2021-08-05T21:42:13.533Z"
   },
   {
    "duration": 352,
    "start_time": "2021-08-05T21:42:13.551Z"
   },
   {
    "duration": 23,
    "start_time": "2021-08-05T21:42:13.905Z"
   },
   {
    "duration": 319,
    "start_time": "2021-08-05T21:42:13.931Z"
   },
   {
    "duration": 13,
    "start_time": "2021-08-05T21:42:14.252Z"
   },
   {
    "duration": 33,
    "start_time": "2021-08-05T21:42:14.268Z"
   },
   {
    "duration": 1301,
    "start_time": "2021-08-05T21:42:14.304Z"
   },
   {
    "duration": 328,
    "start_time": "2021-08-05T21:42:15.607Z"
   },
   {
    "duration": 14,
    "start_time": "2021-08-05T21:42:15.937Z"
   },
   {
    "duration": 306,
    "start_time": "2021-08-05T21:42:15.953Z"
   },
   {
    "duration": 28,
    "start_time": "2021-08-05T21:42:16.261Z"
   },
   {
    "duration": 7,
    "start_time": "2021-08-05T21:42:16.293Z"
   },
   {
    "duration": 347,
    "start_time": "2021-08-05T21:42:16.303Z"
   },
   {
    "duration": 31,
    "start_time": "2021-08-05T21:42:16.652Z"
   },
   {
    "duration": 16,
    "start_time": "2021-08-05T21:42:16.686Z"
   },
   {
    "duration": 5,
    "start_time": "2021-08-05T21:42:16.704Z"
   },
   {
    "duration": 6,
    "start_time": "2021-08-05T21:42:16.711Z"
   },
   {
    "duration": 14,
    "start_time": "2021-08-05T21:42:16.719Z"
   },
   {
    "duration": 285,
    "start_time": "2021-08-05T21:42:16.735Z"
   },
   {
    "duration": 254,
    "start_time": "2021-08-05T21:42:17.022Z"
   },
   {
    "duration": 7,
    "start_time": "2021-08-05T21:42:17.278Z"
   },
   {
    "duration": 311,
    "start_time": "2021-08-05T21:42:17.288Z"
   },
   {
    "duration": 292,
    "start_time": "2021-08-05T21:42:17.602Z"
   },
   {
    "duration": 262,
    "start_time": "2021-08-05T21:42:17.897Z"
   },
   {
    "duration": 9,
    "start_time": "2021-08-05T21:42:18.161Z"
   },
   {
    "duration": 22,
    "start_time": "2021-08-05T21:42:18.172Z"
   },
   {
    "duration": 13,
    "start_time": "2021-08-05T21:42:18.200Z"
   },
   {
    "duration": 295,
    "start_time": "2021-08-05T21:42:18.215Z"
   },
   {
    "duration": 5,
    "start_time": "2021-08-05T21:42:21.522Z"
   },
   {
    "duration": 4,
    "start_time": "2021-08-05T21:42:23.937Z"
   },
   {
    "duration": 98,
    "start_time": "2021-08-05T21:43:42.502Z"
   },
   {
    "duration": 6,
    "start_time": "2021-08-05T21:43:56.981Z"
   },
   {
    "duration": 44,
    "start_time": "2021-08-05T21:44:17.428Z"
   },
   {
    "duration": 11,
    "start_time": "2021-08-05T21:46:03.633Z"
   },
   {
    "duration": 441,
    "start_time": "2021-08-05T21:46:38.495Z"
   },
   {
    "duration": 465,
    "start_time": "2021-08-05T21:47:01.642Z"
   },
   {
    "duration": 462,
    "start_time": "2021-08-05T21:47:20.879Z"
   },
   {
    "duration": 735,
    "start_time": "2021-08-05T21:47:49.694Z"
   },
   {
    "duration": 622,
    "start_time": "2021-08-05T21:48:09.208Z"
   },
   {
    "duration": 656,
    "start_time": "2021-08-05T21:48:52.497Z"
   },
   {
    "duration": 798,
    "start_time": "2021-08-05T21:49:03.438Z"
   },
   {
    "duration": 661,
    "start_time": "2021-08-05T21:49:15.281Z"
   },
   {
    "duration": 644,
    "start_time": "2021-08-05T21:49:25.408Z"
   },
   {
    "duration": 91,
    "start_time": "2021-08-05T21:52:53.606Z"
   },
   {
    "duration": 73,
    "start_time": "2021-08-05T21:52:56.684Z"
   },
   {
    "duration": 36,
    "start_time": "2021-08-05T21:53:13.541Z"
   },
   {
    "duration": 26,
    "start_time": "2021-08-05T21:54:37.270Z"
   },
   {
    "duration": 35,
    "start_time": "2021-08-05T21:54:47.424Z"
   },
   {
    "duration": 11,
    "start_time": "2021-08-05T22:01:05.304Z"
   },
   {
    "duration": 282,
    "start_time": "2021-08-05T22:02:14.039Z"
   },
   {
    "duration": 302,
    "start_time": "2021-08-05T22:05:06.055Z"
   },
   {
    "duration": 410,
    "start_time": "2021-08-05T22:05:44.383Z"
   },
   {
    "duration": 312,
    "start_time": "2021-08-05T22:06:19.671Z"
   },
   {
    "duration": 288,
    "start_time": "2021-08-05T22:07:28.588Z"
   },
   {
    "duration": 297,
    "start_time": "2021-08-05T22:07:40.653Z"
   },
   {
    "duration": 247,
    "start_time": "2021-08-05T22:07:46.864Z"
   },
   {
    "duration": 512,
    "start_time": "2021-08-05T22:07:53.961Z"
   },
   {
    "duration": 1296,
    "start_time": "2021-08-05T22:08:07.055Z"
   },
   {
    "duration": 422,
    "start_time": "2021-08-05T22:08:26.514Z"
   },
   {
    "duration": 7790,
    "start_time": "2021-08-05T22:10:28.176Z"
   },
   {
    "duration": 1210,
    "start_time": "2021-08-05T22:10:37.102Z"
   },
   {
    "duration": 1305,
    "start_time": "2021-08-05T22:13:29.525Z"
   },
   {
    "duration": 6,
    "start_time": "2021-08-05T22:18:33.017Z"
   },
   {
    "duration": 271,
    "start_time": "2021-08-05T22:25:38.805Z"
   },
   {
    "duration": 259,
    "start_time": "2021-08-05T22:26:17.201Z"
   },
   {
    "duration": 230,
    "start_time": "2021-08-05T22:26:24.893Z"
   },
   {
    "duration": 501,
    "start_time": "2021-08-05T22:26:37.150Z"
   },
   {
    "duration": 30,
    "start_time": "2021-08-05T22:26:43.892Z"
   },
   {
    "duration": 25,
    "start_time": "2021-08-05T22:26:46.056Z"
   },
   {
    "duration": 234,
    "start_time": "2021-08-05T22:26:55.732Z"
   },
   {
    "duration": 250,
    "start_time": "2021-08-05T22:28:46.607Z"
   },
   {
    "duration": 46,
    "start_time": "2021-08-05T22:32:03.034Z"
   },
   {
    "duration": 466,
    "start_time": "2021-08-05T22:32:16.295Z"
   },
   {
    "duration": 6,
    "start_time": "2021-08-05T22:36:56.866Z"
   },
   {
    "duration": 6,
    "start_time": "2021-08-05T22:38:00.119Z"
   },
   {
    "duration": 254,
    "start_time": "2021-08-05T22:38:14.739Z"
   },
   {
    "duration": 10,
    "start_time": "2021-08-05T22:39:07.876Z"
   },
   {
    "duration": 1822,
    "start_time": "2021-08-05T22:40:14.267Z"
   },
   {
    "duration": 334,
    "start_time": "2021-08-05T22:40:34.438Z"
   },
   {
    "duration": 338,
    "start_time": "2021-08-05T22:40:41.431Z"
   },
   {
    "duration": 265,
    "start_time": "2021-08-05T22:44:56.978Z"
   },
   {
    "duration": 255,
    "start_time": "2021-08-05T22:45:39.231Z"
   },
   {
    "duration": 14,
    "start_time": "2021-08-05T22:46:01.125Z"
   },
   {
    "duration": 47,
    "start_time": "2021-08-05T22:48:06.857Z"
   },
   {
    "duration": 37,
    "start_time": "2021-08-05T22:48:26.087Z"
   },
   {
    "duration": 29,
    "start_time": "2021-08-05T22:48:34.831Z"
   },
   {
    "duration": 36,
    "start_time": "2021-08-05T22:48:47.992Z"
   },
   {
    "duration": 251,
    "start_time": "2021-08-05T22:49:49.412Z"
   },
   {
    "duration": 240,
    "start_time": "2021-08-05T22:50:05.218Z"
   },
   {
    "duration": 318,
    "start_time": "2021-08-05T22:53:02.249Z"
   },
   {
    "duration": 324,
    "start_time": "2021-08-05T22:53:32.510Z"
   },
   {
    "duration": 289,
    "start_time": "2021-08-05T22:53:55.385Z"
   },
   {
    "duration": 92,
    "start_time": "2021-08-05T22:54:29.761Z"
   },
   {
    "duration": 134,
    "start_time": "2021-08-05T22:54:29.856Z"
   },
   {
    "duration": 22,
    "start_time": "2021-08-05T22:54:29.994Z"
   },
   {
    "duration": 12,
    "start_time": "2021-08-05T22:54:30.019Z"
   },
   {
    "duration": 60,
    "start_time": "2021-08-05T22:54:30.035Z"
   },
   {
    "duration": 14,
    "start_time": "2021-08-05T22:54:30.099Z"
   },
   {
    "duration": 17,
    "start_time": "2021-08-05T22:54:30.117Z"
   },
   {
    "duration": 4,
    "start_time": "2021-08-05T22:54:30.138Z"
   },
   {
    "duration": 111,
    "start_time": "2021-08-05T22:54:30.185Z"
   },
   {
    "duration": 18,
    "start_time": "2021-08-05T22:54:30.300Z"
   },
   {
    "duration": 8,
    "start_time": "2021-08-05T22:54:30.323Z"
   },
   {
    "duration": 112,
    "start_time": "2021-08-05T22:54:30.334Z"
   },
   {
    "duration": 7,
    "start_time": "2021-08-05T22:54:30.448Z"
   },
   {
    "duration": 32,
    "start_time": "2021-08-05T22:54:30.458Z"
   },
   {
    "duration": 20,
    "start_time": "2021-08-05T22:54:30.494Z"
   },
   {
    "duration": 37,
    "start_time": "2021-08-05T22:54:30.516Z"
   },
   {
    "duration": 14,
    "start_time": "2021-08-05T22:54:30.556Z"
   },
   {
    "duration": 50,
    "start_time": "2021-08-05T22:54:30.572Z"
   },
   {
    "duration": 2403,
    "start_time": "2021-08-05T22:54:30.625Z"
   },
   {
    "duration": 2227,
    "start_time": "2021-08-05T22:54:33.030Z"
   },
   {
    "duration": 6,
    "start_time": "2021-08-05T22:54:35.260Z"
   },
   {
    "duration": 14,
    "start_time": "2021-08-05T22:54:35.288Z"
   },
   {
    "duration": 114,
    "start_time": "2021-08-05T22:54:35.312Z"
   },
   {
    "duration": 5,
    "start_time": "2021-08-05T22:54:35.430Z"
   },
   {
    "duration": 14,
    "start_time": "2021-08-05T22:54:35.437Z"
   },
   {
    "duration": 12,
    "start_time": "2021-08-05T22:54:35.453Z"
   },
   {
    "duration": 104,
    "start_time": "2021-08-05T22:54:35.468Z"
   },
   {
    "duration": 15,
    "start_time": "2021-08-05T22:54:35.574Z"
   },
   {
    "duration": 17,
    "start_time": "2021-08-05T22:54:35.592Z"
   },
   {
    "duration": 119,
    "start_time": "2021-08-05T22:54:35.612Z"
   },
   {
    "duration": 22,
    "start_time": "2021-08-05T22:54:35.734Z"
   },
   {
    "duration": 37,
    "start_time": "2021-08-05T22:54:35.758Z"
   },
   {
    "duration": 18,
    "start_time": "2021-08-05T22:54:35.799Z"
   },
   {
    "duration": 5,
    "start_time": "2021-08-05T22:54:35.820Z"
   },
   {
    "duration": 9,
    "start_time": "2021-08-05T22:54:35.828Z"
   },
   {
    "duration": 51,
    "start_time": "2021-08-05T22:54:35.839Z"
   },
   {
    "duration": 12,
    "start_time": "2021-08-05T22:54:35.894Z"
   },
   {
    "duration": 4,
    "start_time": "2021-08-05T22:54:35.911Z"
   },
   {
    "duration": 3929,
    "start_time": "2021-08-05T22:54:35.918Z"
   },
   {
    "duration": 5,
    "start_time": "2021-08-05T22:54:39.849Z"
   },
   {
    "duration": 16,
    "start_time": "2021-08-05T22:54:39.857Z"
   },
   {
    "duration": 3422,
    "start_time": "2021-08-05T22:54:39.883Z"
   },
   {
    "duration": 8,
    "start_time": "2021-08-05T22:54:43.308Z"
   },
   {
    "duration": 347,
    "start_time": "2021-08-05T22:54:43.318Z"
   },
   {
    "duration": 41,
    "start_time": "2021-08-05T22:54:43.667Z"
   },
   {
    "duration": 315,
    "start_time": "2021-08-05T22:54:43.711Z"
   },
   {
    "duration": 20,
    "start_time": "2021-08-05T22:54:44.029Z"
   },
   {
    "duration": 405,
    "start_time": "2021-08-05T22:54:44.052Z"
   },
   {
    "duration": 31,
    "start_time": "2021-08-05T22:54:44.460Z"
   },
   {
    "duration": 321,
    "start_time": "2021-08-05T22:54:44.495Z"
   },
   {
    "duration": 13,
    "start_time": "2021-08-05T22:54:44.818Z"
   },
   {
    "duration": 67,
    "start_time": "2021-08-05T22:54:44.834Z"
   },
   {
    "duration": 1512,
    "start_time": "2021-08-05T22:54:44.906Z"
   },
   {
    "duration": 400,
    "start_time": "2021-08-05T22:54:46.421Z"
   },
   {
    "duration": 13,
    "start_time": "2021-08-05T22:54:46.827Z"
   },
   {
    "duration": 235,
    "start_time": "2021-08-05T22:54:46.843Z"
   },
   {
    "duration": 19,
    "start_time": "2021-08-05T22:54:47.082Z"
   },
   {
    "duration": 16,
    "start_time": "2021-08-05T22:54:47.103Z"
   },
   {
    "duration": 376,
    "start_time": "2021-08-05T22:54:47.121Z"
   },
   {
    "duration": 12,
    "start_time": "2021-08-05T22:54:47.500Z"
   },
   {
    "duration": 23,
    "start_time": "2021-08-05T22:54:47.515Z"
   },
   {
    "duration": 13,
    "start_time": "2021-08-05T22:54:47.541Z"
   },
   {
    "duration": 24,
    "start_time": "2021-08-05T22:54:47.557Z"
   },
   {
    "duration": 14,
    "start_time": "2021-08-05T22:54:47.595Z"
   },
   {
    "duration": 282,
    "start_time": "2021-08-05T22:54:47.612Z"
   },
   {
    "duration": 328,
    "start_time": "2021-08-05T22:54:47.897Z"
   },
   {
    "duration": 6,
    "start_time": "2021-08-05T22:54:48.227Z"
   },
   {
    "duration": 350,
    "start_time": "2021-08-05T22:54:48.240Z"
   },
   {
    "duration": 303,
    "start_time": "2021-08-05T22:54:48.594Z"
   },
   {
    "duration": 272,
    "start_time": "2021-08-05T22:54:48.901Z"
   },
   {
    "duration": 32,
    "start_time": "2021-08-05T22:54:49.182Z"
   },
   {
    "duration": 11,
    "start_time": "2021-08-05T22:54:49.217Z"
   },
   {
    "duration": 26,
    "start_time": "2021-08-05T22:54:49.230Z"
   },
   {
    "duration": 305,
    "start_time": "2021-08-05T22:54:49.258Z"
   },
   {
    "duration": 23,
    "start_time": "2021-08-05T22:54:49.566Z"
   },
   {
    "duration": 7,
    "start_time": "2021-08-05T22:54:49.593Z"
   },
   {
    "duration": 12,
    "start_time": "2021-08-05T22:54:49.604Z"
   },
   {
    "duration": 707,
    "start_time": "2021-08-05T22:54:49.618Z"
   },
   {
    "duration": 37,
    "start_time": "2021-08-05T22:54:50.328Z"
   },
   {
    "duration": 17,
    "start_time": "2021-08-05T22:54:50.384Z"
   },
   {
    "duration": 1406,
    "start_time": "2021-08-05T22:54:50.404Z"
   },
   {
    "duration": 6,
    "start_time": "2021-08-05T22:54:51.813Z"
   },
   {
    "duration": 273,
    "start_time": "2021-08-05T22:54:51.821Z"
   },
   {
    "duration": 8,
    "start_time": "2021-08-05T22:54:52.099Z"
   },
   {
    "duration": 353,
    "start_time": "2021-08-05T22:54:52.111Z"
   },
   {
    "duration": 292,
    "start_time": "2021-08-05T22:54:52.466Z"
   },
   {
    "duration": 314,
    "start_time": "2021-08-05T22:54:52.761Z"
   },
   {
    "duration": 7,
    "start_time": "2021-08-05T23:04:49.989Z"
   },
   {
    "duration": 9,
    "start_time": "2021-08-05T23:04:51.901Z"
   },
   {
    "duration": 5,
    "start_time": "2021-08-05T23:04:53.266Z"
   },
   {
    "duration": 691,
    "start_time": "2021-08-05T23:04:58.323Z"
   },
   {
    "duration": 88,
    "start_time": "2021-08-05T23:05:12.233Z"
   },
   {
    "duration": 129,
    "start_time": "2021-08-05T23:05:12.324Z"
   },
   {
    "duration": 43,
    "start_time": "2021-08-05T23:05:12.456Z"
   },
   {
    "duration": 18,
    "start_time": "2021-08-05T23:05:12.502Z"
   },
   {
    "duration": 5,
    "start_time": "2021-08-05T23:05:12.523Z"
   },
   {
    "duration": 12,
    "start_time": "2021-08-05T23:05:12.531Z"
   },
   {
    "duration": 45,
    "start_time": "2021-08-05T23:05:12.546Z"
   },
   {
    "duration": 9,
    "start_time": "2021-08-05T23:05:12.597Z"
   },
   {
    "duration": 128,
    "start_time": "2021-08-05T23:05:12.610Z"
   },
   {
    "duration": 9,
    "start_time": "2021-08-05T23:05:12.741Z"
   },
   {
    "duration": 9,
    "start_time": "2021-08-05T23:05:12.753Z"
   },
   {
    "duration": 113,
    "start_time": "2021-08-05T23:05:12.788Z"
   },
   {
    "duration": 11,
    "start_time": "2021-08-05T23:05:12.904Z"
   },
   {
    "duration": 14,
    "start_time": "2021-08-05T23:05:12.918Z"
   },
   {
    "duration": 10,
    "start_time": "2021-08-05T23:05:12.935Z"
   },
   {
    "duration": 30,
    "start_time": "2021-08-05T23:05:12.992Z"
   },
   {
    "duration": 10,
    "start_time": "2021-08-05T23:05:13.028Z"
   },
   {
    "duration": 21,
    "start_time": "2021-08-05T23:05:13.041Z"
   },
   {
    "duration": 2223,
    "start_time": "2021-08-05T23:05:13.065Z"
   },
   {
    "duration": 2221,
    "start_time": "2021-08-05T23:05:15.291Z"
   },
   {
    "duration": 6,
    "start_time": "2021-08-05T23:05:17.515Z"
   },
   {
    "duration": 14,
    "start_time": "2021-08-05T23:05:17.524Z"
   },
   {
    "duration": 120,
    "start_time": "2021-08-05T23:05:17.544Z"
   },
   {
    "duration": 5,
    "start_time": "2021-08-05T23:05:17.668Z"
   },
   {
    "duration": 26,
    "start_time": "2021-08-05T23:05:17.683Z"
   },
   {
    "duration": 11,
    "start_time": "2021-08-05T23:05:17.712Z"
   },
   {
    "duration": 122,
    "start_time": "2021-08-05T23:05:17.725Z"
   },
   {
    "duration": 8,
    "start_time": "2021-08-05T23:05:17.849Z"
   },
   {
    "duration": 34,
    "start_time": "2021-08-05T23:05:17.860Z"
   },
   {
    "duration": 89,
    "start_time": "2021-08-05T23:05:17.897Z"
   },
   {
    "duration": 36,
    "start_time": "2021-08-05T23:05:17.990Z"
   },
   {
    "duration": 21,
    "start_time": "2021-08-05T23:05:18.028Z"
   },
   {
    "duration": 51,
    "start_time": "2021-08-05T23:05:18.052Z"
   },
   {
    "duration": 5,
    "start_time": "2021-08-05T23:05:18.111Z"
   },
   {
    "duration": 11,
    "start_time": "2021-08-05T23:05:18.119Z"
   },
   {
    "duration": 7,
    "start_time": "2021-08-05T23:05:18.133Z"
   },
   {
    "duration": 10,
    "start_time": "2021-08-05T23:05:18.142Z"
   },
   {
    "duration": 43,
    "start_time": "2021-08-05T23:05:18.154Z"
   },
   {
    "duration": 4714,
    "start_time": "2021-08-05T23:05:18.200Z"
   },
   {
    "duration": 5,
    "start_time": "2021-08-05T23:05:22.917Z"
   },
   {
    "duration": 10,
    "start_time": "2021-08-05T23:05:22.924Z"
   },
   {
    "duration": 3399,
    "start_time": "2021-08-05T23:05:22.937Z"
   },
   {
    "duration": 7,
    "start_time": "2021-08-05T23:05:26.339Z"
   },
   {
    "duration": 362,
    "start_time": "2021-08-05T23:05:26.348Z"
   },
   {
    "duration": 27,
    "start_time": "2021-08-05T23:05:26.713Z"
   },
   {
    "duration": 328,
    "start_time": "2021-08-05T23:05:26.742Z"
   },
   {
    "duration": 18,
    "start_time": "2021-08-05T23:05:27.072Z"
   },
   {
    "duration": 337,
    "start_time": "2021-08-05T23:05:27.097Z"
   },
   {
    "duration": 23,
    "start_time": "2021-08-05T23:05:27.436Z"
   },
   {
    "duration": 345,
    "start_time": "2021-08-05T23:05:27.461Z"
   },
   {
    "duration": 15,
    "start_time": "2021-08-05T23:05:27.810Z"
   },
   {
    "duration": 19,
    "start_time": "2021-08-05T23:05:27.828Z"
   },
   {
    "duration": 1483,
    "start_time": "2021-08-05T23:05:27.850Z"
   },
   {
    "duration": 340,
    "start_time": "2021-08-05T23:05:29.335Z"
   },
   {
    "duration": 17,
    "start_time": "2021-08-05T23:05:29.683Z"
   },
   {
    "duration": 239,
    "start_time": "2021-08-05T23:05:29.704Z"
   },
   {
    "duration": 15,
    "start_time": "2021-08-05T23:05:29.945Z"
   },
   {
    "duration": 6,
    "start_time": "2021-08-05T23:05:29.962Z"
   },
   {
    "duration": 385,
    "start_time": "2021-08-05T23:05:29.970Z"
   },
   {
    "duration": 30,
    "start_time": "2021-08-05T23:05:30.357Z"
   },
   {
    "duration": 17,
    "start_time": "2021-08-05T23:05:30.390Z"
   },
   {
    "duration": 8,
    "start_time": "2021-08-05T23:05:30.410Z"
   },
   {
    "duration": 20,
    "start_time": "2021-08-05T23:05:30.421Z"
   },
   {
    "duration": 9,
    "start_time": "2021-08-05T23:05:30.444Z"
   },
   {
    "duration": 445,
    "start_time": "2021-08-05T23:05:30.456Z"
   },
   {
    "duration": 284,
    "start_time": "2021-08-05T23:05:30.905Z"
   },
   {
    "duration": 12,
    "start_time": "2021-08-05T23:05:31.193Z"
   },
   {
    "duration": 347,
    "start_time": "2021-08-05T23:05:31.214Z"
   },
   {
    "duration": 350,
    "start_time": "2021-08-05T23:05:31.564Z"
   },
   {
    "duration": 288,
    "start_time": "2021-08-05T23:05:31.916Z"
   },
   {
    "duration": 10,
    "start_time": "2021-08-05T23:05:32.207Z"
   },
   {
    "duration": 30,
    "start_time": "2021-08-05T23:05:32.219Z"
   },
   {
    "duration": 21,
    "start_time": "2021-08-05T23:05:32.251Z"
   },
   {
    "duration": 302,
    "start_time": "2021-08-05T23:05:32.274Z"
   },
   {
    "duration": 16,
    "start_time": "2021-08-05T23:05:32.578Z"
   },
   {
    "duration": 8,
    "start_time": "2021-08-05T23:05:32.598Z"
   },
   {
    "duration": 7,
    "start_time": "2021-08-05T23:05:32.611Z"
   },
   {
    "duration": 734,
    "start_time": "2021-08-05T23:05:32.621Z"
   },
   {
    "duration": 59,
    "start_time": "2021-08-05T23:05:33.358Z"
   },
   {
    "duration": 10,
    "start_time": "2021-08-05T23:05:33.420Z"
   },
   {
    "duration": 1310,
    "start_time": "2021-08-05T23:05:33.433Z"
   },
   {
    "duration": 6,
    "start_time": "2021-08-05T23:05:34.745Z"
   },
   {
    "duration": 289,
    "start_time": "2021-08-05T23:05:34.753Z"
   },
   {
    "duration": 7,
    "start_time": "2021-08-05T23:05:35.045Z"
   },
   {
    "duration": 374,
    "start_time": "2021-08-05T23:05:35.055Z"
   },
   {
    "duration": 303,
    "start_time": "2021-08-05T23:05:35.432Z"
   },
   {
    "duration": 320,
    "start_time": "2021-08-05T23:05:35.738Z"
   },
   {
    "duration": 92,
    "start_time": "2021-08-06T10:47:40.665Z"
   },
   {
    "duration": 82,
    "start_time": "2021-08-06T10:57:02.000Z"
   },
   {
    "duration": 84,
    "start_time": "2021-08-06T10:58:54.009Z"
   },
   {
    "duration": 92,
    "start_time": "2021-08-06T11:06:02.950Z"
   },
   {
    "duration": 89,
    "start_time": "2021-08-06T11:12:14.565Z"
   },
   {
    "duration": 267,
    "start_time": "2021-08-06T12:40:20.089Z"
   },
   {
    "duration": 614,
    "start_time": "2021-08-06T12:40:27.147Z"
   },
   {
    "duration": 106,
    "start_time": "2021-08-06T12:40:27.763Z"
   },
   {
    "duration": 13,
    "start_time": "2021-08-06T12:40:27.871Z"
   },
   {
    "duration": 15,
    "start_time": "2021-08-06T12:40:31.924Z"
   },
   {
    "duration": 9,
    "start_time": "2021-08-06T12:40:33.727Z"
   },
   {
    "duration": 61,
    "start_time": "2021-08-06T12:50:16.941Z"
   },
   {
    "duration": 69,
    "start_time": "2021-08-06T12:50:17.004Z"
   },
   {
    "duration": 17,
    "start_time": "2021-08-06T12:50:17.075Z"
   },
   {
    "duration": 9,
    "start_time": "2021-08-06T12:50:17.094Z"
   },
   {
    "duration": 5,
    "start_time": "2021-08-06T12:50:17.104Z"
   },
   {
    "duration": 8,
    "start_time": "2021-08-06T12:50:17.110Z"
   },
   {
    "duration": 10,
    "start_time": "2021-08-06T12:50:17.119Z"
   },
   {
    "duration": 3,
    "start_time": "2021-08-06T12:50:17.130Z"
   },
   {
    "duration": 55,
    "start_time": "2021-08-06T12:50:22.254Z"
   },
   {
    "duration": 6,
    "start_time": "2021-08-06T12:50:24.323Z"
   },
   {
    "duration": 6,
    "start_time": "2021-08-06T12:52:04.561Z"
   },
   {
    "duration": 6,
    "start_time": "2021-08-06T12:52:27.061Z"
   },
   {
    "duration": 6,
    "start_time": "2021-08-06T12:52:28.175Z"
   },
   {
    "duration": 75,
    "start_time": "2021-08-06T12:52:29.153Z"
   },
   {
    "duration": 7,
    "start_time": "2021-08-06T12:52:31.415Z"
   },
   {
    "duration": 10,
    "start_time": "2021-08-06T12:52:32.454Z"
   },
   {
    "duration": 6,
    "start_time": "2021-08-06T12:52:33.324Z"
   },
   {
    "duration": 17,
    "start_time": "2021-08-06T12:52:36.205Z"
   },
   {
    "duration": 2,
    "start_time": "2021-08-06T12:52:37.468Z"
   },
   {
    "duration": 10,
    "start_time": "2021-08-06T12:52:39.123Z"
   },
   {
    "duration": 7,
    "start_time": "2021-08-06T12:52:40.957Z"
   },
   {
    "duration": 5,
    "start_time": "2021-08-06T12:52:50.083Z"
   },
   {
    "duration": 274,
    "start_time": "2021-08-06T12:53:43.568Z"
   },
   {
    "duration": 9,
    "start_time": "2021-08-06T12:54:09.374Z"
   },
   {
    "duration": 61,
    "start_time": "2021-08-06T12:57:01.998Z"
   },
   {
    "duration": 79,
    "start_time": "2021-08-06T12:57:02.061Z"
   },
   {
    "duration": 11,
    "start_time": "2021-08-06T12:57:02.142Z"
   },
   {
    "duration": 9,
    "start_time": "2021-08-06T12:57:02.156Z"
   },
   {
    "duration": 26,
    "start_time": "2021-08-06T12:57:02.167Z"
   },
   {
    "duration": 10,
    "start_time": "2021-08-06T12:57:02.466Z"
   },
   {
    "duration": 11,
    "start_time": "2021-08-06T12:57:02.478Z"
   },
   {
    "duration": 3,
    "start_time": "2021-08-06T12:57:02.491Z"
   },
   {
    "duration": 64,
    "start_time": "2021-08-06T12:57:02.496Z"
   },
   {
    "duration": 6,
    "start_time": "2021-08-06T12:57:02.561Z"
   },
   {
    "duration": 6,
    "start_time": "2021-08-06T12:57:02.619Z"
   },
   {
    "duration": 7,
    "start_time": "2021-08-06T12:57:02.627Z"
   },
   {
    "duration": 60,
    "start_time": "2021-08-06T12:57:02.636Z"
   },
   {
    "duration": 4,
    "start_time": "2021-08-06T12:57:02.698Z"
   },
   {
    "duration": 12,
    "start_time": "2021-08-06T12:57:02.704Z"
   },
   {
    "duration": 5,
    "start_time": "2021-08-06T12:57:02.718Z"
   },
   {
    "duration": 17,
    "start_time": "2021-08-06T12:57:02.727Z"
   },
   {
    "duration": 5,
    "start_time": "2021-08-06T12:57:02.747Z"
   },
   {
    "duration": 43,
    "start_time": "2021-08-06T12:57:02.754Z"
   },
   {
    "duration": 10,
    "start_time": "2021-08-06T12:57:02.799Z"
   },
   {
    "duration": 2,
    "start_time": "2021-08-06T12:57:03.409Z"
   },
   {
    "duration": 6,
    "start_time": "2021-08-06T12:57:03.413Z"
   },
   {
    "duration": 4,
    "start_time": "2021-08-06T12:57:20.814Z"
   },
   {
    "duration": 6,
    "start_time": "2021-08-06T12:57:21.997Z"
   },
   {
    "duration": 51,
    "start_time": "2021-08-06T12:57:23.794Z"
   },
   {
    "duration": 4,
    "start_time": "2021-08-06T12:57:33.199Z"
   },
   {
    "duration": 7,
    "start_time": "2021-08-06T12:57:34.740Z"
   },
   {
    "duration": 7,
    "start_time": "2021-08-06T12:57:43.661Z"
   },
   {
    "duration": 51,
    "start_time": "2021-08-06T12:57:45.624Z"
   },
   {
    "duration": 638,
    "start_time": "2021-08-06T13:09:57.389Z"
   },
   {
    "duration": 72,
    "start_time": "2021-08-06T13:09:58.029Z"
   },
   {
    "duration": 10,
    "start_time": "2021-08-06T13:09:58.103Z"
   },
   {
    "duration": 8,
    "start_time": "2021-08-06T13:09:58.114Z"
   },
   {
    "duration": 6,
    "start_time": "2021-08-06T13:09:58.124Z"
   },
   {
    "duration": 14,
    "start_time": "2021-08-06T13:09:58.131Z"
   },
   {
    "duration": 11,
    "start_time": "2021-08-06T13:09:58.146Z"
   },
   {
    "duration": 6,
    "start_time": "2021-08-06T13:09:58.159Z"
   },
   {
    "duration": 67,
    "start_time": "2021-08-06T13:09:58.166Z"
   },
   {
    "duration": 5,
    "start_time": "2021-08-06T13:09:58.234Z"
   },
   {
    "duration": 24,
    "start_time": "2021-08-06T13:09:58.240Z"
   },
   {
    "duration": 13,
    "start_time": "2021-08-06T13:09:58.265Z"
   },
   {
    "duration": 61,
    "start_time": "2021-08-06T13:09:58.280Z"
   },
   {
    "duration": 4,
    "start_time": "2021-08-06T13:09:58.343Z"
   },
   {
    "duration": 18,
    "start_time": "2021-08-06T13:09:58.349Z"
   },
   {
    "duration": 11,
    "start_time": "2021-08-06T13:09:58.369Z"
   },
   {
    "duration": 22,
    "start_time": "2021-08-06T13:09:58.382Z"
   },
   {
    "duration": 19,
    "start_time": "2021-08-06T13:09:58.406Z"
   },
   {
    "duration": 21,
    "start_time": "2021-08-06T13:09:58.426Z"
   },
   {
    "duration": 21,
    "start_time": "2021-08-06T13:09:58.448Z"
   },
   {
    "duration": 15,
    "start_time": "2021-08-06T13:09:58.471Z"
   },
   {
    "duration": 16,
    "start_time": "2021-08-06T13:09:58.487Z"
   },
   {
    "duration": 14,
    "start_time": "2021-08-06T13:09:58.504Z"
   },
   {
    "duration": 12,
    "start_time": "2021-08-06T13:09:58.519Z"
   },
   {
    "duration": 64,
    "start_time": "2021-08-06T13:09:58.532Z"
   },
   {
    "duration": 3,
    "start_time": "2021-08-06T13:09:58.598Z"
   },
   {
    "duration": 25,
    "start_time": "2021-08-06T13:09:58.602Z"
   },
   {
    "duration": 43,
    "start_time": "2021-08-06T13:09:58.629Z"
   },
   {
    "duration": 58,
    "start_time": "2021-08-06T13:10:01.884Z"
   },
   {
    "duration": 6,
    "start_time": "2021-08-06T13:10:04.480Z"
   },
   {
    "duration": 55,
    "start_time": "2021-08-06T13:23:38.236Z"
   },
   {
    "duration": 76,
    "start_time": "2021-08-06T13:23:38.292Z"
   },
   {
    "duration": 9,
    "start_time": "2021-08-06T13:23:38.370Z"
   },
   {
    "duration": 8,
    "start_time": "2021-08-06T13:23:38.391Z"
   },
   {
    "duration": 11,
    "start_time": "2021-08-06T13:23:38.400Z"
   },
   {
    "duration": 11,
    "start_time": "2021-08-06T13:23:38.412Z"
   },
   {
    "duration": 14,
    "start_time": "2021-08-06T13:23:38.424Z"
   },
   {
    "duration": 3,
    "start_time": "2021-08-06T13:23:38.440Z"
   },
   {
    "duration": 74,
    "start_time": "2021-08-06T13:23:38.444Z"
   },
   {
    "duration": 5,
    "start_time": "2021-08-06T13:23:38.519Z"
   },
   {
    "duration": 14,
    "start_time": "2021-08-06T13:23:38.525Z"
   },
   {
    "duration": 13,
    "start_time": "2021-08-06T13:23:38.541Z"
   },
   {
    "duration": 57,
    "start_time": "2021-08-06T13:23:38.555Z"
   },
   {
    "duration": 4,
    "start_time": "2021-08-06T13:23:38.614Z"
   },
   {
    "duration": 24,
    "start_time": "2021-08-06T13:23:38.620Z"
   },
   {
    "duration": 7,
    "start_time": "2021-08-06T13:23:38.646Z"
   },
   {
    "duration": 25,
    "start_time": "2021-08-06T13:23:38.654Z"
   },
   {
    "duration": 12,
    "start_time": "2021-08-06T13:23:38.680Z"
   },
   {
    "duration": 18,
    "start_time": "2021-08-06T13:23:38.693Z"
   },
   {
    "duration": 6,
    "start_time": "2021-08-06T13:23:38.713Z"
   },
   {
    "duration": 9,
    "start_time": "2021-08-06T13:23:38.721Z"
   },
   {
    "duration": 11,
    "start_time": "2021-08-06T13:23:38.732Z"
   },
   {
    "duration": 15,
    "start_time": "2021-08-06T13:23:38.745Z"
   },
   {
    "duration": 13,
    "start_time": "2021-08-06T13:23:38.761Z"
   },
   {
    "duration": 56,
    "start_time": "2021-08-06T13:23:38.776Z"
   },
   {
    "duration": 4,
    "start_time": "2021-08-06T13:23:38.834Z"
   },
   {
    "duration": 20,
    "start_time": "2021-08-06T13:23:38.839Z"
   },
   {
    "duration": 21,
    "start_time": "2021-08-06T13:23:38.862Z"
   },
   {
    "duration": 54,
    "start_time": "2021-08-06T13:23:38.884Z"
   },
   {
    "duration": 6,
    "start_time": "2021-08-06T13:23:54.416Z"
   },
   {
    "duration": 259,
    "start_time": "2021-08-06T13:25:10.559Z"
   },
   {
    "duration": 242,
    "start_time": "2021-08-06T13:25:13.140Z"
   },
   {
    "duration": 618,
    "start_time": "2021-08-06T13:25:18.412Z"
   },
   {
    "duration": 77,
    "start_time": "2021-08-06T13:25:19.032Z"
   },
   {
    "duration": 9,
    "start_time": "2021-08-06T13:25:19.110Z"
   },
   {
    "duration": 8,
    "start_time": "2021-08-06T13:25:19.121Z"
   },
   {
    "duration": 3,
    "start_time": "2021-08-06T13:25:19.131Z"
   },
   {
    "duration": 8,
    "start_time": "2021-08-06T13:25:19.136Z"
   },
   {
    "duration": 9,
    "start_time": "2021-08-06T13:25:19.146Z"
   },
   {
    "duration": 3,
    "start_time": "2021-08-06T13:25:19.156Z"
   },
   {
    "duration": 80,
    "start_time": "2021-08-06T13:25:19.161Z"
   },
   {
    "duration": 5,
    "start_time": "2021-08-06T13:25:19.243Z"
   },
   {
    "duration": 6,
    "start_time": "2021-08-06T13:25:19.250Z"
   },
   {
    "duration": 9,
    "start_time": "2021-08-06T13:25:19.258Z"
   },
   {
    "duration": 65,
    "start_time": "2021-08-06T13:25:19.269Z"
   },
   {
    "duration": 4,
    "start_time": "2021-08-06T13:25:19.336Z"
   },
   {
    "duration": 11,
    "start_time": "2021-08-06T13:25:19.342Z"
   },
   {
    "duration": 5,
    "start_time": "2021-08-06T13:25:19.354Z"
   },
   {
    "duration": 31,
    "start_time": "2021-08-06T13:25:19.360Z"
   },
   {
    "duration": 3,
    "start_time": "2021-08-06T13:25:19.392Z"
   },
   {
    "duration": 13,
    "start_time": "2021-08-06T13:25:19.396Z"
   },
   {
    "duration": 13,
    "start_time": "2021-08-06T13:25:19.411Z"
   },
   {
    "duration": 4,
    "start_time": "2021-08-06T13:25:19.426Z"
   },
   {
    "duration": 8,
    "start_time": "2021-08-06T13:25:19.432Z"
   },
   {
    "duration": 10,
    "start_time": "2021-08-06T13:25:19.441Z"
   },
   {
    "duration": 9,
    "start_time": "2021-08-06T13:25:19.453Z"
   },
   {
    "duration": 53,
    "start_time": "2021-08-06T13:25:19.463Z"
   },
   {
    "duration": 4,
    "start_time": "2021-08-06T13:25:19.517Z"
   },
   {
    "duration": 6,
    "start_time": "2021-08-06T13:25:19.524Z"
   },
   {
    "duration": 9,
    "start_time": "2021-08-06T13:25:19.531Z"
   },
   {
    "duration": 61,
    "start_time": "2021-08-06T13:25:19.542Z"
   },
   {
    "duration": 6,
    "start_time": "2021-08-06T13:25:54.658Z"
   },
   {
    "duration": 272,
    "start_time": "2021-08-06T13:25:54.665Z"
   },
   {
    "duration": 5,
    "start_time": "2021-08-06T13:27:18.649Z"
   },
   {
    "duration": 10,
    "start_time": "2021-08-06T13:30:27.606Z"
   },
   {
    "duration": -6970,
    "start_time": "2021-08-06T13:32:47.386Z"
   },
   {
    "duration": 5,
    "start_time": "2021-08-06T13:33:28.845Z"
   },
   {
    "duration": 5,
    "start_time": "2021-08-06T13:34:41.802Z"
   },
   {
    "duration": 6,
    "start_time": "2021-08-06T13:36:36.575Z"
   },
   {
    "duration": 82,
    "start_time": "2021-08-06T13:41:52.129Z"
   },
   {
    "duration": 14,
    "start_time": "2021-08-06T13:46:10.646Z"
   },
   {
    "duration": 5,
    "start_time": "2021-08-06T13:46:14.937Z"
   },
   {
    "duration": 88,
    "start_time": "2021-08-06T13:46:22.260Z"
   },
   {
    "duration": 80,
    "start_time": "2021-08-06T13:48:43.175Z"
   },
   {
    "duration": 57,
    "start_time": "2021-08-06T13:48:56.171Z"
   },
   {
    "duration": 35,
    "start_time": "2021-08-06T13:49:47.965Z"
   },
   {
    "duration": 9,
    "start_time": "2021-08-06T13:50:25.298Z"
   },
   {
    "duration": 277,
    "start_time": "2021-08-06T13:55:14.919Z"
   },
   {
    "duration": 252,
    "start_time": "2021-08-06T13:57:06.093Z"
   },
   {
    "duration": 1169,
    "start_time": "2021-08-06T13:57:30.412Z"
   },
   {
    "duration": 6,
    "start_time": "2021-08-06T13:58:33.391Z"
   },
   {
    "duration": 6,
    "start_time": "2021-08-06T13:58:36.744Z"
   },
   {
    "duration": 8,
    "start_time": "2021-08-06T13:58:40.726Z"
   },
   {
    "duration": 283,
    "start_time": "2021-08-06T13:58:48.466Z"
   },
   {
    "duration": 10,
    "start_time": "2021-08-06T13:59:01.450Z"
   },
   {
    "duration": 16,
    "start_time": "2021-08-06T14:08:00.314Z"
   },
   {
    "duration": 253,
    "start_time": "2021-08-06T14:08:24.247Z"
   },
   {
    "duration": 6,
    "start_time": "2021-08-06T14:09:15.838Z"
   },
   {
    "duration": 11,
    "start_time": "2021-08-06T14:09:18.349Z"
   },
   {
    "duration": 10,
    "start_time": "2021-08-06T14:10:01.592Z"
   },
   {
    "duration": 4,
    "start_time": "2021-08-06T14:10:07.565Z"
   },
   {
    "duration": 6,
    "start_time": "2021-08-06T14:10:08.844Z"
   },
   {
    "duration": 6,
    "start_time": "2021-08-06T14:10:09.620Z"
   },
   {
    "duration": 6,
    "start_time": "2021-08-06T14:10:10.293Z"
   },
   {
    "duration": 4,
    "start_time": "2021-08-06T14:10:12.029Z"
   },
   {
    "duration": 7917,
    "start_time": "2021-08-06T14:10:13.188Z"
   },
   {
    "duration": 4,
    "start_time": "2021-08-06T14:10:25.165Z"
   },
   {
    "duration": 4,
    "start_time": "2021-08-06T14:10:26.254Z"
   },
   {
    "duration": 6100,
    "start_time": "2021-08-06T14:10:28.723Z"
   },
   {
    "duration": 504,
    "start_time": "2021-08-06T14:11:18.463Z"
   },
   {
    "duration": 4,
    "start_time": "2021-08-06T14:11:25.373Z"
   },
   {
    "duration": 187,
    "start_time": "2021-08-06T14:11:26.572Z"
   },
   {
    "duration": 17,
    "start_time": "2021-08-06T14:11:52.555Z"
   },
   {
    "duration": 167,
    "start_time": "2021-08-06T14:11:53.722Z"
   },
   {
    "duration": 12,
    "start_time": "2021-08-06T14:12:02.516Z"
   },
   {
    "duration": 205,
    "start_time": "2021-08-06T14:12:10.622Z"
   },
   {
    "duration": 13,
    "start_time": "2021-08-06T14:12:34.809Z"
   },
   {
    "duration": 180,
    "start_time": "2021-08-06T14:12:38.065Z"
   },
   {
    "duration": 211,
    "start_time": "2021-08-06T14:12:55.609Z"
   },
   {
    "duration": 11,
    "start_time": "2021-08-06T14:14:51.121Z"
   },
   {
    "duration": 10,
    "start_time": "2021-08-06T14:14:51.779Z"
   },
   {
    "duration": 736,
    "start_time": "2021-08-06T14:14:52.623Z"
   },
   {
    "duration": 192,
    "start_time": "2021-08-06T14:14:56.419Z"
   },
   {
    "duration": 10,
    "start_time": "2021-08-06T14:15:00.055Z"
   },
   {
    "duration": 128,
    "start_time": "2021-08-06T14:15:03.295Z"
   },
   {
    "duration": 12,
    "start_time": "2021-08-06T14:15:27.704Z"
   },
   {
    "duration": 6,
    "start_time": "2021-08-06T14:15:30.236Z"
   },
   {
    "duration": 174,
    "start_time": "2021-08-06T14:15:32.606Z"
   },
   {
    "duration": 223,
    "start_time": "2021-08-06T14:15:43.252Z"
   },
   {
    "duration": 9,
    "start_time": "2021-08-06T14:17:03.624Z"
   },
   {
    "duration": 11,
    "start_time": "2021-08-06T14:17:33.008Z"
   },
   {
    "duration": 9,
    "start_time": "2021-08-06T14:17:39.726Z"
   },
   {
    "duration": 6,
    "start_time": "2021-08-06T14:18:01.460Z"
   },
   {
    "duration": 5,
    "start_time": "2021-08-06T14:18:02.726Z"
   },
   {
    "duration": 4,
    "start_time": "2021-08-06T14:18:04.339Z"
   },
   {
    "duration": 141,
    "start_time": "2021-08-06T14:18:08.559Z"
   },
   {
    "duration": 149,
    "start_time": "2021-08-06T14:18:10.368Z"
   },
   {
    "duration": 5,
    "start_time": "2021-08-06T14:18:12.265Z"
   },
   {
    "duration": 177,
    "start_time": "2021-08-06T14:18:14.105Z"
   },
   {
    "duration": 140,
    "start_time": "2021-08-06T14:18:21.353Z"
   },
   {
    "duration": 150,
    "start_time": "2021-08-06T14:18:34.946Z"
   },
   {
    "duration": 61,
    "start_time": "2021-08-06T14:19:04.831Z"
   },
   {
    "duration": 70,
    "start_time": "2021-08-06T14:19:04.894Z"
   },
   {
    "duration": 27,
    "start_time": "2021-08-06T14:19:04.966Z"
   },
   {
    "duration": 8,
    "start_time": "2021-08-06T14:19:04.995Z"
   },
   {
    "duration": 4,
    "start_time": "2021-08-06T14:19:05.005Z"
   },
   {
    "duration": 8,
    "start_time": "2021-08-06T14:19:05.010Z"
   },
   {
    "duration": 9,
    "start_time": "2021-08-06T14:19:05.020Z"
   },
   {
    "duration": 3,
    "start_time": "2021-08-06T14:19:05.032Z"
   },
   {
    "duration": 83,
    "start_time": "2021-08-06T14:19:05.037Z"
   },
   {
    "duration": 6,
    "start_time": "2021-08-06T14:19:05.122Z"
   },
   {
    "duration": 9,
    "start_time": "2021-08-06T14:19:05.129Z"
   },
   {
    "duration": 6,
    "start_time": "2021-08-06T14:19:05.140Z"
   },
   {
    "duration": 61,
    "start_time": "2021-08-06T14:19:05.148Z"
   },
   {
    "duration": 5,
    "start_time": "2021-08-06T14:19:05.210Z"
   },
   {
    "duration": 19,
    "start_time": "2021-08-06T14:19:05.216Z"
   },
   {
    "duration": 18,
    "start_time": "2021-08-06T14:19:05.236Z"
   },
   {
    "duration": 23,
    "start_time": "2021-08-06T14:19:05.256Z"
   },
   {
    "duration": 14,
    "start_time": "2021-08-06T14:19:05.281Z"
   },
   {
    "duration": 18,
    "start_time": "2021-08-06T14:19:05.297Z"
   },
   {
    "duration": 12,
    "start_time": "2021-08-06T14:19:05.316Z"
   },
   {
    "duration": 3,
    "start_time": "2021-08-06T14:19:05.494Z"
   },
   {
    "duration": 2,
    "start_time": "2021-08-06T14:19:05.501Z"
   },
   {
    "duration": 3,
    "start_time": "2021-08-06T14:19:05.507Z"
   },
   {
    "duration": 10,
    "start_time": "2021-08-06T14:19:05.511Z"
   },
   {
    "duration": 53,
    "start_time": "2021-08-06T14:19:05.543Z"
   },
   {
    "duration": 3,
    "start_time": "2021-08-06T14:19:05.597Z"
   },
   {
    "duration": 7,
    "start_time": "2021-08-06T14:19:05.602Z"
   },
   {
    "duration": 6,
    "start_time": "2021-08-06T14:19:05.611Z"
   },
   {
    "duration": 52,
    "start_time": "2021-08-06T14:19:05.619Z"
   },
   {
    "duration": 7,
    "start_time": "2021-08-06T14:19:05.692Z"
   },
   {
    "duration": 7,
    "start_time": "2021-08-06T14:19:06.051Z"
   },
   {
    "duration": 10,
    "start_time": "2021-08-06T14:19:07.818Z"
   },
   {
    "duration": 13,
    "start_time": "2021-08-06T14:19:07.831Z"
   },
   {
    "duration": 8,
    "start_time": "2021-08-06T14:19:07.846Z"
   },
   {
    "duration": 3,
    "start_time": "2021-08-06T14:19:08.409Z"
   },
   {
    "duration": 6,
    "start_time": "2021-08-06T14:19:08.414Z"
   },
   {
    "duration": 13,
    "start_time": "2021-08-06T14:19:08.423Z"
   },
   {
    "duration": 10,
    "start_time": "2021-08-06T14:19:08.438Z"
   },
   {
    "duration": 14,
    "start_time": "2021-08-06T14:19:08.724Z"
   },
   {
    "duration": 9,
    "start_time": "2021-08-06T14:19:08.740Z"
   },
   {
    "duration": 3,
    "start_time": "2021-08-06T14:19:08.759Z"
   },
   {
    "duration": 5,
    "start_time": "2021-08-06T14:19:08.766Z"
   },
   {
    "duration": 5,
    "start_time": "2021-08-06T14:19:08.773Z"
   },
   {
    "duration": 7,
    "start_time": "2021-08-06T14:19:08.780Z"
   },
   {
    "duration": 3,
    "start_time": "2021-08-06T14:19:08.788Z"
   },
   {
    "duration": 1714,
    "start_time": "2021-08-06T14:19:08.793Z"
   },
   {
    "duration": 4,
    "start_time": "2021-08-06T14:19:10.509Z"
   },
   {
    "duration": 7,
    "start_time": "2021-08-06T14:19:10.515Z"
   },
   {
    "duration": 2502,
    "start_time": "2021-08-06T14:19:10.524Z"
   },
   {
    "duration": 5,
    "start_time": "2021-08-06T14:19:13.028Z"
   },
   {
    "duration": 180,
    "start_time": "2021-08-06T14:19:13.035Z"
   },
   {
    "duration": 20,
    "start_time": "2021-08-06T14:19:13.217Z"
   },
   {
    "duration": 180,
    "start_time": "2021-08-06T14:19:13.238Z"
   },
   {
    "duration": 12,
    "start_time": "2021-08-06T14:19:13.419Z"
   },
   {
    "duration": 200,
    "start_time": "2021-08-06T14:19:13.433Z"
   },
   {
    "duration": 10,
    "start_time": "2021-08-06T14:19:13.635Z"
   },
   {
    "duration": 179,
    "start_time": "2021-08-06T14:19:13.646Z"
   },
   {
    "duration": 11,
    "start_time": "2021-08-06T14:19:13.827Z"
   },
   {
    "duration": 9,
    "start_time": "2021-08-06T14:19:13.840Z"
   },
   {
    "duration": 831,
    "start_time": "2021-08-06T14:19:13.851Z"
   },
   {
    "duration": 188,
    "start_time": "2021-08-06T14:19:14.684Z"
   },
   {
    "duration": 18,
    "start_time": "2021-08-06T14:19:14.873Z"
   },
   {
    "duration": 116,
    "start_time": "2021-08-06T14:19:14.894Z"
   },
   {
    "duration": 9,
    "start_time": "2021-08-06T14:19:15.012Z"
   },
   {
    "duration": 4,
    "start_time": "2021-08-06T14:19:15.023Z"
   },
   {
    "duration": 192,
    "start_time": "2021-08-06T14:19:15.028Z"
   },
   {
    "duration": 8,
    "start_time": "2021-08-06T14:19:15.222Z"
   },
   {
    "duration": 8,
    "start_time": "2021-08-06T14:19:15.231Z"
   },
   {
    "duration": 5,
    "start_time": "2021-08-06T14:19:15.240Z"
   },
   {
    "duration": 14,
    "start_time": "2021-08-06T14:19:15.246Z"
   },
   {
    "duration": 14,
    "start_time": "2021-08-06T14:19:15.261Z"
   },
   {
    "duration": 147,
    "start_time": "2021-08-06T14:19:15.276Z"
   },
   {
    "duration": 152,
    "start_time": "2021-08-06T14:19:15.425Z"
   },
   {
    "duration": 11,
    "start_time": "2021-08-06T14:19:15.579Z"
   },
   {
    "duration": 176,
    "start_time": "2021-08-06T14:19:15.592Z"
   },
   {
    "duration": 139,
    "start_time": "2021-08-06T14:19:24.004Z"
   },
   {
    "duration": 332,
    "start_time": "2021-08-06T14:20:38.126Z"
   },
   {
    "duration": 140,
    "start_time": "2021-08-06T14:20:58.206Z"
   },
   {
    "duration": 7,
    "start_time": "2021-08-06T14:21:25.927Z"
   },
   {
    "duration": 11,
    "start_time": "2021-08-06T14:21:27.294Z"
   },
   {
    "duration": 162,
    "start_time": "2021-08-06T14:21:28.377Z"
   },
   {
    "duration": 9,
    "start_time": "2021-08-06T14:21:33.332Z"
   },
   {
    "duration": 6,
    "start_time": "2021-08-06T14:21:34.761Z"
   },
   {
    "duration": 5,
    "start_time": "2021-08-06T14:23:08.668Z"
   },
   {
    "duration": 379,
    "start_time": "2021-08-06T14:23:35.775Z"
   },
   {
    "duration": 6,
    "start_time": "2021-08-06T14:24:18.784Z"
   },
   {
    "duration": 8,
    "start_time": "2021-08-06T14:24:26.283Z"
   },
   {
    "duration": 6,
    "start_time": "2021-08-06T14:24:30.605Z"
   },
   {
    "duration": 5,
    "start_time": "2021-08-06T14:24:37.926Z"
   },
   {
    "duration": 370,
    "start_time": "2021-08-06T14:24:42.065Z"
   },
   {
    "duration": 22,
    "start_time": "2021-08-06T14:24:51.485Z"
   },
   {
    "duration": 7,
    "start_time": "2021-08-06T14:24:54.865Z"
   },
   {
    "duration": 664,
    "start_time": "2021-08-06T14:24:56.457Z"
   },
   {
    "duration": 622,
    "start_time": "2021-08-06T14:26:45.163Z"
   },
   {
    "duration": 869,
    "start_time": "2021-08-06T14:27:28.013Z"
   },
   {
    "duration": 607,
    "start_time": "2021-08-06T14:27:49.353Z"
   },
   {
    "duration": 605,
    "start_time": "2021-08-06T14:28:01.209Z"
   },
   {
    "duration": 603,
    "start_time": "2021-08-06T14:28:15.058Z"
   },
   {
    "duration": 633,
    "start_time": "2021-08-06T14:28:39.471Z"
   },
   {
    "duration": 597,
    "start_time": "2021-08-06T14:28:51.979Z"
   },
   {
    "duration": 691,
    "start_time": "2021-08-06T14:29:02.221Z"
   },
   {
    "duration": 849,
    "start_time": "2021-08-06T14:30:51.634Z"
   },
   {
    "duration": 705,
    "start_time": "2021-08-06T14:31:35.717Z"
   },
   {
    "duration": 1397,
    "start_time": "2021-08-06T14:32:40.499Z"
   },
   {
    "duration": 4,
    "start_time": "2021-08-06T14:37:48.890Z"
   },
   {
    "duration": 141,
    "start_time": "2021-08-06T14:37:51.767Z"
   },
   {
    "duration": 5,
    "start_time": "2021-08-06T14:37:53.832Z"
   },
   {
    "duration": 173,
    "start_time": "2021-08-06T14:37:55.034Z"
   },
   {
    "duration": 157,
    "start_time": "2021-08-06T14:37:56.986Z"
   },
   {
    "duration": 142,
    "start_time": "2021-08-06T14:37:58.833Z"
   },
   {
    "duration": 1302,
    "start_time": "2021-08-06T14:39:38.263Z"
   },
   {
    "duration": 147,
    "start_time": "2021-08-06T14:40:15.954Z"
   },
   {
    "duration": 1616,
    "start_time": "2021-08-06T14:41:10.516Z"
   },
   {
    "duration": 1722,
    "start_time": "2021-08-06T14:41:53.416Z"
   },
   {
    "duration": 1458,
    "start_time": "2021-08-06T14:44:07.512Z"
   },
   {
    "duration": 3641,
    "start_time": "2021-08-06T14:46:24.152Z"
   },
   {
    "duration": 1480,
    "start_time": "2021-08-06T14:46:32.678Z"
   },
   {
    "duration": 1388,
    "start_time": "2021-08-06T14:47:23.384Z"
   },
   {
    "duration": 1287,
    "start_time": "2021-08-06T14:47:47.353Z"
   },
   {
    "duration": 1472,
    "start_time": "2021-08-06T14:48:04.388Z"
   },
   {
    "duration": 148,
    "start_time": "2021-08-06T14:49:38.116Z"
   },
   {
    "duration": 1383,
    "start_time": "2021-08-06T14:49:53.025Z"
   },
   {
    "duration": 1739,
    "start_time": "2021-08-06T14:50:20.339Z"
   },
   {
    "duration": 2035,
    "start_time": "2021-08-06T14:50:36.554Z"
   },
   {
    "duration": 281,
    "start_time": "2021-08-06T14:51:35.722Z"
   },
   {
    "duration": 142,
    "start_time": "2021-08-06T14:51:47.580Z"
   },
   {
    "duration": 378,
    "start_time": "2021-08-06T14:52:32.775Z"
   },
   {
    "duration": 86,
    "start_time": "2021-08-06T14:53:34.668Z"
   },
   {
    "duration": 608,
    "start_time": "2021-08-06T14:54:22.467Z"
   },
   {
    "duration": 199,
    "start_time": "2021-08-06T14:54:40.588Z"
   },
   {
    "duration": 409,
    "start_time": "2021-08-06T14:54:59.802Z"
   },
   {
    "duration": 248,
    "start_time": "2021-08-06T14:55:32.859Z"
   },
   {
    "duration": 500,
    "start_time": "2021-08-06T14:56:09.375Z"
   },
   {
    "duration": 139,
    "start_time": "2021-08-06T14:56:42.283Z"
   },
   {
    "duration": 363,
    "start_time": "2021-08-06T14:57:16.211Z"
   },
   {
    "duration": 90,
    "start_time": "2021-08-06T15:02:30.945Z"
   },
   {
    "duration": 114,
    "start_time": "2021-08-06T15:02:31.037Z"
   },
   {
    "duration": 15,
    "start_time": "2021-08-06T15:02:31.153Z"
   },
   {
    "duration": 125,
    "start_time": "2021-08-06T15:02:31.170Z"
   },
   {
    "duration": 11,
    "start_time": "2021-08-06T15:02:31.297Z"
   },
   {
    "duration": 25,
    "start_time": "2021-08-06T15:02:31.309Z"
   },
   {
    "duration": 15,
    "start_time": "2021-08-06T15:02:31.336Z"
   },
   {
    "duration": 8,
    "start_time": "2021-08-06T15:02:31.353Z"
   },
   {
    "duration": 57,
    "start_time": "2021-08-06T15:02:31.363Z"
   },
   {
    "duration": 5,
    "start_time": "2021-08-06T15:02:31.422Z"
   },
   {
    "duration": 32,
    "start_time": "2021-08-06T15:02:31.428Z"
   },
   {
    "duration": 17,
    "start_time": "2021-08-06T15:02:31.462Z"
   },
   {
    "duration": 80,
    "start_time": "2021-08-06T15:02:31.480Z"
   },
   {
    "duration": 5,
    "start_time": "2021-08-06T15:02:31.562Z"
   },
   {
    "duration": 26,
    "start_time": "2021-08-06T15:02:31.569Z"
   },
   {
    "duration": 17,
    "start_time": "2021-08-06T15:02:31.596Z"
   },
   {
    "duration": 31,
    "start_time": "2021-08-06T15:02:31.615Z"
   },
   {
    "duration": 7,
    "start_time": "2021-08-06T15:02:31.648Z"
   },
   {
    "duration": 19,
    "start_time": "2021-08-06T15:02:31.657Z"
   },
   {
    "duration": 14,
    "start_time": "2021-08-06T15:02:31.677Z"
   },
   {
    "duration": 3,
    "start_time": "2021-08-06T15:02:31.747Z"
   },
   {
    "duration": 10,
    "start_time": "2021-08-06T15:02:31.754Z"
   },
   {
    "duration": 11,
    "start_time": "2021-08-06T15:02:31.765Z"
   },
   {
    "duration": 13,
    "start_time": "2021-08-06T15:02:31.778Z"
   },
   {
    "duration": 77,
    "start_time": "2021-08-06T15:02:31.793Z"
   },
   {
    "duration": 4,
    "start_time": "2021-08-06T15:02:31.872Z"
   },
   {
    "duration": 18,
    "start_time": "2021-08-06T15:02:31.877Z"
   },
   {
    "duration": 6,
    "start_time": "2021-08-06T15:02:31.897Z"
   },
   {
    "duration": 95,
    "start_time": "2021-08-06T15:02:31.906Z"
   },
   {
    "duration": 7,
    "start_time": "2021-08-06T15:02:32.003Z"
   },
   {
    "duration": 6,
    "start_time": "2021-08-06T15:02:32.012Z"
   },
   {
    "duration": 17,
    "start_time": "2021-08-06T15:02:32.020Z"
   },
   {
    "duration": 15,
    "start_time": "2021-08-06T15:02:32.039Z"
   },
   {
    "duration": 37,
    "start_time": "2021-08-06T15:02:32.056Z"
   },
   {
    "duration": 2,
    "start_time": "2021-08-06T15:02:32.095Z"
   },
   {
    "duration": 5,
    "start_time": "2021-08-06T15:02:32.099Z"
   },
   {
    "duration": 19,
    "start_time": "2021-08-06T15:02:32.106Z"
   },
   {
    "duration": 13,
    "start_time": "2021-08-06T15:02:32.129Z"
   },
   {
    "duration": 47,
    "start_time": "2021-08-06T15:02:32.144Z"
   },
   {
    "duration": 9,
    "start_time": "2021-08-06T15:02:32.193Z"
   },
   {
    "duration": 10,
    "start_time": "2021-08-06T15:02:32.203Z"
   },
   {
    "duration": 14,
    "start_time": "2021-08-06T15:02:32.215Z"
   },
   {
    "duration": 7,
    "start_time": "2021-08-06T15:02:32.231Z"
   },
   {
    "duration": 7,
    "start_time": "2021-08-06T15:02:32.240Z"
   },
   {
    "duration": 9,
    "start_time": "2021-08-06T15:02:32.249Z"
   },
   {
    "duration": 1735,
    "start_time": "2021-08-06T15:02:32.260Z"
   },
   {
    "duration": 4,
    "start_time": "2021-08-06T15:02:33.997Z"
   },
   {
    "duration": 17,
    "start_time": "2021-08-06T15:02:34.002Z"
   },
   {
    "duration": 2214,
    "start_time": "2021-08-06T15:02:34.020Z"
   },
   {
    "duration": 5,
    "start_time": "2021-08-06T15:02:36.237Z"
   },
   {
    "duration": 182,
    "start_time": "2021-08-06T15:02:36.244Z"
   },
   {
    "duration": 21,
    "start_time": "2021-08-06T15:02:36.427Z"
   },
   {
    "duration": 175,
    "start_time": "2021-08-06T15:02:36.450Z"
   },
   {
    "duration": 11,
    "start_time": "2021-08-06T15:02:36.627Z"
   },
   {
    "duration": 206,
    "start_time": "2021-08-06T15:02:36.640Z"
   },
   {
    "duration": 10,
    "start_time": "2021-08-06T15:02:36.848Z"
   },
   {
    "duration": 271,
    "start_time": "2021-08-06T15:02:36.860Z"
   },
   {
    "duration": 12,
    "start_time": "2021-08-06T15:02:37.133Z"
   },
   {
    "duration": 10,
    "start_time": "2021-08-06T15:02:37.147Z"
   },
   {
    "duration": 985,
    "start_time": "2021-08-06T15:02:37.158Z"
   },
   {
    "duration": 200,
    "start_time": "2021-08-06T15:02:38.145Z"
   },
   {
    "duration": 9,
    "start_time": "2021-08-06T15:02:38.347Z"
   },
   {
    "duration": 129,
    "start_time": "2021-08-06T15:02:38.358Z"
   },
   {
    "duration": 10,
    "start_time": "2021-08-06T15:02:38.489Z"
   },
   {
    "duration": 5,
    "start_time": "2021-08-06T15:02:38.504Z"
   },
   {
    "duration": 292,
    "start_time": "2021-08-06T15:02:38.511Z"
   },
   {
    "duration": 8,
    "start_time": "2021-08-06T15:02:38.805Z"
   },
   {
    "duration": 7,
    "start_time": "2021-08-06T15:02:38.815Z"
   },
   {
    "duration": 4,
    "start_time": "2021-08-06T15:02:38.824Z"
   },
   {
    "duration": 4,
    "start_time": "2021-08-06T15:02:38.829Z"
   },
   {
    "duration": 8,
    "start_time": "2021-08-06T15:02:38.834Z"
   },
   {
    "duration": 176,
    "start_time": "2021-08-06T15:02:38.844Z"
   },
   {
    "duration": 160,
    "start_time": "2021-08-06T15:02:39.022Z"
   },
   {
    "duration": 9,
    "start_time": "2021-08-06T15:02:39.184Z"
   },
   {
    "duration": 182,
    "start_time": "2021-08-06T15:02:39.194Z"
   },
   {
    "duration": 152,
    "start_time": "2021-08-06T15:02:39.378Z"
   },
   {
    "duration": 5,
    "start_time": "2021-08-06T15:02:39.532Z"
   },
   {
    "duration": 13,
    "start_time": "2021-08-06T15:02:39.539Z"
   },
   {
    "duration": 172,
    "start_time": "2021-08-06T15:02:39.554Z"
   },
   {
    "duration": 8,
    "start_time": "2021-08-06T15:02:39.728Z"
   },
   {
    "duration": 7,
    "start_time": "2021-08-06T15:02:39.738Z"
   },
   {
    "duration": 5,
    "start_time": "2021-08-06T15:02:39.747Z"
   },
   {
    "duration": 387,
    "start_time": "2021-08-06T15:02:39.754Z"
   },
   {
    "duration": 22,
    "start_time": "2021-08-06T15:02:40.143Z"
   },
   {
    "duration": 10,
    "start_time": "2021-08-06T15:02:40.166Z"
   },
   {
    "duration": 1318,
    "start_time": "2021-08-06T15:02:40.190Z"
   },
   {
    "duration": 4,
    "start_time": "2021-08-06T15:02:41.510Z"
   },
   {
    "duration": 180,
    "start_time": "2021-08-06T15:02:41.516Z"
   },
   {
    "duration": 5,
    "start_time": "2021-08-06T15:02:41.698Z"
   },
   {
    "duration": 267,
    "start_time": "2021-08-06T15:02:41.705Z"
   },
   {
    "duration": 166,
    "start_time": "2021-08-06T15:02:41.974Z"
   },
   {
    "duration": 148,
    "start_time": "2021-08-06T15:02:42.142Z"
   },
   {
    "duration": 134,
    "start_time": "2021-08-06T19:54:17.596Z"
   },
   {
    "duration": 464,
    "start_time": "2021-08-06T19:56:45.246Z"
   },
   {
    "duration": 962,
    "start_time": "2021-08-06T19:56:48.346Z"
   },
   {
    "duration": 114,
    "start_time": "2021-08-06T19:56:49.310Z"
   },
   {
    "duration": 16,
    "start_time": "2021-08-06T19:56:49.427Z"
   },
   {
    "duration": 35,
    "start_time": "2021-08-06T19:56:49.445Z"
   },
   {
    "duration": 3,
    "start_time": "2021-08-06T19:56:49.483Z"
   },
   {
    "duration": 16,
    "start_time": "2021-08-06T19:56:49.488Z"
   },
   {
    "duration": 14,
    "start_time": "2021-08-06T19:56:49.506Z"
   },
   {
    "duration": 4,
    "start_time": "2021-08-06T19:56:49.522Z"
   },
   {
    "duration": 91,
    "start_time": "2021-08-06T19:56:49.568Z"
   },
   {
    "duration": 8,
    "start_time": "2021-08-06T19:56:49.667Z"
   },
   {
    "duration": 17,
    "start_time": "2021-08-06T19:56:49.678Z"
   },
   {
    "duration": 14,
    "start_time": "2021-08-06T19:56:49.697Z"
   },
   {
    "duration": 133,
    "start_time": "2021-08-06T19:56:49.713Z"
   },
   {
    "duration": 18,
    "start_time": "2021-08-06T19:56:49.848Z"
   },
   {
    "duration": 15,
    "start_time": "2021-08-06T19:56:49.869Z"
   },
   {
    "duration": 9,
    "start_time": "2021-08-06T19:56:49.886Z"
   },
   {
    "duration": 25,
    "start_time": "2021-08-06T19:56:49.898Z"
   },
   {
    "duration": 42,
    "start_time": "2021-08-06T19:56:49.925Z"
   },
   {
    "duration": 18,
    "start_time": "2021-08-06T19:56:49.969Z"
   },
   {
    "duration": 14,
    "start_time": "2021-08-06T19:56:49.989Z"
   },
   {
    "duration": 3,
    "start_time": "2021-08-06T19:56:50.006Z"
   },
   {
    "duration": 9,
    "start_time": "2021-08-06T19:56:50.012Z"
   },
   {
    "duration": 7,
    "start_time": "2021-08-06T19:56:50.024Z"
   },
   {
    "duration": 9,
    "start_time": "2021-08-06T19:56:50.066Z"
   },
   {
    "duration": 104,
    "start_time": "2021-08-06T19:56:50.077Z"
   },
   {
    "duration": 4,
    "start_time": "2021-08-06T19:56:50.183Z"
   },
   {
    "duration": 8,
    "start_time": "2021-08-06T19:56:50.195Z"
   },
   {
    "duration": 8,
    "start_time": "2021-08-06T19:56:50.207Z"
   },
   {
    "duration": 122,
    "start_time": "2021-08-06T19:56:50.218Z"
   },
   {
    "duration": 24,
    "start_time": "2021-08-06T19:56:50.343Z"
   },
   {
    "duration": 8,
    "start_time": "2021-08-06T19:56:50.370Z"
   },
   {
    "duration": 8035,
    "start_time": "2021-08-06T19:56:50.380Z"
   },
   {
    "duration": 20760,
    "start_time": "2021-08-06T19:56:37.660Z"
   },
   {
    "duration": 20757,
    "start_time": "2021-08-06T19:56:37.664Z"
   },
   {
    "duration": 20753,
    "start_time": "2021-08-06T19:56:37.670Z"
   },
   {
    "duration": 20752,
    "start_time": "2021-08-06T19:56:37.673Z"
   },
   {
    "duration": 20750,
    "start_time": "2021-08-06T19:56:37.677Z"
   },
   {
    "duration": 20749,
    "start_time": "2021-08-06T19:56:37.680Z"
   },
   {
    "duration": 20747,
    "start_time": "2021-08-06T19:56:37.684Z"
   },
   {
    "duration": 20746,
    "start_time": "2021-08-06T19:56:37.688Z"
   },
   {
    "duration": 20743,
    "start_time": "2021-08-06T19:56:37.692Z"
   },
   {
    "duration": 20743,
    "start_time": "2021-08-06T19:56:37.695Z"
   },
   {
    "duration": 20741,
    "start_time": "2021-08-06T19:56:37.699Z"
   },
   {
    "duration": 20733,
    "start_time": "2021-08-06T19:56:37.709Z"
   },
   {
    "duration": 20730,
    "start_time": "2021-08-06T19:56:37.714Z"
   },
   {
    "duration": 20728,
    "start_time": "2021-08-06T19:56:37.718Z"
   },
   {
    "duration": 20727,
    "start_time": "2021-08-06T19:56:37.721Z"
   },
   {
    "duration": 20726,
    "start_time": "2021-08-06T19:56:37.724Z"
   },
   {
    "duration": 20725,
    "start_time": "2021-08-06T19:56:37.727Z"
   },
   {
    "duration": 20723,
    "start_time": "2021-08-06T19:56:37.731Z"
   },
   {
    "duration": 20721,
    "start_time": "2021-08-06T19:56:37.735Z"
   },
   {
    "duration": 20728,
    "start_time": "2021-08-06T19:56:37.739Z"
   },
   {
    "duration": 20727,
    "start_time": "2021-08-06T19:56:37.743Z"
   },
   {
    "duration": 20726,
    "start_time": "2021-08-06T19:56:37.746Z"
   },
   {
    "duration": 20725,
    "start_time": "2021-08-06T19:56:37.749Z"
   },
   {
    "duration": 20724,
    "start_time": "2021-08-06T19:56:37.752Z"
   },
   {
    "duration": 20715,
    "start_time": "2021-08-06T19:56:37.763Z"
   },
   {
    "duration": 20713,
    "start_time": "2021-08-06T19:56:37.767Z"
   },
   {
    "duration": 20712,
    "start_time": "2021-08-06T19:56:37.770Z"
   },
   {
    "duration": 20643,
    "start_time": "2021-08-06T19:56:37.841Z"
   },
   {
    "duration": 20623,
    "start_time": "2021-08-06T19:56:37.863Z"
   },
   {
    "duration": 20622,
    "start_time": "2021-08-06T19:56:37.866Z"
   },
   {
    "duration": 20298,
    "start_time": "2021-08-06T19:56:38.192Z"
   },
   {
    "duration": 20297,
    "start_time": "2021-08-06T19:56:38.195Z"
   },
   {
    "duration": 20294,
    "start_time": "2021-08-06T19:56:38.200Z"
   },
   {
    "duration": 20292,
    "start_time": "2021-08-06T19:56:38.204Z"
   },
   {
    "duration": 20292,
    "start_time": "2021-08-06T19:56:38.207Z"
   },
   {
    "duration": 20290,
    "start_time": "2021-08-06T19:56:38.210Z"
   },
   {
    "duration": 20289,
    "start_time": "2021-08-06T19:56:38.213Z"
   },
   {
    "duration": 20287,
    "start_time": "2021-08-06T19:56:38.217Z"
   },
   {
    "duration": 20362,
    "start_time": "2021-08-06T19:56:38.220Z"
   },
   {
    "duration": 20362,
    "start_time": "2021-08-06T19:56:38.223Z"
   },
   {
    "duration": 20360,
    "start_time": "2021-08-06T19:56:38.226Z"
   },
   {
    "duration": 20358,
    "start_time": "2021-08-06T19:56:38.230Z"
   },
   {
    "duration": 20357,
    "start_time": "2021-08-06T19:56:38.233Z"
   },
   {
    "duration": 20356,
    "start_time": "2021-08-06T19:56:38.236Z"
   },
   {
    "duration": 20273,
    "start_time": "2021-08-06T19:56:38.321Z"
   },
   {
    "duration": 20237,
    "start_time": "2021-08-06T19:56:38.359Z"
   },
   {
    "duration": 20235,
    "start_time": "2021-08-06T19:56:38.363Z"
   },
   {
    "duration": 20233,
    "start_time": "2021-08-06T19:56:38.367Z"
   },
   {
    "duration": 20232,
    "start_time": "2021-08-06T19:56:38.370Z"
   },
   {
    "duration": 20230,
    "start_time": "2021-08-06T19:56:38.373Z"
   },
   {
    "duration": 20229,
    "start_time": "2021-08-06T19:56:38.376Z"
   },
   {
    "duration": 20226,
    "start_time": "2021-08-06T19:56:38.381Z"
   },
   {
    "duration": 20217,
    "start_time": "2021-08-06T19:56:38.392Z"
   },
   {
    "duration": 20216,
    "start_time": "2021-08-06T19:56:38.395Z"
   },
   {
    "duration": 20214,
    "start_time": "2021-08-06T19:56:38.399Z"
   },
   {
    "duration": 20212,
    "start_time": "2021-08-06T19:56:38.403Z"
   },
   {
    "duration": 20211,
    "start_time": "2021-08-06T19:56:38.406Z"
   },
   {
    "duration": 20258,
    "start_time": "2021-08-06T19:56:38.409Z"
   },
   {
    "duration": 20257,
    "start_time": "2021-08-06T19:56:38.412Z"
   },
   {
    "duration": 20255,
    "start_time": "2021-08-06T19:56:38.416Z"
   },
   {
    "duration": 20253,
    "start_time": "2021-08-06T19:56:38.420Z"
   },
   {
    "duration": 171055,
    "start_time": "2021-08-06T19:57:14.216Z"
   },
   {
    "duration": 20725,
    "start_time": "2021-08-06T19:59:44.554Z"
   },
   {
    "duration": 20722,
    "start_time": "2021-08-06T19:59:44.559Z"
   },
   {
    "duration": 12,
    "start_time": "2021-08-06T20:00:09.567Z"
   },
   {
    "duration": 383,
    "start_time": "2021-08-06T20:00:11.851Z"
   },
   {
    "duration": 359,
    "start_time": "2021-08-06T20:00:34.096Z"
   },
   {
    "duration": 345,
    "start_time": "2021-08-06T20:00:39.447Z"
   },
   {
    "duration": 564,
    "start_time": "2021-08-06T20:00:48.342Z"
   },
   {
    "duration": 562,
    "start_time": "2021-08-06T20:00:54.079Z"
   },
   {
    "duration": 830,
    "start_time": "2021-08-06T20:01:12.539Z"
   },
   {
    "duration": 77,
    "start_time": "2021-08-06T20:01:45.905Z"
   },
   {
    "duration": 141,
    "start_time": "2021-08-06T20:01:45.985Z"
   },
   {
    "duration": 50,
    "start_time": "2021-08-06T20:01:46.129Z"
   },
   {
    "duration": 10,
    "start_time": "2021-08-06T20:01:46.182Z"
   },
   {
    "duration": 3,
    "start_time": "2021-08-06T20:01:46.195Z"
   },
   {
    "duration": 14,
    "start_time": "2021-08-06T20:01:46.200Z"
   },
   {
    "duration": 51,
    "start_time": "2021-08-06T20:01:46.217Z"
   },
   {
    "duration": 4,
    "start_time": "2021-08-06T20:01:46.271Z"
   },
   {
    "duration": 108,
    "start_time": "2021-08-06T20:01:46.279Z"
   },
   {
    "duration": 7,
    "start_time": "2021-08-06T20:01:46.390Z"
   },
   {
    "duration": 9,
    "start_time": "2021-08-06T20:01:46.400Z"
   },
   {
    "duration": 7,
    "start_time": "2021-08-06T20:01:46.411Z"
   },
   {
    "duration": 119,
    "start_time": "2021-08-06T20:01:46.421Z"
   },
   {
    "duration": 7,
    "start_time": "2021-08-06T20:01:46.542Z"
   },
   {
    "duration": 26,
    "start_time": "2021-08-06T20:01:46.551Z"
   },
   {
    "duration": 7,
    "start_time": "2021-08-06T20:01:46.579Z"
   },
   {
    "duration": 26,
    "start_time": "2021-08-06T20:01:46.589Z"
   },
   {
    "duration": 3,
    "start_time": "2021-08-06T20:01:46.619Z"
   },
   {
    "duration": 58,
    "start_time": "2021-08-06T20:01:46.630Z"
   },
   {
    "duration": 15,
    "start_time": "2021-08-06T20:01:46.691Z"
   },
   {
    "duration": 6,
    "start_time": "2021-08-06T20:01:46.708Z"
   },
   {
    "duration": 13,
    "start_time": "2021-08-06T20:01:46.717Z"
   },
   {
    "duration": 10,
    "start_time": "2021-08-06T20:01:46.733Z"
   },
   {
    "duration": 28,
    "start_time": "2021-08-06T20:01:46.745Z"
   },
   {
    "duration": 101,
    "start_time": "2021-08-06T20:01:46.775Z"
   },
   {
    "duration": 5,
    "start_time": "2021-08-06T20:01:46.878Z"
   },
   {
    "duration": 7,
    "start_time": "2021-08-06T20:01:46.890Z"
   },
   {
    "duration": 8,
    "start_time": "2021-08-06T20:01:46.901Z"
   },
   {
    "duration": 120,
    "start_time": "2021-08-06T20:01:46.911Z"
   },
   {
    "duration": 8,
    "start_time": "2021-08-06T20:01:47.033Z"
   },
   {
    "duration": 24,
    "start_time": "2021-08-06T20:01:47.044Z"
   },
   {
    "duration": 13,
    "start_time": "2021-08-06T20:01:47.071Z"
   },
   {
    "duration": 952,
    "start_time": "2021-08-06T20:01:47.086Z"
   },
   {
    "duration": 7,
    "start_time": "2021-08-06T20:01:48.040Z"
   },
   {
    "duration": 27,
    "start_time": "2021-08-06T20:01:48.049Z"
   },
   {
    "duration": 3,
    "start_time": "2021-08-06T20:01:48.079Z"
   },
   {
    "duration": 8,
    "start_time": "2021-08-06T20:01:48.084Z"
   },
   {
    "duration": 20,
    "start_time": "2021-08-06T20:01:48.094Z"
   },
   {
    "duration": 13,
    "start_time": "2021-08-06T20:01:48.116Z"
   },
   {
    "duration": 19,
    "start_time": "2021-08-06T20:01:48.168Z"
   },
   {
    "duration": 11,
    "start_time": "2021-08-06T20:01:48.190Z"
   },
   {
    "duration": 5,
    "start_time": "2021-08-06T20:01:48.203Z"
   },
   {
    "duration": 10,
    "start_time": "2021-08-06T20:01:48.210Z"
   },
   {
    "duration": 46,
    "start_time": "2021-08-06T20:01:48.223Z"
   },
   {
    "duration": 8,
    "start_time": "2021-08-06T20:01:48.271Z"
   },
   {
    "duration": 4,
    "start_time": "2021-08-06T20:01:48.281Z"
   },
   {
    "duration": 3846,
    "start_time": "2021-08-06T20:01:48.288Z"
   },
   {
    "duration": 5,
    "start_time": "2021-08-06T20:01:52.137Z"
   },
   {
    "duration": 23,
    "start_time": "2021-08-06T20:01:52.144Z"
   },
   {
    "duration": 9403,
    "start_time": "2021-08-06T20:01:52.169Z"
   },
   {
    "duration": 6,
    "start_time": "2021-08-06T20:02:01.574Z"
   },
   {
    "duration": 364,
    "start_time": "2021-08-06T20:02:01.583Z"
   },
   {
    "duration": 30,
    "start_time": "2021-08-06T20:02:01.949Z"
   },
   {
    "duration": 297,
    "start_time": "2021-08-06T20:02:01.981Z"
   },
   {
    "duration": 15,
    "start_time": "2021-08-06T20:02:02.280Z"
   },
   {
    "duration": 373,
    "start_time": "2021-08-06T20:02:02.297Z"
   },
   {
    "duration": 12,
    "start_time": "2021-08-06T20:02:02.672Z"
   },
   {
    "duration": 338,
    "start_time": "2021-08-06T20:02:02.687Z"
   },
   {
    "duration": 11,
    "start_time": "2021-08-06T20:02:03.027Z"
   },
   {
    "duration": 34,
    "start_time": "2021-08-06T20:02:03.041Z"
   },
   {
    "duration": 1272,
    "start_time": "2021-08-06T20:02:03.077Z"
   },
   {
    "duration": 346,
    "start_time": "2021-08-06T20:02:04.351Z"
   },
   {
    "duration": 11,
    "start_time": "2021-08-06T20:02:04.699Z"
   },
   {
    "duration": 233,
    "start_time": "2021-08-06T20:02:04.712Z"
   },
   {
    "duration": 20,
    "start_time": "2021-08-06T20:02:04.947Z"
   },
   {
    "duration": 7,
    "start_time": "2021-08-06T20:02:04.969Z"
   },
   {
    "duration": 338,
    "start_time": "2021-08-06T20:02:04.978Z"
   },
   {
    "duration": 12,
    "start_time": "2021-08-06T20:02:05.318Z"
   },
   {
    "duration": 37,
    "start_time": "2021-08-06T20:02:05.332Z"
   },
   {
    "duration": 5,
    "start_time": "2021-08-06T20:02:05.371Z"
   },
   {
    "duration": 7,
    "start_time": "2021-08-06T20:02:05.378Z"
   },
   {
    "duration": 6,
    "start_time": "2021-08-06T20:02:05.387Z"
   },
   {
    "duration": 275,
    "start_time": "2021-08-06T20:02:05.395Z"
   },
   {
    "duration": 276,
    "start_time": "2021-08-06T20:02:05.672Z"
   },
   {
    "duration": 6,
    "start_time": "2021-08-06T20:02:05.950Z"
   },
   {
    "duration": 325,
    "start_time": "2021-08-06T20:02:05.966Z"
   },
   {
    "duration": 264,
    "start_time": "2021-08-06T20:02:06.294Z"
   },
   {
    "duration": 7,
    "start_time": "2021-08-06T20:02:06.560Z"
   },
   {
    "duration": 26,
    "start_time": "2021-08-06T20:02:06.569Z"
   },
   {
    "duration": 284,
    "start_time": "2021-08-06T20:02:06.598Z"
   },
   {
    "duration": 10,
    "start_time": "2021-08-06T20:02:06.890Z"
   },
   {
    "duration": 24,
    "start_time": "2021-08-06T20:02:06.903Z"
   },
   {
    "duration": 14,
    "start_time": "2021-08-06T20:02:06.929Z"
   },
   {
    "duration": 663,
    "start_time": "2021-08-06T20:02:06.945Z"
   },
   {
    "duration": 35,
    "start_time": "2021-08-06T20:02:07.610Z"
   },
   {
    "duration": 25,
    "start_time": "2021-08-06T20:02:07.647Z"
   },
   {
    "duration": 2393,
    "start_time": "2021-08-06T20:02:07.674Z"
   },
   {
    "duration": 5,
    "start_time": "2021-08-06T20:02:10.070Z"
   },
   {
    "duration": 269,
    "start_time": "2021-08-06T20:02:10.077Z"
   },
   {
    "duration": 6,
    "start_time": "2021-08-06T20:02:10.348Z"
   },
   {
    "duration": 323,
    "start_time": "2021-08-06T20:02:10.356Z"
   },
   {
    "duration": 275,
    "start_time": "2021-08-06T20:02:10.682Z"
   },
   {
    "duration": 253,
    "start_time": "2021-08-06T20:02:10.967Z"
   },
   {
    "duration": 383,
    "start_time": "2021-08-06T20:02:59.453Z"
   },
   {
    "duration": 14,
    "start_time": "2021-08-06T20:03:12.379Z"
   },
   {
    "duration": 133,
    "start_time": "2021-08-06T20:06:16.548Z"
   },
   {
    "duration": 1431,
    "start_time": "2021-08-27T12:59:37.077Z"
   },
   {
    "duration": 286,
    "start_time": "2021-08-27T12:59:38.511Z"
   },
   {
    "duration": 17,
    "start_time": "2021-08-27T12:59:38.800Z"
   },
   {
    "duration": 75,
    "start_time": "2021-08-27T12:59:38.820Z"
   },
   {
    "duration": 3,
    "start_time": "2021-08-27T12:59:38.897Z"
   },
   {
    "duration": 18,
    "start_time": "2021-08-27T12:59:38.902Z"
   },
   {
    "duration": 74,
    "start_time": "2021-08-27T12:59:38.922Z"
   },
   {
    "duration": 4,
    "start_time": "2021-08-27T12:59:38.999Z"
   },
   {
    "duration": 126,
    "start_time": "2021-08-27T12:59:39.006Z"
   },
   {
    "duration": 57,
    "start_time": "2021-08-27T12:59:39.134Z"
   },
   {
    "duration": 6,
    "start_time": "2021-08-27T12:59:39.193Z"
   },
   {
    "duration": 7,
    "start_time": "2021-08-27T12:59:39.201Z"
   },
   {
    "duration": 125,
    "start_time": "2021-08-27T12:59:39.210Z"
   },
   {
    "duration": 59,
    "start_time": "2021-08-27T12:59:39.337Z"
   },
   {
    "duration": 14,
    "start_time": "2021-08-27T12:59:39.398Z"
   },
   {
    "duration": 6,
    "start_time": "2021-08-27T12:59:39.414Z"
   },
   {
    "duration": 84,
    "start_time": "2021-08-27T12:59:39.422Z"
   },
   {
    "duration": 4,
    "start_time": "2021-08-27T12:59:39.508Z"
   },
   {
    "duration": 89,
    "start_time": "2021-08-27T12:59:39.515Z"
   },
   {
    "duration": 12,
    "start_time": "2021-08-27T12:59:39.607Z"
   },
   {
    "duration": 2,
    "start_time": "2021-08-27T12:59:39.622Z"
   },
   {
    "duration": 66,
    "start_time": "2021-08-27T12:59:39.626Z"
   },
   {
    "duration": 6,
    "start_time": "2021-08-27T12:59:39.696Z"
   },
   {
    "duration": 8,
    "start_time": "2021-08-27T12:59:39.705Z"
   },
   {
    "duration": 175,
    "start_time": "2021-08-27T12:59:39.715Z"
   },
   {
    "duration": 4,
    "start_time": "2021-08-27T12:59:39.893Z"
   },
   {
    "duration": 14,
    "start_time": "2021-08-27T12:59:39.899Z"
   },
   {
    "duration": 24,
    "start_time": "2021-08-27T12:59:39.915Z"
   },
   {
    "duration": 138,
    "start_time": "2021-08-27T12:59:39.992Z"
   },
   {
    "duration": 64,
    "start_time": "2021-08-27T12:59:40.132Z"
   },
   {
    "duration": 7,
    "start_time": "2021-08-27T12:59:40.199Z"
   },
   {
    "duration": 13,
    "start_time": "2021-08-27T12:59:40.208Z"
   },
   {
    "duration": 1308,
    "start_time": "2021-08-27T12:59:40.223Z"
   },
   {
    "duration": 61,
    "start_time": "2021-08-27T12:59:41.533Z"
   },
   {
    "duration": 11,
    "start_time": "2021-08-27T12:59:41.596Z"
   },
   {
    "duration": 7,
    "start_time": "2021-08-27T12:59:41.608Z"
   },
   {
    "duration": 11,
    "start_time": "2021-08-27T12:59:41.617Z"
   },
   {
    "duration": 75,
    "start_time": "2021-08-27T12:59:41.630Z"
   },
   {
    "duration": 16,
    "start_time": "2021-08-27T12:59:41.706Z"
   },
   {
    "duration": 75,
    "start_time": "2021-08-27T12:59:41.724Z"
   },
   {
    "duration": 10,
    "start_time": "2021-08-27T12:59:41.801Z"
   },
   {
    "duration": 6,
    "start_time": "2021-08-27T12:59:41.813Z"
   },
   {
    "duration": 73,
    "start_time": "2021-08-27T12:59:41.821Z"
   },
   {
    "duration": 8,
    "start_time": "2021-08-27T12:59:41.896Z"
   },
   {
    "duration": 9,
    "start_time": "2021-08-27T12:59:41.906Z"
   },
   {
    "duration": 3,
    "start_time": "2021-08-27T12:59:41.917Z"
   },
   {
    "duration": 3969,
    "start_time": "2021-08-27T12:59:41.922Z"
   },
   {
    "duration": 4,
    "start_time": "2021-08-27T12:59:45.894Z"
   },
   {
    "duration": 8,
    "start_time": "2021-08-27T12:59:45.900Z"
   },
   {
    "duration": 9884,
    "start_time": "2021-08-27T12:59:45.910Z"
   },
   {
    "duration": 8,
    "start_time": "2021-08-27T12:59:55.797Z"
   },
   {
    "duration": 599,
    "start_time": "2021-08-27T12:59:55.808Z"
   },
   {
    "duration": 22,
    "start_time": "2021-08-27T12:59:56.410Z"
   },
   {
    "duration": 333,
    "start_time": "2021-08-27T12:59:56.492Z"
   },
   {
    "duration": 67,
    "start_time": "2021-08-27T12:59:56.827Z"
   },
   {
    "duration": 514,
    "start_time": "2021-08-27T12:59:56.896Z"
   },
   {
    "duration": 17,
    "start_time": "2021-08-27T12:59:57.413Z"
   },
   {
    "duration": 702,
    "start_time": "2021-08-27T12:59:57.432Z"
   },
   {
    "duration": 14,
    "start_time": "2021-08-27T12:59:58.192Z"
   },
   {
    "duration": 18,
    "start_time": "2021-08-27T12:59:58.208Z"
   },
   {
    "duration": 1663,
    "start_time": "2021-08-27T12:59:58.229Z"
   },
   {
    "duration": 701,
    "start_time": "2021-08-27T12:59:59.894Z"
   },
   {
    "duration": 10,
    "start_time": "2021-08-27T13:00:00.597Z"
   },
   {
    "duration": 426,
    "start_time": "2021-08-27T13:00:00.609Z"
   },
   {
    "duration": 10,
    "start_time": "2021-08-27T13:00:01.093Z"
   },
   {
    "duration": 17,
    "start_time": "2021-08-27T13:00:01.106Z"
   },
   {
    "duration": 493,
    "start_time": "2021-08-27T13:00:01.125Z"
   },
   {
    "duration": 77,
    "start_time": "2021-08-27T13:00:01.627Z"
   },
   {
    "duration": 10,
    "start_time": "2021-08-27T13:00:01.706Z"
   },
   {
    "duration": 81,
    "start_time": "2021-08-27T13:00:01.718Z"
   },
   {
    "duration": 31,
    "start_time": "2021-08-27T13:00:01.802Z"
   },
   {
    "duration": 58,
    "start_time": "2021-08-27T13:00:01.836Z"
   },
   {
    "duration": 333,
    "start_time": "2021-08-27T13:00:01.896Z"
   },
   {
    "duration": 588,
    "start_time": "2021-08-27T13:00:02.231Z"
   },
   {
    "duration": 5,
    "start_time": "2021-08-27T13:00:02.821Z"
   },
   {
    "duration": 472,
    "start_time": "2021-08-27T13:00:02.828Z"
   },
   {
    "duration": 321,
    "start_time": "2021-08-27T13:00:03.302Z"
   },
   {
    "duration": 6,
    "start_time": "2021-08-27T13:00:03.625Z"
   },
   {
    "duration": 83,
    "start_time": "2021-08-27T13:00:03.633Z"
   },
   {
    "duration": 382,
    "start_time": "2021-08-27T13:00:03.717Z"
   },
   {
    "duration": 12,
    "start_time": "2021-08-27T13:00:04.102Z"
   },
   {
    "duration": 12,
    "start_time": "2021-08-27T13:00:04.117Z"
   },
   {
    "duration": 65,
    "start_time": "2021-08-27T13:00:04.131Z"
   },
   {
    "duration": 911,
    "start_time": "2021-08-27T13:00:04.199Z"
   },
   {
    "duration": 80,
    "start_time": "2021-08-27T13:00:05.113Z"
   },
   {
    "duration": 8,
    "start_time": "2021-08-27T13:00:05.195Z"
   },
   {
    "duration": 3200,
    "start_time": "2021-08-27T13:00:05.205Z"
   },
   {
    "duration": 5,
    "start_time": "2021-08-27T13:00:08.408Z"
   },
   {
    "duration": 501,
    "start_time": "2021-08-27T13:00:08.416Z"
   },
   {
    "duration": 6,
    "start_time": "2021-08-27T13:00:08.919Z"
   },
   {
    "duration": 674,
    "start_time": "2021-08-27T13:00:08.927Z"
   },
   {
    "duration": 388,
    "start_time": "2021-08-27T13:00:09.603Z"
   }
  ],
  "kernelspec": {
   "display_name": "Python 3",
   "language": "python",
   "name": "python3"
  },
  "language_info": {
   "codemirror_mode": {
    "name": "ipython",
    "version": 3
   },
   "file_extension": ".py",
   "mimetype": "text/x-python",
   "name": "python",
   "nbconvert_exporter": "python",
   "pygments_lexer": "ipython3",
   "version": "3.8.8"
  },
  "toc": {
   "base_numbering": 1,
   "nav_menu": {},
   "number_sections": true,
   "sideBar": true,
   "skip_h1_title": true,
   "title_cell": "Содержание",
   "title_sidebar": "Contents",
   "toc_cell": true,
   "toc_position": {
    "height": "calc(100% - 180px)",
    "left": "10px",
    "top": "150px",
    "width": "165px"
   },
   "toc_section_display": true,
   "toc_window_display": true
  }
 },
 "nbformat": 4,
 "nbformat_minor": 2
}

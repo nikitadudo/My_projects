{
 "cells": [
  {
   "cell_type": "markdown",
   "metadata": {},
   "source": [
    "# Проект по SQL"
   ]
  },
  {
   "cell_type": "markdown",
   "metadata": {},
   "source": [
    "Цель исследования: проанализировать базу данных"
   ]
  },
  {
   "cell_type": "markdown",
   "metadata": {},
   "source": [
    "Данные: информация о книгах, издательствах, авторах, а также пользовательские обзоры книг"
   ]
  },
  {
   "cell_type": "markdown",
   "metadata": {},
   "source": [
    "## Подключение к базе данных"
   ]
  },
  {
   "cell_type": "markdown",
   "metadata": {},
   "source": [
    "Импортируем библиотеки"
   ]
  },
  {
   "cell_type": "code",
   "execution_count": 1,
   "metadata": {},
   "outputs": [],
   "source": [
    "import pandas as pd\n",
    "from sqlalchemy import create_engine"
   ]
  },
  {
   "cell_type": "markdown",
   "metadata": {},
   "source": [
    "Зададим параметры подключения к базе данных"
   ]
  },
  {
   "cell_type": "code",
   "execution_count": 2,
   "metadata": {},
   "outputs": [],
   "source": [
    "db_config = {\n",
    "    'user': 'praktikum_student',  # имя пользователя\n",
    "    'pwd': 'Sdf4$2;d-d30pp',  # пароль\n",
    "    'host': 'rc1b-wcoijxj3yxfsf3fs.mdb.yandexcloud.net',  # адрес сервера\n",
    "    'port': 6432,  # порт подключения\n",
    "    'db': 'data-analyst-final-project-db',  # название базы данных}\n",
    "}"
   ]
  },
  {
   "cell_type": "markdown",
   "metadata": {},
   "source": [
    "Создадим подключение"
   ]
  },
  {
   "cell_type": "code",
   "execution_count": 3,
   "metadata": {},
   "outputs": [],
   "source": [
    "connection_string = 'postgresql://{}:{}@{}:{}/{}'.format(\n",
    "    db_config['user'],\n",
    "    db_config['pwd'],\n",
    "    db_config['host'],\n",
    "    db_config['port'],\n",
    "    db_config['db'],\n",
    ")"
   ]
  },
  {
   "cell_type": "code",
   "execution_count": 4,
   "metadata": {},
   "outputs": [],
   "source": [
    "engine = create_engine(connection_string, connect_args={'sslmode':'require'})"
   ]
  },
  {
   "cell_type": "markdown",
   "metadata": {},
   "source": [
    "## Исследуем таблицы"
   ]
  },
  {
   "cell_type": "code",
   "execution_count": 5,
   "metadata": {},
   "outputs": [
    {
     "data": {
      "text/html": [
       "<div>\n",
       "<style scoped>\n",
       "    .dataframe tbody tr th:only-of-type {\n",
       "        vertical-align: middle;\n",
       "    }\n",
       "\n",
       "    .dataframe tbody tr th {\n",
       "        vertical-align: top;\n",
       "    }\n",
       "\n",
       "    .dataframe thead th {\n",
       "        text-align: right;\n",
       "    }\n",
       "</style>\n",
       "<table border=\"1\" class=\"dataframe\">\n",
       "  <thead>\n",
       "    <tr style=\"text-align: right;\">\n",
       "      <th></th>\n",
       "      <th>book_id</th>\n",
       "      <th>author_id</th>\n",
       "      <th>title</th>\n",
       "      <th>num_pages</th>\n",
       "      <th>publication_date</th>\n",
       "      <th>publisher_id</th>\n",
       "    </tr>\n",
       "  </thead>\n",
       "  <tbody>\n",
       "    <tr>\n",
       "      <td>0</td>\n",
       "      <td>1</td>\n",
       "      <td>546</td>\n",
       "      <td>'Salem's Lot</td>\n",
       "      <td>594</td>\n",
       "      <td>2005-11-01</td>\n",
       "      <td>93</td>\n",
       "    </tr>\n",
       "    <tr>\n",
       "      <td>1</td>\n",
       "      <td>2</td>\n",
       "      <td>465</td>\n",
       "      <td>1 000 Places to See Before You Die</td>\n",
       "      <td>992</td>\n",
       "      <td>2003-05-22</td>\n",
       "      <td>336</td>\n",
       "    </tr>\n",
       "    <tr>\n",
       "      <td>2</td>\n",
       "      <td>3</td>\n",
       "      <td>407</td>\n",
       "      <td>13 Little Blue Envelopes (Little Blue Envelope...</td>\n",
       "      <td>322</td>\n",
       "      <td>2010-12-21</td>\n",
       "      <td>135</td>\n",
       "    </tr>\n",
       "    <tr>\n",
       "      <td>3</td>\n",
       "      <td>4</td>\n",
       "      <td>82</td>\n",
       "      <td>1491: New Revelations of the Americas Before C...</td>\n",
       "      <td>541</td>\n",
       "      <td>2006-10-10</td>\n",
       "      <td>309</td>\n",
       "    </tr>\n",
       "    <tr>\n",
       "      <td>4</td>\n",
       "      <td>5</td>\n",
       "      <td>125</td>\n",
       "      <td>1776</td>\n",
       "      <td>386</td>\n",
       "      <td>2006-07-04</td>\n",
       "      <td>268</td>\n",
       "    </tr>\n",
       "  </tbody>\n",
       "</table>\n",
       "</div>"
      ],
      "text/plain": [
       "   book_id  author_id                                              title  \\\n",
       "0        1        546                                       'Salem's Lot   \n",
       "1        2        465                 1 000 Places to See Before You Die   \n",
       "2        3        407  13 Little Blue Envelopes (Little Blue Envelope...   \n",
       "3        4         82  1491: New Revelations of the Americas Before C...   \n",
       "4        5        125                                               1776   \n",
       "\n",
       "   num_pages publication_date  publisher_id  \n",
       "0        594       2005-11-01            93  \n",
       "1        992       2003-05-22           336  \n",
       "2        322       2010-12-21           135  \n",
       "3        541       2006-10-10           309  \n",
       "4        386       2006-07-04           268  "
      ]
     },
     "metadata": {},
     "output_type": "display_data"
    },
    {
     "name": "stdout",
     "output_type": "stream",
     "text": [
      "<class 'pandas.core.frame.DataFrame'>\n",
      "RangeIndex: 1000 entries, 0 to 999\n",
      "Data columns (total 6 columns):\n",
      "book_id             1000 non-null int64\n",
      "author_id           1000 non-null int64\n",
      "title               1000 non-null object\n",
      "num_pages           1000 non-null int64\n",
      "publication_date    1000 non-null object\n",
      "publisher_id        1000 non-null int64\n",
      "dtypes: int64(4), object(2)\n",
      "memory usage: 47.0+ KB\n"
     ]
    }
   ],
   "source": [
    "query = '''\n",
    "SELECT *\n",
    "FROM books\n",
    "'''\n",
    "books = pd.io.sql.read_sql(query, con=engine)\n",
    "display(books.head(5))\n",
    "books.info()"
   ]
  },
  {
   "cell_type": "code",
   "execution_count": 6,
   "metadata": {},
   "outputs": [
    {
     "data": {
      "text/html": [
       "<div>\n",
       "<style scoped>\n",
       "    .dataframe tbody tr th:only-of-type {\n",
       "        vertical-align: middle;\n",
       "    }\n",
       "\n",
       "    .dataframe tbody tr th {\n",
       "        vertical-align: top;\n",
       "    }\n",
       "\n",
       "    .dataframe thead th {\n",
       "        text-align: right;\n",
       "    }\n",
       "</style>\n",
       "<table border=\"1\" class=\"dataframe\">\n",
       "  <thead>\n",
       "    <tr style=\"text-align: right;\">\n",
       "      <th></th>\n",
       "      <th>author_id</th>\n",
       "      <th>author</th>\n",
       "    </tr>\n",
       "  </thead>\n",
       "  <tbody>\n",
       "    <tr>\n",
       "      <td>0</td>\n",
       "      <td>1</td>\n",
       "      <td>A.S. Byatt</td>\n",
       "    </tr>\n",
       "    <tr>\n",
       "      <td>1</td>\n",
       "      <td>2</td>\n",
       "      <td>Aesop/Laura Harris/Laura Gibbs</td>\n",
       "    </tr>\n",
       "    <tr>\n",
       "      <td>2</td>\n",
       "      <td>3</td>\n",
       "      <td>Agatha Christie</td>\n",
       "    </tr>\n",
       "    <tr>\n",
       "      <td>3</td>\n",
       "      <td>4</td>\n",
       "      <td>Alan Brennert</td>\n",
       "    </tr>\n",
       "    <tr>\n",
       "      <td>4</td>\n",
       "      <td>5</td>\n",
       "      <td>Alan Moore/David   Lloyd</td>\n",
       "    </tr>\n",
       "  </tbody>\n",
       "</table>\n",
       "</div>"
      ],
      "text/plain": [
       "   author_id                          author\n",
       "0          1                      A.S. Byatt\n",
       "1          2  Aesop/Laura Harris/Laura Gibbs\n",
       "2          3                 Agatha Christie\n",
       "3          4                   Alan Brennert\n",
       "4          5        Alan Moore/David   Lloyd"
      ]
     },
     "metadata": {},
     "output_type": "display_data"
    },
    {
     "name": "stdout",
     "output_type": "stream",
     "text": [
      "<class 'pandas.core.frame.DataFrame'>\n",
      "RangeIndex: 636 entries, 0 to 635\n",
      "Data columns (total 2 columns):\n",
      "author_id    636 non-null int64\n",
      "author       636 non-null object\n",
      "dtypes: int64(1), object(1)\n",
      "memory usage: 10.1+ KB\n"
     ]
    }
   ],
   "source": [
    "query1 = '''\n",
    "SELECT *\n",
    "FROM authors\n",
    "'''\n",
    "authors = pd.io.sql.read_sql(query1, con=engine)\n",
    "display(authors.head(5))\n",
    "authors.info()"
   ]
  },
  {
   "cell_type": "code",
   "execution_count": 7,
   "metadata": {},
   "outputs": [
    {
     "data": {
      "text/html": [
       "<div>\n",
       "<style scoped>\n",
       "    .dataframe tbody tr th:only-of-type {\n",
       "        vertical-align: middle;\n",
       "    }\n",
       "\n",
       "    .dataframe tbody tr th {\n",
       "        vertical-align: top;\n",
       "    }\n",
       "\n",
       "    .dataframe thead th {\n",
       "        text-align: right;\n",
       "    }\n",
       "</style>\n",
       "<table border=\"1\" class=\"dataframe\">\n",
       "  <thead>\n",
       "    <tr style=\"text-align: right;\">\n",
       "      <th></th>\n",
       "      <th>rating_id</th>\n",
       "      <th>book_id</th>\n",
       "      <th>username</th>\n",
       "      <th>rating</th>\n",
       "    </tr>\n",
       "  </thead>\n",
       "  <tbody>\n",
       "    <tr>\n",
       "      <td>0</td>\n",
       "      <td>1</td>\n",
       "      <td>1</td>\n",
       "      <td>ryanfranco</td>\n",
       "      <td>4</td>\n",
       "    </tr>\n",
       "    <tr>\n",
       "      <td>1</td>\n",
       "      <td>2</td>\n",
       "      <td>1</td>\n",
       "      <td>grantpatricia</td>\n",
       "      <td>2</td>\n",
       "    </tr>\n",
       "    <tr>\n",
       "      <td>2</td>\n",
       "      <td>3</td>\n",
       "      <td>1</td>\n",
       "      <td>brandtandrea</td>\n",
       "      <td>5</td>\n",
       "    </tr>\n",
       "    <tr>\n",
       "      <td>3</td>\n",
       "      <td>4</td>\n",
       "      <td>2</td>\n",
       "      <td>lorichen</td>\n",
       "      <td>3</td>\n",
       "    </tr>\n",
       "    <tr>\n",
       "      <td>4</td>\n",
       "      <td>5</td>\n",
       "      <td>2</td>\n",
       "      <td>mariokeller</td>\n",
       "      <td>2</td>\n",
       "    </tr>\n",
       "  </tbody>\n",
       "</table>\n",
       "</div>"
      ],
      "text/plain": [
       "   rating_id  book_id       username  rating\n",
       "0          1        1     ryanfranco       4\n",
       "1          2        1  grantpatricia       2\n",
       "2          3        1   brandtandrea       5\n",
       "3          4        2       lorichen       3\n",
       "4          5        2    mariokeller       2"
      ]
     },
     "metadata": {},
     "output_type": "display_data"
    },
    {
     "name": "stdout",
     "output_type": "stream",
     "text": [
      "<class 'pandas.core.frame.DataFrame'>\n",
      "RangeIndex: 6456 entries, 0 to 6455\n",
      "Data columns (total 4 columns):\n",
      "rating_id    6456 non-null int64\n",
      "book_id      6456 non-null int64\n",
      "username     6456 non-null object\n",
      "rating       6456 non-null int64\n",
      "dtypes: int64(3), object(1)\n",
      "memory usage: 201.9+ KB\n"
     ]
    }
   ],
   "source": [
    "query2 = '''\n",
    "SELECT *\n",
    "FROM ratings\n",
    "'''\n",
    "ratings = pd.io.sql.read_sql(query2, con=engine)\n",
    "display(ratings.head(5))\n",
    "ratings.info()"
   ]
  },
  {
   "cell_type": "code",
   "execution_count": 8,
   "metadata": {},
   "outputs": [
    {
     "data": {
      "text/html": [
       "<div>\n",
       "<style scoped>\n",
       "    .dataframe tbody tr th:only-of-type {\n",
       "        vertical-align: middle;\n",
       "    }\n",
       "\n",
       "    .dataframe tbody tr th {\n",
       "        vertical-align: top;\n",
       "    }\n",
       "\n",
       "    .dataframe thead th {\n",
       "        text-align: right;\n",
       "    }\n",
       "</style>\n",
       "<table border=\"1\" class=\"dataframe\">\n",
       "  <thead>\n",
       "    <tr style=\"text-align: right;\">\n",
       "      <th></th>\n",
       "      <th>review_id</th>\n",
       "      <th>book_id</th>\n",
       "      <th>username</th>\n",
       "      <th>text</th>\n",
       "    </tr>\n",
       "  </thead>\n",
       "  <tbody>\n",
       "    <tr>\n",
       "      <td>0</td>\n",
       "      <td>1</td>\n",
       "      <td>1</td>\n",
       "      <td>brandtandrea</td>\n",
       "      <td>Mention society tell send professor analysis. ...</td>\n",
       "    </tr>\n",
       "    <tr>\n",
       "      <td>1</td>\n",
       "      <td>2</td>\n",
       "      <td>1</td>\n",
       "      <td>ryanfranco</td>\n",
       "      <td>Foot glass pretty audience hit themselves. Amo...</td>\n",
       "    </tr>\n",
       "    <tr>\n",
       "      <td>2</td>\n",
       "      <td>3</td>\n",
       "      <td>2</td>\n",
       "      <td>lorichen</td>\n",
       "      <td>Listen treat keep worry. Miss husband tax but ...</td>\n",
       "    </tr>\n",
       "    <tr>\n",
       "      <td>3</td>\n",
       "      <td>4</td>\n",
       "      <td>3</td>\n",
       "      <td>johnsonamanda</td>\n",
       "      <td>Finally month interesting blue could nature cu...</td>\n",
       "    </tr>\n",
       "    <tr>\n",
       "      <td>4</td>\n",
       "      <td>5</td>\n",
       "      <td>3</td>\n",
       "      <td>scotttamara</td>\n",
       "      <td>Nation purpose heavy give wait song will. List...</td>\n",
       "    </tr>\n",
       "  </tbody>\n",
       "</table>\n",
       "</div>"
      ],
      "text/plain": [
       "   review_id  book_id       username  \\\n",
       "0          1        1   brandtandrea   \n",
       "1          2        1     ryanfranco   \n",
       "2          3        2       lorichen   \n",
       "3          4        3  johnsonamanda   \n",
       "4          5        3    scotttamara   \n",
       "\n",
       "                                                text  \n",
       "0  Mention society tell send professor analysis. ...  \n",
       "1  Foot glass pretty audience hit themselves. Amo...  \n",
       "2  Listen treat keep worry. Miss husband tax but ...  \n",
       "3  Finally month interesting blue could nature cu...  \n",
       "4  Nation purpose heavy give wait song will. List...  "
      ]
     },
     "metadata": {},
     "output_type": "display_data"
    },
    {
     "name": "stdout",
     "output_type": "stream",
     "text": [
      "<class 'pandas.core.frame.DataFrame'>\n",
      "RangeIndex: 2793 entries, 0 to 2792\n",
      "Data columns (total 4 columns):\n",
      "review_id    2793 non-null int64\n",
      "book_id      2793 non-null int64\n",
      "username     2793 non-null object\n",
      "text         2793 non-null object\n",
      "dtypes: int64(2), object(2)\n",
      "memory usage: 87.4+ KB\n"
     ]
    }
   ],
   "source": [
    "query3 = '''\n",
    "SELECT *\n",
    "FROM reviews\n",
    "'''\n",
    "reviews = pd.io.sql.read_sql(query3, con=engine)\n",
    "display(reviews.head(5))\n",
    "reviews.info()"
   ]
  },
  {
   "cell_type": "code",
   "execution_count": 9,
   "metadata": {},
   "outputs": [
    {
     "data": {
      "text/html": [
       "<div>\n",
       "<style scoped>\n",
       "    .dataframe tbody tr th:only-of-type {\n",
       "        vertical-align: middle;\n",
       "    }\n",
       "\n",
       "    .dataframe tbody tr th {\n",
       "        vertical-align: top;\n",
       "    }\n",
       "\n",
       "    .dataframe thead th {\n",
       "        text-align: right;\n",
       "    }\n",
       "</style>\n",
       "<table border=\"1\" class=\"dataframe\">\n",
       "  <thead>\n",
       "    <tr style=\"text-align: right;\">\n",
       "      <th></th>\n",
       "      <th>publisher_id</th>\n",
       "      <th>publisher</th>\n",
       "    </tr>\n",
       "  </thead>\n",
       "  <tbody>\n",
       "    <tr>\n",
       "      <td>0</td>\n",
       "      <td>1</td>\n",
       "      <td>Ace</td>\n",
       "    </tr>\n",
       "    <tr>\n",
       "      <td>1</td>\n",
       "      <td>2</td>\n",
       "      <td>Ace Book</td>\n",
       "    </tr>\n",
       "    <tr>\n",
       "      <td>2</td>\n",
       "      <td>3</td>\n",
       "      <td>Ace Books</td>\n",
       "    </tr>\n",
       "    <tr>\n",
       "      <td>3</td>\n",
       "      <td>4</td>\n",
       "      <td>Ace Hardcover</td>\n",
       "    </tr>\n",
       "    <tr>\n",
       "      <td>4</td>\n",
       "      <td>5</td>\n",
       "      <td>Addison Wesley Publishing Company</td>\n",
       "    </tr>\n",
       "  </tbody>\n",
       "</table>\n",
       "</div>"
      ],
      "text/plain": [
       "   publisher_id                          publisher\n",
       "0             1                                Ace\n",
       "1             2                           Ace Book\n",
       "2             3                          Ace Books\n",
       "3             4                      Ace Hardcover\n",
       "4             5  Addison Wesley Publishing Company"
      ]
     },
     "metadata": {},
     "output_type": "display_data"
    },
    {
     "name": "stdout",
     "output_type": "stream",
     "text": [
      "<class 'pandas.core.frame.DataFrame'>\n",
      "RangeIndex: 340 entries, 0 to 339\n",
      "Data columns (total 2 columns):\n",
      "publisher_id    340 non-null int64\n",
      "publisher       340 non-null object\n",
      "dtypes: int64(1), object(1)\n",
      "memory usage: 5.4+ KB\n"
     ]
    }
   ],
   "source": [
    "query4 = '''\n",
    "SELECT *\n",
    "FROM publishers\n",
    "'''\n",
    "publishers = pd.io.sql.read_sql(query4, con=engine)\n",
    "display(publishers.head(5))\n",
    "publishers.info()"
   ]
  },
  {
   "cell_type": "markdown",
   "metadata": {},
   "source": [
    "Заметим, что все данные в верном типе."
   ]
  },
  {
   "cell_type": "markdown",
   "metadata": {},
   "source": [
    "## Посчитаем, сколько книг вышло после 1 января 2000 года"
   ]
  },
  {
   "cell_type": "code",
   "execution_count": 10,
   "metadata": {},
   "outputs": [
    {
     "data": {
      "text/html": [
       "<div>\n",
       "<style scoped>\n",
       "    .dataframe tbody tr th:only-of-type {\n",
       "        vertical-align: middle;\n",
       "    }\n",
       "\n",
       "    .dataframe tbody tr th {\n",
       "        vertical-align: top;\n",
       "    }\n",
       "\n",
       "    .dataframe thead th {\n",
       "        text-align: right;\n",
       "    }\n",
       "</style>\n",
       "<table border=\"1\" class=\"dataframe\">\n",
       "  <thead>\n",
       "    <tr style=\"text-align: right;\">\n",
       "      <th></th>\n",
       "      <th>Количество</th>\n",
       "    </tr>\n",
       "  </thead>\n",
       "  <tbody>\n",
       "    <tr>\n",
       "      <td>0</td>\n",
       "      <td>819</td>\n",
       "    </tr>\n",
       "  </tbody>\n",
       "</table>\n",
       "</div>"
      ],
      "text/plain": [
       "   Количество\n",
       "0         819"
      ]
     },
     "execution_count": 10,
     "metadata": {},
     "output_type": "execute_result"
    }
   ],
   "source": [
    "query_1 = '''\n",
    "SELECT count(book_id) as Количество\n",
    "FROM books\n",
    "where publication_date > '2000-01-01'\n",
    "'''\n",
    "pd.io.sql.read_sql(query_1, con=engine)"
   ]
  },
  {
   "cell_type": "markdown",
   "metadata": {},
   "source": [
    "После 1 января 2000 года было выпущено 819 книг"
   ]
  },
  {
   "cell_type": "markdown",
   "metadata": {},
   "source": [
    "## Для каждой книги посчитаем количество обзоров и среднюю оценку и выведем книги с наибольшим количеством обзоров"
   ]
  },
  {
   "cell_type": "code",
   "execution_count": 11,
   "metadata": {},
   "outputs": [
    {
     "data": {
      "text/html": [
       "<div>\n",
       "<style scoped>\n",
       "    .dataframe tbody tr th:only-of-type {\n",
       "        vertical-align: middle;\n",
       "    }\n",
       "\n",
       "    .dataframe tbody tr th {\n",
       "        vertical-align: top;\n",
       "    }\n",
       "\n",
       "    .dataframe thead th {\n",
       "        text-align: right;\n",
       "    }\n",
       "</style>\n",
       "<table border=\"1\" class=\"dataframe\">\n",
       "  <thead>\n",
       "    <tr style=\"text-align: right;\">\n",
       "      <th></th>\n",
       "      <th>title</th>\n",
       "      <th>count_reviews</th>\n",
       "      <th>avg_rating</th>\n",
       "    </tr>\n",
       "  </thead>\n",
       "  <tbody>\n",
       "    <tr>\n",
       "      <td>0</td>\n",
       "      <td>Twilight (Twilight  #1)</td>\n",
       "      <td>7</td>\n",
       "      <td>3.66</td>\n",
       "    </tr>\n",
       "    <tr>\n",
       "      <td>1</td>\n",
       "      <td>The Road</td>\n",
       "      <td>6</td>\n",
       "      <td>3.77</td>\n",
       "    </tr>\n",
       "    <tr>\n",
       "      <td>2</td>\n",
       "      <td>The Curious Incident of the Dog in the Night-Time</td>\n",
       "      <td>6</td>\n",
       "      <td>4.08</td>\n",
       "    </tr>\n",
       "    <tr>\n",
       "      <td>3</td>\n",
       "      <td>The Alchemist</td>\n",
       "      <td>6</td>\n",
       "      <td>3.79</td>\n",
       "    </tr>\n",
       "    <tr>\n",
       "      <td>4</td>\n",
       "      <td>Outlander (Outlander  #1)</td>\n",
       "      <td>6</td>\n",
       "      <td>4.13</td>\n",
       "    </tr>\n",
       "    <tr>\n",
       "      <td>5</td>\n",
       "      <td>The Lightning Thief (Percy Jackson and the Oly...</td>\n",
       "      <td>6</td>\n",
       "      <td>4.08</td>\n",
       "    </tr>\n",
       "    <tr>\n",
       "      <td>6</td>\n",
       "      <td>The Book Thief</td>\n",
       "      <td>6</td>\n",
       "      <td>4.26</td>\n",
       "    </tr>\n",
       "    <tr>\n",
       "      <td>7</td>\n",
       "      <td>The Catcher in the Rye</td>\n",
       "      <td>6</td>\n",
       "      <td>3.83</td>\n",
       "    </tr>\n",
       "    <tr>\n",
       "      <td>8</td>\n",
       "      <td>The Glass Castle</td>\n",
       "      <td>6</td>\n",
       "      <td>4.21</td>\n",
       "    </tr>\n",
       "    <tr>\n",
       "      <td>9</td>\n",
       "      <td>The Hobbit  or There and Back Again</td>\n",
       "      <td>6</td>\n",
       "      <td>4.13</td>\n",
       "    </tr>\n",
       "  </tbody>\n",
       "</table>\n",
       "</div>"
      ],
      "text/plain": [
       "                                               title  count_reviews  \\\n",
       "0                            Twilight (Twilight  #1)              7   \n",
       "1                                           The Road              6   \n",
       "2  The Curious Incident of the Dog in the Night-Time              6   \n",
       "3                                      The Alchemist              6   \n",
       "4                          Outlander (Outlander  #1)              6   \n",
       "5  The Lightning Thief (Percy Jackson and the Oly...              6   \n",
       "6                                     The Book Thief              6   \n",
       "7                             The Catcher in the Rye              6   \n",
       "8                                   The Glass Castle              6   \n",
       "9                The Hobbit  or There and Back Again              6   \n",
       "\n",
       "   avg_rating  \n",
       "0        3.66  \n",
       "1        3.77  \n",
       "2        4.08  \n",
       "3        3.79  \n",
       "4        4.13  \n",
       "5        4.08  \n",
       "6        4.26  \n",
       "7        3.83  \n",
       "8        4.21  \n",
       "9        4.13  "
      ]
     },
     "execution_count": 11,
     "metadata": {},
     "output_type": "execute_result"
    }
   ],
   "source": [
    "query_2 = '''\n",
    "select title, count_reviews, round(avg(rating), 2) as avg_rating\n",
    "from ratings\n",
    "    right join (\n",
    "        SELECT book_id, title, count(review_id) as count_reviews\n",
    "        FROM books\n",
    "            left join reviews using (book_id)\n",
    "        group by book_id, title) as q1 using(book_id)\n",
    "group by title, count_reviews\n",
    "order by count_reviews desc\n",
    "limit 10\n",
    "'''\n",
    "pd.io.sql.read_sql(query_2, con=engine)"
   ]
  },
  {
   "cell_type": "markdown",
   "metadata": {},
   "source": [
    "Больше всего обзоров у книги Twilight - 7, далее идут The Road, The Curious Incident of the Dog in the Night-Time, The Alchemist и другие с 6 обзорами "
   ]
  },
  {
   "cell_type": "markdown",
   "metadata": {},
   "source": [
    "## Определим издательство, которое выпустило наибольшее число книг толще 50 страниц — так мы исключим из анализа брошюры"
   ]
  },
  {
   "cell_type": "code",
   "execution_count": 12,
   "metadata": {},
   "outputs": [
    {
     "data": {
      "text/html": [
       "<div>\n",
       "<style scoped>\n",
       "    .dataframe tbody tr th:only-of-type {\n",
       "        vertical-align: middle;\n",
       "    }\n",
       "\n",
       "    .dataframe tbody tr th {\n",
       "        vertical-align: top;\n",
       "    }\n",
       "\n",
       "    .dataframe thead th {\n",
       "        text-align: right;\n",
       "    }\n",
       "</style>\n",
       "<table border=\"1\" class=\"dataframe\">\n",
       "  <thead>\n",
       "    <tr style=\"text-align: right;\">\n",
       "      <th></th>\n",
       "      <th>publisher</th>\n",
       "      <th>count_book</th>\n",
       "    </tr>\n",
       "  </thead>\n",
       "  <tbody>\n",
       "    <tr>\n",
       "      <td>0</td>\n",
       "      <td>Penguin Books</td>\n",
       "      <td>42</td>\n",
       "    </tr>\n",
       "  </tbody>\n",
       "</table>\n",
       "</div>"
      ],
      "text/plain": [
       "       publisher  count_book\n",
       "0  Penguin Books          42"
      ]
     },
     "execution_count": 12,
     "metadata": {},
     "output_type": "execute_result"
    }
   ],
   "source": [
    "query_3 = '''\n",
    "select publisher, count(book_id) as count_book\n",
    "from books\n",
    "    inner join publishers using (publisher_id)\n",
    "group by publisher\n",
    "having count(book_id)  = (\n",
    "            select count(book_id) as cnt\n",
    "            from books\n",
    "                inner join publishers using (publisher_id)\n",
    "            where num_pages > 50\n",
    "            group by publisher\n",
    "            order by cnt desc\n",
    "            limit 1\n",
    "            )\n",
    "'''\n",
    "pd.io.sql.read_sql(query_3, con=engine)"
   ]
  },
  {
   "cell_type": "markdown",
   "metadata": {},
   "source": [
    "Больше всего книг выпустило издательство Penguin Books"
   ]
  },
  {
   "cell_type": "markdown",
   "metadata": {},
   "source": [
    "## Определим автора с самой высокой средней оценкой книг — учитываем только книги с 50 и более оценками"
   ]
  },
  {
   "cell_type": "code",
   "execution_count": 13,
   "metadata": {},
   "outputs": [
    {
     "data": {
      "text/html": [
       "<div>\n",
       "<style scoped>\n",
       "    .dataframe tbody tr th:only-of-type {\n",
       "        vertical-align: middle;\n",
       "    }\n",
       "\n",
       "    .dataframe tbody tr th {\n",
       "        vertical-align: top;\n",
       "    }\n",
       "\n",
       "    .dataframe thead th {\n",
       "        text-align: right;\n",
       "    }\n",
       "</style>\n",
       "<table border=\"1\" class=\"dataframe\">\n",
       "  <thead>\n",
       "    <tr style=\"text-align: right;\">\n",
       "      <th></th>\n",
       "      <th>author</th>\n",
       "      <th>avg_rating</th>\n",
       "    </tr>\n",
       "  </thead>\n",
       "  <tbody>\n",
       "    <tr>\n",
       "      <td>0</td>\n",
       "      <td>J.K. Rowling/Mary GrandPré</td>\n",
       "      <td>4.29</td>\n",
       "    </tr>\n",
       "    <tr>\n",
       "      <td>1</td>\n",
       "      <td>Markus Zusak/Cao Xuân Việt Khương</td>\n",
       "      <td>4.26</td>\n",
       "    </tr>\n",
       "    <tr>\n",
       "      <td>2</td>\n",
       "      <td>J.R.R. Tolkien</td>\n",
       "      <td>4.25</td>\n",
       "    </tr>\n",
       "    <tr>\n",
       "      <td>3</td>\n",
       "      <td>Louisa May Alcott</td>\n",
       "      <td>4.19</td>\n",
       "    </tr>\n",
       "    <tr>\n",
       "      <td>4</td>\n",
       "      <td>Rick Riordan</td>\n",
       "      <td>4.08</td>\n",
       "    </tr>\n",
       "    <tr>\n",
       "      <td>5</td>\n",
       "      <td>William Golding</td>\n",
       "      <td>3.90</td>\n",
       "    </tr>\n",
       "    <tr>\n",
       "      <td>6</td>\n",
       "      <td>J.D. Salinger</td>\n",
       "      <td>3.83</td>\n",
       "    </tr>\n",
       "    <tr>\n",
       "      <td>7</td>\n",
       "      <td>Paulo Coelho/Alan R. Clarke/Özdemir İnce</td>\n",
       "      <td>3.79</td>\n",
       "    </tr>\n",
       "    <tr>\n",
       "      <td>8</td>\n",
       "      <td>William Shakespeare/Paul Werstine/Barbara A. M...</td>\n",
       "      <td>3.79</td>\n",
       "    </tr>\n",
       "    <tr>\n",
       "      <td>9</td>\n",
       "      <td>Lois Lowry</td>\n",
       "      <td>3.75</td>\n",
       "    </tr>\n",
       "    <tr>\n",
       "      <td>10</td>\n",
       "      <td>Dan Brown</td>\n",
       "      <td>3.74</td>\n",
       "    </tr>\n",
       "    <tr>\n",
       "      <td>11</td>\n",
       "      <td>George Orwell/Boris Grabnar/Peter Škerl</td>\n",
       "      <td>3.73</td>\n",
       "    </tr>\n",
       "    <tr>\n",
       "      <td>12</td>\n",
       "      <td>Stephenie Meyer</td>\n",
       "      <td>3.66</td>\n",
       "    </tr>\n",
       "    <tr>\n",
       "      <td>13</td>\n",
       "      <td>John Steinbeck</td>\n",
       "      <td>3.62</td>\n",
       "    </tr>\n",
       "  </tbody>\n",
       "</table>\n",
       "</div>"
      ],
      "text/plain": [
       "                                               author  avg_rating\n",
       "0                          J.K. Rowling/Mary GrandPré        4.29\n",
       "1                   Markus Zusak/Cao Xuân Việt Khương        4.26\n",
       "2                                      J.R.R. Tolkien        4.25\n",
       "3                                   Louisa May Alcott        4.19\n",
       "4                                        Rick Riordan        4.08\n",
       "5                                     William Golding        3.90\n",
       "6                                       J.D. Salinger        3.83\n",
       "7            Paulo Coelho/Alan R. Clarke/Özdemir İnce        3.79\n",
       "8   William Shakespeare/Paul Werstine/Barbara A. M...        3.79\n",
       "9                                          Lois Lowry        3.75\n",
       "10                                          Dan Brown        3.74\n",
       "11            George Orwell/Boris Grabnar/Peter Škerl        3.73\n",
       "12                                    Stephenie Meyer        3.66\n",
       "13                                     John Steinbeck        3.62"
      ]
     },
     "execution_count": 13,
     "metadata": {},
     "output_type": "execute_result"
    }
   ],
   "source": [
    "query_4 = '''\n",
    "select author, round(avg(rating), 2) as avg_rating\n",
    "from books\n",
    "    inner join ratings using (book_id)\n",
    "    inner join authors using (author_id)\n",
    "where book_id in (\n",
    "            select book_id\n",
    "            from books\n",
    "                inner join ratings using (book_id)\n",
    "            group by book_id\n",
    "            having count(rating_id) >= 50\n",
    "            )\n",
    "group by author\n",
    "order by avg(rating) desc\n",
    "'''\n",
    "pd.io.sql.read_sql(query_4, con=engine)"
   ]
  },
  {
   "cell_type": "markdown",
   "metadata": {},
   "source": [
    "Самая высокая средняя оценка у автора J.K. Rowling/Mary GrandPré"
   ]
  },
  {
   "cell_type": "markdown",
   "metadata": {},
   "source": [
    "## Посчитаем среднее количество обзоров от пользователей, которые поставили больше 50 оценок"
   ]
  },
  {
   "cell_type": "code",
   "execution_count": 14,
   "metadata": {},
   "outputs": [
    {
     "data": {
      "text/html": [
       "<div>\n",
       "<style scoped>\n",
       "    .dataframe tbody tr th:only-of-type {\n",
       "        vertical-align: middle;\n",
       "    }\n",
       "\n",
       "    .dataframe tbody tr th {\n",
       "        vertical-align: top;\n",
       "    }\n",
       "\n",
       "    .dataframe thead th {\n",
       "        text-align: right;\n",
       "    }\n",
       "</style>\n",
       "<table border=\"1\" class=\"dataframe\">\n",
       "  <thead>\n",
       "    <tr style=\"text-align: right;\">\n",
       "      <th></th>\n",
       "      <th>Среднее</th>\n",
       "    </tr>\n",
       "  </thead>\n",
       "  <tbody>\n",
       "    <tr>\n",
       "      <td>0</td>\n",
       "      <td>24.33</td>\n",
       "    </tr>\n",
       "  </tbody>\n",
       "</table>\n",
       "</div>"
      ],
      "text/plain": [
       "   Среднее\n",
       "0    24.33"
      ]
     },
     "execution_count": 14,
     "metadata": {},
     "output_type": "execute_result"
    }
   ],
   "source": [
    "query_5 = '''\n",
    "select round(avg(cnt), 2) as Среднее\n",
    "from (\n",
    "            select username, count(review_id) as cnt\n",
    "            from reviews\n",
    "                inner join (\n",
    "                        select username\n",
    "                        from ratings\n",
    "                        group by username\n",
    "                        having count(rating) > 50) as q1 using (username)\n",
    "            group by username) as q2\n",
    "'''\n",
    "pd.io.sql.read_sql(query_5, con=engine)"
   ]
  },
  {
   "cell_type": "markdown",
   "metadata": {},
   "source": [
    "У пользователей, которые поставили больше 50 оценок среднее количество обзоров равняется 24.33"
   ]
  },
  {
   "cell_type": "markdown",
   "metadata": {},
   "source": [
    "## Вывод"
   ]
  },
  {
   "cell_type": "markdown",
   "metadata": {},
   "source": [
    "После 1 января 2000 года было выпущено 819 книг. Больше всего обзоров с большим отрывом у книги Twilight - 1120, далее идут The Hobbit or There and Back Again и The Catcher in the Rye с чуть более 500 обзорами. Больше всего книг выпустило издательство Penguin Books. Самая высокая средняя оценка у автора J.K. Rowling/Mary GrandPré. У пользователей, которые поставили больше 50 оценок среднее количество обзоров равняется 24.33"
   ]
  }
 ],
 "metadata": {
  "ExecuteTimeLog": [
   {
    "duration": 570,
    "start_time": "2022-01-11T20:36:36.790Z"
   },
   {
    "duration": 3,
    "start_time": "2022-01-11T20:37:24.007Z"
   },
   {
    "duration": 2,
    "start_time": "2022-01-11T20:37:57.924Z"
   },
   {
    "duration": 411,
    "start_time": "2022-01-11T20:37:59.673Z"
   },
   {
    "duration": 416,
    "start_time": "2022-01-11T20:38:12.117Z"
   },
   {
    "duration": 77,
    "start_time": "2022-01-11T20:38:24.897Z"
   },
   {
    "duration": 124,
    "start_time": "2022-01-11T20:39:55.991Z"
   },
   {
    "duration": 80,
    "start_time": "2022-01-11T20:42:48.373Z"
   },
   {
    "duration": 86,
    "start_time": "2022-01-11T20:44:05.010Z"
   },
   {
    "duration": 83,
    "start_time": "2022-01-11T20:45:15.982Z"
   },
   {
    "duration": 650,
    "start_time": "2022-01-11T20:48:52.942Z"
   },
   {
    "duration": 4,
    "start_time": "2022-01-11T20:48:53.594Z"
   },
   {
    "duration": 18,
    "start_time": "2022-01-11T20:48:53.599Z"
   },
   {
    "duration": 31,
    "start_time": "2022-01-11T20:48:53.619Z"
   },
   {
    "duration": 284,
    "start_time": "2022-01-11T20:48:53.652Z"
   },
   {
    "duration": 114,
    "start_time": "2022-01-11T20:48:53.938Z"
   },
   {
    "duration": 80,
    "start_time": "2022-01-11T20:48:54.054Z"
   },
   {
    "duration": 83,
    "start_time": "2022-01-11T20:48:54.136Z"
   },
   {
    "duration": 79,
    "start_time": "2022-01-11T20:48:54.221Z"
   },
   {
    "duration": 109,
    "start_time": "2022-01-11T20:50:30.643Z"
   },
   {
    "duration": 105,
    "start_time": "2022-01-11T20:50:46.702Z"
   },
   {
    "duration": 104,
    "start_time": "2022-01-11T20:51:06.220Z"
   },
   {
    "duration": 98,
    "start_time": "2022-01-11T20:51:22.371Z"
   },
   {
    "duration": 13,
    "start_time": "2022-01-11T20:51:52.413Z"
   },
   {
    "duration": 108,
    "start_time": "2022-01-11T20:52:34.066Z"
   },
   {
    "duration": 108,
    "start_time": "2022-01-11T20:53:17.563Z"
   },
   {
    "duration": 108,
    "start_time": "2022-01-11T20:53:26.375Z"
   },
   {
    "duration": 93,
    "start_time": "2022-01-11T20:53:37.491Z"
   },
   {
    "duration": 142,
    "start_time": "2022-01-11T20:54:15.337Z"
   },
   {
    "duration": 131,
    "start_time": "2022-01-11T20:54:56.953Z"
   },
   {
    "duration": 83,
    "start_time": "2022-01-11T20:55:32.078Z"
   },
   {
    "duration": 676,
    "start_time": "2022-01-11T20:57:04.522Z"
   },
   {
    "duration": 3,
    "start_time": "2022-01-11T20:57:05.200Z"
   },
   {
    "duration": 29,
    "start_time": "2022-01-11T20:57:05.205Z"
   },
   {
    "duration": 60,
    "start_time": "2022-01-11T20:57:05.235Z"
   },
   {
    "duration": 306,
    "start_time": "2022-01-11T20:57:05.297Z"
   },
   {
    "duration": 77,
    "start_time": "2022-01-11T20:57:05.605Z"
   },
   {
    "duration": 98,
    "start_time": "2022-01-11T20:57:05.684Z"
   },
   {
    "duration": 92,
    "start_time": "2022-01-11T20:57:05.784Z"
   },
   {
    "duration": 77,
    "start_time": "2022-01-11T20:57:05.878Z"
   },
   {
    "duration": 81,
    "start_time": "2022-01-11T20:57:05.956Z"
   },
   {
    "duration": 91,
    "start_time": "2022-01-11T20:57:06.038Z"
   },
   {
    "duration": 85,
    "start_time": "2022-01-11T20:57:06.131Z"
   },
   {
    "duration": 79,
    "start_time": "2022-01-11T20:57:06.217Z"
   },
   {
    "duration": 78,
    "start_time": "2022-01-11T20:57:06.297Z"
   },
   {
    "duration": 517,
    "start_time": "2022-01-12T16:05:34.147Z"
   },
   {
    "duration": 2,
    "start_time": "2022-01-12T16:05:34.666Z"
   },
   {
    "duration": 6,
    "start_time": "2022-01-12T16:05:34.670Z"
   },
   {
    "duration": 33,
    "start_time": "2022-01-12T16:05:34.678Z"
   },
   {
    "duration": 98,
    "start_time": "2022-01-12T16:05:34.712Z"
   },
   {
    "duration": 21,
    "start_time": "2022-01-12T16:05:34.812Z"
   },
   {
    "duration": 40,
    "start_time": "2022-01-12T16:05:34.835Z"
   },
   {
    "duration": 29,
    "start_time": "2022-01-12T16:05:34.877Z"
   },
   {
    "duration": 20,
    "start_time": "2022-01-12T16:05:34.908Z"
   },
   {
    "duration": 32,
    "start_time": "2022-01-12T16:05:34.930Z"
   },
   {
    "duration": 39,
    "start_time": "2022-01-12T16:05:34.964Z"
   },
   {
    "duration": 55,
    "start_time": "2022-01-12T16:05:35.005Z"
   },
   {
    "duration": 20,
    "start_time": "2022-01-12T16:05:35.062Z"
   },
   {
    "duration": 15,
    "start_time": "2022-01-12T16:05:35.084Z"
   },
   {
    "duration": 49,
    "start_time": "2022-01-12T16:06:32.659Z"
   },
   {
    "duration": 21,
    "start_time": "2022-01-12T16:07:23.949Z"
   },
   {
    "duration": 21,
    "start_time": "2022-01-12T16:07:30.468Z"
   },
   {
    "duration": 777,
    "start_time": "2022-01-12T16:36:16.010Z"
   },
   {
    "duration": 3,
    "start_time": "2022-01-12T16:36:16.789Z"
   },
   {
    "duration": 5,
    "start_time": "2022-01-12T16:36:16.794Z"
   },
   {
    "duration": 560,
    "start_time": "2022-01-12T16:36:16.801Z"
   },
   {
    "duration": 413,
    "start_time": "2022-01-12T16:36:28.087Z"
   },
   {
    "duration": 83,
    "start_time": "2022-01-12T16:36:28.501Z"
   },
   {
    "duration": 117,
    "start_time": "2022-01-12T16:36:28.586Z"
   },
   {
    "duration": 88,
    "start_time": "2022-01-12T16:36:28.704Z"
   },
   {
    "duration": 77,
    "start_time": "2022-01-12T16:36:28.794Z"
   },
   {
    "duration": 70,
    "start_time": "2022-01-12T16:36:28.872Z"
   },
   {
    "duration": 140,
    "start_time": "2022-01-12T16:36:28.943Z"
   },
   {
    "duration": 75,
    "start_time": "2022-01-12T16:36:42.012Z"
   },
   {
    "duration": 107,
    "start_time": "2022-01-12T16:37:52.199Z"
   },
   {
    "duration": 459,
    "start_time": "2022-01-12T16:39:21.044Z"
   },
   {
    "duration": 155,
    "start_time": "2022-01-12T16:39:56.687Z"
   },
   {
    "duration": 82,
    "start_time": "2022-01-12T16:40:11.343Z"
   },
   {
    "duration": 145,
    "start_time": "2022-01-12T16:42:44.820Z"
   },
   {
    "duration": 342,
    "start_time": "2022-01-12T16:43:32.983Z"
   },
   {
    "duration": 151,
    "start_time": "2022-01-12T16:43:46.168Z"
   },
   {
    "duration": 100,
    "start_time": "2022-01-12T16:44:44.521Z"
   },
   {
    "duration": 145,
    "start_time": "2022-01-12T16:44:53.965Z"
   },
   {
    "duration": 98,
    "start_time": "2022-01-12T16:48:04.038Z"
   },
   {
    "duration": 141,
    "start_time": "2022-01-12T16:49:59.028Z"
   },
   {
    "duration": 283,
    "start_time": "2022-01-12T16:51:46.052Z"
   },
   {
    "duration": 115,
    "start_time": "2022-01-12T16:52:30.566Z"
   },
   {
    "duration": 110,
    "start_time": "2022-01-12T16:52:53.514Z"
   },
   {
    "duration": 102,
    "start_time": "2022-01-12T16:54:21.594Z"
   },
   {
    "duration": 106,
    "start_time": "2022-01-12T16:54:40.711Z"
   },
   {
    "duration": 88,
    "start_time": "2022-01-12T16:55:02.106Z"
   },
   {
    "duration": 354,
    "start_time": "2022-01-12T16:57:27.227Z"
   },
   {
    "duration": 77,
    "start_time": "2022-01-12T16:57:36.880Z"
   },
   {
    "duration": 80,
    "start_time": "2022-01-12T16:57:57.738Z"
   },
   {
    "duration": 375,
    "start_time": "2022-01-12T16:59:08.280Z"
   },
   {
    "duration": 111,
    "start_time": "2022-01-12T16:59:40.568Z"
   },
   {
    "duration": 106,
    "start_time": "2022-01-12T16:59:53.916Z"
   },
   {
    "duration": 111,
    "start_time": "2022-01-12T17:00:00.424Z"
   },
   {
    "duration": 97,
    "start_time": "2022-01-12T17:00:23.332Z"
   },
   {
    "duration": 331,
    "start_time": "2022-01-12T17:00:40.867Z"
   },
   {
    "duration": 97,
    "start_time": "2022-01-12T17:00:55.505Z"
   },
   {
    "duration": 75,
    "start_time": "2022-01-12T17:01:18.100Z"
   },
   {
    "duration": 80,
    "start_time": "2022-01-12T17:01:45.410Z"
   },
   {
    "duration": 79,
    "start_time": "2022-01-12T17:02:43.261Z"
   },
   {
    "duration": 324,
    "start_time": "2022-01-12T17:04:10.347Z"
   },
   {
    "duration": 79,
    "start_time": "2022-01-12T17:04:18.248Z"
   },
   {
    "duration": 79,
    "start_time": "2022-01-12T17:04:22.636Z"
   },
   {
    "duration": 705,
    "start_time": "2022-01-12T17:04:37.541Z"
   },
   {
    "duration": 2,
    "start_time": "2022-01-12T17:04:38.248Z"
   },
   {
    "duration": 4,
    "start_time": "2022-01-12T17:04:38.253Z"
   },
   {
    "duration": 27,
    "start_time": "2022-01-12T17:04:38.259Z"
   },
   {
    "duration": 310,
    "start_time": "2022-01-12T17:04:38.287Z"
   },
   {
    "duration": 81,
    "start_time": "2022-01-12T17:04:38.599Z"
   },
   {
    "duration": 118,
    "start_time": "2022-01-12T17:04:38.681Z"
   },
   {
    "duration": 96,
    "start_time": "2022-01-12T17:04:38.800Z"
   },
   {
    "duration": 80,
    "start_time": "2022-01-12T17:04:38.898Z"
   },
   {
    "duration": 82,
    "start_time": "2022-01-12T17:04:38.980Z"
   },
   {
    "duration": 84,
    "start_time": "2022-01-12T17:04:39.064Z"
   },
   {
    "duration": 79,
    "start_time": "2022-01-12T17:04:39.149Z"
   },
   {
    "duration": 83,
    "start_time": "2022-01-12T17:04:39.230Z"
   },
   {
    "duration": 78,
    "start_time": "2022-01-12T17:04:39.315Z"
   }
  ],
  "kernelspec": {
   "display_name": "Python 3",
   "language": "python",
   "name": "python3"
  },
  "language_info": {
   "codemirror_mode": {
    "name": "ipython",
    "version": 3
   },
   "file_extension": ".py",
   "mimetype": "text/x-python",
   "name": "python",
   "nbconvert_exporter": "python",
   "pygments_lexer": "ipython3",
   "version": "3.8.8"
  },
  "toc": {
   "base_numbering": 1,
   "nav_menu": {},
   "number_sections": true,
   "sideBar": true,
   "skip_h1_title": true,
   "title_cell": "Table of Contents",
   "title_sidebar": "Contents",
   "toc_cell": false,
   "toc_position": {},
   "toc_section_display": true,
   "toc_window_display": false
  }
 },
 "nbformat": 4,
 "nbformat_minor": 2
}
